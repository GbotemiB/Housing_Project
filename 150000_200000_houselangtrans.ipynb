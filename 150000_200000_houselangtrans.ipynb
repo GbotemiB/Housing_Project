{
  "cells": [
    {
      "cell_type": "markdown",
      "metadata": {
        "id": "view-in-github",
        "colab_type": "text"
      },
      "source": [
        "<a href=\"https://colab.research.google.com/github/GbotemiB/Housing_Project/blob/main/150000_200000_houselangtrans.ipynb\" target=\"_parent\"><img src=\"https://colab.research.google.com/assets/colab-badge.svg\" alt=\"Open In Colab\"/></a>"
      ]
    },
    {
      "cell_type": "code",
      "execution_count": null,
      "metadata": {
        "id": "HYERxWQf8GUY"
      },
      "outputs": [],
      "source": [
        "# This Python 3 environment comes with many helpful analytics libraries installed\n",
        "# It is defined by the kaggle/python Docker image: https://github.com/kaggle/docker-python\n",
        "# For example, here's several helpful packages to load\n",
        "\n",
        "import numpy as np # linear algebra\n",
        "import pandas as pd # data processing, CSV file I/O (e.g. pd.read_csv)\n",
        "import seaborn as sns\n",
        "import matplotlib.pyplot as plt\n",
        "\n",
        "pd.set_option('display.max_columns', None)\n",
        "#pd.set_option('display.max_rows', None)\n",
        "pd.options.display.float_format = '{:.5f}'.format\n",
        "%matplotlib inline\n",
        "import warnings\n",
        "warnings.filterwarnings('ignore')\n",
        "\n",
        "# Input data files are available in the read-only \"../input/\" directory\n",
        "# For example, running this (by clicking run or pressing Shift+Enter) will list all files under the input directory\n",
        "\n",
        "import os\n",
        "for dirname, _, filenames in os.walk('/kaggle/input'):\n",
        "    for filename in filenames:\n",
        "        print(os.path.join(dirname, filename))\n",
        "        \n",
        "\n",
        "# You can write up to 20GB to the current directory (/kaggle/working/) that gets preserved as output when you create a version using \"Save & Run All\" \n",
        "# You can also write temporary files to /kaggle/temp/, but they won't be saved outside of the current session"
      ]
    },
    {
      "cell_type": "code",
      "execution_count": null,
      "metadata": {
        "id": "WNaBVYb6w4x2",
        "colab": {
          "base_uri": "https://localhost:8080/"
        },
        "outputId": "24eb15d6-4a6c-4769-8a85-56ac47b91dcd"
      },
      "outputs": [
        {
          "output_type": "stream",
          "name": "stdout",
          "text": [
            "Mounted at /content/drive\n"
          ]
        }
      ],
      "source": [
        "from google.colab import drive\n",
        "drive.mount('/content/drive')"
      ]
    },
    {
      "cell_type": "code",
      "execution_count": null,
      "metadata": {
        "colab": {
          "base_uri": "https://localhost:8080/"
        },
        "id": "yS3uPfUF9-bj",
        "outputId": "8fed273b-4ee5-4dcd-c137-06d1adba85ab"
      },
      "outputs": [
        {
          "output_type": "stream",
          "name": "stdout",
          "text": [
            "Requirement already satisfied: kaggle in /usr/local/lib/python3.7/dist-packages (1.5.12)\n",
            "Requirement already satisfied: tqdm in /usr/local/lib/python3.7/dist-packages (from kaggle) (4.63.0)\n",
            "Requirement already satisfied: python-dateutil in /usr/local/lib/python3.7/dist-packages (from kaggle) (2.8.2)\n",
            "Requirement already satisfied: requests in /usr/local/lib/python3.7/dist-packages (from kaggle) (2.23.0)\n",
            "Requirement already satisfied: python-slugify in /usr/local/lib/python3.7/dist-packages (from kaggle) (6.1.1)\n",
            "Requirement already satisfied: six>=1.10 in /usr/local/lib/python3.7/dist-packages (from kaggle) (1.15.0)\n",
            "Requirement already satisfied: certifi in /usr/local/lib/python3.7/dist-packages (from kaggle) (2021.10.8)\n",
            "Requirement already satisfied: urllib3 in /usr/local/lib/python3.7/dist-packages (from kaggle) (1.24.3)\n",
            "Requirement already satisfied: text-unidecode>=1.3 in /usr/local/lib/python3.7/dist-packages (from python-slugify->kaggle) (1.3)\n",
            "Requirement already satisfied: chardet<4,>=3.0.2 in /usr/local/lib/python3.7/dist-packages (from requests->kaggle) (3.0.4)\n",
            "Requirement already satisfied: idna<3,>=2.5 in /usr/local/lib/python3.7/dist-packages (from requests->kaggle) (2.10)\n"
          ]
        }
      ],
      "source": [
        "! pip install kaggle\n",
        "! mkdir ~/.kaggle\n",
        "! cp /content/drive/MyDrive/kaggle.json ~/.kaggle/\n",
        "! chmod 600 ~/.kaggle/kaggle.json"
      ]
    },
    {
      "cell_type": "code",
      "execution_count": null,
      "metadata": {
        "colab": {
          "base_uri": "https://localhost:8080/"
        },
        "id": "0Y8Zx8_L-L6o",
        "outputId": "c297a1d2-d78c-46bd-b880-5a28ab54b5b8"
      },
      "outputs": [
        {
          "output_type": "stream",
          "name": "stdout",
          "text": [
            "Downloading housing-lang-detect.zip to /content\n",
            " 95% 212M/222M [00:08<00:00, 41.3MB/s]\n",
            "100% 222M/222M [00:08<00:00, 28.3MB/s]\n"
          ]
        }
      ],
      "source": [
        "! kaggle datasets download gbotemibolarinwa/housing-lang-detect"
      ]
    },
    {
      "cell_type": "code",
      "execution_count": null,
      "metadata": {
        "colab": {
          "base_uri": "https://localhost:8080/"
        },
        "id": "553kD53s_Esc",
        "outputId": "0e8bf7ee-215e-4f21-a0d7-d6945fcb8d5c"
      },
      "outputs": [
        {
          "output_type": "stream",
          "name": "stdout",
          "text": [
            "Archive:  housing-lang-detect.zip\n",
            "  inflating: housing_lang.csv        \n"
          ]
        }
      ],
      "source": [
        "!unzip housing-lang-detect.zip"
      ]
    },
    {
      "cell_type": "code",
      "execution_count": null,
      "metadata": {
        "id": "_aJavMlf8GUx"
      },
      "outputs": [],
      "source": [
        "#!pip install openpyxl"
      ]
    },
    {
      "cell_type": "code",
      "execution_count": null,
      "metadata": {
        "id": "dGlpDK6O8GU4"
      },
      "outputs": [],
      "source": [
        "data = pd.read_csv('housing_lang.csv')"
      ]
    },
    {
      "cell_type": "code",
      "execution_count": null,
      "metadata": {
        "colab": {
          "base_uri": "https://localhost:8080/",
          "height": 206
        },
        "id": "mr8Nwqv_8GVA",
        "outputId": "0c426a95-4981-4677-d013-fc30287845a4"
      },
      "outputs": [
        {
          "output_type": "execute_result",
          "data": {
            "text/plain": [
              "  Unnamed: 0    adAvailableDate  \\\n",
              "0          0      not available   \n",
              "1          1  nach Vereinbarung   \n",
              "2          2             sofort   \n",
              "3          3             sofort   \n",
              "4          4             sofort   \n",
              "\n",
              "                                       adDescription adLangDetected  \n",
              "0  Appartement avec beaucoup de charme à louer à ...             fr  \n",
              "1  Die Highlights:<br />» Gut geschnittener Büror...             de  \n",
              "2  Für diese Wohnung suchen wir ein nettes Paar (...             de  \n",
              "3  <h3>Chiasso</h3><p><p>Si affitta in pieno a ce...             it  \n",
              "4  Attico mansardato, posto in elegante palazzina...             it  "
            ],
            "text/html": [
              "\n",
              "  <div id=\"df-c0871ca3-7545-4d5e-b1ee-a8215668105e\">\n",
              "    <div class=\"colab-df-container\">\n",
              "      <div>\n",
              "<style scoped>\n",
              "    .dataframe tbody tr th:only-of-type {\n",
              "        vertical-align: middle;\n",
              "    }\n",
              "\n",
              "    .dataframe tbody tr th {\n",
              "        vertical-align: top;\n",
              "    }\n",
              "\n",
              "    .dataframe thead th {\n",
              "        text-align: right;\n",
              "    }\n",
              "</style>\n",
              "<table border=\"1\" class=\"dataframe\">\n",
              "  <thead>\n",
              "    <tr style=\"text-align: right;\">\n",
              "      <th></th>\n",
              "      <th>Unnamed: 0</th>\n",
              "      <th>adAvailableDate</th>\n",
              "      <th>adDescription</th>\n",
              "      <th>adLangDetected</th>\n",
              "    </tr>\n",
              "  </thead>\n",
              "  <tbody>\n",
              "    <tr>\n",
              "      <th>0</th>\n",
              "      <td>0</td>\n",
              "      <td>not available</td>\n",
              "      <td>Appartement avec beaucoup de charme à louer à ...</td>\n",
              "      <td>fr</td>\n",
              "    </tr>\n",
              "    <tr>\n",
              "      <th>1</th>\n",
              "      <td>1</td>\n",
              "      <td>nach Vereinbarung</td>\n",
              "      <td>Die Highlights:&lt;br /&gt;» Gut geschnittener Büror...</td>\n",
              "      <td>de</td>\n",
              "    </tr>\n",
              "    <tr>\n",
              "      <th>2</th>\n",
              "      <td>2</td>\n",
              "      <td>sofort</td>\n",
              "      <td>Für diese Wohnung suchen wir ein nettes Paar (...</td>\n",
              "      <td>de</td>\n",
              "    </tr>\n",
              "    <tr>\n",
              "      <th>3</th>\n",
              "      <td>3</td>\n",
              "      <td>sofort</td>\n",
              "      <td>&lt;h3&gt;Chiasso&lt;/h3&gt;&lt;p&gt;&lt;p&gt;Si affitta in pieno a ce...</td>\n",
              "      <td>it</td>\n",
              "    </tr>\n",
              "    <tr>\n",
              "      <th>4</th>\n",
              "      <td>4</td>\n",
              "      <td>sofort</td>\n",
              "      <td>Attico mansardato, posto in elegante palazzina...</td>\n",
              "      <td>it</td>\n",
              "    </tr>\n",
              "  </tbody>\n",
              "</table>\n",
              "</div>\n",
              "      <button class=\"colab-df-convert\" onclick=\"convertToInteractive('df-c0871ca3-7545-4d5e-b1ee-a8215668105e')\"\n",
              "              title=\"Convert this dataframe to an interactive table.\"\n",
              "              style=\"display:none;\">\n",
              "        \n",
              "  <svg xmlns=\"http://www.w3.org/2000/svg\" height=\"24px\"viewBox=\"0 0 24 24\"\n",
              "       width=\"24px\">\n",
              "    <path d=\"M0 0h24v24H0V0z\" fill=\"none\"/>\n",
              "    <path d=\"M18.56 5.44l.94 2.06.94-2.06 2.06-.94-2.06-.94-.94-2.06-.94 2.06-2.06.94zm-11 1L8.5 8.5l.94-2.06 2.06-.94-2.06-.94L8.5 2.5l-.94 2.06-2.06.94zm10 10l.94 2.06.94-2.06 2.06-.94-2.06-.94-.94-2.06-.94 2.06-2.06.94z\"/><path d=\"M17.41 7.96l-1.37-1.37c-.4-.4-.92-.59-1.43-.59-.52 0-1.04.2-1.43.59L10.3 9.45l-7.72 7.72c-.78.78-.78 2.05 0 2.83L4 21.41c.39.39.9.59 1.41.59.51 0 1.02-.2 1.41-.59l7.78-7.78 2.81-2.81c.8-.78.8-2.07 0-2.86zM5.41 20L4 18.59l7.72-7.72 1.47 1.35L5.41 20z\"/>\n",
              "  </svg>\n",
              "      </button>\n",
              "      \n",
              "  <style>\n",
              "    .colab-df-container {\n",
              "      display:flex;\n",
              "      flex-wrap:wrap;\n",
              "      gap: 12px;\n",
              "    }\n",
              "\n",
              "    .colab-df-convert {\n",
              "      background-color: #E8F0FE;\n",
              "      border: none;\n",
              "      border-radius: 50%;\n",
              "      cursor: pointer;\n",
              "      display: none;\n",
              "      fill: #1967D2;\n",
              "      height: 32px;\n",
              "      padding: 0 0 0 0;\n",
              "      width: 32px;\n",
              "    }\n",
              "\n",
              "    .colab-df-convert:hover {\n",
              "      background-color: #E2EBFA;\n",
              "      box-shadow: 0px 1px 2px rgba(60, 64, 67, 0.3), 0px 1px 3px 1px rgba(60, 64, 67, 0.15);\n",
              "      fill: #174EA6;\n",
              "    }\n",
              "\n",
              "    [theme=dark] .colab-df-convert {\n",
              "      background-color: #3B4455;\n",
              "      fill: #D2E3FC;\n",
              "    }\n",
              "\n",
              "    [theme=dark] .colab-df-convert:hover {\n",
              "      background-color: #434B5C;\n",
              "      box-shadow: 0px 1px 3px 1px rgba(0, 0, 0, 0.15);\n",
              "      filter: drop-shadow(0px 1px 2px rgba(0, 0, 0, 0.3));\n",
              "      fill: #FFFFFF;\n",
              "    }\n",
              "  </style>\n",
              "\n",
              "      <script>\n",
              "        const buttonEl =\n",
              "          document.querySelector('#df-c0871ca3-7545-4d5e-b1ee-a8215668105e button.colab-df-convert');\n",
              "        buttonEl.style.display =\n",
              "          google.colab.kernel.accessAllowed ? 'block' : 'none';\n",
              "\n",
              "        async function convertToInteractive(key) {\n",
              "          const element = document.querySelector('#df-c0871ca3-7545-4d5e-b1ee-a8215668105e');\n",
              "          const dataTable =\n",
              "            await google.colab.kernel.invokeFunction('convertToInteractive',\n",
              "                                                     [key], {});\n",
              "          if (!dataTable) return;\n",
              "\n",
              "          const docLinkHtml = 'Like what you see? Visit the ' +\n",
              "            '<a target=\"_blank\" href=https://colab.research.google.com/notebooks/data_table.ipynb>data table notebook</a>'\n",
              "            + ' to learn more about interactive tables.';\n",
              "          element.innerHTML = '';\n",
              "          dataTable['output_type'] = 'display_data';\n",
              "          await google.colab.output.renderOutput(dataTable, element);\n",
              "          const docLink = document.createElement('div');\n",
              "          docLink.innerHTML = docLinkHtml;\n",
              "          element.appendChild(docLink);\n",
              "        }\n",
              "      </script>\n",
              "    </div>\n",
              "  </div>\n",
              "  "
            ]
          },
          "metadata": {},
          "execution_count": 8
        }
      ],
      "source": [
        "data.head()\n"
      ]
    },
    {
      "cell_type": "code",
      "execution_count": null,
      "metadata": {
        "id": "c-JPFzxK8GVI"
      },
      "outputs": [],
      "source": [
        "data.rename(columns = {'Unnamed: 0':'id'}, inplace=True)"
      ]
    },
    {
      "cell_type": "code",
      "execution_count": null,
      "metadata": {
        "colab": {
          "base_uri": "https://localhost:8080/",
          "height": 206
        },
        "id": "K6jLi50N8GVO",
        "outputId": "e2a691a0-4477-43e9-eb04-2b931dd3225b"
      },
      "outputs": [
        {
          "output_type": "execute_result",
          "data": {
            "text/plain": [
              "  id    adAvailableDate                                      adDescription  \\\n",
              "0  0      not available  Appartement avec beaucoup de charme à louer à ...   \n",
              "1  1  nach Vereinbarung  Die Highlights:<br />» Gut geschnittener Büror...   \n",
              "2  2             sofort  Für diese Wohnung suchen wir ein nettes Paar (...   \n",
              "3  3             sofort  <h3>Chiasso</h3><p><p>Si affitta in pieno a ce...   \n",
              "4  4             sofort  Attico mansardato, posto in elegante palazzina...   \n",
              "\n",
              "  adLangDetected  \n",
              "0             fr  \n",
              "1             de  \n",
              "2             de  \n",
              "3             it  \n",
              "4             it  "
            ],
            "text/html": [
              "\n",
              "  <div id=\"df-057308da-4c96-4793-a939-dfca0453ff79\">\n",
              "    <div class=\"colab-df-container\">\n",
              "      <div>\n",
              "<style scoped>\n",
              "    .dataframe tbody tr th:only-of-type {\n",
              "        vertical-align: middle;\n",
              "    }\n",
              "\n",
              "    .dataframe tbody tr th {\n",
              "        vertical-align: top;\n",
              "    }\n",
              "\n",
              "    .dataframe thead th {\n",
              "        text-align: right;\n",
              "    }\n",
              "</style>\n",
              "<table border=\"1\" class=\"dataframe\">\n",
              "  <thead>\n",
              "    <tr style=\"text-align: right;\">\n",
              "      <th></th>\n",
              "      <th>id</th>\n",
              "      <th>adAvailableDate</th>\n",
              "      <th>adDescription</th>\n",
              "      <th>adLangDetected</th>\n",
              "    </tr>\n",
              "  </thead>\n",
              "  <tbody>\n",
              "    <tr>\n",
              "      <th>0</th>\n",
              "      <td>0</td>\n",
              "      <td>not available</td>\n",
              "      <td>Appartement avec beaucoup de charme à louer à ...</td>\n",
              "      <td>fr</td>\n",
              "    </tr>\n",
              "    <tr>\n",
              "      <th>1</th>\n",
              "      <td>1</td>\n",
              "      <td>nach Vereinbarung</td>\n",
              "      <td>Die Highlights:&lt;br /&gt;» Gut geschnittener Büror...</td>\n",
              "      <td>de</td>\n",
              "    </tr>\n",
              "    <tr>\n",
              "      <th>2</th>\n",
              "      <td>2</td>\n",
              "      <td>sofort</td>\n",
              "      <td>Für diese Wohnung suchen wir ein nettes Paar (...</td>\n",
              "      <td>de</td>\n",
              "    </tr>\n",
              "    <tr>\n",
              "      <th>3</th>\n",
              "      <td>3</td>\n",
              "      <td>sofort</td>\n",
              "      <td>&lt;h3&gt;Chiasso&lt;/h3&gt;&lt;p&gt;&lt;p&gt;Si affitta in pieno a ce...</td>\n",
              "      <td>it</td>\n",
              "    </tr>\n",
              "    <tr>\n",
              "      <th>4</th>\n",
              "      <td>4</td>\n",
              "      <td>sofort</td>\n",
              "      <td>Attico mansardato, posto in elegante palazzina...</td>\n",
              "      <td>it</td>\n",
              "    </tr>\n",
              "  </tbody>\n",
              "</table>\n",
              "</div>\n",
              "      <button class=\"colab-df-convert\" onclick=\"convertToInteractive('df-057308da-4c96-4793-a939-dfca0453ff79')\"\n",
              "              title=\"Convert this dataframe to an interactive table.\"\n",
              "              style=\"display:none;\">\n",
              "        \n",
              "  <svg xmlns=\"http://www.w3.org/2000/svg\" height=\"24px\"viewBox=\"0 0 24 24\"\n",
              "       width=\"24px\">\n",
              "    <path d=\"M0 0h24v24H0V0z\" fill=\"none\"/>\n",
              "    <path d=\"M18.56 5.44l.94 2.06.94-2.06 2.06-.94-2.06-.94-.94-2.06-.94 2.06-2.06.94zm-11 1L8.5 8.5l.94-2.06 2.06-.94-2.06-.94L8.5 2.5l-.94 2.06-2.06.94zm10 10l.94 2.06.94-2.06 2.06-.94-2.06-.94-.94-2.06-.94 2.06-2.06.94z\"/><path d=\"M17.41 7.96l-1.37-1.37c-.4-.4-.92-.59-1.43-.59-.52 0-1.04.2-1.43.59L10.3 9.45l-7.72 7.72c-.78.78-.78 2.05 0 2.83L4 21.41c.39.39.9.59 1.41.59.51 0 1.02-.2 1.41-.59l7.78-7.78 2.81-2.81c.8-.78.8-2.07 0-2.86zM5.41 20L4 18.59l7.72-7.72 1.47 1.35L5.41 20z\"/>\n",
              "  </svg>\n",
              "      </button>\n",
              "      \n",
              "  <style>\n",
              "    .colab-df-container {\n",
              "      display:flex;\n",
              "      flex-wrap:wrap;\n",
              "      gap: 12px;\n",
              "    }\n",
              "\n",
              "    .colab-df-convert {\n",
              "      background-color: #E8F0FE;\n",
              "      border: none;\n",
              "      border-radius: 50%;\n",
              "      cursor: pointer;\n",
              "      display: none;\n",
              "      fill: #1967D2;\n",
              "      height: 32px;\n",
              "      padding: 0 0 0 0;\n",
              "      width: 32px;\n",
              "    }\n",
              "\n",
              "    .colab-df-convert:hover {\n",
              "      background-color: #E2EBFA;\n",
              "      box-shadow: 0px 1px 2px rgba(60, 64, 67, 0.3), 0px 1px 3px 1px rgba(60, 64, 67, 0.15);\n",
              "      fill: #174EA6;\n",
              "    }\n",
              "\n",
              "    [theme=dark] .colab-df-convert {\n",
              "      background-color: #3B4455;\n",
              "      fill: #D2E3FC;\n",
              "    }\n",
              "\n",
              "    [theme=dark] .colab-df-convert:hover {\n",
              "      background-color: #434B5C;\n",
              "      box-shadow: 0px 1px 3px 1px rgba(0, 0, 0, 0.15);\n",
              "      filter: drop-shadow(0px 1px 2px rgba(0, 0, 0, 0.3));\n",
              "      fill: #FFFFFF;\n",
              "    }\n",
              "  </style>\n",
              "\n",
              "      <script>\n",
              "        const buttonEl =\n",
              "          document.querySelector('#df-057308da-4c96-4793-a939-dfca0453ff79 button.colab-df-convert');\n",
              "        buttonEl.style.display =\n",
              "          google.colab.kernel.accessAllowed ? 'block' : 'none';\n",
              "\n",
              "        async function convertToInteractive(key) {\n",
              "          const element = document.querySelector('#df-057308da-4c96-4793-a939-dfca0453ff79');\n",
              "          const dataTable =\n",
              "            await google.colab.kernel.invokeFunction('convertToInteractive',\n",
              "                                                     [key], {});\n",
              "          if (!dataTable) return;\n",
              "\n",
              "          const docLinkHtml = 'Like what you see? Visit the ' +\n",
              "            '<a target=\"_blank\" href=https://colab.research.google.com/notebooks/data_table.ipynb>data table notebook</a>'\n",
              "            + ' to learn more about interactive tables.';\n",
              "          element.innerHTML = '';\n",
              "          dataTable['output_type'] = 'display_data';\n",
              "          await google.colab.output.renderOutput(dataTable, element);\n",
              "          const docLink = document.createElement('div');\n",
              "          docLink.innerHTML = docLinkHtml;\n",
              "          element.appendChild(docLink);\n",
              "        }\n",
              "      </script>\n",
              "    </div>\n",
              "  </div>\n",
              "  "
            ]
          },
          "metadata": {},
          "execution_count": 10
        }
      ],
      "source": [
        "data.head()"
      ]
    },
    {
      "cell_type": "code",
      "execution_count": null,
      "metadata": {
        "colab": {
          "base_uri": "https://localhost:8080/"
        },
        "id": "7804iar18GVT",
        "outputId": "77ac8341-6269-4ebd-8bc2-13026ddf7789"
      },
      "outputs": [
        {
          "output_type": "execute_result",
          "data": {
            "text/plain": [
              "id                     0\n",
              "adAvailableDate    19645\n",
              "adDescription      28001\n",
              "adLangDetected     28913\n",
              "dtype: int64"
            ]
          },
          "metadata": {},
          "execution_count": 11
        }
      ],
      "source": [
        "#there seems to be some missing values \n",
        "data.isnull().sum()"
      ]
    },
    {
      "cell_type": "code",
      "execution_count": null,
      "metadata": {
        "id": "-i_EecIZ8GVY"
      },
      "outputs": [],
      "source": [
        ""
      ]
    },
    {
      "cell_type": "code",
      "execution_count": null,
      "metadata": {
        "colab": {
          "base_uri": "https://localhost:8080/",
          "height": 609
        },
        "id": "zP7TCrkZ8GVd",
        "outputId": "27c1722f-26f6-436c-e4cc-73c839eb0587"
      },
      "outputs": [
        {
          "output_type": "display_data",
          "data": {
            "text/plain": [
              "<Figure size 648x720 with 1 Axes>"
            ],
            "image/png": "[encoded data removed]"
          },
          "metadata": {
            "needs_background": "light"
          }
        }
      ],
      "source": [
        "ax = data.isna().sum().sort_values().plot(kind = 'barh', figsize = (9, 10))\n",
        "plt.title('Percentage of Missing Values Per Column Dataset', fontdict={'size':15})\n",
        "for p in ax.patches:\n",
        "    percentage ='{:,.0f}%'.format((p.get_width()/data.shape[0])*100)\n",
        "    width, height =p.get_width(),p.get_height()\n",
        "    x=p.get_x()+width+0.02\n",
        "    y=p.get_y()+height/2\n",
        "    ax.annotate(percentage,(x,y))"
      ]
    },
    {
      "cell_type": "code",
      "execution_count": null,
      "metadata": {
        "colab": {
          "base_uri": "https://localhost:8080/"
        },
        "id": "UBNAPxpO8GVo",
        "outputId": "192e6d8d-83f0-4183-f441-495565f0e5c5"
      },
      "outputs": [
        {
          "output_type": "execute_result",
          "data": {
            "text/plain": [
              "Index(['id', 'adAvailableDate', 'adDescription', 'adLangDetected'], dtype='object')"
            ]
          },
          "metadata": {},
          "execution_count": 13
        }
      ],
      "source": [
        "data.columns"
      ]
    },
    {
      "cell_type": "code",
      "execution_count": null,
      "metadata": {
        "id": "YSv2S5eO8GVt"
      },
      "outputs": [],
      "source": [
        "langDetected, Description, AvailableData = data['adAvailableDate'], data['adDescription'], data['adLangDetected']"
      ]
    },
    {
      "cell_type": "code",
      "execution_count": null,
      "metadata": {
        "colab": {
          "base_uri": "https://localhost:8080/"
        },
        "id": "3Y9281bl8GVx",
        "outputId": "ab3e1903-8ddb-4a9c-fec4-1a1116ea5656"
      },
      "outputs": [
        {
          "output_type": "execute_result",
          "data": {
            "text/plain": [
              "606948"
            ]
          },
          "metadata": {},
          "execution_count": 15
        }
      ],
      "source": [
        "len(Description)"
      ]
    },
    {
      "cell_type": "code",
      "execution_count": null,
      "metadata": {
        "colab": {
          "base_uri": "https://localhost:8080/"
        },
        "id": "v6TyWDK38GV1",
        "outputId": "6903ed74-e822-4425-8cc5-4ff15bbfa8cc"
      },
      "outputs": [
        {
          "output_type": "execute_result",
          "data": {
            "text/plain": [
              "adLangDetected     28913\n",
              "adDescription      28001\n",
              "adAvailableDate    19645\n",
              "id                     0\n",
              "dtype: int64"
            ]
          },
          "metadata": {},
          "execution_count": 16
        }
      ],
      "source": [
        "data.isna().sum().sort_values(ascending=False)"
      ]
    },
    {
      "cell_type": "code",
      "execution_count": null,
      "metadata": {
        "colab": {
          "base_uri": "https://localhost:8080/",
          "height": 35
        },
        "id": "A6ZCJ14h8GV5",
        "outputId": "71596117-6ed2-41b5-e694-900245e048cb"
      },
      "outputs": [
        {
          "output_type": "execute_result",
          "data": {
            "text/plain": [
              "'None'"
            ],
            "application/vnd.google.colaboratory.intrinsic+json": {
              "type": "string"
            }
          },
          "metadata": {},
          "execution_count": 17
        }
      ],
      "source": [
        "data['adDescription'][58]"
      ]
    },
    {
      "cell_type": "code",
      "execution_count": null,
      "metadata": {
        "id": "qOj6390X8GV7"
      },
      "outputs": [],
      "source": [
        "data['adDescription'] = data['adDescription'].replace('None', np.nan)"
      ]
    },
    {
      "cell_type": "code",
      "execution_count": null,
      "metadata": {
        "id": "ovdSClbI8GV8"
      },
      "outputs": [],
      "source": [
        "data = data.dropna(axis=0)"
      ]
    },
    {
      "cell_type": "code",
      "execution_count": null,
      "metadata": {
        "id": "UzUYtmfg8GV_"
      },
      "outputs": [],
      "source": [
        "data.reset_index(drop=True, inplace=True)"
      ]
    },
    {
      "cell_type": "code",
      "execution_count": null,
      "metadata": {
        "colab": {
          "base_uri": "https://localhost:8080/",
          "height": 69
        },
        "id": "6m7_xwEP8GWB",
        "outputId": "66548b5f-1020-4f14-f79b-e8c2a4a11aba"
      },
      "outputs": [
        {
          "output_type": "execute_result",
          "data": {
            "text/plain": [
              "\"data['adDescription'] = data['adDescription'].replace('<br />', ' ')\\ndata['adDescription'] = data['adDescription'].replace('<h3>', ' ')\\ndata['adDescription'] = data['adDescription'].replace('</h3>',' ')\\ndata['adDescription'] = data['adDescription'].replace('</p>', ' ')\\ndata['adDescription'] = data['adDescription'].replace('<p>', ' ')\\ndata['adDescription'] = data['adDescription'].replace('<strong>', ' ')\\ndata['adDescription'] = data['adDescription'].replace('</trong>', ' ')\""
            ],
            "application/vnd.google.colaboratory.intrinsic+json": {
              "type": "string"
            }
          },
          "metadata": {},
          "execution_count": 21
        }
      ],
      "source": [
        "\n",
        "\"\"\"data['adDescription'] = data['adDescription'].replace('<br />', ' ')\n",
        "data['adDescription'] = data['adDescription'].replace('<h3>', ' ')\n",
        "data['adDescription'] = data['adDescription'].replace('</h3>',' ')\n",
        "data['adDescription'] = data['adDescription'].replace('</p>', ' ')\n",
        "data['adDescription'] = data['adDescription'].replace('<p>', ' ')\n",
        "data['adDescription'] = data['adDescription'].replace('<strong>', ' ')\n",
        "data['adDescription'] = data['adDescription'].replace('</trong>', ' ')\"\"\""
      ]
    },
    {
      "cell_type": "code",
      "execution_count": null,
      "metadata": {
        "id": "AmkeD7_l8GWF"
      },
      "outputs": [],
      "source": [
        "import re\n",
        "\n",
        "CLEANR = re.compile('<.*?>')\n",
        "\n",
        "def cleanhtml(rawhtml):\n",
        "    cleantext = re.sub(CLEANR, '', rawhtml)\n",
        "    cleantext = re.sub(r'http\\S+', '', cleantext)\n",
        "    return cleantext\n",
        "    "
      ]
    },
    {
      "cell_type": "code",
      "execution_count": null,
      "metadata": {
        "colab": {
          "base_uri": "https://localhost:8080/",
          "height": 35
        },
        "id": "KRXSDgmP8GWI",
        "outputId": "8934aba4-b22b-4c20-cdd6-d9549fc73301"
      },
      "outputs": [
        {
          "output_type": "execute_result",
          "data": {
            "text/plain": [
              "'Une place de parc intérieure dans un parking souterrain pour un loyer mensuel de Fr. 120.00.<br /><br/>Disponible de suite.'"
            ],
            "application/vnd.google.colaboratory.intrinsic+json": {
              "type": "string"
            }
          },
          "metadata": {},
          "execution_count": 23
        }
      ],
      "source": [
        "x = data['adDescription'][71]\n",
        "x"
      ]
    },
    {
      "cell_type": "code",
      "execution_count": null,
      "metadata": {
        "colab": {
          "base_uri": "https://localhost:8080/",
          "height": 35
        },
        "id": "OtiUvGvC8GWK",
        "outputId": "ed96588c-1d38-430d-aa08-9f37a75c7827"
      },
      "outputs": [
        {
          "output_type": "execute_result",
          "data": {
            "text/plain": [
              "'Une place de parc intérieure dans un parking souterrain pour un loyer mensuel de Fr. 120.00.Disponible de suite.'"
            ],
            "application/vnd.google.colaboratory.intrinsic+json": {
              "type": "string"
            }
          },
          "metadata": {},
          "execution_count": 24
        }
      ],
      "source": [
        "cleanhtml(x)"
      ]
    },
    {
      "cell_type": "code",
      "execution_count": null,
      "metadata": {
        "colab": {
          "base_uri": "https://localhost:8080/"
        },
        "id": "iRCJZv8e8GWN",
        "outputId": "5f639186-e392-4402-83f1-3049ab25e7c5"
      },
      "outputs": [
        {
          "output_type": "execute_result",
          "data": {
            "text/plain": [
              "str"
            ]
          },
          "metadata": {},
          "execution_count": 25
        }
      ],
      "source": [
        "type(data['adDescription'][1])"
      ]
    },
    {
      "cell_type": "code",
      "execution_count": null,
      "metadata": {
        "id": "M8shRgNc8GWO"
      },
      "outputs": [],
      "source": [
        "data['adDescription'] = data['adDescription'].apply(lambda x: cleanhtml(x))"
      ]
    },
    {
      "cell_type": "code",
      "execution_count": null,
      "metadata": {
        "colab": {
          "base_uri": "https://localhost:8080/",
          "height": 35
        },
        "id": "mHOi96hm8GWR",
        "outputId": "5ff7f6ae-b9c2-4fa0-a052-49053f81782f"
      },
      "outputs": [
        {
          "output_type": "execute_result",
          "data": {
            "text/plain": [
              "'Une place de parc intérieure dans un parking souterrain pour un loyer mensuel de Fr. 120.00.Disponible de suite.'"
            ],
            "application/vnd.google.colaboratory.intrinsic+json": {
              "type": "string"
            }
          },
          "metadata": {},
          "execution_count": 27
        }
      ],
      "source": [
        "data['adDescription'][71]"
      ]
    },
    {
      "cell_type": "code",
      "execution_count": null,
      "metadata": {
        "id": "HFGoHBnZ8GWU"
      },
      "outputs": [],
      "source": [
        "#TODO\n",
        "#resolve how to handle missing data"
      ]
    },
    {
      "cell_type": "code",
      "execution_count": null,
      "metadata": {
        "colab": {
          "base_uri": "https://localhost:8080/"
        },
        "id": "TGqYZITT8GWW",
        "outputId": "2d1f406f-1aa2-4aaa-a250-89f414f7e43e"
      },
      "outputs": [
        {
          "output_type": "execute_result",
          "data": {
            "text/plain": [
              "['fr', 'de', 'it', 'en']"
            ]
          },
          "metadata": {},
          "execution_count": 29
        }
      ],
      "source": [
        "languages = list(data['adLangDetected'].unique())\n",
        "languages"
      ]
    },
    {
      "cell_type": "code",
      "execution_count": null,
      "metadata": {
        "id": "8q9lougG8GWY"
      },
      "outputs": [],
      "source": [
        "#languages.pop(4)\n"
      ]
    },
    {
      "cell_type": "code",
      "execution_count": null,
      "metadata": {
        "colab": {
          "base_uri": "https://localhost:8080/"
        },
        "id": "2rJGXRVM8GWb",
        "outputId": "600383d4-169b-40fb-af97-3607e9d5a903"
      },
      "outputs": [
        {
          "output_type": "execute_result",
          "data": {
            "text/plain": [
              "['fr', 'de', 'it', 'en']"
            ]
          },
          "metadata": {},
          "execution_count": 31
        }
      ],
      "source": [
        "languages"
      ]
    },
    {
      "cell_type": "code",
      "execution_count": null,
      "metadata": {
        "id": "3MUW-5uo8GWd"
      },
      "outputs": [],
      "source": [
        "#drop missing data\n",
        "#data.dropna(axis=0, inplace=True)"
      ]
    },
    {
      "cell_type": "code",
      "execution_count": null,
      "metadata": {
        "colab": {
          "base_uri": "https://localhost:8080/"
        },
        "id": "BAXLN-gq8GWf",
        "outputId": "d5983ee6-9e34-4438-a889-4efe95643f97"
      },
      "outputs": [
        {
          "output_type": "execute_result",
          "data": {
            "text/plain": [
              "(562393, 4)"
            ]
          },
          "metadata": {},
          "execution_count": 33
        }
      ],
      "source": [
        "data.shape"
      ]
    },
    {
      "cell_type": "code",
      "execution_count": null,
      "metadata": {
        "id": "xECE3Czf8GWh"
      },
      "outputs": [],
      "source": [
        ""
      ]
    },
    {
      "cell_type": "markdown",
      "metadata": {
        "id": "GW2qOJ1W8GWk"
      },
      "source": [
        "# Installing library for detecting language"
      ]
    },
    {
      "cell_type": "code",
      "execution_count": null,
      "metadata": {
        "id": "Ryzc6Unh8GWq"
      },
      "outputs": [],
      "source": [
        "#!pip install langdetect"
      ]
    },
    {
      "cell_type": "markdown",
      "metadata": {
        "id": "cne1_igo8GWs"
      },
      "source": [
        "## Google api for translating "
      ]
    },
    {
      "cell_type": "code",
      "execution_count": null,
      "metadata": {
        "id": "2HI4LcpU8GWv"
      },
      "outputs": [],
      "source": [
        "data['transDescription'] = 0"
      ]
    },
    {
      "cell_type": "code",
      "execution_count": null,
      "metadata": {
        "colab": {
          "base_uri": "https://localhost:8080/"
        },
        "id": "KhSiLYlN8GWz",
        "outputId": "873a3f9a-a787-4482-8ead-97a0725c9c09"
      },
      "outputs": [
        {
          "output_type": "execute_result",
          "data": {
            "text/plain": [
              "0    Appartement avec beaucoup de charme à louer à ...\n",
              "1    Die Highlights:» Gut geschnittener Büroraum in...\n",
              "2    Für diese Wohnung suchen wir ein nettes Paar (...\n",
              "3    ChiassoSi affitta in pieno a centro a Chiasso,...\n",
              "4    Attico mansardato, posto in elegante palazzina...\n",
              "Name: adDescription, dtype: object"
            ]
          },
          "metadata": {},
          "execution_count": 36
        }
      ],
      "source": [
        "data['adDescription'][:5]"
      ]
    },
    {
      "cell_type": "code",
      "execution_count": null,
      "metadata": {
        "colab": {
          "base_uri": "https://localhost:8080/"
        },
        "id": "WPMIufg58GW1",
        "outputId": "8610c8a2-5ee7-44a7-f13c-2edad1dae54c"
      },
      "outputs": [
        {
          "output_type": "stream",
          "name": "stdout",
          "text": [
            "Collecting deep-translator\n",
            "  Downloading deep_translator-1.8.3-py3-none-any.whl (29 kB)\n",
            "Collecting beautifulsoup4<5.0.0,>=4.9.1\n",
            "  Downloading beautifulsoup4-4.10.0-py3-none-any.whl (97 kB)\n",
            "\u001b[K     |████████████████████████████████| 97 kB 2.8 MB/s \n",
            "\u001b[?25hRequirement already satisfied: requests<3.0.0,>=2.23.0 in /usr/local/lib/python3.7/dist-packages (from deep-translator) (2.23.0)\n",
            "Requirement already satisfied: soupsieve>1.2 in /usr/local/lib/python3.7/dist-packages (from beautifulsoup4<5.0.0,>=4.9.1->deep-translator) (2.3.1)\n",
            "Requirement already satisfied: chardet<4,>=3.0.2 in /usr/local/lib/python3.7/dist-packages (from requests<3.0.0,>=2.23.0->deep-translator) (3.0.4)\n",
            "Requirement already satisfied: idna<3,>=2.5 in /usr/local/lib/python3.7/dist-packages (from requests<3.0.0,>=2.23.0->deep-translator) (2.10)\n",
            "Requirement already satisfied: certifi>=2017.4.17 in /usr/local/lib/python3.7/dist-packages (from requests<3.0.0,>=2.23.0->deep-translator) (2021.10.8)\n",
            "Requirement already satisfied: urllib3!=1.25.0,!=1.25.1,<1.26,>=1.21.1 in /usr/local/lib/python3.7/dist-packages (from requests<3.0.0,>=2.23.0->deep-translator) (1.24.3)\n",
            "Installing collected packages: beautifulsoup4, deep-translator\n",
            "  Attempting uninstall: beautifulsoup4\n",
            "    Found existing installation: beautifulsoup4 4.6.3\n",
            "    Uninstalling beautifulsoup4-4.6.3:\n",
            "      Successfully uninstalled beautifulsoup4-4.6.3\n",
            "Successfully installed beautifulsoup4-4.10.0 deep-translator-1.8.3\n"
          ]
        }
      ],
      "source": [
        "!pip install -U deep-translator"
      ]
    },
    {
      "cell_type": "code",
      "execution_count": null,
      "metadata": {
        "id": "vgaa_8218GW2"
      },
      "outputs": [],
      "source": [
        "from deep_translator import GoogleTranslator\n",
        "#translated = GoogleTranslator(source=y, target='en')\n",
        "#translate = translated.translate(x)\n",
        "#translate"
      ]
    },
    {
      "cell_type": "code",
      "execution_count": null,
      "metadata": {
        "id": "Q4Ryxi-y8GW6"
      },
      "outputs": [],
      "source": [
        "late = GoogleTranslator(source='auto', target='en')"
      ]
    },
    {
      "cell_type": "code",
      "execution_count": null,
      "metadata": {
        "id": "TZvu8OwX8GW9"
      },
      "outputs": [],
      "source": [
        "def translate(text):\n",
        "    trans = GoogleTranslator(source='auto', target='en').translate(text)\n",
        "    return trans"
      ]
    },
    {
      "cell_type": "code",
      "execution_count": null,
      "metadata": {
        "colab": {
          "base_uri": "https://localhost:8080/",
          "height": 35
        },
        "id": "SAIs44ou8GXF",
        "outputId": "72e7eaa1-b940-498a-a407-57191d0458e7"
      },
      "outputs": [
        {
          "output_type": "execute_result",
          "data": {
            "text/plain": [
              "'An indoor parking space in an underground car park for a monthly rent of Fr. 120.00.<br /><br/>Available immediately.'"
            ],
            "application/vnd.google.colaboratory.intrinsic+json": {
              "type": "string"
            }
          },
          "metadata": {},
          "execution_count": 41
        }
      ],
      "source": [
        "translate(x)"
      ]
    },
    {
      "cell_type": "code",
      "execution_count": null,
      "metadata": {
        "id": "yu47oWKD8GXJ"
      },
      "outputs": [],
      "source": [
        "#data.reset_index(drop=True, inplace=True)"
      ]
    },
    {
      "cell_type": "code",
      "execution_count": null,
      "metadata": {
        "colab": {
          "base_uri": "https://localhost:8080/"
        },
        "id": "8gVx1J_M8GXK",
        "outputId": "b20a3486-76f1-4e6e-faa4-9a254607fb9a"
      },
      "outputs": [
        {
          "output_type": "execute_result",
          "data": {
            "text/plain": [
              "463       Belle surface commerciale d'environ 57m2 situé...\n",
              "464       Bellissimo Appartamento 2.5 locali ultimo pian...\n",
              "465       Immeuble situé à deux pas de la gare CFF et du...\n",
              "466       In Otelfingen vermieten wir an ruhiger Lage pe...\n",
              "467       LageDornacherstrasse - Altbauträume werden wah...\n",
              "                                ...                        \n",
              "562388    MinusioAffittiamo in Casa Francesca a Minusio ...\n",
              "562389    La société Shifters déménage, besoin de plus d...\n",
              "562390    L'appartement se situe au centre de la commune...\n",
              "562391    Avec un grand potentiel - lumineux avec un emp...\n",
              "562392    Die Wohnung verfügt über eine offene Küche mit...\n",
              "Name: adDescription, Length: 561930, dtype: object"
            ]
          },
          "metadata": {},
          "execution_count": 43
        }
      ],
      "source": [
        "data['adDescription'][463:]"
      ]
    },
    {
      "cell_type": "code",
      "execution_count": null,
      "metadata": {
        "colab": {
          "base_uri": "https://localhost:8080/",
          "height": 123
        },
        "id": "DqxSk6c88GXM",
        "outputId": "9d4387bc-3ec6-4f74-efe7-8793980ff473"
      },
      "outputs": [
        {
          "output_type": "execute_result",
          "data": {
            "text/plain": [
              "'Die Highlights:» Gut geschnittener Büroraum in einer gepflegten Liegenschaft» Ansprechende Büroraum mit 145 m2 » WC-Anlage zur Mitbenutzung » Verkehrsgünstige Lage » Hervorragender Anschluss an den öffentlichen VerkehrDie zusätzlichen Möglichkeiten:» Einstellplätze (à CHF 180.00 pro Monat)Die Lage:Die Liegenschaft befindet sich im Kreis 7 in Zürich und bietet Ihnen alle Annehmlichkeiten einer Grossstadt. Hervorzuheben sind die vielfältigen kulturellen Einrichtungen und die Möglichkeit, zahlreichen Freizeitaktivitäten nachzugehen. Die Infrastruktur:In unmittelbarer Nähe befinden sich Einkaufsmöglichkeiten (Denner, Coop, etc.), Restaurants, Detailhändler und das Schulhaus Langmatt (Primarschule & Kindergarten). Zum Zürichsee sind es weniger als 2.5 km.Die Verkehrsanbindung:Direkt vor der Türe finden Sie eine Bushaltestelle. Mit der Tram 11 gelangen Sie von der Haltestelle Balgrist rasch in das Zentrum von Zürich. Der nächste Autobahnanschluss auf die A52 ist circa 4 km entfernt. Zum Flughafen sind es circa 15 km, den Bahnhof Zürich mit einer Vielzahl an nationalen und internationalen Verbindungen erreichen Sie in weniger als 20 Minuten mit den öffentlichen Verkehrsmitteln. Vereinbaren Sie noch heute einen individuellen Besichtigungstermin, um sich von den Vorteilen dieses Mietobjektes zu überzeugen. Wir freuen uns auf Sie!'"
            ],
            "application/vnd.google.colaboratory.intrinsic+json": {
              "type": "string"
            }
          },
          "metadata": {},
          "execution_count": 44
        }
      ],
      "source": [
        "(data['adDescription'][1])"
      ]
    },
    {
      "cell_type": "code",
      "execution_count": null,
      "metadata": {
        "colab": {
          "base_uri": "https://localhost:8080/"
        },
        "id": "dpsLVt4G8GXO",
        "outputId": "38ac29d5-b5c3-45d0-86e1-e181e0b0dd8d"
      },
      "outputs": [
        {
          "output_type": "execute_result",
          "data": {
            "text/plain": [
              "('Appartement dans immeuble récent dans quartier calme. A 2 minutes a pieds de la gare et 5 du centre ville. 1 parking sous-terrains inclus.2 grands balcons. Cuisine ouverte tout équipée. Salon et séparé pour table a mangéSalle de bain équipée de baignoire et douche. Armoires murales. 2 chambres avec accès aux balcons.Cave privée. Buanderie et réduit a vélo communautaire.',\n",
              " 'fr')"
            ]
          },
          "metadata": {},
          "execution_count": 45
        }
      ],
      "source": [
        "x, y = data['adDescription'][59], data['adLangDetected'][59]\n",
        "x, y"
      ]
    },
    {
      "cell_type": "code",
      "execution_count": null,
      "metadata": {
        "colab": {
          "base_uri": "https://localhost:8080/",
          "height": 52
        },
        "id": "4L_R77vt8GXQ",
        "outputId": "d4987b88-4728-4528-d34f-b32128837082"
      },
      "outputs": [
        {
          "output_type": "execute_result",
          "data": {
            "text/plain": [
              "'Apartment in a recent building in a quiet area. 2 minutes walk from the train station and 5 from the city center. 1 underground parking included. 2 large balconies. Fully equipped open kitchen. Living room and separate dining tableBathroom with bath and shower. Wall cabinets. 2 bedrooms with access to balconies. Private cellar. Laundry room and community bike store.'"
            ],
            "application/vnd.google.colaboratory.intrinsic+json": {
              "type": "string"
            }
          },
          "metadata": {},
          "execution_count": 46
        }
      ],
      "source": [
        "translate(x)"
      ]
    },
    {
      "cell_type": "code",
      "execution_count": null,
      "metadata": {
        "id": "q2W4Rzds8GXS"
      },
      "outputs": [],
      "source": [
        "data['transDescription'] = str('null')"
      ]
    },
    {
      "cell_type": "code",
      "execution_count": null,
      "metadata": {
        "colab": {
          "base_uri": "https://localhost:8080/"
        },
        "id": "YkgtN-2y8GXV",
        "outputId": "b281af02-2d46-4ce1-a3d1-aa2201a65954"
      },
      "outputs": [
        {
          "output_type": "execute_result",
          "data": {
            "text/plain": [
              "0         null\n",
              "1         null\n",
              "2         null\n",
              "3         null\n",
              "4         null\n",
              "          ... \n",
              "562388    null\n",
              "562389    null\n",
              "562390    null\n",
              "562391    null\n",
              "562392    null\n",
              "Name: transDescription, Length: 562393, dtype: object"
            ]
          },
          "metadata": {},
          "execution_count": 48
        }
      ],
      "source": [
        "data['transDescription']"
      ]
    },
    {
      "cell_type": "code",
      "execution_count": null,
      "metadata": {
        "colab": {
          "base_uri": "https://localhost:8080/",
          "height": 81
        },
        "id": "B5exvgZ3JZ9n",
        "outputId": "c6c51bc4-68a6-4202-e690-dee75e529566"
      },
      "outputs": [
        {
          "output_type": "execute_result",
          "data": {
            "text/plain": [
              "  id    adAvailableDate                                      adDescription  \\\n",
              "1  1  nach Vereinbarung  Die Highlights:» Gut geschnittener Büroraum in...   \n",
              "\n",
              "  adLangDetected transDescription  \n",
              "1             de             null  "
            ],
            "text/html": [
              "\n",
              "  <div id=\"df-8b631a82-e498-4c70-8033-ada56698b83b\">\n",
              "    <div class=\"colab-df-container\">\n",
              "      <div>\n",
              "<style scoped>\n",
              "    .dataframe tbody tr th:only-of-type {\n",
              "        vertical-align: middle;\n",
              "    }\n",
              "\n",
              "    .dataframe tbody tr th {\n",
              "        vertical-align: top;\n",
              "    }\n",
              "\n",
              "    .dataframe thead th {\n",
              "        text-align: right;\n",
              "    }\n",
              "</style>\n",
              "<table border=\"1\" class=\"dataframe\">\n",
              "  <thead>\n",
              "    <tr style=\"text-align: right;\">\n",
              "      <th></th>\n",
              "      <th>id</th>\n",
              "      <th>adAvailableDate</th>\n",
              "      <th>adDescription</th>\n",
              "      <th>adLangDetected</th>\n",
              "      <th>transDescription</th>\n",
              "    </tr>\n",
              "  </thead>\n",
              "  <tbody>\n",
              "    <tr>\n",
              "      <th>1</th>\n",
              "      <td>1</td>\n",
              "      <td>nach Vereinbarung</td>\n",
              "      <td>Die Highlights:» Gut geschnittener Büroraum in...</td>\n",
              "      <td>de</td>\n",
              "      <td>null</td>\n",
              "    </tr>\n",
              "  </tbody>\n",
              "</table>\n",
              "</div>\n",
              "      <button class=\"colab-df-convert\" onclick=\"convertToInteractive('df-8b631a82-e498-4c70-8033-ada56698b83b')\"\n",
              "              title=\"Convert this dataframe to an interactive table.\"\n",
              "              style=\"display:none;\">\n",
              "        \n",
              "  <svg xmlns=\"http://www.w3.org/2000/svg\" height=\"24px\"viewBox=\"0 0 24 24\"\n",
              "       width=\"24px\">\n",
              "    <path d=\"M0 0h24v24H0V0z\" fill=\"none\"/>\n",
              "    <path d=\"M18.56 5.44l.94 2.06.94-2.06 2.06-.94-2.06-.94-.94-2.06-.94 2.06-2.06.94zm-11 1L8.5 8.5l.94-2.06 2.06-.94-2.06-.94L8.5 2.5l-.94 2.06-2.06.94zm10 10l.94 2.06.94-2.06 2.06-.94-2.06-.94-.94-2.06-.94 2.06-2.06.94z\"/><path d=\"M17.41 7.96l-1.37-1.37c-.4-.4-.92-.59-1.43-.59-.52 0-1.04.2-1.43.59L10.3 9.45l-7.72 7.72c-.78.78-.78 2.05 0 2.83L4 21.41c.39.39.9.59 1.41.59.51 0 1.02-.2 1.41-.59l7.78-7.78 2.81-2.81c.8-.78.8-2.07 0-2.86zM5.41 20L4 18.59l7.72-7.72 1.47 1.35L5.41 20z\"/>\n",
              "  </svg>\n",
              "      </button>\n",
              "      \n",
              "  <style>\n",
              "    .colab-df-container {\n",
              "      display:flex;\n",
              "      flex-wrap:wrap;\n",
              "      gap: 12px;\n",
              "    }\n",
              "\n",
              "    .colab-df-convert {\n",
              "      background-color: #E8F0FE;\n",
              "      border: none;\n",
              "      border-radius: 50%;\n",
              "      cursor: pointer;\n",
              "      display: none;\n",
              "      fill: #1967D2;\n",
              "      height: 32px;\n",
              "      padding: 0 0 0 0;\n",
              "      width: 32px;\n",
              "    }\n",
              "\n",
              "    .colab-df-convert:hover {\n",
              "      background-color: #E2EBFA;\n",
              "      box-shadow: 0px 1px 2px rgba(60, 64, 67, 0.3), 0px 1px 3px 1px rgba(60, 64, 67, 0.15);\n",
              "      fill: #174EA6;\n",
              "    }\n",
              "\n",
              "    [theme=dark] .colab-df-convert {\n",
              "      background-color: #3B4455;\n",
              "      fill: #D2E3FC;\n",
              "    }\n",
              "\n",
              "    [theme=dark] .colab-df-convert:hover {\n",
              "      background-color: #434B5C;\n",
              "      box-shadow: 0px 1px 3px 1px rgba(0, 0, 0, 0.15);\n",
              "      filter: drop-shadow(0px 1px 2px rgba(0, 0, 0, 0.3));\n",
              "      fill: #FFFFFF;\n",
              "    }\n",
              "  </style>\n",
              "\n",
              "      <script>\n",
              "        const buttonEl =\n",
              "          document.querySelector('#df-8b631a82-e498-4c70-8033-ada56698b83b button.colab-df-convert');\n",
              "        buttonEl.style.display =\n",
              "          google.colab.kernel.accessAllowed ? 'block' : 'none';\n",
              "\n",
              "        async function convertToInteractive(key) {\n",
              "          const element = document.querySelector('#df-8b631a82-e498-4c70-8033-ada56698b83b');\n",
              "          const dataTable =\n",
              "            await google.colab.kernel.invokeFunction('convertToInteractive',\n",
              "                                                     [key], {});\n",
              "          if (!dataTable) return;\n",
              "\n",
              "          const docLinkHtml = 'Like what you see? Visit the ' +\n",
              "            '<a target=\"_blank\" href=https://colab.research.google.com/notebooks/data_table.ipynb>data table notebook</a>'\n",
              "            + ' to learn more about interactive tables.';\n",
              "          element.innerHTML = '';\n",
              "          dataTable['output_type'] = 'display_data';\n",
              "          await google.colab.output.renderOutput(dataTable, element);\n",
              "          const docLink = document.createElement('div');\n",
              "          docLink.innerHTML = docLinkHtml;\n",
              "          element.appendChild(docLink);\n",
              "        }\n",
              "      </script>\n",
              "    </div>\n",
              "  </div>\n",
              "  "
            ]
          },
          "metadata": {},
          "execution_count": 49
        }
      ],
      "source": [
        "data.loc[data['id'] == str(1)]"
      ]
    },
    {
      "cell_type": "code",
      "execution_count": null,
      "metadata": {
        "colab": {
          "base_uri": "https://localhost:8080/"
        },
        "id": "mDEGiDoEJZsL",
        "outputId": "2fa34a8d-cd84-49a1-fbe6-a2c3e3070462"
      },
      "outputs": [
        {
          "output_type": "stream",
          "name": "stdout",
          "text": [
            "4\n",
            "5\n",
            "6\n",
            "7\n",
            "8\n",
            "9\n"
          ]
        }
      ],
      "source": [
        "for i in range(4,10):\n",
        "  print(i)"
      ]
    },
    {
      "cell_type": "code",
      "execution_count": null,
      "metadata": {
        "colab": {
          "base_uri": "https://localhost:8080/",
          "height": 81
        },
        "id": "ROU2_D4y3mnw",
        "outputId": "9ee35701-21e4-4c2c-eba0-76f63e9d8399"
      },
      "outputs": [
        {
          "output_type": "execute_result",
          "data": {
            "text/plain": [
              "            id adAvailableDate  \\\n",
              "130682  135378      01.07.2021   \n",
              "\n",
              "                                            adDescription adLangDetected  \\\n",
              "130682  Moderne 4.5-Zimmer-Wohnung mit grosszügigem Ba...             de   \n",
              "\n",
              "       transDescription  \n",
              "130682             null  "
            ],
            "text/html": [
              "\n",
              "  <div id=\"df-ca4e41a5-19b5-4b05-8d75-ab5729b4cfdb\">\n",
              "    <div class=\"colab-df-container\">\n",
              "      <div>\n",
              "<style scoped>\n",
              "    .dataframe tbody tr th:only-of-type {\n",
              "        vertical-align: middle;\n",
              "    }\n",
              "\n",
              "    .dataframe tbody tr th {\n",
              "        vertical-align: top;\n",
              "    }\n",
              "\n",
              "    .dataframe thead th {\n",
              "        text-align: right;\n",
              "    }\n",
              "</style>\n",
              "<table border=\"1\" class=\"dataframe\">\n",
              "  <thead>\n",
              "    <tr style=\"text-align: right;\">\n",
              "      <th></th>\n",
              "      <th>id</th>\n",
              "      <th>adAvailableDate</th>\n",
              "      <th>adDescription</th>\n",
              "      <th>adLangDetected</th>\n",
              "      <th>transDescription</th>\n",
              "    </tr>\n",
              "  </thead>\n",
              "  <tbody>\n",
              "    <tr>\n",
              "      <th>130682</th>\n",
              "      <td>135378</td>\n",
              "      <td>01.07.2021</td>\n",
              "      <td>Moderne 4.5-Zimmer-Wohnung mit grosszügigem Ba...</td>\n",
              "      <td>de</td>\n",
              "      <td>null</td>\n",
              "    </tr>\n",
              "  </tbody>\n",
              "</table>\n",
              "</div>\n",
              "      <button class=\"colab-df-convert\" onclick=\"convertToInteractive('df-ca4e41a5-19b5-4b05-8d75-ab5729b4cfdb')\"\n",
              "              title=\"Convert this dataframe to an interactive table.\"\n",
              "              style=\"display:none;\">\n",
              "        \n",
              "  <svg xmlns=\"http://www.w3.org/2000/svg\" height=\"24px\"viewBox=\"0 0 24 24\"\n",
              "       width=\"24px\">\n",
              "    <path d=\"M0 0h24v24H0V0z\" fill=\"none\"/>\n",
              "    <path d=\"M18.56 5.44l.94 2.06.94-2.06 2.06-.94-2.06-.94-.94-2.06-.94 2.06-2.06.94zm-11 1L8.5 8.5l.94-2.06 2.06-.94-2.06-.94L8.5 2.5l-.94 2.06-2.06.94zm10 10l.94 2.06.94-2.06 2.06-.94-2.06-.94-.94-2.06-.94 2.06-2.06.94z\"/><path d=\"M17.41 7.96l-1.37-1.37c-.4-.4-.92-.59-1.43-.59-.52 0-1.04.2-1.43.59L10.3 9.45l-7.72 7.72c-.78.78-.78 2.05 0 2.83L4 21.41c.39.39.9.59 1.41.59.51 0 1.02-.2 1.41-.59l7.78-7.78 2.81-2.81c.8-.78.8-2.07 0-2.86zM5.41 20L4 18.59l7.72-7.72 1.47 1.35L5.41 20z\"/>\n",
              "  </svg>\n",
              "      </button>\n",
              "      \n",
              "  <style>\n",
              "    .colab-df-container {\n",
              "      display:flex;\n",
              "      flex-wrap:wrap;\n",
              "      gap: 12px;\n",
              "    }\n",
              "\n",
              "    .colab-df-convert {\n",
              "      background-color: #E8F0FE;\n",
              "      border: none;\n",
              "      border-radius: 50%;\n",
              "      cursor: pointer;\n",
              "      display: none;\n",
              "      fill: #1967D2;\n",
              "      height: 32px;\n",
              "      padding: 0 0 0 0;\n",
              "      width: 32px;\n",
              "    }\n",
              "\n",
              "    .colab-df-convert:hover {\n",
              "      background-color: #E2EBFA;\n",
              "      box-shadow: 0px 1px 2px rgba(60, 64, 67, 0.3), 0px 1px 3px 1px rgba(60, 64, 67, 0.15);\n",
              "      fill: #174EA6;\n",
              "    }\n",
              "\n",
              "    [theme=dark] .colab-df-convert {\n",
              "      background-color: #3B4455;\n",
              "      fill: #D2E3FC;\n",
              "    }\n",
              "\n",
              "    [theme=dark] .colab-df-convert:hover {\n",
              "      background-color: #434B5C;\n",
              "      box-shadow: 0px 1px 3px 1px rgba(0, 0, 0, 0.15);\n",
              "      filter: drop-shadow(0px 1px 2px rgba(0, 0, 0, 0.3));\n",
              "      fill: #FFFFFF;\n",
              "    }\n",
              "  </style>\n",
              "\n",
              "      <script>\n",
              "        const buttonEl =\n",
              "          document.querySelector('#df-ca4e41a5-19b5-4b05-8d75-ab5729b4cfdb button.colab-df-convert');\n",
              "        buttonEl.style.display =\n",
              "          google.colab.kernel.accessAllowed ? 'block' : 'none';\n",
              "\n",
              "        async function convertToInteractive(key) {\n",
              "          const element = document.querySelector('#df-ca4e41a5-19b5-4b05-8d75-ab5729b4cfdb');\n",
              "          const dataTable =\n",
              "            await google.colab.kernel.invokeFunction('convertToInteractive',\n",
              "                                                     [key], {});\n",
              "          if (!dataTable) return;\n",
              "\n",
              "          const docLinkHtml = 'Like what you see? Visit the ' +\n",
              "            '<a target=\"_blank\" href=https://colab.research.google.com/notebooks/data_table.ipynb>data table notebook</a>'\n",
              "            + ' to learn more about interactive tables.';\n",
              "          element.innerHTML = '';\n",
              "          dataTable['output_type'] = 'display_data';\n",
              "          await google.colab.output.renderOutput(dataTable, element);\n",
              "          const docLink = document.createElement('div');\n",
              "          docLink.innerHTML = docLinkHtml;\n",
              "          element.appendChild(docLink);\n",
              "        }\n",
              "      </script>\n",
              "    </div>\n",
              "  </div>\n",
              "  "
            ]
          },
          "metadata": {},
          "execution_count": 52
        }
      ],
      "source": [
        "data.loc[data['id'] == '135378']"
      ]
    },
    {
      "cell_type": "code",
      "execution_count": null,
      "metadata": {
        "colab": {
          "base_uri": "https://localhost:8080/",
          "height": 87
        },
        "id": "Sh_Otn7q31sO",
        "outputId": "0832d00e-bbe1-486f-e8b4-09ffe2e55160"
      },
      "outputs": [
        {
          "data": {
            "application/vnd.google.colaboratory.intrinsic+json": {
              "type": "string"
            },
            "text/plain": [
              "'We are renting this gently renovated 3.5-room apartment as of April 1st, 2021 or by arrangement with the following advantages: new painting of the entire apartment in 2021, open living and dining area, separate kitchen without dishwasher, bathroom with bathtub, parquet flooring in the rooms, tiles were laid in the kitchen and bathroom, built-in cupboards, balcony, seating area in general Shared use of a cellar compartmentLaundry room for general useAn underground parking space can be rented for CHF 100.00/month. The Fischermätteli tram terminus can also be reached in a few minutes on foot. Have we aroused your interest? Give us a call - we would be happy to arrange a non-binding visit for you.'"
            ]
          },
          "execution_count": 55,
          "metadata": {},
          "output_type": "execute_result"
        }
      ],
      "source": [
        "translate(data['adDescription'].loc[100010])"
      ]
    },
    {
      "cell_type": "code",
      "execution_count": null,
      "metadata": {
        "colab": {
          "background_save": true,
          "base_uri": "https://localhost:8080/"
        },
        "id": "LmWF3uIb8GXY",
        "outputId": "51dfc433-d05f-487a-e73d-9a0d49aa6820"
      },
      "outputs": [
        {
          "output_type": "stream",
          "name": "stdout",
          "text": [
            "130683 The building land is located in a sunny and easily accessible position. It has an area of ​​2,319 square meters in the R3 residential area. The master plan provides for an exploitation index of 0.4 and an occupancy index of 35%. It is ideal for the construction of a three-storey multi-family building and also for single-family homes.\n",
            "130684 apartment on the 1st floor of a small building with 5 apartments.balcony3 bedroomsbathroom with bath and showerseparate toiletcovered carcellar and attic\n",
            "130685 We are renting a beautiful, spacious 4.5 room apartment at Waldhofstrasse 9a, 4900 Langenthal, immediately or by arrangement. Here you have enough space for you or your large family three bedrooms.The bright, modern bathroom is also part of it.Outside has a large garden to linger in.Garage boxes or parking spaces can be rented.Are you interested?Do not hesitate to contact us...\n",
            "130686 Location- motorway access: approx. m- kindergarten: approx. 700 m- shops: approx. 250 m- public transport: approx. 250 m- primary school: approx. 300 m- high school: approx Near-natural surroundings.Apartment: - Bright, spacious rooms - Tiles and parquet floors - Bathroom with shower - Own washing tower and tumble dryer in the apartment - Apartment with a large loggiaArea of ​​location: - Quiet, sunny and child-friendly area - Children's playground - Schools and kindergarten can be reached without traffic - Good transport connections - bus stop nearby - the little town with its shops is easily accessible on footParking: - Underground parking spaces can be rented.Miscellaneous: - Solid construction quality with high-quality materials in timber construction and alternative heating system (pellet heating) - PV system for in-house productionOther- Municipality: Willisau - cable TV: yes - view: yes - child-friendly: yes - situation: close to the center - balcony n/terrace/seat: yes- usable area: 59.0 m²keywordsgarage available, canton: LU\n",
            "130687 To be seized quickly! Old building of 9 apartments with 5 garages and 5 outdoor spaces NET rental state. CHF 117,240.-/yearExpenses: CHF 12,360.-/year2 x 3.5 pcs 7 x 4.5 pcs\n",
            "130688 Superb 3.5 room apartment of approximately 73.40 m2 very well located near the center of Fribourg. It is composed as follows:- An entrance hall- A bright living room- A large kitchen- Two beautiful bedrooms- A bathroom- WCAvailable on July 1, 2021.Possibility to rent an underground parking space in addition for an amount of CHF 170.00 per month. Have we piqued your interest? In this case, do not hesitate to contact us directly from the contact form for any requests and/or visits. Once the visit has been made, we look forward to receiving your application file directly on our online form listed below. below: the files via the link will be taken into consideration, we thank you in advance. Non-contractual photos.\n",
            "130689 Available from 01.07.2021 or earlier depending on the outgoing tenant. 3.5 room apartment with entrance hall, room that can be used as a pantry, fully equipped kitchen, large very bright living room and two large bedrooms. Bathroom equipped with a bathtub. High ceilings throughout the apartment. The rent for the apartment is CHF 830.00 + CHF 200.00 down payment for charges, i.e. a total of CHF 1,030.00/month. The post of concierge is to be taken for a monthly salary of CHF 200.00 which amounts to an apartment rent of CHF 830.00 including charge deposit.\n",
            "130690 ObjektbeschreibungCopy this link into your URL to take a 3D virtual tour of the object: READ // Preferably use your computer for this 3D tour. To navigate in 3D on mobile, download the Youtube application (free). You can change the orientation by clicking with your mouse on the video screen. You can also pause and change direction to better discover each room. Splendid renovated offices in an 18th century Manor with 3.5 rooms with a living area of ​​120 m2, located in Donneloye, Route de la Croix Blanche. This location is frequented by many vehicles, ideal for setting up premises. There is also the possibility of placing a sign. It is composed of a large entrance hall with storage spaces, a bright living room, a fully equipped open kitchen with a dining room, 2 rooms, a bathroom with bathtub , shower & WC as well as a guest WC. The office can be rented furnished or unfurnished. A cellar completes this property (bike storage to come). Fireplace & old cast iron wood stove. Shared garden. Shared laundry room with possibility of installing washing machines in the apartment. Amenities: shops, public transport and waste disposal. On the 1st floor without elevator. Rent without charges: CHF 2,230.- Flat charges: CHF 210.- Outdoor parking space at CHF 50.- Available on May 1, 2021. You are a tenant in the process of early termination or an owner at the looking for a solvent tenant? You can count on our network and our experience to be detached from your commitments as soon as possible. For more information, contact us on info@lacotelocation.ch\n",
            "130691 In a 5-family, non-smoking house without a lift in Elsterweg 1a in 3603 Thun-LerchenfeldRent 1380.- Additional costs 190.-This beautiful and bright 3.5 room attic apartment offers the best conditions for families, couples and individuals. The spacious living room is 31m2 in size Exit to the balcony, where you can enjoy beautiful hours of sunshine and the Alpine panorama. The modern kitchen offers space for eating, the adjoining half room can be set up as an office, for example. The bathroom with bathtub offers good conditions for everyday well-being. The rooms are bright and comfortable. The apartment has two attic rooms with plenty of storage space. The house has a shared laundry room with washing machine, tumble dryer, drying room and laundry hanging outside is open to all residents. It can also be reserved. If required, a carport space can be rented for CHF 90.- or in an outdoor parking space for CHF 50.- Mr. Nydegger will be happy to arrange a viewing and answer any questions you may have.\n",
            "130692 Generously designed 4.5 room apartment on the 2nd floor in a quiet and sunny location - parquet and laminate flooring - ceramic floors in the kitchen and bathroom - bright kitchen with GS, glass ceramic stove, etc. - bathroom with double washbasin and bathtub - separate shower/toilet - parking spaces available à Fr. 105.-- (each additional one only Fr. 75.--/month), apartment will be painted before moving in and the floor coverings will be renewed.\n",
            "130693 Attractive, inexpensive apartment, high standard, spacious 4.5 rooms, 1st floor with large balcony, beautiful floor plan. Living in the country, relaxation and nature. The apartment, built in 2016, offers you: more living comfort thanks to the standard kitchen with a variety of kitchen appliances, GRANITE COVERING, 2 wet cells with large showers with granite shower trays, PARENTS' BATHROOM with bathtub, cloakroom and many BUILT-IN WARDROBES in the entrance floor coverings: easy-care, elegant ceramic tiles in a light parquet look, spacious balcony, own WM/WT electric window blinds, floor heating, controlled apartment ventilation, adjustable per room depth thanks to the latest construction standard! (NK account for a household of 2 people) Parking spaces in the underground car park, per space CHF 100.00/month and much more. We would be happy to show you the apartment on site, make an appointment with us.\n",
            "130694 Family and friendly neighborhood.2 minutes from the nursery and primary school.You can see the playground from the balcony.Hiking path through the house.5 minutes from the station of Pont Ceard.5 minutes from the lake.10 minutes walk from Coop, Denner, and Versoix center. Pharmacy, Grand Montfleury Clinic, Restaurant Grand-Mont Fleury, market is in the vicinity. Parking space in front of the house available. The garage is available for 120 CHF.3.5-room apartment, 1st floor64 m2New bathroomA large bedroomA large living room with balconySeparate kitchen opening onto the balconyLarge entrance, which can be used as a dining roomRent: 1477 CHFCharges: 140 CHFAvailable from from May 1, 2021A video visit via WhatsApp is possible.=================Family friendly neigborhood.2 minutes to Kindergarden and primary school.Playground can be seen from the balcony.Hiking way across the house.5 minutes to Pont Ceard train station.5 minutes to the lake.10 minutes walking to Coop, Denner, and Versoix centre.Pharmacy, Clinic Grand Montfleury, Restaurant Grand-Mont Fleury, market is in the neighborhood.Parking space in front of the house available. Garage is available for 120 CHF. possible.\n",
            "130695 Are you looking for a well-located shop/commercial space or do you finally want to implement your business idea? The right premises for you: Solothurnstrasse is one of the busiest streets in Biel. In addition, numerous customers pass through the location every day. Are you looking for a location close to well-known companies, universities and leisure facilities? You not only benefit from an optimal connection to the motorway, but also from the adjacent Coop petrol station, which can bring you additional customers from all regions. The representative building with large windows overlooking the adjacent street offers enough opportunities to market your business. You and your customers are guaranteed numerous parking spaces. If additional storage rooms, office space or parking spaces are required, there is the option of renting them in the adjacent building. Ancillary costs (electricity, water, heating, etc.) are not included in the rent and must be borne by the tenant himself. Advantages: Generous sales area with ideal delivery options Availability of additional storage rooms and parking spaces 250m² in the building next door (CHF 80.- / m², year). 20 parking spaces for staff and customers (excl. CHF 480.- / PP, year). 15 planned parking spaces (after Agreement) Conspicuous presence from the streetCoop petrol station next doorOptimal public transport connectionAutobahn connection (900m) in each direction Swiss Tennis, Tissot Arena, Bern University of Applied Sciences and other well-known companies such as Rolex, Swatch Group, DT Swiss and many more in the immediate vicinity Convince yourself personally and contact us for a non-binding meeting. We look forward to seeing you.\n",
            "130696 HERE YOU CAN LIVE This attic maisonette apartment offers an impressive view of the Central Swiss mountains. Enjoy a unique view over the neighboring roofs from the terrace. Lucerne's local mountain Pilatus seems within reach.YOUR NEW HOMEThe large and very bright 5.5 room attic maisonette apartment is located in the trendy Neustadt quarter. Those who live here have countless restaurants, bars, nightlife options, shopping opportunities and public transport in the immediate vicinity. Everything important is practically on the doorstep and can easily be reached on foot. In addition, there is a washing machine/tumbler and a separate cellar compartment. LET YOURSELF BE INSPIRED...... by the stylish apartment in a central location. ARLEWO AG Your trusted partner for real estate and advice NEW since 1968\n",
            "130697 This impressive and exclusive development is located in front of Lake Lugano, located in the new Residenza Villa Branca, consisting of 6.5 rooms, 402sqm. Unique in its kind, it is divided into apartment floor and terrace roof, both reachable by lift and private staircase. The house consists of: Living area: Entrance hall with hallway and wardrobe, guest bathroom, study / bedroom, kitchen opening onto the spacious and bright living room and terrace facing the lake. Sleeping area: Master bedroom with en suite bathroom with shower, turkish bath and a spacious walk-in closet. Two large bedrooms with bathroom with shower / tub. Private laundry. In addition, an elegant staircase leads to the roof terrace where there is an area of ​​219 sqm, which you can furnish as desired, such as living area with dining area and cooking area. Solarium area with whirlpool tub already set up.Perfect solution to enjoy evenings outdoors in total privacy or for total relaxation while gazing at the spectacular view of the lake and the Lugano skyline panorama.Other information: Possibility to customize the finishes with all the materials of value included in the price. THE APARTMENT MOST BE SOLD AS A SECOND HOUSE Distance: 10 min. drive from the center of Lugano 18 min. from the Tasis international school 2 min from the motorway entrance and in the immediate vicinity of all the main services Price on request Would you like to book a visit or ask questions for information, please contact us at the following addresses: Tita SilviaEbuyhouse Real Estate Advisornatel: +41 76 712 30 40office +41 91 225 69 99\n",
            "130698 This spacious 4.5 room apartment is in a quiet and central location in Winterthur near the Eulach. It convinces with a lot of charm, especially the light-flooded living room with herringbone parquet floor. Shops and public transport connections are within walking distance. The apartment can only be rented for a limited period from August 2021 to July 2022. Come by and see for yourself! This properti offer is characterized by the following advantages: central location old building charm shared garden bathroom with separate toilet piano available apartment can be partially furnished or furnished parking in the blue zone Interested? Contact us for a non-binding visit! Selling a property yourself? We convince with fair and transparent conditions!For more properties, visit our website at:www.properti.chFree market value assessment or rent analysis:www.properti.ch/de/Query-Assessment/Free tips & tricks for selling or renting:www. properti.ch/de/blog\n",
            "130699 The Trichtisal development is on the outskirts of Witikon, in the immediate vicinity of the forest. Here you not only live quietly, but also in the middle of the countryside. Nevertheless, the city center of Zurich can be reached quickly. The superstructure was completed in December 2019. For your quality of living: - High-quality oak parquet flooring in all living rooms - Open kitchen with induction hob, oven at working height and dishwasher - Bathroom with shower/toilet - Own wash tower in the reduit - Cellar compartment with power connection - Spacious loggia Additionally on request: Parking space underground CHF 170.-/month Interested? Then a visit is worthwhile.Important: When viewing the apartment, please follow the hygiene regulations, rules of conduct and recommendations of the Federal Office of Public Health (FOPH).\n",
            "130700 The apartment building has 7 condominiums: 0.1 / 4.5 room apartment, ground floor / (135.6m2) CHF 940,000,000.2 / 4.5 room apartment, ground floor / (133.7m2) CHF 930,000,001.1 / 4.5 room -Apartment, 1st floor / (135.7m2) CHF 920'000.001.2 / 2.5 room apartment, 1st floor / sold1.3 / 2.5 room apartment, 1st floor / (59.3m2) CHF 460'000.002 .1 / 4.5 room apartment, 1st/2nd Top floor / (177.7m2/134.0m2) CHF 920'000.002.2 / 5.5 room apartment, 1./2. Top floor / (188.1m2/137.7m2) CHF 930,000.00 You can find the various floor plans on our websitewww.meier-immobilien.ch (under properties for sale).___________________________________________________________________The location:With its rural charm, Altikon is one of the local recreation areas in the Winterthur district. The recreation area on the Thur is right in front of the door and offers many opportunities for a relaxing walk. Away from the hustle and bustle and still in the city in a few minutes by public transport. Unterherten is a village in the municipality of Altikon. The quickest centers that can be reached by car are Frauenfeld (10 minutes), Andelfingen (13 minutes) and Winterthur (17 minutes). Public transport from Altikon is the quickest way to get to Frauenfeld (27 minutes), Winterthur (28 minutes) and Andelfingen (45 minutes). Most important: the property is on the connecting road between Altikon and Ellikon near the Thur. Due to the southern orientation of the building, you can enjoy perfect sunshine throughout the day. Thanks to the unobstructed surroundings, the apartments have a pleasant view of the countryside. The bus stop for Line 615 is right in front of the property. Altikon with the primary school, Landi and post office is 2 km west of Unterherten. The upper school is only slightly further away in Rickenbach. The planned move-in date is autumn 2022. Are you looking forward to a new home? You can find more information on our website www.meier-immobilien.ch. You are welcome to contact us via the contact form or by telephone on 052 246 08 46. We look forward to hearing from you.\n",
            "130701 2 room apartment with garden/terrace for rent. Available immediately. Living room with open kitchen. Kitchen equipped with vitroceram, oven, fridge and freezer compartment. Large bedroom. Bathroom with toilet, sink and shower. Charges + Parking space + WIFI access + cable TV included. Possibility of furnished rental. 2 rooms apartment with terrace/garden for rent available immediately. Living room with open kitchen. Kitchen with vitroceram, oven, Microwave oven, fridge and freezer tray. Large bedrooms. Bathroom with toilet, sink and shower. Parking + charges + WIFI + TV cable included. Possibility of furnished rental.\n",
            "130702 We rent this beautiful maisonette apartment in Zollikerberg as of June 1, 2021. In your new home you will find the following amenities: Parquet floor in the corridor, living/dining area and in the bedroom spacious and open kitchen (ceramic glass / oven / fridge) bathroom with shower separate toilet with washing machine and tumble dryer large patio built-in cupboards in the corridor own access If required, a parking space can be rented. Please Please note that the images are sample images that only show the standard of construction. You are also welcome to find out more on our homepage www.forchstrasse179.ch. You will also find the floor plan of this apartment there. Have we aroused your interest? Do not hesitate to contact Mr. Oberholzer for a non-binding inspection.\n",
            "130703 For rent immediately or by arrangement a beautiful and renovated 3.5 room apartment in the lively Gerliswilstrasse. Kindergarten, schools, as well as various shops and bus stops are in the immediate vicinity, very good transport connections with the motorway entrance and exit. An outside parking space can be rented for CHF 80.00. The apartment is being renovated renovated apartment in the same property. We are looking forward to your contact. You can find more properties on our website.\n",
            "130704 The residential building at Rällikerstrasse 29 in Mönchaltorf has a total of 15 apartments. This 3.5 room apartment on the 2nd floor is perfect for singles or a couple of all ages. The carefully worked out room concept and the comfortable interior design will convince you. An underground parking space can be rented for CHF 130.00 if required. We are happy to answer any questions or to arrange a visit.\n",
            "130705 We rent a beautiful 3.5 room apartment with the following advantages: - Tile floors in the kitchen and bathroom - Modern kitchen with ceramic hob - Modern bathroom with bathtub - Wall cabinet in the corridor - Balcony - Cellar compartment - Elevator - In the immediate vicinity of shops and public transport * The pictures come from of a similar type of apartment. Apply online now at: www.mywincasa.ch/bewerben. Your application code: 03048.05.0508 If we have aroused your interest, do not hesitate to contact us.\n",
            "130706 We rent a bright, well-kept studio on the ground floor, furnished or fully furnished as desired. If you are looking for peace and nature and prefer a swim in the Aare in summer, this is an ideal place with a view. Bannwil train station just under 2 km away, in a few minutes you are in Langenthal or on the A1 (direction Bern/Zurich). Own entrance with seating outside, entrance area with kitchen (tiled floor), shower/toilet/washbasin with window (tiled floor), living area with three windows (parquet floor). Available from July 1st, 2021 or by appointment. Monthly rent: CHF 650 (furnished and fully furnished) or CHF 520 (without furnishings), including heating, water, electricity, internet, TV box (parking space optional for CHF 30 per month) . Non-smokers are preferred.\n",
            "130707 For rent a parking space in an underground garage. Lutry. Chemin de Taillepied 119120.- per month\n",
            "130708 URGENT !! To be handed over for May 1, 2021 a pretty 2.5 room duplex apartment on the 2nd floor without elevator. The apartment is located in a quiet area! The train station is 5 minutes from the apartment! the rent is 1160 frs with charges and covered parking space included. A cellar is available and common laundry room!\n",
            "130709 Looking for new tenants on June 1st, 2021 for a nice 4-room apartment on the mezzanine floor.- 2 children's rooms-1 bedroom- dishwasher - communal laundry room with tumbler- screed- cellar- bathtub- balcony- pets allowed 1100.- + 250.- additional costsFriedhofweg 52555 BrüggMelden at Jessica Trees076 371 11 36Please share!!!\n",
            "130710 As of July 1, 2021, we are renting this spacious 2 ½-room apartment on the 2nd floor in the Allmend development (Quartier Bülach-Süd).Fitment standard: modern, bright kitchen with V-Zug appliances, laminate in all rooms, bathroom with built-in cupboard in the entrance balcony with side glazing in the basement - und EstrichabteilBülach - the center in the Zurich Unterland: Thanks to the bus stop (line no. 501 / 504) right in front of the property (40m) and the nearby motorway (A51), public and private transport connections in Bülach are ideal. Good connection to the Bülach train station as well as to Zurich-Kloten airport. The extensive range of different shopping centers in Bülach Süd covers all needs in addition to the old town in the heart of Bülach. Local recreation areas, leisure opportunities and countless clubs round off Bülach's complete offer. A garage space can be rented for CHF 130.00 / month, an outdoor parking space can be rented for CHF 50.00 / month. Please note that there is a general ban on pets in the property. Have we piqued your interest? Then arrange your non-binding viewing appointment today.\n",
            "130711 Fantastic view from two-sided approx. 50 m2 roof terrace Newly renovated washing tower in the bathroom Separate storage room. Closed basement. A garage space for CHF 125.00 per month or a parking space for CHF 50.00 per month can be rented with the apartment. There is a garden house for your barbecue ect on request. Available for free\n",
            "130712 This beautiful 2½-room apartment in the Sommerrain development meets high standards (photos are of a similar type). What you can expect: - Light-flooded rooms - Well thought-out floor plan - Parquet floors in the living room and bedroom - Modern kitchen with GS and GK - Shower/toilet with beautiful panels - Réduit with washing machine and tumbler - Community terrace - Electrically operated composite venetian blinds - The apartment is wheelchair accessible - Garage spaces at CHF 130./month can be rented in addition -Fit- fiber optic network in the apartments We look forward to hearing from you and will be happy to advise you!\n",
            "130713 4-room apartment on the ground floor for sale on the heights of Montreux.Old apartment, with the charm of old houses.It is divided as follows:- Living room- Kitchen- Bathroom with bathtub- 3 bedrooms - VerandaExterior (shared with 2 other apartments)- Cellars- 3 parking spaces- Garden of 750 m2- Swimming pool. The apartment requires renovation works. The budget to be provided is estimated at 150,000 CHF for all the work. The buses for Vevey and Montreux are just at the bottom of the building. Access to the A9 motorway and the cantonal road is very easy.\n",
            "130714 Nice bright 2.5 room apartment with balcony. Kitchen equipped with a dishwasher. Bathroom with bathtub and large bedroom. With parking space in underground garage 15 minutes from Cossonay-Penthalaz station and there is a bus stop at the beginning of the district. 5 minutes walk from the Denner and the school.\n",
            "130715 The characteristic of all the apartments is the optimal layout of all generously sized rooms with a large livable terrace and finishes with top quality materials. commercialSchools and institutesOfferNew construction1st floor2.5 roomsGross area 58 m2\n",
            "I am mainly looking for people in my age 19-30 years. I don't care if you're female or male. It is important that there is sympathy, that you are a reasonably decent person and that you respect each other's privacy.\n",
            "130717 3.5 room apartment on the 1st floor comprising: a hall, a fitted kitchen (no dishwasher), a living room, two bedrooms, a bathroom / WC and a balcony. Work planned: paint refresh + parquet, cellar, laundry room common area and elevator in the buildingGROUP VISIT DIRECTLY ON SITE ON FRIDAY 04.16.2021 FROM 6.00 PM TO 7.00 PM - APT ON THE 1ST FLOORRegistrations taken until 04.20.2021During the visit, please take all the usual precautions against Covid -19.\n",
            "130718 A smaller, charismatic, partially renovated 3-room apartment in an old building with a view of the Limmat Valley for rent immediately or by arrangement.\n",
            "130719 Outdoor parking spaces close to all amenities for rent.Monthly rent: CHF 100.-Available immediately or to be agreed.\n",
            "130720 This new, idyllic 4.5 room apartment in the village center of Mosen on Lake Hallwil has a lot to offer. A small balcony decorates the apartment and invites you to sunbathe. Or they linger on the seat. The apartment has a washing machine/tumbler and dishwasher. In about 150m you can reach the lake shore, the campsite and the shipping station and also the train station.\n",
            "130721 A beautiful, bright and well-sunlit 3.5 room apartment in Pieterlen for rent. The property is located in a family-friendly environment and has laminate floors and tile floors in the bathroom and kitchen. Public transport, kindergarten, primary school and shops are easily accessible on foot. A cellar and screed are included in the rent. A garage space can be rented for 120.-. When can we show you this apartment?\n",
            "130722 Proponiamo un terreno interamente edificabile 900 mq a Villa Luganese. Per maggiori informazioni contattateci.We offer you a completely buildable plot of 900 sqm in Villa Luganese. For more information please contact us.\n",
            "130723 WG - room for rent in a 3-person shared flat Shared kitchen, bathroom and washing machine/tumbler We would be happy to arrange a viewing appointment with you\n",
            "130724 The 3.5-room apartment is located on the 6th floor in a quiet and sunny area, a stone's throw from the center of Lugano and with a splendid lake view.The area of ​​85 square meters is divided as follows: - entrance - equipped kitchen - large and bright living room with balcony and splendid lake view - bathroom with tub - two bedrooms - bathroom with shower. Box available at CHF 150.00 per month.\n",
            "in walking distance to the city, situated in a sunny garden... Bus in front of the house, parking space can be rented separately.\n",
            "130726 Indoor parking space near the train station and the town center of Morges.\n",
            "130727 We are renting this freshly renovated 3.5 room apartment in a very central location in Zurich with immediate effect. This offer is characterized by the following advantages: - New vinyl floors in all rooms - Renovated kitchen with vinyl floors - Corridor with vinyl floors - Bathroom with wall and floor panels - Balcony with garden - Washing machine and tumble dryer (for shared use in the basement) - Elevator - Cellar compartmentThe visit will take place as follows:- TUESDAY, April 13, 2021 from 5 p.m. - 6 p.m. Our caretaker, Mr. Aga, will be happy to show you the apartment! Thank you. The application form is attached to this advertisement.\n",
            "130728 The attractive maisonette apartment with a gallery offers you a large kitchen, state-of-the-art wet room, bright beech parquet flooring and a balcony. The apartment is very centrally located. The shops are in the immediate vicinity and the connection to public transport is right outside the front door. Covered outdoor parking spaces can be rented on request. Have we aroused your interest? Do not hesitate and make an appointment with Mrs. Bötschi today .\n",
            "130729 In the office and commercial property in Unterengstringen, above the post office, we rent a bright 16 m2 single office with kitchen for exclusive use with immediate effect or by arrangement. The beautiful floor that was laid can be taken over by the previous tenant, who offers a fair price for it. Max. 1 parking space can be rented for this exclusive single office. For a viewing appointment, please contact the current tenant: Ms. La Vista, Tel. 076 567 28 53\n",
            "130730 Object descriptionIn addition to the spacious room layout, the apartment has an attached cellar, patio and garden. Modern architecture in the Minergie standard - local recreation area on your doorstep - direct connection Uerikon (Stäfa) - Zurich HB - very nice location - lake and mountain view.SituationNo matter whether you prefer to relax on your terrace in your valuable free time or pursue a hobby - at the Panoramaweg you will feel good all around. Thanks to the south orientation, you can enjoy the last rays of sunshine of the day in your own apartment. The most important shops, the Moritzberg school, the train station and the lake are within easy walking distance. Uerikon is a town in Stäfa, which according to the BFS is an \"urban residential community\" and part of the large Zurich agglomeration. It has 1,401,783 inhabitants (2019) and 630,571 households (2019). The municipality of Stäfa itself has 14,718 inhabitants (2019), spread over 6,655 households (2019). Between 2017 and 2019, the average tax burden for families and single people remained stable. With an average construction activity of 68 apartments (2013 - 2018; that is 1.01% of the stock in 2013), the vacancy rate of 1.04% is well below average in a national comparison (1.72%). In the last 5 years, 80 apartments per year have been absorbed by the market in the municipality. According to the prospective housing model, additional demand of 1,382 apartments (per year: 86) can be assumed in the middle scenario between 2019 and 2035 in the municipality of Stäfa.\n",
            "130731 In the new underground car park, we also rent motorcycle spaces to external tenants. We look forward to hearing from you!\n",
            "130732 LocationForchstrasse ZollikerbergGood location for bus and trainObjectTwo almost identical student apartments are available for rent, in a central location directly on the Forchbahn. Both apartments can also be rented together. Rental price for the apartment on the second floor: CHF1100.- including a large screed for shared use. There are enough parking spaces in the area in the blue zone. This BETTERHOMES offer is characterized by the following advantages: - central location - shopping facilities on the doorstep - near bus and train - parquet floors - balcony - garden - large floor - sufficient parking spaces in the Environment- near hospital and, and, and...Interested? Contact us for a non-binding inspection! Nothing suitable found? Over 3,200 other offers at: - the real estate fairmediator®Market a property yourself? Benefit from our know-how: Price informationNet rent: 1,500.00 CHFKeywordsDistance from the center: , distance to the lake:\n",
            "130733 Apartment located on the fourth floor of a residential building in the center of Leysin resort. In the heart of the Vaudois Alps, above Aigle, 20 minutes from the motorway and 1.30 from Geneva airport. There are all the necessary amenities, such as shops, restaurants, schools and administrations as well as multiple possibilities for sports activities. Moreover, the building being in the center of the resort, the ski lifts are nearby. etc, etc, etc...Interested? Contact us for a visit without obligation - online visit also possible!Nothing that matches? You will find more than 3,000 other objects on: www.betterhomes.ch - The Swiss specialist in real estate transactions.Do you have a property to market?Take advantage of our know-how: want to know the value of your property?Take advantage of our free online estimate! detailsLocation: GoodBuilding condition: GoodBathrooms: 1 (1x bath/washbasin/WC)Heating system: GasPublic transport: CFF station, Bus, 100 mSchool: Primary, Secondary, 500 mShops: Coop, Migros, Denner, 300 m\n",
            "130734 New ORCHIDEA Residence to be built, with approved project, consisting of five apartments in a quiet residential area, surrounded by greenery and sunny in Agno, in an alley in the 30 km area with access only for residents. a 4.5-room duplex apartment of approx. 145 m2 of living space, plus terraces and balconies on each floor for approx. 30 m2 in total, three bedrooms, three bathrooms, living area with open space kitchen with direct access to a large roof / garden of 107 m2 for EXCLUSIVE use with high quality hydromassage area construction. Two parking spaces available at Chf. 70'000.- The property will be delivered after summer 2022 and the works will start next spring 2021. There are concessions for purchase reservations by April 30, 2021. nursery and primary schools, post office, town hall, public transport station, petrol station, supermarkets, restaurants, bus stop, parks, lake. Please send your name and telephone number to arrange an inspection.\n",
            "130735 Quiet and comfortable apartment in a central location in Baar. One room in a 4-room apartment is only rented to weekly residents! Modernly furnished with a new single bed, new mattress, wardrobe and desk with chair. Bathroom with bathtub and window, closed fully equipped kitchen. The additional costs (fixed price) already include Internet WLAN, TV, heating, water and electricity. Washing machine and dryer are available for general use. Connections to public transport can be found nearby, just a few minutes' walk from the train station and shops.\n",
            "Top: Quiet, family-friendly in Veltheim\n",
            "130737 Immediately or by arrangement, we rent a bright storage and commercial space with daylight and top infrastructure (not directly accessible with a vehicle) Area: 120 m2 - room height: 2.58 m - doors: double wing - floor: painted For shared use: lifting platform, adjustment ramp , 2 goods lifts 1'500kg and 4'000kg, toilet rent per month: CHF 1255.- plus 190.- HK-NK on account (excl. VAT.) Parking spaces can be rented. Please note the floor plan on the pictures a similar, empty warehouse is shown. Are you interested? Then contact us for a viewing appointment.\n",
            "130738 Bright and freshly renovated 4 1/2 room apartment on the 1st floor for rent. The kitchen is completely new and is equipped with a granite countertop, a glass ceramic stove and a dishwasher. The living room has a parquet floor, the three bedrooms have an easy-care vinyl and Kitchen and bathroom/toilet and the separate toilet has a slab floor. The basement compartment is very spacious. WM and tumble dryer are in the laundry room in the basement. The apartment has a large balcony. The rent for a garage space in the underground car park is CHF 110.- and for an outside parking space 35.- Marthalen is located in the middle of the Schaffhausen railway line -Winterthur. The center of Schaffhausen can be reached by train in just 15 minutes, Winterthur in 20 minutes and Zurich main station in a good 40 minutes. Move in possible from June 1, 2021 Visitation possible at any time after prior registration!\n",
            "130739 IMPORTANT: If you wish to visit this property quickly, please send us your availability directly (ideally 2 or 3 slots) either by WhatsApp or by the form. Magnificent 4.5 room Minergie apartment with a living area of ​​91 m2, located in Saint-Cergue, Route d'Arzier.It is composed of an entrance, a beautiful bright living room, a fully equipped kitchen (oven, dishwasher, fridge and freezer) with granite, 3 bedrooms bedroom, a bathroom, a shower room and a covered balcony of 14m2. Storage cupboards. A cellar completes this property. Common laundry room. Floor heating. Pets accepted. Close to all amenities: shops, public transport. On the 2nd floor with lift. Rent without charges: CHF 2,150.- Charges (flat rate): CHF 300.- 1 indoor parking space for CHF 150.- extra . Available immediately. Other accommodations are available, do not hesitate to ask us for additional information. Are you a tenant in the process of early termination or an owner looking for a solvent tenant? You can count on our network and our experience to be detached from your commitments as soon as possible. For more information, contact us on info@lacotelocation.ch\n",
            "130740 Charming and quiet 2.5 room attic apartment, first rental after renovation. Thanks to the central location, you will find all daily necessities, the school with a sports field, banks and community services within a few 300m. Public transport is also well developed. In 20 minutes you are in the middle of the cities of Lucerne and Zug. The Gisikon/Root motorway junction allows you to be in Zurich in 30 minutes. Some highlights: whole apartment newly renovated, modern kitchen, bathroom with walk-in shower, cloakroom, built-in closet in bedroom, balcony and garden, cellar compartment, shared use of laundry room with 2 washrooms and 1 tumbler, parking space in underground car park CHF 130 p/m\n",
            "130741 For rent in Courroux, beautiful apartment on the 1st floor in a house with 2 apartments, renovated and very bright. Recent and modern kitchen, dishwasher, programmable oven, induction hob, habitable, living room with access to the large balcony, located south-west, dining room, two large bedrooms of over 16 m2, bathroom with bathtub and window, open and sunny view. 2 parking spaces, cellar and attic. Visits and information: 079 410 85 56.\n",
            "130742 New 2.5 room apartment with garden located on the ground floor of a new residence in the center of the village of Tannay. This new apartment includes an entrance hall with cupboards, a washer-dryer, an equipped kitchen with dishwasher open to the living room, a bedroom, a bathroom with shower and access to a terrace and a large private garden. All high-end finishes have been worked on to create a modern, cozy and functional space (spotlights integrated into the ceiling, solid parquet, stone tiling , Zug/Siemens appliances). A parking space in the basement with the possibility of connecting an electric car and a cellar complete this property. Apartment 41.7 m2 Terrace 12.6 m2 Garden 96.8 m2 public transport. Bus 813 at 60m and Tannay station less than 10 minutes on foot. (Leman-Express line). The Coppet motorway exit is 6 minutes by car. The village of Tannay is home to a Tea-room bakery and pastry shop as well as a wonderful inn. Rent (including charges and parking space) CHF 2,150.- / month.Availability August 1, 2021\n",
            "130743 Lausanne: Café Restaurant to be handed over. This restaurant has been operated for 20 years by the same people who now wish to retire. Very well placed between Lausanne train station and the lake, on a busy road and close to many international companies. It has about 80 places inside and a beautiful terrace, many parking spaces are available to customers. Sale price: CHF 130,000.- Find more than 2,000 other offers on: www .remicom.com\n",
            "130744 We are renting a charming 3-room apartment on the 5th floor at Winterthurerstrasse 16, 8006 Zurich as of July 1st, 2021 or by arrangement until March 31st, 2022.******************* *************************************** VIEWING DATE: You can arrange a viewing appointment with Mr. Binkert. He can be reached on 079 572 66 21. Please ring Mr. Binkert's bell. * Mask required ***************************************** *******************The apartment offers you the following highlights: kitchen with tiled floor, window, ceramic hob, refrigerator, oven and dishwasher bathroom with tiled floor, bathtub, toilet, double washbasin, Mirror cabinetSeparate toilet Parquet floors in the living room and 1 bedroomGallery availableBalcony with a view of the city of ZurichBasement compartment availableOwn washing tower in the apartmentThe location:The property is in the center of Zurich and a 20-minute walk from the main train station.The city of Zurich offers you an ideal living atmosphere, various shops and very good public transport -connections to. Interested? Then do not hesitate to contact us on 044 805 93 34.\n",
            "130745 In the historic Accum area, we rent an attractive office space in the shell by arrangement. The area on the ground floor impresses with a solid basic construction, modern bathrooms and can be divided into two individual rooms if required due to the two entrances. Due to its central location, the Accum Areal is very easy to reach by public transport. Important business locations such as Zurich, Winterthur, Rapperswil or Kloten Airport are only 20 to 30 minutes away by car. All daily needs can be covered in the diverse shops in the centre. Have we piqued your interest? We are looking forward to your contact.\n",
            "130746 Live and work on 2 floors. Also suitable as a shared apartment for 5-8 people. 300m2, 3 toilets, 1 urinal, 2 showers, 2 WC, 2 tumblers, 1st and 2nd floor, 2nd floor attic with sloping ceilings. Unsuitable for children. Pets are not allowed. Noise and partying allowed (only apartment in the building) Outdoor area for barbecue etc. Suitable for commercial or office combined with living. 1 outdoor parking space included in the rental price. Inquiries, information, appointment for viewing exclusively by email.\n",
            "130747 For rent until December 31, 2021, charming accommodation comprising:- Entrance hall- Bright living room giving access to a balcony- Open kitchen- Beautiful bedroom- Shower room/WC- Building with elevator- Close to all amenities - Rental with free deposit - Possibility to rent a parking space\n",
            "130748 Here you are buying a biologically completely renovated half-timbered apartment in the center of Veltheim below the old vineyards. The object is under homeland protection and has historical relics. The building was made of clay and professionally renovated using natural materials. On the first floor there are 4 rooms and two bathrooms. The ceilings are as low on the bedroom floor as they used to be, but on the second floor the roof is very high and spacious. In this house you can live healthily. This BETTERHOMES offer is characterized by the following advantages: - attractive location: quiet, family-friendly in Veltheim - completely renovated - protected property - one could grow a balcony - charming half-timbered house - historical relics - biological construction (clay building with latch) - with various fireplaces and Swedish stoves - and, and, and... Interested? Contact us for a non-binding inspection, online inspection is also possible! Nothing suitable found? More than 3,000 other offers at: www.betterhomes.ch - the real estate fair broker® to market a property yourself? Benefit from our know-how: would you like to have a property appraised? Benefit now from our free appraisal, immediately and without obligation! DetailsLocation: Top: Quiet, family-friendly in VeltheimCondition: Top: Was completely renovated about 7 years agoBathrooms / wet rooms: 2 (1x toilet/sink, 1x toilet/sink/bathtub)Heating system: radiators/floor heatingPublic transport: bus, 200 mSchools: kindergarten, primary school , 400 mShops: Coop, 500 m\n",
            "130749 This beautiful office space is located very centrally in Zurich. The entire building was extensively and modernly renovated at the end of 2018. You can enjoy a very high room height and a modern kitchen. We would be happy to show you this beautiful office. This BETTERHOMES offer is characterized by the following advantages: - very central location - modern, renovated - the office has a kitchen with a large refrigerator and dishwasher - separate toilet facilities for shared use - Internet connection, fiber optics - the house was completely renovated in 2018 - and, and, and... Interested? Contact us for a non-binding inspection! Nothing suitable found? More than 3,000 other offers at: www.betterhomes.ch - the real estate broker&174;Market a property yourself?Benefit from our know-how: would you like to have a property appraised?Benefit from our free appraisal now, immediately and without obligation! DetailsLocation: very centrally connected in ZurichCondition: very goodBathrooms / wet rooms: 2 (1x men's toilet, 1x women's toilet)Public transport: various train and tram lines in all directions, on the doorstep of ZurichSchools: kindergarten and primary school, 1 min FussShops: Coop, Migros, post office, commercial buildings on the doorstep\n",
            "130750 -This offer from BETTERHOMES is characterized by the following advantages: -Interested? Contact us for a free visit! Nothing that matches? You will find more than 3,000 other objects on: www.betterhomes.ch - The Swiss specialist in real estate transactions.Do you have a property to market?Take advantage of our know-how: want to know the value of your property?Take advantage of our free online estimate! detailsLocation: -Bathrooms: 1 x bath/WC/washing machinePublic transport: bus, 2min walkSchool: Primary and secondary, 10 min walkShops: Migros and COOP, 10 min walk\n",
            "130751 Magnificent 2.5 room apartment perfectly located (2 min walk from the train station and La Combe shopping center). A balcony with a splendid view of Mont Blanc completes this property. This accommodation includes: Fitted kitchen Entrance hall with wall cabinets Bedroom Bathroom Cellar Balcony Elevator\n",
            "130752 Very nice practice rooms (16m2 and 25m2) as well as a seminar room (50m2) for subletting. Single days or whole week. In a charming community practice in a central location in Lucerne. Old building, parquet, bright! Rent from 240.-/month for a fixed day of the week including additional costs, cleaning, shared use of general premises. For counseling and therapy offers. (Craniosacral therapy, osteopathy, massage, coaching, nutritional advice, etc.) Electric massage table available.\n",
            "130753 2 RENTS OFFERED WITH 2-YEAR CONTRACT! FOR ANY NEW TENANT2 minutes from the motorway and 50m from the shops, this bright 3.5 room apartment of approximately 84m2 on the 2nd floor with large terrace has an ideal location close to all amenities. This apartment has parquet floors in the bedrooms as well as the kitchen, living room and shower room with WC and separate WC are in anthracite tiling. The kitchen, fully equipped, is equipped with a dishwasher, a large fridge with freezer, ceramic hob and an oven. A terrace facing south-west, offers this apartment a breathtaking view of the Pre-Alps, including the Moléson. Each building has an elevator. The playgrounds available and the location of the neighborhood make this place a quiet and practical place where life is good. For any other additional information you may require, the entire Actus team naturally remains at your entire disposal.\n",
            "130754 We rent this bright 4-room apartment on the 1st floor (with elevator) near the village center of Bauma on May 16, 2021 or by arrangement. Various shopping facilities as well as public transport and schools are in the immediate vicinity.Housing plus:- open kitchen with dishwasher, granite cover, ceramic glass- living room with parquet floor- built-in cupboards in the corridor- sunny, covered balcony- bathroom and separate toilet with window- cellar and screed compartment - Attractive, spacious floor plan A garage space can be rented for CHF 120.00 per month. The viewing appointment will take place on the following date: - Wednesday, April 21, 2021, 4:00 p.m meters.*Pictures of a comparable apartment*\n",
            "130755 First letting of 3 1/2 room attic apartments in a newly created family quarter. The location of the superstructure impresses with its quiet, sunny location and proximity to the school center in Willisau A parking space can also be rented in the common underground car park for CHF 120.00 per month. Move-in is planned from July 1, 2022. Order the rental documents now without obligation or find out more at walkimatt.ch. We would also be happy to give you a call on 041 972 59 59 information.\n",
            "130756 Pregassona alta, apartment in an important 1960s villa, completely renovated in the interiors, with very high design.Comfortable with the center, in a sunny and dominant position.The apartment, of 450 square meters, occupies the entire first floor of the villa with local annex underlying hobby. Large entrance with wardrobes, guest bathroom, living area with exit to the garden with lake view, separate eat-in kitchen, large master bedroom with two bathrooms, walk-in closet and gym, two other double bedrooms with their own bathroom complete the property. On the floor below, spacious hobby room with laundry and small study with bathroom. The villa is shared only with the attic above. Several covered and uncovered parking spaces are available. Absolutely not to be missed!\n",
            "130757 Denges le Vieux BourgNear Morges, Bussigny and EPFLApartment for rent in a renovated old village farmhouse full of charm4.5 room duplex 131m21st floorFurniture entrance hall, two bedrooms, an open duplex attic room, living room-kitchen with two shower rooms/WCNon-smoking Available from July 1, 2021Net rent chf 2520.-Expenses chf 120.-1 parking space chf 60.-Total 2700.-\n",
            "130758 On Giebelstrasse you can expect the highest living comfort in high-quality architecture. In the MINERGIE-certified residential building, controlled ventilation in combination with underfloor heating ensures a pleasant indoor climate. The apartment is equipped with a high-quality Poggenpohl kitchen. Ready to move in immediately or by appointment. We look forward to seeing you Your contact.Car parking spaces are available for an additional CHF 140.00 per month or outdoor parking spaces for CHF 80.00 per month.On Giebelstrasse you can expect the highest level of living comfort in high-quality architecture. In the MINERGIE-certified residential building, controlled ventilation in combination with underfloor heating ensures a pleasant indoor climate. The apartment is equipped with a high-quality Poggenpohl kitchen. Ready to move in immediately or by appointment. We look forward to hearing from you. Car parking spaces are available for an additional CHF 140.00 per month or outdoor parking spaces for CHF 80.00 per month.\n",
            "130759 Surrounded by greenery, ideal environment for families, near kindergarten and schools and near large shopping centers we rent 3.5-room apartment on the 2nd and last floor, with fireplace, of approx. 86 sqm, consisting of entrance hall, living room, separate and equipped kitchen, 2 bedrooms, two bathrooms (bathroom with tub and guest service), cellar and attic. Parking spaces in the garage and outside are available. Residential complex consisting of 5 buildings for a total of 72 apartments divided over 12 entrances. The apartments are spread over a total of 3 floors. All apartments have a balcony. FREE FIRST NET RENT !!! (Photos and Virtual Tour referring to a similar apartment in the same residence). Residential complex consisting of 5 buildings for a total of 72 apartments divided over 12 entrances. The lodgings are arranged on a total of 3 floors; some with fireplace and others with private garden. All apartments have a balcony. The neighborhood is surrounded by greenery and therefore ideal for families, with kindergartens and schools nearby. Close to large shopping centers. There is parking in the common garage and outdoor spaces.\n",
            "130760 This newly renovated and modern office space is located in the village center of Buchs ZH. You can now benefit from the expanded office at good conditions. Catering and breaks are well taken care of, there is a small kitchen with seating. This BETTERHOMES offer is characterized by the following advantages: - good conditions - expanded and newly renovated - in the village center - direct access to the underground car park - underground car park spaces for CHF 110. - monthly- small, modern kitchen with seating- coffee bar available- and, and, and... Interested? Contact us for a non-binding inspection! Nothing suitable found? More than 3,000 other offers at: www.betterhomes.ch - the real estate broker&174;Market a property yourself?Benefit from our know-how: would you like to have a property appraised?Benefit from our free appraisal now, immediately and without obligation! DetailsLocation: centralCondition: renovatedBathrooms / wet rooms: 1 (1x toilet)Heating system: floor heatingPublic transport: bus and train, 5 min. on footSchools: kindergarten, primary school and middle school, 1'000 m / secondary school, 2'000 mShops: Coop, bakery, Butcher, restaurants, bank and post office 5 min. walk\n",
            "130761 As of May 15, 2021 we are renting a 2-room apartment in a prime location in Bern. We can give you the following information: - Spacious kitchen with windows - Parquet in the bedroom and living room - Bathroom with bathtub - Built-in closet in the bedroom - Two balconies - Cellar compartment available - No elevator - Photos are of a comparative property Have we aroused your interest? We are at your disposal for further information or a non-binding visit.\n",
            "130762 Pretty oasis of well-being with a small roof terrace (beautiful distant view) and high ceilings with wooden beams: beautiful view from there and through the large windows. Washing machine as well as cable TV and fiber optic internet. In addition to the dreamlike atmosphere, there is a Swedish stove in the living area. The living and dining area with open kitchen and hallway is large. Built-in wardrobe and some existing lighting fixtures/lamps are already in place. The beautifully planted garden invites all tenants (four apartments) to linger and grill (fixed grill and garden furniture are free to use. An outdoor parking space for CHF 70 or a garage (170) can be rented.\n",
            "130763 Residenza Fior Di Loto We are looking for a substitute for a splendid very bright 3 1/2 room apartment, composed of: - Entrance with small hall - large open space kitchen and living room with exit to a 15sqm terrace - double bedroom with built-in wardrobe from which you can access to the terrace - Single room - Bathroom with shower. The bathroom has a washing machine and dryer already installed. - Large cellar - 2 underground parking spaces The surface area of ​​the apartment is 81.8 sq m The monthly net rent is chf 1450 +200 expenses + two parking spaces at 60.- per strategic area near highway, station, fox town, supermarkets. Availability by date to be agreed.\n",
            "130764 This spacious and bright ground floor apartment in the Ticino village of Vairano impresses with its own part of the garden with two large terraces. From the entrance you reach the light-flooded living and dining area as well as the two bedrooms and bathrooms. The rooms are well laid out and bright, thanks to their floor-to-ceiling windows with direct access to the sunny terrace with an inviting seating area right in front of the living room. Another comfortable seating area is at the end of the small garden with a barbecue area. The apartment has 2 bathrooms; one bathroom with a bathtub and one with a shower, which also offers space for a washing machine and tumble dryer. An additional highlight of this apartment is the indoor swimming pool, which can be used by the 4 parties in the house. This is on the same ground floor level, so you are only a few steps away from the pool and its relaxation area. The apartment includes a cellar and two parking spaces; one uncovered and one garage space. In addition, the apartment can be easily reached via a few steps or by elevator. This beautiful property can be purchased as a second home. San Nazzaro is 201m above sea level and has approx. 705 inhabitants. From here you have a wonderful view of the Maggia Delta, Valle Verzasca, Ascona, Locarno and the surrounding mountains. It has its own lido with a bar and a beautiful sunbathing lawn and a boat dock, from where you can go directly to Ascona, among other places. In addition, San Nazzaro has its own train station, post office, bank and small supermarket. The many sights in this region include the Eisenhut botanical garden in Vairano and the mountain village of Indemini. In addition, the \"Monti\" above the Ticino villages in Gambarogno invite you to wonderful hikes.\n",
            "130765 PROPERTY LOCATIONRegion: Bellinzonese Postal code/City: 6592 SantAntonino PROPERTY DETAILS Property type: Building land Property area: min. 800m2 Building zone: Residenziale estensiva / village core zone Maximum height of eaves: 7.5 m Utilization rate: 0.5 Development rate: 30% Minimum distance to the border: 4 m (depending on the Building length) Minimum distance to the street: 4 mAccess: Yes Location/zone: sunny panoramic position Schools: SantAntonino Shops: SantAntonino Public transport: Bus within walking distance / train 3 km Distance to the next town: Bellinzona 6 km Distance to the motorway: 3 km Bellinzona south distance Locarno 17 kmPROPERTY DESCRIPTIONFor sale on a quiet and sunny hillside in Sant 'Antonino, district of Paiardi, building land with unobstructed views. The partial plot for sale is located on the western side of plot no. 781 (total 2'589m2). The desired size can still be determined, at least 800 m2 or a maximum of 1300 m2. The sales price is CHF 510.-- per m2, which results in CHF 408,000.-- for a plot size of 800m2. The district of Paiardi is a residential area with spacious villas as well as simple rusticos. There is an osteria and the bus stop within a short walking distance. The municipality of SantAntonino has an intact infrastructure with a post office, bank, various shopping centres, schools and a train station. In the municipality of Sant'Antonino, it is still possible to build houses with secondary residence status thanks to the high primary residence quota. With a tax rate of 65, SantAntonino is far below the cantonal average of 84.5 and is therefore particularly interesting as a primary residence from a tax point of view.\n",
            "130766 Apartment in a building near Yverdon. Covering an area of ​​75 m2, you will find an entrance hall, two bedrooms, a shower room with WC as well as a bathroom with WC/bath, a fitted kitchen and a living room. These last two rooms have access to a terrace with maximum sunshine. A cellar and an outdoor parking space complete this property. This BETTERHOMES offer is characterized by the following advantages: - two bedrooms - available immediately or by agreement - terrace - near Yverdon - an outdoor parking space CHF 60 .-- an indoor parking space CHF 120.-- additional charges CHF 110.-- etc, etc, etc...Interested? Contact us for a visit without obligation - online visit also possible!Nothing that matches? You will find more than 3,000 other objects on: www.betterhomes.ch - The Swiss specialist in real estate transactions.Do you have a property to market?Take advantage of our know-how: want to know the value of your property?Take advantage of our free online estimate! detailsLocation: Near Yverdon Bathrooms: 2 (1x bath/wc, 1x wc)Heating system: UnderfloorPublic transport: Bus, 2 minutes on footSchool: Primary school, nearbyShops: Shops, 5 minutes by car\n",
            "130767 We rent this cozy 1 room apartment in a quiet, slightly elevated location on July 1st, 2021 or by arrangement. The apartment has the following standard of construction: - living room with parquet floor - bright kitchen with ceramic hob and access to the balcony - kitchen and bathroom with tiled floor - bathroom with bathtub and window - corridor with built-in closet - spacious balcony with a view of Mount Pilatus - start of rental flexible by arrangement possibleThe Grünegg district is in a quiet location. The Biregghof bus stop and the school building are in the immediate vicinity. Parking is available on request. Have we piqued your interest? We are looking forward to your contact!\n",
            "We look forward to hearing from you! =)\n",
            "130769 As of July 1st, 2021 or by appointment we rent this 4-room old building apartment. The apartment is on the top floor (2nd floor, no elevator, electric door opener) and has parquet floors throughout. Kitchen with GS and glass ceramic hob has tile floor. Bathroom with bathtub and separate toilet, both with window and tiled floor. Balcony (2.2 m^2) facing south. Cellar compartment with natural floor and screed compartment are part of it, as well as community bike house for shared use. Without PP. Bus stop in the immediate vicinity. Community washing machine in the basement.\n",
            "130770 Gordola Gordola - we offer for sale a modern and bright apartment located in a hilly position with magnificent views. The apartment is accessed directly from an external lift. The living area of ​​approx. 125sqm is composed as follows: entrance with built-in wardrobe, large living room with exit to the large terrace, open space kitchen, bathroom with shower and washer-dryer column, 3 bedrooms including the master bedroom with built-in wardrobe, bathroom with tub and shower The apartment has state-of-the-art technology with home automation system, chromotherapy in the master bathroom, air conditioning system. Outside there is also a technical room and built-in wardrobe. In the vicinity of the residence there are shopping centers, sports center, schools etc. Covered parking spaces for CHF 45'000.- each Also for sale as a secondary residence **************** *********** Gordola - wir bieten zum Verkauf eine moderne und helle Wohnung in hügeliger Lage mit herrlicher Aussicht.Die Wohnung ist direkt von einem externen Aufzug erreichbar.Wohnfläche von 125 m2 wie folgt: Eingang mit Einbauschrank, großes Wohnzimmer mit Ausgang zur großen Terrasse, offene Küche, Badezimmer mit Dusche und Waschtrockner, 2 Schlafzimmer + 1 Hauptschlafzimmer mit Einbauschrank, Badezimmer mit Badewanne und Dusche. einen Technikraum und einen Einbauschrank.In der Nähe der Residenz befinden sich Einkaufszentren, Sportzentren, Schulen usw.Überdachte Parkplätze für je CHF 45'000.- zur Verfügung.Auch als Zweitwohnsitz in the District of Locarno, in the Canton of Ticino. The population in the political municipality of Gordola has varied on average by + 0.6% per year in the last 5 years, reaching 4'666 inhabitants (as at 31 December 2019). The tax burden is 11.7% (Canton: 11.7%). The municipality has recorded an average residential construction activity of 2.2% per year in the last 5 years, while the vacancy rate currently amounts to 1.6% (as of June 1, 2020). Property prices in the last 5 years have changed by + 12.7% (Canton: + 7.3%).\n",
            "130771 Ideally located in a quiet and residential area close to all amenities, this first floor studio offers a living area of ​​approximately 15m2 including a room equipped with a fitted kitchen and a shower room. A cellar completes this property. Possibility to rent it furnished for Chf 100.- extra. Covered places are available in addition Chf 110.-/month/lot. Individual charges. Available from June 2021.This BETTERHOMES offer is characterized by the following advantages: - quiet and residential area close to all amenities - new construction with first choice finishes - 1 room with kitchen - shower room - cellar - possibility of renting furnished for CHF 100.- extra - covered parking spaces extra 110.-/month/lot - individual charges - available from June 2021 Interested? Contact us for a visit without obligation - online visit also possible!Nothing that matches? You will find more than 3,000 other objects on: www.betterhomes.ch - The Swiss specialist in real estate transactions.Do you have a property to market?Take advantage of our know-how: want to know the value of your property?Take advantage of our free online estimate! detailsLocation: Ideally located in a residential area, 5 minutes by car from the motorways and 20 minutes from Yverdon-les-BainsState of the building: New luxury construction with first choice materials.Bathrooms: 1 (1x Shower /WC)Heating system: District heating/Underfloor Public transport: Train station, 10 minutes on footSchool: Schools, 3 minutes on footShops: Migros and various shops, 3 minutes on foot\n",
            "130772 Magnificent renovated apartment in the city center. It is on the 6th floor with elevator, offering a beautiful view of the lake. This property is composed as follows: - an entrance hall with tiled floors, - a renovated bathroom, - unfitted kitchen, - a bedroom with old parquet floors and wall cupboards, - a living room with old parquet floors - a balcony with a view of the lake, accessible from all rooms. Availability to be agreed. SINGLE AND ONLY GROUP VISIT ON WEDNESDAY, APRIL 21, 2021 FROM 4:00 PM TO 4:30 PM In case of interest after the visit, please send us your application file including: - rental request form completed - last 3 pay slips - original extract from the prosecution office - copy of identity document\n",
            "130773 For rent! Shared flats allowed: also suitable for a 2-person flat share. Bright, beautiful, freshly renovated, sunny, quiet, large 2.5-room flat on the 1st floor (with elevator). The apartment has the following equipment: - kitchen, ceramic glass, microwave - bathroom with bathtub/shower - large built-in cupboards - entire apartment newly renovated in 2021: all rooms with mineral Naturofloor flooring and floor heating - large balcony/terrace with a beautiful view and a view of the Green- entrance area with intercom- monthly rent 2680.- CHF incl. additional costs- limited or unlimited, short stays also possible- flat share allowed: also suitable for a 2 person new flat share- pets allowed- washing machine, dryer- broadband internet, cable connection- elevator - Garage- balcony/seat, viewThe apartment is a two-minute walk from the Berghaldenstrasse bus stop. The main train station can be reached within 15 minutes by bus number 31. Blue zone parking spaces are available around the property. A garage space can be rented for CHF 180 per month.\n",
            "130774 New 2.5 room apartment with private garden, very bright, renovated with taste and attention to detail, with high quality materials.It consists of: - independent entrance - living room / kitchen with exit to the private garden, - double bedroom with exit to the private garden, - complete bathroom - laundry room - large storage room The terraced garden is characterized by a beautiful open view of the mountains, vineyards and woods of the surrounding village. Prison CHF 1,300 .-- Charges CHF 120 .-- Available from June 2021.\n",
            "130775 For rent immediately or by agreement, 2-room apartment on the upper ground floor consisting of a living room and an open room in the quiet area of ​​Renens village near the center and amenities. Possibility to rent a parking space in addition at Frs 100.-- / month. Contact visits: 076 772 25 31.\n",
            "130776 Price information1 garage parking space, Rent: 140.00 CHFObjectThis unique, cozy and partly furnished apartment is located in the middle of the village of Wil ZH and impresses with its rustic style and a good standard of construction. Here you can enjoy a lot of space and comfort, which is perfect for a family or couples who run a home office. Four bright bedrooms, a fully equipped kitchen with a large pantry and a bathroom with a bathtub and a separate shower are part of this charming apartment. There is also a separate laundry room and a sunny and quiet private garden with seating and a private, self-contained garage. Shops and the bus stop are practically on the doorstep. Anyone who appreciates the tranquility of a rural village and still wants to be at the airport or in a big city in a short time can rent an apartment in Wil ZH at an extremely interesting price/performance ratio. This properti offer is characterized by the following advantages: Ideal location in the middle of the village Spacious and light-flooded rooms Private garden Private laundry room right next door Partially furnished Generous screed Built-in cupboards Bus and shopping facilities very close by Garage box at CHF 140.- can be rented Interested? Contact us for a non-binding conversation!Your own property to market? We convince with fair and transparent conditions! For more real estate, visit our website at: Free market value assessment or rent analysis:/en/enquiry-assessment/Free tips & tricks for selling or renting:/en/blogKeywordsNumber of bedrooms: 4, number of Bathroom: 1\n",
            "130777 RENTAL PERIOD from May 13, 2021 to August 1, 2021 (at least 2 months) Direct link: ums.ch/angebotes-detail/54840/All offers: ums.ch/moeblierte-wohnungen/AllgemeinBeautiful single-family house in a quiet location with lots of land and its own Sauna. Great for families. You have to mow the lawn occasionally.160m², on the 2nd floor, 1 bedroom, 1 office, in an old building, in good condition, in used conditionMaximum 5 people, families with children welcome, smoking in the apartment not allowedAdditional remarks on the rentIncl. Heating, electricity, water, Internet, TV (incl. connection and subscription) SPECIAL PRICE The provider of this property rents out below his own cost price (or below the market price for owners).Furnishing in the IKEA style, comfortable1 double bed, 3 single beds, 1 sofa bedEquipmentTV ( incl. connection and subscription), internet, DVD/video, built-in cupboardswashing machine & tumble dryer/tumblerbalcony/terrace/garden2 balconies1 terracegardenpatioconservatorykitchenkitchen equipment for 5 peopleseparate kitchen, dishwasher, steamer, ceramic glass hobbathroom/shower/toiletone bathroom is currently being renovated, should be ready by the time you move in .1 shower in bathtub & WC, 1 shower & WC, 1 separate showerCar2 own parking spaces1 own garage******************************* ****************SPECIAL PRICE - 6 ROOM HOUSE IN FRUTIGEN (BE), FURNISHED, TEMPORARY RENTAL PERIOD from May 13, 2021 to August 1, 2021 (min. 2 months)Direct link : ums.ch/offer-detail/54840/All offers: ums.ch/furnished-apartments/Gen General information Beautiful single-family house in a quiet location with lots of space and its own sauna. Great for families. Occasionally you have to mow the lawn.160m², on 2nd floor, 1 bedroom, 1 home office, in older building, in good condition, in used condition5 persons max., families with children welcome, smoking in apartment not allowedComplementary remarks on the rentHeating, electricity, water, internet, TV (incl. connection and subscription) incl.SPECIAL PRICE The provider offering this property is renting out below cost price (resp. below market price if he is an owner).FurnitureIKEA style, cosy1 double bed , 3 single beds, 1 sofa bedEquipmentTV (incl. connection and subscription), internet, DVD/Video, built-in closetswashing machine & tumblerBalcony / Terrace / Garden2 balconies1 terracegardenpatiowinter gardenKitchenKitchen equipped for 5 personsseparate kitchen, dishwasher, steamer, ceramic stove topBath / Shower / ToiletA bathroom is currently being renovated and should be ready by the time you move in.1 shower in tub & toilet, 1 shower & toilet, 1 separate showerCar2 private parking spaces1 pri father garage\n",
            "130778 The apartment in the center of Reiden is very sunny and bright and, thanks to two large houses, is protected from the street noise. It is south-southwest facing and has a high condominium standard. The equipment, the unobstructed view and the adjacent vineyard give a feeling of comfort. The oak parquet floors in the bedrooms and the bright panel floors in the other rooms also contribute to this. In the entrance area there is a large closet with a cloakroom. The kitchen with cooking island and the two bathrooms are modern and practical. To the south, a large covered terrace invites you to linger and the playground to the west is bordered by a hedge, so that privacy is maintained at all times. In the basement there are two garage spaces that can be rented for CHF 110 each, a separate laundry room with washing machine and dryer and a spacious cellar compartment. The heating energy is generated with an environmentally friendly geothermal probe. The apartment can be reached directly from the garage by stairs or elevator.\n",
            "We are looking forward to your contact!\n",
            "130780 First letting Newer, comfortable apartment in a quiet, beautiful location in Uhwiesen. The apartment has a high-quality, comfortable interior with ceramic tile floors throughout the apartment, its own washing machine and dryer, and a shower and bathtub in the wet room. A large balcony, facing south, is accessible from the living room. Car parking spaces for CHF 120.-- can also be rented. We are pleased to present you this beautiful apartment.\n",
            "130781 Furnished room in a 4-person shared flat with cleaning service for the common areas Highlights: - spacious 24m² corner room (most beautiful room in the shared flat) - high-speed internet connection - fully equipped kitchen (coffee machine, dishwasher, oven, microwave, etc.) - apartment has its own wash tower (washing machine / Tumbler) - Apartment has a bathroom as well as a shower/toilet. (2 bathrooms) - surrounded by Migros, Aldi, Coop (just a few steps away or right across the street) - very nice view. A cellar compartment can be rented on request (CHF 50 per month). The room price also includes weekly cleaning of the common areas such as Wet room, kitchen and hallway. Tidy and reliable non-smokers and students with long-term intentions are preferred. No pets allowed. Minimum rental period is 6 months. Notice period 14 days to the end of a month, security 1 month's rent or our deposit insurance offer without deposit payment. Excerpt from debt enforcement and liability insurance must be presented before the contract is concluded. We look forward to hearing from you.\n",
            "130782 Bellinzona a stone's throw from the city center as well as from public transport and all the main services and shops - reachable on foot - we rent a comfortable 3.5-room attic apartment.The apartment consists of an entrance hall with fitted wardrobes, living room, separate kitchen with access to a small terrace, 2 bedrooms, bathroom with tub. The apartment is equipped with climate control. The costs are a flat rate without adjustment. Possibility of covered parking for CHF 130.00. A truly strategic area that satisfies all types of requests.\n",
            "130783 Building located in a quiet area, this accommodation includes:- Equipped kitchen with ceramic hob- Parquet in the bedrooms- Wall cupboards in the hall- No balcony- Bathroom- Cellar Bus n° 604 takes you to the station in 6 minutes d'Yverdon, bus stop near the building. Outdoor parking space CHF 80.00/month extra. A visit is a must!\n",
            "130784 We rent a spacious 4.5 room apartment from August 1st, 2021 or by arrangement. WCBalconyCellar and screed compartmentGarage can also be rentedHave we aroused your interest? Do not hesitate to contact us for a viewing appointment. We look forward to your call.\n",
            "130785 4.5 room apartment + garage boxEv. also second homeNearby: bus stop, Migros, Coop, pharmacy, post office, 250m from the lakePlease only call in the evening\n",
            "130786 Various plots of land are for sale. Decide for yourself whether you want to buy a single or all three semi-detached houses. Start your own investment project and secure your future. I would be happy to show you further advantages on site. This BETTERHOMES offer is characterized by the following advantages: - post construction - on the ground floor panels - on the upper floor laminate - per room individually adjustable infrared heating panels - built-in spotlights - open kitchen - shutters made of aluminum - fire protection walls between the houses. - lots of storage space - and, and , and...Interested? Contact us for a non-binding inspection, online inspection is also possible! Nothing suitable found? More than 3,000 other offers at: www.betterhomes.ch - the real estate broker&174;Market a property yourself?Benefit from our know-how: would you like to have a property appraised?Benefit from our free appraisal now, immediately and without obligation! DetailsLocation: Until December 31, 2005, Richenthal was a municipality in the district of Willisau in the canton of Lucerne in Switzerland. On January 1, 2006, Richenthal merged with the communities of Langnau bei Reiden and Reiden to form the new community of ReidenCondition: goodBathrooms / wet rooms: 2 (1x toilet/sink, 1x bath/shower/toilet/sink)Heating system: infrared heating platePublic transport: bus, 2 minutes on foot / Reiden train station, 6 minutes by car, Reiden motorway entrance 6 minutes by carSchools: Primary school, 2 minutes on footShops: Within 5 minutes you can reach any shop in Reiden.\n",
            "130787 This comfortable villa near Morges, in a quiet residential area, overlooks the entire Lake Geneva region, offering a breathtaking view of the lake and the Alps. Its location is very comfortable with a small train linking Geneva airport and Lausanne, schools and shops 800 meters away. Its exteriors offer a heated and illuminated swimming pool, several terraces, covered and uncovered parking, a lawned garden with automatic watering. Its interiors offer on the upper ground floor, a large living room with fireplace and access to the terrace through large bay windows, an open kitchen, saddler, dining room, guest WC, an entrance. The lower ground floor offers three bedrooms, one of which can be opened up to make a large one, including a suite with walk-in shower, they all have access to the swimming pool, the terraces and the garden through large bay windows, a bathroom bathroom, a large multi-purpose room and a laundry room. The 1st floor offers a large master suite with a dressing room and a large walk-in bathroom-shower. All rooms in the villa have stunning views of the lake and the Alps. Velux, automatic blinds, log beams, parquet, tiles, underfloor heating by a heat pump.\n",
            "130788 The property consists of field, meadow and pasture with an area of ​​4'516 m2. This is located in the northern center of the municipality of Diesse, in the work zone and is ideal for commercial use with jobs. In this sense, the applicable building regulations are relatively broad and allow the construction of large buildings (buildable area of ​​50%, height of 7 .5 m, length of 45 m) No wishes are left unfulfilled here. Take advantage and see for yourself! This PREMIUM HOMES offer offers: Top price of CHF 65.-/m2 Large plot of 4,516m2 Work zone Construction of large buildings Beautiful location Lots of potential Motorway connection in 10 minutes by car And, and, and Interested? We would be happy to guide you through a non-binding inspection! Do you want to sell your house or apartment without any worries? We will tell you the current market value of your property, discreetly and without obligation! Are you interested in a first non-binding exchange of ideas? Do not hesitate and contact us. We look forward to hearing from you.\n",
            "130789 In Figino we rent 3.5-room apartment in a two-family house.The house is located near the Casoro park lake, not far from schools (childhood, elementary and middle school), shopping centers and the highway. bright and sunny and is divided as follows: Living room with fireplace with exit to the small balcony and terrace, kitchen, double bedroom with exit to the second balcony, single bedroom, and bathroom with tub and bidet. table, a private laundry and a garage. There is the possibility of a second outdoor parking space. Pets allowed (dogs only if small size) Free immediately. Monthly rent Fr 1500.- including down payment (without balance) and garage Guarantee deposit 2 months. For more information 076.2266077 C. Sciaroni\n",
            "130790 We rent the duplex apartment with an unrestricted view of Lake Zurich.The duplex apartment on the attic floor offers a balcony and two terraces with a breathtaking view of Lake Zurich and the mountains. A terrace is partially covered. Holiday feelings are guaranteed from early morning until sunset. The light-flooded apartment has a spacious and well thought-out floor plan and a very modern extension in the ownership standard. The interior was designed with sustainable and high-quality materials in warm colors and meets the demand for a high-quality, luxurious living space. Oiled and smoked oak parquet flooring is laid in the living area and in all rooms. Elegant ceramic plates were used for the wet cells. The large window fronts ensure a particularly pleasant living atmosphere. The kitchen is well equipped and offers, among other things, a combination steamer, a modern oven and a large dishwasher. The two wet cells - bath/toilet and shower/toilet - offer maximum comfort. The washing tower and the apartment technology are housed in the utility room of the apartment. The excellent living comfort is made possible by a high-quality building shell, controlled ventilation including free-cooling system and floor heating according to the MINERGIE P quality label. The highest ecological standards are met, which reduce energy consumption. The train station in Rüschlikon is within walking distance of the apartment. In addition, a car parking space can be rented for CHF 140.00 per month. Have we aroused your interest? We look forward to hearing from you.\n",
            "130791 Located in the heart of western Lausanne, the commune of Bussigny-près-Lausanne is in full expansion. It is about to revolutionize our way of apprehending the city. Ideally served by public transport, Bussigny train station and a bus stop are a 5-minute walk from the residence. In order to best promote mobility, many infrastructures are nearby such as shops, schools and sports centres. This promotion will consist of 22 condominium apartments of 2.5 rooms and 3.5 rooms. The apartments will be arranged in such a way as to take full advantage of generous volumes and beautiful light throughout the day. - Promotion of 22 apartments of 2.5 rooms and 3.5 rooms - Quiet and green environment - Immediate proximity to all amenities - Ideal for young families or young couples - Indoor parking space in addition to the sale price\n",
            "130792 To arrange a viewing appointment, please contact Mr. Csikos, 078 410 54 80-spacious, bright apartment-kitchen/bathroom renovation 2004-kitchen with ceramic glass, dishwasher, extractor fan, large fridge-bathroom/toilet-living room/bedroom parquet flooring-built-in closet corridor-balcony -No pets allowedGarage space for CHF 110.00 per month can be rented.Tenant's deposit for three months' rent incl. NBK (no Swisscaution)\n",
            "130793 The spacious offices are very nicely developed. The subdivision can be designed flexibly. All workplaces are connected to electricity and EDP lines. It would also be suitable as an office and warehouse at the same time. The office furniture could be taken over if required. The proximity of the motorway entrance and exit makes the location very attractive. This BETTERHOMES offer is characterized by the following advantages: - many windows, therefore very bright - meeting room - archive - room height 5 meters. can also be used as a warehouse - partial area from 200 square meters possible - goods lift - parking spaces additional for CHF 50.- per month - and, and, and...Interested? Contact us for a non-binding inspection, online inspection is also possible! Nothing suitable found? More than 3,000 other offers at: www.betterhomes.ch - the real estate broker&174;Market a property yourself?Benefit from our know-how: would you like to have a property appraised?Benefit from our free appraisal now, immediately and without obligation! DetailsLocation: near the Emmenbrücke motorway junctionCondition: goodBathrooms / wet rooms: 2 (1x men's toilet, 1 women's toilet)Heating system: central heatingPublic transport: Süd Emmenbrücke train station, 17 minutes on footSchools: kindergarten, primary and upper school, 5 minutes by carShops : Migros, 5 minutes by car\n",
            "130794 We are selling an attractive, large terraced house in a quiet location in the tranquil town of Courgevaux. The facts: - 160 m² of living space spread over 5.5 rooms and three floors - A lot of wood in the interior ensures a cozy living atmosphere - Open living and dining area with Swedish stove - Modern kitchen with a granite plate, steamer, special ceramic hob, a ceramic hob for paella/work and a grill plate - Two wet areas with shower/toilet, bath/toilet with a whirlpool and a shower cubicle in the basement Interested? More information and pictures of the property at XXX Become a free member of the Swiss Association of Property Owners today and benefit from the numerous member benefits: www.propertyowner.ch Association members can buy this or other properties with the support of our financing department, e.g. for just 0.95% for 10 years finance. - Association members can finance the present or other property with the support of our financing department, e.g. for just 0.95% over 10 years. - Association members have access to our legal service (30-minute free initial telephone consultation). Topics real estate law, inheritance law, provision. - Free, professional property valuation - Free advice on and calculation of real estate gains tax\n",
            "130795 New apartment with garden for rent in Comano. In a beautiful modern residence of 9 apartments we offer for rent this 3.5 room apartment with garden and large covered terrace. The apartment consists of two bedrooms with two bathrooms, laundry room and living area with kitchen open and island. From the living area there is access to the terrace and garden of approx. 80 sqm. The apartment has parquet floors, two parking spaces in the garage and a large cellar. Prison fr. 1'950 Parking spaces fr. 150 each expense account fr. 200\n",
            "130796 The Residenza \"Isola Verde\" by Kurt Grünenfelder was completed in 2012 at via Serodine 27 in Ascona and is accessible via a private access road. The development is extremely quiet and is embedded in a park-like environment. The apartment for sale is on the 1st floor and has a spacious living/dining area with an open kitchen, 3 bedrooms and 2 bathrooms. Only the finest materials were used to furnish the apartment. The large terrace offers a beautiful view of the countryside and invites you to linger. You can walk to the famous lake promenade with its inviting restaurants and exclusive shops in about 15 minutes, to the golf course and lido in about 7 minutes. The purchase price includes the furniture and an underground parking space. Another can be purchased for CHF 50,000.--. The apartment has a second residence.Ascona, often referred to as the \"Pearl of Lake Maggiore\", internationally famous as a holiday resort with a high cultural level, is located on the delta of the Maggia River in a unique, sunlit bay. The privileged location in the midst of a diverse landscape, the southern climate, a long tradition in tourism and a strong sense of hospitality on the part of the residents result in ideal conditions for holidays and relaxation and justify Ascona's reputation as a fairytale holiday resort. The rich heritage of culture and art in this old town is remarkable, with numerous witnesses from the Middle Ages and the Renaissance. The traces of artists who lived in Ascona from the 17th century are also varied, including the unique baroque façade of Casa Serodine, which is particularly impressive. However, it was the turn of the century that brought Ascona the most fascinating epoch of its cultural history: a group of people from the north in search of a life close to nature settled on the hill above Ascona and called it \"Monte Verità\", mountain of truth . Ascona also has a wide range of sporting activities. The 18-hole golf course right on the lake is one of the most beautiful there is. Right next to it is the new marina. There are also good opportunities for swimming, playing tennis, cycling or hiking.\n",
            "130797 Building ideally located in a peaceful and pleasant setting, near the city center and the train station. The apartment includes: an equipped kitchen open to the living room, access to the terrace, 1 bedroom and a bathroom-wc.1 cellarAnnex: an outdoor parking space at Fr. 60.- extra.\n",
            "130798 In a beautiful residential area, rent an apartment on the first and last floor of a building of only 8 newly built apartments, also suitable for people with walking problems or the elderly. Modern kitchen opening onto the large living room with direct access to the terrace, 2 bathrooms: 1 with shower and 1 with bathtub, 2 bedrooms, a closet. Individual meters for heating, hot and cold water. Monthly rent Fr. 1'290.00 Parking space in the garage Fr. 120.00 and outdoor parking Fr. 80.00 Expense account Fr. 220.00 Available from 15 June.\n",
            "130799 For rent a large garage with good height\n",
            "130800 In the heart of nature, 4 minutes from Moutier and the motorway, peaceful and green environment, in a dead end, 130 m2 on the ground. Upstairs: entrance hall opening onto terrace, kitchen open to living room with French fireplace, bay windows with south-facing balcony access, 2 large bedrooms, 1 child's bedroom or study also with balcony access, bathroom with window, hallway equipped with beautiful wall cupboards. Ground floor with 2nd bathroom (shower, sink, toilet), large bright workshop, available, garage also heated with automatic door, laundry room, heating room, cellar. Last renovation in 2020. Plot of 1613 m2 partially wooded. Large car park, access ramp to panoramic terrace of 50 m2, balcony 14m2, authentic raccard 15 m2. Quality construction, perfectly healthy, regularly maintained. School bus service for schools. The workshop can easily be transformed into a 2nd garage, or the possibility of creating a small independent or adjoining apartment. Heating changed at the end of 2016, eco oil-fired boiler, condensing, very economical. Volume: 865 m3 / useful area of ​​the 2 floors: 240 m2 + terrace 50 m2. Attic: attic 75 m2, treated beams in perfect condition.\n",
            "130801 The apartment building has 7 condominiums: 0.1 / 4.5 room apartment, ground floor / (135.6m2) CHF 940,000,000.2 / 4.5 room apartment, ground floor / (133.7m2) CHF 930,000,001.1 / 4.5 room -Apartment, 1st floor / (135.7m2) CHF 920'000.001.2 / 2.5 room apartment, 1st floor / sold1.3 / 2.5 room apartment, 1st floor / (59.3m2) CHF 460'000.002 .1 / 4.5 room apartment, 1st/2nd Top floor / (177.7m2/134.0m2) CHF 920'000.002.2 / 5.5 room apartment, 1./2. Top floor / (188.1m2/137.7m2) CHF 930,000.00 You can find the various floor plans on our website www.meier-immobilien.ch (under properties for sale).___________________________________________________________________The location: With its rural charm, Altikon is one of the local recreation areas in the Winterthur district. The recreation area on the Thur is right in front of the door and offers many opportunities for a relaxing walk. Away from the hustle and bustle and still in the city in a few minutes by public transport. Unterherten is a village in the municipality of Altikon. The quickest centers that can be reached by car are Frauenfeld (10 minutes), Andelfingen (13 minutes) and Winterthur (17 minutes). Public transport from Altikon is the quickest way to get to Frauenfeld (27 minutes), Winterthur (28 minutes) and Andelfingen (45 minutes). The most important thing: The property is on the connecting road between Altikon and Ellikon near the Thur. Due to the southern orientation of the building, you can enjoy perfect sunshine throughout the day. Thanks to the unobstructed surroundings, the apartments have a pleasant view of the countryside. The bus stop for Line 615 is right in front of the property. Altikon with the primary school, Landi and post office is 2 km west of Unterherten. The upper school is only slightly further away in Rickenbach. The planned move-in date is autumn 2022. Are you looking forward to a new home? You can find more information on our website www.meier-immobilien.ch. You are welcome to contact us via the contact form or by telephone on 052 246 08 46. We look forward to you.\n",
            "130802 Located upstream from the district of Morges, discover a panoramic view towards the lake and the Alps. live while remaining 800 meters from the first shop in the town. Indeed, it will delight lovers of outdoor spaces with approximately 6,300 m2 of land, people looking for beautiful interior volumes with approximately 450 m2 of useful space spread over 4 levels. You will benefit from large spaces and volumes in a traditional charm; the oak floors are authentic, the exposed beams and the two large stone fireplaces (one in the living room and the other on the terrace) give the whole a warm atmosphere. The exposure of the land is mainly south and Where is. The garden is completely fenced and the access gate to the property opens with a remote control. Interior repair is to be expected, although the boiler is from 2015 as well as the synthetic tanks (\"X 2'500L ) in Oil, that the equipped kitchen is relatively modern, that some shutters are already in aluminum and windows in double glazing / PVC. Its privileged location, on the edge of the forest and with the scent of freedom, offers the possibility of pretty walks Discretion assured, with no direct neighbors. .Practical information: To reach the major surrounding cities by car, you will be at: 20 min from Morges, 25 min from Vallorbe, 30 min from Lausanne and 45 min from Geneva. BONUS: Virtual visit possible on request.\n",
            "130803 RESTAURANT IN BERN IN THE BEST LOCATION - FOR LEASE We are looking for a new tenant for the well-known inn in Bern by appointment. Lease Fr. 5'500.-- / month incl. utilities (without water and electricity) Indoor seats approx. 60 - 70 seats 2 terraces 15 and 40 seats Approved fumoir or lounge on the 1st floor No delivery contracts Inventory must be taken over We look forward to hearing from you.\n",
            "130804 As of July 1, 2021 or by arrangement, we are renting a 69 m2 commercial space on the ground floor. The property is easily recognizable thanks to the generous display window area. The location is located directly on the busy Schaffhauserstrasse in Glattbrugg. The space is therefore ideal as a sales area, small office or practice space. Facilities: Parquet for the entire floor, spacious shop window area, small kitchenette (hot water via electric boiler), air conditioning, 6-door built-in closet, the toilet must be shared with the other two shops. 2 parking spaces can also be booked for CHF 60.-- per month. to be rentedConvince yourself of this commercial property on site. Arrange your personal viewing appointment with Ms. Zubek today on 052 209 01 33. We hope you enjoy the viewing. If you have questions, we are happy to help.\n",
            "130805 Come and discover this magnificent spacious apartment located in Préverenges. It is made up as follows: A large entrance hall, a guest WC, three beautiful bedrooms, a cozy living room with wood stove, a bathroom with bathtub, a kitchen open to the dining room with multiple storage spaces, a closed balcony, a bathroom with shower, a room (games or office...), a garden with terrace. A garage and an outdoor parking space complete this property. This BETTERHOMES offer is characterized by the following advantages: - bathroom with bathtub - three bathrooms - fully equipped kitchen - terrace with garden - a garage - spacious - monthly charges of 300.-- etc, etc, etc...Interested? Contact us for a visit without obligation - online visit also possible!Nothing that matches? You will find more than 3,000 other objects on: www.betterhomes.ch - The Swiss specialist in real estate transactions.Do you have a property to market?Take advantage of our know-how: want to know the value of your property?Take advantage of our free online estimate! detailsLocation: Good Building condition: Average Bathrooms: 3 (1x wc/shower, 1x wc, 1x wc/bathtub)Heating system: Hot water thermostat Public transport: Train and Bus, nearby School: Collège des voiles du Léman Shops: Migros and various shops, nearby\n",
            "130806 Building located at the exit of Echallens in the direction of Cheseaux in a green area. 5 minutes walk from the center and shops. Kitchen: Window Layout: Fridge, Ventilation hood, Dishwasher, Vitroceram Characteristics: Balcony, Cellar, Hall Sanitary 1: Bath , Washbasin, WC\n",
            "130807 Quiet living close to nature in Frutigen with a panoramic view of the Gerihorn chainSunny and modern development in a quiet location. The 3.5 room apartment has a spacious balcony and a cellar compartment. Optionally, hobby rooms and a maximum of 2 indoor parking spaces can be rented. The apartment is barrier-free and easily accessible by lift from the garage. A very modern kitchen and two bathrooms increase the functionality of the apartment. The apartment also has two storage rooms by the entrance and by the bedrooms. The latest fiber optic technology (up to 10Gbit/) allows you to watch TV in UHD quality without interruptions. Animals are allowed with us, as long as they are cats. Dogs are not welcome. Your advantages at a glance: Fiber optic technology (up to 10Gbit/s) Excellent view of the Frutig Valley and the Gerihorn chain Quiet surroundings close to nature Apartment in ownership standard Hobby rooms for do-it-yourselfers and those who need a lot of space Large balcony High-quality equipment (Miele, V-ZUG) 2 Wet cells with bath / shower and washing tower and much more! Come by and convince yourself of the quality of these apartments!\n",
            "130808 ObjectOn behalf of our customer, we are selling this single-family house. The 1st floor has 2 children's rooms, the master bedroom, a bathroom - which needs renovation (tub, toilet, washbasin) - and a balcony. The attic has been expanded and has 2 rooms, one of which is heated. An idyllic garden with seating and a parking space in the underground car park also belong to this property. A noise protection wall weakens the immissions.Interested? Call us and request detailed documentation at.KeywordsNumber of bathrooms: 1, Number of separate toilets: 1, Canton: Zurich\n",
            "130809 Are you looking for a yield property in the Bernese Jura? Located in the heart of the town of Cormoret, this very pretty building consists of 4 apartments. Close to the main amenities, you will discover a completely and nicely renovated property. .All the necessary documents can be sent on request. Our real estate agents will be happy to show you this property and calculate your future income with you.\n",
            "130810 We are renting a storage/hobby room at Nielsenstrasse 13 in Buchrain with immediate effect or by arrangement. The room offers you the following convenience: own entrance door directly at the outdoor parking spaces power connection (private meter) window (daylight) We look forward to hearing from you.\n",
            "130811 2.5 room apartment bathroom bedroom, living room, small bar very quiet location in Ecublens for any suite, charge included parking included, very large cellar For visit 0783310015 possibility of having a sofa bed TV table 400 fr\n",
            "Have we sparked your interest? Then write to us. We look forward to a few lines about you\n",
            "130813 The business premises on the historic \"Platz zur Farb\" is characterized by its typical charming old town character and is ideal for all forms of cosmetic services, as a therapy location or simply as office space. A toilet is available for shared use. Outside there are several ways to draw attention to the business with signs.\n",
            "130814 This 4.5 room apartment is particularly characterized by a modern extension, airy rooms and the Minergie standard. The train station is in the immediate vicinity, so there is a direct connection to Zurich main station. Don't hesitate and convince yourself. Make an appointment today! This BETTERHOMES offer is characterized by the following advantages: - Minergie standard, geothermal probe and comfort ventilation - 2 balconies (19.5 m2, 6.5 m2) - living area 48 m2 - bedroom : 16 m2, 16 m2, 24 m2- light-flooded rooms- parquet floor in all living rooms- floor heating in the whole apartment- open and modern kitchen- washing machine and dryer in the apartment- underground parking spaces can be bought- and, and, and... Interested? Contact us for a non-binding inspection, online inspection is also possible! Nothing suitable found? More than 3,000 other offers at: www.betterhomes.ch - the real estate fair broker® to market a property yourself? Benefit from our know-how: would you like to have a property appraised? Benefit now from our free appraisal, immediately and without obligation! DetailsLocation: goodCondition: very goodBathrooms / wet rooms: 2 (1x bathtub/toilet/sink, 1x toilet/shower/sink)Heating system: air-to-water heat pumpPublic transport: train station, 400 m / bus, 400 m Schools: kindergarten, 600 m / primary school, 600 mShops: Volg, 500 m\n",
            "130815 This stylish and modern attic apartment offers you a homely atmosphere. The light-flooded rooms and the idyllic view of nature offer you an excellent oasis of well-being. Make an appointment today and see for yourself! This BETTERHOMES offer is characterized by the following advantages: - beautiful open kitchen with cozy living room - bright and light-flooded rooms - newly renovated - spacious balcony with wonderful views - enough storage space available - washing machine / Tumbler in the apartment- garage space included- and, and, and... Interested? Contact us for a non-binding inspection! Nothing suitable found? More than 3,000 other offers at: www.betterhomes.ch - the real estate broker&174;Market a property yourself?Benefit from our know-how: would you like to have a property appraised?Benefit from our free appraisal now, immediately and without obligation! DetailsLocation: Well developed.Condition: Good.Bathrooms / wet rooms: 1 (1x shower/toilet/sink)Heating system: heat pumpPublic Transport: Bus stop, 1800 m Schools: School complex Bieten, 2000 mShops: Grocery store, 1800 m\n",
            "130816 The building is close to Tafers Hospital. In the apartment you will find: Entrance area with wardrobe Closed kitchen with dishwasher Room / Living area with parquet Bathroom with bathtub Balcony For rent according to availability: Aussenparkplatz Fr. 25.- Innenparkplatz Fr. 80. Balcony For rent only available: Exterior parking space Fr. 25.- Place of interior park Fr. 80.- (not included in the rent)\n",
            "130817 In late autumn 2022, eight exclusive condominiums will be built in the core zone of Nürensdorf - Breite. The project includes an apartment building, a car park and a free-standing garden room that serves as a community room. The mix of apartments is varied and offers various interesting floor plans and sizes, from 3.5 room garden apartments and flats to 4.5 room roof maisonettes. An absolute highlight is the extraordinarily designed garden, which is available to all residents and can be used as a place to play and retreat. Enjoy relaxation with your family and friends. The condominiums are built to a high standard and have controlled ventilation (KWL). The apartment building will be built to the MINERGIE standard (no certification) and heated using a cost-efficient and environmentally friendly geothermal heat pump. This means that you are independent of oil and gas and well prepared for the future. The entire interior design and materialization is carried out according to your ideas. Within the scope of your budget, you can sample the kitchen, sanitary facilities, floor and wall coverings according to your wishes, and we will advise you professionally and competently. Two parking spaces are planned for each of the apartments in the garage, as well as spacious basement rooms of 15 m2 and a separate bicycle storage room for the residents. The architecture has the characteristic features typical of the core zone. Traditional materials such as wood and masonry are combined with modern materials, creating a unique residential building with an elegant appearance that blends in perfectly with the neighborhood. The apartments have a spacious and light-flooded living/dining area with a modern kitchen and some with a cooking island. In addition to a covered seating area, the garden apartments have additional private green areas and an extra lounge area. The floor and attic apartments are equipped with beautiful balcony or loggia areas. The garden room, which is available to all residents as a common room, is being built next to the residential building. The garden room conceals the entrance to the underground car park and divides the forecourt and the garden area into two areas. As a result, the garden area cannot be viewed from the front. The residential building, the common room and the spacious garden landscape form the central and protected living space for the residents in the BREITEGARTEN project. The highlights in a nutshell: A garden complex of a special class 8 residential units with a high standard of construction Light-flooded rooms Individual and modern kitchen with cooking island Spacious bedrooms / children's rooms Up to 3 bathrooms per apartment Garden apartments with additional garden areaAll apartments are equipped with controlled ventilation (KWL)Property is created according to the MINERGIE standard (not certified)Environmentally friendly geothermal heat pump with buffer storageE-car charging station (wall box) ready for operation per apartment Common room outside for summer parties, meetings, birthdays and much moreComfortable Public transport connection in the immediate vicinity (in a few minutes to Winterthur - Zurich - Airport) The project still offers flexibility for the buyer, so that the interior design in consultation he can be adapted with the project management according to your wishes and needs. You can find more information at www.breitegarten.ch. Selling price apartment: CHF 1,160,000.- Selling price 2 PP in underground car park: CHF 80,000.- Selling price including 2 PP: CHF 1,240,000.- Interested? Then please fill out the contact form so that we can send you the detailed...\n",
            "130818 Located in a quiet and green area, this spacious 3.5 room apartment offers a living area of ​​85 m2 as well as a balcony-terrace of 8 m2. This property consists of an American kitchen open to a bright living room, a master bedroom equipped with wall cupboards and a private bathroom (bath/WC), a bedroom and a shower room. A cellar completes this property as well as an outdoor parking space in addition Chf 70.-. The building has a common laundry room, a common green space with a pergola and a carnotzet. Available from April 1, 2021. Monthly charges not included Chf 240.-This BETTERHOMES offer is characterized by the following advantages: - contemporary architecture - balcony-terrace of 8 m2 - fitted American kitchen - spacious and bright living room - master suite with wardrobes walls and private bathroom- shared laundry room- shared green space and carnotzet- an outdoor parking space in addition Chf 70.-- charges in addition CHF 240.- per month- available from April 1, 2021Interested? Contact us for a free visit! Nothing that matches? You will find more than 3,000 other objects on: www.betterhomes.ch - The Swiss specialist in real estate transactions.Do you have a property to market?Take advantage of our know-how: want to know the value of your property?Take advantage of our free online estimate! detailsLocation: Located in a quiet area of ​​Estavayer-le-Lac, 2 minutes by car from the motorways and 15 minutes from Yverdon-les-Bains.Condition of the building: Luxury construction dating from 2018 with quality materialsRooms bathrooms: 2 (1x bath/WC and 1x shower/WC)Heating system: Heat pump/Underfloor Public transport: Train station, 2 min. by carSchool: Primary and secondary schools, 2 min. by carShops: Coop, Migros, 2 min. by car\n",
            "130819 A very nice 3.5 room apartment near the Wetzikon train station. The apartment is in a nice and quiet environment, children and family friendly. There is also a small playground. Nearby is also the Guldisloo school, Wildbach bus stop / Wetzikon train station and Denner / Lidl. The apartment is including additional costs 1474.-. An outdoor parking space would be available for 40.- or a garage for 120.-. The apartment would be available from July 1st, 2021 or we can discuss this in more detail on request if you would like to move in earlier. We urgently need a new tenant. You are welcome to contact me if you are interested.\n",
            "130820 Daillens is a charming village near Cossonay-Gare very accessible and only 10 minutes from the shopping centers of Crissier. 1000 inhabitants outside the main roads offering a good quality of life in the countryside near the city. LABELISE MINERGIEFor a good quality of life ::::Label Minergie: DES PRES! Small residential building with 6 apartments with elevator built in 2017 IT IS YOUNG AND NICE .... LARGE 3.5 room apartment + large mezzanine 120 m2 Duplex apartment with a large mezzanine located on the top floor. ° Very large open kitchen opening onto the living room with a large balcony of around 15 m2.° Two bedrooms, two-door wall cupboards, ° Separate WC/sink° Large bathroom with WC, sink, shower and bath under skylight. ° Mezzanine 15 meters long. Underfloor heating with independent adjustment by zone Electric blinds with central and individual control. Intercom for the entrance door. Private cellar. Common laundry room available. All photos next week. Lease to be submitted for August 1, 2021. Rent CHF 2120.- + Two covered parking spaces CHF 150.- both and charges extra. (approximately CHF 270.- ) everything will depend on your personal consumption .\n",
            "130821 From July 1, 2021, or earlier by arrangement, we are renting this 3.5 room apartment in a quiet location with no through traffic Slab floor, spacious room, bathroom with bathtub, toilet, double washbasin and its own washing tower - practical built-in cupboards in the entrance, balcony, cellar compartment. You will find the village center with Migros Voi, Spar, pharmacy and bakery in the immediate vicinity. Schools (primary and secondary school) and kindergartens are also located in the village center and can be reached quickly on foot. The connection to public transport is optimal - the Rümlang train station is only about a 7-minute walk away.Garage spaces can be rented for CHF 120.00 per month.Have we sparked your interest? We are looking forward to your contact.\n",
            "130822 Granny flat on the 2nd floor with a large, bright living room, integrated walk-in closet. Large eat-in kitchen. Bathroom with shower / toilet including washing machine and dryer. You can reach the bedroom in the attic with skylights via a steep internal staircase. The room can also be used individually as a small work space. The lighting is available.\n",
            "130823 Your new home? The light-flooded and inexpensive apartment has a spacious living room and a separate dining area. A new vinyl floor was laid in the living area. The wet room was partially renovated in 2018. The open, new kitchen invites you to cook. Let yourself be inspired... ... by an apartment close to the center! The photos are of an apartment with the same standard of construction. Arlewo AG Your trusted partner for real estate and advice. NEW since 1968.\n",
            "130824 The holistic residential quarter düdingenplus combines living and living in perfection? Shopping, connection to public transport and individual transport, schools, leisure, local recreation, fair rental conditions and a high-quality standard of construction.First letting: 3.5-room apartment no. F 32.02 on the ground floor, good floor plan quality - the inner values ​​count, large balcony with a view - the outer values open kitchen with high oven, dishwasher, glass ceramic hob, granite stone cover and glass rear wall - for top chefs and co. two bathrooms, one with bathtub and one with floor-level shower with glass wall, both wet areas with toilet and washbasin with base cabinet - for hot and cold showers, separate washing tower in the apartment - Goodbye laundry room lousy!Entrance area with open cloakroom and tall cupboard - everything where it belongs, easy-care parquet floor coverings in the lounge areas and robust flagstone coverings in the kitchen and wet areas - QUALITY is still capitalized hereReduit for additional storage space - a bitzeli Ord tion must be Floor heating and controlled apartment ventilation - for warm feet and a clear head Cellar compartment with socket via apartment meter - every darling has its own spot Garage parking spaces in the garage with direct access to the apartment building for CHF 120.00 per month - and the hairstyle is perfect. No matter what the weather. Don't have your own vehicle and still be mobile? As a resident of düdingenplus, you benefit from Volvo Premium Car SharingAll available apartments in düdingenplus at a glance? Visit the project homepage. Like what you see, but not sure if it's worth a visit? If it's no use, it doesn't do any harm. Danger. Self-promotion: Are you moving into a rented apartment and need support for the best possible sale of your property? Contact DR. MEYER Immobilien AG for a non-binding offer - we're good at it.\n",
            "130825 DescriptionIn the center of Fehraltorf, we are renting a modern and bright 2.5-room apartment from May 1, 2021. The apartment with a spacious area of ​​78m2 is characterized by the following properties: - Slab floor in the living area - Parquet floor in the bedroom - Open living and dining area - Modern kitchen - Bathroom with bathtub- built-in cupboards in the corridor- reduit with its own washing tower in the apartment- large basement compartment- large and comfortable balcony to relax in. If required, a parking space can be rented for CHF 135/month. An attractive environment with various shops, shops, Cafes, as well as recreation zones. The location enables excellent transport connections. In less than 10 minutes you can walk to the Fehraltorf train station. With its location, the superstructure is a cozy retreat for families, couples and singles. We would like to point out that the pictures are only sample photos. Have we piqued your interest? We look forward to hearing from you!H&B Real Estate AGMs. N. NagelTel.ViewingContact person: N. NagelTelephone:FeaturesDistance to public transport: 60 m, distance to the nearest shop: 50 m, distance to the kindergarten: 300 m, distance to the next primary school: 650 m, distance to the next high school: 650 m\n",
            "130826 Concept-immobilier presents a promotion of contemporary villas. Still available, 2 individual villas, 5.5 rooms, 166 m2 of living space, 198 m2 gross. \"Les Villas Beauregard\" are located in the heart of the peaceful Friborg village of Surpierre, 6 km from Lucens, 15km from Payerne or Romont and 30 km from Lausanne Vennes. Architect's house, with large bay windows for a panoramic view. High standard finishes, you will have the leisure to make your choices and interior layout. Villa 1: SOLDVilla 2: SOLDVilla 3: SOLDVilla 4: SOLD2nd stage:Villa 5: Under construction, Frs: 1'340.000.- delivery April 2021Villa 6: SOLDVilla 7: Under construction, Frs: 1'280.000.- delivery December 2021Villa 8: SOLD Gladly to send you additional information during an interview. Nadia Bebot 076 802 67 20 Fred Varenne 079 474 64 09 info@concept-immobilier.ch\n",
            "130827 Located in the underground car park of the building located route de Berne 111, easy access through the main door. Secure parking with digital code at the entrance or remote control. With wall electrical outlet. Quick access to the city and the motorway. M2 stop at 150 meters Price CHF 190 per month.\n",
            "130828 In a completely renovated building, in the center and quietly located in the courtyard: 2 commercial rooms, each 27 m2 incl. toilet, with connecting door, can be rented individually (CHF 600) or together (CHF 1200), rent incl. all utilities (electricity, water, heating )\n",
            "130829 HOLIDAY APARTMENT Located on the shore road at the entrance to the village of Gerra, with direct access to the covered outdoor parking spaces in front of the house. The well-kept and furnished condominium is on the 3rd floor, can be reached by elevator and has two balconies. A large one with an unobstructable and fantastic 180° lake view and a second one accessible from the bedroom. The living space including balconies measures approx. 90 m2 and is divided/equipped as follows: entrance, fitted kitchen, living room with balcony, bedroom with small balcony, second bedroom, bathroom/toilet and guest toilet. An indoor pool (5x8 m) with showers, sauna, large sun terrace/barbecue area and lawn for sunbathing with direct access to the lake is available for shared use. The Residenza and the apartment are in very good and well-kept condition. A covered outdoor parking space is already included in the purchase price. For further information or a non-binding visit on site, I am also available on Tel. 0762007363.\n",
            "130830 We are located in Melano, where we offer for sale this semi-detached portion built in 2013. The property is very sunny, with a lake view from the terrace. The exterior is divided into uncovered parking spaces for up to 4 cars plus a garden divided into two contiguous apartments. The house is built on 3 levels: basement: large exclusive hobby room + technical room, ground floor: kitchen and living room with fireplace (communicating with the garden), + guest bathroom, floor 1: three bedrooms + two bathrooms (1 exclusive for the master bedroom), floor 2: panoramic roof-terrace, very well positioned, it benefits from its proximity to all the main services.This offer by BETTERHOMES is highlighted for the following advantages: - very sunny - possibility to raise it 1 floor (R3) - well finished - garden - hobby room - well located - recent construction - proximity to all services - lake view from the roof terrace - etc, etc, etc ... Interested? Contact us for a non-binding visit! No matching object found? More than 3,000 offers on: www.betterhomes.ch The Swiss specialist for real estate brokerage Do you have a property to sell? Benefit from our know-how: know how much your property is worth? Take advantage of our free online appraisal! data Location: Central Item condition: Good condition POSSIBILITY TO PURCHASE ALSO THE OTHER HALF OF THE PROPERTY.Bathrooms / Showers: 3 (1x WC, 1x WC / Shower, 1x WC / Bath) Heating: Thermo-pump / Floor coilsTransport public: Bus, 50 m / Maroggia station, 1200 m Schools: Kindergarten and elementary school, 300 m Shops: La Posta, Migros, Denner and Pharmacy, 150 m\n",
            "130831 2½-ROOM APARTMENT2½-room apartment on the 1st floor comprising: a fitted kitchen opening onto a spacious and bright living room, a bedroom and a shower room/WC. Many parking spaces are available in this building for rent.\n",
            "130832 800.- charges included 1 bedroom 1 kitchen 1 bathroom Good condition Available immediately 2nd floor 1 cellar 1 covered parking space for 100.- more\n",
            "130833 1.5 room apartment on the 2nd floor comprising: an entrance, a living hall, a storage room, a fitted kitchen, a main room, a bathroom/WC, a cellar.\n",
            "130834 SITUATION1.5 room apartment, renovated. Very good brightness. Calm neighborhood. Close to all amenities. APARTMENT 1.5 rooms, unfurnished DESCRIPTION Hallway, bedroom / living room, closed fitted kitchen, shower room-WC-sink. LOYERCHF. 900.00 Net rent.Charges according to individual breakdown.For any further information, please contact Globe Plan & Cie SA at 021.811.22.10 or by email: info@globeplan.ch. Except for errors, omissions or rentals in the meantime.\n",
            "130835 Amazingly good! Condominiums on the Grounds Path in Kirchberg! On the Grounds Path, 2 modern apartment buildings, each with 5 apartments, are being built in a quiet and sunny location - start of construction February 2021! - 2 wet zones - modern kitchen with cooking island (steamer, oven, induction cooker, dishwasher, refrigerator) - Minergie / GEAK A / Photovoltaic system- Controlled ventilation- Co2 neutral heating- Per apartment 2 private bicycle parking spaces for electric bikes- Reduit with washing machine and dryer- High-quality floor coverings (parquet CHF 150.-- m2)- Cellar- Lift- GarageApartment mix per house:- EC: 5.5 rooms , private garden (already reserved)- EG: 3.5 rooms, private garden of 106m2, 1 garage space (included in the purchase price)- OG: 5.5 rooms, 2 garage spaces (already reserved)- OG: 3.5 rooms, 1 garage space (already reserved ) - Attic: 4.5 rooms (already reserved) Brief description of the building Ecology / heating / ventilation - The heating and service water heat is Co2 neutral with district heating (wood). The heat is emitted via underfloor heating with individual room regulation. Each apartment has a controlled ventilation system with heat recovery. The basement rooms are ventilated with a mechanical exhaust air system. A photovoltaic system is installed on each house to generate energy. The two apartment buildings will be built according to the Minergie standard, including certification. In addition, the energy label GEAK A/A for new buildings is achieved. Living area / kitchen- A high standard of construction, room-high windows and sliding fronts (triple insulating glazing) guarantee a lot of living pleasure. The outdoor area (covered seating area/balcony/terrace) merges with the indoor area and thus becomes an extended living space. For the contemporary kitchen with a large cooking island, steamer, oven, dishwasher,... and a trendy ceramic cover.Bathroom/toilet / shower/toilet - each apartment has 2 wet zones (1x suite with bathroom). The large apartments are equipped with a bathtub and 2 walk-in showers. Glass shower partitions. In the smaller apartments (3.5) a wet zone with a shower (walk-in) and a wet zone with a bathtub are budgeted.Floor coverings apartment- The budget for the floor coverings is already laid CHF 150/m2 for parquet and CHF 120/m2 for floor panels.Floor coverings Seating area, balcony, terrace- solid wooden grate elements made of larch. Washing/drying- each apartment has a reduit with washing machine/tumble dryer (budget CHF 3500) and sink. Alternatively, the washing machine/tumble dryer can also be installed in the basement. A water softening system is installed in each house - less limescale, less cleaning effort in the kitchen and laundry room. Shading/blinds - for all windows including lift-and-slide windows in the living room: composite venetian blinds VR 90, electric drive. Seating area/balcony: Vertical fabric awnings along the entire length, electric drive. Attica: articulated arm awnings, electric drive. Electrical systems - light and blinds with central switch (smart home). Multimedia distributor per apartment. LED lights in corridor and kitchen area. LED ceiling or wall light and socket for all covered terraces. 1 ceiling light point per room, two triple sockets and a socket by the light switch. Cable Swisscom (fiber optic), cable TV provider (UPC Cablecom). Ask for our documentation!\n",
            "130836 Rte de Vauderens 99B, 1670 Ursy3.5 room apartment on the 1stStanding, kitchen open to the living room, 1 WC/shower1 master suite with WC/Bath, 1 child's bedroomWashing column, terrace, cellarOptical fiber, heat pump, photovoltaic solar energy, l Personal electricity is included in the charges. Car cover and outdoor space not included\n",
            "130837 Lease takeoverSmall accommodation, perfect for a single person! Totally new and very pretty! I have to notify my agency as soon as possible so please tell me if interested 1 month before. Possibility of visit contact me by messenger I am very reactive. Accommodation at the tower of trême: CHF 690.- Rent CHF 100.- Charges CHF 40.- Parking space\n",
            "130838 We are renting a storage room in Muri near Bern with immediate effect or by arrangement. The room is not heated and has no window. Access is via the garage. The room is not rented out as a music/band room. For further information or to arrange a viewing appointment, please call 031 320 53 29.\n",
            "130839 In the day part, you will discover a spacious and bright living room enjoying a large fireplace with integrated pizza oven! The room has a living room and a dining area communicating with a beautiful semi-open kitchen. From the living room and the kitchen you have access to the large balcony. Two beautiful bedrooms, guest toilets, a spacious bathroom with shower and bathtub and a private laundry room pleasantly complete this level. By discovering the sleeping area, you will benefit from two spacious and bright bedrooms benefiting from all the comfort necessary for well-being and an open office area in the mezzanine. To complete this space in style, an elegant bathroom with shower, toilet and washbasin will guarantee you absolute comfort. + Elevator arrives directly in your apartment +Large open living room with fireplace and pizza oven +Balcony with superb open view +Optimal sunshine all day +3 WCs/2 shower rooms +Private laundry room with storage under the roof +An underground parking space + an outdoor space in addition to the sale price 30,000.- Located in a quiet area, enjoying a breathtaking view, in the heart of a very buoyant region, this property will seduce you with its typology and its charm. Note that this splendid apartment also benefits from two large spaces under the roof of more than 36m² and two cellars pleasantly complete this exceptional property.\n",
            "130840 ObjectThis is an apartment on the 1st and 2nd floor of 5 and a half rooms in duplex, with terrace + cellar n ° 3 in the basement. The property will be auctioned by the Office of prosecution or bankruptcy. The estimated value is CHF 2,930,000.-. In certain circumstances, the property may be acquired below its estimated value. In our AUCTION SALES CATALOG you will find other properties at attractive prices in the area. For further information concerning the property referred to above and ordering the catalog at a good price, please contact Mrs. Hasler, Monday to Friday, from 8:00 a.m. to 12:30 p.m. except Wednesday which remains closed PHONE NUMBER. General remark: The purchaser does not have to pay ANY NOTARY FEES OR BROKERAGE. The data processed in this presentation were transmitted to us by third parties or were taken from the expertise ordered by the court and it was not possible for us to check them. Therefore, we cannot take responsibility for this. All rights of error and in the meantime sale of the property are reserved. For further information:. StichworteGrundstücksfläche: 411.00 m², Anzahl Balkone und Terrassen: 1\n",
            "130841 For rent in the center of the village, in a house with 2 apartments: - a 3.5 room apartment located on the 1st. floor and in the attic, including: - entrance and hallway with an office space, - a shower room and wc-sink, - a fitted kitchen with direct access to a terrace and a garden of approx. 80 m2.- 2 large bedrooms,- a large bright living space in the attic with windows, skylights and skylights (total living area: approx. 140 m2) According to agreement and at the discretion of the lessee, possibility of using an independent room approx. 30 m2 on the ground floor. Oil-fired central heating distributed by radiators (condensing boiler replaced in 2019). Monthly rent: Fr. 1,300.-; charges + 1 garage: Fr. 250.- TOTAL: Fr. 1,550.- AVAILABLE IMMEDIATELY.\n",
            "130842 This beautiful apartment (gross living space approx. 110sqm) was newly renovated in 2019. The house itself is also in perfect condition, new heating, new windows, new pipes, new bathrooms, electrics, kitchen cpl. New. There are only three apartments in the house. The terrace with about 40 square meters directly on the lake in front of the jetty belongs to this apartment and can be used. In the apartment you have the feeling of being on a ship. Access via stairs directly from the parking lot. The apartment in the basement has 3 bedrooms, 1 main bathroom with tub and 1 guest toilet. The balcony goes along the entire apartment and waterfront. In addition to the balcony, there is a separate outdoor terrace on the lake with approx. 40 square meters. The jetty itself is for shared use. There is 1 covered parking space on the roof right by the house. Absolutely quiet location on the semi-ground floor (lowest apartment, flood safe!) Private jetty. (no long-term parking, only during the day) You can go directly from the house into the lake with a ladder. No basement. Move-in possible immediately. Rent CHF 2,250 including a covered parking space + CHF 300 additional costs. Visits possible at short notice. Call me..\n",
            "130843 In primary or secondary residence, it is in this well-known magical setting of Les Mosses, with this family atmosphere that everyone appreciates, that our beautiful apartment is located. It is part of the Résidence des Flocons A which has 8 apartments in total and which is right next to the slopes! A godsend for ski enthusiasts. This charming crossing apartment is divided into 3.5 rooms with 90m2 of weighted surface; built in 2017, it offers all the required conditions First of all, there is the elevator which takes you from the basement to your floor, the covered garage for the car, a cellar, a common laundry room and a ski room. inside, a harmonious distribution between the daytime part and the nighttime part entrance hall with wall cupboards, 2 bedrooms, a bathroom / wc with installation planned for the washing column, a kitchen open to a beautiful living space and 2 beautiful terraces at each end of this little gem of an apartment. It's all there, all that's missing is YOU! Selling to foreigners is possible, too good, isn't it? Les Mosses - A wide valley for lovers of Nordic sports offering snow in all its states in winter and a crossroads of nature in the heart of a microclimate blessed by the gods to crunch summer to the fullest. 20 km from major roads, easy and permanent access by car or public transport; Aigle motorway junction 20 minutes away.\n",
            "If your interest has been aroused, contact us by e-mail or message for a viewing appointment.\n",
            "130845 I am looking for a new tenant for my room in Horgen. You share the apartment with a 24-year-old medical student and a chameleon. All rooms are heated by underfloor heating. In every room there are windows equipped with mosquito nets! There is a comfortable lounge on the balcony.The kitchen has a dishwasher and there is a separate freezer for shared use. A separate reduit with its own washing machine and dryer is also available. If you are interested, please contact me!\n",
            "130846 In the Zwiebacki in Maltes we offer a ready-to-move-in, modern 4.5-room apartment from bonacasa. The extraordinary architecture of the project with an integrated daycare center, the spacious floor plans of the apartment with a living space of 108.9 m² and a 12.2 m² balcony, as well as the bonacasa concept will inspire you. The furnished apartment pictures are not necessarily the actual property. These photos are for illustrative purposes only.Residential highlightsNew building with first occupancyExtraordinary room height of 2.60 mModern and contemporary floor plansHigh-quality interior designSpacious kitchenState-of-the-art kitchen appliances from V-ZugEnergy table optimized thanks to MinergieProperty and apartment built without thresholdsFloor-level walk-in showers for more comfortReduit with lots of storage space and washing tower Bonacasa services on requestTop- LocationCentral location with a quiet courtyard garden in the middle of MaltersIdeal transport connections with public transport and Mobility location within walking distanceBanhof and village center with various shops within walking distanceThe housing estate has a daycare centerAdditionally availablegarage spaces for CHF 35,000 eachbonacasa smart living - the smartest housing offer in SwitzerlandThe apartment will be They convince and bonacasa offers you a number of added values ​​that will also inspire you. A wide range of services is available to you on request, which you can conveniently order via app or service telephone. The diverse range of services from bonacasa ensures a better quality of life and supports you reliably in your everyday duties. If you wish, the bonacasa concierge will also be at your side with help and advice? You order according to your mood and only pay for services that you actually use. The smart housing offer from bonacasa is used by singles, families, professionals and older people, to whom we offer more security when living with a 24/7 emergency call service can, equally appreciated. For every age and every situation in life, we provide the right services that make life more comfortable, safer and easier. You can find more details about the apartment and bonacasa at www.zwiebacki.ch We would be happy to show you the apartment in detail during a personal tour and discuss all the details with you. Our team is happy to be there for you personally.\n",
            "130847 In a quiet villa in the residential area of ​​Montreux, for rent two independent rooms each equipped with shower, toilet and washbasin. Magnificent view of the lake and the mountains. A common dining room is equipped with kitchen, kettle, microwave, coffee machine, independent fridge, dishwasher, washing machine, dryer, balconies. The bedding can be changed weekly, the room cleaned for the price of sixty francs. The rooms are equipped with a desk, TV, DVD, safe, wardrobes. Modern and designer style. The owners live on the upper floor.\n",
            "130848 Despite the quiet location, you can reach shops such as Migros and Coop and the train station in Dübendorf in 10 minutes on foot. The apartment building, built around 1970, was thoroughly renovated in 1997 and converted into condominiums. The owner (non-smoker) was absent from 1997 to 2018 from 6:00 a.m. to 7:00 p.m. for work-related reasons, and from then until now mostly not in the apartment. The apartment is therefore little used. In the living room there is a beautiful, well-kept parquet floor, in the other two rooms there are textile floors and in the hallway, kitchen and bathroom, beautiful, bright ceramic plates. The kitchen and bathroom are up to date, e.g. Tumbler replaced in 2019. A new shower cubicle was also installed in the bathroom. If desired, the mobile devices can be taken over (microwave, steamer, washing machine/tumble dryer, etc.)! Those with a bit of manual skills can renovate the apartment with little effort. There is nothing to do except paint and change the carpets. The property has a spacious garage with an automatic door. One vehicle can also be parked in the driveway. The renewal fund contains CHF 87,000. The share of the offered apartment is 5'000 Fr Saturday, April 24, 2021 or Friday, April 30, 2021 from 12:30 p.m. to 6:30 p.m. There is a timetable on which you must sign up. 30 minutes are available per visit (max. 2 people).\n",
            "130849 Located in a small family house from the 1930s consisting of only 4 apartments. This 3.5 room apartment with high quality finishes is located in a quiet and residential area with a very beautiful view of the lake and the mountains. It consists of: - a hall with cupboards - a modern and fully equipped kitchen - a bedroom with balcony access - a bedroom - a living room - a bathroom - separate WC - a balcony Close to all amenities, 2 steps from the Pully-Nord station, it is a few steps from the bus stop of line 9 and allows you to reach the city center of Lausanne by train in 2 minutes. 1 outdoor parking space at 125 CHF/month completes this property. Gross rent: 3,225 CHF + individual heating\n",
            "Auriane Aubry\n",
            "130851 *** For the first contact, we ask you to use the form provided here in the online advertisement. Thanks very much. ****** Even in the current extraordinary situation, we are there for you. The protection of our customers comes first. We adhere to the prescribed hygiene rules and enable you to have a safe viewing experience in your potential new home. *** Are you looking for a large apartment in the Zurich Oberland with a beautiful balcony including a view of the mountains? Then you've come to the right place: - Attic maisonette with 5 rooms, including 3 bedrooms - Central location in the village - 122 m2 net (128 m2 gross) - 2nd floor and top floor - Elevator in the stairwell - Fireplace - Separate kitchen - Grandparents -Area in the attic- 2 bathrooms (one per floor)- built-in closet at the entrance- covered south-facing balcony approx. 10 m2 with a view to the mountains- screed compartment approx. 6 m2- cellar compartment approx. 9 m2- own Separate laundry room/workroom (12 m2) in the basement- 2 parking spaces in the underground car park together CHF 70,000.- This apartment and the entire apartment building are in very good condition.- Recommended sales price for the apartment including its own separate laundry room: CHF 790,000. -- 2 underground parking spaces CHF 70,000.- We would be happy to send you the documentation for this apartment. We look forward to hearing from you via the form here in the advertisement....................................... .................................................. ........................................WOBMANN MEIER & PARTNER IMMOBILIEN AG «Your competence center for Real Estate »Your partner for the sale, management and rental of properties. - Real estate brokerage (sale/purchase) - Management: condominium owners' associations, business and rental properties - Advice on conversions and renovations - Market value assessments, appraisals, expertiseTelephone 044 341 01 01 - www.wmp-immobilien.ch - info@wmp-immobilien.ch................................... .................................................. .......................................\n",
            "130852 IN PARADISE - EXACTLY WHAT YOU ARE LOOKING FOR...Right on the lake, on the Burbaglio pedestrian promenade in Muralto, exclusively for you, there are still 4 dream apartments with a 2nd residence permit in the Residenza Rivadelllago for sale. The fantastic panorama of the lake and the mountains will amaze you !The property is in a strategic location, to the train station and the Piazza Grande in Locarno.The luxurious 4.5 room apartment, on the 2nd floor, offers a living area of ​​257m2 and 32m2 terrace.A magnificent open space The kitchen and living room area is one of the highlights. Bring your own wishes into your new home.- luxurious standard of construction (your own wishes can be taken into account)- fantastic panorama of the lake and the mountains- right on the lake- bright and spacious- strategic location to the center\n",
            "130853 This apartment with an area of ​​approximately 41 m2 with a view of the Alps and close to all amenities includes: A living room with access to the balcony A bedroom A fitted kitchen A bathroom An individual garage is also available at a net monthly rent of CHF 150.00 (in sus).Available July 1, 2021. Have we piqued your interest? In this case, do not hesitate to contact us directly from the contact form for any requests and / or visits. In case of interest, you can fill out the registration form below, we look forward to advance to be able to process your request. the files via the link will be taken into consideration, we thank you in advance.\n",
            "130854 Village house 5 minutes outside of Lugano. 8 min walk to Migros, bank, post office and bus. The house consists of 2 apartments (1 bigger, 1 smaller). You can use / rent a part as a home office or just use it alone. We would be happy to send you more information by email or just give us a call and stop by!\n",
            "130855 As of July 1, 2021 we are renting this family-friendly and modern 4.5-room apartment, which is in a well-kept environment and offers you the following amenities: Living room and bedroom with parquet floor Kitchen and wet rooms with easy-care tiled floor Modern, open kitchen with ceramic hob, oven, dishwasher and Plenty of storage space for your kitchen utensilsBright bathroom with toilet, washbasin, mirror cabinet, bathtub and daylightSeparate guest bathroom with toilet, washbasin and mirror cabinetCorridor with practical built-in cupboards provide additional storage spaceSunny balcony to linger onIndividual cellar compartment in the basementLaundry room, drying room and bicycle room for shared usePets are allowed in this property. The blue zone offers you parking.Surroundings:You can reach a supermarket within a 5-minute walk.The \"Schliern\" bus stop can be reached quickly on foot.The bus will take you to Bern main station within 15 minutes.Please note Please note that the images serve as reference images and may differ from the original. Have we piqued your interest? For a viewing appointment, please contact us in writing using the contact form. We look forward to your inquiry.\n",
            "130856 Individual garage for rentMonthly rent: CHF 170.00 (+ VAT for external students).Available immediately or by agreement.For visits, please contact Mrs. Sophie Du at 021 620 77 24.Your registration file must include the following documents , for all leaseholders, including any guarantor: Application for registration duly completed, dated and signed (to be downloaded from our website www.realestate.apleona.ch),Copy of your last 3 salary slips,Original certificate of the Office of the prosecution, dating from less than 3 months, Copy of your identity document (if Swiss nationality) or residence permit. The files must be sent by post or deposited directly at our agency (no fax, no email ).Only complete and correctly transmitted files will be taken into consideration.\n",
            "130857 We are renting a sunny and beautifully developed 3-room corner apartment on the 2nd floor in Zurich district 3 as of May 1, 2021 or by arrangement. The well-kept apartment building with a total of 6 apartments is in an attractive location between Goldbrunnenplatz and Triemli. The Heuried sports center with outdoor pool, ice rink and ice rink can be reached in a few minutes on foot. What awaits you: - kitchen with granite cover, ceramic hob, dishwasher, oven and refrigerator with freezer - granite floor tiles and real wood parquet in the rooms - balcony with a view of the countryside - very good sun exposure - corner apartment - cellar compartment - bicycle room, drying room and laundry room with washing machine and dryer available to the tenants in the basement. - Pets not allowed. Ideal for 1-2 people. Not suitable for flat shares.\n",
            "130858 In a quiet neighborhood and after a total renovation of the entire property, we rent this charming 2.5 room apartment. The apartment is provided with a private entrance and a cozy patio. -Large entrance area and tiled stove in the living room. -Bathroom with shower. - Own washing tower available. The idyllic property is surrounded by greenery and only 500 meters from the train station. Migros and Denner are also in the immediate vicinity. A garden belongs to the property and can be used by the tenants. Parking spaces (blue zone) are available opposite the building. Depending on availability, a parking space, which is located at the entrance to the property, can be rented (CHF 150.00/month). Additional costs are CHF 120.00/month 2'000.-/month) in this completely renovated property. You can view information and photos on our other advertisements or give us a call without obligation. Viewing with prior notification We can be reached by phone on 041 511 83 00 or by email to info@led-liegenschaften.ch\n",
            "130859 (English version below) The apartment with private garden (on the ground floor) enjoys a fantastic open view and is characterized by quality materials and finishes of medium / high standing. The windows are provided in PVC. Solar protection is guaranteed by electrically controlled aluminum louvre sunshades. Heating management, which takes place via floor coils, is autonomous and controllable thanks to thermostats installed in each room. For the breakdown of costs, heat and cold and hot water meters are provided in each individual unit. The extraction of the air for the services without windows takes place with time-controlled fans; with roof exits. There are also connection and discharge pipes for a possible cooling system. The electrical system is traditional. Each unit is equipped with video-intercom, TV socket, telephone and internet in the living room and in each bedroom. Furthermore, provision is provided (from the technical room to the roof) for the installation of a satellite system. Each unit is designed for the installation of a washing machine / dryer column. The kitchens are all complete with SIEMENS or equivalent brand appliances and include: dishwasher, refrigerator with freezer, electric oven, hood and induction plate.The bathrooms are complete with sanitary appliances with chromed taps and include: washbasin cabinet with mirror cabinet and wall-hung bidet The flat with private garden (on the ground floor) enjoys a fantastic open view and is characterized by quality materials and finishes of medium / high standing. Sun protection is guaranteed by electrically operated aluminum louvres. Heat meters and hot and cold water meters have been installed in each unit to share costs. Air extraction for services without windows is by means of time-controlled fans, with roof outlets. There are also connection and discharge ducts for a possible cooling system. The electrical system is traditional. Each unit is equipped with a video-intercom, TV, telephone and internet connection in the living room and in each bedroom. There is also provision (from the technical room to the roof) for the installation of a satellite system. The kitchens are all fitted with SIEMENS or equivalent appliances including: dishwasher, fridge with freezer, electric oven, hood and induction hob The bathrooms are complete with sanitary appliances with chrome taps and include: - washbasin unit with mirror cabinet- wall-mounted toilet and bidet- bath and / or shower Sunny all day, still under construction, available from end of May 2021.\n",
            "130860 Historic multi-family house located in a quiet and sunny area, easy to reach. The building is spread over five floors and the four apartments are located on the first and second floors. The ground floor offers the possibility to build two more apartments or to use the floor for commercial purposes. Ideal as an income object or for personal use! This offer from BETTERHOMES is highlighted for the following advantages: - Four existing apartments of 3.5 and 2.5 rooms - Sunny and quiet location - near the Varenzo motorway junction and the railway station - Modi to expand (apartments or commercial spaces) - A covered car garage per apartment - Large garden - Grotto - etc., etc., etc ... Interested? Contact us for a non-binding visit! No matching object found? More than 3,000 offers on: www.betterhomes.ch The Swiss specialist for real estate brokerage Do you have a property to sell? Benefit from our know-how: know how much your property is worth? Take advantage of our free online appraisal! Data Location: Rodi-Fiesso, quiet and sunny Property condition: Recently renovated Bathrooms / Showers: 8 (4x shower / sink / toilet, 4x bath / shower / sink / toilet) Heating: Elektro und Holzofen Public transport: Railway station, approx. . 2 min. on foot Schools: Kindergarten, ca. 1 min. on foot / Primary school, ca. 2 min. on footShops: Shop in Rodi-Fiesso, approx. 5 min. on foot\n",
            "130861 Ideally located in a quiet and green area near the lake, this 3.5 room apartment renovated in 2017 with quality materials offers a living area of ​​approximately 64 m2 as well as a balcony-terrace of approximately 12 m2. This property consists of a modern fitted kitchen open to the living room, two bedrooms, a walk-in shower room, a guest WC and a cellar. A carnotzet, a fitness room, a sauna and a common \"freezer\" room complete this property. The building is located in a residence of three buildings benefiting from a large green space with terraces and a swimming pool. An underground garage-box is available for rent for CHF 130.- per month. This BETTERHOMES offer is characterized by the following advantages: - quiet and green area near the lake - renovated in 2017 with quality materials - fitted kitchen and modern open to the living room - two bedrooms - walk-in shower room and separate WC - fitness room, sauna, common carnotzet and freezer - green space with terraces and swimming pool - underground garage-boxing available: CHF 130. - per monthInterested? Contact us for a visit without obligation - online visit also possible!Nothing that matches? You will find more than 3,000 other objects on: www.betterhomes.ch - The Swiss specialist in real estate transactions.Do you have a property to market?Take advantage of our know-how: want to know the value of your property?Take advantage of our free online estimate! detailsLocation: Ideally located in a quiet residential area near the lake. Less than 3 minutes by car from Vevey, less than 8 minutes from Montreux and the motorways. State of the building: Apartment renovated in 2017 with quality materials. Bathrooms: 1 (1x Shower/WC) Heating system : Radiators/OilPublic transport: Bus, 3 minutes on foot / station, 7 minutes on footSchool: Primary and secondary schools, 3 minutes on footShops: Coop, Migros and various shops, 4 minutes on foot\n",
            "130862 Central - modern - with style !! Beautiful, modern apartment right next to the Toni Areal, near the city center with shopping and leisure facilities. The apartment has a modern finish with parquet floors, modern kitchen and built-in closets. The distribution is as follows: 1 large bedroom, bathroom with bathtub and integrated shower glass, reduit and spacious balcony. In addition, the apartment has its own washing tower. All rooms with parquet floor - modern kitchen - with dishwasher, steamer, oven, etc. Own large cellar compartment and a shared bicycle room. The apartment includes a built-in closet with shelves and lighting, a 160 cm bed and the ceiling lamp in the bathroom. Other furnishings can be taken over by arrangement. The superstructure was created in 2015 and fulfills all your wishes. Have we piqued your interest? We look forward to your call! Viewing appointments with prior notification (due to current Covid measures): April 16, 2021 at 3:00 p.m. April 24, 2021 at 10:00 a.m\n",
            "130863 A new building for active people, for nature lovers, for culture enthusiasts, for youKlee Allee - Lucky at homeFinding a four-leaf clover in a meadow or on the lawn borders on being particularly lucky. Researchers suspect that only one in thousands actually has four leaves. Very few people take the time to search extensively, so it often goes undetected. You have found one with \"klee allee\". We present 129 state-of-the-art rental apartments for domestic happiness. Choose the floor plan that suits your lifestyle at www.kleeallee.ch and apply directly online for your new dream apartment and become a happy tenant in your lucky home on August 1st, 2021! As the property is currently still under construction, we are unfortunately no visits possible. But we look forward to receiving your application documents!\n",
            "130864 Ligornetto. In the town center, we offer for rent a 4.5-room apartment, measuring 80.50 square meters, in a quiet and sheltered area, close to all services (school, bank and post office) and well served by public transport. The apartment, located on the 2nd and last floor in a newly built building with lift, consists of: entrance hall, large and bright living / dining room, open space kitchen, double bedroom with master bathroom, 2 single bedrooms (of which one with mezzanine) and bathroom with shower. From the living room you can access a balcony with private laundry room. Monthly rent Fr. 1'670. Condominium expenses INCLUDED (without adjustment). Parking space in the garage Fr. 130.Total: CHF 1'800 (without adjustment). make a visit without obligation, do not hesitate to contact us. We are also available on Saturday by appointment.\n",
            "130865 4.5 room apartment on the top floorThis property is an object that is being auctioned off by the responsible debt collection or bankruptcy office. The official estimate is CHF 305,000. You will also find all important information about this object in our auction catalogue, which we publish every three weeks. There are NO NOTARY COSTS OR BROKERAGE COURTAGE for the purchaser. Catalog and object information can be obtained from Ms Hasler, MONDAY - FRIDAY between 8.00am - 12.30pm and 2.00pm - 6.00pm on telephone number 031-528 06 78. You can order 12 issues of the auction catalogue. The total price is CHF 432.00 (CHF 36.00 per issue).\n",
            "130866 We are located in Melano, where we offer for sale this semi-detached portion built in 2013. The property is very sunny, with a lake view from the terrace. The exterior is divided into uncovered parking spaces for up to 4 cars plus a garden divided into two contiguous apartments. The house is built on 3 levels: basement: large exclusive hobby room + technical room, ground floor: kitchen and living room with fireplace (communicating with the garden), + guest bathroom, floor 1: three bedrooms + two bathrooms (1 exclusive for the master bedroom), floor 2: panoramic roof-terrace, very well positioned, it benefits from its proximity to all the main services.This offer by BETTERHOMES is highlighted for the following advantages: - very sunny - possibility to raise it 1 floor (R3) - well finished - garden - hobby room - well located - recent construction - proximity to all services - lake view from the roof terrace - etc, etc, etc ... Interested? Contact us for a non-binding visit! No matching object found? More than 3,000 offers on: www.betterhomes.ch The Swiss specialist for real estate brokerage Do you have a property to sell? Benefit from our know-how: know how much your property is worth? Take advantage of our free online appraisal! data Location: Central Item condition: Good condition POSSIBILITY TO PURCHASE ALSO THE OTHER HALF OF THE PROPERTY.Bathrooms / Showers: 3 (1x WC, 1x WC / Shower, 1x WC / Bath) Heating: Thermo-pump / Floor coilsTransport public: Bus, 50 m / Maroggia station, 1200 m Schools: Kindergarten and elementary school, 300 m Shops: La Posta, Migros, Denner and Pharmacy, 150 m\n",
            "130867 If you want to live in the countryside while being close to the city, this property is for you! Just 20 minutes from Lausanne, this magnificent renovated farmhouse combining charm, modernity and simplicity will seduce you with its beautiful atypical volumes and its real assets. , like its swimming pool and its beautiful furnished terrace. The house has a large bright living room which overlooks a magnificent and large garden with trees, this will allow you to enjoy nature and welcome family and friends for beautiful summer afternoons! In addition, a magnificent independent 3.5 room apartment in the attic, with very beautiful volumes and generous light will surprise you! Blow of heart assured! For more information do not hesitate to contact us! We would be delighted to arrange a visit in order to make you discover this great opportunity.\n",
            "130868 This fully developed space will appeal to those wanting to set up their new office in a central yet quiet area.This property has a limited term of up to 3 years. Let yourself be convinced by the optimally located property and attractive rental conditions: Fully developed, well structured office space - Very attractive pricing - kitchen - passenger lift - Good accessibility of the commercial space on the ground floor - Gender-separated toilet facilities - Fiber optics - Parking spaces and electric charging stations available Heinrichstrasse 200 is well developed in public and private transport and is only a few minutes' drive from the motorway junction, which is located directly at the viaduct arches. For more information, please contact Mr. Flavio Lucido on 044 250 52 05.\n",
            "130869 AVAILABLE IMMEDIATELY! Enjoying an exceptional location in the heart of the historic center of Moudon, in a superb building classified as a historic monument and completely renovated with exposed beams and clean lines. Lovers of old stones will be won over. The building is located only a few minutes from shops, transport and amenities. It is equipped with gas heating with heat distribution by radiators and double-glazed insulating windows. Each apartment is connected to meters calculating the individual consumption of each tenant. These accommodations have been tastefully renovated while preserving the charm of the old. The neat and contemporary finishes complement the materials and quality equipment chosen during the renovation. Offering beautiful volumes, each apartment enjoys optimal light thanks to its exposure. 1.5 room apartment with character on the 3rd floor: Entrance with custom dressing room Beautiful living room with fully fitted and equipped open kitchen Large mezzanine with shower room Separate WC Annex: Shared laundry room Rent CHF 1,150.00 + CHF 100.00 charges Nestled between two rivers, the Broye and the Mérine, the village of Moudon offers a harmonious living environment between period houses and surrounding nature. The town enjoys all the advantages of country life just 30 minutes by car from Lausanne, which can also be reached by train (direct) or by bus (line 62 Moudon Gare - Epalinges Croisettes). The town offers its inhabitants all the necessary infrastructure as well as many social and cultural activities and events while preserving an authentic Roman spirit. Tax rate: 75%\n",
            "130870 In a building with 2 apartments, magnificent 3.5 rooms for rent on the 1st floor. Located at Rue des Agges 70, this 82 m2 quality PPE apartment has everything you need. A few minutes from downtown Bulle, the H189 and the highway, this small building enjoys exceptional tranquility close to a forest and on the edge of the treme. The apartment is arranged as follows: - 1 entrance hall with a wall cabinet - 1 kitchen open to the living room - 1 balcony of 17.55m2 - 1 bathroom / WC - 1 shower room / WC with washing column - 1 bedroom of 11.72 m2 - 1 bedroom of 17.25 m2 with a separation provided for the installation of a dressing room - 1 cellar - 1 covered parking space at CHF 80.- / month in addition to the rentAvailability: 01.07.2021Rent: CHF 1,600. - + CHF 150.- flat rate chargesContact tenant for visits: Mrs Rouiller on 079 935 36 23We are at your disposal for any further information you may require.BD Gérance SARue de Gruyères 671630 BulleTéléphone 026 913 00 31\n",
            "New roommate between 20 - 30 years. You should be communicative and open, have a good sense of harmony and humor and have a natural penchant for cleanliness and order :) If you like to get involved in the flat share, but still appreciate quiet moments and your own freedom, then you are with us exactly at the right address! Please introduce yourself with a few sentences :)\n",
            "130872 NEW BUILDING SME COMMERCIAL CENTER LOFT4WORKOBERHASLI NEAR AIRPORT RESERVE NOW14 WORK - LOFTS / COMMERCIAL SPACES FOR SMES, START-UPS, WORKSHOP, OFFICE, STUDIO, HOBBY, ASSOCIATIONS ETC IN CONDOMINIUM FOR SALE FROM CHF 450,000.-2-3 STOREY UNITS OF 90 -170 M2MODULAR CONSTRUCTION, SPACES CAN BE COMBINED/ENLARGEDNO RESTRICTION LEVEL ACCESS INTO BUILDING FOR VAN VAN OPTIMALOUTDOOR PARKINGFIRST COME FIRST SERVREQUEST SALES DOCUMENTATION NOW\n",
            "130873 This homely and cozy maisonette apartment is in the most beautiful location and offers you a fantastic view of the mountains and the beautiful landscape. The well thought-out floor plan and the ideal room layout offer you great potential for use and comfort. Convince yourself! This BETTERHOMES offer is characterized by the following advantages: - sunny and close to nature - homely ambience - beautiful open kitchen with bar - two large balconies with a wonderful view - own washing machine / dryer - outdoor parking spaces available - and, and, and...Interested? Contact us for a non-binding inspection! Nothing suitable found? More than 3,000 other offers at: www.betterhomes.ch - the real estate broker&174;Market a property yourself?Benefit from our know-how: would you like to have a property appraised?Benefit from our free appraisal now, immediately and without obligation! DetailsLocation: Close to the centerCondition: GoodBathrooms / wet rooms: 1 (1x shower/toilet/sink)Heating system: radiatorsPublic transport: Bus stop 1000 m Schools: School facilities offer 1400 mShops: Grocery store 900 m\n",
            "130874 This 2.5 room apartment, newly built to the standard of ownership, is located in the idyllic village of Rickenbach LU. In addition to the high standard of construction with beautiful parquet floors and underfloor heating, the apartment impresses with its loft charm. In addition to the large entrance area with built-in cupboards, a noble kitchen was equipped with high-quality appliances. Through the generous window front with sliding door you reach the 10m2 large loggia. The apartment is ideal for a single person or a couple. In a few minutes you can reach shops, local recreation areas, public transport and the motorway access in Sursee. Have we piqued your interest? Come by and see for yourself. This properti offer is characterized by the following advantages: first rental central and quiet spacious and bright rooms open and modern kitchen wash tower bathroom with shower loggia (10m2) fiberglass cellar garage parking space for CHF 130.- monthly can be rented Interested? Contact us for a non-binding conversation!Your own property to market? We convince with fair and transparent conditions!For more properties, visit our website at:www.properti.chFree market value assessment or rent analysis:www.properti.ch/de/Query-Assessment/Free tips & tricks for selling or renting:www. properti.ch/de/blogInformation\n",
            "130875 Majestic 6.5-room apartment located in the new Leche Park created in a quiet and sunny location in Bellinzona.A large space with 220 m2 living space and a garden of 600 m2 for exclusive use.Parking problems are a thing of the past: three parking spaces basements included in the apartment. The new well-kept neighborhood is located in the immediate vicinity of schools, shops and links to public transport. This offer from BETTERHOMES is highlighted for the following advantages: - 220 m2 of living space - 280 m2 garden for exclusive use - three underground parking spaces - quiet and sunny - new well maintained housing - built in 2017 - etc, etc, etc ... Interested? Contact us for a non-binding visit! No matching object found? More than 3,000 offers on: www.betterhomes.ch The Swiss specialist for real estate brokerage Do you have a property to sell? Benefit from our know-how: know how much your property is worth? Take advantage of our free online appraisal! Data Location: Central Property Condition: Very Good Baths / Showers: 3 (2x Bathtub / WC, 1x Shower / WC) Heating: ZentralheizungPublic Transport: Bus stop, approx. 1 minute walk Schools: School center, approx. 5 minute walkShops: Coop, Migros, Denner, pharmacy in Bellinzona, about 5 minutes by car\n",
            "130876 We rent a 2.5 room apartment in a three-family house in Richigen. The bright apartment is very old, but has a certain charm. The spacious living room leads directly to the balcony (with a wonderful view of the Stockhorn chain). In 2 minutes you can reach the bus stop in Richigen or by bike in 5 minutes you can reach the Worb SBB train station. The rent includes a screed and a cellar compartment as well as an outdoor parking space and the additional costs. The apartment does not have a dishwasher and the sink is in the kitchen. Dogs and cats cannot be kept in this apartment.\n",
            "130877 Pure relaxation in the Unesco Biosphere in Escholzmatt. The Mooshof with one to four room apartments is sunny and centrally located. Shops for daily needs and schools can be reached on foot in just 5 minutes. Hiking in summer and skiing in winter are just two of the advantages of this preferred residential area. With the well-developed public transport system, you can also easily reach the cities of Lucerne and Berne by train. Arrange an appointment today.\n",
            "130878 We rent this bright 2.5 room apartment at Blauäcker 10 immediately or by arrangement. In addition to the quiet yet central location right next to the Zürichberg, this cozy apartment has the following amenities to offer you: - living room with parquet floor - renovated kitchen with Novilon floor - renovated bathroom - Generous balcony, cellar compartment, lift. These are sample images that show the standard of construction. In the immediate vicinity is the \"Zurich, Schwamendingerplatz\" stop with regular tram and bus connections to the city center from where you have connections in all directions There are shops such as a Coop or Migros branch, as well as other service providers within walking distance of the property. The \"Auhof\" outdoor pool invites you to linger in summer and can be reached shortly. The location also offers you a lot of entertainment and places to go out, which you can easily reach on foot. Have we piqued your interest? Then don't hesitate and contact us directly in the ad via \"Contact seller\" to receive viewing information. We look forward to seeing you Your digital registration after the visit!\n",
            "130879 So that the move becomes a happy event, we give you the 1st month's rent - for this bright, modern 4 1/2 room maisonette apartment in the family-friendly residential area \"s'Dörfli\". The entrance area offers space for a cloakroom and a staircase takes you to the spacious living/dining area. The kitchen is contemporary with a ceramic hob, high-lying oven and dishwasher. There is also a bedroom, shower/toilet and the sunny terrace (approx. 20 m2) on the same floor. The two bedrooms and the bathroom on the upper floor are directly under the roof and are sloped accordingly. Please refer to the attached floor plan for the exact room layout. The rental property is equipped with light stone slab floors in the living room/bathroom. The bedrooms can either be covered with existing carpeting or parquet flooring. In the basement belonging to the apartment there is a washing tower for your own use. Garage spaces can be booked for CHF 140.00/month. to be rented. Have we piqued your interest? We are happy to arrange a visit with you.\n",
            "130880 Gals, 5 minutes from Marin and 10 minutes from Neuchâtel, pretty apartment of 65 m2, 3.5 rooms renovated with parquet floors in the bedrooms and in the living room, quiet, sunny, 2 balconies and fitted and habitable kitchen. Included in the rent, a parking space and a cellar. Pets not allowed. Free quickly.\n",
            "130881 5p 1/2 apartment lease takeover to be restored with balcony and fireplace on the ground floor for July 1st. 4 bedrooms, bathroom, WC, large kitchen, Located in Misery Friborg\n",
            "130882 3.5-room apartment in a very quiet and residential area in Viganello, Salita Viarno 32 near all services and public transport.Entrance to atrium with guest service and access to the living area consisting of living room and dining room openly connected, as well as connection to the renovated kitchen. The master bedroom is air conditioned and has access to the large balcony, which is perimeter to the entire living area. Complete bathroom and second bedroom complete the offer. The whole living area is very bright and enjoys an open view of the city and the surrounding mountains. The object has always been well maintained with regular interventions. Car box available for CHF 45,000. information available\n",
            "130883 An idyllic setting awaits you between the castle, the old town and its cobbled streets as well as the many terraces that come alive on the quays. Lively and authentic, this district will also seduce you with its local shops and its market. The apartment is composed as follows:- Hall- Living room- Open kitchen- Bedrooms- Bathroom- Balcony So? Will you be joining us soon?\n",
            "130884 DescriptionWe rent a covered outdoor parking space no. 8 for smaller vehicles at Zelgstrasse 27 in 8003 Zurich.The parking spaces are a bit cramped and should therefore be inspected beforehand.Have we aroused your interest? Then please contact Ms. Lara Hürsch on Tel., during the day between 8:00 a.m. and 5:00 p.m..FeaturesChild-friendly location, distance to public transport: 250 m, distance to the next shop: 300 m, distance to the kindergarten: 150 m , distance to the next primary school: 150 m, distance to the next high school: 150 m\n",
            "130885 Concept-immobilier presents its last 2 4.5 room apartments. 7 minutes from Bulle, in the center of the village of Corbières, close to the bus stop, the grocery store and the sports center. East and South exposure. traditional only with local companies. Work in progress, luxury finish. Delivery June 2021. Large living room of almost 44 m2, terrace of 30 m2. Still 4 lots availableBuilding A:4.5 rooms on the ground floor: Frs 610,000.- terrace 27 m2 (partly covered) + exclusive flat land of approximately 100m24.5 rooms on the 1st floor: SOLD4.5 rooms on the top floor : FRS 620,000.-Other configurations available3.5 room apartment from Frs 530,000.-5.5 room apartment from Frs 680,000.-Underground parking space: Frs. 30,000.- per unitAvailable to send a file and an interview:Nadia Bebot 076 802 67 20Fred Varenne 079 474 64 09info@concept-immobilier.ch\n",
            "130886 We are renting a 4-room apartment in a quiet location in the city of Zurich as of May 1, 2021. bright roomsall rooms are equipped with parquethigh rooms ensure a special ambienceentrance area, bathroom and kitchen are equipped with tile floorsnew kitchen (replaced in 2017) incl. all applianceswashing tower (washing machine + tumble dryer) in the apartmentcellar compartment in the UGEno parking spaces can be rented. Have we piqued your interest? Contact us for a no-obligation tour! Our claim “Administration. Sale. Trust.\" expresses what we do and where our most valuable asset lies: the trust of satisfied customers. Your competent partner for real estate, Barrier Immobilien AG. Successful real estate service provider for over 40 years based in Zurich and Aarau.\n",
            "130887 The Hirtenhof is sunny and elevated and offers a beautiful view of the lake and mountains. The popular Schönbühl district with its numerous shopping facilities can be easily reached on foot. Just a few meters from your new home is the Hirtenhof bus stop, which is served by bus lines 6 and 8. Within ten minutes you can reach Lucerne train station by bus. It is only a few steps to the Bireggwald recreation area! All rooms in the apartment have parquet flooring. A slab floor is laid in the kitchen and in the wet cells. The kitchen has all the necessary appliances. The entrance area of ​​the apartment is very spacious and offers space for a spacious wardrobe or cupboards. The outer shell, including the windows, was renovated a few years ago. The sunny balcony contributes to the cosiness of this apartment. Car parking spaces (CHF 140/month) or parking spaces (CHF 75/month) can be rented. We are looking forward to your contact!\n",
            "130888 This beautiful bright loft is looking for a new tenant immediately or by appointment. It is located in the popular Limmatwest district directly on the river with a river view. This bright, open plan apartment features 3.5m (!) high ceilings, a Tumblr washing machine combo in the bathroom, a modern kitchen, river views, outdoor living space and a unique sense of space. In front of the apartment there is also a Limmat entrance with a small staircase, so that you can jump directly into the Limmat on warm days. Pets are also allowed. The Limmatwest is 20 years old and a unique quarter in Zurich. It is neighborly, mixed, lively and colourful. In front of the apartment there is an outdoor area that belongs to the apartment and also a small meadow with many plants. These plants serve as a great privacy screen and are maintained by the administration. A table tennis table can be used in the inner courtyard. There are many options, such as a public roof terrace - live and let live. :-)A tram stop is about 1 minute walk away (Förrlibuckstrasse). However, there is no tram noise because the apartment is not facing the street. Spar/Lidl/Coop/Migros/coffee shops (Sphere, Kafi Pause, ...) are all within walking distance. It is about a 3-minute walk to the Escherwyss. The apartment is a condominium and we are already out of the rental agreement, but we are still helping the owner to find a suitable new tenant. The owner lives in Nice and is in Zurich about twice a month. She is very dear and we have always had a great relationship with her. The Asian furniture that you see in the photos is also from the landlady. bed/table/dresser/display cabinet/Buddha/etc. belong to her and you are welcome to use them. If you don't like the furniture, you can store it in the basement - don't know how much space there is in the basement for private items afterwards - the basement is about 8 square meters. The basement is in the basement, with a lift. There is also a bicycle room and an underground car park. If required, a parking space in the underground car park can be rented from the administration (Tend AG) for CHF 200/per month. So no one belongs to the apartment. Since the entrance is via the large window front, the apartment has no bell. If you are interested, we will be happy to show you the apartment.\n",
            "130889 The beautiful, rustic and central 3.5 room attic apartment on the Töss with a wonderful view has a covered west-facing balcony with midday and evening sun. Other plus points are: - separate kitchen with all the usual appliances - separate laundry room in the apartment - underfloor heating - pull-out stairs to the attic room with two skylights - underground parking space with hand-held transmitter (plus CHF 120.00) - screed/cellar compartment and various storage rooms\n",
            "130890 Quiet location, pharmacy, Migro Ärtezentrum forest and nature. Bus stop a few meters away. Schools. Make an appointment and get to know this beautiful and well located place. 1,575 N.K. including optional garage CHF135 admission on Wednesday and Saturday. March and April from 2:00 p.m. to 6:00 p.m. Urs.078 046 0205\n",
            "130891 Exceptional location 2.5 room apartment in Epalinges on the ground floor, quiet, with south facing terrace. Less than 100 meters from the Coop, Coop Brico, M2, Fitness, Medical Center and Emergencies, Pharmacies and school. Features and equipment 12m2 terrace + 12m2 garden Fully equipped Miele brand kitchen (fridge, freezer, dishwasher, oven, ceramic hob and hood )Washing machine / dryer in the apartmentWall cupboardOutdoor parking spaceCellar with window\n",
            "130892 - as of July 1, 2021- rent parking space CHF 50.- / month (for external tenants + 7.7% VAT)\n",
            "130893 Commercial space for rent in a central location in Wimmis! We are renting attractive commercial premises on Hauptstrasse 11 at the end of 2021 or by arrangement: individual usage options (office/practice and sales) Extension can be co-determined Practical floor plan (visualization shows possible extensions, can be adapted to needs )Property will be extensively renovated in 2021Shopping facilities and train station within walking distanceMotorway connection in the immediate vicinityRent: CHF 170.00/m2/year netHK/NK account 350.00/mthIndoor and outdoor parking spaces can be rented additionally. Have we piqued your interest? We are looking forward to your contact.\n",
            "130894 In Pregassona, an enviable residential area of ​​Lugano for its excellent lifestyle in contact with all the main comforts, we offer a large 4.5-room apartment.The property is centrally located, perfect for those who love walking. In fact, nearby you can find the pharmacy, public transport, supermarket, post office, various banks, tennis courts, a multiplex cinema, the Resega ice rink, kindergarten, elementary school. and middle school. From its position it is also easy to access the Vedeggio-Cassarate tunnel and the highway, making getting around even easier. The apartment has a large size of 120 square meters. where you can better organize any of your living needs.Part of the comforts offered by the property is certainly its spacious eat-in kitchen completely renovated which allows you to take advantage of an equipped space where you can give free rein to your creativity. private washing machine that allows you to do the laundry independently without having to wait for any inconvenient shift in the condominium, if you want to take advantage of it, the residence also offers a laundry space for the use of condominiums.The apartment has a nice terrace accessible from the living room that allows a ready outlet to the open air and which gives great brightness to the living room. of a new kitchen and the replacement of the flooring in the kitchen itself and the entrance in 2018. Just two months ago a new condominium gas boiler was installed. As a result of these efforts the unit is in excellent condition and is immediately habitable.The windows are in elegant PVC with impenetrable triple glazing. During the renovation, particular attention was paid to energy saving and it is therefore possible to take advantage of the house at very low running costs.The flooring is in parquet for the sleeping area and elegant light-colored tiles for the rest of the surface. excellent location and the size of the surface, in addition to the particularly interesting selling price, the offer is particularly convenient also in view of a possible future income.The apartment, located on the second floor of five, consists of a large hall with wall of fitted wardrobes, large bright living room with terrace, eat-in kitchen, three bedrooms, a bathroom with window and a bathroom with toilet. A covered parking space in the garage for CHF 35,000 .--, a parking area for common use with remote controlled access and a comfortable cellar complete this interesting offer. AN APARTMENT IN PERFECT STRATEGIC LOCATION !!\n",
            "130895 Location Kindergarten: approx. 4500 m Shops: approx. 100 m Public transport: approx. 80 m Primary school: approx. 4500 m High school: approx kitchen, the living room and a toilet. On the second floor are the two bedrooms and the bathroom. The newly developed attic has its own entrance and could also be rented out as an independent holiday apartment after the installation of a kitchen. The house can be used as a first or second home. In addition to the open fireplace in the living room, the building is heated by a newly installed pellet heating system. The heating and the laundry room are on the ground floor. Underneath is a natural cellar. Various parking spaces are available in the village. However, if you cannot find a free parking space, you can park your wheels on the side of the road. The only condition: the post bus must be able to make its way through the streets to Spruga or Vergeletto. Have we piqued your interest? We look forward to hearing from you.Other- municipality: Onsernone- view: yes- situation: sunny, quiet- dishwasher: yes- balcony/terrace/patio: yes- number of floors: 4keywordsnumber of bathrooms: 2, canton: TI\n",
            "130896 We offer for rent in Sorengo 130 sqm duplex apartment with 70 sqm garden The 4.5-room apartment, completely renovated in 2020, has a 70 sqm garden On the lower floor: - large living room with open kitchen; - covered veranda with electrically controlled awning and storage room; - fully equipped open kitchen with dishwasher, self-cleaning oven, induction cooking, extractor hood, 220 l fridge, 110 l freezer; - cellar. Upstairs: - 2 bedrooms bed; - bathroom with large walk-in shower; - 1 master bedroom with direct access to the bathroom with tub. Technical details: - predisposition for air conditioning system in each room; - electric-operated sun blinds shutters; - cable TV. - outdoor parking: CHF 75 .-- car garage with remote controlled opening + storage room: CHF 160. -Monthly fee: CHF 2000. -Accounting expenses: CHF 250. -\n",
            "130897 2.5 room apartment close to all amenities in a building including:- Fully equipped kitchen- 1 large bedroom with balcony.- 1 bathroom with shower- 1 separate toilet- 1 large living room with balcony- 1 cellar\n",
            "130898 beautiful 3.5-room apartment:- attractive floor plan- bright rooms- living room with tiled floor- bedroom with laminate floor- kitchen with all mod cons- entrance with wardrobe- large balcony with reduit location:- child-friendly- quiet- sunny parking:- indoor parking space CHF 100- outdoor parking space CHF 50Have we aroused your interest? Call us - we are available for further questions or to arrange a viewing appointment.\n",
            "130899 - CLICK THE LINK BELOW TO MAKE A VIRTUAL VISIT TO THE PROPERTY! - and comfortable 5.5-room villa for approx. 320 sqm + 60 sqm of ancillary rooms, arranged on four levels, with two terraces, from which to enjoy an open view of the surrounding mountains and valleys, and a large garden (further buildable) of about 1,199 sqm, located in an idyllic, quiet position and sunny in Capriasca. It was designed and built in 2008 by one of the most famous Ticino architects, Edy Quaglia, presents itself with a Bauhaus style architecture, with essential geometric shapes, clear and clean lines and a rational use of space. all illuminated by natural light.The villa is composed as follows: Access via external staircase or private lift, with a maximum capacity of 8 people, which leads directly to each floor.FIRST FLOOR: Spacious hall, laundry room, wine cellar and separate usable room as a home office, with wall safe, expandable internet control unit and wired alarm system.On this floor, all rooms are insulated and heated, except the wine cellar. ONDO FLOOR: Living area consisting of large living room with modern fireplace and large fully equipped open kitchen, with access to the first comfortable terrace that can be used as a winter garden, on which it is possible to place a dining table. large garden of approx. 1,199 square meters, in which there is already the predisposition to install a swimming pool or it is possible to build a villa of approx. 230 square meters in total, and is abundantly illuminated by daylight thanks to large windows. The floor is completed by a bathroom with shower and another room that can be used as a study. THIRD FLOOR: Large master bedroom with large built-in wardrobes, a bathroom with bathtub, a second and spacious bedroom with private bathroom and a third single bedroom.The second large terrace with a beautiful view of the surrounding mountains completes this floor.In the atrium on each floor, there are large and spacious wardrobes. The house has been modernized and renovated, with a complete interior and exterior painting and the renovation of a terrace, in 2019. There are also: Jacuzzi, Turkish bath, Schindler lift for 8 people, Professional safe, DRYTEC marked insulation, Wired alarm system. The heating is powered by a heat pump, combined with solar panels, and diffused through floor coils. The house is 1 km from the center of Tess erete, Lugano is easily reachable by car, while Tesserete and all its excellent services (shops, schools, sports center, etc ...) can be reached in approx. 2 minutes by car.Ideal for families who need large spaces and several bedrooms or to also have Smartworking spaces at home, as well as for a professional looking for space to be used as offices. a large garage with space for three cars and two outdoor parking spaces\n",
            "130900 Description High quality 3.5 room apartment (110m2) with gallery and lake view in a very quiet and sunny location. For immediate rent. We rent this apartment privately. The center with its shops, schools and the train station can be reached in just 6 minutes on foot. - spacious modern eat-in kitchen with lots of storage space, dishwasher and glass ceramic stove and granite covers - living area with high-quality tile coverings and fireplace - bedroom with oak parquet flooring - gallery with large room - all rooms with cable and internet connection - own satellite system - bright bathroom with double washbasin, toilet , bathtub, shower, washing machine and dryer - balcony south-west side - barbecue area for sharing - cellar compartment - outdoor parking space available - Minergie standard - additional costs all inclusive\n",
            "130901 Magnificent spacious 4.5 room apartment with a living area of ​​138 m2, located in St-Prex. It includes: - An entrance / hall - A separate WC - A large bright living room / lounge - A fully fitted open kitchen - A large terrace - 3 bedrooms with access to the terrace, 1 of which has a bathroom and dressing room - A large terrace with gardenThe apartment is completed by an indoor parking space available at an additional CHF 160.00, as well as a large cellar. Close to all amenities and 5 minutes walk from the lake.Rent: CHF 3,900.00 + CHF 200.00 down payment.Available from April 1, 2021.VISITS: Please contact Mr. Joël Coimbra of the Régie Duboux directly on 021 321 90 55 or jcoimbra@regieduboux.ch.IMPORTANT: If you wish to visit this property quickly, please send us your availability directly (ideally 2 or 3 slots).\n",
            "130902 Cudrefin, for rent nice apartment in a small quiet family building for the beginning of April 2021Apartment of 2 1/2 rooms of 61m2 with a balcony of 7m2 not overlooked, a cellar, a laundry room with free washing machine and a parking space. It includes an entrance hall, a fitted kitchen semi open to living room, a bedroom and a bathroom with double washbasin. Large garden area and barbecue available (7000m2) as well as a vegetable garden. Peaceful location, close to the center of the village and the lake.\n",
            "130903 Are you looking for an apartment with that certain something? Here we have an apartment that is very suitable for singles or couples. Today's 3-family house was built in 1967 as a 2-family house on a plot of 1204 m². The location is very sunny and quiet, a bit away from the center of Münsingen. In 1987 the attic apartment offered here was built into the attic. Above the apartment there is a screed area which can be used for this apartment. In 1998 the property was divided into condominiums. The attic apartment includes a cellar in the basement and 2 outdoor parking spaces. The laundry room is shared. The apartment has around 80 m2 of living space and a floor plan on 2 levels (2 - 3 steps). In one area there is the kitchen, a small room and the spacious living-dining area with connection to the balcony, which offers a really fantastic view. On the slightly lower level there are 2 bedrooms and the wet room with shower.Interested? We would be happy to provide you with the documentation with a description of the location, a plan of the situation and a floor plan. I look forward to hearing from you via the contact form or by phone.\n",
            "130904 This bright and very spacious 4.5 room apartment is in a central location, not far from the Kunsthaus. The apartment convinces with a lot of charm and offers lovers of old buildings everything their hearts desire. The rustic staircase takes you to the apartment. As soon as you enter the apartment, you notice the room height of over three meters. From the entrance area you can reach the respective rooms. There are two which are completely lockable, but are still accessible. The living room is flooded with light and very large. Adjacent to the living room there is a developed bay window with a sliding door, which can be ideally used as an office. The rooms leave plenty of scope for your furnishing ideas. The living room and both bedrooms are furnished with antique coffered or herringbone parquet. The kitchen is also an eye-catcher, because you will also find plenty of space here. The kitchen is modern and generously equipped. The bathroom is equipped with a shower, a separate bathtub, double washbasin and mirror cabinets with plenty of storage space. The rental offer is rounded off with additional storage space in the basement. Don't let this opportunity pass you by and contact us today for a viewing appointment.\n",
            "130905 Residential area just 10 minutes from Bellinzona in an easily accessible position. 2018 construction just completed in traditional style with excellent quality finishes. Ground floor apartment with welcoming living spaces and beautiful covered terrace. Heating with heat pump and heat distribution by means of coils Cutlery in the floor Washing machine directly in the apartment or in the basement common laundry and private cellar Outdoor parking space CHF 10'000.- Parking space in the garage for CHF 25'000.-\n",
            "130906 As of July 1, 2021 or by arrangement, we are renting an original 4-room apartment in Uetikon am See. The apartment impresses with the following amenities:- A modern kitchen with ceramic hob, dishwasher and plenty of storage space.- Living/dining room with parquet floor- Bedroom with parquet floor- Bathroom/toilet with tiled floor- Cellar compartment Various shops are nearby. The train station is easily accessible on foot, from where you can quickly get to Zurich or Rapperswil with ideal S-Bahn connections. If you are interested, do not hesitate to contact us.*The photos correspond to the standard.\n",
            "130907 In a child-friendly location, in a beautiful and well-kept superstructure, we rent an attractive apartment with the following equipment: - Bright rooms - Kitchen with dishwasher, ceramic hob - Built-in closets in the corridor - Sunny balcony - Bathroom with bathtub - Sep. Toilet - own cellar - no lift - near the train station and shopping facilities. Car park spaces can be rented for CHF 120.--. (Free in the first year) Apply online now at: www.mywincasa.ch/bewerben Your application code: 00438.10.1001\n",
            "130908 The quiet 3-room apartment on the 2nd floor can be rented on June 1, 2021 or by arrangement. The apartment has laminate and floor coverings, large kitchen with dishwasher and plenty of storage space. Various built-in closets in the room and in the corridor. Modern bathroom with shower and daylight. Beautiful view of the countryside and Pieterlen. No balcony. Garden with barbecue area. A basement compartment. A garage (CHF 80.00) can be rented. The property is on the outskirts of the village, close to the forest and not far from Pieterlen train station. Are you interested or do you have any questions? Then do not hesitate to contact us. Attention. Self-promotion: Are you moving into a rented apartment and need support for the best possible sale of your property? Contact Dr.Meyer Immobilien AG for a non-binding offer, we're good at it.\n",
            "130909 Located in a quiet and residential area, close to downtown Romont, this splendid 3.5 room apartment on the 2nd floor benefits from beautiful light. In the heart of a very promising region of the canton of Fribourg, this property will seduce you with its typology and its quality finishes. Built in 1986, this charming residence in PPE of 10 apartments, will offer you absolute comfort in a green setting. sheltered from the nuisances of the city center. In the day part, you will discover a spacious and bright living room offering you direct access to a superb balcony. It has a living room and a dining area communicating with a large fully renovated kitchen and its convivial space. A spacious entrance hall and a bathroom with WC pleasantly complete this space. The sleeping area consists of two bedrooms benefiting from beautiful volumes and all the comfort necessary for well-being. A bathroom with bathtub and washing column has also been designed to enhance these beautiful rooms. Particular care has been taken in the outdoor facilities with a balcony of more than 10 m2, as well as a large shared garden: a major asset for this exceptional object which will allow you to extend your evenings with friends. Note that this residence is excavated and has in its basement: a large cellar for the apartment, a technical room with a drying room and a bike room. In addition, an indoor parking space is included in the sale price. Several visitor parking spaces are located next to the property as well as a superb playground for families. This magnificent accommodation is currently rented with a monthly rent of more than CHF 1,650.- charges included. This property is the perfect object to feel at home and close to the city center. Don't wait any longer and contact us for a visit! Sandra Dessibourg - 079 896 91 60 - expert broker - specialist in property sales - www.immosky.ch.\n",
            "130910 For visits, please contact Mr GALLONI D'ISTRIA on 078 851 72 18.DescriptionThis charming 3.5 room apartment of approximately 70 m2 is located on the 2nd and last floor of a small building located rue du Léman 4 in Rennes. This property, which enjoys a pleasant and practical location, will undergo a complete renovation (painting, vitrification and sanding of the parquet floors, new stove and refrigerator) before the entry of the new tenant. All amenities (shops, banks, schools, public transport, etc.) are nearby. Renens CFF station is about 1 kilometer away. UNIL and EPFL are about 5 kilometers away. Distribution: entrance hall in the form of a long corridor leading to two bedrooms, living room, large habitable kitchen, partially fitted out (no dishwasher, no ventilation hood), reduced, shower room with WC/washbasin, common laundry room. The building has no lift. The accommodation is equipped with an individual electric water heater, payable by the tenant. It has no balcony or cellar. The monthly rent breaks down as follows: Apartment: frs. 1'560.-Heating deposit: frs. 140.-Total: frs. 1'700.-This accommodation is available from July 15, 2021.\n",
            "130911 Immediately or by arrangement we are renting a renovated 3-room apartment on the 1st floor- bright/quiet- closed eat-in kitchen with granite cover- bathroom with bathtub- bedroom and living room facing the garden- balcony facing the garden- public transport directly in front of the property- large communal garden\n",
            "130912 We rent a beautiful and bright 3.5-room apartment at Burgunderstrasse 97 in 3018 Bern as of July 1, 2021 or by arrangement. The heart of the Burgundy settlement is the Rieghaus with a day care center and a common room that can be rented. The apartment is equipped with parquet and slab floors and has an open kitchen and living area. There is also a nice balcony. The property is located in the first car-free settlement in Switzerland, in which the tenants agree not to own a car. Feel free to contact us if you have any questions. We look forward to your call! npg AG Morgenstrasse 70 3018 Berne\n",
            "Have we piqued your interest? For a viewing appointment, please contact us in writing using the contact form. We look forward to your inquiry.\n",
            "130914 Please answer the questions in the ad! Please answer the questions below in our add! Wanted -1- a working, solvent tenant with long-term rental intentions. No shared flats. The apartment is not suitable for families and children.Looking for one -1- working tenant for a longer rent period. No shared flat for families is the appartement not suitable.***Per May 17, 2021 or by mutual agreement*** ! Very beautiful, quiet, sunny and spacious ***** 3.5 ROOM APARTMENT***** Parquet floors and fitted carpets on the 2nd floor with elevator, corridor/entry, dining room with large window front, living room with large balcony and large window front, bedroom with large window front in inner courtyard, separate kitchen with small balcony and separate bath/toilet. Rental price at CHF 1,900.00 plus on account. Heating CHF 80.-- Total CHF 1'980.00 excluding heating, electricity, telephone, TV and fiber optic internet connection, etc. Washing machine and drying room available, with screed or cellar compartment. Minimum rental period 1 year or longer. Maximum for -1- person only to long-term, solvent and working tenants! If you are interested, please answer questions / Please answer the following questions: - when are you looking for an apartment? / When do you like to start the rent of the appartement ?- How long do you intend to rent the apartment? / how long do you like to rent the appartement ?- for how many people are you looking for an apartment? / for how many person do you like to rent the appartment ?- B E R U F ? / P R O F E S S I O N ?- where do you work and what do you do professionally ? / where do you work and what kind of profession are you doing ?- nationality ? / nationality ?- where are you from and why are you looking for an apartment ? / where are you from and why do you like to rent the appartement ?\n",
            "130915 Magnificent apartment completely renovated in 2021 with quality materials and very tasteful finishes. It is located in a house with 2 apartments which is located in a residential and quiet area close to schools, transport and shops. The shopping centers of Morges and Crissier are 5 minutes away by car, as well as the motorways. This beautiful apartment offers you a bright living space of 115 m2 distributed as follows; Hall distributing all the rooms Large living room with fireplace and access to the balcony Fully fitted kitchen open to the living room 3 bright bedrooms with wall cupboards Shower room, with walk-in shower, double sink and WC Guest WC Annexes: Large laundry room Spacious cellar garden maintenance is included in the charges) 2 outdoor parking spaces Do not hesitate to contact us to organize a visit.\n",
            "130916 RENTAL PERIOD from April 17, 2021 to September 20, 2021 (at least 3 months) Direct link: ums.ch/angebote-detail/54836/Alle Zürich: ums.ch/moeblierte-wohnungen/zuerich/AllgemeinBright 3.5 room apartment with a spacious Balcony and stunning Uetliberg view. Parking space could be rented via management (approx. CHF 180.-). 80m², on the 3rd floor, 1 bedroom, 1 office (can be used as a bedroom), in good condition. Maximum 3 people, families with children welcome, smoking in the apartment not allowedAdditional comments on the rentIncl. Heating, electricity, water, Internet, TV (incl. connection and subscription)WIN PRICE The provider of this property rents it out at cost price (or at the market price from the owner).Furnishingsantique furniture, comfortable1 double bed, 1 sofa bedEquipmentTV (incl. connection and subscription) , Internetwashing machine & tumble dryer (for shared use)balcony/terrace/garden1 balconykitchenkitchen equipment for 4 peopleseparate kitchen, microwavebath/shower/toilet1 shower in bathtub & toiletQuartierbildQuarter north of the city center and universities, near Zürichberg and the forest.Urban residential area on a hillside, renovated old buildings Often with gardens, some terraced single-family houses, some with a fantastic lake view.Public transport1-minute walk to Nordstrasse public transport station3-minute drive to Wipkingen train stationCarPublic parking lotKeywordslimited to time temporary temporary WohnAufZeit WAZ interim rental short-term short-term rental short-term living transitional apartment************** **************** ****************FURNISHED, TEMPORARY: 3½ ROOM APARTMENT IN ZURICH - KREIS 6RENTAL PERIOD from April 17, 2021 to September 20, 2021 (min. 3 months)Direct link: ums.ch/offer-detail/54836/All Zurich: ums.ch/furnished-apartments/zurich/General informationBright 3.5 room apartment with a spacious balcony and a stunning Uetliberg view. Parking space could also be rented via the administration (approx. CHF 180.-).80m², on 3rd floor, 1 bedroom, 1 home office (can be used as bedroom), in good condition3 persons max., families with children welcome , smoking in apartment not allowedComplementary remarks on the rentHeating, electricity, water, internet, TV (incl. connection and subscription) incl.WIN PRICE The provider offering this property is renting out at his own cost (resp. at market price if he is an owner) with no surcharge for furnishings.Furnitureantique furniture, cosy1 double bed, 1 sofa bedEquipmentTV (incl. connection and subscription), internetwashing machine & tumbler (to be shared)Balcony / Terrace / Garden1 balconyKitchenKitchen equipped for 4 personsseparate kitchen, microwaveBath / Shower / Toilet1 shower in tub & toiletPublic transport1 min. to walk to public transport station Nordstrasse3 min. to ride to train station WipkingenCarPublic parking nearbyKeywordsshortterm medium term expat relocation busine ss HR sabbatical work digitalnomad\n",
            "130917 Do you dream of starting a family? We have the ideal apartment to accommodate it. You will enjoy the shops and schools nearby as well as a pleasant and green environment. For the quality of your accommodation: - entrance hall - fully fitted kitchen with a small balcony - dining area - living room with access to the balcony - two bedrooms - bathroom - separate toilet - cellarPossibility to rent an indoor parking space in addition.Interested? The visit is worth the detour.Errors and omissions excepted. Photos and description not contractual.\n",
            "130918 From May 1st, 2021 until the end of November 2021, our modern attic apartment is looking for new tenants who want to escape everyday life on the weekends and during their holidays, or maybe for the home office? The additional costs as well as the parking space are already included in the rental price. The apartment is a modern attic apartment with a continuous sloping roof. Unfortunately, it is therefore less suitable for taller guests. In 2019 we completely renovated the apartment and attached great importance to a high quality standard of construction (high-quality kitchen appliances including dishwasher, shower Naturofloor etc.). The apartment offers space for 2 people and is tastefully furnished. Among other things, the mattresses and the bed base are of very high and new quality, which contributes to a restful sleep. : ) The chalet is located outside the village center, in a quiet area, with a unique view of the Eiger north face! Various outdoor seating areas are available for shared use. It is only a 10-minute walk to the valley station of the V-Bahn, which opened in December. Out of respect for our house cat Leo, pets are unfortunately not allowed. If you are interested and would like detailed information, we look forward to hearing from you!\n",
            "130919 Spacious shop, which is in an ideal location in the heart of Schönried. Due to the many different possible uses as well as the central and busy street, there is a lot of potential here. You can let your ideas run free and whether as an office, practice, hairdresser's shop, take away, showroom or anything else - almost anything is possible here. This BETTERHOMES offer is characterized by the following advantages: - central location - large shop window front - individually usable - light-flooded room - including two outdoor parking spaces - and, and, and...Interested? Contact us for a non-binding inspection! Nothing suitable found? More than 3,000 other offers at: www.betterhomes.ch - the real estate broker&174;Market a property yourself?Benefit from our know-how: would you like to have a property appraised?Benefit from our free appraisal now, immediately and without obligation! DetailsLocation: centralCondition: goodBathrooms / wet rooms: 1 (1x toilet/sink) Heating system: radiatorPublic transport: bus stop and train station, 200 mShops: grocery store, 100 m\n",
            "130920 Nice apartment crossing in the city center. The kitchen includes a dishwasher. The bathroom is equipped with a washing column. The cellar is very spacious. For 1435 chf with charges included.\n",
            "130921 For sale privately (no broker inquiries please!): We are selling our beautiful, detached, spacious 7.5-room family home in a quiet location with incomparable views. It offers a lot of privacy that is hard to find today. After many happy family years in this house, our children have moved out and we no longer need so much space. The house is in top condition, but the heating should be turned on be replaced in the next few years. Pictures say more than a thousand words, but here are a few highlights in advance: - Wonderful garden with many roses - Directly adjacent to forest and agriculture, at the end of a dead end - Unobstructable, fantastic view over the village to the Bernese Alps - Cozy tiled stove with seating area and fireplace - Maintenance-free brickwork, beautiful wooden beams - Pizza oven - Grapes and kiwi - Large conservatory - Large photovoltaic system - Parquet floors in all rooms and in the living area - Good kitchen with steamer, large fridge in combination with freezer - Free-standing, spacious Garden house garage with a large forecourt for a maximum of 3 carsWattenwil is an up-and-coming Bernese G Municipality with good shopping facilities (Coop, Denner, butcher, cheese and bakery), located in the Gantrisch nature park. Kitas, kindergarten and school up to secondary level in the village with its own day school.\n",
            "130922 Nice 2 room apartment including a fitted kitchen, 2 rooms, a bathroom and a balcony\n",
            "130923 You will find your dream property in a preferred and central location with a view on the southern slope of the Sonnenberg in Kriens near Lucerne. The new building in the countryside is impressive on the inside with large, bright living areas and practical rooms that are also suitable for working from home. The outdoor seating area offers privacy, embedded in the generously dimensioned area. Each floor of the house has large terraces, which provide a panoramic view of Central Switzerland with Lake Lucerne from the Rigi to the Bürgenstock to the Pilatus. The private garage offers space for two cars, bicycles and prams, with ground-level access to the quiet Amlehnhalde (private road). The photovoltaic system on the roof ensures a largely self-sufficient energy supply. (Please no broker inquiries)\n",
            "130924 Your location advantages Luthern is a small, rural community in the Lucerne hinterland. The property is in the middle of Luthern and yet on the outskirts of the village. The region offers a diverse cultural landscape with many hiking and biking trails. You can take the bus to the next train station in Zell. From there you can reach the Willisau-Wolhusen-Lucerne or Huttwil-Langenthal routes. The motorway can be reached in Dagmersellen or Sursee.This is how you liveThis pretty small apartment offers you everything you need: slab and parquet floors, a nice seat, shower/toilet with daylight and a beautiful view of the countryside.It's worth itNet rent CHF 520.00 additional costs on account CHF 115.00 gross rent CHF 635.00 look forward to...... an inexpensive apartment in the middle of the village. The natural area offers a great environment for nature-loving people.\n",
            "130925 Gentilino, in a condominium complex of 16 units, we rent a villa set in a context of rare beauty. Four hectares distributed over a hill overlooking the western part of the Gulf of Lugano allowing a 360 ° view of the lake and the surrounding mountains. Tranquility, comfort and relaxation are the distinctive features of this true oasis of peace located between the municipalities of Lugano and Collina D'Oro.The villa is on 3 floors with private access from the outside and direct access from the garage. lent in the choice of materials and in exploiting the walls to create numerous fully equipped built-in wardrobes.On the ground floor there is the entrance, a large kitchen with dining area and a very large living room and terrace overlooking the Gulf of Lugano. A private garden in front of the dining area allows you to enjoy a much appreciated outdoor space.On the 1st floor there is the master bedroom overlooking the lake and the mountains and a second bedroom, as well as a study / relaxation area and two bathrooms. On the -1 floor there is a bedroom, a bathroom and a private laundry room. In front of the room there is a small garden. There is also a large storage room / cellar with a window and an additional small storage area under the stairs. For the car, 2 places are available in the garage at a price of CHF 150 each.\n",
            "130926 This superb apartment of approximately 72 m2 is located on the 1st floor of a building built in 2016. It is composed as follows:- A large living room with natural light during the day and sunset in the evening- A fully equipped kitchen equipped open to the living room- A balcony on the kitchen/living room side which overlooks an inner courtyard, quiet and flowery. Ideal for putting a grill, a table and chairs- A bedroom- A small balcony accessible from the bedroom- A bathroom- Possibility to rent a parking space in the underground garage accessible with lift (CHF 130.- extra)The apartment is close to all amenities, it is 6 minutes walk from Yverdon-les-Bains train station, 1 minute from the Cuendet gas station and 10 minutes from the beach d'Yverdon-les Bains.Net rent: CHF 1,480.-Expenses: CHF 120.-Gross rent: CHF 1,600.-Available immediatelyContact via the formJohakim Imsafarne+41791387747Kempter Immobilierwww.kempter-immobilier.chYou are a tenant in early termination course? Do you own a vacant property? Kempter Immobilier has developed an efficient and effective strategy for you so that you no longer have to worry about renting your property. Call on the services of a professional now to help you find as soon as possible, a solvent tenant, contact us on kempter@kempter-immobilier.ch\n",
            "130927 The modern and well-kept office and commercial property is located on the A1 access route to Zurich. The property is well maintained, can be flexibly subdivided and is fully rented out as commercial, showroom and office space for the long term. The property is also optimally equipped with ramps, lifting platforms as well as a goods lift and 48 outdoor PP. Even the basement is extremely usable with daylight in the storage and workshop area.\n",
            "130928 In the center of Mendrisio, on the 5th floor of the building occupied by the Migros Club School, we rent an entire floor of the administrative area. Completely renovated, the surface has 3 toilets and a kitchen area, as well as six other offices and a storage room. Elevator in service.\n",
            "130929 For visits, please contact Mr. Fankhauser on 079 273 38 85. This pretty 4.5 apartment of approximately 110 m2 takes place on the 3rd floor of a building located in Savigny, Eden-Roc 10, La Claie- aux Moines. Located in a quiet and green area, this functional and bright property is just 10 minutes from the city of Lausanne. As for the center of the village of Savigny, with its shops, school, restaurant and all amenities, it is located about 3 kilometers. The \"Claie aux Moines\" bus stop (bus lines 65 and 75), served by Lausanne public transport, is about 900 meters away. Distribution: entrance hall, fitted and habitable kitchen, large living room with fireplace , 3 bedrooms, one with access to the balcony, bathroom with bath and washbasin, separate guest WC with washbasin, cellarThe rent breaks down as follows:Apartment: frs. 1,690.-Heating and hot water: frs. 270.-Monthly total: frs. 1,960.-Possibility to rent an outdoor parking space at frs. 60.-/month. This property is for rent as is from May 15, 2021 or to be agreed.\n",
            "130930 Bright, cozy and quiet apartment on the 1st floor in a green setting. Large sunny living room, rather small bedroom, all with lots of wood. Arbor, seating area and cellar compartment available. No pets allowed. Non-smoking apartment. Parking space available for an additional CHF 50.00\n",
            "130931 Very nice partially renovated apartment, overlooking the village of Sainte-Croix, with a magnificent view of the plain and the Alps. This accommodation of approximately 68 m2 is located on the 3rd floor of a small building of 7 apartments. composed of: Living room 2 bedrooms Fitted kitchen Bathroom Vestibule South-facing balcony Parking space Cellar Galetas Located near shops and the train station, not far from the surrounding forests. For more information and to visit contact the advertiser.\n",
            "130932 Find out more: Visit us at www.immostema.ch and enter the property number I0523 in the search field at the top right for more pictures, information on the available space, municipality and location. We look forward to you! This equestrian property is located in the beautiful Bernese Oberland near Lake Thun, surrounded by mountains. This is a unique, large equestrian property (also suitable for private use), which is exceptionally well maintained and exudes southern charm. Not only the horses feel comfortable on this facility, but also the retirees and visitors. The equestrian center was built to the latest standard and built with careful consideration, professionally and with selected material. A real jewel in the equestrian scene, which is located in the equestrian sport zone and in the agricultural zone Turning space - workshop, warehouse and equipment room - bistro - office / toilet- cloakroom Important: A new building project for a two-family house exists and has also been approved! For further information or for a property visit, we need proof of financing in advance. Thank you for your understanding. If you have any questions, Her Kocher will be happy to help +41 79 741 88 88\n",
            "130933 The Wirtshaus Chlöpfen is a well-known country inn in the local recreation area of ​​Lucerne/Zug/Aargau. The stylish farmhouse from 1796 with its rustic, harmonious dining room offers the guest a homely atmosphere. The 80 indoor seats are spread over the dining room (40 seats), the Stübli (14 seats) and a small hall (25 seats). In the spacious garden area (old trees, weatherproof, solid sun blinds) there is space for 120 people with a view of the greenery. The large children's playground and the exciting small animal enclosure also make the inn an attractive destination for families. There are plenty of private parking spaces (approx. 50) available for the numerous guests. Urban proximity with rural charm. This makes the Gasthaus Chlöpfen unique. A landlord's apartment as well as staff and guest rooms are also available in the property. Conditions on request Purchase inventory must be accepted (VB)\n",
            "130934 Beautiful apartment with a patio not far from the train station and the lake. Shops within walking distance. The rental price includes additional costs. The apartment is in a quiet and sunny location and offers the following amenities: - modern and bright kitchen - large, bright living room - with ceramic glass hob - with dishwasher - bright bathroom/toilet - nicer , sunny patio If required, a parking space can be rented. Availability: June 1, 2021\n",
            "130935 As of May 1st, 2021 we are renting this 3.5 room apartment in 8152 Glattbrugg with the associated basement compartment. A laundry room with a drying room and a storage room for bicycles are available for shared use. -Tram stop \"Lindbergplatz\" and bus stop \"Lättenwiesen\" in the immediate vicinity-Autobahn connection A1 approx. 1.5 km away-The Glattpark can be reached in 8 minutes on foot-Primary school 780 m away-Kleiner Coop 800 m away Have we aroused your interest or would you like that Visit object? Then do not hesitate to fill out the contact form. Best regards, Treuhand & Immobilien Abt AG\n",
            "130936 The exclusive new apartment (year of construction 2015) in a park-like setting is available from April 1st. available.The top location is appropriate, 5 minutes walk to the old town and 10 minutes walk to the train station, is the spacious floor plan (128 m²) and high-quality finish.High (2.52 m) bright rooms with oak parquet.Large living/dining area with room-high sliding doors to the covered balcony, which is also oversized (23 m²). High-gloss kitchen with ceramic hob, high-lying oven, fridge/freezer combination, steamer. Bathroom with walk-in shower and bathtub. Second separate walk in shower. Separate guest toilet. Own small laundry room with washing machine and dryer, as well as an additional cellar compartment in the basement. The property and apartment are wheelchair accessible, accessible with a lift and underground car park. The apartments are suitable for every age group. A garage space can also be rented (200 CHF/month). Minimum rental period: 1 year\n",
            "130937 This very pretty 3.5-room apartment, with an area of ​​approximately 87m2, is located in a quiet area of ​​Renens near the town of Prilly. This apartment offers you: a living room, open kitchen with dishwasher, two bedrooms, a bathroom, bathroom (with connection for your washing machine) a separate WC a balconyThe building has an elevator. For visits, please go to the group visit on Friday April 16, 2021 between 5 p.m. and 6 p.m. The photos presented in this advertisement do not necessarily correspond to the object offered.\n",
            "130938 ****Beautiful and bright 3.5 room apartment (79 m) on the 1st floor for rent from July 1st, 2021 3 minutes to the Loorstrasse bus stop, 10 minutes on foot to the KSW, 10 minutes on foot to the Rosenberg shopping center, 5 minutes to the Wolfensberg swimming pool. Beautiful, bright apartment. Large living room, balcony, large parents' bedroom, smaller room suitable as a children's room or office, plus half a room adjoining the kitchen to set up a dining table. Kitchen with dishwasher, ceramic hob, fridge with freezer compartment. Bathroom with double sink, bathtub. Built-in boxes in the entrance area. Parquet floor.Communal laundry room with tumbler. Flexible washing times possible. decalcification system. Cable TV, fiber optic network. Cellar and screed compartment. Pet are allowed. It is a non-smoking apartment. A garage space in the double garage can also be rented. Very pleasant uncomplicated tenants look forward to new neighbors. Information and appointments for viewings are available from the owner, Ms. Stanek, on tel. 052 212 49 05. Net rent: CHF 1580.?Additional costs: CHF 180.?Rent: CHF 1760.?Please note: the telephone number given is the contact number of my landlady. She will coordinate everything.\n",
            "130939 DescriptionBeautiful 4.5 room apartment with a fantastic view for rent! A look into the apartment: -Living room and bedroom with easy-care parquet floor-Modern kitchen with ceramic glass and dishwasher-Modern, bright bathroom with additional toilet-Practical built-in cupboards in the corridor-Additional small storage room-Outdoor parking space can be rented.-Large, beautiful balcony with a view-shopping facilities, public transport and lake in the immediate vicinity Bull's eye? Convince yourself and arrange a viewing appointment todayPropertiesView available\n",
            "130940 We are handing over our 5.5 room apartment of approximately 100m2 to May 31, 2021. The apartment is pleasant to live in and bright, with a beautiful view, it includes:A large living roomA large kitchenA large bedroomThree medium bedroomsA bathroom with toiletA toiletA balconyVISIT : only Monday, April 12 from 5 p.m. to 7 p.m. with your complete application file: Copy of your identity card Your last three salary slips Copy of your extract from the register of the prosecution office. CONDITION: This is a lease takeover, we must present a solvent tenant, with an income of at least 6500CHF per month (3 times the rent).\n",
            "130941 The building is located not far from Mont-Repos park in the center of Lausanne and close to all amenities It is composed as follows: - an entrance hall - a fitted kitchen - a living room - a bathroom - a balcony Visits possible every Monday. Please contact the current tenant beforehand via the telephone number indicated on this ad.Visit:SCARAMELLA Mélania_078 622 55 55_\n",
            "130942 DescriptionVilla E with high-end finishes of 6.5 rooms, a living area of ​​195m2 with large garage, all built on a plot of 696m2 in the Clos Carenai district.DistributionsGround floor1 entrance hall of 13.31 m², 1 magnificent open fitted kitchen of 12 m², 1 large living/dining room of 41.25 m², 1 bedroom of 15.15 m², 1 bathroom with shower, washbasin and WC of 7.21 m² giving access to 1 laundry room of 2.80 m² with column washing machine and dryer and sink, 1 staircase of 5.80 m², 1 technical and bicycle room with air/water heat pump of 9.73 m², 1 garage with automatic door of 29.17 m². Exterior: 1 large covered and paved terrace of 21.51 m². 1st floor 1 distribution hall of 9.27 m², 1 large master bedroom of 19.54 m² giving direct access to a bathroom bathroom with shower, washbasin and WC of 5.16 m² and a dressing room of 4.99 m², 3 bedrooms of 14.21 m², 14.12 m² and 13.82 m², 1 bathroom with bath, shower, washbasin and WC 8.02 m², 1 staircase 1st floor of 7.56 m². Exterior: 1 covered and paved terrace of 7.41 m². Exterior layout 3 parking spaces in front of the villa. 1 lawned green area. photovoltaic solar panels.FinishesFinishes at the customer's choice (subject to change, see construction progress) This luxury villa, located in a dead end, will be delivered turnkey for the 2nd half of 2021. Preferential interest rates from 0.57% , enjoy!\n",
            "Our apartment is in a quiet area and the Gurten is on the doorstep :). In 7 minutes you are at the main station by bus. In addition, there are 2 large shopping centers (Steinholzli and Köniz-Zentrum) 1 bus stop away. You can reach the cultural center Vidmarhallen and some nice cafes in a few minutes on foot. Several sports facilities (Hessgut, GymnasiumKöniz-Lerbermatt, OSZK) are around the corner.\n",
            "130944 From April or by arrangement we rent at Solothurnstrasse 19 in Bützberg2 ½-ROOM APARTMENT on the 3rd floor. These are the advantages of this property:- Open kitchen - Spacious living/dining room- Large bedroom- Beautiful balcony- Kitchen + wet cells Slab floor- Living/ Eat + sleep Laminate floorNet rent CHF 800.00Additional costs CHF 160.00Optional:Garage CHF 100.00Parking space CHF 30.00\n",
            "130945 We rent an attractive and very spacious 4 1/2 room apartment on the 1st floor in a detached 6-family house opposite the Schönbergpark. The apartment impresses with a modern open kitchen, a fireplace, various wall cupboards, a large south/southeast balcony and a small north-facing balcony. A screed and cellar compartment are included in the rental price. In addition to two separate rooms, the apartment offers a spacious living room, which connects the fourth room with a sliding door (glass window). The apartment is ideally designed for a two-person household. The large bathroom is equipped with a bathtub, among other things. There is also a separate guest toilet/sink. A garage can be rented on request for CHF 155.00.\n",
            "130946 New contemporary penthouse apartment of 110 m2 - 4.5 rooms. Entrance hall with cupboards, a living dining room and living room with its fully equipped open kitchen, a large balcony terrace of 26 m2, a separate toilet, 3 bedrooms and 2 bathrooms, one of which is a suite. Ideally located close to shops and public transport. Indoor parking space n°218 and cellar n°10 included in the price.\n",
            "130947 New apartment in a chalet. Open kitchen with very high quality equipment, central dining island. Three bedrooms with built-in wardrobes including a master suite with bathroom and washing column. A bathroom with walk-in shower. Very large balcony of 43 m2. 1 Cellar 1 outdoor parking space (possibility to rent indoor space on a monthly basis) 1 communal laundry room 1 ski and bike room. Floor heating. near the center of the village, less than one km from all amenities.\n",
            "130948 Small attic apartment in the heart of Langstrassenquartier. Public transport, shops, restaurants, parks and schools are on the doorstep. The apartment is rented to 2 people. The rental period is limited to the end of March 2022.\n",
            "130949 At Fichtenweg 6 in Müntschemier we rent a modern and bright 5 ½ room new apartment on the ground floor at SPECIAL CONDITIONS that you determine yourself. The 5 ½ room apartment has its own covered outdoor seating area of ​​24 m2. Thanks to the room-high window front facing west, you always have a view of the seating area from the living and dining room. The view of your beautiful seat is also guaranteed from the modern high-gloss kitchen, which offers plenty of storage space thanks to the various drawers and cupboards can.The apartment has two wet zones. One bathroom is equipped with a spacious, glass-enclosed shower and the other with a bathtub. The ceramic plates in a warm color tone accompany you in an atmospheric ambience to a nice start to the day. Equipment of the 5 ½ room apartment Open high-gloss kitchen with the most modern appliances Dishwasher, 210 L refrigerator, induction cooker, etc. Large wet rooms with rain shower and bathtub Very high-quality tile and parquet floors Large outdoor seating area Own washing machine and dryer in the basement Garage space CHF 120 per month can be rented from the garage direct access to the house Spacious basement with power connection in the basement The apartment is in a new building Housing estate consisting of rental and owner-occupied apartments. The houses are nestled in playgrounds and quiet areas and are on the edge of a quiet single-family housing estate in the well-developed Müntschemier. You can reach the train station in five minutes on foot. It takes five minutes by car to reach the A1 motorway in Kerzers. Would you like to find out more about this apartment? For more information or to arrange a viewing, you can contact Ms. O.Czichelski at: Tel. 076 440 25 40\n",
            "130950 Located in the Day district, near the train station, magnificent apartment of more than 71 m2 of interior surface + 12 m2 balcony. It offers a kitchen open to a spacious living room, two bedrooms, a bathroom with bath + WC and a guest WC. This apartment benefits from a spacious balcony of 12 m2. A covered parking space (CHF 15,000.-) and an outdoor parking space (CHF 10,000.-) complete this property. This BETTERHOMES offer is characterized by the following advantages: - two bedrooms - a bathroom bathroom with bath and WC- balcony of 12 m2- an outdoor parking space 10,000.- - a covered parking space 15,000.-- available May 2021- etc, etc, etc...Interested? Contact us for a free visit! Nothing that matches? You will find more than 3,000 other objects on: www.betterhomes.ch - The Swiss specialist in real estate transactions.Do you have a property to market?Take advantage of our know-how: want to know the value of your property?Take advantage of our free online estimate! detailsLocation: Le Day, 2 min by car from the center of VallorbeState of the building: New, on plansBathrooms: 1 (1x bath/WC)Heating system: GasPublic transport: Train station, 5 min on footSchool: Primary and secondary, 2 min by carShops: Migros, Coop, 2 min by car\n",
            "130951 This is an unusual opportunity for you. A detached house in a sunny location in Kappelen, which you can move into immediately and design according to your own wishes and ideas. It was built in 1980 on a 1252 m² plot in such a way that it benefits from the sun to the maximum. This ensures you valuable privacy. The double garage and the equipment room are at street level. The main entrance is slightly down. It is in the basement. There are two basement compartments, a large room that can also be used as a room thanks to the construction, a toilet with shower, the washroom with electric storage heating and the large hall. From this hall you can reach the integrated garage with an electric gate and a spiral staircase to the upper floor. This staircase has a stair lift. The kitchen with the open dining area is on the upper floor. Adjacent to the kitchen is an office with the associated reduit. The large and bright living room with fireplace leads to a room, a toilet with shower and the bedroom with separate toilet and bath. The beautiful conservatory can also be accessed from the living room. A big plus is the large area with a tool shed and a separate grill house with a fireplace. Barbecue and garden party friends can celebrate harmonious celebrations here. There is plenty of room for your own creations and uses. Garden lovers get their money's worth here and can make their garden dreams come true. I would be happy to show you this special property and look forward to hearing from you.\n",
            "130952 On Schübelstrasse, just above Küsnacht, we are renting out a parking space in a collective garage with immediate effect. The pitches are wide and have a tire box for storage space in the garage.\n",
            "130953 We rent this attractive and sunny apartment with a very high standard of construction, which has the following amenities to offer you: - whole apartment with parquet floor - spacious and open kitchen - kitchen fronts in high gloss white - work surface with chrome steel cover - rear wall in glass - with dishwasher - with a large refrigerator and a large cooling compartment with a steamer - bathroom with toilet, bathtub and double washbasin - separate bathroom with toilet and shower - with tile floor - own washing tower - floor heating - sunny loggia - elevator A parking space can be rented if required for CHF 160.00 per month. This newly built district in Dietikon offers you everything you need for everyday use. Numerous shops, such as Migros or Lidl, as well as various service providers and trendy restaurants are right next to the property. Dietikon train station is about 500 meters away. From there you can go in various directions. The \"Dietikon, Rapidplatz\" bus stop is almost directly in front of the property and is served by bus line 309 in the direction of the train station and Silbern. This apartment is ideally located for mobility users, as there is a station less than 100 meters away in another property in the inner courtyard. The beautiful Limmat and the adjacent green areas, which invite you to jog, walk and linger, are not far from the property. Does this beautiful apartment meet your expectations? Then do not hesitate and contact us directly in the advertisement via \"Contact seller\" to get the to receive viewing information. We look forward to receiving your digital application after the viewing.\n",
            "130954 QUIET 3.5 ROOMS IN LAMONEA Lamone, we rent a practical 3.5 room fully repainted apartment, a few steps from the train station and the bus stop.Entrance with large built-in wardrobe, open and bright living room from which you can access the balcony. Separate equipped kitchen which leads to a second small balcony. Two bedrooms overlooking the front of the building and a large bathroom with bathtub and bidet.FIRST MONTH FREE We access Swisscaution We accept pets Possibility of a covered parking space 100.- CHF\n",
            "130955 We rent various parking spaces in our underground car park at Isengrundstrasse 14 - 38 in Adliswil, immediately or by arrangement. Rent excl. VAT CHF 130.00 / month. For an appointment to view and a registration form, please contact our caretaker, Mr. Hartmann, Tel .079 207 48 64\n",
            "130956 Very spacious apartment in an old farmhouse.- Kitchen with dishwasher and washing machine/tumbler;- Bathroom with toilet, shower, mirror cabinet;- Two large rooms, one with a tiled stove and one with a Swedish stove;- Old belted floors and built-in cupboards;- Wood heating in the Kitchen (distribution of heat via radiators, without heat accumulators). Hot water with electric boiler;- seat;- natural cellar;- 1 parking space included in the price, additional parking space CHF 50.00.\n",
            "130957 We are renting a simple apartment on the mezzanine floor as of May 1, 2021-fitted kitchen-laminate floors throughout the apartment-sunny balcony-cellar availableParking space for CHF 40.00 or garage space for CHF 100.00 per month can be rented in addition.\n",
            "130958 This freshly renovated apartment is in a top location in one of the most tax-efficient municipalities in the canton of Lucerne. The quiet location, the proximity to public transport, to shops, in the middle of the local recreation area speak for themselves. The sun-drenched rooms are another highlight. The apartment also has a separate laundry room for 2 households (per floor). Don't hesitate and let us convince you of the top offer on a tour of the apartment. Garage rent: CHF 130\n",
            "130959 LOCATIONThe property is in a quiet location near the lake and the lively village center.APARTMENTThe 3.5 room apartment has been completely renovated. This has a well-equipped kitchen. Bathroom with bath and toilet. This includes a balcony with evening sun. An outdoor parking space can be rented.\n",
            "130960 For rent as of July 1, 2021 or by arrangement, modern 3 1/2 room penthouse on 3 floors in the lower old town of Bern (Langmauerweg) with spiral staircase, balcony, parquet, toilet/bathroom plus separate toilet, own wash tower, cellar, no elevator. Fr 2300.- incl. NKTel 031 952 53 50 (Mon to Fri from 6 p.m.). Viewing: by appointment.\n",
            "We look forward to your digital application after the viewing.\n",
            "130962 Surrounded by unspoiled nature and overlooking the Lavaux vineyards, a new real estate project is about to see the light of day. Les Terrasses de Lavaux, in Chexbres, will comprise 43 apartments, including magnificent penthouses. The emphasis is on sport and well-being with a semi-Olympic swimming pool, tennis courts, a large gym and state-of-the-art fitness. The place alone is already a dream! It is on a plot of more than 22 hectares, in Chexbres where the Grand Hôtel du Signal once stood, that will be integrated, in the heart of an authentic nature, far from the hustle and bustle and noise of the city, Les Terrasses de Lavaux, dominating the Lavaux vineyards, this exceptionally beautiful site listed as a UNESCO World Heritage Site. The gaze glides over the horizon, gently embracing a breathtaking panorama of the Lake Geneva region. It is this unique view that future owners of Les Terrasses de Lavaux will be able to admire from their balcony or terrace. The building, comprising the ground floor, plus four floors and attics, will include 43 apartments ranging from 2.5 m2 to 5.5 rooms in the attic, with a surface area of ​​278 m2. The sobriety of the architecture showcases nature thanks to large bay windows allowing you to admire the landscape and let in the light. The apartments have generous ceiling heights and an extremely meticulous level of finish. A hotel and a semi-gourmet restaurant will soon complete this exceptional complex. Room service will be provided to residents. AUTHORIZED SALE TO NON-RESIDENT FOREIGNERS* * * * *This superb 4.5-room apartment with 127 m2 of living space is made up of an entrance hall, a guest WC, a living room with access to the 13 m2 balcony, an open and fitted kitchen, three bedrooms, one of which has a private bathroom, a shower room.* * * * *Do not hesitate to consult our website: www.les-terrasses-de-lavaux.com\n",
            "130963 3.5 room apartment located in the center of the city and composed of: 3 bedrooms, an open living room, a kitchen and a bathroom with bathtub and washing machine.\n",
            "130964 We are renting a 2.5 room apartment from May 1st, 2021 or by arrangement, consisting of:- Bathroom- Open kitchen on living room- Bedroom- Living room with balconyInterested? - Then contact us immediately for a viewing appointment.\n",
            "130965 In a sunny and well-served context we offer for rent a comfortable 3.5-room apartment.The apartment is located on the third floor (building with lift) and is composed as follows: - large entrance hall with living room and balcony - full kitchen with dishwasher - two bedrooms bedroom both with balcony and view of the greenery - bathroom with bathtub and private washing machine Completed the unit a cellar and a parking space in the garage. park, restaurants and patisseries. Prison CHF 1,155.-Advance payment CHF 250.-Internal parking space CHF 130.-Security deposit of 2 months. Contact: 091 225 55 79\n",
            "130966 New rental from May 1st, 2021 in DübendorfIn a central location, just a few minutes' walk from Dübendorf train station, we are renting two carefully and comprehensively renovated 4-room apartments on the 2nd floor and 1st attic floor in a historic apartment building as of May 1st, 2021. With their unobstructed view - on the east side of the footpaths and cycle routes along the Glatt and on the south-west side of the park landscape along the Glatt and Fernsicht - the apartments in this up-and-coming town offer the optimal combination of urban and natural living.ArchitectureThe bright Apartments combine high room quality with an extraordinary ambience. The complete renovation of the bathrooms and kitchens as well as all surfaces meet the requirements of modern and charming living. The existing wooden floors were carefully reworked and could thus be preserved. New, large balcony terraces (12.5m2) with full afternoon and evening sun allow you to enjoy the outdoors.Apartment offer4-room apartment with 82.6m2 of living space on the 2nd floor with a large and a small balcony and a spacious cellar compartment with 9.0m2 each, gross rent of CHF 2,480.00 plus CHF 200.00 ancillary costs on account per month.4-room apartment with 75.8m2 of living space on the top floor with a large balcony and spacious cellar compartment at 9.0m2 each, gross rent at CHF 2,480.00 plus CHF 200.00 ancillary costs on account per month. In addition to the personal basement compartment, the renovated screed (unheated) with an area of ​​35.0m2 can be made available for sole use without additional costs. For both apartments, a spacious garage can be rented for CHF 200.00 per month or an outside parking space for CHF 80.00 per month. The laundry room with washing machine and drying room and a lockable bicycle room are available for shared use. Dübendorf and environs In recent years, the town of Dübendorf has rapidly developed into an independent residential and service center near Zurich, thanks to a wide range of shopping opportunities, cultural offerings and the nearby natural recreation area along the Glatt. The train station in Dübendorf offers numerous public transport connections and Zurich can be reached in a very short time. Viewing and registration We would be pleased if you were interested! We would be happy to show you these unique, charming apartments personally on site.\n",
            "If you are interested, please write us a short text about yourself so that we can make you a suggestion for a viewing appointment. Standard requests or limited requests will not be considered because we are explicitly looking for someone for a longer period of time. There is a possibility that another person can move in in the future (approx. in 2-3 months). The person who holds the current main tenancy will then move out, so applicants who can take over the main tenancy immediately or in a few weeks will be preferred.\n",
            "130968 EXCLUSIVE - VILLAS AREA IN MIESIdeal location for this villa project, in a residential area, close to all amenities, such as the train station, schools, village center and road access. Oriented to maximize light, the day part has the best orientation, facing south-west. Added to this are superb volumes, due to a ceiling height higher than current standards and large bay windows. Here, every detail has been carefully thought out to offer its occupants great comfort. The property also offers a double underground garage, an independent studio and underfloor heating with a reversible heat pump, refreshing in summer. For the exteriors, the plot is suitable for swimming pool and already has a small garden, connected to the small garden of the neighboring villa. With the benefit of a positive notice from the municipality, the distribution of the rooms, their sizes, the location of the partitions and the finishes will evolve at the option of the lessee. Currently, the distribution provides for a living room of 78m2, including the kitchen, the living room and dining area, a parental suite of 35m2, two bedrooms of 15m2 each and an independent studio of 25m2.\n",
            "130969 In this garage near Enge train station, we rent out several parking spaces immediately or by arrangement. The rent amounts to CHF 220.00/ month plus 7.7% VAT for external tenants. We are happy to answer any questions or arrange a non-binding inspection appointment.\n",
            "130970 Natural oasis 3,903 m², retreat / jewel / demolition house with inventory protection for reconstruction, 8487 Zell ZH, with meadow / forest / pond Absolute rarity: For sale is plot 7944 with a total of 3,903 m², of which approx. 2,275 m² is meadow and the rest approx. 1,628 m² of forest. With an old residential building and an outbuilding, both for reconstruction. The planning process for the replacement building is currently underway. The sale takes place either with an approved new building project or with a timely individual new building plan on the part of the buyer.Solitary location, forest clearing, in the middle of nature, access via unmade road (difficult access) with participation in an adjoining corridor (no public road).The property is not subject to the BGBB and can be purchased without an agricultural permit. Living and ancillary areas from the old building Königstal 3 may be expanded by a maximum of 30% in the course of the replacement building. Living space (aBGF) maximum 155 m², ancillary areas (BNF)? maximum 120 m², additional outbuilding maximum 30 m², total area non-zoning approx. 305 m². In the case of a reconstruction (replacement new building), the non-zoning areas used (living space and ancillary areas) may be expanded by a maximum of 30% or by a maximum of 100 m². When renovating the old stock only within the existing building volume (economically not feasible), the living space (allowable gross floor area) should be expanded by a maximum of 60% or by a maximum of 100 m². (Extensions within the existing building volume are only counted in half) The house was previously used 100% independently without connections to the public network, the self-sufficient development must be completely renewed. The municipality of Zell has confirmed that there is no obligation to develop outside of the building zones the object can continue to be used completely independently without connection obligations.Own source on site (must be revised).Septic tank must be replaced by private small sewage treatment plant.Power supply, wind turbine and photovoltaic cells (must be renewed).There are 2 small ponds on the property On the southern side of the valley, the properties border on the Zeller Bach and the Königstalbach runs through it from north to south. Distance by car to: HB Winterthur 15 km 26 min. Zurich HB 34 km 40 min. Zurich Airport 34 km 32 min to Rämismühle-Zell train station: 1.6 km 19 min. Train ride from Rämismühle-Zell train station: HB Winterthur 22 min. HB Zurich 48 min.\n",
            "Visit by arrangement.\n",
            "130972 Newly renovated apartments for city people. As of July 1, 2021, we are renting newly renovated small apartments at Hofweg5 in 3013 Bern in the popular Lorraine for city people and those who would like to become one. The newly renovated apartment offers you: - central location in Nording- optimally utilized living space? small&fine- kitchen with dishwasher, glass ceramic stove with two hobs, extractor hood, work surface in chrome steel- easy-care oak parquet floor in the living and lounge area- ceramic floor tiles (petrol or terracotta) in the entrance area, kitchen and bathroom- practical built-in cupboard in the entrance area- balcony and terrace / balcony and Garden seating area, basement compartment and screed visualizations may differ in materials and colors. We reserve the right to make changes.Are you our city person (or would you like to become one) and are you looking for a well-equipped small apartment in the popular Bernese Lorraine? Get in touch with us. Anyone who lives in the Lorraine loves the quarter for its diversity, its colorful buildings, street art and of course the countless cafés? the cultural events in the Lorraine are known beyond the neighborhood and attract the Bernese to the north-east of the city of Bern. City people live here (and those who would like to become city people). Your new home is located in the Lorraine. Whether on foot, by bike or by public transport? From Hofweg5.ch you can reach the city of Bern within a few minutes.\n",
            "130973 Apartment next to the blecherette exit, with parking space, cellar, washing column in the apartment and view of a park.\n",
            "130974 We offer for rent an enchanting 2½-room apartment of recent construction (2018) with garden in Bosco Luganese in Via Cademario 126.The area is quiet and surrounded by greenery and is still a short distance from Bioggio and all the main services. completed at the beginning of 2018 and has excellent finishes, such as external triple glazed windows, underfloor heating / cooling, electric shutters and awnings.The property has a beautiful garden and a covered terrace and is arranged as follows: entrance with built-in wardrobe, open-space with kitchen opening onto the living room and exit to the garden, bathroom with shower, laundry room, bedroom. Available: cellar and parking in the garage (CHF 130.00 per month). PRICE: CHF 1'250.00ACC. EXPENSES: CHF 150.00 DURATION: min. 2 years GUARANTEE DEPOSIT: CHF 4,200.00 (or Swisscaution)\n",
            "130975 In the pretty town of Les Mosses, a ski resort near Leysin and 25 minutes from Aigle, is profiled in a charming PPE without vis-à-vis, a very beautiful crossing and bright duplex apartment of 3.5 rooms with an area of of 84 m2 with two balconies of 6 m2 each. It has been renovated with quality materials and services (solid parquet everywhere, stove, double oven...) Chalet style, each apartment has its own entrance. It is designed as follows: - entrance hall, - guest WC with window,- small cupboard,- fitted kitchen with window overlooking the village open to spacious double living room equipped with a stove and with access to the first balcony and view of the mountain,- climbing stairs in solid wood,- two beautiful bedrooms, one with wall cupboard and one with direct access to the second balcony. - bathroom with WC. This apartment is completed with a cellar and two underground spaces (30,000 chf +). It is in excellent condition, has a lot of charm. It is close to the ski slopes.\n",
            "130976 The currently available office and commercial space totals 1'700m2, of which 700m2 is office space and 1'000m2 is commercial/storage space. There is also a high-bay warehouse in the backyard. This property is limited until 07/31/2023 Let yourself be won over by the optimally located property and attractive rental conditions: 2nd floor + 4th floor - Office space: - Fully developed, well structured office space - Very attractive pricing - kitchen - passenger lift - Good accessibility to the Commercial space on the ground floor - gender-separated toilet facilities - fiber optics - parking spaces and electric charging stations available 2nd basement Commercial/storage space: - truck-compatible delivery - goods lift - loading ramp floor load: 1500kg/m2 - high-bay warehouse (optional) Heinrichstrasse 200 is well developed in public - as well as private transport and is only a few minutes' drive from the motorway junction, which is located directly at the viaduct arches. For more information, please contact Mr. Flavio Lucido on 044 250 52 05.\n",
            "130977 RENTAL DURATION from July 20, 2021 to October 18, 2021 (minimum 2 months)Direct link: ums.ch/offre-detail/54835/Tous Lausanne: ums.ch/apartments-meubles/lausanne/In generalVery nice view of the lake Léman.110m², on the 5th floor with lift, 2 bedrooms, 1 office (can be used as a bedroom), wheelchair accessible, in good condition4 people max., families with children welcome, smoking is prohibited in the apartmentAdditional remarks concerning the rentHeating, electricity, water, internet incl. SPECIAL PRICE The provider of this property rents at a price more advantageous than covering his costs (resp. below the market price for the owners).Furnituremodern, functional , tasteful, simple, comfortable2 double bedsInternet equipment, cupboardslave-machineBalcony / terrace / garden1 balcony 10m²KitchenKitchen equipped for 4 peopleseparate kitchen, dishwasher, microwave, coffee makerBathrooms / shower / wc1 shower & wc, 1 bath & w c, 1 separate toiletDescription of the areaPeripheral area, located northeast of the city center.Quiet residential area with new buildings.Public transport2 min. walk from the Lausanne Sallaz public transport station2 min. distance from Lausanne Sallaz train stationCarpublic parkingmotorway access nearbyKeywordsmedium-term temporary solutionmoving business sabbatical******************************** ***************SPECIAL PRICE - 5 ROOM APARTMENT IN LAUSANNE - SALLAZ/VENNES/SÉCHAUD, FURNISHED, TEMPORARYRENTAL PERIOD from July 20, 2021 to October 18, 2021 (min. 2 months)Direct link: ums.ch/offer-detail/54835/All Lausanne: ums.ch/furnished-apartments/lausanne/General informationBeautiful view over the Lake Geneva.110m², on 5. floor with elevator, 2 bedrooms, 1 home office (can be used as bedroom), handicapped access, in good condition4 persons max., families with children welcome, smoking in apartment not allowedComplementary remarks on the rentHeating, electricity, water, internet incl.SPECIAL PRICE The provider offering this property is renting out below cost price (resp. below market price if he is an owner).Furnituremodern, functional, stylish, elementary, cozy2 double bedsEquipmentinternet, b uilt-in closetswashing machineBalcony / Terrace / Garden1 balcony 10m²KitchenKitchen equipped for 4 personsseparate kitchen, dishwasher, microwave, coffee makerBath / Shower / Toilet1 shower & toilet, 1 tub & toilet, 1 separate toiletPicturing the districtDistrict outside of Lausanne, north-east of the centre.Quiet residential area with new buildings.Public transport2 min. to walk to public transport station Lausanne Sallaz2 min. to ride to train station Lausanne SallazCarPublic parking nearbyAccess to motorwayKeywordsshortterm medium term expat relocation business HR sabbatical work digitalnomad\n",
            "130978 Two quiet workplaces for rent in the heart of Zurich at the sales GmbH web agency. Can be rented as an individual workplace or as an entire office. Office equipment - lift table and office chair - high-speed internet printer - lockable box - shared use of kitchen and separate ladies' and gents' toilets. A meeting room for your customer appointments is available for 25.- per hour. * Rent per Workplace\n",
            "130979 This lovely and cozy holiday home is located in the upper part of the sunny community of Claro. With good access and two parking spaces, surrounded by shady trees and a comfortable seating area, this house will bring you great joy and many happy hours from the very first moment. The whole thing, nice and not too big, can be taken over immediately, or various smaller and, if desired, larger changes can be tackled. All doors are open to lovers. This BETTERHOMES offer is characterized by the following advantages: - cozy 4.5 room holiday home - ground floor: room, separate studio with entrance, toilet / washbasin, exit to the garden to the patio and service - upper floor : entrance, room, living room, small separate kitchen and balcony- basement: deepened very low basement and techn. Space and, and, andInterested? Contact us for a non-binding inspection, online inspection is also possible! Nothing suitable found? More than 3,000 other offers at: www.betterhomes.ch - the real estate fair broker® to market a property yourself? Benefit from our know-how: would you like to have a property appraised? Benefit now from our free appraisal, immediately and without obligation! DetailsLocation: Beautiful, elevated dream location in the sunny village of Claro in the upper part of the community, absolutely quiet, with good access on a private road (1/5) and pretty surroundings and views of the village and the valley.Condition: The two-storey, solidly built building was continuously expanded and renewed and is in good condition.Bathrooms / wet rooms: 2 (1x bath/shower/toilet, 1x shower/sink/toilet)Heating system: Electric heating with wall heaterPublic transport: Post bus stop, 350 mSchools: Elementary and middle schools, 350 mShops: smaller grocery stores and Coop, etc., 350 m\n",
            "130980 Furnished 2 room apartment with balcony for subletting in a quiet location in Ebikon. Good public transport connection. Free outside parking, garage can be rented. The apartment has a living room with sofa, TV, X-Box, dining table with 4 chairs, balcony with garden furniture, flowers and outdoor lighting , 1 bathroom, corridor with built-in cupboard, kitchen including coffee machine (and a few capsules), enough cutlery, plates, cups...etc., 1 bedroom with double bed, large mirrored cabinet, desk/work table (height adjustable), office chair, if required, one Sewing machine provided. Rent including NK 1190.- per month\n",
            "130981 This modern and new villa offers a life like on vacation. The building is in an exclusive location in the tax-advantaged town of Portalban with a view of Lake Neuchâtel. total happiness to live with the following amenities: - Open entrance and high and bright rooms - Spacious, open and bright living-dining room (with kitchen area approx. 110m2) - Open kitchen with modern island, wine cooler, oven combined with microwave, open space induction cooker, food center - Large main bathroom with double Italian shower and two sinks - Second bathroom with Italian shower - 1 cellar on the ground floor, 1 technical room, 1 attic - 1 large bedroom (19.50m2) with direct access to bathroom and garden - 1 bedroom with washer/dryer (14.50m2) - 1 more bedroom (13.50m2) - Brown natural stone tiles posed throughout the house - Fireplace - Large covered terrace with evening sun and lake view - Ground floor living area (disabled accessible) - Heating: Geothermal heat pump, underfloor heating - Solar panels - Fenced garden - 4 parking spaces exteriors incl. Surroundings - Within walking distance of the beach and the port of Lake Neuchâtel in just 10 minutes - Restaurants in the village - Supermarkets nearby in the surrounding villages - Tax-friendly municipality in the canton of Friborg - Quiet and family neighborhood - Motorway proximity, approx. 10 minutesAvailable from 01.05.2021 or to be agreed--------------------------------------- ----------------------------------------Exklusive Villa mit Panorama SeesichtDiese moderne und neuwertige Villa bietet Wohnen wie im Urlaub. Das Objekt liegt an exklusiver Lage in der steuergünstigen Gemeinde Portalban mit Blick auf den Neuenburgersee.Die 4.5 Zimmer grosse Villa wurde im 2020 mit viel Feingefühlt neuwertig saniert und bietet auf dem 1200m2 grosen Grundstück 180m2 und hohe lichterfüllte Räume- sehr grosszügiger, offener und heller Wohnbereich mit moderner Küche/Kochinsel (ca. 110m2)- Küche mit Weinkühler, Backofen- Mikrowellenkombi, Freiflächeninduktionskochfeld, Food Center- Grosses Hauptbad mit Italienischer Doppeldusche und Doppellavabo- Gästetoilette inkl. italianischer Dusche- 1 ebenerdige Kellerabteil / 1 Technikraum / Dachboden- 1 grosses Schlafzimmer (19.50 m2) mit direktem Bad- und Gartenzugang- 1 Zimmer (14.50 m2) mit Waschmaschine/Tumbler- 1 weiteres Zimmer (13.50m2)- Braune Natursteinfliessen in allen Zimmer verlegt- Cheminee- ebenerdige Wohnfläche von 180m2- Heizung: Erdwärmepumpe inkl. Solar, Bodenheizung- Grosse überdachte Terrasse mit Abendsonne und Seesicht- eingezäunter Garten- 4 Aussenparkplätze inkl.Umgebung- fussläufig zum Strand und Hafen am Neuenburgersee in nur 10min- Restaurants im Ort- Einkaufsmöglichkeiten im Nachbarsort- Steuergünstige Gemeinde- Panorama Seesicht auf den Neunenburgersee Jura- sehr ruhige Siedlung- Autobahnanschluss ca. 10minVerfügbar ab 1.5.21 oder nach VereinbarungMehr Fotos auf anibis oder auf Anfrage: Sie einen Besichtigungstermin, es lohnt sich!\n",
            "130982 In Autigny, spacious and quiet 3.5 room apartment, not overlooked, 2 minutes from the bus stop, located on the 1st floor. Large fitted kitchen, bathroom with shower and bathtub, washing column, large terrace with open view, wall cabinet in the entrance hall, indoor stove. Located in the heart of nature with a view of the Alps, in a renovated farmhouse, next to the owner, with no other tenants. Two parking spaces available, possibility of exploiting a garden plot. Lawn and playground available. 1'300 CHF/month charges included, free on 01.05.2021 or to be agreed\n",
            "130983 New build single garageNew construction of an apartment building with a garage wing. The last single garage 03 with a sectional door is for sale.\n",
            "130984 Beautiful cottage in the center of Preonzo, completely renovated in a quiet area. Also perfect as a holiday home. This offer from BETTERHOMES is highlighted for the following advantages: - terrace with pergola - independent - hot air fireplace - well built - parking - mezzanine for any guest room - etc., etc. , ... Interested? Contact us for a non-binding visit! No matching object found? More than 3,000 offers on: www.betterhomes.ch The Swiss specialist for real estate brokerage Do you have a property to sell? Benefit from our know-how: know how much your property is worth? Take advantage of our free online appraisal! dataLocation: very quiet and centralProperty condition: goodBathrooms / Showers: 1Heating: wood-burning fireplace / electric storage stovesPublic transport: nearbySchools: nearbyShops: nearby\n",
            "130985 One or two practice rooms in a central location in Zurich, in a doctor's office for rent. The space can be used for individual work or as a practice. Included are a shared kitchen and reception room. With a direct view of the Schanzengraben and close to public transport.1. Practice room at CHF 1300.-2. Practice room at CHF 1200.-This BETTERHOMES offer is characterized by the following advantages:- a few minutes from Selnau train station- 10 minutes from Bahnhofstrasse- easily accessible for potential customers/patients- bright rooms 21 sqm and 22 sqm- individual use- Additional costs incl. cleaning service CHF 320.-- Visitor parking available - and, and, and...Interested? Contact us for a non-binding inspection! Nothing suitable found? More than 3,000 other offers at: www.betterhomes.ch - the real estate broker&174;Market a property yourself?Benefit from our know-how: would you like to have a property appraised?Benefit from our free appraisal now, immediately and without obligation! DetailsLocation: centralCondition: very goodBathrooms / wet rooms: 1 (1x toilet)Public transport: Selnau train station, 300 m / main train station, 800 m / Stauffacher, 500 mSchools: -Shops: Coop, 50 m / Migros, 300 m\n",
            "130986 An attractive 5½-room attic apartment with a gallery awaits you in a very quiet location, set back from the Bahnhofstrasse. The entrance to the apartment building is in the basement. The entrance to the apartment is reached via a staircase. The apartment impresses with exciting details and a refreshing room layout. Immediately after the entrance area, turn left to the 4 rooms as well as to the toilet/bathroom and toilet/shower. On the right is the spacious living area with access to the balcony, the bright kitchen and the staircase to the gallery. The gallery is very large at around 55m². There is also a small reduit on the gallery and access to the balcony. In the basement there is a cellar compartment and a spacious laundry room. A car shelter is included in the sales price. I would be happy to show you the unusual apartment and look forward to hearing from you.\n",
            "130987 SITUATIONBuilding ideally located close to shops and amenities. Accommodation located in a building dating from the 15th and 16th centuries with lots of characterAPARTMENT1.5 room apartment on the 3rd floor, unfurnished.DESCRIPTIFSmall hall with old decorative stone stove, 1 bedroom, 1 fitted kitchenette, bathroom-WC.LOYERCHF . 1070.00 Net rentCHF. 100.00 for charges and laundry For any further information, please contact Globe Plan & Cie SA at 021.811.22.10 or by email: info@globeplan.ch. Except for errors, omissions or rentals in the meantime.\n",
            "130988 VISITS ONLY FOR SERIOUS AND INTERESTED PEOPLE! Magnificent apartment for rent, quality materials on the ground floor. 2 bedrooms, a dressing room, a private laundry room. Two independent entrances Terrace and parking spaces in front of the house. In the heart of the charming village de Fruence.1900.- charges included and parking spaces included\n",
            "130989 In the beautiful and fascinating ancient village of Riva San Vitale, in the immediate vicinity of the center of Lugano and Mendrisio, in a green and quiet area with a FABULOUS 180 ° VIEW OF THE LAKE, we offer for sale, in a new and modern building with high quality finishes. , 4.5-ROOM APARTMENT LOCATED ON THE FIRST FLOOR WITH LARGE TERRACE WITH PANORAMIC VIEW, and composed of: - Entrance hall; - Large living room with direct exit to the terrace; - Bright and open kitchen; - 1 bathroom available in the living area ; - Hallway at night; - 1 double bedroom with en suite bathroom with lake view and exit to the terrace; - 1 double bedroom; - 1 bedroom; - 1 bathroom available to the sleeping area; Excellent sun exposure !! Top level finishes, possibility of internal customizations. Total price Apartment CHF. 950,000 Covered parking space available CHF. 45'000 Cellar available CHF 20,000WORTH VISION !! For information you can also contact us at the following addresses: BERNASCONI MARCOReal estate consultant natel: +41 76 221 56 45EBUYHOUSEoffice: +41 91 225 69 99 Riva Paradiso, 4Lugano Paradiso\n",
            "130990 2.5 room apartment on the 2nd floor comprising: hall, open fitted kitchen, living room, bedroom, shower room/WC, balconyIndoor parking: Fr. 100.00 / month\n",
            "130991 On the fourth floor there is a large and bright 3.5 room apartment in a strategic area overlooking the surrounding hills.The co-ownership is located in Coldrerio in a quiet neighborhood away from the cantonal road. All services are easily reachable on foot (shop, pharmacy, doctor, bus stop, school, football field, etc.). The apartment consists of: kitchen, living area with access to the balcony, hallway, two large bedrooms, a bathroom with tub and one with shower, spacious closet. Cellar. Possibility to purchase parking spaces in the garage. The condominium is in good maintenance conditions: the facades were renovated in 2016, the gas heating plant in the 2018 and the staircase lighting system in 2019.It is ideal as a primary home, even for elderly or disabled people. It can also be a good income investment.\n",
            "130992 Ideally located between the prestigious Lavaux vineyards and the charming medieval town of Lutry, this superb new apartment, with contemporary and clean lines, enjoys a magnificent panorama of Lake Geneva and the Alps. Housed on the top floor of a small building with 3 apartments, the apartment is perfectly realized: its interior distribution offers you large living spaces, as well as high standard equipment. It is composed as follows:- Hall entrance with wardrobe and private lift- Visitor WC- A reduced room with washing column- Living/dining room of 48m2 with access to the terrace- Modern fully equipped open kitchen- 1 bedroom of 12m2 with adjoining bathroom- 1 master bedroom of 17.26m2 with bathroom & dressingroom Annexes: 2 indoor places at CHF 360.-/month in additionCharges at CHF 360.-/month in additionAnimals not allowedLutry;Feet in the water, let yourself be seduced by the charm authenticity of the village of Lutry: cobbled streets, terraces along the port and small beaches to die for. You will feel like you are on vacation all year round!\n",
            "130993 Melide, a few minutes drive from the center of Lugano and a few meters from the motorway entrance, together with a multitude of services and restaurants, offers so much tranquility and tranquility that you can enjoy along the shores of Lake Ceresio, on which the entire village is located. overlooks. The apartment in a new residence of only 5 units, has 4.5 rooms carefully placed on an area of ​​130sqm and a terrace of 10sqm, from which to admire the lake and the surrounding mountains: • Entrance with wardrobe corner • Guest WC • Modern semi-kitchen - open with fantastic lake view • Living area with access to the terrace • Bedroom • Bathroom with shower • Double bedroom with access to the terrace with lake view • En-suite bathroom with double sinks, bidet and bathtub • Bedroom with access to the terrace, always with lake view This house is ideal for those who live a dynamic and lively life and want to end each day admiring a romantic and regenerating view. 4.5 rooms, 130 sqm + 10 sqm terrace Monthly rent: CHF 2'700 including an outdoor parking space Monthly expense account: CHF 250 Dienstleistungen und Restaurants, viel Ruhe, welche Sie am Ufer des Ceresio-Sees, auf den das ganze Dorf blickt, genießen können. Die Wohnung befindet sich in einer neuen Residenz von nur 5 Einheiten, verfügt über 4,5 Zimmer auf einer Fläche von 130qm und eine Terrasse von 10qm verteilt, von der Sie den See und die umliegenden Berge bewundern können: - Eingang mit Gäerobsteenecke - WC - Moderne halboffene Küche mit fantastischem Seeblick - Wohnbereich mit Zugang zur Terrasse - Schlafzimmer - Badezimmer mit Dusche - Doppelzimmer mit Zugang zur Terrasse mit Seeblick - En-suite Badezimmer mit Doppelwaschbecken, Bidet und Badezwanne Terrasse, Schlafzimmer Haus ist ideal für diejenigen, die ein dynamisches und ereignisreiches Leben führen und jeden Tag mit einer romantischen und regenerierenden Aussicht ausklingen lassen möchten. 4,5 Zimmer, 130 Quadratmeter + Terrasse 10 Quadratmeter Monatliche Miete: CHF 2'700 einschließlich eines Außen ParkplatzesMonatliche Anzahlung Heiz und Nebenkosten: CH 250 Melide, just a few minutes by car from the center of Lugano and a few meters from the highway access , together with a wide range of services and restaurants, offers a lot of peace and quiet that you can enjoy on the shores of Lake Ceresio, overlooked by the whole village. The apartment is located in a new residence of only 5 units, has 4.5 rooms distributed over 130 sqm and a terrace of 10 sqm, from which you can admire the lake and the surrounding mountains: - entrance with wardrobe nook - Guest toilet - Modern half -open kitchen with fantastic lake view - Living area with access to the terrace with lake view - Bedroom - Bathroom with shower - Double room with access to the terrace with lake view - En-suite bathroom with double washbasin, bidet and bathtub - Bedroom with access to the terrace, also with lake view This house is ideal for those who lead a dynamic and eventful life and want to end each day with a romantic and regenerating scenery. 4.5 rooms, 130 square meters + terrace 10 square meters Monthly rent: CHF 2'700 including one outdoor parking spaceMonthly down payment for heating and utilities: CH 250\n",
            "130994 Charming studio for rent with an area of ​​32 m² located on the 1st floor of a new building. This property consists of an entrance with wall cupboard, a fitted kitchen open to the living room, a balcony, a bathroom with shower and a cellar. Rent: Fr. 820.- + Fr. 110.- = Fr. 930.- Possibility of renting an indoor parking space at Fr. 100.-/month extra. Close to the CFF station, bus stops and the city center. Agency contact for visits: 024 468 15 15.\n",
            "130995 20 minutes from LausanneThis apartment is located in a building under construction on a plot ideally located in the center of the village of Lucens. This 3.5 room on the ground floor gives direct access to a large wooded and fenced green space of more than 4000 m2 which extends to the foot of the building to give a charming feeling of escape. Eco-friendly passive construction -responsible, a private terrace enhances modern living comfort in a quiet setting, close to all amenities.Sold with a cellar and the possibility of an indoor parking space per apartment at the price of CHF 25,000Delivery autumn 2022 .Description and plan on our site 20 apartments 3.5 and 4.5 rooms\n",
            "130996 further description under HomegateGarage CHF 150 per month\n",
            "130997 Two parking spaces are now available for rent in the industrial zone of Fällanden. Per parking space CHF 70.00 per month.\n",
            "130998 In Porto Ronco, just a few kilometers from Ascona, in the direct vicinity of the lake, the small, charming luxury residence \"Mimosa\" was created through an elaborate and loving complete renovation of two Ticino houses. The last vacant apartment with a wonderful view of the lake offers a bright living area on the living floor high-quality, open kitchen and a guest shower room. The stairs lead upstairs to the bedroom with a chic bath tub. The apartment has a pretty part of the garden that can be reached from the kitchen, ideal for nice barbecues with family and friends. The highlight of the residence is the private beach with a beautiful lounge area, where you can take a wonderful swim in the lake, chill, read and celebrate. Thanks to an underpass, Mimosa Beach is safe and can be reached in just a few steps. The possibility to rent a buoy is another highlight for everyone who wants a boat on Lake Maggiore.\n",
            "130999 available immediately bright and quiet functional and new, fitted kitchen large sunny balcony on the 3rd floor not overlooked close to all amenities and the motorway washing/drying machines in the apartment built-in wardrobe closet large cellar underground parking space - -> possibilities of keeping the living room furniture + sofa and table and 4 chairs in the kitchen (amount to be discussed) 1570.- charges included and underground parking space included\n",
            "131000 We rent a refurbished 3 room apartment at Sportweg 21 in Liebefeld as of June 1st or earlier you have a good public transport connection and various shopping facilities in the immediate vicinity (Denner, Spar, Migros, Coop). Recreational areas such as the Könizbergwald and the Liebefeldpark are also within walking distance. We look forward to hearing from you for a viewing appointment on Friday 16.04.21 from 6 p.m. to 7.30 p.m.\n",
            "131001 Indoor parking space for rent in the garage of a recent PPE. Automatic door with command. Located \"En Sècheron\", corner of Ch. des Terreaux and Ch. des Prés-du-Dimanche, 3 mins walk from Migros.\n",
            "131002 Nice studio of about 45m2, with beautiful kitchen, large bathroom. Small room that can be used as a storage room, or to put cupboards or something else. Pretty terrace with magnificent view. Possibility of having parking spaces. On the 1st floor. Laundry room on the floor. Easy access for the disabled.\n",
            "131003 A spacious and bright bedroom is available in this great apartment in the center of Lausanne. 10 minutes walk from Flon and Riponne. In a quiet and friendly area, this is a shared flat with 2 boys. The apartment is composed of -a large entrance hall-a balcony -a cellar -a large kitchen -3 bedrooms, bathroom and separate WC Resumption of my part of the lease. If interested, you need: 3 last salary slips office of prosecution copy of identity card and license\n",
            "131004 Virtual tour --> More... --> Additional information on the webLocated in a recent district, these premises are ideally placed. Close to the highway and in a transit area. Flexible spaces that can be converted according to the lessee, located close to amenities. /m2/yearConcierge package: CHF 7.-/m2/yearParking spaces available:Indoor: CHF 150.- per month (3.7 spaces per 100 m2 rented)Outdoor: CHF 100.- per month\n",
            "131005 Promenade de Castellane 9 in Morges: 4 rooms in new construction on the 4th floor. Magnificent apartment in new construction 4 rooms including a master suite with access to the bathroom and washing column, shower room, open kitchen, balcony loggia, cellar .The rent including charges is CHF 2,854.--\n",
            "131006 The beautiful, bright 4.5 room apartment is on the 1st floor of a two-family house in a quiet residential area. You reach the 4.5 room apartment via a staircase and reach the spacious entrance. Immediately opposite is the shower with toilet and before that, on the right-hand side, an area in which an office space can be paid for. 4 rooms of different sizes, which can be laid out with laminate if required, invite you to set them up. The closed kitchen has plenty of storage space. A large reduit and the floor above the apartment are available as storage space. You will certainly spend many sunny and cozy hours on the patio in the beautiful garden. An area for your bikes and garden furniture is available at the seat. This apartment is particularly suitable for a couple or a single person. A parking space can be rented for CHF 40.00.\n",
            "131007 The property is in a central core zone location in the middle of the village of Buchs. The center of the community with the most important shopping facilities and a bus stop is in the immediate vicinity. The move-in date is immediately or by arrangement. A personal visit is possible on request.\n",
            "131008 The rent for the single garage is CHF 100 per month. There is a power connection and running water.\n",
            "131009 In Montagnola, in a dominant position with a magnificent panoramic view of the lake, we are pleased to offer this beautiful villa, completely renovated with an outdoor swimming pool in the context of relaxation and tranquility located in a quiet internal street with no exit. levels.The property was built in the 70s, completely renovated in 2002 and renovated in 2017. With spacious interiors, well lit and with attention to detail, this object offers warm, comfortable and welcoming spaces. Important to know: Right of use of a plot on the lake PrivacyOutdoor swimming pool with outdoor shower, toilet and storage room\n",
            "131010 2504 Biel - QUIET LIVING IN A CENTRAL LOCATION IN BIEL Would you like peace and quiet at home - and still enjoy active life in the beautiful clock city? ...then this inexpensive condominium is a really good opportunity: - Very well-kept apartment - Living space: 87.5 m2 - 3.5 rooms - 2 bedrooms - 1 family bathroom with bathtub and double sink - 1 bathroom with shower and guest toilet - Open kitchen with high-quality natural wood front - Hot-air fireplace in the living room - Covered balcony to the south-west - Own, separate cellar room - Car parking space in the multi-storey car park, right next to the apartment Your real estate agency ALUAG.CH is your specialist for wonderful properties in the best locations. We look forward to accompanying you on the way to your dream.\n",
            "131011 Ideally located in Morges, a few steps from the lake and the motorway entrances, spacious premises of 175.5 m2 easily modular. A goods lift and stairs provide access to the premises. Easy access including for heavy goods vehicles. 14 outdoor parking spaces available for this property. Possibility to buy a second lot of 250 m2 at the price of CHF 1,050,000.-. This BETTERHOMES offer is characterized by the following advantages: - modular 175.5 m2 premises - goods lift - 14 extra parking spaces at the price of CHF 20,000.-/place - availability immediately or to be agreed - etc., etc., etc...Interested? Contact us for a free visit! Nothing that matches? You will find more than 3,000 other objects on: www.betterhomes.ch - The Swiss specialist in real estate transactions. Do you have a property to market? Take advantage of our know-how: want to know the value of your property? Take advantage of our free online estimate! close to highway entrances\n",
            "131012 3.5 room apartment for rent of 83m2, lease takeover on July 1, 2021. Close to all amenities and the school (10min from the station on foot, 2min from Migros and Denner). Building with secure entrance by code. Apartment comprising: 1 spacious fitted kitchen 1 very large living room with 2 fitted wardrobes 1 toilet 1 bathroom with bathtub + washing machine and dryer connection 1 large bedroom 1 smaller bedroom 1 large entrance hall + a hallway with 2 large wardrobes recessed2 balconies: 1 on the street side and 1 on the garden side1 box in the garage 1 cellarRent: 1750.- (apartment) + 150.- (charges) + 150.- (box-parking) = 2050.- Possibility to buy back some furniture. VISITS ARE MADE ONLY BY APPOINTMENT, preferably with a complete file already ready: 3 last salary slips, Rytz rental request, extract from the prosecution registers, copies of identity documents\n",
            "131013 Located in the Grand Montfleury district, this spacious and bright 3.5 room apartment with large balcony offers an equipped kitchen with access to the balcony, a spacious living room with access to the balcony, a large bedroom also with access to the balcony and a bathroom with shower. /WC. A cellar and an outdoor parking space complete this property. This BETTERHOMES offer is characterized by the following advantages: - spacious and bright - a bedroom - spacious living room - large balcony - an outdoor parking space included in the rent - charges in addition to the rent 200.-/month- available immediately or to be agreed- etc., etc., etc... Interested? Contact us for a free visit! Nothing that matches? You will find more than 3,000 other objects on: www.betterhomes.ch - The Swiss specialist in real estate transactions.Do you have a property to market?Take advantage of our know-how: want to know the value of your property?Take advantage of our free online estimate! detailsLocation: Grand MontfleuryState of the building: goodBathrooms: 1 (1x shower/WC)Public transport: bus and train, 5 min. on footSchool: primary and secondary school, 5 min. on footShops: Migros, 2 min. by car\n",
            "131014 We rent various garage spaces and outdoor parking spaces near the Affoltern train station by arrangement.Garage spaces can be rented for CHF 120.00 per month and outdoor parking spaces for CHF 70.00 per month.If we have aroused your interest, then call us today!\n",
            "131015 Furnish your \"home\" according to your tastes and live in the center of the village of Vich.Attractive 4.5 rooms with balcony (~10m2) and exposing a pleasant living room with open kitchen-living room (~40m2). Add 2 bathrooms and 3 comfortable bedrooms. ESTIMATED DELIVERY IN WINTER 2021In the heart of the town of Vich, in a village setting, this promotion gives a timeless living atmosphere while offering a modern influence and first-rate comfort. Located on the new village square, close to all essential amenities: - About 100 meters from the bus stop, post office and restaurant; and less than 200 meters from the school.- 2 minutes from the motorway access and only 1/2 hour from Geneva-center by car or about fifteen minutes from GENEVA AIRPORT.- About forty minutes from Geneva by public transportPresenting an innovative concept while preserving the character of the place, this new high-end construction benefits from the latest technologies that respect the environment and facilities favoring living comfort: - Underground garage (1 space is included in the price) - Elevator for easy movement (family or person with reduced mobility) - Finishes at the option of the lessee according to the allocated budget. - Triple-glazed windows - Solar panels 9 lots sold, other accommodation available from 800,000.- Information and conditions of sale for this promotion on plans available in the sales brochure.www.iiconseils.ch\n",
            "131016 From this beautiful house, bright and spacious, with its swimming pool and jacuzzi, you can enjoy a magnificent view of the lake. On three floors, the house is equipped as follows. GROUND FLOOR: with a bathroom, laundry room, bedroom, several storage rooms, a converted garage, boiler room. First floor: Living room, dining room, open and fully equipped kitchen, terrace, office or bedroom, shower/WC. Second floor: three bedrooms, a bathroom, bath/shower/wc. This BETTERHOMES offer is characterized by the following advantages: - view of the lake - swimming pool with an electric cover - 6-seater jacuzzi - large terrace - a fireplace - living room, dining rooms, modern fitted kitchen - bright and spacious - five bedrooms bedrooms- three bathrooms- two outdoor parking spaces, a garden shed- etc, etc, etc...Interested? Contact us for a visit without obligation - online visit also possible!Nothing that matches? You will find more than 3,000 other objects on: www.betterhomes.ch - The Swiss specialist in real estate transactions.Do you have a property to market?Take advantage of our know-how: want to know the value of your property?Take advantage of our free online estimate! detailsLocation: Lausanne 10 min by carState of the building: Very good conditionBathrooms: 3 (2x shower/WC, 1x bath/WC)Public transport: Bus 69 connection S2, 4 mins walkSchool: Collège de la Croix, 5 mins walkShops : Epicerie de la Croix, 5 minutes on foot\n",
            "131017 You can live hereThe location in the trendy Bruch district is excellent. He benefits from the good accessibility. Lucerne main station can be reached by bus or within walking distance in about 10 minutes. The location is also easily accessible for private transport. Various parking facilities (various multi-storey car parks) are in the immediate vicinity. The building from the 1960s was completely renovated in 2019. Everything that is good is still there: the stairwell with the gesture of a large hotel and of course the historic deer fountain in the entrance area.Your new home?The trendy 1-room city apartment is equipped with a modern fitted kitchen, all common kitchen appliances are available ( oven, refrigerator with freezer compartment, dishwasher, extractor fan). The wet areas are equipped with easy-care materials. Modern fittings and sanitary objects in ceramic white. The showers are each equipped with a functional glass cabin. The ceramic floor coverings in dove gray and the light wall coverings reflect the stylish flair. The bright living/sleeping area is painted white and equipped with an easy-care, high-quality vinyl floor. The white baseboards round off the modern style. The balcony faces the courtyard and invites you to linger. The interior photos are sample photos, which only represent the standard of construction. The layout can be found in the floor plan. Let yourself be inspired... ... by a freshly renovated apartment in the middle of StadtArlewo AG. Your reliable partner for real estate and advice.NEW since 1968.\n",
            "131018 Large, detached two-family house in the village center of Alterwil. Very sunny location with a beautiful view. Also suitable as a two-generation house. Ground floor: large, renovated 3 room apartment. Living-dining room with an open, modern kitchen unit, a small room which can be used as an office or storage room, 2 bedrooms, one of which has its own separate toilet and washbasin, 1 guest toilet with washbasin and a large bathroom with shower, toilet and washbasin. All rooms have new ceramic plates. Upper floor: 5 room apartment with eat-in kitchen, bath/toilet + separate toilet. Floor coverings parquet + partly carpet. Balcony and screed. Basement: Cellar, 2 garages, washing/drying with external access, 2 storage rooms, tank room, oil heating Forecourt with several parking spaces. Short distance to the Schwarzsee ski and recreation area.\n",
            "131019 In a quiet, sunny and yet central location in Wangen a.A. we rent a modern, bright 3.5-room apartment on the ground floor (no. 7.02; colored \"red\" on the floor plan) in the BREITMATTE residential development (new building 2013). The apartment presents itself with the following qualitatively high interior fittings: - spacious floor plan (approx. 84 m2) - modern extension with spacious living/dining area - large (approx. 21.5 m2), comfortable seating area with external réduit - underfloor heating - living, kitchen, dining, Bath/toilet, shower/toilet and corridor: floor panels - bedrooms: parquet oak - modern, open kitchen with glass ceramic hob, oven high, dishwasher and work and storage surfaces in granite and window bathrooms with bathtub, washbasin and toilet and wall panels room-high and window- separate shower, washbasin and toilet as well as wall panels room-high- cloakroom / built-in cupboards- cellar compartment The following objects can be rented in addition:- Outdoor parking space: CHF 50.00/month- Indoor parking space: CHF 115.00/month The infrastructure in the BREITMATTE includes:- Lift system (from all floors up to the garage floor) - solarium and intercom system - heat supply through the district heating network Wangen - playground - shopping possible Facilities and SBB train station can be reached in a few minutes (The pictures show an apartment of the same type in the properties \"Breitmattstrasse 3, 5 and 7\" in Wangen a.A.).\n",
            "131020 Very nice apartment in the attic. View and exceptional calm on the lake of Gruyère. Bus stop 300m. In the heart of nature, ideal for walks and outdoor sports. Downtown Bulle 6km. Fitted bathroom, fitted kitchen, dishwasher. Many built-in cabinets. Common laundry room. 1 covered parking space included, 2nd extra 90chf /month.\n",
            "131021 These high-quality premises are located in a convenient location for customers and their employees. Half of the area is developed like an apartment including kitchen and large bathroom as well as two individual rooms, the rest is open plan. You will also receive a spacious winter garden of 20m2. The areas can be divided freely and are wheelchair accessible. This BETTERHOMES offer is characterized by the following advantages: - high-quality finish and representative - in a convenient location for cars and public transport - two bathrooms - two individual offices or bedrooms - complete kitchen-cum-living room installed - outdoor parking spaces can be rented for CHF 70 per month - no Turning point for trucks - quiet location - completely equipped with floor plates - and, and, and... Interested? Contact us for a non-binding inspection, online inspection is also possible! Nothing suitable found? More than 3,000 other offers at: www.betterhomes.ch - the real estate broker&174;Market a property yourself?Benefit from our know-how: would you like to have a property appraised?Benefit from our free appraisal now, immediately and without obligation! DetailsLocation: right on Seetalplatz, motorway nearby as well as bus route and train stationCondition: very goodBathrooms / wet rooms: 1Heating system: floor heatingPublic transport: bus station, 450 m / Emmenbrücke train station, 1 kmSchools: primary school and kindergarten, 600 mShops: Migros, Denner, 800 m\n",
            "131022 Magnificent office of 45 m2 with a very beautiful terrace of 60 m2 and WC. Possibility of cooking. A parking space available. Very close to the highway and all amenities.\n",
            "131023 Bellinzona, in a residential and privileged position overlooking the whole city, we offer for sale a modern 4.5-room apartment of new construction.The apartment is finished with high quality materials.The living space is divided as follows: entrance hall, open kitchen space, living room with exit to the terrace, three bedrooms, one with master bathroom, bathroom with shower.The apartment also has a private cellar. 2 parking spaces in the garage for chf 25'000.- / each.\n",
            "131024 As of July 1, 2021 or by arrangement, we are renting a spacious and ultra-modern 3.5-room apartment with a patio in the village center of Mittelhäusern. The apartment offers: spacious and bright living area, high-quality materials, stylish oak parquet floors, large seating area with a beautiful view of the countryside, open kitchen with granite cover and modern appliances: glass ceramic hob, refrigerator with large freezer compartment, dishwasher and oven, modern bathroom with bathtub, own laundry room with washing tower in the basement, floor heating (environmentally friendly ground probe heating) Cellar compartment Living in a central and natural location Garage spaces can be rented for CHF 120.-/month We are at your disposal for further information or an appointment. Danger. Self-promotion: Are you moving into a rented apartment and need support for the best possible sale of your property? Contact DR. MEYER Immobilien AG for a non-binding offer - we're good at it.\n",
            "131025 Laminate floors in the apartment. Bathroom with shower/toilet and bathtub. Kitchen with dishwasher and ceramic hob. Fireplace and two balconies. Separate laundry room with tumbler and a separate basement compartment also belong to the apartment. An underground parking space can be rented for CHF 70.00. Please ring the Bähler family.\n",
            "131026 .This offer from BETTERHOMES is characterized by the following advantages: .Interested? Contact us for a free visit! Nothing that matches? You will find more than 3,000 other objects on: www.betterhomes.ch - The Swiss specialist in real estate transactions. Do you have a property to market? Take advantage of our know-how: want to know the value of your property? Take advantage of our free online estimate! 10 minutes. walk from the city center, 5 min. drive from the highway\n",
            "131027 Become part of the completely renovated \"Di Egge - im Breitsch\" properties. A total of 74 apartments are being built at Allmendstrasse 1 and Moserstrasse 27 in Breitenrain. The apartment has the following advantages: o Entrée with built-in cupboards o Kitchen with glass ceramic stove, extractor hood, refrigerator, oven and dishwasher o Bathroom with shower, washbasin and toilet o Room with parquet flooring or similar Fiber optic connection available o Cellar compartment o Laundry room for shared use o Outdoor parking spaces and individual garages can be rented in addition Wylerbad and the Aare invite you to swim. Contact us so that we can show you the model apartment or send us your application directly online via the website www.im-breitsch.ch. We look forward to hearing from you.\n",
            "131028 Resumption of lease for June 1st.Studio of 30 m2 on the 10th floor of a quiet residence. With lift. There is a bathroom, a balcony, a sublime view of the lake and Mont-Blanc. With the property there is a closed garage and a cellar. Rent price: 890-. charges included. Garage rent: 130-. Please write to me for visits from 12.04.\n",
            "131029 In a residential and very sunny area of ​​Magliaso we sell a single-family house with private garden, 2 outdoor parking spaces and two in the garage. ALSO AS A SECONDARY RESIDENCE. The 5.5-room house is spread over two floors while in the basement there is a large cellar. , supermarkets, municipal offices, school, etc.) while it takes a few minutes by bike to reach the lake.The house was completely renovated in 1999 and is formed as follows: Ground floor entrance corridor overlooking the garden, large living area with open kitchen and fireplace, study / bedroom with bathroom and a guest toilet with laundry space; On the first floor three bedrooms with two bathrooms with shower and covered balcony. In the basement there is a large and high cellar. the property the garden All bathrooms and toilets have windows. Land plot of 361 square meters. For plans and other photos please ask us for complete documentation!\n",
            "131030 beautiful 2.5 room apartment, quiet rural location, wonderful view, in a chalet, on the 1st floor, small sunny balcony, modern kitchen (no dishwasher), modern bathroom with shower, incl. parking spaceFree from May 1st\n",
            "131031 Are you looking for a new home in which you feel completely comfortable and also offers you a central residential area? Then read on, we guarantee you, we have just the right thing for you. In the heart of Affoltern am Albis, we are renting a light-flooded, modern and spacious 3.5 room apartment from August. Plastic-metal windows with triple glazing. Each room has a tilt and turn window. The venetian blinds can be operated electrically. The apartment has two self-contained wet cells (without daylight). Bath/toilet and shower/toilet. There are built-in cupboards right by the entrance area. The kitchen is equipped with high-quality appliances from the V-Zug brand: dishwasher, high-lying oven, extractor hood, fridge with freezer compartment. The kitchen cover is made of artificial stone. The two bedrooms offer an area of ​​approx. 16m2 and 13 m2. The spacious balcony (15m2) offers a view into the distance. The balcony is covered and invites you to linger. The apartment includes a basement compartment (8m2) and its own laundry room with a washing tower. Garage spaces can be rented for CHF 130.00 per month. A radio transmitter is included in the rent. The underground car park allows direct access to the residential building, which is accessible with a lift. Do you like to spend your free time in nature? Various local recreation areas can be reached on foot or in a few minutes by car. Public transport (such as bus stops and train stations) and the motorway feeder are in the immediate vicinity. Various shops are easily accessible on foot. Have we aroused your interest? The apartment can already be viewed in the shell. We would be happy to arrange a non-binding viewing appointment with you.\n",
            "131032 Finishes at the option of the lessee2 covered parking spacesThe handover of the object is scheduled for spring 2021.\n",
            "131033 The property is located in the middle of the village of Entlebuch. Various shops are within walking distance. The train station can also be reached within a 5-minute walk. The apartment is on the 3rd floor and is divided over two floors (maisonette). The property impresses with a unique floor plan. The apartment was recently renovated and is now ready to move into. All floors have been renewed and the walls freshly painted. The kitchen has also been freshly renovated and is equipped with all common kitchen appliances (including dishwasher). The living room is bright due to the many windows and conjures up a cozy atmosphere in the room. The entrance area has a cloakroom and another practical built-in cupboard. In the large room on the 2nd floor there are also built-in storage areas. A cellar and a screed compartment are available. The rental price includes an outdoor parking space as well as the heating and operating costs.\n",
            "131034 Located in a sunny and quiet setting, near the postbus stop, this beautiful house, renovated with care, enjoys a beautiful flat garden with an adjoining grotto. The house has 3 bedrooms on the top floor, bathroom with tub, central a beautiful living room with open-space kitchen and on the ground floor a spacious hall, bathroom with shower, cellar and technical room. Secondary residence allowed.\n",
            "131035 Ried, a rural community with intact village life, good connections to the centers of Bern, Freiburg, Neuchâtel and Biel, is an attractive residential community with around 1250 inhabitants. The municipal area extends over the villages of Agriswil and Ried into the Seeland Grosse Moos.\n",
            "131036 Spacious 5 rooms Apartment- bathroom with shower/toilet- cellar and screed- laundry room- covered parking space\n",
            "131037 If you work in the medical field and are looking for a new location for your practice, then this is the right place for you. You have the opportunity to become a partner of a sports medicine practice specializing in physiotherapy and rehabilitation. You get four spacious treatment rooms with perfectly furnished sharing areas, such as the changing rooms, waiting room, reception, counter and a break room. In addition, there is a laboratory and an X-ray room with a high standard. Now you get a unique opportunity to set up your new location directly with the best conditions. Come by and see for yourself. This BETTERHOMES offer is characterized by the following advantages: - everything renovated to a high standard - flooded with light through large windows - you can start directly - cooperation with a sports medicine practice with respected - regular customers - exclusive underground parking space for CHF 200.- per month - and, and, and... Interested? Contact us for a non-binding inspection! Nothing suitable found? More than 3,000 other offers at: www.betterhomes.ch - the real estate fair intermediary®To market a property yourself? Benefit from our know-how: would you like to have a property appraised? Benefit now from our free estimate, immediately and without obligation! Good\n",
            "131038 The two residential and commercial buildings \"moosaic 6\" and \"moosaic 14\" are located in the lively, urban quarter \"Feldbreite\", in the middle of Emmen. The trendy, modern apartments at Mooshüslistrasse 6 + 14 suit students, individuals, small families and couples of all ages. The modern \"moosaic\" apartments are also ideally suited as a \"home base\" for people who travel frequently. Each tenant brings their own personality with them, so that a beautiful, colorful mosaic is created in the community. This is what characterizes this apartment in \"moosaic\": 3.5 rooms with an individual and spacious floor plan and high-quality interior design Trendy color concept and colored surfaces on the facade Loggia Modern kitchen with high quality high-quality kitchen appliancesOwn washing tower in the apartmentControlled apartment ventilationHome control with \"eSMART\" via app also when you're on the goAn underground parking space for CHF 150 / month can be rented.Available from 01.06.2021Let yourself be inspired by the \"moosaic\". We look forward to hearing from you! The images are sample images that reflect the standard of construction. Slight deviations can therefore be possible.\n",
            "131039 Casino 64 - 1673 Rue2.5 room apartment on the 1st floorKitchen open to the living room, 1 bedroom, bathroom and washing columnBalcony with view of the countryside\n",
            "131040 As of June 1st, 2021 or by arrangement, we are renting this 2.5-room apartment on the 3rd floor in Aarberg, between the historic \"Stedtli\" and the Aare. This beautiful and bright apartment is equipped with tiled and laminate floors. The kitchen has a glass ceramic stove and a dishwasher. In addition to the shower, the spacious bathroom also has a separate pantry. This is also where the washing tower is located, which is available for sole use. A few steps take you to the local recreation area of ​​the Aare. A parking space can be rented for CHF 50.00/month. Have we piqued your interest? Do not hesitate and arrange a non-binding viewing appointment with us.\n",
            "131041 Welcome to your future oasis of life. In a residential context with other villas, even if strategically very ideal, tranquility is queued, surrounded by the mountains, we offer this modern and ecological single-family house. The ground floor is dedicated to coexistence. Here the family meets to cook and have fun, here if you want you can welcome friends and enjoy the celebrated. The upper floor is intended for sleeping, it can be equipped with three or four rooms. For the shower on the ground floor, the bathroom on the first floor and the kitchen, it remains to your wishes, to set the details.This offer from BETTERHOMES is highlighted for the following advantages: - modern and ecological - familiar - details according to your wishes - quiet with beautiful views - etc, etc, etc ... Interested? Contact us for a non-binding visit! No matching object found? More than 3,000 offers on: www.betterhomes.ch The Swiss specialist for real estate brokerage Do you have a property to sell? Benefit from our know-how: know how much your property is worth? Take advantage of our free online estimate!\n",
            "131042 Building located in a quiet area close to shops and the city center, fully fitted kitchen semi-open to the living room, spacious living room opening onto a balcony, bedroom with parquet floor, bathroom with bath and shower, cellar and possibility of rent an indoor space for Fr. 100.00 / month. Complete paint repair.\n",
            "131043 Very nice 3.5 room apartment (85m2) for rent in La Croix sur Lutry, on the top floor comprising a hall, 2 bedrooms, an equipped kitchen open to a dining/living room, a fireplace, a bathroom/WC, a livable mezzanine and 2 balconies (North and South). Floor heating. Cellar available. Amenities: 3 minutes from the Belmont motorway entrance, bus stop in front of the building, 2 restaurants nearby and a grocery store.- Net monthly rent: CHF 1680.- - Charges CHF 220.- - 2 compulsory underground parking spaces at CHF 240.- (120 each)Available immediately or by agreement.Presentation of the file BEFORE the visit. To be accepted, your income must be greater than 3x the amount of the rent, you must not have legal proceedings and be Swiss or have a B / C permit. You are a tenant in the process of early termination or an owner looking for of a solvent tenant? You can count on our network and our experience to be detached from your commitments as soon as possible. For more information, contact us on info@lacotelocation.ch\n",
            "131044 Semi-detached house (2.5 + 3.5)This apartment house is located in the municipality of Brissago in a quiet and sunny location and enjoys a beautiful view of the lake. The property is on two floors: on the ground floor there is a 2.5 room apartment, on the first floor there is a 3.5 room apartment. The apartments are in good condition and in the last renovation the windows, which are currently in aluminum with double glazing, have been changed, also the shutters are in aluminium. The house can be a good investment as a holiday home for rent or as a second home. The apartments can also be purchased separately at the price of CHF 390'000 for the 2.5 rooms (PT) and CHF 430'000 for the 3.5 rooms (1st floor).Semi-detached house (2.5 + 3.5)The apartments are distributed as follows:Ground floor (2.5):Entrance hallKitchenLiving room with lake view and access to the terraceDouble roomSmall storage roomFloor (3.5):Entrance hallKitchenLiving room with lake view and access to the terraceDouble roomBedroom/StudyAn outdoor space for garden and/or vegetable garden is available.One uncovered parking space is available for each unit.\n",
            "131045 Bright and elegant duplex penthouse of 200 m2 with city and partial views of Lake Lugano. A real bargain! Day floor: large living room with fireplace, dining room, large kitchen, guest bathroom and several built-in wardrobes, floor: Florentine terracotta Night floor: double bedroom with pink marble bathroom + 2 bedrooms bed with travertine shower bath. Parquet floor. Satellite TV + fiber optic included Roof terrace with panoramic view in exclusive Grottino with fireplace, kitchen and bathroom in common use, as well as the fitness room, jacuzzi and sauna with shower bathroom. Large laundry, cellar. Two parking spaces in the garage, 55'000.- chf each!\n",
            "131046 Nice apartment located in a pleasant area surrounded by greenery in the charming town of Prangins. Cultural activities, the edge of the lake and public transport are nearby. A little extra about the apartment: it has a sunny mezzanine. For the quality of your accommodation: - an entrance hall with wardrobe - a fitted kitchen open to the living room with dishwasher- a bedroom- a bathroom-WC- a mezzanine- a cellarIndoor parking spaces available in addition.Interested? The visit is worth the detour. Lease takeover from the beginning of April 2021 Rent + charge = 1820 Underground parking = 130 Total = 1950.00 CHF\n",
            "131047 7 minutes from Bulle, in the center of the village of Corbières, close to the bus stop, the grocery store and the sports center. South, South West exposure. Traditional construction only with local companies. Work in progress, finishing of standing.Delivery June 2021.Large living room of almost 50 m2, semi-covered terrace of 30 m2.Another 4 lots available....Building A:5.5 rooms on the ground floor: SOLD5.5 rooms on the 1st floor: Frs 680' 000.- LAST 5.5 ROOMS 5.5 rooms on the top floor: SOLD Other configurations available: 3.5 room apartment from Frs 530,000.- 4.5 room apartment from Frs 610,000. . 30,000.- per unitAt your disposal for an interview and the sending of a file and an interview:Nadia Bebot 076 802 67 20Fred Varenne 079 474 64 09info@concept-immobilier.ch\n",
            "131048 Are you looking for a quiet office, training room, massage parlor or practice (e.g. physio) with a beautiful view of nature in a great location (100 m from the train station)? Only CHF 100.- additional costs per month! Parking spaces and cellars can also be rented as required. Kitchen can be shared. The office will be freshly painted before moving in. This BETTERHOMES offer is characterized by the following advantages: - quiet location - various parking spaces available - wonderful view - wheelchair access - kitchen for shared use - goods lift - pets allowed - adjoining rooms can be rented if required - and, and, and...Interested? Contact us for a non-binding inspection! Nothing suitable found? More than 3,000 other offers at: www.betterhomes.ch - the real estate fair broker® to market a property yourself? Benefit from our know-how: would you like to have a property appraised? Benefit now from our free appraisal, immediately and without obligation! DetailsLocation: Super location, only 100m on foot from the train stationCondition: Very goodBathrooms / wet rooms: 1 (1x toilet for shared use)Heating system: heating radiatorsPublic transport: Train station, 5 min. on footSchools: -Shops: Landi, 80 m / Volg, 3 min Foot\n",
            "131049 This beautiful 3-room apartment is located in a quiet residential area near the train station and shopping facilities. This apartment will surely inspire you with the following points: The living room and the bedrooms are equipped with parquet floors. The timeless kitchen has a tiled floor, offers plenty of storage space and is equipped with all practical devices. The bathroom is tiled with timeless tiles and has built-in cupboards and a mirror cabinet. The apartment convinces with a beautiful balcony to end the day comfortably. Of course, the apartment also has a cellar compartment. (The photos correspond to the standard - small deviations are possible.) You can find more interesting offers at www.verit.chet.\n",
            "131050 In the former logistics center of Post CH in Bern and only a few minutes away from the Wankdorf motorway feeder road, we rent various indoor parking spaces. The building is located directly next to the small Allmend, just a 5-minute walk from the Postfinance building, BEA Expo site and Wankdorf.\n",
            "131051 We rent a top modern 2.5 room apartment in ownership standard in a nearly 3-year-old new building immediately or by arrangement. The apartment offers the following highlights: Modern kitchenette with oven, steamer and enough storage space Extremely spacious bathroom with bathtub Beautiful bedroom with direct access to the bathroom and SeatPractical built-in cupboards in the entranceVery spacious reduit with its own washing towerCovered seatLiving room and bedroom with parquet flooringSmart Home: Monitor for operating various functionsA parking space in the underground car park can be rented for CHF 170.-/month.With the central yet quiet location in a side street the apartment can also score points. You can reach a Migros, Coop, Denner and various restaurants within a few minutes on foot. A bus stop is also just a stone's throw away.Are you interested in sightseeing? You are welcome to contact us to arrange an appointment, we look forward to hearing from you!\n",
            "131052 Novazzano, in a newly built building we have a 2.5-room apartment with terraces. (Apartment 6) Chf 400.000 = Availability of covered parking spaces, single or double The residential complex is located in the central area of ​​Novazzano, perfectly served, a stone's throw from the Town Hall, schools and all connecting lines; the city center is only a few hundred meters away as are all the main services. THE MODERNITY PROJECT The building is designed in an elegant and modern style without sacrificing the livability and spaces typical of traditional homes. Proportion and architectural harmony, large covered terraces, large rooms, adequate common areas make the building complex in step with the times. Particular attention is paid to privacy to offer a higher quality of daily life. VALUE The use of the most modern construction technologies guarantee reduced consumption and a property value that lasts over time. The building allows you to protect the environment and ensures excellent economic savings. An advantageous value for money for a secure sustainability of the investment. QUALITY Accuracy in the architectural choices to combine the feasibility of spaces with aesthetic value, without forgetting the quality of the materials and finishes made to last over time and give certain value to your investment. And the quality-price ratio is a characterizing element of the residence, with the aim of making the best construction standards available to the customer at the right cost WHY CHOOSE OUR BUILDING - High energy saving construction - Large apartments and spaces for services - Finishes of quality and quality materials - Modern design - Excellent real estate investment and value for money - Value that lasts over time - Eco sustainability - Customization of layouts and finishes GENERAL DESCRIPTION The building consists of 11 apartments divided into 7 by two and a half rooms, 3 with three and a half rooms and 1 with four and a half rooms as well as large single and double garages, cellars and laundry in the basement. living room which leads to large private terraces, a usable sleeping area and spacious customizable bathrooms. All g The apartments are equipped with a laundry room and private storage room. Efficiency and usability of the spaces: all the proposed solutions reflect modern design standards with the aim of satisfying the broadest needs of customers.\n",
            "131053 At the gates of Lucerne, in Kriens-Obernau, a newly renovated 4.5 room apartment with balcony awaits you in a renovated development. The location could not be better: in a green and safe district, with excellent transport connections and great leisure opportunities right in front of you Front door. Look forward to a modern apartment with a spacious and practical floor plan. Kitchen, bathroom and shower room are furnished to a high standard. You can also expect practical built-in cupboards. The oak parquet gives a warm living character and rounds off the timeless interior design of this attractive apartment. This is what your new living opportunity offers: spacious floor plan living room and bedroom with oak parquet Modern kitchen with high-quality V-Zug appliances (high built-in oven, glass ceramic hob, refrigerator with separate 3-part freezer compartment , dishwasher)Bathroom with tiled floor, bathtub, WCShower room with tiled floor, shower, WCsun-facing balconyBuilt-in cupboardsBasement and screed compartmentLiftCommon laundry room with washing machine, dryer and air dryerLarge community park and play areaNote:The pictures are of a comparable neighboring apartment. Garage spaces can also be rented for CHF 120.00. Have we aroused your interest? Call us for a non-binding viewing appointment. We look forward to you.\n",
            "131054 Would you like to live or work in a stately 4.5 room apartment with original strip floors, stucco work and frescoes? This in the city center of Biel/Bienne. The apartment was gently modernized in 2019. If you enjoy Biedermeier, but still don't want to do without fully functional equipment and value high-tech living or working at a fair price, then this apartment is the right place for you. On more than 130 m2 and more than 3.40 m room height you float in another world. The apartment also has a bathroom, a separate toilet and a modern kitchen. A cellar compartment also belongs to the apartment. All kinds of schools, shopping and public transport are in the immediate vicinity of the apartment.\n",
            "131055 Spacious country apartment in a renovated farmhouse located 2.5 km from Marly - 1st floor - 140 m2 - all on the same floor - bathrooms WC / separate shower WC - large hall with wall cupboards - double terraces, a covered and the other with awning - afternoon and sunset sun - large independent equipped laundry room - vegetable garden available - parking spaces available - no public transport - primary school school transport organized. Rent 2250.- charges included\n",
            "131056 Are you looking for a new home in which you feel completely comfortable and also offers you a central residential area? Then read on, we guarantee you, we have just the right thing for you. In the heart of Affoltern am Albis, we are renting a light-flooded, modern and spacious 3.5 room apartment from August. Plastic-metal windows with triple glazing. Each room has a tilt and turn window. The venetian blinds can be operated electrically. The apartment has two bathrooms. Shower/toilet is self-contained (without daylight). Bathroom/toilet has daylight. There are built-in cupboards right next to the entrance area. The kitchen is equipped with high-quality appliances from the V-Zug brand: dishwasher, high-lying oven, extractor fan, refrigerator with freezer compartment. The kitchen cover is made of artificial stone. The large bedroom has an area of ​​approx. 18m2. There is also a niche for a future dressing room. The small bedroom is 13m2. The spacious balcony (14m2) is covered and invites you to linger. The apartment includes a basement compartment (8m2) and its own laundry room with a washing tower. Garage spaces can be rented for CHF 130.00 per month. A radio transmitter is included in the rent. The underground car park allows direct access to the residential building, which is accessible with a lift. Do you like to spend your free time in nature? Various local recreation areas can be reached on foot or in a few minutes by car. Public transport (such as bus stops and train stations) and the motorway feeder are in the immediate vicinity. Various shops are easily accessible on foot. Have we aroused your interest? The apartment can already be viewed in the shell. We would be happy to arrange a non-binding viewing appointment with you.\n",
            "131057 This exclusive 5.5 room attic apartment awaits you in an elevated, privileged location above Meggen. An absolute highlight is the 104 m2 terrace, which gives you the feeling of floating above the lake. Floor-to-ceiling panoramic windows bring the spectacular view and lots of light into the living rooms. The open floor plan with smooth transitions and the postcard view of Lake Lucerne and the surrounding mountain panorama form a dream home full of luxury.Highlights: + Unobstructable lake and mountain panorama + Quiet residential area + Above-average high rooms + Oak parquet throughout the apartment + Spacious terrace with fantastic views + Winter garden, equipped with Graubünden granite+ Large dispo room with separate shower and toilet+ Various built-in cupboards+ Reduit with laundry room and tumbler+ Large screed with lots of storage space You can find more information about the property on our website www.domba.ch. Ask us for the detailed exposé or contact us for a non-binding inspection. Ms. Martina Knobel looks forward to hearing from you!You can view this property via video call:Due to the occasion, we would like to point out that you can also reach us at any time via telephone, WhatsApp, FaceTime and e-mail. Alternatively, the object can also be viewed via the 3D tour. Martina Knobel041 418 08 55079 418 53 53martina.knobel@domba.ch\n",
            "131058 Located on the road to St-Cergue in Nyon, here is a promotion of 6 apartments which will offer quality of life, quality of construction and a living environment where it will be good to live. The building borders a small forest and the river of the Asse where a small beach belongs to the common part for the 6 co-owners. The building of contemporary architecture offers lots of light thanks to these beautiful bay windows and a wellness area with its terrace and large garden. A basement consists of a technical room, a DIY workshop, a cellar per apartment and 10 bicycle spaces. Outside there are 6 places for 6 cars and a handicapped place. This crossing apartment is located on the ground floor with South orientation for the living room. It is composed of an entrance hall which gives access to a fully fitted and fitted kitchen, a dining and living area and an extension to a master bedroom with shower room. On the other side, two bedrooms with a bathroom and a guest WC. The apartment is bordered on each side of the garden. The PPE sales area of ​​this apartment is broken down as follows: 100.80 m² of living space + 22 m² of terrace + a private garden of 344 m² + 20 m² of land for your vegetable garden + 1 outdoor space + 1 cellar + bicycle spaces for the price of CHF 1,490,000.-All materials and equipment are at the option of the lessee according to the available budgets. For a site visit or any information, call 078 856 32 46 .\n",
            "131059 2nd floor, stylish apartment with great comfort. Washing machine, tumble dryer, screed, cellar, 1 parking space, own heating, garden use\n",
            "Availability to be agreed.\n",
            "131061 We are renting a bright and cozy 2.5 room apartment in Oerlikon from February 1, 2020. The property is located in the lively district 11 in the immediate vicinity of the Oerlikon train station and tram stops 10 and 14 as well as the center of Oerlikon with ideal shopping and nightlife options. Facilities: - Laminate in all living rooms - high-quality kitchen - shower/toilet - cellar compartment A parking space in the garage can be rented.\n",
            "131062 We rent an interesting and urban storage/office space on the ground floor in a central and highly frequented location for studio production warehouse law firms office communities. The premises can be individually designed. The area is approx. 60 m2 and offers a rustic and industrial touch. Various parking spaces are available for private transport for CHF 80.00 per month. Have we aroused your interest? Then contact us for a non-binding viewing appointment.\n",
            "131063 The property is in a prime location in the family-friendly Lindhalde district on the outskirts of Worb. The village square of the settlement with beautiful ornamental vines and a local restaurant (open on Friday evenings and twice a week for lunch for children) invites you to linger. The common room with kitchen and toilet, which is available for shared use by the residents, expands the offer. With the acquisition of this property, you automatically become a co-owner of the caretaker's house with a parking space. This is rented out and the annual rental income of CHF 27,960 covers part of the general costs. Another plus are the practical garbage rooms (compost, paper/cardboard & garbage bags), which you can reach via the garage. Description of the house The terraced corner house impresses with an unobstructed view over the agricultural zone to the mountains and the two attractive outdoor areas (panoramic terrace and atrium) . On the south-facing panoramic terrace you can enjoy lots of sun and fantastic sunsets. The idyllic inner courtyard in the center of the property brings plenty of daylight and a unique character to the premises. Here you will find peace and absolute privacy. The 5½-room terrace house was originally designed as two 2½-room apartments and benefits from an optimal floor plan and a lot of flexibility in use. The house could be converted into two units again with minor structural changes. If you need another room or office, the current second living room could be completed without much effort. All of the rooms impress with their practical size and unique lighting conditions. You also benefit from two wet areas, a bathroom with tub, washbasin and toilet and a wet area with shower as well as washbasin and toilet. In the basement, in addition to the small laundry room and a cellar, the property houses a spacious handicraft and hobby room of around 42 m². Here you will find enough space for your hobbies. You can make your individual dreams come true in the former artist's studio! On-site visits will continue to take place in compliance with the current rules of conduct and hygiene. As a first step, you can also experience our properties virtually at any time.\n",
            "131064 For sale, magnificent adjoining 4.5-room villa in the town of BelfauxLOCAL AND REGIONAL SITUATIONBelfaux (alt. 560m) is a small village located in the Sarine district. and a village of around 3,400 inhabitants. Belfaux offers you the best of both worlds: the tranquility of life in the countryside, just a few minutes from the cantonal capital of Fribourg. This town is ideal for families and anyone looking for looking for a green and residential setting, without giving up the proximity of the city as well as the many entertainment and sporting activities. The neighborhood is very quiet. The sunshine is very good. The view is clear. in PPE buildings and villas.Ideally located near the various axes including Friborg 5 minutes away.You can practice a host of sports and relaxation activities; gym halls, sports center with football pitch, athletics track. securityTHE SCHOOLS:The secondary school is located in Fribourg, about 7 minutes away by car.The pupils of the orientation cycle go to Friborg by public transport, namely trains or TPF buses.You will also find many shops ranging from butcher, bakery, pharmacy, post office, bank, restaurant, dairy, doctor's office, physiotherapy office and hair salon. For sale, magnificent contiguous villa of 4.5 pc. The villa is located in a quiet and green area, ideal for a family with children. Distributed over 3 levels including a semi-excavated basement, this 4.5 room property offers a gross living area of ​​128 m². Located on the edge of a quiet and green area of ​​villas, with a terrace with garden, offering a panoramic and unobstructed view. The villa benefits from a southern exposure, and a beautiful sunshine throughout the day. Combining the quality of the materials with the modernity of its design, this house will offer a wide choice of materials, as well as a palette of custom-made and at the option of the future buyer. Interior composition: In the basement: a hallway, an available, a laundry room with technical room with an underfloor heating system with heat pump. On the ground floor: Covered by car, an entrance hall which joins the day part with the kitchen open to the dining area which gives access to the terrace, ideal for lunches outside, a guest WC and a spacious living room, all bathed in the clarity of large doors and windows giving access to a terrace. On the 1st floor: 2 beautiful spacious and bright bedrooms with the bathroom with bath and washbasin, we also have the parental suite with its dressing room and its bathroom. private bath with walk-in shower ne, washbasin and toilet. Large windows will provide exceptional natural light and in order to take full advantage of the beautiful sunny days Sale price: 825,000.00 sfr included 2 parking spaces\n",
            "131065 We are renting a modern 3.5 room apartment in Adliswi as of July 1st, 2021 or by arrangement. Look forward to the following highlights: - Entire apartment with parquet floor - Open kitchen with ceramic glass, dishwasher and granite work surface - Bathroom with bathtub and double washbasin - Separate guest room WC- entrance area with built-in cupboard and reduit- cozy and sunny balcony- garage space available for CHF 120.-/ month- central and quiet location- shops and bus stop within walking distance- motorway connection in the immediate vicinity- child-friendly environment with large playground and meadowMore information You can find information on the property at: www.ruetistrasse-adliswil.wincasaweb.ch **Images are not property-specific, but the standard of construction is identical.**\n",
            "131066 This comfortable, newly renovated apartment convinces with its practical layout and very quiet location. The ideal place to spend a quiet end of the day, nature directly at your doorstep. The train station is a few minutes walk away and the highway is only 2 kilometers away. Come and see for yourself on site! This offer from BETTERHOMES is characterized by the following advantages: - quiet location - families welcome, playground in the neighborhood - balcony - leisure area nearby - possibility of renting a garage - well bonded by public transport and highway- pets on request- etc, etc, etc...Interested? Contact us for a free visit! Nothing that matches? You will find more than 3,000 other objects on: www.betterhomes.ch - The Swiss specialist in real estate transactions.Do you have a property to market?Take advantage of our know-how: want to know the value of your property?Take advantage of our free online estimate! detailsLocation: quietBathrooms: 1 (1x shower/WC/sink)Public transport: bus, 1 minute walkSchool: Primary and secondary school, 5 minute walkShops: Coop and Migros, 500 m\n",
            "131067 We are now renting a parking space in an underground car park in 2563\n",
            "131068 apparently 2 rooms in Rolle 300 meters from the lake near the city center. large living room with fitted kitchen, a spacious bedroom, bathroom with shower, laundry room at the entrance of the apartment and a parking space. 1480 f charges included available immediately.\n",
            "131069 3.5 room apartment on the 1st floor of approx. 65 m2On the 1st floor comprising a fully equipped kitchen, a dining room and a pleasant living room giving access to the balcony. It also has two bedrooms, a bathroom and separate WC. A cellar is also available. Shared laundry room. Possibility to rent an outdoor parking space at Fr. 30.-/month and a garage at Fr. 100.-/month.Available from June 1, 2021.\n",
            "131070 Partially renovated chalet from 1950. The chalet is in a central location. The school and shops 5-10 minutes walk. The chalet has a wine cellar with a fireplace in the basement and a hobby room.\n",
            "131071 5-room duplex apartment with a floor area of ​​145.88 m² located in the attic and attic of a small mixed-use building in PPE in the heart of the city of Gland. This property has a balcony of 5.4 m² as well as a an outdoor parking space in addition at CHF 15,000.-. The offices located below the apartment are not occupied in the evenings and on weekends. Property tax: 1. Monthly charges (including heating-hot water and renovation fund) CHF 636.-.Renovation fund CHF 31,953.05 as of June 30, 2020.\n",
            "131072 This object in the life center offers new jobs for the community of Rüti. The bar has a lot of potential, whether as a sports center, practice, physiotherapy, or as a dance bar. The large area with large window front offers a lot of potential to realize oneself. Interested? Then give us a call. This BETTERHOMES offer is characterized by the following advantages: - cafe kitchen with service corner - two cloakrooms with shower - newly renovated - additional space available - outdoor parking spaces can be rented - and, and, and...Interested? Contact us for a non-binding inspection, online inspection is also possible! Nothing suitable found? More than 3,000 other offers at: www.betterhomes.ch - the real estate broker&174;Market a property yourself?Benefit from our know-how: would you like to have a property appraised?Benefit from our free appraisal now, immediately and without obligation! DetailsLocation: In the Life-Center RütiCondition: As newBathrooms / wet rooms: 3 (2x shower / 1x separate toilet)Heating system: Oil / radiatorPublic transport: Bus stop, 150 m / Train station, 1 kmSchools: Rüti vocational school, 500 m / Lindenberg primary school, 550 m / Oberstufe Rüti, 1.1 kmShops: Migros Outlet, 20 m / Coop, 500 m / Migros, 700 m\n",
            "131073 BRIDGE CAPRIASCA: BRIGHT APARTMENT IN TWO-FAMILY HOUSE WITH LARGE GARDEN Do you dream of the garden? Do you dream of light? Do you dream of serenity? In this semi-detached house we rent the entire ground floor of 105 m2 with private garden of at least 100 m2 and large covered terrace.This house is ideal for those looking for light, space and calm.On the ground floor: Main entrance Bathroom with double toilet / bidet / tub / shower Two spacious bedrooms Living room with open space kitchen and direct exit to a very livable private garden On the heated basement floor: 3. room used as hobby room or guest room, 2. Bathroom with shower. Laundry room with washing machine and dryer and sink. Storage room, and 3 parking spaces, one of which in the garage, access from the garage directly into the house. Vacuum cleaner system, heating coils. No pets . Three-month deposit 2,400.- rent, no condominium fees, only to be added the actual cost of electricity. Contact and visits: Patrizia Biuso 076 413 94 46 Best regards / Freundliche Grüsse / Best regards Patrizia Biuso + 41 76 413 94 46charminghomes.ch Stabile Serrafiorita Meeting6915 Pambio Noranco\n",
            "131074 For rent in Saint-Prex, rue de la Gare 2, a closed and heated room of 30m2 in the basement of the Denner store with goods lift and parking available.\n",
            "131075 beautiful, bright 3.5 room apartment with 115m2 garden area and covered patio. 2 bathrooms; shower and bathtub. close to school and shops. Overlooking Pilate.\n",
            "131076 Located in the Day district, close to the train station and less than 10 min walk from the center of Vallorbe and its shops, magnificent apartment of over 75 m2 of interior surface + private garden of 134 m2. It offers a kitchen open to a spacious living room, two bedrooms, a bathroom with bath + WC and a guest WC. This apartment has a private garden of 134 m2. A box parking space (CHF 25,000.-) and an outdoor parking space (CHF 10,000.-) complete this property. This BETTERHOMES offer is characterized by the following advantages: - two bedrooms - a bathroom bathroom with bathtub and WC- private garden of 134 m2- an outdoor parking space CHF 10,000.- - a box parking space CHF 25,000.-- available May 2021- etc, etc, etc...Interested ? Contact us for a free visit! Nothing that matches? You will find more than 3,000 other objects on: www.betterhomes.ch - The Swiss specialist in real estate transactions.Do you have a property to market?Take advantage of our know-how: want to know the value of your property?Take advantage of our free online estimate! detailsLocation: Le Day, 2 min by car from the center of VallorbeState of the building: New, on plansBathrooms: 1 (1x bath/WC)Heating system: GasPublic transport: Train station, 5 min on footSchool: Primary and secondary, 2 min by carShops: Migros, Coop, 2 min by car\n",
            "131077 We look forward to a new tenant for the lover's apartment, an unusual Art Nouveau attic apartment in the center of Kriens. 120-year-old original wooden floors, original room layout. Room height 3 meters, with slope. toilet/shower (small). kitchen with gas stove. Well insulated roof. Entire apartment freshly painted, floors sanded and resealed. Basement, cellar. A large roof terrace with a view of the mountains is available for shared use. Original floor plan. Rent: 1550 francs plus account NK 180 francs bus stop, shops and the Bell Park in front of the door. 10 minutes by bike to Lucerne train station. Krienseregg-Pilatusbahn within walking distance. Interested? We look forward to an email with a few words about you.\n",
            "131078 We are renting an office or retail space on the Zentralstrasse with immediate effect or by arrangement. The local offers the following advantages: large shop window in the center of Biel separate toilet in the basement Convince yourself at a viewing appointment. We look forward to your call.\n",
            "131079 As of May 1st, 2021 we are renting a single garage at Burgstrasse 66 in Winterthur-Wülflingen, right next to the transformer station. Power connection available. If you are interested, we look forward to hearing from you.\n",
            "131080 Superbly located and extremely bright 2 1/2 room apartment (top floor) in an attractive, very well-kept condominium. Absolutely free and unobstructable panoramic view of Lake Lugano to Porto Ceresio.Approx. 79 m2 of living space with a beautiful, covered balcony (12 m2), bright interior design with large window fronts. Light travertine floors throughout the apartment. The condominio has an outdoor swimming pool with sunbathing area. Underground parking space in a garage. - Available as a second home!************************************************ *****Bellissimo apartment di 2 1/2-locali with view splendida sul lago. Position molto tranquilla. Superficie abitabile di ca. 79 m2 con soggiorno e camera matrimoniale rivolti verso il lago. L'appartamento si trova al piano superiore ed è molto luminoso (grandi vetrate). Pavimenti in travertine. Condominio molto curato in ottimo stato con grande piscina esterna. Post car in garage. - Residence primaria or secondaria!\n",
            "131081 We offer for rent a large office of approximately 143 m2 in an administrative building in Gland. Located on the 1st floor, the surface benefits from excellent natural light and a generous ceiling height. Possibility of renting numerous parking spaces at CHF 80.- per month. Possibility of organizing a “COVID Safe” virtual visit via smartphone or computer while staying at home. We also meet you on site taking all necessary measures to guarantee safety and social distancing.\n",
            "131082 Mixed-yield building located in the center of the village of Château-d'Oex. Renovated in 2007. Rental status 44,220.-. Basement: Cellars, storage approx. 64 m2 and cistern room, heating approx. 12 m2. commercial (Fitness) of 98 m2 and medical area (3 physiotherapy/massage-aesthetic offices + 1 waiting room) of 107 m2, rented Fr. 5'220.- / year.Floors: Duplex apartment on the 1st and 2nd floors composed of 4 bedrooms, 1 living room, 1 large kitchen, 2 separate toilets, a bathroom and a large terrace, rented Fr. 15,000.- per year. Attic in the attic.\n",
            "131083 The apartment is in a quiet location and offers a beautiful patio. In the bathroom and in the modern kitchen, tile floors were laid, and light gray laminate in the other living rooms. The apartment has its own laundry room with washing machine and dryer as well as a cellar. The Swedish stove in the living room is certainly a great highlight. Indoor parking CHF 100.00/month\n",
            "131084 As of July 1, 2021 or by arrangement, we rent this quiet 3.5-room apartment on the ground floor. You can soon enjoy the following advantages in your apartment: open living area with dining area, semi-open kitchen with glass ceramic stove and dishwasher, bathroom with bathtub and double washbasin, separate toilet, parquet floors in the living rooms, PVC floor in the wet cells and in the kitchen, built-in cupboards in the corridor, sunny patio, cellar compartment in the basement, laundry room and drying room in the basement for shared use, playgrounds and spacious Outside A parking space can be rented for CHF 140.00/month. The property is in a quiet, elevated location. Thanks to the nearby bus stops, you are well connected to public transport. We are still at your disposal for visits. We observe the federal regulations and strictly adhere to them. To arrange a viewing appointment, please contact the caretaker Mr. Bürgler on Tel. 044 780 66 66 during the day between 9:00 a.m. and 5:00 p.m. or reinhard.buergler@hw- mpk.chNote: The images correspond to the expansion standard and may deviate.\n",
            "131085 Nice furnished studio with a balcony (beautiful view), parking space, close to all amenities. Charge included\n",
            "131086 For rent workshop / shop of 25m2 on one level with window in the old town of Porrentruy. Separate toilet and small room with sink and window to the rear. Many spotlights and removable lighting + spotlights integrated into the window. Telephone and internet socket available, heating included in the charges. Monthly price CHF.400.- charges included. POSSIBILITY of buying at a good price the presentation shelves, the display cases as well as the reception display case console. Free from August 1, 2021 or possibly a little before (to be discussed). Information for visit or 1st contact by mail.\n",
            "131087 Exceptional, light-flooded 3 1/2-room attic apartment with a large gallery. The apartment has a lot of charm with a chachet (fireplace in the living room). Thanks to the south/west location, you can enjoy the sun until sunset. Beautiful view of the mountain panorama. EHP included. Very quiet location, yet ideally connected to public transport (train/bus can be reached on foot in 2 minutes). Motorway exits Thun-Nord and Kiesen can be calculated in 3 and 5 minutes. Versatile shopping opportunities. Details of the apartment: living/dining/kitchen 30 m2, room 16 m2, room 11.5 m2, gallery 40 m2, entrance 8 m2, bathroom/toilet 4 m2, guest toilet 3 m2, balcony with storage room, 14 m2, basement, 13 m2. Earlier start of rental is also possible. The apartment is ideal for one or two people. Convince yourself of this extraordinary apartment.\n",
            "131088 ObjektCopy this link into your URL to take a 3D virtual tour of the object: READ // Preferably use your computer for this 3D tour. To navigate in 3D on mobile, download the Youtube application (free). You can change the orientation by clicking with your mouse on the video screen. You can also pause and change direction to better discover each room. Magnificent 4.5 room apartment with a living area of ​​110 m2, located in Leysin, Chemin des Fenives. It is composed of a large entrance hall, a a bright living / dining room with beautiful parquet flooring and a magnificent open view of the mountains, a fully equipped kitchen, 3 bedrooms, one of which has a shower, a shower room with WC, a Guest WC as well as a balcony. A shared garden completes this property. Private laundry room with machines in the apartment. Close to all amenities: shops, schools, public transport. On the ground floor of a beautiful chalet. Rent without charges: CHF 1,600.- Charge (flat rate): CHF 220.-1 outdoor parking space for CHF 50.- Available on July 1, 2021You are a tenant in the process of early termination or an owner looking for a tenant solvent? You can count on our network and our experience to be detached from your commitments as soon as possible. For more information, contact us on StichworteNutzfläche: 110.00 m², Anzahl der Badezimmer: 2, Anzahl der separaten WCs: 2, Anzahl der Wohn-Schlafzimmer: 3, Kanton: Leysin, Geschlecht egal\n",
            "131089 Beautiful, quiet and cozy 2 room apartment with a large kitchen, private patio, cellar compartment, bicycle shelter and nice neighbors :-) Washing machine, tumble dryer and drying room for shared use. Outdoor parking available. Bus station 1 minute away and Thun train station 15 minutes away. Viewing possible until Monday (also Saturday/Sunday)\n",
            "131090 We are renting a beautiful 3.5 room apartment as of May 1st, 2021. The apartment impresses with the following highlights: - large, open living/dining area - pets allowed - close to the center and yet in the countryside - bathroom in the large bedroom If we have aroused your interest, then arrange your viewing appointment today at: a.mosquito@atmoshaus.ch or 041 545 80 10\n",
            "131091 We rent an apartment in the countryside immediately or by date to be agreed, in a building of only 4 apartments.The apartment has a private garden, a terrace and a parking space. A second parking space is also available on request. Possibility to take care of the concierge (approx. 4 hours per month)\n",
            "131092 FeaturesDistance to public transport: 70 m, distance to the next shop: 400 m, distance to the kindergarten: 400 m, distance to the next primary school: 300 m, distance to the next high school: 800 m, no pets allowed, year of the last renovation: 2010\n",
            "131093 From July 1st or by arrangement, we rent this new, modern 4½-room apartment in a family-friendly environment with a covered patio, open kitchen with island, high oven with steamer, V-train, separate shower / toilet with its own wash tower, bathroom / toilet with bathtub, many built-in cupboards, whole apartment including patio with high-quality stoneware tiles and Electronic blindsGarden seating area facing south-westTop floor plan concept with optimal furnishing optionsConstruction corresponds to property standardSpacious cellarSchools and bus stop \"Waldegg\" very close byParking spaces for CHF 130.00 / month.Let us convince you on site.We look forward to your call!\n",
            "131094 St. Ursen - FIRST TIME OCCUPATION! modern 4.5 room apartments in a quiet and sunny location! New apartments with a spacious floor plan are being built in this wonderful, quiet location. The apartments are currently still being developed, but viewings can already be carried out. All apartments have the most modern development standard and are barrier-free. The property also has two 3.5 room apartments on the ground floor and two 5.5 room duplex apartments. There is a basement compartment with electricity connection for each apartment. Parking spaces in front of the property can also be rented. Do not hesitate to contact us! 031 974 22 25\n",
            "131095 As of May 1, 2021 or by arrangement, we are renting a renovated 4-room apartment on the 1st floor (no elevator) at Schulweg 2, 2543 Lengnau BE available- kindergarten and school very close by- bus stop 2 minutes away- possibly with a gardenInterested? Contact Rita Weiss Tel. 034 422 36 74\n",
            "131096 This comfortable, newly renovated apartment convinces with its practical layout and very quiet location. The ideal place to spend a quiet end of the day, nature directly at your doorstep. The train station is a few minutes walk away and the highway is only 2 kilometers away. Come and see for yourself on site! This offer from BETTERHOMES is characterized by the following advantages: - quiet location - families welcome, playground in the neighborhood - balcony - leisure area nearby - possibility of renting a garage - well bonded by public transport and highway- pets on request- etc, etc, etc...Interested? Contact us for a visit without obligation - online visit also possible!Nothing that matches? You will find more than 3,000 other objects on: www.betterhomes.ch - The Swiss specialist in real estate transactions.Do you have a property to market?Take advantage of our know-how: want to know the value of your property?Take advantage of our free online estimate! detailsLocation: quietBathrooms: 1 (1x shower/WC/sink)Public transport: bus, 1 minute walkSchool: Primary and secondary school, 5 minute walkShops: Coop and Migros, 500 m\n",
            "131097 I am looking for a roommate for a 4.5 room apartment (100m3, see pictures) in a prime location in Zurich-Höngg. The rent is CHF 1580 including additional costs (total rent for the apartment CHF 3100 excluding additional costs). The room layout can be discussed with me, 48 years old, architectural photographer, open and communicative, during a visit. If required, two rooms can also be rented for this rental price. The basement is for shared use. If required, a covered parking space can be rented for CHF 125. Your room(s) are not furnished.\n",
            "131098 Sunny, quiet and child-friendly location - right on the green belt - public transport right in front of the property - shops nearby - near the motorway connectionWe rent a bright and spacious apartment on June 1st, 2021. The kitchen is modern and complete. Beautiful bathroom, living room has parquet flooring, the other rooms have laminate or tile floors. The built-in closet provides more storage space. A balcony, a cellar and screed compartment also belong to the apartment. - Outdoor parking for monthly CHF 30.00 can be rented - pets allowed. Pictures can show a few deviations from the apartment\n",
            "131099 Lease takeover of a spacious 3.5 room apartment on the 1st floor of the village of Orny comprising - Entrance hall with wall cupboards - two bedrooms not overlooked - a guest WC and a bathroom with bathtub and WC - a fully fitted kitchen - a living room and balcony - 1 outdoor parking space at CHF60.- is included in the lease. Rent 1,660.- charges includedIt is located 7 minutes from the Sarraz motorway entrance and 5 minutes from Orbe\n",
            "131100 valley path ? urban and spacious livingIn the Talweg new building project in Oberuster, 14 spacious 2.5 to 5.5 room condominiums are being built for discerning singles, couples and families. Generosity in every respect characterizes the high-quality extension and the practical floor plans. Your new place of residence will also be your place of well-being, just a few minutes from the city center. Your new home offers plenty of space in every respect. Living spaces that are at least 34 m2 in size for a 2.5-room apartment and up to 45 m2 for a 5.5-room apartment, and rooms from over 13 to up to 25 m2. The washing tower in your own reduit, walk-in showers and over-high ceilings of up to four meters in some apartments are further plus points. 000.004.5 room apartment from CHF 1'250'000.003.5 room penthouse CHF Reserved5.5 room penthouse CHF ReservedMore details and information can be found in the sales brochure, which we will be happy to send you. Or visit our website at Apartment fits your lifestyle? You choose. Mr. Gino Ponsillo, telephone 044 940 37 57, is at your disposal for information and advice. Thank you for your interest and we look forward to hearing from you.\n",
            "131101 Duplex of 3.5 for rent in Roche (VD)Available immediately 1'890.-CC with a parking space\n",
            "131102 For rent in Sutz, Schlattweg 4, beautiful 4-room apartment. Modern eat-in kitchen with ceramic hob, dishwasher, etc., spacious, bright rooms with laminate floors, balcony, cellar, parking spaces or garage on request. Quiet, sunny location with a view of the countryside, nearby near the train station, 5 min. from the lake.\n",
            "131103 We are renting this cozy apartment at Buchfeldstrasse 20 in Buchrain as of August 1, 2021. The bathroom in the apartment was completely renovated in November 2017. The bathroom with daylight has a slab floor and a shower tray. The living room has a parquet floor and laminate is laid in the bedrooms. The apartment is located near public transport and shops. A parking space can be rented for CHF 100.00/month or an outside parking space can also be rented for CHF 50.00/month. You can find more information about the residential community of Buchrain at www.buchrain.ch. Have we aroused your interest? Do not hesitate to contact us. We look forward to your call.\n",
            "131104 Furnished room in a perfect location for rent! In the very well equipped 5.5 room apartment there are currently 4 friendly tenants. All have their own separate room. The new kitchen and bathroom belong to the community. We are happy to answer any further questions. We look forward to your inquiry.\n",
            "131105 More information on request.\n",
            "131106 SIMPLY ADORABLE how not to fall in love with this gem? We present you a completely renovated 4.5 room house, in the middle of the green of the wonderful Malcantone. The modern design and the matching furnishings are spread over 3 floors. The spacious entrance area leads directly to the great garden, has access to the shower room, laundry room, storage room and cellar compartment. On the 1st floor is the open living room with an elegant kitchen, dining area and a beautiful living room. After the last few steps we reach the 3 rooms with panoramic windows and beams. There is also a bathroom with a tub and window. Another advantage is the Grottino, the fenced garden, which has enough space to sunbathe and enjoy. And this in a quiet and sunny area. What more do you want? A real dream.- 1st & 2nd residence- built on one side without loss of privacy- parking spaces only 20 meters away- postbus right on site- school nearby, school bus- in the middle of nature, surrounded by greenery and forests- near Lago Maggiore and Lake LuganoLove at first sight? Convince yourself.Come si fa a non inamorarsi di questo gioiello?Vi presento una casa complete rinnovata di 4.5 locali immerso nel verde del Malcantone.Il suo fascino di arredo e il design moderno si puo apprezzare su 3 piani. Entrando si viene accolti da un grande atrio dove troviamo: accesso diretto al giardino, un servizio con doccia, il locale tecnico, la lavanderia, la cantina e un ripostiglio. Al 1 piano vi aspetta una bella cucina elegant with spazio pranzo e il bel salotto. Salendo gli ultimi scalini vi si presentono 3 camere luminose grazie alle vetrate grandi e il tetto a vista travi. Inoltre é presente un secondo servizio con vasca da bagno e finestra. Un altro fantastico vantaggio é il grottino. L' adorabile giardino offer tanto spazio per prendere il sole e la terrazza per fare glrigliate d'estate e tutto questo in una zona tranquilla e soleggiata. Un vero incanto.- abitazione primaria e secondaria- confinante da un lato senza incidere la privacy- posteggio a due minute- mezzi pubblici ad un passo- scuole in vicinanza, pulmino- natura, vista aperta, boschi vicino- tra lago Lugano e lago Maggiore Lasciatevi incantare sul posto.Fate la visita e sara amore a prima vista.\n",
            "131107 The friendly 3-room apartment on the 3rd floor is in a very central location and invites you to relax! The apartment has a practical kitchen, a bright bathroom, 2 bedrooms and a living room. The property is equipped with a lift. Cellar compartment available. Guard kitchen and drying room for shared use. The bus stop is in the immediate vicinity. Shops, the primary school and a kindergarten are also right next door. For a relaxing evening walk, you have the choice between a short hike in the refreshing FOREST next door and a leisurely stroll in the sound of the REUSS, 300m away. Curious?!? Arrange a viewing appointment today and see for yourself!\n",
            "131108 Commercial area with windows for art gallery, retail or any other project. Exterior description: Store including the red parts only, see attached photos. Interior description: Approximate areas: - Workshop: 29.20 m2 - Front commercial area: 104.88 m2 - Toilets: 6.75 m2-\"Kitchen\" room: 7.75 m2-Rear room with mezzanine: 61.15 m2-Mezzanine: 30.86 m2Total floor space: 240.59 m2Showcases: 22 m kitchen\" and the adjoining workshop: 534.89 m3 (ceiling height of 3.60 m) - Rear room with mezzanine: 348.56 m3 (ceiling height of 5.70) For any other information, from 3 p.m. to 6 p.m. on 021.963.11.21 Thank you\n",
            "Tell us about yourself and, after you have applied, let us invite you to a viewing of the apartment and a personal introduction with coffee or beer.\n",
            "131110 We are in Bissone, a few minutes from Lugano on the shores of the fantastic Lake Ceresio.The SURFACE of this apartment is 124 square meters, and is ideal for a couple looking for large and refined spaces. which you can glimpse the panoramic living area.This space surprises with its INCREDIBLE GLASS WINDOWS that stud an entire wall to grant maximum exposure towards the enchanting lake view.This immense expanse of water caressed by its valleys is so close that it seems like a painting. of the LIVING ROOM is large and clad in modern anthracite-colored porcelain stoneware.From here we can reach the LARGE TERRACE of about 40 square meters with glass parapet, an intimate place, all yours to enjoy the panoramic view. from the living room by a masonry island.The white doors and the gray worktop are complemented by appliances including ceramic hob, oven, dishwasher and fridge. ORifero. THE BATHROOM includes a corner shower, sink and bathroom fixtures. In this space you can install your own PRIVATE LAUNDRY, alternatively you can use the shared laundry room. THE SLEEPING AREA is anticipated by an elegant bathroom with tub, bathroom fixtures and sink with storage unit.Continuing we find two large bedrooms, ONE SINGLE AND ONE DOUBLE. The apartment has a CELLAR. This precious 3.5 room is rented at the price of 2300 francs per month. price includes TWO PARKINGS: ONE OUTSIDE AND A PRIVATE BOX. A RENTAL GUARANTEE equal to three months is also required through INSURANCE It is available immediately as a takeover.For those who wish it is possible to withdraw PARTIALLY OR TOTALLY of the furniture.If you have found your dream contact us at +41 91 921 24 28 or at +41 78 404 56 75.TiRent\n",
            "131111 Spacious 4-room duplex apartment directly on the Aare. Living area spread over 2 floors. 3 bedrooms, modern bathroom with bathtub, second toilet with washing machine and tumbler, modern kitchen with combination steamer, oven, ceramic hob and lots of storage space, living area with swedish stove, storage room under the stairs, 1 outdoor parking space, part of the basement, lawn area with a connection to the Aare, quiet location in the countryside with a great view, garage space for an extra charge (120.-/mth.)\n",
            "131112 This large studio of approximately 33 m2 is located in a residential area of ​​Clarens, a few meters on foot from the lake. Shops and schools are also nearby. It consists of: A living room / bedroom A large kitchen A bathroom bathsAn extra parking space completes this accommodation at CHF 110.00.- / month Available for May 1, 2021. The complete repair of the paint will be done before you move in. Have we piqued your interest? In this case, do not hesitate to contact us directly from the contact form for any requests and / or visits. In case of interest, you can fill out the registration form below, we look forward to advance to be able to process your request. the files via the link will be taken into consideration, we thank you in advance.\n",
            "131113 To quickly rent a furnished and fully equipped studio, fully equipped kitchen, shower room, dining area and sleeping area, free quickly, rent fr 1,100.-- all inclusive, wifi, electricity, etc.\n",
            "131114 Outdoor parking spaces and parking spaces for rent, immediately or by arrangement. Untermattstrasse 4ab-6ab: outdoor parking spaces for CHF 70.00 / month Untermattstrasse 2: parking spaces in the underground car park for CHF 135.00 / month We look forward to hearing from you.\n",
            "131115 Energy-efficient and modern 3.5 room apartment with 128m2 of floor space. Are you dreaming of an energy-efficient home with a spacious living area? Do you prefer a natural center of your life and don't want to forego the proximity to the city? The new building project \"SH15\" makes your wishes come true. In Sennhof (Winterthur) 15 condominiums from 1.5 rooms to 4.5 rooms are being built for single people, couples and families, which offer you peace and pure nature - urban living becomes everyday for a trip to the country. The architectural style is clearly recognizable both inside and outside. The well thought-out room concept with attractive floor plan options leaves freedom for individual design and furnishing ideas. Living spaces are created here that meet the highest standards. Openness and intimacy alternate, and seating areas and terraces (loggias) in front expand the living spaces to the outside. The spacious, light-flooded condominiums impress with their maximum living comfort in the Minergie standard and at attractive prices. Realize your dream of owning your own home now. We would be happy to answer any questions you may have and arrange a personal consultation. Advice & sales: Guido Künzle - 079 746 93 50 Convincing facts: Attractive and modern interior design to help design Stylish condominiums, linear architecture with generous living and usable areas Bank-tested and confirmed Selling prices with property-related financing exampleControlled home ventilation (a separate control unit for individual regulation per apartment)Environmentally friendly heating via district heating from the heating network of the IWBPhotovoltaic system for electricity generation via sunlightEnergy-efficient housing in the Minergie standard, as the basis for a low-interest environmental loan to finance your home from the Zürcher KantonalbankHigh-quality household appliances with 5-year guarantee for the kitchen and washroomUnderground car park with single or double parking spaceAvailable from summer 2022The idyllic Sennhof, as part of the city of Winterthur, impresses with a high L quality of life: Good transport connections and shopping facilities Diverse leisure activities Local recreation on the doorstep Kindergarten and schools within walking distance You can find more exciting information at: www.sh15.ch\n",
            "131116 Property descriptionThis charming 4.5 room apartment is in a quiet location near the center of Glattfelden. The 6-party house was built in 2008 and is in very good condition thanks to continuous renovations. A lift provides barrier-free access to the apartment on the 1st floor. On a total of 98 m2 of living space there is a spacious kitchen-living room with a high-quality, white fitted kitchen, 3 bedrooms, a bathroom with bathtub, washing machine and walk-in shower and a large, covered balcony. The whole apartment is tiled and has underfloor heating that can be regulated individually for each room. The apartment is bright and welcoming thanks to its large windows. The 14 m2 balcony with a view of the countryside invites you to linger. Also belonging to the apartment are a large, closed basement compartment and 2 parking spaces in the underground car park. The children's playground right in front of the house, the natural location and schools/kindergartens within walking distance make this home the ideal place to live for young families. Do you also have a property for sale? We offer you a free and non-binding consultation! We look forward to your call!Price information2 underground parking spaces\n",
            "131117 We are looking for a replacement for the end of April or the beginning of May, for a 3.5-room apartment in Canobbio. On the first mezzanine floor, with the balcony overlooking the condominium garden. Small condominium of only 3 floors. Quiet and sunny area, close to elementary schools, kindergarten, grocery store, pharmacy and post office. A few steps from the public transport stop. The apartment is composed as follows: - 1 large double bedroom - 1 normal bedroom - 1 bathroom with tub and window - open kitchen overlooking the living room (which then leads to the balcony) In front of the building there are some blue car parks and a few steps away from those municipal. For those interested in a parking garage, I can give them mine, which is a 5-minute walk from the condominium. Small pets allowed. Swisscaution is accepted. Rent 1'290 chf plus 110 chf of expenses. For those interested in a visit please contact me.\n",
            "131118 This very beautiful attic apartment impresses with light-flooded rooms, a spacious dining-living area under a stylish wooden roof truss and a beautiful view of Pilatus and the Prealps. Location: Quiet residential area in Inwil, centrally located, near the Root or Buchrain motorway exit. 15 minutes to Lucerne or Zug, 35 minutes to Zurich. Facilities: living-dining room with open kitchen, master bedroom with direct access to the balcony, 2 additional bedrooms, 1 bathroom with double washbasin, bathtub and skylight, 1 shower with toilet. Built-in cupboards in the entrance area. Own screed walkable with carpet. Living area with granite floor, bedrooms with parquet floor. 2 balconies (south side: approx. 9 m2, west side: approx. 19 m2) with sun blinds. The kitchen has a large refrigerator, oven, ceramic hob and dishwasher. The rental price is CHF 1,860 plus CHF 200 ancillary costs. A lockable garage box in the underground car park can also be rented (CHF 140 per month).\n",
            "131119 These spacious, bright and renovated rooms are in a prime location in a modern residential and commercial area in Urtenen-Schönbühl. Here you have the whole ground floor to yourself and whether office, trade, production, practice, training - a lot is possible here. There are also two loading points for trucks. The ideal traffic location between the A1 and Shoppyland, the five-minute walk to the train station and the few minutes by car to the city center of Bern round off this offer. It is also possible to rent additional work and storage space. The light-flooded rooms and the own quiet zone in the countryside ensure an excellent working atmosphere. This BETTERHOMES offer is characterized by the following advantages: - top location (central and ideal public transport and transport connections) - various possible uses available - new, partially renovated and new interior design and Floor covering of your choice (included in rent)- additional commercial space of 177 m2 or 82 m2 can be rented- two covered loading bays for vans and trucks with lifting table- 90 parking spaces available, 40 of which are for visitors and, and, and... Interested? Contact us for a non-binding inspection! Nothing suitable found? More than 3,000 other offers at: www.betterhomes.ch - the real estate broker&174;Market a property yourself?Benefit from our know-how: would you like to have a property appraised?Benefit from our free appraisal now, immediately and without obligation! DetailsLocation: central location in a residential and commercial zone with ideal public transport and transport connections, close to shopping centersCondition: new and partially renovated: triple glazing, electric blinds replaced, facade newly insulated and brought up to Minergie level, etc.Bathrooms / wet cells: 1 (1x bath/toilet/sink )Heating system: gasPublic transport: train station, bus stop, 350 mSchools: primary school, high school, 1'200 mShops: Shoppyland and shopping center, 250 m\n",
            "131120 From May 1st we are looking for a new tenant for the beautiful apartment. The apartment is beautifully located.\n",
            "131121 You will find your new family home on the edge of a well-kept single-family home district and surrounded by lots of greenery. Here you can enjoy the tranquility and the unobstructed view of the natural landscape. The garden seating area offers large green areas and invites you to linger. You will be happy to spend time here with family and friends on warm, sunny days. The house is generously designed and developed to a high standard. From the large living area to the ecological heat pump and solar collector heating, the house is equipped with everything your heart desires. You can quickly go shopping in town, the schools are in the immediate vicinity and the next larger cities such as Zurich and Zug can be reached quickly by car. This BETTERHOMES offer is characterized by the following advantages: - 5.5 rooms + open gallery - 549 m2 larger Garden with lots of green space - huge living area with an open and modern kitchen (70 m2) - high-quality construction standard - Minergie construction (controlled room ventilation) - heat pump and solar collectors (ecological and low heating costs) - spacious storage rooms - 1 garage parking space - 3 outdoor parking spaces - and, and, and...Interested? Contact us for a non-binding inspection! Nothing suitable found? More than 3,000 other offers at: www.betterhomes.ch - the real estate broker&174;Market a property yourself?Benefit from our know-how: would you like to have a property appraised?Benefit from our free appraisal now, immediately and without obligation! DetailsLocation: quiet and well-kept single-family house quarter, unobstructable location (on the edge of the building zone), close to nature, well connected to the public transport network, schools nearby, state tax rate: 100%, community tax rate: 121%Condition: as newBathrooms / wet cells: 3 (1x bath/shower /WC, 1x shower/WC, 1x WC)Heating system: heat pump and solar collectors (floor heating)Public transport: Bus station (Obfelden, Toussen), 600 m / train station (Affoltern am Albis), 2.9 kmSchools: Kindergarten (Kindergarten Schlossächer), 750 m / Primary school (Chilefeld), 900 m / Secondary school (Obfelden-Ottenbach), 850 mShops: Volg and Post in Obfelden, 550 m / Coop in Affoltern am Albis, 3.0 km / Migros and Denner in Affoltern am Albis, 3.9 km /\n",
            "<30min Zurich Airport\n",
            "131123 Ready for your own office? The most important advantages of the office landscape \"Am Mattenhof\" micropool at a glance: Shared kitchen and lounge area Shared showers and toilets Creative mix of tenants Bike parking spaces Ready to move in immediately For more information about our project, go to: have created our first Mattenhof image film for you, which you under the existing link (. Have fun! Of course we hold meetings in compliance with the recommended safety regulations (distance and mask). You also have the opportunity to carry out a virtual tour on the following link: we look forward to hearing from you. You can use this object Visit via video call.\n",
            "131124 Unique SBB in front of the house with a view of Hallwillersee\n",
            "131125 Are you looking for a suitable parking space for your vehicle? Then you've come to the right place! From April 1, 2021, we will be renting an outdoor parking space at Dammweg 36 in Gümligen for CHF 45.00/month. Have we aroused your interest? Do not hesitate to contact us.\n",
            "131126 Our furnished studio is suitable for individuals, e.g. for a second residence, who appreciate the following values: rustic, bright and cozy ambience fireplace sauna small kitchen, microwave, refrigerator WiFi, TV with Replay and Netflix, digital radio, shower / toilet (new) washing machine (shared use) large Garden (shared use)Kettle gas grill (shared use for grilling and baking)Car parking space on requestThe studio is on the ground floor of our 2-family house in the middle of a beautiful village, 25 km from Bern and Solothurn, with excellent transport links.You can view this property by video call .\n",
            "131127 We rent something interesting at Kirchfeldstrasse 17 in SteffisburgBright apartmentBalcony with a view of the mountainsKitchen with dishwasherQuiet and central residential areaHave we aroused your interest or would you like a viewing appointment? Then call us on Tel. 058 227 21 21.\n",
            "131128 For rent in Molino New 1.5-room apartment in a building on the fourth floor located in the immediate vicinity of public transport and shops. The apartment features an entrance hall, separate kitchen, living room / bedroom and bathroom. Available immediately. The rent is 850 ChF with 100 ChF of expenses (including cable and without balance) For information call 079 / 354.06.63 or 091 / 943.16.15? Further information is available on www.ImmoArena24.ch\n",
            "131129 This very nice apartment in an ideal location offers the following advantages: - Practical kitchen with ceramic hob/dishwasher and window - Spacious bathroom with bathtub/shower attachment/undermount furniture/window - Slab floor in kitchen and bathroom - Laminate floor in the room - Washing machine with dryer in the bathroom - Own cellar compartment - Laundry room with additional washing machine - decalcification system in the house - large, very child-friendly garden with playground - patio with fireplace - large bike room/bike shelter in the separate garden house. Outside parking spaces can be rented separately for CHF 60.-/month. Various visitor parking spaces are available. Have we aroused your interest? Call us so we can make an appointment.\n",
            "131130 113 APARTMENTS FOR SALE IN OWNERSHIP BY FLOOR (PPE) FROM STUDIO TO 5.5 ROOMS AND 1 COMMERCIAL SURFACE! These apartments are aimed at all types of customers! For families in need of space, but also for young people for whom frequent nearby transport is essential, but also for older people wishing to enjoy a quiet and relaxing place. Both very close to the city center and two nature, the OSIRIS eco-district is part of the “RECORD-AU CRÉPON EST” partial land use plan (PPA). The project, designed by several renowned architectural firms, combines modernity, comfort, practicality, but also aesthetics ! The choice of housing finishes is at the option of the purchaser. It consists of 6 buildings totaling 113 spacious and bright apartments and a commercial area in PPE. The typologies offered range from studios to 5 ½ rooms. Each accommodation also has an opening to the outside with a loggia or a terrace and even a garden for certain lots. A cellar is allocated to each apartment. to acquire 1 parking space in the underground car park. The whole project respects the Minergie P/ECO certification. its local shops and shopping centers nearby. The Lausanne-Echallens-Bercher (LEB) line serves the entire region and connects Lausanne-Flon to Echallens in 30 minutes twice an hour and every quarter of an hour at peak times .Schools:Court-Champ primary schoolThe school welcomes pupils from 1P to 8PThree Sapins secondary schoolThe school welcomes secondary level pupils (9S to 11S)Contact Mr. Nikola Kovacevic a u 079 267 69 17 for more information and to make an appointment on site.www.omnia.ch\n",
            "131131 Beautiful 3.0 room apartment with a large, sunny balcony. The apartment has: a modern kitchen with glass ceramic hob and dishwasher bright bathroom (with window) and bathtub parquet and laminate flooring cellar and screed compartment in a central location, the outdoor pool and the old town are within easy walking distance, pets that need exercise are unfortunately in this property not allowed. Interested? We look forward to your inquiry. Steinauer Immobilien - your experts for the sale and holistic management of real estate.\n",
            "131132 Bright studio with a view of the countryside. Right on the main street and bus stop. On the 1st floor with shower, toilet, cellar compartment and shared laundry room. Incl. 1 parking space. Pets are not allowed. Available from July 1, 2021. Rent 680.- incl. utilities and hot water.\n",
            "Source: www.stadt-zuerich.ch\n",
            "131134 On the 2nd floor of a three-family house. No elevator. The apartment has normal comfort with linoleum and parquet floors. Balcony with a beautiful Alpine panorama. Large basement room and screed portion. Shared use of the patio. Outside parking can be rented if required. Public transport (post bus lines) can be reached in three minutes on foot. Enjoy life in the sustainable rural community of Meikirch and benefit from the ideal connection to the city. Unfortunately, the apartment is not suitable for keeping pets.\n",
            "131135 We are looking for a new tenant from May 1st, 2021. The apartment is bright. Living room/hall ParquetBedroom/children's room LaminateBathroom/WC separateWindow in the bathroomLarge balconyReduitCeramic cookerDishwasherOwn laundry room downstairs with washing machineQuiet location, beautiful walkGarage can also be rented.Please contact us for a visit.\n",
            "131136 2.5-room apartment, sunny, spacious and comfortable. Eat-in kitchen including dishwasher, spacious living room with balcony, bathroom with tub and bidet. Floors in excellent condition in the hall and in the kitchen, parquet in the bedrooms and in the living room. Proximity to schools, services, public transport and motorway entrances. Internal parking available at CHF 120.00 per month. Common laundry room with washing machine and dryer. Available immediately\n",
            "131137 In Stabio in Via Giulia, we sell a 2 ½-room office of 68 m2. The office is located on the first floor at the historic International Art Center of Stabio. The building, divided into properties by floors, mainly houses commercial activities, professional studios and offices (e.g. physiotherapy, bank, tool trade) .The space, originally conceived as an office, has been recently renovated (2010) and intended as a courtesy for customers (in fact almost never used). The current intended use is commercial space. Change of destination from commercial space to residential space to be requested from the municipal authority (residential use is foreseen in any case by the master plan) Layout: Entrance hall, utility room, living-dining room and separate kitchen, large double bedroom, toilet-shower municipal authorities nearby (possibility of requesting municipal authorization for indeterminate parking in the blue area (P6 Via Giulia approx. 100 m2). Available immediately.Ideal also for income purchase.For more information and visits: 078 898 55 49 (Mr. Sciaroni).\n",
            "131138 Would you like to live in a charming 3-room attic apartment on the 3rd floor (approx. 60m2)?Bright roomsRooms all with parquet floorsWell-kept surroundings with no through trafficBathroom with windowContemporary kitchenLarge covered seating area in the garden for shared useHave we aroused your interest? Then contact us for an appointment on Tel. 058 227 21 21.\n",
            "131139 For sale in Vacallo, land of 1,310 sq m with the following building parameters: Occupancy index: 40% Building index: 3 mc / sq m Maximum height: 10.00 ml The parcel is located in the AR-CO area, an artisanal-commercial area. The land of the parcel has an irregular shape and steeply sloping configuration in the upstream part of the dirt road and slightly sloping in the downstream part. Very interesting price at Chf 628'800.- or Chf 480 .- / sqm. visit without obligation, we will be happy to give you all the information in person.Immostile SA | Real Estate AgencyCorso San Gottardo 326830 Chiasso + 41 (0) 91 210 40 40Are you looking for a house? Contact us immediately without obligation and we will immediately take action at no cost to find what you want with the utmost seriousness and professionalism. No problem, our revolutionary real estate web marketing is at your complete disposal. For you, NO advertising costs and a great opportunity to achieve the goal together. Call us and let us surprise you!\n",
            "131140 Magnificent 3.5 room duplex apartment with a living area of ​​99 m2, located in Villarsel-le-Gibloux, Route des Golards. Located in a beautiful house with individual entrance, it is composed as follows: - on the ground floor: a large entrance with fitted wardrobes, a fully equipped open kitchen, a living room/living room with access to the terrace and the spacious garden and a guest WC with washing and drying machines. - on the first floor: two beautiful bedrooms, an office space and a bathroom with double sinks, large bath and shower. A cellar completes this property. Floor heating with thermostat in each room. Close to all amenities: shops 5 minutes by car, bus stop 30 m. On the ground floor and 1st floor. Rent without charges: CHF 1,530.- Charges: CHF 180.- 2 outdoor parking spaces including 1 covered and 1 uncovered for CHF 140.- Available on April 1 or before (to be agreed). Are you a tenant in the process of early termination or an owner looking for a solvent tenant? You can count on our network and our experience to be detached from your commitments as soon as possible. For more information, contact us on info@lacotelocation.ch\n",
            "131141 www.holzweid.ch - Ready for occupancy on August 1st, 2021.High-quality standard of construction:Open kitchens with high-quality V-Zug appliancesTwo wet rooms with floor-level showers and bathtubWashing tower in the bathroomHigh-quality oak parquet Underfloor heatingGenerous outdoor areasOptimal supply and networkHolzweid is close to the village center, which in addition to a shop also has a post office, restaurants and a kindergarten. The primary and secondary school is in the immediate vicinity. Regular trains run from Gibswil station to Bauma, Rüti and Uster in less than half an hour. Model apartmentGet a first glimpse of the apartment through the following link: we aroused your interest? Further information can be found on the project website www.holzweid.ch. Dion Haxhija is also available to answer your questions on +41 44 253 62 92 or dion.haxhija@hbre.ch. We look forward to hearing from you! The photos are of a reference apartment, please refer to the layout of the apartments from the floor plans. Changes and deviations from the published information and the building description are expressly reserved.\n",
            "131142 Located in Courgenay, this single-storey architect's house is located on a 427m2 plot. The house offers an entrance with fitted wardrobe, a spacious kitchen open to a living room with stove, 3 bedrooms, one of which gives access to a pretty terrace, a bathroom with shower and bath. The interior is carefully thought out and the house benefits from a beautiful light from these large glazed windows which overlook a covered terrace. 2 outdoor parking spaces with cover.\n",
            "131143 From August 1st, 2021 we rent this 4.5 room apartment in Laupen: Open kitchen and living area 3 bedrooms Bathroom with bathtub Shared use of the shared laundry room Separate cellar compartment A parking space at CHF 50.00/month. be hired.\n",
            "131144 *Located in a quiet street near the Mont sur Lausanne*Near the bus station and direct connection to the bus.*15 minutes from the Olympic stadium*Garage available. The rents are based on a special reduction which will be granted in this apartment until January 2023 after which the rents are Fr. 021 340 66 66 Überzeugen Sie sich selbst, und vereinbaren Sie noch heute einen Besichtigungstermin\n",
            "131145 Well-maintained standard of construction with lots of marble Living space 133 m²Extraordinary floor planLarge balcony (10.8 m²)Lift access directly to the apartmentLarge work room / cellarOne outdoor parking spaceNegotiation price (including outdoor parking space) 696,000 CHFWe would be happy to send you our documentation and are available for a visit\n",
            "131146 In Balerna in via Delle Fornaci, convenient to reach the train station, we rent a large 3.5-room apartment on the second floor with elevator as follows: Entrance, kitchen, living room, two large bedrooms and bathroom with tub and large balcony. and garage available RENT CHF 1100 + ACC EXPENSES CHF 130 Outside parking space CHF 70 Garage CHF 120 Free immediately Pets not allowed\n",
            "131147 The property is in a sunny and quiet location in Gümligen. Public transport and shopping facilities are nearby. The property does not have a lift. We are renting this beautiful 3.5-room attic apartment as of July 1, 2021 or by arrangement, which impresses with the following points: - modern kitchen with light fronts and a dark granite cover. The kitchen has a glass ceramic hob, a dishwasher and a bar counter - bathroom with bathtub and its own washing machine/tumbler - dark tile floors in the kitchen and bathroom, high-quality parquet floors are laid in the corridor and in the living rooms. - the Swedish stove in the living room offers a lot of charm and comfort - the screed reduit in the corridor allows additional storage space - the apartment has a balcony with a great view - a cellar compartment belongs to the apartment. If required, a parking space for Fr. 50.00/month. to be rented. Have we piqued your interest? Do not hesitate and contact us. We look forward to your call!\n",
            "131148 Paradise in a strategic position two minutes from the motorway and the lakefront, nice studio apartment with terrace. Entrance with fitted wardrobes, large sleeping / living area, modern kitchen, terrace, bathroom. Request chf 785 Advance expenses chf 115\n",
            "131149 2-room loft-style apartment. Very quiet location with independent entrance. Approximately 70 m2 of living space with high ceiling. - Entrance hall; - Living room of approximately 57 m2 with open kitchen; - A bedroom of approximately 14 m2;- A WC-shower;- A small room with the possibility of installing your washing-drying column (common laundry room also available);- An outdoor parking space;- A small cellar. Common tree-lined garden accessible to all. Rent : CHF 1400 + 150 (charges) including a parking spaceAvailability: to be agreed with the outgoing tenant\n",
            "131150 apartment for rent in a farm, beautiful view,\n",
            "131151 Beautiful 4.5 room apartment with a fantastic view for rent! A look into the apartment: -Living room and bedroom with easy-care parquet floor-Modern kitchen with ceramic glass and dishwasher-Modern, bright bathroom with additional toilet-Practical built-in cupboards in the corridor-Additional small storage room-Outdoor parking space can be rented.-Large, beautiful balcony with a view-shopping facilities, public transport and lake in the immediate vicinity Bull's eye? Convince yourself and arrange a viewing appointment today\n",
            "131152 17 parking spaces for rent in an underground car park. They are located in St-Sulpice, a small town on the shores of Lake Geneva, near the motorways (less than 15 minutes) and the EPFL site. Morges and Lausanne can be reached in about 10 minutes by public transport (line 701) and the city of Renens in 20 minutes (lines 31 and 33).\n",
            "131153 We rent a 1-room apartment at Sulgenrain 25 in Bern in the popular Marzili quarter. The property is set back from the street in a very quiet location. A parking space can be rented with the apartment (CHF 110/month). The apartment can be moved into by appointment.\n",
            "131154 We rent this beautiful and light-flooded 4.5 room apartment on the Suhre on July 1, 2021 or by arrangement. The apartment is on the 2nd floor and is characterized by the following properties: light-flooded and spacious living room living room with stone slabs open-plan kitchen with dishwasher and glass ceramic hob bathroom incl. toilet and bathtub Toilet incl. shower, spacious terrace, basement compartment. Parking spaces at CHF 120 per month can be rented with the apartment. The rental property is an 18-minute walk from Sursee train station. Public transport can also be reached in a few minutes. Enjoy all the advantages of Sursee on foot - if things get too hectic for you, you can relax on a walk along the nearby Suhre. ***The photos may differ from the original.***Have we aroused your interest? We would be happy to show you the apartment during a personal inspection on site. We look forward to your call!\n",
            "131155 For rent as of February 1, 2020, in Zurich Schwammendingen, Überlandstr. 295, magazine/storage room 60m2 spread over 3 rooms with a large private entrance, large additional hall 9.8 to 4.7m, and toilet. Additional PP available.\n",
            "131156 On the heights of Blonay, in a PPE in perfect condition, looms on the 3rd and 4th floors, an apartment with space and volume of 5 rooms. This is designed as follows: - on the 3rd floor - entrance hall, shower room /WC, bathroom/wc with washing column, three bedrooms, a new fitted kitchen open to living room with access to a loggia, - on the 4th floor - open mezzanine with windows, possibility of closing it; available adjoining (beautiful storage space or office) of 36 m2 with the possibility of putting skylights. This apartment is completed with a large cellar and an underground parking space (+35,000 chf); it is possible to rent a 2nd place for 130 chf/month. The train stop is 200 m away, the center of Blonay 5 min. by car. The apartment is in very good general condition; the environment is very quiet, lake view on leaving the building. Walks or bike rides are ideal as well as the climb to the Pleiades. If you dream of a life without nuisance while being close to all infrastructures this apartment is ideal. If you dream of fitting out your work adjoining your apartment, this apartment is made for you.\n",
            "131157 Located in the town of Mathod in a quiet area, this 3.5 room apartment in the attic is located in a recent building with 8 apartments. It is composed as follows:- entrance hall with wall cupboards- fitted kitchen open to the living room- 2 bedrooms- 1 bathroom/WC- balconyAnd again:- common laundry room- cellar- small additional room on the same landing available in supplement (ideal for office, etc...) - parking space available at an additional cost - spacious private attic (access directly from the apartment - non-living space) Rent: Fr. 1,800.00 + Fr. 180.00 (charges) Free of following or to be agreed.\n",
            "131158 Last Villa available benefiting from our promotional offer -45'000CHF!- A project with a unique architecture with a 3rd floor pivoting at 90° offering a lake view for all the villas- The configurator with for the first time the possibility of modifying the typology villas as well as a choice of varied and high-quality finishes- A bike box with electrical outlet to take full advantage of the electric bike offered by Halter- We have made a point of honor to the landscaping with planted beds and a very varied shrubby vegetation to provide a private spaceModern, Functional and SpaciousLive your daily life with your family in this cocoon that will be your homeCome and discover the model as well as the interior finishes at our offices.\n",
            "131159 Commercial premises ideally located in a residential and commercial area in Lausanne, 50 m from Avenue de la Cour. Currently operated as Take-away. It has a production laboratory in the basement and a cellar of approximately 25 m2 each. A WC shared with a trader next door. This BETTERHOMES offer is characterized by the following advantages: - enormous potential - ideally located - premises with a 25 m2 window - production premises - cellar - etc, etc, etc...Interested? Contact us for a visit without obligation - online visit also possible!Nothing that matches? You will find more than 3,000 other objects on: www.betterhomes.ch - The Swiss specialist in real estate transactions.Do you have a property to market?Take advantage of our know-how: want to know the value of your property?Take advantage of our free online estimate! detailsLocation: AverageBathrooms: 1 (1x shared wc/toilet)Public transport: Bus, 150 mSchool: Primary school and college, 800 mShops: Coop, 70 m / Migros, 300 m\n",
            "131160 Attic semi-buried studio located in the center of the villa, large vaulted living room, kichnet equipped with ceramic hob and fridge-freezer, one bedroom and shower room with hammam\n",
            "131161 In an extremely quiet location, in the heart of the popular Breitenrain district, we rent a beautiful 2.5 room apartment with a large patio, spacious, self-contained kitchen, living room and bedroom with parquet flooring, shower/toilet with windows, new painted, basement, shops and public transport nearby. We look forward to hearing from you .\n",
            "131162 Magnificent contemporary residence made up of 3 apartments/villas located on a plot of 1,938m2. The residence is made up of a 4.5 room apartment of 126m2 and two 5.5 rooms over 147m2. This residence is ideally located in Les Posses, commune of Bex, in lush greenery and offers an unobstructed view of the mountains. Easy access all year round, the train stop and the BVB line (connection: Gare CFF de Bex and ski slopes of Gryon/Villars) is located nearby.These apartments/villas are available for the main or secondary residence of your choice.Ground floor: - 3 bedrooms (4 bedrooms for the 5.5 rooms) - A bathroom bathroom- A shower room- A private laundry room- A large cellarUpstairs:- A large living room with fireplace- A kitchen open to the living room- A guest WC- A reduced/storehouse- A very large panoramic terraceExterior:- A private garage at 30 '000.-- extraFile on request.Information and visit, Mr. Gysin: 079 574 3339\n",
            "131163 Semi-detached house for sale under construction in Novazzano in a quiet residential area on a plot of approx. 800 sqm. The project includes two twin houses on two levels of approx. 200 sqm of living space + garden. Ground floor: entrance hall, technical room, cellar, large open space with kitchen and living / dining room, bathroom with shower and laundry. First floor: hallway, three bedrooms and bathroom with tub. buy entire building with two semi-detached units for Chf 1'660'000.- or single unit for Chf 830'000 .-. Turnkey project. Further details on request .------------- ---------------------------- Immostile SA | Real Estate Agency6830 ChiassoTel: 091 210 40 40www.immostile.ch Are you looking for a house? Contact us immediately without obligation and we will immediately take action at no cost to find what you want with the utmost seriousness and professionalism. No problem, our revolutionary real estate web marketing is at your complete disposal. For you, NO advertising costs and a great opportunity to achieve the goal together. Call us and let us surprise you!\n",
            "131164 Beautiful cottage located in the nucleus of Rivera-Capidogno. The spaces are divided as follows: on the ground floor you enter a hallway where the laundry room is on the right and a bathroom with a shower on the left. Going up the stairs you arrive in the living area with a kitchen equipped with all appliances, dishwasher, oven, hobs, column fridge. On the second level we have a mezzanine that has direct access to a room / study. Outside there is a loggia which leads to a wood-storage room. The heating is electric, supported by a Swedish stove which heats all the rooms extensively. Currently the cottage is inhabited by a tenant.\n",
            "131165 We rent a completely renovated 3.5-room apartment, located on the 4th floor of a quiet building consisting of 12 apartments, in Arbedo-Castione. The area where the building is located is very sunny and quiet, surrounded by greenery, a few minutes' walk from the bus stop and schools. Maximum convenience for access to the motorway network. The area where the building is located is sunny and quiet, surrounded by greenery, a few minutes walk from the bus stop and the schools.Composition of the apartment: entrance hall with large built-in wardrobes, bright living room with large balcony. New separate and eat-in kitchen with exit to the second balcony. 2 bedrooms and a spacious renovated bathroom with bathtub. All the rooms have bright windows. Spacious laundry room with drying rack and well-kept communal garden available to tenants. Possibility of outdoor parking for CHF 50.- or covered with direct access to the building for CHF 100.-Including a spacious cellar. Available immediately.\n",
            "131166 High level of comfort in the farmhouse, EVERYTHING NEW: Wonderful wooden floors \"BAUWERK Villapark\" Oak floorboards Comfortable underfloor heating throughout Kitchen all VZug appliancesMiele tumble dryer (washing machine and tumble dryer) only for this apartment Large screed parking spaces available, currently incl. Natural cellar optional Possibility of shared garden thanks to RBS in just 14 minutes. at the train station in Bern!\n",
            "131167 This charming 3.5 room apartment is the ideal cocoon for nature lovers, while being close to the center of Bex and its amenities. It is located 10 minutes by car from the towns of Aigle and Monthey, housed in a haven of peace in the heart of Hameau Le Châtel in the town of Bex. It is located in a pleasant residential area, at the end of a dead end of a path, away from busy roads and sheltered from noise pollution. In a contemporary style, refined and with character, this recent apartment offers pretty well distributed spaces as well as beautiful volumes. It is located on the top floor of a small 7-unit building with elevator. the surrounding mountains. This apartment has a weighted area of ​​89 m2, a mezzanine of 21 m2 and two balconies totaling 12 m2. In very good condition, recent, with fittings and quality materials, it offers a pleasant typology and is composed as follows: The day area accommodates: - a hall/clearance with an integrated wardrobe with a washing column - a spacious living room with a large bay window opening onto a first balcony of 9 m2 facing south- a beautiful modern fully equipped and fitted kitchen open to the living roomThe sleeping area offers:- a master bedroom with a built-in wardrobe opening onto a second balcony of 3 m2 at sunrise - a second bedroom with a built-in wardrobe - a shower room with WC, washbasin with its washbasin unit and a window - a guest WC equipped with a washbasin with its washbasin unitCombles: - a 21 m2 mezzanine that can accommodate an office or any other choice of the lessee Annexes: - a private cellar - a common laundry room with a private wardrobe - 2 indoor parking spaces in the underground car park with direct access to the building at CH F 60,000.- in addition to the sale price Price of the apartment: CHF 535,000.-Price for 2 indoor parking spaces: CHF 60,000.-Total sale price: CHF 595,000.-At your service :The outcome of your project will obviously go through the search for funding. Having at heart to accompany you until the realization of your dream, it is with pleasure that we offer you the services of our partner in terms of mortgage financing, the company HYPO Conseils SA. A team of specialists who will develop personalized solutions allowing you to benefit from tailor-made support, from the search for credit to the signing of your future financing contracts. And if your solution was outside the framework...HYPO Advice SAAvenue du Clos d'Aubonne 91814 La Tour-de-Peilzsh@hypoconseils.ch021/977.22.11www.hypoconseils.chVisite:Michel Lonardo_+41 21 977 22 00_\n",
            "131168 Spacious goods storage in a very central area, 2 min from the motorway. Convenient access for vehicles, access ramp, hoist, hydraulic lift, services, excellent lighting, floor -1. Free from 01.05 or according to agreement. For visits contact Gabriele on 079 812 09 38.\n",
            "131169 Pure relaxation in the Unesco Biosphere in Escholzmatt. The Mooshof with one to four room apartments is sunny and centrally located. Shops for daily needs and schools can be reached on foot in just 5 minutes. Hiking in summer and skiing in winter are just two of the advantages of this preferred residential area. With the well-developed public transport system, you can also easily reach the cities of Lucerne and Berne by train. Arrange an appointment today.\n",
            "131170 Large chalet in the Vaudois Prealps. 15 rooms.Terrace 100m2Balcony 40m2Plot 6,500m22 levels on ground levelOutdoor parking for 6 placesYear of construction 1988 well maintained.Possibilities: 2 or 3 apartments; restaurant + rooms; family or commercial chalet.\n",
            "131171 - bright and friendly rooms - parquet and flagstone floors - bath/toilet and shower/toilet - entrée with wall cupboards - large, sunny balcony - cellar compartment/bicycle room - elevator in the stairwell - standard of ownership - shopping facilities and public transport nearby\n"
          ]
        }
      ],
      "source": [
        "for i in range(150000, 200000):\n",
        "  data['transDescription'][i] = translate(data['adDescription'][i][:4999])\n",
        "  print(i, data['transDescription'][i])\n",
        "\n",
        "  data.loc[[i]].to_csv('drive/MyDrive/trans_150000.csv', mode='a', index=False, header=False)"
      ]
    },
    {
      "cell_type": "code",
      "execution_count": null,
      "metadata": {
        "id": "WGtBVBlQ8GXc"
      },
      "outputs": [],
      "source": [
        "stop"
      ]
    },
    {
      "cell_type": "code",
      "execution_count": null,
      "metadata": {
        "id": "680hHMpY3DMf"
      },
      "outputs": [],
      "source": [
        "data.loc[[100002]]"
      ]
    },
    {
      "cell_type": "code",
      "execution_count": null,
      "metadata": {
        "id": "0Cv3Pz0U8GXe"
      },
      "outputs": [],
      "source": [
        "his = 'Sitzplatz 1Estrich 1Carport 2Aussenstellplätze 4Stall PferdestallAnzahl 6 PferdeAnzahl 6 PonyWirtschaftsraum für FuttermittelSattekammerReitplatz 33 mx18 m mit / Stall Auf AnfrageGrundstücksfläche 10998 m² * Auf Anfrage (Ackerland)PACHTGrundstücksfläche'"
      ]
    },
    {
      "cell_type": "code",
      "execution_count": null,
      "metadata": {
        "id": "jRZ7CGP08GXi"
      },
      "outputs": [],
      "source": [
        "his[:5]"
      ]
    },
    {
      "cell_type": "code",
      "execution_count": null,
      "metadata": {
        "id": "zfnes96r8GXl"
      },
      "outputs": [],
      "source": [
        "len(str('Sind Sie auf der Suche nach einer Liegenschaft, in welcher Sie komfortabel Wohnen, Arbeiten und Ihr Hobby kombinieren können?Ist Ihnen eine sonnige und ruhige Lage wichtig?Dann könnte dieses stattliche Einfamilienhaus mit separatem Pferdestallgebäude bald Ihr neues Zuhause sein auf einer Grundstücksfläche von 6'004 m2.Die grosszügig, offen und mit fliessenden Übergängen konzipierte Wohnliegenschaft besticht durch ein geräumiges, gut durchdachtes und zeitgemässes Grundrisskonzept mit einigen Extras.Das Entrée zum 6½ Zimmer Einfamilienhaus befindet sich Parterre. Dieses beinhaltet eine bestens ausgestattete, grosse Küche mit Granitabdeckung, ein offener Essplatz mit angrenzendem Wohnbereich mit schönem Schwedenofen für gemütliche Stunden an nassen Tagen.Auf einer Wohnfläche von 230 m2, die sich auf zwei Etagen und 6½ Zimmer verteilt, schaffen hohe Decken und Dachschrägen, helle Materialien und viel Licht ein leichtes, aber warmes Ambiente.Fenstertüren bei Küche und Wohnraum öffnen den überdachten Sitzplatz und das Gartenreich, wo Ihnen dank optimaler Ausrichtung Sonnenschein bis in die Abendstunden sicher ist.Ein zusätzliches Zimmer im Erdgeschoss gewähren Ruhe und persönlichen Rückzug. Ein Wirtschaftsraum, Technikraum und ein Badezimmer mit Dusche, Lavabo und WC sind praktisch angeordnet.Über eine massive Holztreppe gelangen Sie ins Obergeschoss. Hier befinden sich vier Zimmer, Badezimmer mit Tageslicht Badewanne/Dusche. Ein weiterer Wirtschaftsraum und Zugang zum isolierten Estrich mit Dachschrägen sind im 1. OG untergebracht.Mittels separatem aussen Eingang gelangt man in einen weiteren Wirtschaftsraum mit Dusche, Lavabo und WC.Der angebaute Carport bietet Platz für 2 Autos und beinhaltet den gedeckten Eingang.Stallungen6 Auslauf-Boxen (14m2) mit direktem Zugang zur Wiese1 Freilaufstall für 6 Ponys mit direktem Zugang zur WieseStauraum für Futtermittel1 Sattelkammer1 beleuchtbaren Reitplatz (33m x 18m)1,1ha AckerlandDie 100 m entfernten Wald- und Feldwege sind mit Pferden und Kutschen zugänglich.Ein Objektbeschrieb kann nie abschliessend sein.Für eine Besichtigung stehe ich Ihnen jederzeit gerne zur Verfügung.Ich freue mich auf Ihre Kontaktaufnahme.Maison familiale de 61/2 pièces avec écurie pour chevaux et présDescription de la propriétéÊtes-vous à la recherche d`une propriété dans laquelle vous pouvez vivre confortablement, travailler et vous ressourcer dans vos temps libre?Cette maison individuelle, située dans un endroit ensoleillé de 6004m2,avec une écurie de chevaux séparée, pourrait devenir votre nouveau chez-vous.Ce beau bâtiment lumineux et conçu pour une utilisation pratique. Vous serez séduits par un plan de construction bien réfléchi, spacieux et contemporain avec quelques originalités.La surface habitable est de 230m2 répartie sur deux étages. La maison bénéficie de hauts plafonds avec une belle inclinaison et des matériaux clairs qui créent une ambiance douce.L`entrée de la maison de 6.5 pièces est au rez-de-chaussée. On y trouve une cuisine avec un revêtement en granit et complètementéquipée. La salle à manger est ouvert sur le salon, muni d`un joli poêle suédois pour passer des heures agréables.Des portes-fenêtres dans la cuisine et le salon vous donnent accès à la terrasse couverte et au jardin, où vous pouvez profiter du soleil jusqu'au soir grâce à une orientation optimale.Une grande chambre, un économat, un local technique, une salle d`eau avec douche italienne, lavabo et WC sont judicieusement disposés.Un escalier en bois massif vous mènera à l`étage supérieur. Ici vous trouverez quatre chambres, une salle de bain équipée d`une douche, lavabo et toilette et un réduit. On accède au grenier isolé à travers une trappe.Une 3ème salle d`eau avec douche, lavabo et WC est accessible seulement par l`extérieur.Le couvert offre de la place pour deux véhicules.Description de l` écurie:L'écurie comprend:six boxes-terrasse de 14m2 avec accès directe au présune stabulation libre pour six poneys avec accès directe au présun espace de stockage pour le fourrageune sellerieun carré de sable de 33m X 18m avec éclairageprés de 1,1ha agricoleA 100m la forêt vous attend avec ses magnifiques chemins qui sont accessibles à cheval et en attelage.reseau equestre a proximité.Une description de l`objet ne peut jamais être totalement complète.Pour cela je suis disponible pour une visite à tout moment.Je me réjouis de votre prise de contact.ALLGEMEINE INFORMATIONENHaus 6½ Zimmer EinfamilienhausBaujahr2011Verfügbar nach AbspracheAnzahl Badezimmer 3Toilette 3Wohnfläche ca.229 m²Kubatur1'195 m³Grundstücksfläche 6'004 m² (Bauland)HEIZUNGHeizungsart ErdsondenheizungBefeuerung BodenheizungKamin SchwedenofenAUSSTATTUNGWirtschaftsraum 2Gedeckter Sitzplatz 1Estrich 1Carport 2Aussenstellplätze 4Stall PferdestallAnzahl 6 PferdeAnzahl 6 PonyWirtschaftsraum für FuttermittelSattekammerReitplatz 33 mx18 m mit BeleuchtungKAUFPREISEinfamilienhaus / Stall Auf AnfrageGrundstücksfläche 10'998 m² * Auf Anfrage (Ackerland)PACHTGrundstücksfläche 10'998m² Auf Anfrage*Bundesgesetz über das bäuerliche BodenrechtDas Bundesgesetz über das bäuerliche Bodenrecht \"regelt den Rechtsverkehr mit landwirtschaftlichem Boden. Es enthält Bestimmungen darüber, wer unter welchen Voraussetzungen landwirtschaftliche Gewerbe und Grundstücke erwerben darf; es beschränkt deren Verpfändung, Teilung und Zerstückelung\".Inkrafttreten der letzten Änderung: 1. September 2008I'))"
      ]
    },
    {
      "cell_type": "code",
      "execution_count": null,
      "metadata": {
        "id": "NgPkv8bP8GXo"
      },
      "outputs": [],
      "source": [
        "import functools\n",
        "from functools import reduce\n",
        "\n",
        "def count(characters):\n",
        "    return reduce(reducer, map(lambda char: dict([[char, 1]]), characters))\n",
        "    \n",
        "def reducer(i, j):\n",
        "    for k in j: i[k] = i.get(k, 0) + j.get(k, 0)\n",
        "    return i\n",
        "\n",
        "print (count('testing yeah it works'))"
      ]
    },
    {
      "cell_type": "code",
      "execution_count": null,
      "metadata": {
        "id": "Vz32-pAa8GXq"
      },
      "outputs": [],
      "source": [
        ""
      ]
    },
    {
      "cell_type": "code",
      "execution_count": null,
      "metadata": {
        "id": "cidDILgc8GXs"
      },
      "outputs": [],
      "source": [
        "\"\"\"for i in range(len(data)):\n",
        "    trans = translate(data['adDescription'].loc[i], data['adLangDetected'].loc[i])\n",
        "    adLangTranslated.append(trans)\"\"\""
      ]
    },
    {
      "cell_type": "code",
      "execution_count": null,
      "metadata": {
        "id": "ECY3WW9u8GXu"
      },
      "outputs": [],
      "source": [
        "#remove html tags in the description column\n",
        "#df['ad'] = df['Grade'].str.replace('%', '')"
      ]
    }
  ],
  "metadata": {
    "colab": {
      "name": "150000-200000 houselangtrans.ipynb",
      "provenance": [],
      "include_colab_link": true
    },
    "kernelspec": {
      "display_name": "Python 3",
      "language": "python",
      "name": "python3"
    },
    "language_info": {
      "codemirror_mode": {
        "name": "ipython",
        "version": 3
      },
      "file_extension": ".py",
      "mimetype": "text/x-python",
      "name": "python",
      "nbconvert_exporter": "python",
      "pygments_lexer": "ipython3",
      "version": "3.7.12"
    }
  },
  "nbformat": 4,
  "nbformat_minor": 0
}