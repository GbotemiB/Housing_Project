{
  "cells": [
    {
      "cell_type": "markdown",
      "metadata": {
        "id": "view-in-github",
        "colab_type": "text"
      },
      "source": [
        "<a href=\"https://colab.research.google.com/github/GbotemiB/Housing_Project/blob/main/150000_200000_houselangtrans.ipynb\" target=\"_parent\"><img src=\"https://colab.research.google.com/assets/colab-badge.svg\" alt=\"Open In Colab\"/></a>"
      ]
    },
    {
      "cell_type": "markdown",
      "source": [
        "#This notebook was used to translate the adDescription column to english"
      ],
      "metadata": {
        "id": "Vs98DFumQwcP"
      }
    },
    {
      "cell_type": "code",
      "execution_count": null,
      "metadata": {
        "id": "HYERxWQf8GUY"
      },
      "outputs": [],
      "source": [
        "# This Python 3 environment comes with many helpful analytics libraries installed\n",
        "# It is defined by the kaggle/python Docker image: https://github.com/kaggle/docker-python\n",
        "# For example, here's several helpful packages to load\n",
        "\n",
        "import numpy as np # linear algebra\n",
        "import pandas as pd # data processing, CSV file I/O (e.g. pd.read_csv)\n",
        "import seaborn as sns\n",
        "import matplotlib.pyplot as plt\n",
        "\n",
        "pd.set_option('display.max_columns', None)\n",
        "#pd.set_option('display.max_rows', None)\n",
        "pd.options.display.float_format = '{:.5f}'.format\n",
        "%matplotlib inline\n",
        "import warnings\n",
        "warnings.filterwarnings('ignore')\n",
        "\n",
        "# Input data files are available in the read-only \"../input/\" directory\n",
        "# For example, running this (by clicking run or pressing Shift+Enter) will list all files under the input directory\n",
        "\n",
        "import os\n",
        "for dirname, _, filenames in os.walk('/kaggle/input'):\n",
        "    for filename in filenames:\n",
        "        print(os.path.join(dirname, filename))\n",
        "        \n",
        "\n",
        "# You can write up to 20GB to the current directory (/kaggle/working/) that gets preserved as output when you create a version using \"Save & Run All\" \n",
        "# You can also write temporary files to /kaggle/temp/, but they won't be saved outside of the current session"
      ]
    },
    {
      "cell_type": "code",
      "execution_count": null,
      "metadata": {
        "id": "WNaBVYb6w4x2",
        "colab": {
          "base_uri": "https://localhost:8080/"
        },
        "outputId": "24eb15d6-4a6c-4769-8a85-56ac47b91dcd"
      },
      "outputs": [
        {
          "output_type": "stream",
          "name": "stdout",
          "text": [
            "Mounted at /content/drive\n"
          ]
        }
      ],
      "source": [
        "from google.colab import drive\n",
        "drive.mount('/content/drive')"
      ]
    },
    {
      "cell_type": "code",
      "execution_count": null,
      "metadata": {
        "colab": {
          "base_uri": "https://localhost:8080/"
        },
        "id": "yS3uPfUF9-bj",
        "outputId": "8fed273b-4ee5-4dcd-c137-06d1adba85ab"
      },
      "outputs": [
        {
          "output_type": "stream",
          "name": "stdout",
          "text": [
            "Requirement already satisfied: kaggle in /usr/local/lib/python3.7/dist-packages (1.5.12)\n",
            "Requirement already satisfied: tqdm in /usr/local/lib/python3.7/dist-packages (from kaggle) (4.63.0)\n",
            "Requirement already satisfied: python-dateutil in /usr/local/lib/python3.7/dist-packages (from kaggle) (2.8.2)\n",
            "Requirement already satisfied: requests in /usr/local/lib/python3.7/dist-packages (from kaggle) (2.23.0)\n",
            "Requirement already satisfied: python-slugify in /usr/local/lib/python3.7/dist-packages (from kaggle) (6.1.1)\n",
            "Requirement already satisfied: six>=1.10 in /usr/local/lib/python3.7/dist-packages (from kaggle) (1.15.0)\n",
            "Requirement already satisfied: certifi in /usr/local/lib/python3.7/dist-packages (from kaggle) (2021.10.8)\n",
            "Requirement already satisfied: urllib3 in /usr/local/lib/python3.7/dist-packages (from kaggle) (1.24.3)\n",
            "Requirement already satisfied: text-unidecode>=1.3 in /usr/local/lib/python3.7/dist-packages (from python-slugify->kaggle) (1.3)\n",
            "Requirement already satisfied: chardet<4,>=3.0.2 in /usr/local/lib/python3.7/dist-packages (from requests->kaggle) (3.0.4)\n",
            "Requirement already satisfied: idna<3,>=2.5 in /usr/local/lib/python3.7/dist-packages (from requests->kaggle) (2.10)\n"
          ]
        }
      ],
      "source": [
        "! pip install kaggle\n",
        "! mkdir ~/.kaggle\n",
        "! cp /content/drive/MyDrive/kaggle.json ~/.kaggle/\n",
        "! chmod 600 ~/.kaggle/kaggle.json"
      ]
    },
    {
      "cell_type": "code",
      "execution_count": null,
      "metadata": {
        "colab": {
          "base_uri": "https://localhost:8080/"
        },
        "id": "0Y8Zx8_L-L6o",
        "outputId": "c297a1d2-d78c-46bd-b880-5a28ab54b5b8"
      },
      "outputs": [
        {
          "output_type": "stream",
          "name": "stdout",
          "text": [
            "Downloading housing-lang-detect.zip to /content\n",
            " 95% 212M/222M [00:08<00:00, 41.3MB/s]\n",
            "100% 222M/222M [00:08<00:00, 28.3MB/s]\n"
          ]
        }
      ],
      "source": [
        "! kaggle datasets download gbotemibolarinwa/housing-lang-detect"
      ]
    },
    {
      "cell_type": "code",
      "execution_count": null,
      "metadata": {
        "colab": {
          "base_uri": "https://localhost:8080/"
        },
        "id": "553kD53s_Esc",
        "outputId": "0e8bf7ee-215e-4f21-a0d7-d6945fcb8d5c"
      },
      "outputs": [
        {
          "output_type": "stream",
          "name": "stdout",
          "text": [
            "Archive:  housing-lang-detect.zip\n",
            "  inflating: housing_lang.csv        \n"
          ]
        }
      ],
      "source": [
        "!unzip housing-lang-detect.zip"
      ]
    },
    {
      "cell_type": "code",
      "execution_count": null,
      "metadata": {
        "id": "_aJavMlf8GUx"
      },
      "outputs": [],
      "source": [
        "#!pip install openpyxl"
      ]
    },
    {
      "cell_type": "code",
      "execution_count": null,
      "metadata": {
        "id": "dGlpDK6O8GU4"
      },
      "outputs": [],
      "source": [
        "data = pd.read_csv('housing_lang.csv')"
      ]
    },
    {
      "cell_type": "code",
      "execution_count": null,
      "metadata": {
        "colab": {
          "base_uri": "https://localhost:8080/",
          "height": 206
        },
        "id": "mr8Nwqv_8GVA",
        "outputId": "0c426a95-4981-4677-d013-fc30287845a4"
      },
      "outputs": [
        {
          "output_type": "execute_result",
          "data": {
            "text/plain": [
              "  Unnamed: 0    adAvailableDate  \\\n",
              "0          0      not available   \n",
              "1          1  nach Vereinbarung   \n",
              "2          2             sofort   \n",
              "3          3             sofort   \n",
              "4          4             sofort   \n",
              "\n",
              "                                       adDescription adLangDetected  \n",
              "0  Appartement avec beaucoup de charme à louer à ...             fr  \n",
              "1  Die Highlights:<br />» Gut geschnittener Büror...             de  \n",
              "2  Für diese Wohnung suchen wir ein nettes Paar (...             de  \n",
              "3  <h3>Chiasso</h3><p><p>Si affitta in pieno a ce...             it  \n",
              "4  Attico mansardato, posto in elegante palazzina...             it  "
            ],
            "text/html": [
              "\n",
              "  <div id=\"df-c0871ca3-7545-4d5e-b1ee-a8215668105e\">\n",
              "    <div class=\"colab-df-container\">\n",
              "      <div>\n",
              "<style scoped>\n",
              "    .dataframe tbody tr th:only-of-type {\n",
              "        vertical-align: middle;\n",
              "    }\n",
              "\n",
              "    .dataframe tbody tr th {\n",
              "        vertical-align: top;\n",
              "    }\n",
              "\n",
              "    .dataframe thead th {\n",
              "        text-align: right;\n",
              "    }\n",
              "</style>\n",
              "<table border=\"1\" class=\"dataframe\">\n",
              "  <thead>\n",
              "    <tr style=\"text-align: right;\">\n",
              "      <th></th>\n",
              "      <th>Unnamed: 0</th>\n",
              "      <th>adAvailableDate</th>\n",
              "      <th>adDescription</th>\n",
              "      <th>adLangDetected</th>\n",
              "    </tr>\n",
              "  </thead>\n",
              "  <tbody>\n",
              "    <tr>\n",
              "      <th>0</th>\n",
              "      <td>0</td>\n",
              "      <td>not available</td>\n",
              "      <td>Appartement avec beaucoup de charme à louer à ...</td>\n",
              "      <td>fr</td>\n",
              "    </tr>\n",
              "    <tr>\n",
              "      <th>1</th>\n",
              "      <td>1</td>\n",
              "      <td>nach Vereinbarung</td>\n",
              "      <td>Die Highlights:&lt;br /&gt;» Gut geschnittener Büror...</td>\n",
              "      <td>de</td>\n",
              "    </tr>\n",
              "    <tr>\n",
              "      <th>2</th>\n",
              "      <td>2</td>\n",
              "      <td>sofort</td>\n",
              "      <td>Für diese Wohnung suchen wir ein nettes Paar (...</td>\n",
              "      <td>de</td>\n",
              "    </tr>\n",
              "    <tr>\n",
              "      <th>3</th>\n",
              "      <td>3</td>\n",
              "      <td>sofort</td>\n",
              "      <td>&lt;h3&gt;Chiasso&lt;/h3&gt;&lt;p&gt;&lt;p&gt;Si affitta in pieno a ce...</td>\n",
              "      <td>it</td>\n",
              "    </tr>\n",
              "    <tr>\n",
              "      <th>4</th>\n",
              "      <td>4</td>\n",
              "      <td>sofort</td>\n",
              "      <td>Attico mansardato, posto in elegante palazzina...</td>\n",
              "      <td>it</td>\n",
              "    </tr>\n",
              "  </tbody>\n",
              "</table>\n",
              "</div>\n",
              "      <button class=\"colab-df-convert\" onclick=\"convertToInteractive('df-c0871ca3-7545-4d5e-b1ee-a8215668105e')\"\n",
              "              title=\"Convert this dataframe to an interactive table.\"\n",
              "              style=\"display:none;\">\n",
              "        \n",
              "  <svg xmlns=\"http://www.w3.org/2000/svg\" height=\"24px\"viewBox=\"0 0 24 24\"\n",
              "       width=\"24px\">\n",
              "    <path d=\"M0 0h24v24H0V0z\" fill=\"none\"/>\n",
              "    <path d=\"M18.56 5.44l.94 2.06.94-2.06 2.06-.94-2.06-.94-.94-2.06-.94 2.06-2.06.94zm-11 1L8.5 8.5l.94-2.06 2.06-.94-2.06-.94L8.5 2.5l-.94 2.06-2.06.94zm10 10l.94 2.06.94-2.06 2.06-.94-2.06-.94-.94-2.06-.94 2.06-2.06.94z\"/><path d=\"M17.41 7.96l-1.37-1.37c-.4-.4-.92-.59-1.43-.59-.52 0-1.04.2-1.43.59L10.3 9.45l-7.72 7.72c-.78.78-.78 2.05 0 2.83L4 21.41c.39.39.9.59 1.41.59.51 0 1.02-.2 1.41-.59l7.78-7.78 2.81-2.81c.8-.78.8-2.07 0-2.86zM5.41 20L4 18.59l7.72-7.72 1.47 1.35L5.41 20z\"/>\n",
              "  </svg>\n",
              "      </button>\n",
              "      \n",
              "  <style>\n",
              "    .colab-df-container {\n",
              "      display:flex;\n",
              "      flex-wrap:wrap;\n",
              "      gap: 12px;\n",
              "    }\n",
              "\n",
              "    .colab-df-convert {\n",
              "      background-color: #E8F0FE;\n",
              "      border: none;\n",
              "      border-radius: 50%;\n",
              "      cursor: pointer;\n",
              "      display: none;\n",
              "      fill: #1967D2;\n",
              "      height: 32px;\n",
              "      padding: 0 0 0 0;\n",
              "      width: 32px;\n",
              "    }\n",
              "\n",
              "    .colab-df-convert:hover {\n",
              "      background-color: #E2EBFA;\n",
              "      box-shadow: 0px 1px 2px rgba(60, 64, 67, 0.3), 0px 1px 3px 1px rgba(60, 64, 67, 0.15);\n",
              "      fill: #174EA6;\n",
              "    }\n",
              "\n",
              "    [theme=dark] .colab-df-convert {\n",
              "      background-color: #3B4455;\n",
              "      fill: #D2E3FC;\n",
              "    }\n",
              "\n",
              "    [theme=dark] .colab-df-convert:hover {\n",
              "      background-color: #434B5C;\n",
              "      box-shadow: 0px 1px 3px 1px rgba(0, 0, 0, 0.15);\n",
              "      filter: drop-shadow(0px 1px 2px rgba(0, 0, 0, 0.3));\n",
              "      fill: #FFFFFF;\n",
              "    }\n",
              "  </style>\n",
              "\n",
              "      <script>\n",
              "        const buttonEl =\n",
              "          document.querySelector('#df-c0871ca3-7545-4d5e-b1ee-a8215668105e button.colab-df-convert');\n",
              "        buttonEl.style.display =\n",
              "          google.colab.kernel.accessAllowed ? 'block' : 'none';\n",
              "\n",
              "        async function convertToInteractive(key) {\n",
              "          const element = document.querySelector('#df-c0871ca3-7545-4d5e-b1ee-a8215668105e');\n",
              "          const dataTable =\n",
              "            await google.colab.kernel.invokeFunction('convertToInteractive',\n",
              "                                                     [key], {});\n",
              "          if (!dataTable) return;\n",
              "\n",
              "          const docLinkHtml = 'Like what you see? Visit the ' +\n",
              "            '<a target=\"_blank\" href=https://colab.research.google.com/notebooks/data_table.ipynb>data table notebook</a>'\n",
              "            + ' to learn more about interactive tables.';\n",
              "          element.innerHTML = '';\n",
              "          dataTable['output_type'] = 'display_data';\n",
              "          await google.colab.output.renderOutput(dataTable, element);\n",
              "          const docLink = document.createElement('div');\n",
              "          docLink.innerHTML = docLinkHtml;\n",
              "          element.appendChild(docLink);\n",
              "        }\n",
              "      </script>\n",
              "    </div>\n",
              "  </div>\n",
              "  "
            ]
          },
          "metadata": {},
          "execution_count": 8
        }
      ],
      "source": [
        "data.head()\n"
      ]
    },
    {
      "cell_type": "code",
      "execution_count": null,
      "metadata": {
        "id": "c-JPFzxK8GVI"
      },
      "outputs": [],
      "source": [
        "data.rename(columns = {'Unnamed: 0':'id'}, inplace=True)"
      ]
    },
    {
      "cell_type": "code",
      "execution_count": null,
      "metadata": {
        "colab": {
          "base_uri": "https://localhost:8080/",
          "height": 206
        },
        "id": "K6jLi50N8GVO",
        "outputId": "e2a691a0-4477-43e9-eb04-2b931dd3225b"
      },
      "outputs": [
        {
          "output_type": "execute_result",
          "data": {
            "text/plain": [
              "  id    adAvailableDate                                      adDescription  \\\n",
              "0  0      not available  Appartement avec beaucoup de charme à louer à ...   \n",
              "1  1  nach Vereinbarung  Die Highlights:<br />» Gut geschnittener Büror...   \n",
              "2  2             sofort  Für diese Wohnung suchen wir ein nettes Paar (...   \n",
              "3  3             sofort  <h3>Chiasso</h3><p><p>Si affitta in pieno a ce...   \n",
              "4  4             sofort  Attico mansardato, posto in elegante palazzina...   \n",
              "\n",
              "  adLangDetected  \n",
              "0             fr  \n",
              "1             de  \n",
              "2             de  \n",
              "3             it  \n",
              "4             it  "
            ],
            "text/html": [
              "\n",
              "  <div id=\"df-057308da-4c96-4793-a939-dfca0453ff79\">\n",
              "    <div class=\"colab-df-container\">\n",
              "      <div>\n",
              "<style scoped>\n",
              "    .dataframe tbody tr th:only-of-type {\n",
              "        vertical-align: middle;\n",
              "    }\n",
              "\n",
              "    .dataframe tbody tr th {\n",
              "        vertical-align: top;\n",
              "    }\n",
              "\n",
              "    .dataframe thead th {\n",
              "        text-align: right;\n",
              "    }\n",
              "</style>\n",
              "<table border=\"1\" class=\"dataframe\">\n",
              "  <thead>\n",
              "    <tr style=\"text-align: right;\">\n",
              "      <th></th>\n",
              "      <th>id</th>\n",
              "      <th>adAvailableDate</th>\n",
              "      <th>adDescription</th>\n",
              "      <th>adLangDetected</th>\n",
              "    </tr>\n",
              "  </thead>\n",
              "  <tbody>\n",
              "    <tr>\n",
              "      <th>0</th>\n",
              "      <td>0</td>\n",
              "      <td>not available</td>\n",
              "      <td>Appartement avec beaucoup de charme à louer à ...</td>\n",
              "      <td>fr</td>\n",
              "    </tr>\n",
              "    <tr>\n",
              "      <th>1</th>\n",
              "      <td>1</td>\n",
              "      <td>nach Vereinbarung</td>\n",
              "      <td>Die Highlights:&lt;br /&gt;» Gut geschnittener Büror...</td>\n",
              "      <td>de</td>\n",
              "    </tr>\n",
              "    <tr>\n",
              "      <th>2</th>\n",
              "      <td>2</td>\n",
              "      <td>sofort</td>\n",
              "      <td>Für diese Wohnung suchen wir ein nettes Paar (...</td>\n",
              "      <td>de</td>\n",
              "    </tr>\n",
              "    <tr>\n",
              "      <th>3</th>\n",
              "      <td>3</td>\n",
              "      <td>sofort</td>\n",
              "      <td>&lt;h3&gt;Chiasso&lt;/h3&gt;&lt;p&gt;&lt;p&gt;Si affitta in pieno a ce...</td>\n",
              "      <td>it</td>\n",
              "    </tr>\n",
              "    <tr>\n",
              "      <th>4</th>\n",
              "      <td>4</td>\n",
              "      <td>sofort</td>\n",
              "      <td>Attico mansardato, posto in elegante palazzina...</td>\n",
              "      <td>it</td>\n",
              "    </tr>\n",
              "  </tbody>\n",
              "</table>\n",
              "</div>\n",
              "      <button class=\"colab-df-convert\" onclick=\"convertToInteractive('df-057308da-4c96-4793-a939-dfca0453ff79')\"\n",
              "              title=\"Convert this dataframe to an interactive table.\"\n",
              "              style=\"display:none;\">\n",
              "        \n",
              "  <svg xmlns=\"http://www.w3.org/2000/svg\" height=\"24px\"viewBox=\"0 0 24 24\"\n",
              "       width=\"24px\">\n",
              "    <path d=\"M0 0h24v24H0V0z\" fill=\"none\"/>\n",
              "    <path d=\"M18.56 5.44l.94 2.06.94-2.06 2.06-.94-2.06-.94-.94-2.06-.94 2.06-2.06.94zm-11 1L8.5 8.5l.94-2.06 2.06-.94-2.06-.94L8.5 2.5l-.94 2.06-2.06.94zm10 10l.94 2.06.94-2.06 2.06-.94-2.06-.94-.94-2.06-.94 2.06-2.06.94z\"/><path d=\"M17.41 7.96l-1.37-1.37c-.4-.4-.92-.59-1.43-.59-.52 0-1.04.2-1.43.59L10.3 9.45l-7.72 7.72c-.78.78-.78 2.05 0 2.83L4 21.41c.39.39.9.59 1.41.59.51 0 1.02-.2 1.41-.59l7.78-7.78 2.81-2.81c.8-.78.8-2.07 0-2.86zM5.41 20L4 18.59l7.72-7.72 1.47 1.35L5.41 20z\"/>\n",
              "  </svg>\n",
              "      </button>\n",
              "      \n",
              "  <style>\n",
              "    .colab-df-container {\n",
              "      display:flex;\n",
              "      flex-wrap:wrap;\n",
              "      gap: 12px;\n",
              "    }\n",
              "\n",
              "    .colab-df-convert {\n",
              "      background-color: #E8F0FE;\n",
              "      border: none;\n",
              "      border-radius: 50%;\n",
              "      cursor: pointer;\n",
              "      display: none;\n",
              "      fill: #1967D2;\n",
              "      height: 32px;\n",
              "      padding: 0 0 0 0;\n",
              "      width: 32px;\n",
              "    }\n",
              "\n",
              "    .colab-df-convert:hover {\n",
              "      background-color: #E2EBFA;\n",
              "      box-shadow: 0px 1px 2px rgba(60, 64, 67, 0.3), 0px 1px 3px 1px rgba(60, 64, 67, 0.15);\n",
              "      fill: #174EA6;\n",
              "    }\n",
              "\n",
              "    [theme=dark] .colab-df-convert {\n",
              "      background-color: #3B4455;\n",
              "      fill: #D2E3FC;\n",
              "    }\n",
              "\n",
              "    [theme=dark] .colab-df-convert:hover {\n",
              "      background-color: #434B5C;\n",
              "      box-shadow: 0px 1px 3px 1px rgba(0, 0, 0, 0.15);\n",
              "      filter: drop-shadow(0px 1px 2px rgba(0, 0, 0, 0.3));\n",
              "      fill: #FFFFFF;\n",
              "    }\n",
              "  </style>\n",
              "\n",
              "      <script>\n",
              "        const buttonEl =\n",
              "          document.querySelector('#df-057308da-4c96-4793-a939-dfca0453ff79 button.colab-df-convert');\n",
              "        buttonEl.style.display =\n",
              "          google.colab.kernel.accessAllowed ? 'block' : 'none';\n",
              "\n",
              "        async function convertToInteractive(key) {\n",
              "          const element = document.querySelector('#df-057308da-4c96-4793-a939-dfca0453ff79');\n",
              "          const dataTable =\n",
              "            await google.colab.kernel.invokeFunction('convertToInteractive',\n",
              "                                                     [key], {});\n",
              "          if (!dataTable) return;\n",
              "\n",
              "          const docLinkHtml = 'Like what you see? Visit the ' +\n",
              "            '<a target=\"_blank\" href=https://colab.research.google.com/notebooks/data_table.ipynb>data table notebook</a>'\n",
              "            + ' to learn more about interactive tables.';\n",
              "          element.innerHTML = '';\n",
              "          dataTable['output_type'] = 'display_data';\n",
              "          await google.colab.output.renderOutput(dataTable, element);\n",
              "          const docLink = document.createElement('div');\n",
              "          docLink.innerHTML = docLinkHtml;\n",
              "          element.appendChild(docLink);\n",
              "        }\n",
              "      </script>\n",
              "    </div>\n",
              "  </div>\n",
              "  "
            ]
          },
          "metadata": {},
          "execution_count": 10
        }
      ],
      "source": [
        "data.head()"
      ]
    },
    {
      "cell_type": "code",
      "execution_count": null,
      "metadata": {
        "colab": {
          "base_uri": "https://localhost:8080/"
        },
        "id": "7804iar18GVT",
        "outputId": "77ac8341-6269-4ebd-8bc2-13026ddf7789"
      },
      "outputs": [
        {
          "output_type": "execute_result",
          "data": {
            "text/plain": [
              "id                     0\n",
              "adAvailableDate    19645\n",
              "adDescription      28001\n",
              "adLangDetected     28913\n",
              "dtype: int64"
            ]
          },
          "metadata": {},
          "execution_count": 11
        }
      ],
      "source": [
        "#there seems to be some missing values \n",
        "data.isnull().sum()"
      ]
    },
    {
      "cell_type": "code",
      "execution_count": null,
      "metadata": {
        "id": "-i_EecIZ8GVY"
      },
      "outputs": [],
      "source": [
        ""
      ]
    },
    {
      "cell_type": "code",
      "execution_count": null,
      "metadata": {
        "colab": {
          "base_uri": "https://localhost:8080/",
          "height": 609
        },
        "id": "zP7TCrkZ8GVd",
        "outputId": "27c1722f-26f6-436c-e4cc-73c839eb0587"
      },
      "outputs": [
        {
          "output_type": "display_data",
          "data": {
            "text/plain": [
              "<Figure size 648x720 with 1 Axes>"
            ],
            "image/png": "[encoded data removed]"
          },
          "metadata": {
            "needs_background": "light"
          }
        }
      ],
      "source": [
        "ax = data.isna().sum().sort_values().plot(kind = 'barh', figsize = (9, 10))\n",
        "plt.title('Percentage of Missing Values Per Column Dataset', fontdict={'size':15})\n",
        "for p in ax.patches:\n",
        "    percentage ='{:,.0f}%'.format((p.get_width()/data.shape[0])*100)\n",
        "    width, height =p.get_width(),p.get_height()\n",
        "    x=p.get_x()+width+0.02\n",
        "    y=p.get_y()+height/2\n",
        "    ax.annotate(percentage,(x,y))"
      ]
    },
    {
      "cell_type": "code",
      "execution_count": null,
      "metadata": {
        "colab": {
          "base_uri": "https://localhost:8080/"
        },
        "id": "UBNAPxpO8GVo",
        "outputId": "192e6d8d-83f0-4183-f441-495565f0e5c5"
      },
      "outputs": [
        {
          "output_type": "execute_result",
          "data": {
            "text/plain": [
              "Index(['id', 'adAvailableDate', 'adDescription', 'adLangDetected'], dtype='object')"
            ]
          },
          "metadata": {},
          "execution_count": 13
        }
      ],
      "source": [
        "data.columns"
      ]
    },
    {
      "cell_type": "code",
      "execution_count": null,
      "metadata": {
        "id": "YSv2S5eO8GVt"
      },
      "outputs": [],
      "source": [
        "langDetected, Description, AvailableData = data['adAvailableDate'], data['adDescription'], data['adLangDetected']"
      ]
    },
    {
      "cell_type": "code",
      "execution_count": null,
      "metadata": {
        "colab": {
          "base_uri": "https://localhost:8080/"
        },
        "id": "3Y9281bl8GVx",
        "outputId": "ab3e1903-8ddb-4a9c-fec4-1a1116ea5656"
      },
      "outputs": [
        {
          "output_type": "execute_result",
          "data": {
            "text/plain": [
              "606948"
            ]
          },
          "metadata": {},
          "execution_count": 15
        }
      ],
      "source": [
        "len(Description)"
      ]
    },
    {
      "cell_type": "code",
      "execution_count": null,
      "metadata": {
        "colab": {
          "base_uri": "https://localhost:8080/"
        },
        "id": "v6TyWDK38GV1",
        "outputId": "6903ed74-e822-4425-8cc5-4ff15bbfa8cc"
      },
      "outputs": [
        {
          "output_type": "execute_result",
          "data": {
            "text/plain": [
              "adLangDetected     28913\n",
              "adDescription      28001\n",
              "adAvailableDate    19645\n",
              "id                     0\n",
              "dtype: int64"
            ]
          },
          "metadata": {},
          "execution_count": 16
        }
      ],
      "source": [
        "data.isna().sum().sort_values(ascending=False)"
      ]
    },
    {
      "cell_type": "code",
      "execution_count": null,
      "metadata": {
        "colab": {
          "base_uri": "https://localhost:8080/",
          "height": 35
        },
        "id": "A6ZCJ14h8GV5",
        "outputId": "71596117-6ed2-41b5-e694-900245e048cb"
      },
      "outputs": [
        {
          "output_type": "execute_result",
          "data": {
            "text/plain": [
              "'None'"
            ],
            "application/vnd.google.colaboratory.intrinsic+json": {
              "type": "string"
            }
          },
          "metadata": {},
          "execution_count": 17
        }
      ],
      "source": [
        "data['adDescription'][58]"
      ]
    },
    {
      "cell_type": "code",
      "execution_count": null,
      "metadata": {
        "id": "qOj6390X8GV7"
      },
      "outputs": [],
      "source": [
        "data['adDescription'] = data['adDescription'].replace('None', np.nan)"
      ]
    },
    {
      "cell_type": "code",
      "execution_count": null,
      "metadata": {
        "id": "ovdSClbI8GV8"
      },
      "outputs": [],
      "source": [
        "data = data.dropna(axis=0)"
      ]
    },
    {
      "cell_type": "code",
      "execution_count": null,
      "metadata": {
        "id": "UzUYtmfg8GV_"
      },
      "outputs": [],
      "source": [
        "data.reset_index(drop=True, inplace=True)"
      ]
    },
    {
      "cell_type": "code",
      "execution_count": null,
      "metadata": {
        "colab": {
          "base_uri": "https://localhost:8080/",
          "height": 69
        },
        "id": "6m7_xwEP8GWB",
        "outputId": "66548b5f-1020-4f14-f79b-e8c2a4a11aba"
      },
      "outputs": [
        {
          "output_type": "execute_result",
          "data": {
            "text/plain": [
              "\"data['adDescription'] = data['adDescription'].replace('<br />', ' ')\\ndata['adDescription'] = data['adDescription'].replace('<h3>', ' ')\\ndata['adDescription'] = data['adDescription'].replace('</h3>',' ')\\ndata['adDescription'] = data['adDescription'].replace('</p>', ' ')\\ndata['adDescription'] = data['adDescription'].replace('<p>', ' ')\\ndata['adDescription'] = data['adDescription'].replace('<strong>', ' ')\\ndata['adDescription'] = data['adDescription'].replace('</trong>', ' ')\""
            ],
            "application/vnd.google.colaboratory.intrinsic+json": {
              "type": "string"
            }
          },
          "metadata": {},
          "execution_count": 21
        }
      ],
      "source": [
        "\n",
        "\"\"\"data['adDescription'] = data['adDescription'].replace('<br />', ' ')\n",
        "data['adDescription'] = data['adDescription'].replace('<h3>', ' ')\n",
        "data['adDescription'] = data['adDescription'].replace('</h3>',' ')\n",
        "data['adDescription'] = data['adDescription'].replace('</p>', ' ')\n",
        "data['adDescription'] = data['adDescription'].replace('<p>', ' ')\n",
        "data['adDescription'] = data['adDescription'].replace('<strong>', ' ')\n",
        "data['adDescription'] = data['adDescription'].replace('</trong>', ' ')\"\"\""
      ]
    },
    {
      "cell_type": "markdown",
      "source": [
        "# The cleanhtml function was used to clean the text of all web links and other html tags"
      ],
      "metadata": {
        "id": "-nC_aSM7RUeG"
      }
    },
    {
      "cell_type": "code",
      "execution_count": null,
      "metadata": {
        "id": "AmkeD7_l8GWF"
      },
      "outputs": [],
      "source": [
        "import re\n",
        "\n",
        "CLEANR = re.compile('<.*?>')\n",
        "\n",
        "def cleanhtml(rawhtml):\n",
        "    cleantext = re.sub(CLEANR, '', rawhtml)\n",
        "    cleantext = re.sub(r'http\\S+', '', cleantext)\n",
        "    return cleantext\n",
        "    "
      ]
    },
    {
      "cell_type": "code",
      "execution_count": null,
      "metadata": {
        "colab": {
          "base_uri": "https://localhost:8080/",
          "height": 35
        },
        "id": "KRXSDgmP8GWI",
        "outputId": "8934aba4-b22b-4c20-cdd6-d9549fc73301"
      },
      "outputs": [
        {
          "output_type": "execute_result",
          "data": {
            "text/plain": [
              "'Une place de parc intérieure dans un parking souterrain pour un loyer mensuel de Fr. 120.00.<br /><br/>Disponible de suite.'"
            ],
            "application/vnd.google.colaboratory.intrinsic+json": {
              "type": "string"
            }
          },
          "metadata": {},
          "execution_count": 23
        }
      ],
      "source": [
        "x = data['adDescription'][71]\n",
        "x"
      ]
    },
    {
      "cell_type": "code",
      "execution_count": null,
      "metadata": {
        "colab": {
          "base_uri": "https://localhost:8080/",
          "height": 35
        },
        "id": "OtiUvGvC8GWK",
        "outputId": "ed96588c-1d38-430d-aa08-9f37a75c7827"
      },
      "outputs": [
        {
          "output_type": "execute_result",
          "data": {
            "text/plain": [
              "'Une place de parc intérieure dans un parking souterrain pour un loyer mensuel de Fr. 120.00.Disponible de suite.'"
            ],
            "application/vnd.google.colaboratory.intrinsic+json": {
              "type": "string"
            }
          },
          "metadata": {},
          "execution_count": 24
        }
      ],
      "source": [
        "cleanhtml(x)"
      ]
    },
    {
      "cell_type": "code",
      "execution_count": null,
      "metadata": {
        "colab": {
          "base_uri": "https://localhost:8080/"
        },
        "id": "iRCJZv8e8GWN",
        "outputId": "5f639186-e392-4402-83f1-3049ab25e7c5"
      },
      "outputs": [
        {
          "output_type": "execute_result",
          "data": {
            "text/plain": [
              "str"
            ]
          },
          "metadata": {},
          "execution_count": 25
        }
      ],
      "source": [
        "type(data['adDescription'][1])"
      ]
    },
    {
      "cell_type": "code",
      "execution_count": null,
      "metadata": {
        "id": "M8shRgNc8GWO"
      },
      "outputs": [],
      "source": [
        "data['adDescription'] = data['adDescription'].apply(lambda x: cleanhtml(x))"
      ]
    },
    {
      "cell_type": "code",
      "execution_count": null,
      "metadata": {
        "colab": {
          "base_uri": "https://localhost:8080/",
          "height": 35
        },
        "id": "mHOi96hm8GWR",
        "outputId": "5ff7f6ae-b9c2-4fa0-a052-49053f81782f"
      },
      "outputs": [
        {
          "output_type": "execute_result",
          "data": {
            "text/plain": [
              "'Une place de parc intérieure dans un parking souterrain pour un loyer mensuel de Fr. 120.00.Disponible de suite.'"
            ],
            "application/vnd.google.colaboratory.intrinsic+json": {
              "type": "string"
            }
          },
          "metadata": {},
          "execution_count": 27
        }
      ],
      "source": [
        "data['adDescription'][71]"
      ]
    },
    {
      "cell_type": "code",
      "execution_count": null,
      "metadata": {
        "id": "HFGoHBnZ8GWU"
      },
      "outputs": [],
      "source": [
        "#TODO\n",
        "#resolve how to handle missing data"
      ]
    },
    {
      "cell_type": "code",
      "execution_count": null,
      "metadata": {
        "colab": {
          "base_uri": "https://localhost:8080/"
        },
        "id": "TGqYZITT8GWW",
        "outputId": "2d1f406f-1aa2-4aaa-a250-89f414f7e43e"
      },
      "outputs": [
        {
          "output_type": "execute_result",
          "data": {
            "text/plain": [
              "['fr', 'de', 'it', 'en']"
            ]
          },
          "metadata": {},
          "execution_count": 29
        }
      ],
      "source": [
        "languages = list(data['adLangDetected'].unique())\n",
        "languages"
      ]
    },
    {
      "cell_type": "code",
      "execution_count": null,
      "metadata": {
        "id": "8q9lougG8GWY"
      },
      "outputs": [],
      "source": [
        "#languages.pop(4)\n"
      ]
    },
    {
      "cell_type": "code",
      "execution_count": null,
      "metadata": {
        "colab": {
          "base_uri": "https://localhost:8080/"
        },
        "id": "2rJGXRVM8GWb",
        "outputId": "600383d4-169b-40fb-af97-3607e9d5a903"
      },
      "outputs": [
        {
          "output_type": "execute_result",
          "data": {
            "text/plain": [
              "['fr', 'de', 'it', 'en']"
            ]
          },
          "metadata": {},
          "execution_count": 31
        }
      ],
      "source": [
        "languages"
      ]
    },
    {
      "cell_type": "code",
      "execution_count": null,
      "metadata": {
        "id": "3MUW-5uo8GWd"
      },
      "outputs": [],
      "source": [
        "#drop missing data\n",
        "#data.dropna(axis=0, inplace=True)"
      ]
    },
    {
      "cell_type": "code",
      "execution_count": null,
      "metadata": {
        "colab": {
          "base_uri": "https://localhost:8080/"
        },
        "id": "BAXLN-gq8GWf",
        "outputId": "d5983ee6-9e34-4438-a889-4efe95643f97"
      },
      "outputs": [
        {
          "output_type": "execute_result",
          "data": {
            "text/plain": [
              "(562393, 4)"
            ]
          },
          "metadata": {},
          "execution_count": 33
        }
      ],
      "source": [
        "data.shape"
      ]
    },
    {
      "cell_type": "code",
      "execution_count": null,
      "metadata": {
        "id": "xECE3Czf8GWh"
      },
      "outputs": [],
      "source": [
        ""
      ]
    },
    {
      "cell_type": "markdown",
      "metadata": {
        "id": "GW2qOJ1W8GWk"
      },
      "source": [
        "# Installing library for detecting language"
      ]
    },
    {
      "cell_type": "code",
      "execution_count": 1,
      "metadata": {
        "id": "Ryzc6Unh8GWq"
      },
      "outputs": [],
      "source": [
        "#!pip install langdetect"
      ]
    },
    {
      "cell_type": "markdown",
      "metadata": {
        "id": "cne1_igo8GWs"
      },
      "source": [
        "## Google api for translating "
      ]
    },
    {
      "cell_type": "code",
      "execution_count": 2,
      "metadata": {
        "id": "2HI4LcpU8GWv",
        "colab": {
          "base_uri": "https://localhost:8080/",
          "height": 168
        },
        "outputId": "8d5afd07-3800-4714-bdea-d796e7ef397c"
      },
      "outputs": [
        {
          "output_type": "error",
          "ename": "NameError",
          "evalue": "ignored",
          "traceback": [
            "\u001b[0;31m---------------------------------------------------------------------------\u001b[0m",
            "\u001b[0;31mNameError\u001b[0m                                 Traceback (most recent call last)",
            "\u001b[0;32m<ipython-input-2-9477aff230ab>\u001b[0m in \u001b[0;36m<module>\u001b[0;34m()\u001b[0m\n\u001b[0;32m----> 1\u001b[0;31m \u001b[0mdata\u001b[0m\u001b[0;34m[\u001b[0m\u001b[0;34m'transDescription'\u001b[0m\u001b[0;34m]\u001b[0m \u001b[0;34m=\u001b[0m \u001b[0;36m0\u001b[0m\u001b[0;34m\u001b[0m\u001b[0;34m\u001b[0m\u001b[0m\n\u001b[0m",
            "\u001b[0;31mNameError\u001b[0m: name 'data' is not defined"
          ]
        }
      ],
      "source": [
        "data['transDescription'] = 0"
      ]
    },
    {
      "cell_type": "code",
      "execution_count": null,
      "metadata": {
        "id": "KhSiLYlN8GWz"
      },
      "outputs": [],
      "source": [
        "data['adDescription'][:5]"
      ]
    },
    {
      "cell_type": "code",
      "execution_count": null,
      "metadata": {
        "id": "WPMIufg58GW1"
      },
      "outputs": [],
      "source": [
        "!pip install -U deep-translator"
      ]
    },
    {
      "cell_type": "code",
      "execution_count": null,
      "metadata": {
        "id": "vgaa_8218GW2"
      },
      "outputs": [],
      "source": [
        "from deep_translator import GoogleTranslator\n",
        "#translated = GoogleTranslator(source=y, target='en')\n",
        "#translate = translated.translate(x)\n",
        "#translate"
      ]
    },
    {
      "cell_type": "code",
      "execution_count": null,
      "metadata": {
        "id": "Q4Ryxi-y8GW6"
      },
      "outputs": [],
      "source": [
        "late = GoogleTranslator(source='auto', target='en')"
      ]
    },
    {
      "cell_type": "markdown",
      "source": [
        "#The translate function was used to translate text into english using the google translator api that was installed earlier."
      ],
      "metadata": {
        "id": "tyk3Af7hRq3x"
      }
    },
    {
      "cell_type": "code",
      "execution_count": null,
      "metadata": {
        "id": "TZvu8OwX8GW9"
      },
      "outputs": [],
      "source": [
        "def translate(text):\n",
        "    trans = GoogleTranslator(source='auto', target='en').translate(text)\n",
        "    return trans"
      ]
    },
    {
      "cell_type": "code",
      "execution_count": null,
      "metadata": {
        "id": "SAIs44ou8GXF"
      },
      "outputs": [],
      "source": [
        "translate(x)"
      ]
    },
    {
      "cell_type": "code",
      "execution_count": null,
      "metadata": {
        "id": "yu47oWKD8GXJ"
      },
      "outputs": [],
      "source": [
        "#data.reset_index(drop=True, inplace=True)"
      ]
    },
    {
      "cell_type": "code",
      "execution_count": null,
      "metadata": {
        "id": "8gVx1J_M8GXK"
      },
      "outputs": [],
      "source": [
        "data['adDescription'][463:]"
      ]
    },
    {
      "cell_type": "code",
      "execution_count": null,
      "metadata": {
        "id": "DqxSk6c88GXM"
      },
      "outputs": [],
      "source": [
        "(data['adDescription'][1])"
      ]
    },
    {
      "cell_type": "code",
      "execution_count": null,
      "metadata": {
        "id": "dpsLVt4G8GXO"
      },
      "outputs": [],
      "source": [
        "x, y = data['adDescription'][59], data['adLangDetected'][59]\n",
        "x, y"
      ]
    },
    {
      "cell_type": "code",
      "execution_count": null,
      "metadata": {
        "id": "4L_R77vt8GXQ"
      },
      "outputs": [],
      "source": [
        "translate(x)"
      ]
    },
    {
      "cell_type": "code",
      "execution_count": null,
      "metadata": {
        "id": "q2W4Rzds8GXS"
      },
      "outputs": [],
      "source": [
        "data['transDescription'] = str('null')"
      ]
    },
    {
      "cell_type": "code",
      "execution_count": null,
      "metadata": {
        "id": "YkgtN-2y8GXV"
      },
      "outputs": [],
      "source": [
        "data['transDescription']"
      ]
    },
    {
      "cell_type": "code",
      "execution_count": null,
      "metadata": {
        "id": "B5exvgZ3JZ9n"
      },
      "outputs": [],
      "source": [
        "data.loc[data['id'] == str(1)]"
      ]
    },
    {
      "cell_type": "code",
      "execution_count": null,
      "metadata": {
        "id": "mDEGiDoEJZsL"
      },
      "outputs": [],
      "source": [
        "for i in range(4,10):\n",
        "  print(i)"
      ]
    },
    {
      "cell_type": "code",
      "execution_count": null,
      "metadata": {
        "id": "ROU2_D4y3mnw"
      },
      "outputs": [],
      "source": [
        "data.loc[data['id'] == '135378']"
      ]
    },
    {
      "cell_type": "code",
      "execution_count": null,
      "metadata": {
        "id": "Sh_Otn7q31sO"
      },
      "outputs": [],
      "source": [
        "translate(data['adDescription'].loc[100010])"
      ]
    },
    {
      "cell_type": "markdown",
      "source": [
        "#the for loop on the next line is used translate the text of the adDescription column in batches due to computation cost. It takes 12 hours to translate 25,000 rows. This process was repeated across several notebooks in batches and later concatenated in another notebook."
      ],
      "metadata": {
        "id": "JbCnuSs8R4g0"
      }
    },
    {
      "cell_type": "code",
      "execution_count": null,
      "metadata": {
        "id": "LmWF3uIb8GXY"
      },
      "outputs": [],
      "source": [
        "for i in range(150000, 200000):\n",
        "  data['transDescription'][i] = translate(data['adDescription'][i][:4999])\n",
        "  print(i, data['transDescription'][i])\n",
        "\n",
        "  data.loc[[i]].to_csv('drive/MyDrive/trans_150000.csv', mode='a', index=False, header=False)"
      ]
    },
    {
      "cell_type": "code",
      "execution_count": null,
      "metadata": {
        "id": "WGtBVBlQ8GXc"
      },
      "outputs": [],
      "source": [
        "stop"
      ]
    },
    {
      "cell_type": "code",
      "execution_count": null,
      "metadata": {
        "id": "680hHMpY3DMf"
      },
      "outputs": [],
      "source": [
        "data.loc[[100002]]"
      ]
    },
    {
      "cell_type": "code",
      "execution_count": null,
      "metadata": {
        "id": "0Cv3Pz0U8GXe"
      },
      "outputs": [],
      "source": [
        "his = 'Sitzplatz 1Estrich 1Carport 2Aussenstellplätze 4Stall PferdestallAnzahl 6 PferdeAnzahl 6 PonyWirtschaftsraum für FuttermittelSattekammerReitplatz 33 mx18 m mit / Stall Auf AnfrageGrundstücksfläche 10998 m² * Auf Anfrage (Ackerland)PACHTGrundstücksfläche'"
      ]
    },
    {
      "cell_type": "code",
      "execution_count": null,
      "metadata": {
        "id": "jRZ7CGP08GXi"
      },
      "outputs": [],
      "source": [
        "his[:5]"
      ]
    },
    {
      "cell_type": "code",
      "execution_count": null,
      "metadata": {
        "id": "zfnes96r8GXl"
      },
      "outputs": [],
      "source": [
        "len(str('Sind Sie auf der Suche nach einer Liegenschaft, in welcher Sie komfortabel Wohnen, Arbeiten und Ihr Hobby kombinieren können?Ist Ihnen eine sonnige und ruhige Lage wichtig?Dann könnte dieses stattliche Einfamilienhaus mit separatem Pferdestallgebäude bald Ihr neues Zuhause sein auf einer Grundstücksfläche von 6'004 m2.Die grosszügig, offen und mit fliessenden Übergängen konzipierte Wohnliegenschaft besticht durch ein geräumiges, gut durchdachtes und zeitgemässes Grundrisskonzept mit einigen Extras.Das Entrée zum 6½ Zimmer Einfamilienhaus befindet sich Parterre. Dieses beinhaltet eine bestens ausgestattete, grosse Küche mit Granitabdeckung, ein offener Essplatz mit angrenzendem Wohnbereich mit schönem Schwedenofen für gemütliche Stunden an nassen Tagen.Auf einer Wohnfläche von 230 m2, die sich auf zwei Etagen und 6½ Zimmer verteilt, schaffen hohe Decken und Dachschrägen, helle Materialien und viel Licht ein leichtes, aber warmes Ambiente.Fenstertüren bei Küche und Wohnraum öffnen den überdachten Sitzplatz und das Gartenreich, wo Ihnen dank optimaler Ausrichtung Sonnenschein bis in die Abendstunden sicher ist.Ein zusätzliches Zimmer im Erdgeschoss gewähren Ruhe und persönlichen Rückzug. Ein Wirtschaftsraum, Technikraum und ein Badezimmer mit Dusche, Lavabo und WC sind praktisch angeordnet.Über eine massive Holztreppe gelangen Sie ins Obergeschoss. Hier befinden sich vier Zimmer, Badezimmer mit Tageslicht Badewanne/Dusche. Ein weiterer Wirtschaftsraum und Zugang zum isolierten Estrich mit Dachschrägen sind im 1. OG untergebracht.Mittels separatem aussen Eingang gelangt man in einen weiteren Wirtschaftsraum mit Dusche, Lavabo und WC.Der angebaute Carport bietet Platz für 2 Autos und beinhaltet den gedeckten Eingang.Stallungen6 Auslauf-Boxen (14m2) mit direktem Zugang zur Wiese1 Freilaufstall für 6 Ponys mit direktem Zugang zur WieseStauraum für Futtermittel1 Sattelkammer1 beleuchtbaren Reitplatz (33m x 18m)1,1ha AckerlandDie 100 m entfernten Wald- und Feldwege sind mit Pferden und Kutschen zugänglich.Ein Objektbeschrieb kann nie abschliessend sein.Für eine Besichtigung stehe ich Ihnen jederzeit gerne zur Verfügung.Ich freue mich auf Ihre Kontaktaufnahme.Maison familiale de 61/2 pièces avec écurie pour chevaux et présDescription de la propriétéÊtes-vous à la recherche d`une propriété dans laquelle vous pouvez vivre confortablement, travailler et vous ressourcer dans vos temps libre?Cette maison individuelle, située dans un endroit ensoleillé de 6004m2,avec une écurie de chevaux séparée, pourrait devenir votre nouveau chez-vous.Ce beau bâtiment lumineux et conçu pour une utilisation pratique. Vous serez séduits par un plan de construction bien réfléchi, spacieux et contemporain avec quelques originalités.La surface habitable est de 230m2 répartie sur deux étages. La maison bénéficie de hauts plafonds avec une belle inclinaison et des matériaux clairs qui créent une ambiance douce.L`entrée de la maison de 6.5 pièces est au rez-de-chaussée. On y trouve une cuisine avec un revêtement en granit et complètementéquipée. La salle à manger est ouvert sur le salon, muni d`un joli poêle suédois pour passer des heures agréables.Des portes-fenêtres dans la cuisine et le salon vous donnent accès à la terrasse couverte et au jardin, où vous pouvez profiter du soleil jusqu'au soir grâce à une orientation optimale.Une grande chambre, un économat, un local technique, une salle d`eau avec douche italienne, lavabo et WC sont judicieusement disposés.Un escalier en bois massif vous mènera à l`étage supérieur. Ici vous trouverez quatre chambres, une salle de bain équipée d`une douche, lavabo et toilette et un réduit. On accède au grenier isolé à travers une trappe.Une 3ème salle d`eau avec douche, lavabo et WC est accessible seulement par l`extérieur.Le couvert offre de la place pour deux véhicules.Description de l` écurie:L'écurie comprend:six boxes-terrasse de 14m2 avec accès directe au présune stabulation libre pour six poneys avec accès directe au présun espace de stockage pour le fourrageune sellerieun carré de sable de 33m X 18m avec éclairageprés de 1,1ha agricoleA 100m la forêt vous attend avec ses magnifiques chemins qui sont accessibles à cheval et en attelage.reseau equestre a proximité.Une description de l`objet ne peut jamais être totalement complète.Pour cela je suis disponible pour une visite à tout moment.Je me réjouis de votre prise de contact.ALLGEMEINE INFORMATIONENHaus 6½ Zimmer EinfamilienhausBaujahr2011Verfügbar nach AbspracheAnzahl Badezimmer 3Toilette 3Wohnfläche ca.229 m²Kubatur1'195 m³Grundstücksfläche 6'004 m² (Bauland)HEIZUNGHeizungsart ErdsondenheizungBefeuerung BodenheizungKamin SchwedenofenAUSSTATTUNGWirtschaftsraum 2Gedeckter Sitzplatz 1Estrich 1Carport 2Aussenstellplätze 4Stall PferdestallAnzahl 6 PferdeAnzahl 6 PonyWirtschaftsraum für FuttermittelSattekammerReitplatz 33 mx18 m mit BeleuchtungKAUFPREISEinfamilienhaus / Stall Auf AnfrageGrundstücksfläche 10'998 m² * Auf Anfrage (Ackerland)PACHTGrundstücksfläche 10'998m² Auf Anfrage*Bundesgesetz über das bäuerliche BodenrechtDas Bundesgesetz über das bäuerliche Bodenrecht \"regelt den Rechtsverkehr mit landwirtschaftlichem Boden. Es enthält Bestimmungen darüber, wer unter welchen Voraussetzungen landwirtschaftliche Gewerbe und Grundstücke erwerben darf; es beschränkt deren Verpfändung, Teilung und Zerstückelung\".Inkrafttreten der letzten Änderung: 1. September 2008I'))"
      ]
    },
    {
      "cell_type": "code",
      "execution_count": null,
      "metadata": {
        "id": "NgPkv8bP8GXo"
      },
      "outputs": [],
      "source": [
        "import functools\n",
        "from functools import reduce\n",
        "\n",
        "def count(characters):\n",
        "    return reduce(reducer, map(lambda char: dict([[char, 1]]), characters))\n",
        "    \n",
        "def reducer(i, j):\n",
        "    for k in j: i[k] = i.get(k, 0) + j.get(k, 0)\n",
        "    return i\n",
        "\n",
        "print (count('testing yeah it works'))"
      ]
    },
    {
      "cell_type": "code",
      "execution_count": null,
      "metadata": {
        "id": "Vz32-pAa8GXq"
      },
      "outputs": [],
      "source": [
        ""
      ]
    },
    {
      "cell_type": "code",
      "execution_count": null,
      "metadata": {
        "id": "cidDILgc8GXs"
      },
      "outputs": [],
      "source": [
        "\"\"\"for i in range(len(data)):\n",
        "    trans = translate(data['adDescription'].loc[i], data['adLangDetected'].loc[i])\n",
        "    adLangTranslated.append(trans)\"\"\""
      ]
    },
    {
      "cell_type": "code",
      "execution_count": null,
      "metadata": {
        "id": "ECY3WW9u8GXu"
      },
      "outputs": [],
      "source": [
        "#remove html tags in the description column\n",
        "#df['ad'] = df['Grade'].str.replace('%', '')"
      ]
    }
  ],
  "metadata": {
    "colab": {
      "name": "150000-200000 houselangtrans.ipynb",
      "provenance": [],
      "collapsed_sections": [],
      "include_colab_link": true
    },
    "kernelspec": {
      "display_name": "Python 3",
      "language": "python",
      "name": "python3"
    },
    "language_info": {
      "codemirror_mode": {
        "name": "ipython",
        "version": 3
      },
      "file_extension": ".py",
      "mimetype": "text/x-python",
      "name": "python",
      "nbconvert_exporter": "python",
      "pygments_lexer": "ipython3",
      "version": "3.7.12"
    }
  },
  "nbformat": 4,
  "nbformat_minor": 0
}