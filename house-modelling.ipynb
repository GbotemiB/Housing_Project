{
 "cells": [
  {
   "cell_type": "code",
   "execution_count": 1,
   "id": "638ccc74",
   "metadata": {
    "_cell_guid": "b1076dfc-b9ad-4769-8c92-a6c4dae69d19",
    "_uuid": "8f2839f25d086af736a60e9eeb907d3b93b6e0e5",
    "execution": {
     "iopub.execute_input": "2022-04-11T20:23:18.912428Z",
     "iopub.status.busy": "2022-04-11T20:23:18.910564Z",
     "iopub.status.idle": "2022-04-11T20:23:20.281169Z",
     "shell.execute_reply": "2022-04-11T20:23:20.280049Z",
     "shell.execute_reply.started": "2022-04-11T19:28:29.355272Z"
    },
    "papermill": {
     "duration": 1.663784,
     "end_time": "2022-04-11T20:23:20.281449",
     "exception": false,
     "start_time": "2022-04-11T20:23:18.617665",
     "status": "completed"
    },
    "tags": []
   },
   "outputs": [
    {
     "name": "stdout",
     "output_type": "stream",
     "text": [
      "/kaggle/input/housing-data/housingData_7R.xlsx\n"
     ]
    }
   ],
   "source": [
    "# This Python 3 environment comes with many helpful analytics libraries installed\n",
    "# It is defined by the kaggle/python Docker image: https://github.com/kaggle/docker-python\n",
    "# For example, here's several helpful packages to load\n",
    "\n",
    "import numpy as np # linear algebra\n",
    "import pandas as pd # data processing, CSV file I/O (e.g. pd.read_csv)\n",
    "import seaborn as sns\n",
    "import matplotlib.pyplot as plt\n",
    "import category_encoders as ce\n",
    "#from scipy import stats\n",
    "\n",
    "pd.set_option('display.max_columns', None)\n",
    "#pd.set_option('display.max_rows', None)\n",
    "pd.options.display.float_format = '{:.5f}'.format\n",
    "%matplotlib inline\n",
    "#sns.set(style='whitegrid', palette='muted', font_scale=1.5)\n",
    "import warnings\n",
    "warnings.filterwarnings('ignore')\n",
    "\n",
    "# Input data files are available in the read-only \"../input/\" directory\n",
    "# For example, running this (by clicking run or pressing Shift+Enter) will list all files under the input directory\n",
    "\n",
    "import os\n",
    "for dirname, _, filenames in os.walk('/kaggle/input'):\n",
    "    for filename in filenames:\n",
    "        print(os.path.join(dirname, filename))\n",
    "\n",
    "# You can write up to 20GB to the current directory (/kaggle/working/) that gets preserved as output when you create a version using \"Save & Run All\" \n",
    "# You can also write temporary files to /kaggle/temp/, but they won't be saved outside of the current session"
   ]
  },
  {
   "cell_type": "code",
   "execution_count": 2,
   "id": "bf1e13da",
   "metadata": {
    "execution": {
     "iopub.execute_input": "2022-04-11T20:23:20.852531Z",
     "iopub.status.busy": "2022-04-11T20:23:20.851468Z",
     "iopub.status.idle": "2022-04-11T20:23:20.853340Z",
     "shell.execute_reply": "2022-04-11T20:23:20.853946Z",
     "shell.execute_reply.started": "2022-04-11T19:28:31.036140Z"
    },
    "papermill": {
     "duration": 0.291036,
     "end_time": "2022-04-11T20:23:20.854114",
     "exception": false,
     "start_time": "2022-04-11T20:23:20.563078",
     "status": "completed"
    },
    "tags": []
   },
   "outputs": [],
   "source": [
    "#pd.set_option('display.max_rows', 20)"
   ]
  },
  {
   "cell_type": "code",
   "execution_count": 3,
   "id": "447361f3",
   "metadata": {
    "execution": {
     "iopub.execute_input": "2022-04-11T20:23:21.414245Z",
     "iopub.status.busy": "2022-04-11T20:23:21.413219Z",
     "iopub.status.idle": "2022-04-11T20:23:34.521282Z",
     "shell.execute_reply": "2022-04-11T20:23:34.520693Z",
     "shell.execute_reply.started": "2022-04-11T19:28:31.042677Z"
    },
    "papermill": {
     "duration": 13.388016,
     "end_time": "2022-04-11T20:23:34.521523",
     "exception": false,
     "start_time": "2022-04-11T20:23:21.133507",
     "status": "completed"
    },
    "tags": []
   },
   "outputs": [
    {
     "name": "stdout",
     "output_type": "stream",
     "text": [
      "Collecting openpyxl\r\n",
      "  Downloading openpyxl-3.0.9-py2.py3-none-any.whl (242 kB)\r\n",
      "     |████████████████████████████████| 242 kB 287 kB/s            \r\n",
      "\u001b[?25hCollecting et-xmlfile\r\n",
      "  Downloading et_xmlfile-1.1.0-py3-none-any.whl (4.7 kB)\r\n",
      "Installing collected packages: et-xmlfile, openpyxl\r\n",
      "Successfully installed et-xmlfile-1.1.0 openpyxl-3.0.9\r\n",
      "\u001b[33mWARNING: Running pip as the 'root' user can result in broken permissions and conflicting behaviour with the system package manager. It is recommended to use a virtual environment instead: https://pip.pypa.io/warnings/venv\u001b[0m\r\n"
     ]
    }
   ],
   "source": [
    "!pip install openpyxl"
   ]
  },
  {
   "cell_type": "code",
   "execution_count": 4,
   "id": "5ca2e7cd",
   "metadata": {
    "execution": {
     "iopub.execute_input": "2022-04-11T20:23:35.098979Z",
     "iopub.status.busy": "2022-04-11T20:23:35.097918Z",
     "iopub.status.idle": "2022-04-11T20:28:10.289537Z",
     "shell.execute_reply": "2022-04-11T20:28:10.288793Z",
     "shell.execute_reply.started": "2022-04-11T19:28:41.215470Z"
    },
    "papermill": {
     "duration": 275.484837,
     "end_time": "2022-04-11T20:28:10.289705",
     "exception": false,
     "start_time": "2022-04-11T20:23:34.804868",
     "status": "completed"
    },
    "tags": []
   },
   "outputs": [],
   "source": [
    "data = pd.read_excel(\"/kaggle/input/housing-data/housingData_7R.xlsx\")"
   ]
  },
  {
   "cell_type": "code",
   "execution_count": 5,
   "id": "4b657872",
   "metadata": {
    "execution": {
     "iopub.execute_input": "2022-04-11T20:28:10.874788Z",
     "iopub.status.busy": "2022-04-11T20:28:10.873693Z",
     "iopub.status.idle": "2022-04-11T20:28:10.876481Z",
     "shell.execute_reply": "2022-04-11T20:28:10.875953Z",
     "shell.execute_reply.started": "2022-04-11T19:31:45.253875Z"
    },
    "papermill": {
     "duration": 0.297165,
     "end_time": "2022-04-11T20:28:10.876634",
     "exception": false,
     "start_time": "2022-04-11T20:28:10.579469",
     "status": "completed"
    },
    "tags": []
   },
   "outputs": [],
   "source": [
    "#data = df.copy()"
   ]
  },
  {
   "cell_type": "code",
   "execution_count": 6,
   "id": "fc921d84",
   "metadata": {
    "execution": {
     "iopub.execute_input": "2022-04-11T20:28:11.458471Z",
     "iopub.status.busy": "2022-04-11T20:28:11.456951Z",
     "iopub.status.idle": "2022-04-11T20:28:11.603335Z",
     "shell.execute_reply": "2022-04-11T20:28:11.602617Z",
     "shell.execute_reply.started": "2022-04-11T19:31:45.258919Z"
    },
    "papermill": {
     "duration": 0.435339,
     "end_time": "2022-04-11T20:28:11.603499",
     "exception": false,
     "start_time": "2022-04-11T20:28:11.168160",
     "status": "completed"
    },
    "tags": []
   },
   "outputs": [],
   "source": [
    "df = data.copy()"
   ]
  },
  {
   "cell_type": "code",
   "execution_count": 7,
   "id": "17dba417",
   "metadata": {
    "execution": {
     "iopub.execute_input": "2022-04-11T20:28:12.182590Z",
     "iopub.status.busy": "2022-04-11T20:28:12.181893Z",
     "iopub.status.idle": "2022-04-11T20:28:12.184623Z",
     "shell.execute_reply": "2022-04-11T20:28:12.185221Z",
     "shell.execute_reply.started": "2022-04-11T19:31:45.419599Z"
    },
    "papermill": {
     "duration": 0.296883,
     "end_time": "2022-04-11T20:28:12.185508",
     "exception": false,
     "start_time": "2022-04-11T20:28:11.888625",
     "status": "completed"
    },
    "tags": []
   },
   "outputs": [],
   "source": [
    "#data = df.copy()"
   ]
  },
  {
   "cell_type": "code",
   "execution_count": 8,
   "id": "7bca1e5f",
   "metadata": {
    "execution": {
     "iopub.execute_input": "2022-04-11T20:28:12.762105Z",
     "iopub.status.busy": "2022-04-11T20:28:12.761353Z",
     "iopub.status.idle": "2022-04-11T20:28:13.055807Z",
     "shell.execute_reply": "2022-04-11T20:28:13.056297Z",
     "shell.execute_reply.started": "2022-04-11T19:31:45.426010Z"
    },
    "papermill": {
     "duration": 0.585786,
     "end_time": "2022-04-11T20:28:13.056529",
     "exception": false,
     "start_time": "2022-04-11T20:28:12.470743",
     "status": "completed"
    },
    "tags": []
   },
   "outputs": [
    {
     "data": {
      "text/html": [
       "<div>\n",
       "<style scoped>\n",
       "    .dataframe tbody tr th:only-of-type {\n",
       "        vertical-align: middle;\n",
       "    }\n",
       "\n",
       "    .dataframe tbody tr th {\n",
       "        vertical-align: top;\n",
       "    }\n",
       "\n",
       "    .dataframe thead th {\n",
       "        text-align: right;\n",
       "    }\n",
       "</style>\n",
       "<table border=\"1\" class=\"dataframe\">\n",
       "  <thead>\n",
       "    <tr style=\"text-align: right;\">\n",
       "      <th></th>\n",
       "      <th>Unnamed: 0</th>\n",
       "      <th>adID</th>\n",
       "      <th>adDealType</th>\n",
       "      <th>adCanton</th>\n",
       "      <th>adZipCode</th>\n",
       "      <th>adCity</th>\n",
       "      <th>adPublishedDate</th>\n",
       "      <th>adAvailableDate</th>\n",
       "      <th>adPriceText</th>\n",
       "      <th>adDescription</th>\n",
       "      <th>adLangDetected</th>\n",
       "      <th>adNumRooms</th>\n",
       "      <th>adFloor</th>\n",
       "      <th>adYearOfConstruction</th>\n",
       "      <th>adNumApartments</th>\n",
       "      <th>adFloor.1</th>\n",
       "      <th>adNumApartments.1</th>\n",
       "      <th>adLivingSpace</th>\n",
       "      <th>adBuildingArea</th>\n",
       "      <th>adUsefulArea</th>\n",
       "      <th>adCoordE</th>\n",
       "      <th>adCoordN</th>\n",
       "    </tr>\n",
       "  </thead>\n",
       "  <tbody>\n",
       "    <tr>\n",
       "      <th>0</th>\n",
       "      <td>0</td>\n",
       "      <td>A1</td>\n",
       "      <td>10</td>\n",
       "      <td>JU</td>\n",
       "      <td>2954.00000</td>\n",
       "      <td>Asuel</td>\n",
       "      <td>2020-12-16</td>\n",
       "      <td>not available</td>\n",
       "      <td>CHF 1,050</td>\n",
       "      <td>Appartement avec beaucoup de charme à louer à ...</td>\n",
       "      <td>fr</td>\n",
       "      <td>3.5</td>\n",
       "      <td>not available</td>\n",
       "      <td>not available</td>\n",
       "      <td>NaN</td>\n",
       "      <td>not available</td>\n",
       "      <td>NaN</td>\n",
       "      <td>80</td>\n",
       "      <td>NaN</td>\n",
       "      <td>NaN</td>\n",
       "      <td>7.21142</td>\n",
       "      <td>47.40130</td>\n",
       "    </tr>\n",
       "    <tr>\n",
       "      <th>1</th>\n",
       "      <td>1</td>\n",
       "      <td>A10</td>\n",
       "      <td>10</td>\n",
       "      <td>ZH</td>\n",
       "      <td>8053.00000</td>\n",
       "      <td>Zürich</td>\n",
       "      <td>2020-11-19</td>\n",
       "      <td>nach Vereinbarung</td>\n",
       "      <td>CHF 4,048</td>\n",
       "      <td>Die Highlights:&lt;br /&gt;» Gut geschnittener Büror...</td>\n",
       "      <td>de</td>\n",
       "      <td>None</td>\n",
       "      <td>EG</td>\n",
       "      <td>1992</td>\n",
       "      <td>NaN</td>\n",
       "      <td>EG</td>\n",
       "      <td>NaN</td>\n",
       "      <td>not available</td>\n",
       "      <td>NaN</td>\n",
       "      <td>145</td>\n",
       "      <td>8.58706</td>\n",
       "      <td>47.35843</td>\n",
       "    </tr>\n",
       "    <tr>\n",
       "      <th>2</th>\n",
       "      <td>2</td>\n",
       "      <td>A100</td>\n",
       "      <td>10</td>\n",
       "      <td>ZH</td>\n",
       "      <td>8902.00000</td>\n",
       "      <td>Urdorf</td>\n",
       "      <td>2021-01-20</td>\n",
       "      <td>sofort</td>\n",
       "      <td>CHF 1,061</td>\n",
       "      <td>Für diese Wohnung suchen wir ein nettes Paar (...</td>\n",
       "      <td>de</td>\n",
       "      <td>3</td>\n",
       "      <td>3. Stock</td>\n",
       "      <td>not available</td>\n",
       "      <td>NaN</td>\n",
       "      <td>3. Stock</td>\n",
       "      <td>NaN</td>\n",
       "      <td>57</td>\n",
       "      <td>NaN</td>\n",
       "      <td>NaN</td>\n",
       "      <td>8.43089</td>\n",
       "      <td>47.37906</td>\n",
       "    </tr>\n",
       "    <tr>\n",
       "      <th>3</th>\n",
       "      <td>3</td>\n",
       "      <td>A10000</td>\n",
       "      <td>10</td>\n",
       "      <td>TI</td>\n",
       "      <td>6830.00000</td>\n",
       "      <td>Chiasso</td>\n",
       "      <td>2020-10-16</td>\n",
       "      <td>sofort</td>\n",
       "      <td>CHF 2,250</td>\n",
       "      <td>&lt;h3&gt;Chiasso&lt;/h3&gt;&lt;p&gt;&lt;p&gt;Si affitta in pieno a ce...</td>\n",
       "      <td>it</td>\n",
       "      <td>10</td>\n",
       "      <td>2. Stock</td>\n",
       "      <td>not available</td>\n",
       "      <td>NaN</td>\n",
       "      <td>2. Stock</td>\n",
       "      <td>NaN</td>\n",
       "      <td>190</td>\n",
       "      <td>NaN</td>\n",
       "      <td>NaN</td>\n",
       "      <td>9.03179</td>\n",
       "      <td>45.83595</td>\n",
       "    </tr>\n",
       "    <tr>\n",
       "      <th>4</th>\n",
       "      <td>4</td>\n",
       "      <td>A100001</td>\n",
       "      <td>20</td>\n",
       "      <td>TI</td>\n",
       "      <td>6818.00000</td>\n",
       "      <td>Melano</td>\n",
       "      <td>2020-07-17</td>\n",
       "      <td>sofort</td>\n",
       "      <td>CHF 2,150,000</td>\n",
       "      <td>Attico mansardato, posto in elegante palazzina...</td>\n",
       "      <td>it</td>\n",
       "      <td>5.5</td>\n",
       "      <td>3. Stock</td>\n",
       "      <td>2012</td>\n",
       "      <td>NaN</td>\n",
       "      <td>3. Stock</td>\n",
       "      <td>NaN</td>\n",
       "      <td>163</td>\n",
       "      <td>NaN</td>\n",
       "      <td>388</td>\n",
       "      <td>8.98268</td>\n",
       "      <td>45.92414</td>\n",
       "    </tr>\n",
       "  </tbody>\n",
       "</table>\n",
       "</div>"
      ],
      "text/plain": [
       "   Unnamed: 0     adID  adDealType adCanton  adZipCode   adCity  \\\n",
       "0           0       A1          10       JU 2954.00000    Asuel   \n",
       "1           1      A10          10       ZH 8053.00000   Zürich   \n",
       "2           2     A100          10       ZH 8902.00000   Urdorf   \n",
       "3           3   A10000          10       TI 6830.00000  Chiasso   \n",
       "4           4  A100001          20       TI 6818.00000   Melano   \n",
       "\n",
       "  adPublishedDate    adAvailableDate    adPriceText  \\\n",
       "0      2020-12-16      not available      CHF 1,050   \n",
       "1      2020-11-19  nach Vereinbarung      CHF 4,048   \n",
       "2      2021-01-20             sofort      CHF 1,061   \n",
       "3      2020-10-16             sofort      CHF 2,250   \n",
       "4      2020-07-17             sofort  CHF 2,150,000   \n",
       "\n",
       "                                       adDescription adLangDetected  \\\n",
       "0  Appartement avec beaucoup de charme à louer à ...             fr   \n",
       "1  Die Highlights:<br />» Gut geschnittener Büror...             de   \n",
       "2  Für diese Wohnung suchen wir ein nettes Paar (...             de   \n",
       "3  <h3>Chiasso</h3><p><p>Si affitta in pieno a ce...             it   \n",
       "4  Attico mansardato, posto in elegante palazzina...             it   \n",
       "\n",
       "  adNumRooms        adFloor adYearOfConstruction  adNumApartments  \\\n",
       "0        3.5  not available        not available              NaN   \n",
       "1       None             EG                 1992              NaN   \n",
       "2          3       3. Stock        not available              NaN   \n",
       "3         10       2. Stock        not available              NaN   \n",
       "4        5.5       3. Stock                 2012              NaN   \n",
       "\n",
       "       adFloor.1  adNumApartments.1  adLivingSpace adBuildingArea  \\\n",
       "0  not available                NaN             80            NaN   \n",
       "1             EG                NaN  not available            NaN   \n",
       "2       3. Stock                NaN             57            NaN   \n",
       "3       2. Stock                NaN            190            NaN   \n",
       "4       3. Stock                NaN            163            NaN   \n",
       "\n",
       "  adUsefulArea  adCoordE  adCoordN  \n",
       "0          NaN   7.21142  47.40130  \n",
       "1          145   8.58706  47.35843  \n",
       "2          NaN   8.43089  47.37906  \n",
       "3          NaN   9.03179  45.83595  \n",
       "4          388   8.98268  45.92414  "
      ]
     },
     "execution_count": 8,
     "metadata": {},
     "output_type": "execute_result"
    }
   ],
   "source": [
    "data.head()"
   ]
  },
  {
   "cell_type": "code",
   "execution_count": 9,
   "id": "08649097",
   "metadata": {
    "execution": {
     "iopub.execute_input": "2022-04-11T20:28:13.632830Z",
     "iopub.status.busy": "2022-04-11T20:28:13.632139Z",
     "iopub.status.idle": "2022-04-11T20:28:13.636777Z",
     "shell.execute_reply": "2022-04-11T20:28:13.637326Z",
     "shell.execute_reply.started": "2022-04-11T19:31:45.711871Z"
    },
    "papermill": {
     "duration": 0.291688,
     "end_time": "2022-04-11T20:28:13.637524",
     "exception": false,
     "start_time": "2022-04-11T20:28:13.345836",
     "status": "completed"
    },
    "tags": []
   },
   "outputs": [
    {
     "data": {
      "text/plain": [
       "(582669, 22)"
      ]
     },
     "execution_count": 9,
     "metadata": {},
     "output_type": "execute_result"
    }
   ],
   "source": [
    "data.shape"
   ]
  },
  {
   "cell_type": "code",
   "execution_count": 10,
   "id": "74d2604b",
   "metadata": {
    "execution": {
     "iopub.execute_input": "2022-04-11T20:28:14.224127Z",
     "iopub.status.busy": "2022-04-11T20:28:14.223302Z",
     "iopub.status.idle": "2022-04-11T20:28:14.228005Z",
     "shell.execute_reply": "2022-04-11T20:28:14.228632Z",
     "shell.execute_reply.started": "2022-04-11T19:31:45.720809Z"
    },
    "papermill": {
     "duration": 0.299764,
     "end_time": "2022-04-11T20:28:14.228808",
     "exception": false,
     "start_time": "2022-04-11T20:28:13.929044",
     "status": "completed"
    },
    "tags": []
   },
   "outputs": [
    {
     "data": {
      "text/plain": [
       "Index(['Unnamed: 0', 'adID', 'adDealType', 'adCanton', 'adZipCode', 'adCity',\n",
       "       'adPublishedDate', 'adAvailableDate', 'adPriceText', 'adDescription',\n",
       "       'adLangDetected', 'adNumRooms', 'adFloor', 'adYearOfConstruction',\n",
       "       'adNumApartments', 'adFloor.1', 'adNumApartments.1', 'adLivingSpace',\n",
       "       'adBuildingArea', 'adUsefulArea', 'adCoordE', 'adCoordN'],\n",
       "      dtype='object')"
      ]
     },
     "execution_count": 10,
     "metadata": {},
     "output_type": "execute_result"
    }
   ],
   "source": [
    "data.columns"
   ]
  },
  {
   "cell_type": "code",
   "execution_count": 11,
   "id": "c2d5be18",
   "metadata": {
    "execution": {
     "iopub.execute_input": "2022-04-11T20:28:14.823895Z",
     "iopub.status.busy": "2022-04-11T20:28:14.823185Z",
     "iopub.status.idle": "2022-04-11T20:28:14.940686Z",
     "shell.execute_reply": "2022-04-11T20:28:14.940018Z",
     "shell.execute_reply.started": "2022-04-11T19:31:45.732208Z"
    },
    "papermill": {
     "duration": 0.412325,
     "end_time": "2022-04-11T20:28:14.940841",
     "exception": false,
     "start_time": "2022-04-11T20:28:14.528516",
     "status": "completed"
    },
    "tags": []
   },
   "outputs": [],
   "source": [
    "data = data.drop('Unnamed: 0', axis = 1)"
   ]
  },
  {
   "cell_type": "code",
   "execution_count": 12,
   "id": "17535b01",
   "metadata": {
    "execution": {
     "iopub.execute_input": "2022-04-11T20:28:15.533928Z",
     "iopub.status.busy": "2022-04-11T20:28:15.530792Z",
     "iopub.status.idle": "2022-04-11T20:28:18.750980Z",
     "shell.execute_reply": "2022-04-11T20:28:18.751534Z",
     "shell.execute_reply.started": "2022-04-11T19:31:45.853512Z"
    },
    "papermill": {
     "duration": 3.521964,
     "end_time": "2022-04-11T20:28:18.751733",
     "exception": false,
     "start_time": "2022-04-11T20:28:15.229769",
     "status": "completed"
    },
    "tags": []
   },
   "outputs": [
    {
     "data": {
      "text/html": [
       "<div>\n",
       "<style scoped>\n",
       "    .dataframe tbody tr th:only-of-type {\n",
       "        vertical-align: middle;\n",
       "    }\n",
       "\n",
       "    .dataframe tbody tr th {\n",
       "        vertical-align: top;\n",
       "    }\n",
       "\n",
       "    .dataframe thead th {\n",
       "        text-align: right;\n",
       "    }\n",
       "</style>\n",
       "<table border=\"1\" class=\"dataframe\">\n",
       "  <thead>\n",
       "    <tr style=\"text-align: right;\">\n",
       "      <th></th>\n",
       "      <th>adID</th>\n",
       "      <th>adDealType</th>\n",
       "      <th>adCanton</th>\n",
       "      <th>adZipCode</th>\n",
       "      <th>adCity</th>\n",
       "      <th>adPublishedDate</th>\n",
       "      <th>adAvailableDate</th>\n",
       "      <th>adPriceText</th>\n",
       "      <th>adDescription</th>\n",
       "      <th>adLangDetected</th>\n",
       "      <th>adNumRooms</th>\n",
       "      <th>adFloor</th>\n",
       "      <th>adYearOfConstruction</th>\n",
       "      <th>adNumApartments</th>\n",
       "      <th>adFloor.1</th>\n",
       "      <th>adNumApartments.1</th>\n",
       "      <th>adLivingSpace</th>\n",
       "      <th>adBuildingArea</th>\n",
       "      <th>adUsefulArea</th>\n",
       "      <th>adCoordE</th>\n",
       "      <th>adCoordN</th>\n",
       "    </tr>\n",
       "  </thead>\n",
       "  <tbody>\n",
       "    <tr>\n",
       "      <th>count</th>\n",
       "      <td>582669</td>\n",
       "      <td>582669.00000</td>\n",
       "      <td>582669</td>\n",
       "      <td>582668.00000</td>\n",
       "      <td>535442</td>\n",
       "      <td>582669</td>\n",
       "      <td>582669</td>\n",
       "      <td>582669</td>\n",
       "      <td>582646</td>\n",
       "      <td>582669</td>\n",
       "      <td>582669</td>\n",
       "      <td>582669</td>\n",
       "      <td>582669</td>\n",
       "      <td>19549.00000</td>\n",
       "      <td>582669</td>\n",
       "      <td>19549.00000</td>\n",
       "      <td>582669</td>\n",
       "      <td>57224</td>\n",
       "      <td>105643</td>\n",
       "      <td>582669.00000</td>\n",
       "      <td>582669.00000</td>\n",
       "    </tr>\n",
       "    <tr>\n",
       "      <th>unique</th>\n",
       "      <td>582669</td>\n",
       "      <td>NaN</td>\n",
       "      <td>7</td>\n",
       "      <td>NaN</td>\n",
       "      <td>2148</td>\n",
       "      <td>2135</td>\n",
       "      <td>700</td>\n",
       "      <td>9147</td>\n",
       "      <td>441161</td>\n",
       "      <td>4</td>\n",
       "      <td>100</td>\n",
       "      <td>56</td>\n",
       "      <td>520</td>\n",
       "      <td>NaN</td>\n",
       "      <td>56</td>\n",
       "      <td>NaN</td>\n",
       "      <td>1363</td>\n",
       "      <td>3602</td>\n",
       "      <td>1643</td>\n",
       "      <td>NaN</td>\n",
       "      <td>NaN</td>\n",
       "    </tr>\n",
       "    <tr>\n",
       "      <th>top</th>\n",
       "      <td>A1</td>\n",
       "      <td>NaN</td>\n",
       "      <td>ZH</td>\n",
       "      <td>NaN</td>\n",
       "      <td>Zürich</td>\n",
       "      <td>2021-08-13</td>\n",
       "      <td>nach Vereinbarung</td>\n",
       "      <td>On request</td>\n",
       "      <td>None</td>\n",
       "      <td>de</td>\n",
       "      <td>None</td>\n",
       "      <td>not available</td>\n",
       "      <td>not available</td>\n",
       "      <td>NaN</td>\n",
       "      <td>not available</td>\n",
       "      <td>NaN</td>\n",
       "      <td>not available</td>\n",
       "      <td>1,000</td>\n",
       "      <td>100</td>\n",
       "      <td>NaN</td>\n",
       "      <td>NaN</td>\n",
       "    </tr>\n",
       "    <tr>\n",
       "      <th>freq</th>\n",
       "      <td>1</td>\n",
       "      <td>NaN</td>\n",
       "      <td>144098</td>\n",
       "      <td>NaN</td>\n",
       "      <td>36322</td>\n",
       "      <td>10281</td>\n",
       "      <td>234256</td>\n",
       "      <td>27155</td>\n",
       "      <td>15619</td>\n",
       "      <td>295370</td>\n",
       "      <td>109048</td>\n",
       "      <td>273739</td>\n",
       "      <td>369297</td>\n",
       "      <td>NaN</td>\n",
       "      <td>273739</td>\n",
       "      <td>NaN</td>\n",
       "      <td>201091</td>\n",
       "      <td>658</td>\n",
       "      <td>2203</td>\n",
       "      <td>NaN</td>\n",
       "      <td>NaN</td>\n",
       "    </tr>\n",
       "    <tr>\n",
       "      <th>mean</th>\n",
       "      <td>NaN</td>\n",
       "      <td>12.78479</td>\n",
       "      <td>NaN</td>\n",
       "      <td>4782.51585</td>\n",
       "      <td>NaN</td>\n",
       "      <td>NaN</td>\n",
       "      <td>NaN</td>\n",
       "      <td>NaN</td>\n",
       "      <td>NaN</td>\n",
       "      <td>NaN</td>\n",
       "      <td>NaN</td>\n",
       "      <td>NaN</td>\n",
       "      <td>NaN</td>\n",
       "      <td>9.22155</td>\n",
       "      <td>NaN</td>\n",
       "      <td>9.22155</td>\n",
       "      <td>NaN</td>\n",
       "      <td>NaN</td>\n",
       "      <td>NaN</td>\n",
       "      <td>7.84939</td>\n",
       "      <td>46.80437</td>\n",
       "    </tr>\n",
       "    <tr>\n",
       "      <th>std</th>\n",
       "      <td>NaN</td>\n",
       "      <td>4.48251</td>\n",
       "      <td>NaN</td>\n",
       "      <td>2821.55953</td>\n",
       "      <td>NaN</td>\n",
       "      <td>NaN</td>\n",
       "      <td>NaN</td>\n",
       "      <td>NaN</td>\n",
       "      <td>NaN</td>\n",
       "      <td>NaN</td>\n",
       "      <td>NaN</td>\n",
       "      <td>NaN</td>\n",
       "      <td>NaN</td>\n",
       "      <td>12.42858</td>\n",
       "      <td>NaN</td>\n",
       "      <td>12.42858</td>\n",
       "      <td>NaN</td>\n",
       "      <td>NaN</td>\n",
       "      <td>NaN</td>\n",
       "      <td>2.58816</td>\n",
       "      <td>0.67508</td>\n",
       "    </tr>\n",
       "    <tr>\n",
       "      <th>min</th>\n",
       "      <td>NaN</td>\n",
       "      <td>10.00000</td>\n",
       "      <td>NaN</td>\n",
       "      <td>1000.00000</td>\n",
       "      <td>NaN</td>\n",
       "      <td>NaN</td>\n",
       "      <td>NaN</td>\n",
       "      <td>NaN</td>\n",
       "      <td>NaN</td>\n",
       "      <td>NaN</td>\n",
       "      <td>NaN</td>\n",
       "      <td>NaN</td>\n",
       "      <td>NaN</td>\n",
       "      <td>1.00000</td>\n",
       "      <td>NaN</td>\n",
       "      <td>1.00000</td>\n",
       "      <td>NaN</td>\n",
       "      <td>NaN</td>\n",
       "      <td>NaN</td>\n",
       "      <td>0.00000</td>\n",
       "      <td>-141.54182</td>\n",
       "    </tr>\n",
       "    <tr>\n",
       "      <th>25%</th>\n",
       "      <td>NaN</td>\n",
       "      <td>10.00000</td>\n",
       "      <td>NaN</td>\n",
       "      <td>1800.00000</td>\n",
       "      <td>NaN</td>\n",
       "      <td>NaN</td>\n",
       "      <td>NaN</td>\n",
       "      <td>NaN</td>\n",
       "      <td>NaN</td>\n",
       "      <td>NaN</td>\n",
       "      <td>NaN</td>\n",
       "      <td>NaN</td>\n",
       "      <td>NaN</td>\n",
       "      <td>2.00000</td>\n",
       "      <td>NaN</td>\n",
       "      <td>2.00000</td>\n",
       "      <td>NaN</td>\n",
       "      <td>NaN</td>\n",
       "      <td>NaN</td>\n",
       "      <td>7.05056</td>\n",
       "      <td>46.46260</td>\n",
       "    </tr>\n",
       "    <tr>\n",
       "      <th>50%</th>\n",
       "      <td>NaN</td>\n",
       "      <td>10.00000</td>\n",
       "      <td>NaN</td>\n",
       "      <td>4950.00000</td>\n",
       "      <td>NaN</td>\n",
       "      <td>NaN</td>\n",
       "      <td>NaN</td>\n",
       "      <td>NaN</td>\n",
       "      <td>NaN</td>\n",
       "      <td>NaN</td>\n",
       "      <td>NaN</td>\n",
       "      <td>NaN</td>\n",
       "      <td>NaN</td>\n",
       "      <td>6.00000</td>\n",
       "      <td>NaN</td>\n",
       "      <td>6.00000</td>\n",
       "      <td>NaN</td>\n",
       "      <td>NaN</td>\n",
       "      <td>NaN</td>\n",
       "      <td>7.95761</td>\n",
       "      <td>46.83534</td>\n",
       "    </tr>\n",
       "    <tr>\n",
       "      <th>75%</th>\n",
       "      <td>NaN</td>\n",
       "      <td>20.00000</td>\n",
       "      <td>NaN</td>\n",
       "      <td>6987.00000</td>\n",
       "      <td>NaN</td>\n",
       "      <td>NaN</td>\n",
       "      <td>NaN</td>\n",
       "      <td>NaN</td>\n",
       "      <td>NaN</td>\n",
       "      <td>NaN</td>\n",
       "      <td>NaN</td>\n",
       "      <td>NaN</td>\n",
       "      <td>NaN</td>\n",
       "      <td>12.00000</td>\n",
       "      <td>NaN</td>\n",
       "      <td>12.00000</td>\n",
       "      <td>NaN</td>\n",
       "      <td>NaN</td>\n",
       "      <td>NaN</td>\n",
       "      <td>8.65123</td>\n",
       "      <td>47.26299</td>\n",
       "    </tr>\n",
       "    <tr>\n",
       "      <th>max</th>\n",
       "      <td>NaN</td>\n",
       "      <td>20.00000</td>\n",
       "      <td>NaN</td>\n",
       "      <td>8967.00000</td>\n",
       "      <td>NaN</td>\n",
       "      <td>NaN</td>\n",
       "      <td>NaN</td>\n",
       "      <td>NaN</td>\n",
       "      <td>NaN</td>\n",
       "      <td>NaN</td>\n",
       "      <td>NaN</td>\n",
       "      <td>NaN</td>\n",
       "      <td>NaN</td>\n",
       "      <td>155.00000</td>\n",
       "      <td>NaN</td>\n",
       "      <td>155.00000</td>\n",
       "      <td>NaN</td>\n",
       "      <td>NaN</td>\n",
       "      <td>NaN</td>\n",
       "      <td>1078.51760</td>\n",
       "      <td>47.69496</td>\n",
       "    </tr>\n",
       "  </tbody>\n",
       "</table>\n",
       "</div>"
      ],
      "text/plain": [
       "          adID   adDealType adCanton    adZipCode  adCity adPublishedDate  \\\n",
       "count   582669 582669.00000   582669 582668.00000  535442          582669   \n",
       "unique  582669          NaN        7          NaN    2148            2135   \n",
       "top         A1          NaN       ZH          NaN  Zürich      2021-08-13   \n",
       "freq         1          NaN   144098          NaN   36322           10281   \n",
       "mean       NaN     12.78479      NaN   4782.51585     NaN             NaN   \n",
       "std        NaN      4.48251      NaN   2821.55953     NaN             NaN   \n",
       "min        NaN     10.00000      NaN   1000.00000     NaN             NaN   \n",
       "25%        NaN     10.00000      NaN   1800.00000     NaN             NaN   \n",
       "50%        NaN     10.00000      NaN   4950.00000     NaN             NaN   \n",
       "75%        NaN     20.00000      NaN   6987.00000     NaN             NaN   \n",
       "max        NaN     20.00000      NaN   8967.00000     NaN             NaN   \n",
       "\n",
       "          adAvailableDate adPriceText adDescription adLangDetected adNumRooms  \\\n",
       "count              582669      582669        582646         582669     582669   \n",
       "unique                700        9147        441161              4        100   \n",
       "top     nach Vereinbarung  On request          None             de       None   \n",
       "freq               234256       27155         15619         295370     109048   \n",
       "mean                  NaN         NaN           NaN            NaN        NaN   \n",
       "std                   NaN         NaN           NaN            NaN        NaN   \n",
       "min                   NaN         NaN           NaN            NaN        NaN   \n",
       "25%                   NaN         NaN           NaN            NaN        NaN   \n",
       "50%                   NaN         NaN           NaN            NaN        NaN   \n",
       "75%                   NaN         NaN           NaN            NaN        NaN   \n",
       "max                   NaN         NaN           NaN            NaN        NaN   \n",
       "\n",
       "              adFloor adYearOfConstruction  adNumApartments      adFloor.1  \\\n",
       "count          582669               582669      19549.00000         582669   \n",
       "unique             56                  520              NaN             56   \n",
       "top     not available        not available              NaN  not available   \n",
       "freq           273739               369297              NaN         273739   \n",
       "mean              NaN                  NaN          9.22155            NaN   \n",
       "std               NaN                  NaN         12.42858            NaN   \n",
       "min               NaN                  NaN          1.00000            NaN   \n",
       "25%               NaN                  NaN          2.00000            NaN   \n",
       "50%               NaN                  NaN          6.00000            NaN   \n",
       "75%               NaN                  NaN         12.00000            NaN   \n",
       "max               NaN                  NaN        155.00000            NaN   \n",
       "\n",
       "        adNumApartments.1  adLivingSpace adBuildingArea adUsefulArea  \\\n",
       "count         19549.00000         582669          57224       105643   \n",
       "unique                NaN           1363           3602         1643   \n",
       "top                   NaN  not available          1,000          100   \n",
       "freq                  NaN         201091            658         2203   \n",
       "mean              9.22155            NaN            NaN          NaN   \n",
       "std              12.42858            NaN            NaN          NaN   \n",
       "min               1.00000            NaN            NaN          NaN   \n",
       "25%               2.00000            NaN            NaN          NaN   \n",
       "50%               6.00000            NaN            NaN          NaN   \n",
       "75%              12.00000            NaN            NaN          NaN   \n",
       "max             155.00000            NaN            NaN          NaN   \n",
       "\n",
       "           adCoordE     adCoordN  \n",
       "count  582669.00000 582669.00000  \n",
       "unique          NaN          NaN  \n",
       "top             NaN          NaN  \n",
       "freq            NaN          NaN  \n",
       "mean        7.84939     46.80437  \n",
       "std         2.58816      0.67508  \n",
       "min         0.00000   -141.54182  \n",
       "25%         7.05056     46.46260  \n",
       "50%         7.95761     46.83534  \n",
       "75%         8.65123     47.26299  \n",
       "max      1078.51760     47.69496  "
      ]
     },
     "execution_count": 12,
     "metadata": {},
     "output_type": "execute_result"
    }
   ],
   "source": [
    "data.describe(include = \"all\")"
   ]
  },
  {
   "cell_type": "code",
   "execution_count": 13,
   "id": "83c2af09",
   "metadata": {
    "execution": {
     "iopub.execute_input": "2022-04-11T20:28:19.348770Z",
     "iopub.status.busy": "2022-04-11T20:28:19.348020Z",
     "iopub.status.idle": "2022-04-11T20:28:19.351150Z",
     "shell.execute_reply": "2022-04-11T20:28:19.351625Z",
     "shell.execute_reply.started": "2022-04-11T19:31:47.922383Z"
    },
    "papermill": {
     "duration": 0.30572,
     "end_time": "2022-04-11T20:28:19.351803",
     "exception": false,
     "start_time": "2022-04-11T20:28:19.046083",
     "status": "completed"
    },
    "tags": []
   },
   "outputs": [
    {
     "data": {
      "text/plain": [
       "0    Appartement avec beaucoup de charme à louer à ...\n",
       "1    Die Highlights:<br />» Gut geschnittener Büror...\n",
       "2    Für diese Wohnung suchen wir ein nettes Paar (...\n",
       "3    <h3>Chiasso</h3><p><p>Si affitta in pieno a ce...\n",
       "4    Attico mansardato, posto in elegante palazzina...\n",
       "Name: adDescription, dtype: object"
      ]
     },
     "execution_count": 13,
     "metadata": {},
     "output_type": "execute_result"
    }
   ],
   "source": [
    "data['adDescription'].head()"
   ]
  },
  {
   "cell_type": "code",
   "execution_count": 14,
   "id": "2b7ebe26",
   "metadata": {
    "execution": {
     "iopub.execute_input": "2022-04-11T20:28:19.933609Z",
     "iopub.status.busy": "2022-04-11T20:28:19.932903Z",
     "iopub.status.idle": "2022-04-11T20:28:19.943922Z",
     "shell.execute_reply": "2022-04-11T20:28:19.944520Z",
     "shell.execute_reply.started": "2022-04-11T19:31:47.930853Z"
    },
    "papermill": {
     "duration": 0.298346,
     "end_time": "2022-04-11T20:28:19.944699",
     "exception": false,
     "start_time": "2022-04-11T20:28:19.646353",
     "status": "completed"
    },
    "tags": []
   },
   "outputs": [
    {
     "data": {
      "text/plain": [
       "10    420408\n",
       "20    162261\n",
       "Name: adDealType, dtype: int64"
      ]
     },
     "execution_count": 14,
     "metadata": {},
     "output_type": "execute_result"
    }
   ],
   "source": [
    "data['adDealType'].value_counts()"
   ]
  },
  {
   "cell_type": "code",
   "execution_count": 15,
   "id": "99768253",
   "metadata": {
    "_kg_hide-output": false,
    "execution": {
     "iopub.execute_input": "2022-04-11T20:28:20.526186Z",
     "iopub.status.busy": "2022-04-11T20:28:20.525403Z",
     "iopub.status.idle": "2022-04-11T20:28:20.531785Z",
     "shell.execute_reply": "2022-04-11T20:28:20.532303Z",
     "shell.execute_reply.started": "2022-04-11T19:31:47.948882Z"
    },
    "papermill": {
     "duration": 0.296293,
     "end_time": "2022-04-11T20:28:20.532565",
     "exception": false,
     "start_time": "2022-04-11T20:28:20.236272",
     "status": "completed"
    },
    "tags": []
   },
   "outputs": [],
   "source": [
    "data['Deal_Type'] = data['adDealType'].copy()"
   ]
  },
  {
   "cell_type": "code",
   "execution_count": 16,
   "id": "31a70065",
   "metadata": {
    "execution": {
     "iopub.execute_input": "2022-04-11T20:28:21.109099Z",
     "iopub.status.busy": "2022-04-11T20:28:21.108288Z",
     "iopub.status.idle": "2022-04-11T20:28:21.136755Z",
     "shell.execute_reply": "2022-04-11T20:28:21.136069Z",
     "shell.execute_reply.started": "2022-04-11T19:31:47.967929Z"
    },
    "papermill": {
     "duration": 0.320211,
     "end_time": "2022-04-11T20:28:21.136919",
     "exception": false,
     "start_time": "2022-04-11T20:28:20.816708",
     "status": "completed"
    },
    "tags": []
   },
   "outputs": [],
   "source": [
    "target_map = {\n",
    "    10: 'rental',\n",
    "    20: 'sell'}\n",
    "\n",
    "data.Deal_Type.replace(target_map, inplace = True)"
   ]
  },
  {
   "cell_type": "code",
   "execution_count": 17,
   "id": "044c99aa",
   "metadata": {
    "execution": {
     "iopub.execute_input": "2022-04-11T20:28:21.719189Z",
     "iopub.status.busy": "2022-04-11T20:28:21.718399Z",
     "iopub.status.idle": "2022-04-11T20:28:21.721137Z",
     "shell.execute_reply": "2022-04-11T20:28:21.721774Z",
     "shell.execute_reply.started": "2022-04-11T19:31:47.994459Z"
    },
    "papermill": {
     "duration": 0.293714,
     "end_time": "2022-04-11T20:28:21.721954",
     "exception": false,
     "start_time": "2022-04-11T20:28:21.428240",
     "status": "completed"
    },
    "tags": []
   },
   "outputs": [
    {
     "data": {
      "text/plain": [
       "0    rental\n",
       "1    rental\n",
       "2    rental\n",
       "3    rental\n",
       "4      sell\n",
       "Name: Deal_Type, dtype: object"
      ]
     },
     "execution_count": 17,
     "metadata": {},
     "output_type": "execute_result"
    }
   ],
   "source": [
    "data['Deal_Type'].head()"
   ]
  },
  {
   "cell_type": "code",
   "execution_count": 18,
   "id": "ccf9e131",
   "metadata": {
    "execution": {
     "iopub.execute_input": "2022-04-11T20:28:22.303422Z",
     "iopub.status.busy": "2022-04-11T20:28:22.302673Z",
     "iopub.status.idle": "2022-04-11T20:28:22.307722Z",
     "shell.execute_reply": "2022-04-11T20:28:22.308267Z",
     "shell.execute_reply.started": "2022-04-11T19:31:48.003682Z"
    },
    "papermill": {
     "duration": 0.297339,
     "end_time": "2022-04-11T20:28:22.308467",
     "exception": false,
     "start_time": "2022-04-11T20:28:22.011128",
     "status": "completed"
    },
    "tags": []
   },
   "outputs": [
    {
     "data": {
      "text/plain": [
       "Index(['adID', 'adDealType', 'adCanton', 'adZipCode', 'adCity',\n",
       "       'adPublishedDate', 'adAvailableDate', 'adPriceText', 'adDescription',\n",
       "       'adLangDetected', 'adNumRooms', 'adFloor', 'adYearOfConstruction',\n",
       "       'adNumApartments', 'adFloor.1', 'adNumApartments.1', 'adLivingSpace',\n",
       "       'adBuildingArea', 'adUsefulArea', 'adCoordE', 'adCoordN', 'Deal_Type'],\n",
       "      dtype='object')"
      ]
     },
     "execution_count": 18,
     "metadata": {},
     "output_type": "execute_result"
    }
   ],
   "source": [
    "data.columns"
   ]
  },
  {
   "cell_type": "code",
   "execution_count": 19,
   "id": "a0b77d62",
   "metadata": {
    "execution": {
     "iopub.execute_input": "2022-04-11T20:28:22.891492Z",
     "iopub.status.busy": "2022-04-11T20:28:22.890754Z",
     "iopub.status.idle": "2022-04-11T20:28:22.895358Z",
     "shell.execute_reply": "2022-04-11T20:28:22.896026Z",
     "shell.execute_reply.started": "2022-04-11T19:31:48.018715Z"
    },
    "papermill": {
     "duration": 0.299075,
     "end_time": "2022-04-11T20:28:22.896201",
     "exception": false,
     "start_time": "2022-04-11T20:28:22.597126",
     "status": "completed"
    },
    "tags": []
   },
   "outputs": [
    {
     "data": {
      "text/plain": [
       "22"
      ]
     },
     "execution_count": 19,
     "metadata": {},
     "output_type": "execute_result"
    }
   ],
   "source": [
    "len(data.columns)"
   ]
  },
  {
   "cell_type": "code",
   "execution_count": 20,
   "id": "b3f2acc7",
   "metadata": {
    "execution": {
     "iopub.execute_input": "2022-04-11T20:28:23.481720Z",
     "iopub.status.busy": "2022-04-11T20:28:23.480886Z",
     "iopub.status.idle": "2022-04-11T20:28:23.985518Z",
     "shell.execute_reply": "2022-04-11T20:28:23.986017Z",
     "shell.execute_reply.started": "2022-04-11T19:31:48.033909Z"
    },
    "papermill": {
     "duration": 0.797612,
     "end_time": "2022-04-11T20:28:23.986221",
     "exception": false,
     "start_time": "2022-04-11T20:28:23.188609",
     "status": "completed"
    },
    "tags": []
   },
   "outputs": [
    {
     "data": {
      "text/html": [
       "<div>\n",
       "<style scoped>\n",
       "    .dataframe tbody tr th:only-of-type {\n",
       "        vertical-align: middle;\n",
       "    }\n",
       "\n",
       "    .dataframe tbody tr th {\n",
       "        vertical-align: top;\n",
       "    }\n",
       "\n",
       "    .dataframe thead th {\n",
       "        text-align: right;\n",
       "    }\n",
       "</style>\n",
       "<table border=\"1\" class=\"dataframe\">\n",
       "  <thead>\n",
       "    <tr style=\"text-align: right;\">\n",
       "      <th></th>\n",
       "      <th>ID</th>\n",
       "      <th>DealType</th>\n",
       "      <th>Canton</th>\n",
       "      <th>ZipCode</th>\n",
       "      <th>City</th>\n",
       "      <th>PublishedDate</th>\n",
       "      <th>AvailableDate</th>\n",
       "      <th>PriceText</th>\n",
       "      <th>Description</th>\n",
       "      <th>LangDetected</th>\n",
       "      <th>NumRooms</th>\n",
       "      <th>Floor</th>\n",
       "      <th>YearOfConstruction</th>\n",
       "      <th>NumApartments</th>\n",
       "      <th>Floor1</th>\n",
       "      <th>NumApartments1</th>\n",
       "      <th>LivingSpace</th>\n",
       "      <th>BuildingArea</th>\n",
       "      <th>UsefulArea</th>\n",
       "      <th>CoordE</th>\n",
       "      <th>CoordN</th>\n",
       "      <th>Deal_Type</th>\n",
       "    </tr>\n",
       "  </thead>\n",
       "  <tbody>\n",
       "    <tr>\n",
       "      <th>0</th>\n",
       "      <td>A1</td>\n",
       "      <td>10</td>\n",
       "      <td>JU</td>\n",
       "      <td>2954.00000</td>\n",
       "      <td>Asuel</td>\n",
       "      <td>2020-12-16</td>\n",
       "      <td>not available</td>\n",
       "      <td>CHF 1,050</td>\n",
       "      <td>Appartement avec beaucoup de charme à louer à ...</td>\n",
       "      <td>fr</td>\n",
       "      <td>3.5</td>\n",
       "      <td>not available</td>\n",
       "      <td>not available</td>\n",
       "      <td>NaN</td>\n",
       "      <td>not available</td>\n",
       "      <td>NaN</td>\n",
       "      <td>80</td>\n",
       "      <td>NaN</td>\n",
       "      <td>NaN</td>\n",
       "      <td>7.21142</td>\n",
       "      <td>47.40130</td>\n",
       "      <td>rental</td>\n",
       "    </tr>\n",
       "    <tr>\n",
       "      <th>1</th>\n",
       "      <td>A10</td>\n",
       "      <td>10</td>\n",
       "      <td>ZH</td>\n",
       "      <td>8053.00000</td>\n",
       "      <td>Zürich</td>\n",
       "      <td>2020-11-19</td>\n",
       "      <td>nach Vereinbarung</td>\n",
       "      <td>CHF 4,048</td>\n",
       "      <td>Die Highlights:&lt;br /&gt;» Gut geschnittener Büror...</td>\n",
       "      <td>de</td>\n",
       "      <td>None</td>\n",
       "      <td>EG</td>\n",
       "      <td>1992</td>\n",
       "      <td>NaN</td>\n",
       "      <td>EG</td>\n",
       "      <td>NaN</td>\n",
       "      <td>not available</td>\n",
       "      <td>NaN</td>\n",
       "      <td>145</td>\n",
       "      <td>8.58706</td>\n",
       "      <td>47.35843</td>\n",
       "      <td>rental</td>\n",
       "    </tr>\n",
       "    <tr>\n",
       "      <th>2</th>\n",
       "      <td>A100</td>\n",
       "      <td>10</td>\n",
       "      <td>ZH</td>\n",
       "      <td>8902.00000</td>\n",
       "      <td>Urdorf</td>\n",
       "      <td>2021-01-20</td>\n",
       "      <td>sofort</td>\n",
       "      <td>CHF 1,061</td>\n",
       "      <td>Für diese Wohnung suchen wir ein nettes Paar (...</td>\n",
       "      <td>de</td>\n",
       "      <td>3</td>\n",
       "      <td>3. Stock</td>\n",
       "      <td>not available</td>\n",
       "      <td>NaN</td>\n",
       "      <td>3. Stock</td>\n",
       "      <td>NaN</td>\n",
       "      <td>57</td>\n",
       "      <td>NaN</td>\n",
       "      <td>NaN</td>\n",
       "      <td>8.43089</td>\n",
       "      <td>47.37906</td>\n",
       "      <td>rental</td>\n",
       "    </tr>\n",
       "    <tr>\n",
       "      <th>3</th>\n",
       "      <td>A10000</td>\n",
       "      <td>10</td>\n",
       "      <td>TI</td>\n",
       "      <td>6830.00000</td>\n",
       "      <td>Chiasso</td>\n",
       "      <td>2020-10-16</td>\n",
       "      <td>sofort</td>\n",
       "      <td>CHF 2,250</td>\n",
       "      <td>&lt;h3&gt;Chiasso&lt;/h3&gt;&lt;p&gt;&lt;p&gt;Si affitta in pieno a ce...</td>\n",
       "      <td>it</td>\n",
       "      <td>10</td>\n",
       "      <td>2. Stock</td>\n",
       "      <td>not available</td>\n",
       "      <td>NaN</td>\n",
       "      <td>2. Stock</td>\n",
       "      <td>NaN</td>\n",
       "      <td>190</td>\n",
       "      <td>NaN</td>\n",
       "      <td>NaN</td>\n",
       "      <td>9.03179</td>\n",
       "      <td>45.83595</td>\n",
       "      <td>rental</td>\n",
       "    </tr>\n",
       "    <tr>\n",
       "      <th>4</th>\n",
       "      <td>A100001</td>\n",
       "      <td>20</td>\n",
       "      <td>TI</td>\n",
       "      <td>6818.00000</td>\n",
       "      <td>Melano</td>\n",
       "      <td>2020-07-17</td>\n",
       "      <td>sofort</td>\n",
       "      <td>CHF 2,150,000</td>\n",
       "      <td>Attico mansardato, posto in elegante palazzina...</td>\n",
       "      <td>it</td>\n",
       "      <td>5.5</td>\n",
       "      <td>3. Stock</td>\n",
       "      <td>2012</td>\n",
       "      <td>NaN</td>\n",
       "      <td>3. Stock</td>\n",
       "      <td>NaN</td>\n",
       "      <td>163</td>\n",
       "      <td>NaN</td>\n",
       "      <td>388</td>\n",
       "      <td>8.98268</td>\n",
       "      <td>45.92414</td>\n",
       "      <td>sell</td>\n",
       "    </tr>\n",
       "  </tbody>\n",
       "</table>\n",
       "</div>"
      ],
      "text/plain": [
       "        ID  DealType Canton    ZipCode     City PublishedDate  \\\n",
       "0       A1        10     JU 2954.00000    Asuel    2020-12-16   \n",
       "1      A10        10     ZH 8053.00000   Zürich    2020-11-19   \n",
       "2     A100        10     ZH 8902.00000   Urdorf    2021-01-20   \n",
       "3   A10000        10     TI 6830.00000  Chiasso    2020-10-16   \n",
       "4  A100001        20     TI 6818.00000   Melano    2020-07-17   \n",
       "\n",
       "       AvailableDate      PriceText  \\\n",
       "0      not available      CHF 1,050   \n",
       "1  nach Vereinbarung      CHF 4,048   \n",
       "2             sofort      CHF 1,061   \n",
       "3             sofort      CHF 2,250   \n",
       "4             sofort  CHF 2,150,000   \n",
       "\n",
       "                                         Description LangDetected NumRooms  \\\n",
       "0  Appartement avec beaucoup de charme à louer à ...           fr      3.5   \n",
       "1  Die Highlights:<br />» Gut geschnittener Büror...           de     None   \n",
       "2  Für diese Wohnung suchen wir ein nettes Paar (...           de        3   \n",
       "3  <h3>Chiasso</h3><p><p>Si affitta in pieno a ce...           it       10   \n",
       "4  Attico mansardato, posto in elegante palazzina...           it      5.5   \n",
       "\n",
       "           Floor YearOfConstruction  NumApartments         Floor1  \\\n",
       "0  not available      not available            NaN  not available   \n",
       "1             EG               1992            NaN             EG   \n",
       "2       3. Stock      not available            NaN       3. Stock   \n",
       "3       2. Stock      not available            NaN       2. Stock   \n",
       "4       3. Stock               2012            NaN       3. Stock   \n",
       "\n",
       "   NumApartments1    LivingSpace BuildingArea UsefulArea  CoordE   CoordN  \\\n",
       "0             NaN             80          NaN        NaN 7.21142 47.40130   \n",
       "1             NaN  not available          NaN        145 8.58706 47.35843   \n",
       "2             NaN             57          NaN        NaN 8.43089 47.37906   \n",
       "3             NaN            190          NaN        NaN 9.03179 45.83595   \n",
       "4             NaN            163          NaN        388 8.98268 45.92414   \n",
       "\n",
       "  Deal_Type  \n",
       "0    rental  \n",
       "1    rental  \n",
       "2    rental  \n",
       "3    rental  \n",
       "4      sell  "
      ]
     },
     "execution_count": 20,
     "metadata": {},
     "output_type": "execute_result"
    }
   ],
   "source": [
    "original_col = data.columns\n",
    "\n",
    "new_col = ['ID', 'DealType', 'Canton', 'ZipCode',\n",
    "           'City','PublishedDate', 'AvailableDate', 'PriceText', \n",
    "           'Description', 'LangDetected', 'NumRooms', 'Floor', \n",
    "           'YearOfConstruction', 'NumApartments', 'Floor1', \n",
    "           'NumApartments1', 'LivingSpace', 'BuildingArea', \n",
    "           'UsefulArea', 'CoordE', 'CoordN' ,'Deal_Type']\n",
    "\n",
    "data = data.rename(columns=dict(zip(original_col,new_col)))\n",
    "\n",
    "data.head()"
   ]
  },
  {
   "cell_type": "code",
   "execution_count": 21,
   "id": "66817a1d",
   "metadata": {
    "execution": {
     "iopub.execute_input": "2022-04-11T20:28:24.569860Z",
     "iopub.status.busy": "2022-04-11T20:28:24.569140Z",
     "iopub.status.idle": "2022-04-11T20:28:24.572102Z",
     "shell.execute_reply": "2022-04-11T20:28:24.571545Z",
     "shell.execute_reply.started": "2022-04-11T19:31:48.540738Z"
    },
    "papermill": {
     "duration": 0.295384,
     "end_time": "2022-04-11T20:28:24.572245",
     "exception": false,
     "start_time": "2022-04-11T20:28:24.276861",
     "status": "completed"
    },
    "tags": []
   },
   "outputs": [],
   "source": [
    "def percentage_missing(df):    \n",
    "    pm = (df.isnull().sum()/len(data))*100\n",
    "    return pm"
   ]
  },
  {
   "cell_type": "code",
   "execution_count": 22,
   "id": "01045b92",
   "metadata": {
    "execution": {
     "iopub.execute_input": "2022-04-11T20:28:25.229235Z",
     "iopub.status.busy": "2022-04-11T20:28:25.228415Z",
     "iopub.status.idle": "2022-04-11T20:28:25.232841Z",
     "shell.execute_reply": "2022-04-11T20:28:25.232181Z",
     "shell.execute_reply.started": "2022-04-11T19:31:48.547501Z"
    },
    "papermill": {
     "duration": 0.367838,
     "end_time": "2022-04-11T20:28:25.232986",
     "exception": false,
     "start_time": "2022-04-11T20:28:24.865148",
     "status": "completed"
    },
    "tags": []
   },
   "outputs": [],
   "source": [
    "# replace all column names (in place)\n",
    "#new_cols = [‘column_x’, ‘column_y’, ‘column_z’]\n",
    "#df.columns = new_cols"
   ]
  },
  {
   "cell_type": "markdown",
   "id": "e65f7ef8",
   "metadata": {
    "papermill": {
     "duration": 0.286577,
     "end_time": "2022-04-11T20:28:25.814313",
     "exception": false,
     "start_time": "2022-04-11T20:28:25.527736",
     "status": "completed"
    },
    "tags": []
   },
   "source": [
    "## EDA"
   ]
  },
  {
   "cell_type": "code",
   "execution_count": 23,
   "id": "0333222b",
   "metadata": {
    "execution": {
     "iopub.execute_input": "2022-04-11T20:28:26.403780Z",
     "iopub.status.busy": "2022-04-11T20:28:26.402769Z",
     "iopub.status.idle": "2022-04-11T20:28:26.424005Z",
     "shell.execute_reply": "2022-04-11T20:28:26.424553Z",
     "shell.execute_reply.started": "2022-04-11T19:31:48.557822Z"
    },
    "papermill": {
     "duration": 0.316247,
     "end_time": "2022-04-11T20:28:26.424729",
     "exception": false,
     "start_time": "2022-04-11T20:28:26.108482",
     "status": "completed"
    },
    "tags": []
   },
   "outputs": [
    {
     "data": {
      "text/html": [
       "<div>\n",
       "<style scoped>\n",
       "    .dataframe tbody tr th:only-of-type {\n",
       "        vertical-align: middle;\n",
       "    }\n",
       "\n",
       "    .dataframe tbody tr th {\n",
       "        vertical-align: top;\n",
       "    }\n",
       "\n",
       "    .dataframe thead th {\n",
       "        text-align: right;\n",
       "    }\n",
       "</style>\n",
       "<table border=\"1\" class=\"dataframe\">\n",
       "  <thead>\n",
       "    <tr style=\"text-align: right;\">\n",
       "      <th></th>\n",
       "      <th>ID</th>\n",
       "      <th>DealType</th>\n",
       "      <th>Canton</th>\n",
       "      <th>ZipCode</th>\n",
       "      <th>City</th>\n",
       "      <th>PublishedDate</th>\n",
       "      <th>AvailableDate</th>\n",
       "      <th>PriceText</th>\n",
       "      <th>Description</th>\n",
       "      <th>LangDetected</th>\n",
       "      <th>NumRooms</th>\n",
       "      <th>Floor</th>\n",
       "      <th>YearOfConstruction</th>\n",
       "      <th>NumApartments</th>\n",
       "      <th>Floor1</th>\n",
       "      <th>NumApartments1</th>\n",
       "      <th>LivingSpace</th>\n",
       "      <th>BuildingArea</th>\n",
       "      <th>UsefulArea</th>\n",
       "      <th>CoordE</th>\n",
       "      <th>CoordN</th>\n",
       "      <th>Deal_Type</th>\n",
       "    </tr>\n",
       "  </thead>\n",
       "  <tbody>\n",
       "    <tr>\n",
       "      <th>0</th>\n",
       "      <td>A1</td>\n",
       "      <td>10</td>\n",
       "      <td>JU</td>\n",
       "      <td>2954.00000</td>\n",
       "      <td>Asuel</td>\n",
       "      <td>2020-12-16</td>\n",
       "      <td>not available</td>\n",
       "      <td>CHF 1,050</td>\n",
       "      <td>Appartement avec beaucoup de charme à louer à ...</td>\n",
       "      <td>fr</td>\n",
       "      <td>3.5</td>\n",
       "      <td>not available</td>\n",
       "      <td>not available</td>\n",
       "      <td>NaN</td>\n",
       "      <td>not available</td>\n",
       "      <td>NaN</td>\n",
       "      <td>80</td>\n",
       "      <td>NaN</td>\n",
       "      <td>NaN</td>\n",
       "      <td>7.21142</td>\n",
       "      <td>47.40130</td>\n",
       "      <td>rental</td>\n",
       "    </tr>\n",
       "    <tr>\n",
       "      <th>1</th>\n",
       "      <td>A10</td>\n",
       "      <td>10</td>\n",
       "      <td>ZH</td>\n",
       "      <td>8053.00000</td>\n",
       "      <td>Zürich</td>\n",
       "      <td>2020-11-19</td>\n",
       "      <td>nach Vereinbarung</td>\n",
       "      <td>CHF 4,048</td>\n",
       "      <td>Die Highlights:&lt;br /&gt;» Gut geschnittener Büror...</td>\n",
       "      <td>de</td>\n",
       "      <td>None</td>\n",
       "      <td>EG</td>\n",
       "      <td>1992</td>\n",
       "      <td>NaN</td>\n",
       "      <td>EG</td>\n",
       "      <td>NaN</td>\n",
       "      <td>not available</td>\n",
       "      <td>NaN</td>\n",
       "      <td>145</td>\n",
       "      <td>8.58706</td>\n",
       "      <td>47.35843</td>\n",
       "      <td>rental</td>\n",
       "    </tr>\n",
       "    <tr>\n",
       "      <th>2</th>\n",
       "      <td>A100</td>\n",
       "      <td>10</td>\n",
       "      <td>ZH</td>\n",
       "      <td>8902.00000</td>\n",
       "      <td>Urdorf</td>\n",
       "      <td>2021-01-20</td>\n",
       "      <td>sofort</td>\n",
       "      <td>CHF 1,061</td>\n",
       "      <td>Für diese Wohnung suchen wir ein nettes Paar (...</td>\n",
       "      <td>de</td>\n",
       "      <td>3</td>\n",
       "      <td>3. Stock</td>\n",
       "      <td>not available</td>\n",
       "      <td>NaN</td>\n",
       "      <td>3. Stock</td>\n",
       "      <td>NaN</td>\n",
       "      <td>57</td>\n",
       "      <td>NaN</td>\n",
       "      <td>NaN</td>\n",
       "      <td>8.43089</td>\n",
       "      <td>47.37906</td>\n",
       "      <td>rental</td>\n",
       "    </tr>\n",
       "    <tr>\n",
       "      <th>3</th>\n",
       "      <td>A10000</td>\n",
       "      <td>10</td>\n",
       "      <td>TI</td>\n",
       "      <td>6830.00000</td>\n",
       "      <td>Chiasso</td>\n",
       "      <td>2020-10-16</td>\n",
       "      <td>sofort</td>\n",
       "      <td>CHF 2,250</td>\n",
       "      <td>&lt;h3&gt;Chiasso&lt;/h3&gt;&lt;p&gt;&lt;p&gt;Si affitta in pieno a ce...</td>\n",
       "      <td>it</td>\n",
       "      <td>10</td>\n",
       "      <td>2. Stock</td>\n",
       "      <td>not available</td>\n",
       "      <td>NaN</td>\n",
       "      <td>2. Stock</td>\n",
       "      <td>NaN</td>\n",
       "      <td>190</td>\n",
       "      <td>NaN</td>\n",
       "      <td>NaN</td>\n",
       "      <td>9.03179</td>\n",
       "      <td>45.83595</td>\n",
       "      <td>rental</td>\n",
       "    </tr>\n",
       "    <tr>\n",
       "      <th>4</th>\n",
       "      <td>A100001</td>\n",
       "      <td>20</td>\n",
       "      <td>TI</td>\n",
       "      <td>6818.00000</td>\n",
       "      <td>Melano</td>\n",
       "      <td>2020-07-17</td>\n",
       "      <td>sofort</td>\n",
       "      <td>CHF 2,150,000</td>\n",
       "      <td>Attico mansardato, posto in elegante palazzina...</td>\n",
       "      <td>it</td>\n",
       "      <td>5.5</td>\n",
       "      <td>3. Stock</td>\n",
       "      <td>2012</td>\n",
       "      <td>NaN</td>\n",
       "      <td>3. Stock</td>\n",
       "      <td>NaN</td>\n",
       "      <td>163</td>\n",
       "      <td>NaN</td>\n",
       "      <td>388</td>\n",
       "      <td>8.98268</td>\n",
       "      <td>45.92414</td>\n",
       "      <td>sell</td>\n",
       "    </tr>\n",
       "  </tbody>\n",
       "</table>\n",
       "</div>"
      ],
      "text/plain": [
       "        ID  DealType Canton    ZipCode     City PublishedDate  \\\n",
       "0       A1        10     JU 2954.00000    Asuel    2020-12-16   \n",
       "1      A10        10     ZH 8053.00000   Zürich    2020-11-19   \n",
       "2     A100        10     ZH 8902.00000   Urdorf    2021-01-20   \n",
       "3   A10000        10     TI 6830.00000  Chiasso    2020-10-16   \n",
       "4  A100001        20     TI 6818.00000   Melano    2020-07-17   \n",
       "\n",
       "       AvailableDate      PriceText  \\\n",
       "0      not available      CHF 1,050   \n",
       "1  nach Vereinbarung      CHF 4,048   \n",
       "2             sofort      CHF 1,061   \n",
       "3             sofort      CHF 2,250   \n",
       "4             sofort  CHF 2,150,000   \n",
       "\n",
       "                                         Description LangDetected NumRooms  \\\n",
       "0  Appartement avec beaucoup de charme à louer à ...           fr      3.5   \n",
       "1  Die Highlights:<br />» Gut geschnittener Büror...           de     None   \n",
       "2  Für diese Wohnung suchen wir ein nettes Paar (...           de        3   \n",
       "3  <h3>Chiasso</h3><p><p>Si affitta in pieno a ce...           it       10   \n",
       "4  Attico mansardato, posto in elegante palazzina...           it      5.5   \n",
       "\n",
       "           Floor YearOfConstruction  NumApartments         Floor1  \\\n",
       "0  not available      not available            NaN  not available   \n",
       "1             EG               1992            NaN             EG   \n",
       "2       3. Stock      not available            NaN       3. Stock   \n",
       "3       2. Stock      not available            NaN       2. Stock   \n",
       "4       3. Stock               2012            NaN       3. Stock   \n",
       "\n",
       "   NumApartments1    LivingSpace BuildingArea UsefulArea  CoordE   CoordN  \\\n",
       "0             NaN             80          NaN        NaN 7.21142 47.40130   \n",
       "1             NaN  not available          NaN        145 8.58706 47.35843   \n",
       "2             NaN             57          NaN        NaN 8.43089 47.37906   \n",
       "3             NaN            190          NaN        NaN 9.03179 45.83595   \n",
       "4             NaN            163          NaN        388 8.98268 45.92414   \n",
       "\n",
       "  Deal_Type  \n",
       "0    rental  \n",
       "1    rental  \n",
       "2    rental  \n",
       "3    rental  \n",
       "4      sell  "
      ]
     },
     "execution_count": 23,
     "metadata": {},
     "output_type": "execute_result"
    }
   ],
   "source": [
    "data.head()"
   ]
  },
  {
   "cell_type": "code",
   "execution_count": 24,
   "id": "162117ef",
   "metadata": {
    "execution": {
     "iopub.execute_input": "2022-04-11T20:28:27.037135Z",
     "iopub.status.busy": "2022-04-11T20:28:27.035901Z",
     "iopub.status.idle": "2022-04-11T20:28:27.040425Z",
     "shell.execute_reply": "2022-04-11T20:28:27.041061Z",
     "shell.execute_reply.started": "2022-04-11T19:31:48.589300Z"
    },
    "papermill": {
     "duration": 0.300233,
     "end_time": "2022-04-11T20:28:27.041253",
     "exception": false,
     "start_time": "2022-04-11T20:28:26.741020",
     "status": "completed"
    },
    "tags": []
   },
   "outputs": [
    {
     "data": {
      "text/plain": [
       "Index(['ID', 'DealType', 'Canton', 'ZipCode', 'City', 'PublishedDate',\n",
       "       'AvailableDate', 'PriceText', 'Description', 'LangDetected', 'NumRooms',\n",
       "       'Floor', 'YearOfConstruction', 'NumApartments', 'Floor1',\n",
       "       'NumApartments1', 'LivingSpace', 'BuildingArea', 'UsefulArea', 'CoordE',\n",
       "       'CoordN', 'Deal_Type'],\n",
       "      dtype='object')"
      ]
     },
     "execution_count": 24,
     "metadata": {},
     "output_type": "execute_result"
    }
   ],
   "source": [
    "data.columns"
   ]
  },
  {
   "cell_type": "code",
   "execution_count": 25,
   "id": "9d8ffe8b",
   "metadata": {
    "execution": {
     "iopub.execute_input": "2022-04-11T20:28:27.695128Z",
     "iopub.status.busy": "2022-04-11T20:28:27.694190Z",
     "iopub.status.idle": "2022-04-11T20:28:28.510129Z",
     "shell.execute_reply": "2022-04-11T20:28:28.510664Z",
     "shell.execute_reply.started": "2022-04-11T19:31:48.603154Z"
    },
    "papermill": {
     "duration": 1.173658,
     "end_time": "2022-04-11T20:28:28.510857",
     "exception": false,
     "start_time": "2022-04-11T20:28:27.337199",
     "status": "completed"
    },
    "tags": []
   },
   "outputs": [
    {
     "data": {
      "image/png": "[encoded data removed]",
      "text/plain": [
       "<Figure size 576x360 with 1 Axes>"
      ]
     },
     "metadata": {},
     "output_type": "display_data"
    }
   ],
   "source": [
    "sns.set_style('darkgrid')\n",
    "plt.figure(figsize=(8, 5))\n",
    "sns.countplot(data['Deal_Type'])\n",
    "plt.title('Target variable distribution')\n",
    "plt.show()"
   ]
  },
  {
   "cell_type": "code",
   "execution_count": 26,
   "id": "63fac63d",
   "metadata": {
    "execution": {
     "iopub.execute_input": "2022-04-11T20:28:29.106834Z",
     "iopub.status.busy": "2022-04-11T20:28:29.106138Z",
     "iopub.status.idle": "2022-04-11T20:28:29.110845Z",
     "shell.execute_reply": "2022-04-11T20:28:29.111510Z",
     "shell.execute_reply.started": "2022-04-11T19:31:49.179599Z"
    },
    "papermill": {
     "duration": 0.306888,
     "end_time": "2022-04-11T20:28:29.111684",
     "exception": false,
     "start_time": "2022-04-11T20:28:28.804796",
     "status": "completed"
    },
    "tags": []
   },
   "outputs": [
    {
     "data": {
      "text/plain": [
       "(582669, 22)"
      ]
     },
     "execution_count": 26,
     "metadata": {},
     "output_type": "execute_result"
    }
   ],
   "source": [
    "data.shape"
   ]
  },
  {
   "cell_type": "code",
   "execution_count": 27,
   "id": "f565f14b",
   "metadata": {
    "execution": {
     "iopub.execute_input": "2022-04-11T20:28:29.708058Z",
     "iopub.status.busy": "2022-04-11T20:28:29.706823Z",
     "iopub.status.idle": "2022-04-11T20:28:30.696452Z",
     "shell.execute_reply": "2022-04-11T20:28:30.695788Z",
     "shell.execute_reply.started": "2022-04-11T19:31:49.188540Z"
    },
    "papermill": {
     "duration": 1.29249,
     "end_time": "2022-04-11T20:28:30.696600",
     "exception": false,
     "start_time": "2022-04-11T20:28:29.404110",
     "status": "completed"
    },
    "tags": []
   },
   "outputs": [
    {
     "data": {
      "text/plain": [
       "NumApartments         563120\n",
       "NumApartments1        563120\n",
       "BuildingArea          525445\n",
       "UsefulArea            477026\n",
       "City                   47227\n",
       "Description               23\n",
       "ZipCode                    1\n",
       "ID                         0\n",
       "CoordN                     0\n",
       "CoordE                     0\n",
       "LivingSpace                0\n",
       "Floor1                     0\n",
       "Floor                      0\n",
       "YearOfConstruction         0\n",
       "DealType                   0\n",
       "NumRooms                   0\n",
       "LangDetected               0\n",
       "PriceText                  0\n",
       "AvailableDate              0\n",
       "PublishedDate              0\n",
       "Canton                     0\n",
       "Deal_Type                  0\n",
       "dtype: int64"
      ]
     },
     "execution_count": 27,
     "metadata": {},
     "output_type": "execute_result"
    }
   ],
   "source": [
    "data.isnull().sum().sort_values(ascending = False)"
   ]
  },
  {
   "cell_type": "code",
   "execution_count": 28,
   "id": "88bd43b9",
   "metadata": {
    "execution": {
     "iopub.execute_input": "2022-04-11T20:28:31.291110Z",
     "iopub.status.busy": "2022-04-11T20:28:31.289653Z",
     "iopub.status.idle": "2022-04-11T20:28:32.859206Z",
     "shell.execute_reply": "2022-04-11T20:28:32.859743Z",
     "shell.execute_reply.started": "2022-04-11T19:31:49.670070Z"
    },
    "papermill": {
     "duration": 1.869743,
     "end_time": "2022-04-11T20:28:32.859932",
     "exception": false,
     "start_time": "2022-04-11T20:28:30.990189",
     "status": "completed"
    },
    "tags": []
   },
   "outputs": [
    {
     "data": {
      "image/png": "[encoded data removed]",
      "text/plain": [
       "<Figure size 648x720 with 1 Axes>"
      ]
     },
     "metadata": {},
     "output_type": "display_data"
    }
   ],
   "source": [
    "#Plot missing values in data\n",
    "ax = data.isna().sum().sort_values().plot(kind = 'barh', figsize = (9, 10))\n",
    "plt.title('Percentage of Missing Values Per Column Dataset', fontdict={'size':15})\n",
    "for p in ax.patches:\n",
    "    percentage ='{:,.0f}%'.format((p.get_width()/data.shape[0])*100)\n",
    "    width, height =p.get_width(),p.get_height()\n",
    "    x=p.get_x()+width+0.02\n",
    "    y=p.get_y()+height/2\n",
    "    ax.annotate(percentage,(x,y))"
   ]
  },
  {
   "cell_type": "code",
   "execution_count": 29,
   "id": "7678c732",
   "metadata": {
    "execution": {
     "iopub.execute_input": "2022-04-11T20:28:33.460776Z",
     "iopub.status.busy": "2022-04-11T20:28:33.459986Z",
     "iopub.status.idle": "2022-04-11T20:28:36.427843Z",
     "shell.execute_reply": "2022-04-11T20:28:36.427164Z",
     "shell.execute_reply.started": "2022-04-11T19:31:50.689158Z"
    },
    "papermill": {
     "duration": 3.269668,
     "end_time": "2022-04-11T20:28:36.428003",
     "exception": false,
     "start_time": "2022-04-11T20:28:33.158335",
     "status": "completed"
    },
    "tags": []
   },
   "outputs": [
    {
     "data": {
      "text/html": [
       "<div>\n",
       "<style scoped>\n",
       "    .dataframe tbody tr th:only-of-type {\n",
       "        vertical-align: middle;\n",
       "    }\n",
       "\n",
       "    .dataframe tbody tr th {\n",
       "        vertical-align: top;\n",
       "    }\n",
       "\n",
       "    .dataframe thead th {\n",
       "        text-align: right;\n",
       "    }\n",
       "</style>\n",
       "<table border=\"1\" class=\"dataframe\">\n",
       "  <thead>\n",
       "    <tr style=\"text-align: right;\">\n",
       "      <th></th>\n",
       "      <th>Total</th>\n",
       "      <th>Percentage</th>\n",
       "    </tr>\n",
       "  </thead>\n",
       "  <tbody>\n",
       "    <tr>\n",
       "      <th>NumApartments</th>\n",
       "      <td>563120</td>\n",
       "      <td>96.64492</td>\n",
       "    </tr>\n",
       "    <tr>\n",
       "      <th>NumApartments1</th>\n",
       "      <td>563120</td>\n",
       "      <td>96.64492</td>\n",
       "    </tr>\n",
       "    <tr>\n",
       "      <th>BuildingArea</th>\n",
       "      <td>525445</td>\n",
       "      <td>90.17899</td>\n",
       "    </tr>\n",
       "    <tr>\n",
       "      <th>UsefulArea</th>\n",
       "      <td>477026</td>\n",
       "      <td>81.86912</td>\n",
       "    </tr>\n",
       "    <tr>\n",
       "      <th>City</th>\n",
       "      <td>47227</td>\n",
       "      <td>8.10529</td>\n",
       "    </tr>\n",
       "    <tr>\n",
       "      <th>Description</th>\n",
       "      <td>23</td>\n",
       "      <td>0.00395</td>\n",
       "    </tr>\n",
       "    <tr>\n",
       "      <th>ZipCode</th>\n",
       "      <td>1</td>\n",
       "      <td>0.00017</td>\n",
       "    </tr>\n",
       "    <tr>\n",
       "      <th>ID</th>\n",
       "      <td>0</td>\n",
       "      <td>0.00000</td>\n",
       "    </tr>\n",
       "    <tr>\n",
       "      <th>CoordN</th>\n",
       "      <td>0</td>\n",
       "      <td>0.00000</td>\n",
       "    </tr>\n",
       "    <tr>\n",
       "      <th>CoordE</th>\n",
       "      <td>0</td>\n",
       "      <td>0.00000</td>\n",
       "    </tr>\n",
       "    <tr>\n",
       "      <th>LivingSpace</th>\n",
       "      <td>0</td>\n",
       "      <td>0.00000</td>\n",
       "    </tr>\n",
       "    <tr>\n",
       "      <th>Floor1</th>\n",
       "      <td>0</td>\n",
       "      <td>0.00000</td>\n",
       "    </tr>\n",
       "    <tr>\n",
       "      <th>Floor</th>\n",
       "      <td>0</td>\n",
       "      <td>0.00000</td>\n",
       "    </tr>\n",
       "    <tr>\n",
       "      <th>YearOfConstruction</th>\n",
       "      <td>0</td>\n",
       "      <td>0.00000</td>\n",
       "    </tr>\n",
       "    <tr>\n",
       "      <th>DealType</th>\n",
       "      <td>0</td>\n",
       "      <td>0.00000</td>\n",
       "    </tr>\n",
       "    <tr>\n",
       "      <th>NumRooms</th>\n",
       "      <td>0</td>\n",
       "      <td>0.00000</td>\n",
       "    </tr>\n",
       "    <tr>\n",
       "      <th>LangDetected</th>\n",
       "      <td>0</td>\n",
       "      <td>0.00000</td>\n",
       "    </tr>\n",
       "    <tr>\n",
       "      <th>PriceText</th>\n",
       "      <td>0</td>\n",
       "      <td>0.00000</td>\n",
       "    </tr>\n",
       "    <tr>\n",
       "      <th>AvailableDate</th>\n",
       "      <td>0</td>\n",
       "      <td>0.00000</td>\n",
       "    </tr>\n",
       "    <tr>\n",
       "      <th>PublishedDate</th>\n",
       "      <td>0</td>\n",
       "      <td>0.00000</td>\n",
       "    </tr>\n",
       "  </tbody>\n",
       "</table>\n",
       "</div>"
      ],
      "text/plain": [
       "                     Total  Percentage\n",
       "NumApartments       563120    96.64492\n",
       "NumApartments1      563120    96.64492\n",
       "BuildingArea        525445    90.17899\n",
       "UsefulArea          477026    81.86912\n",
       "City                 47227     8.10529\n",
       "Description             23     0.00395\n",
       "ZipCode                  1     0.00017\n",
       "ID                       0     0.00000\n",
       "CoordN                   0     0.00000\n",
       "CoordE                   0     0.00000\n",
       "LivingSpace              0     0.00000\n",
       "Floor1                   0     0.00000\n",
       "Floor                    0     0.00000\n",
       "YearOfConstruction       0     0.00000\n",
       "DealType                 0     0.00000\n",
       "NumRooms                 0     0.00000\n",
       "LangDetected             0     0.00000\n",
       "PriceText                0     0.00000\n",
       "AvailableDate            0     0.00000\n",
       "PublishedDate            0     0.00000"
      ]
     },
     "execution_count": 29,
     "metadata": {},
     "output_type": "execute_result"
    }
   ],
   "source": [
    "#To find the percentage of missing rows in each column\n",
    "total = data.isnull().sum().sort_values(ascending=False)\n",
    "percentage = ((data.isnull().sum()/data.isnull().count()).sort_values(ascending=False)*100)\n",
    "missing_data = pd.concat([total, percentage], axis=1, keys=['Total', 'Percentage'])\n",
    "missing_data.head(20)"
   ]
  },
  {
   "cell_type": "code",
   "execution_count": null,
   "id": "fcc73853",
   "metadata": {
    "papermill": {
     "duration": 0.302274,
     "end_time": "2022-04-11T20:28:37.034038",
     "exception": false,
     "start_time": "2022-04-11T20:28:36.731764",
     "status": "completed"
    },
    "tags": []
   },
   "outputs": [],
   "source": []
  },
  {
   "cell_type": "markdown",
   "id": "652a3fd3",
   "metadata": {
    "papermill": {
     "duration": 0.325273,
     "end_time": "2022-04-11T20:28:37.653419",
     "exception": false,
     "start_time": "2022-04-11T20:28:37.328146",
     "status": "completed"
    },
    "tags": []
   },
   "source": [
    "## Treating Missing Values and Outliers"
   ]
  },
  {
   "cell_type": "code",
   "execution_count": 30,
   "id": "3d18bbee",
   "metadata": {
    "execution": {
     "iopub.execute_input": "2022-04-11T20:28:38.274301Z",
     "iopub.status.busy": "2022-04-11T20:28:38.273585Z",
     "iopub.status.idle": "2022-04-11T20:28:39.269939Z",
     "shell.execute_reply": "2022-04-11T20:28:39.270478Z",
     "shell.execute_reply.started": "2022-04-11T19:31:52.055082Z"
    },
    "papermill": {
     "duration": 1.314891,
     "end_time": "2022-04-11T20:28:39.270678",
     "exception": false,
     "start_time": "2022-04-11T20:28:37.955787",
     "status": "completed"
    },
    "tags": []
   },
   "outputs": [
    {
     "data": {
      "text/plain": [
       "NumApartments         563120\n",
       "NumApartments1        563120\n",
       "BuildingArea          525445\n",
       "UsefulArea            477026\n",
       "City                   47227\n",
       "Description               23\n",
       "ZipCode                    1\n",
       "ID                         0\n",
       "CoordN                     0\n",
       "CoordE                     0\n",
       "LivingSpace                0\n",
       "Floor1                     0\n",
       "Floor                      0\n",
       "YearOfConstruction         0\n",
       "DealType                   0\n",
       "NumRooms                   0\n",
       "LangDetected               0\n",
       "PriceText                  0\n",
       "AvailableDate              0\n",
       "PublishedDate              0\n",
       "Canton                     0\n",
       "Deal_Type                  0\n",
       "dtype: int64"
      ]
     },
     "execution_count": 30,
     "metadata": {},
     "output_type": "execute_result"
    }
   ],
   "source": [
    "data.isnull().sum().sort_values(ascending=False)"
   ]
  },
  {
   "cell_type": "code",
   "execution_count": 31,
   "id": "3d6a3442",
   "metadata": {
    "execution": {
     "iopub.execute_input": "2022-04-11T20:28:39.881821Z",
     "iopub.status.busy": "2022-04-11T20:28:39.881119Z",
     "iopub.status.idle": "2022-04-11T20:28:39.884392Z",
     "shell.execute_reply": "2022-04-11T20:28:39.884907Z",
     "shell.execute_reply.started": "2022-04-11T19:31:52.513965Z"
    },
    "papermill": {
     "duration": 0.31098,
     "end_time": "2022-04-11T20:28:39.885091",
     "exception": false,
     "start_time": "2022-04-11T20:28:39.574111",
     "status": "completed"
    },
    "tags": []
   },
   "outputs": [],
   "source": [
    "mis_columns = ['NumApartments', 'NumApartments1', 'BuildingArea', 'UsefulArea' ]"
   ]
  },
  {
   "cell_type": "code",
   "execution_count": 32,
   "id": "538e21d7",
   "metadata": {
    "execution": {
     "iopub.execute_input": "2022-04-11T20:28:40.483788Z",
     "iopub.status.busy": "2022-04-11T20:28:40.483106Z",
     "iopub.status.idle": "2022-04-11T20:28:40.558109Z",
     "shell.execute_reply": "2022-04-11T20:28:40.557472Z",
     "shell.execute_reply.started": "2022-04-11T19:31:52.519679Z"
    },
    "papermill": {
     "duration": 0.377079,
     "end_time": "2022-04-11T20:28:40.558253",
     "exception": false,
     "start_time": "2022-04-11T20:28:40.181174",
     "status": "completed"
    },
    "tags": []
   },
   "outputs": [
    {
     "data": {
      "text/html": [
       "<div>\n",
       "<style scoped>\n",
       "    .dataframe tbody tr th:only-of-type {\n",
       "        vertical-align: middle;\n",
       "    }\n",
       "\n",
       "    .dataframe tbody tr th {\n",
       "        vertical-align: top;\n",
       "    }\n",
       "\n",
       "    .dataframe thead th {\n",
       "        text-align: right;\n",
       "    }\n",
       "</style>\n",
       "<table border=\"1\" class=\"dataframe\">\n",
       "  <thead>\n",
       "    <tr style=\"text-align: right;\">\n",
       "      <th></th>\n",
       "      <th>DealType</th>\n",
       "      <th>ZipCode</th>\n",
       "      <th>NumApartments</th>\n",
       "      <th>NumApartments1</th>\n",
       "      <th>CoordE</th>\n",
       "      <th>CoordN</th>\n",
       "    </tr>\n",
       "  </thead>\n",
       "  <tbody>\n",
       "    <tr>\n",
       "      <th>DealType</th>\n",
       "      <td>1.00000</td>\n",
       "      <td>-0.06292</td>\n",
       "      <td>-0.16487</td>\n",
       "      <td>-0.16487</td>\n",
       "      <td>0.00941</td>\n",
       "      <td>-0.27611</td>\n",
       "    </tr>\n",
       "    <tr>\n",
       "      <th>ZipCode</th>\n",
       "      <td>-0.06292</td>\n",
       "      <td>1.00000</td>\n",
       "      <td>0.23040</td>\n",
       "      <td>0.23040</td>\n",
       "      <td>0.32383</td>\n",
       "      <td>0.22359</td>\n",
       "    </tr>\n",
       "    <tr>\n",
       "      <th>NumApartments</th>\n",
       "      <td>-0.16487</td>\n",
       "      <td>0.23040</td>\n",
       "      <td>1.00000</td>\n",
       "      <td>1.00000</td>\n",
       "      <td>0.22231</td>\n",
       "      <td>-0.03104</td>\n",
       "    </tr>\n",
       "    <tr>\n",
       "      <th>NumApartments1</th>\n",
       "      <td>-0.16487</td>\n",
       "      <td>0.23040</td>\n",
       "      <td>1.00000</td>\n",
       "      <td>1.00000</td>\n",
       "      <td>0.22231</td>\n",
       "      <td>-0.03104</td>\n",
       "    </tr>\n",
       "    <tr>\n",
       "      <th>CoordE</th>\n",
       "      <td>0.00941</td>\n",
       "      <td>0.32383</td>\n",
       "      <td>0.22231</td>\n",
       "      <td>0.22231</td>\n",
       "      <td>1.00000</td>\n",
       "      <td>-0.57470</td>\n",
       "    </tr>\n",
       "    <tr>\n",
       "      <th>CoordN</th>\n",
       "      <td>-0.27611</td>\n",
       "      <td>0.22359</td>\n",
       "      <td>-0.03104</td>\n",
       "      <td>-0.03104</td>\n",
       "      <td>-0.57470</td>\n",
       "      <td>1.00000</td>\n",
       "    </tr>\n",
       "  </tbody>\n",
       "</table>\n",
       "</div>"
      ],
      "text/plain": [
       "                DealType  ZipCode  NumApartments  NumApartments1   CoordE  \\\n",
       "DealType         1.00000 -0.06292       -0.16487        -0.16487  0.00941   \n",
       "ZipCode         -0.06292  1.00000        0.23040         0.23040  0.32383   \n",
       "NumApartments   -0.16487  0.23040        1.00000         1.00000  0.22231   \n",
       "NumApartments1  -0.16487  0.23040        1.00000         1.00000  0.22231   \n",
       "CoordE           0.00941  0.32383        0.22231         0.22231  1.00000   \n",
       "CoordN          -0.27611  0.22359       -0.03104        -0.03104 -0.57470   \n",
       "\n",
       "                 CoordN  \n",
       "DealType       -0.27611  \n",
       "ZipCode         0.22359  \n",
       "NumApartments  -0.03104  \n",
       "NumApartments1 -0.03104  \n",
       "CoordE         -0.57470  \n",
       "CoordN          1.00000  "
      ]
     },
     "execution_count": 32,
     "metadata": {},
     "output_type": "execute_result"
    }
   ],
   "source": [
    "data.corr()"
   ]
  },
  {
   "cell_type": "code",
   "execution_count": 33,
   "id": "86a32845",
   "metadata": {
    "execution": {
     "iopub.execute_input": "2022-04-11T20:28:41.157561Z",
     "iopub.status.busy": "2022-04-11T20:28:41.156512Z",
     "iopub.status.idle": "2022-04-11T20:28:41.163815Z",
     "shell.execute_reply": "2022-04-11T20:28:41.164385Z",
     "shell.execute_reply.started": "2022-04-11T19:31:52.598428Z"
    },
    "papermill": {
     "duration": 0.311258,
     "end_time": "2022-04-11T20:28:41.164581",
     "exception": false,
     "start_time": "2022-04-11T20:28:40.853323",
     "status": "completed"
    },
    "tags": []
   },
   "outputs": [
    {
     "data": {
      "text/plain": [
       "0   NaN\n",
       "1   NaN\n",
       "2   NaN\n",
       "3   NaN\n",
       "4   NaN\n",
       "Name: NumApartments, dtype: float64"
      ]
     },
     "execution_count": 33,
     "metadata": {},
     "output_type": "execute_result"
    }
   ],
   "source": [
    "data['NumApartments'].head()"
   ]
  },
  {
   "cell_type": "code",
   "execution_count": 34,
   "id": "7ad0ec01",
   "metadata": {
    "execution": {
     "iopub.execute_input": "2022-04-11T20:28:41.773101Z",
     "iopub.status.busy": "2022-04-11T20:28:41.766072Z",
     "iopub.status.idle": "2022-04-11T20:28:41.779580Z",
     "shell.execute_reply": "2022-04-11T20:28:41.780237Z",
     "shell.execute_reply.started": "2022-04-11T19:31:52.607307Z"
    },
    "papermill": {
     "duration": 0.315997,
     "end_time": "2022-04-11T20:28:41.780411",
     "exception": false,
     "start_time": "2022-04-11T20:28:41.464414",
     "status": "completed"
    },
    "tags": []
   },
   "outputs": [
    {
     "data": {
      "text/plain": [
       "1.00000     3112\n",
       "2.00000     2418\n",
       "3.00000     1648\n",
       "6.00000     1622\n",
       "4.00000     1349\n",
       "            ... \n",
       "93.00000       1\n",
       "70.00000       1\n",
       "65.00000       1\n",
       "99.00000       1\n",
       "38.00000       1\n",
       "Name: NumApartments, Length: 74, dtype: int64"
      ]
     },
     "execution_count": 34,
     "metadata": {},
     "output_type": "execute_result"
    }
   ],
   "source": [
    "data['NumApartments'].value_counts()"
   ]
  },
  {
   "cell_type": "code",
   "execution_count": 35,
   "id": "5efcc8c6",
   "metadata": {
    "execution": {
     "iopub.execute_input": "2022-04-11T20:28:42.398163Z",
     "iopub.status.busy": "2022-04-11T20:28:42.397351Z",
     "iopub.status.idle": "2022-04-11T20:28:42.400061Z",
     "shell.execute_reply": "2022-04-11T20:28:42.400569Z",
     "shell.execute_reply.started": "2022-04-11T19:31:52.625904Z"
    },
    "papermill": {
     "duration": 0.316143,
     "end_time": "2022-04-11T20:28:42.400750",
     "exception": false,
     "start_time": "2022-04-11T20:28:42.084607",
     "status": "completed"
    },
    "tags": []
   },
   "outputs": [
    {
     "data": {
      "text/plain": [
       "['NumApartments', 'NumApartments1', 'BuildingArea', 'UsefulArea']"
      ]
     },
     "execution_count": 35,
     "metadata": {},
     "output_type": "execute_result"
    }
   ],
   "source": [
    "mis_columns"
   ]
  },
  {
   "cell_type": "code",
   "execution_count": 36,
   "id": "9605e5e3",
   "metadata": {
    "execution": {
     "iopub.execute_input": "2022-04-11T20:28:43.005144Z",
     "iopub.status.busy": "2022-04-11T20:28:43.004349Z",
     "iopub.status.idle": "2022-04-11T20:28:43.015308Z",
     "shell.execute_reply": "2022-04-11T20:28:43.015971Z",
     "shell.execute_reply.started": "2022-04-11T19:31:52.639550Z"
    },
    "papermill": {
     "duration": 0.315095,
     "end_time": "2022-04-11T20:28:43.016174",
     "exception": false,
     "start_time": "2022-04-11T20:28:42.701079",
     "status": "completed"
    },
    "tags": []
   },
   "outputs": [],
   "source": [
    "NumApartments = data['NumApartments'].copy()\n",
    "BuildingArea = data['BuildingArea'].copy()\n",
    "UsefulArea = data['UsefulArea'].copy()"
   ]
  },
  {
   "cell_type": "code",
   "execution_count": 37,
   "id": "cd2a4bc3",
   "metadata": {
    "execution": {
     "iopub.execute_input": "2022-04-11T20:28:43.617454Z",
     "iopub.status.busy": "2022-04-11T20:28:43.616782Z",
     "iopub.status.idle": "2022-04-11T20:28:43.622212Z",
     "shell.execute_reply": "2022-04-11T20:28:43.622785Z",
     "shell.execute_reply.started": "2022-04-11T19:31:52.656234Z"
    },
    "papermill": {
     "duration": 0.310116,
     "end_time": "2022-04-11T20:28:43.622962",
     "exception": false,
     "start_time": "2022-04-11T20:28:43.312846",
     "status": "completed"
    },
    "tags": []
   },
   "outputs": [
    {
     "data": {
      "text/plain": [
       "Index(['ID', 'DealType', 'Canton', 'ZipCode', 'City', 'PublishedDate',\n",
       "       'AvailableDate', 'PriceText', 'Description', 'LangDetected', 'NumRooms',\n",
       "       'Floor', 'YearOfConstruction', 'NumApartments', 'Floor1',\n",
       "       'NumApartments1', 'LivingSpace', 'BuildingArea', 'UsefulArea', 'CoordE',\n",
       "       'CoordN', 'Deal_Type'],\n",
       "      dtype='object')"
      ]
     },
     "execution_count": 37,
     "metadata": {},
     "output_type": "execute_result"
    }
   ],
   "source": [
    "data.columns"
   ]
  },
  {
   "cell_type": "code",
   "execution_count": 38,
   "id": "30ab4c3a",
   "metadata": {
    "execution": {
     "iopub.execute_input": "2022-04-11T20:28:44.230533Z",
     "iopub.status.busy": "2022-04-11T20:28:44.229815Z",
     "iopub.status.idle": "2022-04-11T20:28:44.235192Z",
     "shell.execute_reply": "2022-04-11T20:28:44.235836Z",
     "shell.execute_reply.started": "2022-04-11T19:31:52.665794Z"
    },
    "papermill": {
     "duration": 0.311766,
     "end_time": "2022-04-11T20:28:44.236022",
     "exception": false,
     "start_time": "2022-04-11T20:28:43.924256",
     "status": "completed"
    },
    "tags": []
   },
   "outputs": [],
   "source": [
    "outliers = []\n",
    "def detect_outliers_zscore(data):\n",
    "    thres = 3\n",
    "    mean = np.mean(data)\n",
    "    std = np.std(data)\n",
    "    # print(mean, std)\n",
    "    for i in data:\n",
    "        z_score = (i-mean)/std\n",
    "        if (np.abs(z_score) > thres):\n",
    "            outliers.append(i)\n",
    "    return outliers# Driver code\n",
    "\n",
    "#sample_outliers = detect_outliers_zscore(data['adNumApartments.1'])\n",
    "#print(\"Outliers from Z-scores method: \", sample_outliers)"
   ]
  },
  {
   "cell_type": "code",
   "execution_count": null,
   "id": "aee26065",
   "metadata": {
    "papermill": {
     "duration": 0.302169,
     "end_time": "2022-04-11T20:28:44.840689",
     "exception": false,
     "start_time": "2022-04-11T20:28:44.538520",
     "status": "completed"
    },
    "tags": []
   },
   "outputs": [],
   "source": []
  },
  {
   "cell_type": "code",
   "execution_count": 39,
   "id": "7f25b3b6",
   "metadata": {
    "execution": {
     "iopub.execute_input": "2022-04-11T20:28:45.444899Z",
     "iopub.status.busy": "2022-04-11T20:28:45.444190Z",
     "iopub.status.idle": "2022-04-11T20:28:45.675972Z",
     "shell.execute_reply": "2022-04-11T20:28:45.676431Z",
     "shell.execute_reply.started": "2022-04-11T19:31:52.675625Z"
    },
    "papermill": {
     "duration": 0.533901,
     "end_time": "2022-04-11T20:28:45.676639",
     "exception": false,
     "start_time": "2022-04-11T20:28:45.142738",
     "status": "completed"
    },
    "tags": []
   },
   "outputs": [
    {
     "data": {
      "image/png": "[encoded data removed]",
      "text/plain": [
       "<Figure size 432x288 with 1 Axes>"
      ]
     },
     "metadata": {},
     "output_type": "display_data"
    }
   ],
   "source": [
    "sns.boxplot(data['NumApartments'])\n",
    "plt.show()"
   ]
  },
  {
   "cell_type": "code",
   "execution_count": 40,
   "id": "c7cc039d",
   "metadata": {
    "execution": {
     "iopub.execute_input": "2022-04-11T20:28:46.290277Z",
     "iopub.status.busy": "2022-04-11T20:28:46.289603Z",
     "iopub.status.idle": "2022-04-11T20:28:46.788212Z",
     "shell.execute_reply": "2022-04-11T20:28:46.788723Z",
     "shell.execute_reply.started": "2022-04-11T19:31:52.892621Z"
    },
    "papermill": {
     "duration": 0.805497,
     "end_time": "2022-04-11T20:28:46.788993",
     "exception": false,
     "start_time": "2022-04-11T20:28:45.983496",
     "status": "completed"
    },
    "tags": []
   },
   "outputs": [
    {
     "data": {
      "image/png": "[encoded data removed]",
      "text/plain": [
       "<Figure size 432x288 with 1 Axes>"
      ]
     },
     "metadata": {},
     "output_type": "display_data"
    }
   ],
   "source": [
    "sns.distplot(data['NumApartments'])\n",
    "plt.show()"
   ]
  },
  {
   "cell_type": "code",
   "execution_count": 41,
   "id": "349ed38d",
   "metadata": {
    "execution": {
     "iopub.execute_input": "2022-04-11T20:28:47.402140Z",
     "iopub.status.busy": "2022-04-11T20:28:47.401419Z",
     "iopub.status.idle": "2022-04-11T20:28:47.502374Z",
     "shell.execute_reply": "2022-04-11T20:28:47.501719Z",
     "shell.execute_reply.started": "2022-04-11T19:31:53.357324Z"
    },
    "papermill": {
     "duration": 0.408343,
     "end_time": "2022-04-11T20:28:47.502558",
     "exception": false,
     "start_time": "2022-04-11T20:28:47.094215",
     "status": "completed"
    },
    "tags": []
   },
   "outputs": [],
   "source": [
    "data = data.drop(columns = mis_columns, axis = 1)"
   ]
  },
  {
   "cell_type": "code",
   "execution_count": 42,
   "id": "2575c95a",
   "metadata": {
    "execution": {
     "iopub.execute_input": "2022-04-11T20:28:48.110869Z",
     "iopub.status.busy": "2022-04-11T20:28:48.110128Z",
     "iopub.status.idle": "2022-04-11T20:28:48.116739Z",
     "shell.execute_reply": "2022-04-11T20:28:48.116210Z",
     "shell.execute_reply.started": "2022-04-11T19:31:53.456422Z"
    },
    "papermill": {
     "duration": 0.313115,
     "end_time": "2022-04-11T20:28:48.116886",
     "exception": false,
     "start_time": "2022-04-11T20:28:47.803771",
     "status": "completed"
    },
    "tags": []
   },
   "outputs": [
    {
     "data": {
      "text/plain": [
       "Index(['ID', 'DealType', 'Canton', 'ZipCode', 'City', 'PublishedDate',\n",
       "       'AvailableDate', 'PriceText', 'Description', 'LangDetected', 'NumRooms',\n",
       "       'Floor', 'YearOfConstruction', 'Floor1', 'LivingSpace', 'CoordE',\n",
       "       'CoordN', 'Deal_Type'],\n",
       "      dtype='object')"
      ]
     },
     "execution_count": 42,
     "metadata": {},
     "output_type": "execute_result"
    }
   ],
   "source": [
    "data.columns"
   ]
  },
  {
   "cell_type": "code",
   "execution_count": 43,
   "id": "01916535",
   "metadata": {
    "execution": {
     "iopub.execute_input": "2022-04-11T20:28:49.670934Z",
     "iopub.status.busy": "2022-04-11T20:28:49.669517Z",
     "iopub.status.idle": "2022-04-11T20:28:49.697992Z",
     "shell.execute_reply": "2022-04-11T20:28:49.696360Z",
     "shell.execute_reply.started": "2022-04-11T19:31:53.472260Z"
    },
    "papermill": {
     "duration": 1.272038,
     "end_time": "2022-04-11T20:28:49.698220",
     "exception": false,
     "start_time": "2022-04-11T20:28:48.426182",
     "status": "completed"
    },
    "tags": []
   },
   "outputs": [
    {
     "data": {
      "text/plain": [
       "True"
      ]
     },
     "execution_count": 43,
     "metadata": {},
     "output_type": "execute_result"
    }
   ],
   "source": [
    "data.isnull().sum().any()"
   ]
  },
  {
   "cell_type": "code",
   "execution_count": 44,
   "id": "b7249c01",
   "metadata": {
    "execution": {
     "iopub.execute_input": "2022-04-11T20:28:51.282383Z",
     "iopub.status.busy": "2022-04-11T20:28:51.280941Z",
     "iopub.status.idle": "2022-04-11T20:28:51.304979Z",
     "shell.execute_reply": "2022-04-11T20:28:51.304323Z",
     "shell.execute_reply.started": "2022-04-11T19:31:53.895252Z"
    },
    "papermill": {
     "duration": 1.241648,
     "end_time": "2022-04-11T20:28:51.305143",
     "exception": false,
     "start_time": "2022-04-11T20:28:50.063495",
     "status": "completed"
    },
    "tags": []
   },
   "outputs": [
    {
     "data": {
      "text/plain": [
       "City                  47227\n",
       "Description              23\n",
       "ZipCode                   1\n",
       "ID                        0\n",
       "Floor                     0\n",
       "CoordN                    0\n",
       "CoordE                    0\n",
       "LivingSpace               0\n",
       "Floor1                    0\n",
       "YearOfConstruction        0\n",
       "LangDetected              0\n",
       "NumRooms                  0\n",
       "DealType                  0\n",
       "PriceText                 0\n",
       "AvailableDate             0\n",
       "PublishedDate             0\n",
       "Canton                    0\n",
       "Deal_Type                 0\n",
       "dtype: int64"
      ]
     },
     "execution_count": 44,
     "metadata": {},
     "output_type": "execute_result"
    }
   ],
   "source": [
    "data.isnull().sum().sort_values(ascending = False)"
   ]
  },
  {
   "cell_type": "code",
   "execution_count": 45,
   "id": "4bbacca7",
   "metadata": {
    "execution": {
     "iopub.execute_input": "2022-04-11T20:28:51.981013Z",
     "iopub.status.busy": "2022-04-11T20:28:51.977368Z",
     "iopub.status.idle": "2022-04-11T20:28:51.985201Z",
     "shell.execute_reply": "2022-04-11T20:28:51.985803Z",
     "shell.execute_reply.started": "2022-04-11T19:31:54.317989Z"
    },
    "papermill": {
     "duration": 0.377595,
     "end_time": "2022-04-11T20:28:51.985985",
     "exception": false,
     "start_time": "2022-04-11T20:28:51.608390",
     "status": "completed"
    },
    "tags": []
   },
   "outputs": [
    {
     "data": {
      "text/plain": [
       "Zürich               36322\n",
       "Lausanne             19709\n",
       "Lugano               16873\n",
       "Bern                 14397\n",
       "Luzern               11527\n",
       "                     ...  \n",
       "Vouvry                   1\n",
       "Saicourt                 1\n",
       "Gresso                   1\n",
       "Wiler bei Seedorf        1\n",
       "Wilen b. Wollerau        1\n",
       "Name: City, Length: 2148, dtype: int64"
      ]
     },
     "execution_count": 45,
     "metadata": {},
     "output_type": "execute_result"
    }
   ],
   "source": [
    "data['City'].value_counts()"
   ]
  },
  {
   "cell_type": "code",
   "execution_count": 46,
   "id": "fd0457e7",
   "metadata": {
    "execution": {
     "iopub.execute_input": "2022-04-11T20:28:52.609389Z",
     "iopub.status.busy": "2022-04-11T20:28:52.608721Z",
     "iopub.status.idle": "2022-04-11T20:28:52.611067Z",
     "shell.execute_reply": "2022-04-11T20:28:52.611618Z",
     "shell.execute_reply.started": "2022-04-11T19:31:54.357787Z"
    },
    "papermill": {
     "duration": 0.318447,
     "end_time": "2022-04-11T20:28:52.611802",
     "exception": false,
     "start_time": "2022-04-11T20:28:52.293355",
     "status": "completed"
    },
    "tags": []
   },
   "outputs": [],
   "source": [
    "City = data['City'].copy()"
   ]
  },
  {
   "cell_type": "code",
   "execution_count": 47,
   "id": "87efc365",
   "metadata": {
    "execution": {
     "iopub.execute_input": "2022-04-11T20:28:53.357010Z",
     "iopub.status.busy": "2022-04-11T20:28:53.295323Z",
     "iopub.status.idle": "2022-04-11T20:28:53.365572Z",
     "shell.execute_reply": "2022-04-11T20:28:53.365016Z",
     "shell.execute_reply.started": "2022-04-11T19:31:54.368479Z"
    },
    "papermill": {
     "duration": 0.447631,
     "end_time": "2022-04-11T20:28:53.365727",
     "exception": false,
     "start_time": "2022-04-11T20:28:52.918096",
     "status": "completed"
    },
    "tags": []
   },
   "outputs": [
    {
     "data": {
      "text/plain": [
       "count     535442\n",
       "unique      2148\n",
       "top       Zürich\n",
       "freq       36322\n",
       "Name: City, dtype: object"
      ]
     },
     "execution_count": 47,
     "metadata": {},
     "output_type": "execute_result"
    }
   ],
   "source": [
    "data['City'].describe()"
   ]
  },
  {
   "cell_type": "code",
   "execution_count": 48,
   "id": "34692782",
   "metadata": {
    "execution": {
     "iopub.execute_input": "2022-04-11T20:28:53.976535Z",
     "iopub.status.busy": "2022-04-11T20:28:53.975820Z",
     "iopub.status.idle": "2022-04-11T20:28:53.983023Z",
     "shell.execute_reply": "2022-04-11T20:28:53.983724Z",
     "shell.execute_reply.started": "2022-04-11T19:31:54.434648Z"
    },
    "papermill": {
     "duration": 0.314781,
     "end_time": "2022-04-11T20:28:53.983924",
     "exception": false,
     "start_time": "2022-04-11T20:28:53.669143",
     "status": "completed"
    },
    "tags": []
   },
   "outputs": [
    {
     "data": {
      "text/plain": [
       "0      Asuel\n",
       "1     Zürich\n",
       "2     Urdorf\n",
       "3    Chiasso\n",
       "4     Melano\n",
       "Name: City, dtype: object"
      ]
     },
     "execution_count": 48,
     "metadata": {},
     "output_type": "execute_result"
    }
   ],
   "source": [
    "data['City'].head()"
   ]
  },
  {
   "cell_type": "code",
   "execution_count": 49,
   "id": "3d80d757",
   "metadata": {
    "execution": {
     "iopub.execute_input": "2022-04-11T20:28:54.600513Z",
     "iopub.status.busy": "2022-04-11T20:28:54.599788Z",
     "iopub.status.idle": "2022-04-11T20:28:54.669182Z",
     "shell.execute_reply": "2022-04-11T20:28:54.668409Z",
     "shell.execute_reply.started": "2022-04-11T19:31:54.442870Z"
    },
    "papermill": {
     "duration": 0.381643,
     "end_time": "2022-04-11T20:28:54.669325",
     "exception": false,
     "start_time": "2022-04-11T20:28:54.287682",
     "status": "completed"
    },
    "tags": []
   },
   "outputs": [],
   "source": [
    "#Filling Null Values\n",
    "data['City'].fillna('Zürich', inplace = True) #Fillna\n",
    "#data['City'].ffill(axis = 0)  #ForwardFill"
   ]
  },
  {
   "cell_type": "code",
   "execution_count": 50,
   "id": "d60850bd",
   "metadata": {
    "execution": {
     "iopub.execute_input": "2022-04-11T20:28:55.357670Z",
     "iopub.status.busy": "2022-04-11T20:28:55.356941Z",
     "iopub.status.idle": "2022-04-11T20:28:55.359550Z",
     "shell.execute_reply": "2022-04-11T20:28:55.360060Z",
     "shell.execute_reply.started": "2022-04-11T19:31:54.483600Z"
    },
    "papermill": {
     "duration": 0.38637,
     "end_time": "2022-04-11T20:28:55.360232",
     "exception": false,
     "start_time": "2022-04-11T20:28:54.973862",
     "status": "completed"
    },
    "tags": []
   },
   "outputs": [
    {
     "data": {
      "text/plain": [
       "0    Zürich\n",
       "dtype: object"
      ]
     },
     "execution_count": 50,
     "metadata": {},
     "output_type": "execute_result"
    }
   ],
   "source": [
    "data['City'].mode()"
   ]
  },
  {
   "cell_type": "code",
   "execution_count": 51,
   "id": "a813376b",
   "metadata": {
    "execution": {
     "iopub.execute_input": "2022-04-11T20:28:56.024781Z",
     "iopub.status.busy": "2022-04-11T20:28:56.024072Z",
     "iopub.status.idle": "2022-04-11T20:28:56.952557Z",
     "shell.execute_reply": "2022-04-11T20:28:56.953110Z",
     "shell.execute_reply.started": "2022-04-11T19:31:54.522837Z"
    },
    "papermill": {
     "duration": 1.292155,
     "end_time": "2022-04-11T20:28:56.953287",
     "exception": false,
     "start_time": "2022-04-11T20:28:55.661132",
     "status": "completed"
    },
    "tags": []
   },
   "outputs": [
    {
     "data": {
      "text/plain": [
       "Description           23\n",
       "ZipCode                1\n",
       "ID                     0\n",
       "NumRooms               0\n",
       "CoordN                 0\n",
       "CoordE                 0\n",
       "LivingSpace            0\n",
       "Floor1                 0\n",
       "YearOfConstruction     0\n",
       "Floor                  0\n",
       "LangDetected           0\n",
       "DealType               0\n",
       "PriceText              0\n",
       "AvailableDate          0\n",
       "PublishedDate          0\n",
       "City                   0\n",
       "Canton                 0\n",
       "Deal_Type              0\n",
       "dtype: int64"
      ]
     },
     "execution_count": 51,
     "metadata": {},
     "output_type": "execute_result"
    }
   ],
   "source": [
    "data.isnull().sum().sort_values(ascending = False)"
   ]
  },
  {
   "cell_type": "code",
   "execution_count": 52,
   "id": "a9605993",
   "metadata": {
    "execution": {
     "iopub.execute_input": "2022-04-11T20:28:57.571270Z",
     "iopub.status.busy": "2022-04-11T20:28:57.570604Z",
     "iopub.status.idle": "2022-04-11T20:28:57.573683Z",
     "shell.execute_reply": "2022-04-11T20:28:57.574246Z",
     "shell.execute_reply.started": "2022-04-11T19:31:54.948466Z"
    },
    "papermill": {
     "duration": 0.315396,
     "end_time": "2022-04-11T20:28:57.574466",
     "exception": false,
     "start_time": "2022-04-11T20:28:57.259070",
     "status": "completed"
    },
    "tags": []
   },
   "outputs": [],
   "source": [
    "# ptype_encode = {}\n",
    "# ptype_encode_values = range(16,0,-1)\n",
    "# for i,k in zip(type_count.index,ptype_encode_values):\n",
    "#     ptype_encode[i]=k\n",
    "# ptype_encode\n",
    "\n",
    "# data['adCity'] = data['adCity'].map(ptype_encode)"
   ]
  },
  {
   "cell_type": "markdown",
   "id": "9726cd8e",
   "metadata": {
    "papermill": {
     "duration": 0.305808,
     "end_time": "2022-04-11T20:28:58.188307",
     "exception": false,
     "start_time": "2022-04-11T20:28:57.882499",
     "status": "completed"
    },
    "tags": []
   },
   "source": [
    "#### **Exploring the City copied from data['City']**"
   ]
  },
  {
   "cell_type": "code",
   "execution_count": 53,
   "id": "33ddf278",
   "metadata": {
    "execution": {
     "iopub.execute_input": "2022-04-11T20:28:58.805305Z",
     "iopub.status.busy": "2022-04-11T20:28:58.804573Z",
     "iopub.status.idle": "2022-04-11T20:28:58.810567Z",
     "shell.execute_reply": "2022-04-11T20:28:58.811092Z",
     "shell.execute_reply.started": "2022-04-11T19:31:54.954409Z"
    },
    "papermill": {
     "duration": 0.316328,
     "end_time": "2022-04-11T20:28:58.811273",
     "exception": false,
     "start_time": "2022-04-11T20:28:58.494945",
     "status": "completed"
    },
    "tags": []
   },
   "outputs": [
    {
     "data": {
      "text/plain": [
       "0      Asuel\n",
       "1     Zürich\n",
       "2     Urdorf\n",
       "3    Chiasso\n",
       "4     Melano\n",
       "Name: City, dtype: object"
      ]
     },
     "execution_count": 53,
     "metadata": {},
     "output_type": "execute_result"
    }
   ],
   "source": [
    "City.head()"
   ]
  },
  {
   "cell_type": "code",
   "execution_count": 54,
   "id": "9500c601",
   "metadata": {
    "execution": {
     "iopub.execute_input": "2022-04-11T20:28:59.430272Z",
     "iopub.status.busy": "2022-04-11T20:28:59.429305Z",
     "iopub.status.idle": "2022-04-11T20:28:59.444221Z",
     "shell.execute_reply": "2022-04-11T20:28:59.443637Z",
     "shell.execute_reply.started": "2022-04-11T19:31:54.969428Z"
    },
    "papermill": {
     "duration": 0.324135,
     "end_time": "2022-04-11T20:28:59.444381",
     "exception": false,
     "start_time": "2022-04-11T20:28:59.120246",
     "status": "completed"
    },
    "tags": []
   },
   "outputs": [
    {
     "data": {
      "text/html": [
       "<div>\n",
       "<style scoped>\n",
       "    .dataframe tbody tr th:only-of-type {\n",
       "        vertical-align: middle;\n",
       "    }\n",
       "\n",
       "    .dataframe tbody tr th {\n",
       "        vertical-align: top;\n",
       "    }\n",
       "\n",
       "    .dataframe thead th {\n",
       "        text-align: right;\n",
       "    }\n",
       "</style>\n",
       "<table border=\"1\" class=\"dataframe\">\n",
       "  <thead>\n",
       "    <tr style=\"text-align: right;\">\n",
       "      <th></th>\n",
       "      <th>City</th>\n",
       "    </tr>\n",
       "  </thead>\n",
       "  <tbody>\n",
       "    <tr>\n",
       "      <th>0</th>\n",
       "      <td>Asuel</td>\n",
       "    </tr>\n",
       "    <tr>\n",
       "      <th>1</th>\n",
       "      <td>Zürich</td>\n",
       "    </tr>\n",
       "    <tr>\n",
       "      <th>2</th>\n",
       "      <td>Urdorf</td>\n",
       "    </tr>\n",
       "    <tr>\n",
       "      <th>3</th>\n",
       "      <td>Chiasso</td>\n",
       "    </tr>\n",
       "    <tr>\n",
       "      <th>4</th>\n",
       "      <td>Melano</td>\n",
       "    </tr>\n",
       "  </tbody>\n",
       "</table>\n",
       "</div>"
      ],
      "text/plain": [
       "      City\n",
       "0    Asuel\n",
       "1   Zürich\n",
       "2   Urdorf\n",
       "3  Chiasso\n",
       "4   Melano"
      ]
     },
     "execution_count": 54,
     "metadata": {},
     "output_type": "execute_result"
    }
   ],
   "source": [
    "City = pd.DataFrame(data = City)\n",
    "City.head()"
   ]
  },
  {
   "cell_type": "code",
   "execution_count": 55,
   "id": "6b7c9d71",
   "metadata": {
    "execution": {
     "iopub.execute_input": "2022-04-11T20:29:00.152888Z",
     "iopub.status.busy": "2022-04-11T20:29:00.152183Z",
     "iopub.status.idle": "2022-04-11T20:29:00.165906Z",
     "shell.execute_reply": "2022-04-11T20:29:00.166392Z",
     "shell.execute_reply.started": "2022-04-11T19:31:54.987644Z"
    },
    "papermill": {
     "duration": 0.386633,
     "end_time": "2022-04-11T20:29:00.166650",
     "exception": false,
     "start_time": "2022-04-11T20:28:59.780017",
     "status": "completed"
    },
    "tags": []
   },
   "outputs": [
    {
     "name": "stdout",
     "output_type": "stream",
     "text": [
      "<class 'pandas.core.frame.DataFrame'>\n",
      "RangeIndex: 582669 entries, 0 to 582668\n",
      "Data columns (total 1 columns):\n",
      " #   Column  Non-Null Count   Dtype \n",
      "---  ------  --------------   ----- \n",
      " 0   City    535442 non-null  object\n",
      "dtypes: object(1)\n",
      "memory usage: 4.4+ MB\n"
     ]
    }
   ],
   "source": [
    "City.info()"
   ]
  },
  {
   "cell_type": "code",
   "execution_count": 56,
   "id": "16eb2529",
   "metadata": {
    "execution": {
     "iopub.execute_input": "2022-04-11T20:29:00.782039Z",
     "iopub.status.busy": "2022-04-11T20:29:00.781259Z",
     "iopub.status.idle": "2022-04-11T20:29:00.785071Z",
     "shell.execute_reply": "2022-04-11T20:29:00.785763Z",
     "shell.execute_reply.started": "2022-04-11T19:31:55.028237Z"
    },
    "papermill": {
     "duration": 0.315508,
     "end_time": "2022-04-11T20:29:00.785958",
     "exception": false,
     "start_time": "2022-04-11T20:29:00.470450",
     "status": "completed"
    },
    "tags": []
   },
   "outputs": [],
   "source": [
    "encoder=ce.TargetEncoder(cols='City')"
   ]
  },
  {
   "cell_type": "code",
   "execution_count": 57,
   "id": "92750fb1",
   "metadata": {
    "execution": {
     "iopub.execute_input": "2022-04-11T20:29:01.410528Z",
     "iopub.status.busy": "2022-04-11T20:29:01.409832Z",
     "iopub.status.idle": "2022-04-11T20:29:01.416733Z",
     "shell.execute_reply": "2022-04-11T20:29:01.417726Z",
     "shell.execute_reply.started": "2022-04-11T19:31:55.034372Z"
    },
    "papermill": {
     "duration": 0.324212,
     "end_time": "2022-04-11T20:29:01.417939",
     "exception": false,
     "start_time": "2022-04-11T20:29:01.093727",
     "status": "completed"
    },
    "tags": []
   },
   "outputs": [
    {
     "data": {
      "text/plain": [
       "0      Asuel\n",
       "1     Zürich\n",
       "2     Urdorf\n",
       "3    Chiasso\n",
       "4     Melano\n",
       "Name: City, dtype: object"
      ]
     },
     "execution_count": 57,
     "metadata": {},
     "output_type": "execute_result"
    }
   ],
   "source": [
    "data['City'].head()"
   ]
  },
  {
   "cell_type": "code",
   "execution_count": 58,
   "id": "5c82800a",
   "metadata": {
    "execution": {
     "iopub.execute_input": "2022-04-11T20:29:02.050719Z",
     "iopub.status.busy": "2022-04-11T20:29:02.049957Z",
     "iopub.status.idle": "2022-04-11T20:29:02.057089Z",
     "shell.execute_reply": "2022-04-11T20:29:02.057665Z",
     "shell.execute_reply.started": "2022-04-11T19:31:55.051199Z"
    },
    "papermill": {
     "duration": 0.324921,
     "end_time": "2022-04-11T20:29:02.057848",
     "exception": false,
     "start_time": "2022-04-11T20:29:01.732927",
     "status": "completed"
    },
    "tags": []
   },
   "outputs": [
    {
     "data": {
      "text/plain": [
       "0                  Asuel\n",
       "1                 Zürich\n",
       "2                 Urdorf\n",
       "3                Chiasso\n",
       "4                 Melano\n",
       "5              Novazzano\n",
       "6                   Cugy\n",
       "7                 Lugano\n",
       "8               Neuenegg\n",
       "9             Bellinzona\n",
       "10                Zürich\n",
       "11                Zürich\n",
       "12             Steinmaur\n",
       "13               Gunzwil\n",
       "14                Zürich\n",
       "15                Zürich\n",
       "16    Gerra (Gambarogno)\n",
       "17               Bottens\n",
       "18                Zürich\n",
       "19                Lugano\n",
       "Name: City, dtype: object"
      ]
     },
     "execution_count": 58,
     "metadata": {},
     "output_type": "execute_result"
    }
   ],
   "source": [
    "data['City'].head(20)"
   ]
  },
  {
   "cell_type": "code",
   "execution_count": 59,
   "id": "fe2eee50",
   "metadata": {
    "execution": {
     "iopub.execute_input": "2022-04-11T20:29:02.689817Z",
     "iopub.status.busy": "2022-04-11T20:29:02.689108Z",
     "iopub.status.idle": "2022-04-11T20:29:02.831062Z",
     "shell.execute_reply": "2022-04-11T20:29:02.830552Z",
     "shell.execute_reply.started": "2022-04-11T19:31:55.064611Z"
    },
    "papermill": {
     "duration": 0.457421,
     "end_time": "2022-04-11T20:29:02.831202",
     "exception": false,
     "start_time": "2022-04-11T20:29:02.373781",
     "status": "completed"
    },
    "tags": []
   },
   "outputs": [
    {
     "data": {
      "text/plain": [
       "count     582669\n",
       "unique      2148\n",
       "top       Zürich\n",
       "freq       83549\n",
       "Name: City, dtype: object"
      ]
     },
     "execution_count": 59,
     "metadata": {},
     "output_type": "execute_result"
    }
   ],
   "source": [
    "data['City'].describe()"
   ]
  },
  {
   "cell_type": "code",
   "execution_count": 60,
   "id": "3b53936f",
   "metadata": {
    "execution": {
     "iopub.execute_input": "2022-04-11T20:29:03.447983Z",
     "iopub.status.busy": "2022-04-11T20:29:03.447250Z",
     "iopub.status.idle": "2022-04-11T20:29:06.513543Z",
     "shell.execute_reply": "2022-04-11T20:29:06.512907Z",
     "shell.execute_reply.started": "2022-04-11T19:31:55.134377Z"
    },
    "papermill": {
     "duration": 3.375342,
     "end_time": "2022-04-11T20:29:06.513687",
     "exception": false,
     "start_time": "2022-04-11T20:29:03.138345",
     "status": "completed"
    },
    "tags": []
   },
   "outputs": [
    {
     "data": {
      "text/html": [
       "<div>\n",
       "<style scoped>\n",
       "    .dataframe tbody tr th:only-of-type {\n",
       "        vertical-align: middle;\n",
       "    }\n",
       "\n",
       "    .dataframe tbody tr th {\n",
       "        vertical-align: top;\n",
       "    }\n",
       "\n",
       "    .dataframe thead th {\n",
       "        text-align: right;\n",
       "    }\n",
       "</style>\n",
       "<table border=\"1\" class=\"dataframe\">\n",
       "  <thead>\n",
       "    <tr style=\"text-align: right;\">\n",
       "      <th></th>\n",
       "      <th>ID</th>\n",
       "      <th>DealType</th>\n",
       "      <th>Canton</th>\n",
       "      <th>ZipCode</th>\n",
       "      <th>City</th>\n",
       "      <th>PublishedDate</th>\n",
       "      <th>AvailableDate</th>\n",
       "      <th>PriceText</th>\n",
       "      <th>Description</th>\n",
       "      <th>LangDetected</th>\n",
       "      <th>NumRooms</th>\n",
       "      <th>Floor</th>\n",
       "      <th>YearOfConstruction</th>\n",
       "      <th>Floor1</th>\n",
       "      <th>LivingSpace</th>\n",
       "      <th>CoordE</th>\n",
       "      <th>CoordN</th>\n",
       "      <th>Deal_Type</th>\n",
       "    </tr>\n",
       "  </thead>\n",
       "  <tbody>\n",
       "    <tr>\n",
       "      <th>count</th>\n",
       "      <td>582669</td>\n",
       "      <td>582669.00000</td>\n",
       "      <td>582669</td>\n",
       "      <td>582668.00000</td>\n",
       "      <td>582669</td>\n",
       "      <td>582669</td>\n",
       "      <td>582669</td>\n",
       "      <td>582669</td>\n",
       "      <td>582646</td>\n",
       "      <td>582669</td>\n",
       "      <td>582669</td>\n",
       "      <td>582669</td>\n",
       "      <td>582669</td>\n",
       "      <td>582669</td>\n",
       "      <td>582669</td>\n",
       "      <td>582669.00000</td>\n",
       "      <td>582669.00000</td>\n",
       "      <td>582669</td>\n",
       "    </tr>\n",
       "    <tr>\n",
       "      <th>unique</th>\n",
       "      <td>582669</td>\n",
       "      <td>NaN</td>\n",
       "      <td>7</td>\n",
       "      <td>NaN</td>\n",
       "      <td>2148</td>\n",
       "      <td>2135</td>\n",
       "      <td>700</td>\n",
       "      <td>9147</td>\n",
       "      <td>441161</td>\n",
       "      <td>4</td>\n",
       "      <td>100</td>\n",
       "      <td>56</td>\n",
       "      <td>520</td>\n",
       "      <td>56</td>\n",
       "      <td>1363</td>\n",
       "      <td>NaN</td>\n",
       "      <td>NaN</td>\n",
       "      <td>2</td>\n",
       "    </tr>\n",
       "    <tr>\n",
       "      <th>top</th>\n",
       "      <td>A1</td>\n",
       "      <td>NaN</td>\n",
       "      <td>ZH</td>\n",
       "      <td>NaN</td>\n",
       "      <td>Zürich</td>\n",
       "      <td>2021-08-13</td>\n",
       "      <td>nach Vereinbarung</td>\n",
       "      <td>On request</td>\n",
       "      <td>None</td>\n",
       "      <td>de</td>\n",
       "      <td>None</td>\n",
       "      <td>not available</td>\n",
       "      <td>not available</td>\n",
       "      <td>not available</td>\n",
       "      <td>not available</td>\n",
       "      <td>NaN</td>\n",
       "      <td>NaN</td>\n",
       "      <td>rental</td>\n",
       "    </tr>\n",
       "    <tr>\n",
       "      <th>freq</th>\n",
       "      <td>1</td>\n",
       "      <td>NaN</td>\n",
       "      <td>144098</td>\n",
       "      <td>NaN</td>\n",
       "      <td>83549</td>\n",
       "      <td>10281</td>\n",
       "      <td>234256</td>\n",
       "      <td>27155</td>\n",
       "      <td>15619</td>\n",
       "      <td>295370</td>\n",
       "      <td>109048</td>\n",
       "      <td>273739</td>\n",
       "      <td>369297</td>\n",
       "      <td>273739</td>\n",
       "      <td>201091</td>\n",
       "      <td>NaN</td>\n",
       "      <td>NaN</td>\n",
       "      <td>420408</td>\n",
       "    </tr>\n",
       "    <tr>\n",
       "      <th>mean</th>\n",
       "      <td>NaN</td>\n",
       "      <td>12.78479</td>\n",
       "      <td>NaN</td>\n",
       "      <td>4782.51585</td>\n",
       "      <td>NaN</td>\n",
       "      <td>NaN</td>\n",
       "      <td>NaN</td>\n",
       "      <td>NaN</td>\n",
       "      <td>NaN</td>\n",
       "      <td>NaN</td>\n",
       "      <td>NaN</td>\n",
       "      <td>NaN</td>\n",
       "      <td>NaN</td>\n",
       "      <td>NaN</td>\n",
       "      <td>NaN</td>\n",
       "      <td>7.84939</td>\n",
       "      <td>46.80437</td>\n",
       "      <td>NaN</td>\n",
       "    </tr>\n",
       "    <tr>\n",
       "      <th>std</th>\n",
       "      <td>NaN</td>\n",
       "      <td>4.48251</td>\n",
       "      <td>NaN</td>\n",
       "      <td>2821.55953</td>\n",
       "      <td>NaN</td>\n",
       "      <td>NaN</td>\n",
       "      <td>NaN</td>\n",
       "      <td>NaN</td>\n",
       "      <td>NaN</td>\n",
       "      <td>NaN</td>\n",
       "      <td>NaN</td>\n",
       "      <td>NaN</td>\n",
       "      <td>NaN</td>\n",
       "      <td>NaN</td>\n",
       "      <td>NaN</td>\n",
       "      <td>2.58816</td>\n",
       "      <td>0.67508</td>\n",
       "      <td>NaN</td>\n",
       "    </tr>\n",
       "    <tr>\n",
       "      <th>min</th>\n",
       "      <td>NaN</td>\n",
       "      <td>10.00000</td>\n",
       "      <td>NaN</td>\n",
       "      <td>1000.00000</td>\n",
       "      <td>NaN</td>\n",
       "      <td>NaN</td>\n",
       "      <td>NaN</td>\n",
       "      <td>NaN</td>\n",
       "      <td>NaN</td>\n",
       "      <td>NaN</td>\n",
       "      <td>NaN</td>\n",
       "      <td>NaN</td>\n",
       "      <td>NaN</td>\n",
       "      <td>NaN</td>\n",
       "      <td>NaN</td>\n",
       "      <td>0.00000</td>\n",
       "      <td>-141.54182</td>\n",
       "      <td>NaN</td>\n",
       "    </tr>\n",
       "    <tr>\n",
       "      <th>25%</th>\n",
       "      <td>NaN</td>\n",
       "      <td>10.00000</td>\n",
       "      <td>NaN</td>\n",
       "      <td>1800.00000</td>\n",
       "      <td>NaN</td>\n",
       "      <td>NaN</td>\n",
       "      <td>NaN</td>\n",
       "      <td>NaN</td>\n",
       "      <td>NaN</td>\n",
       "      <td>NaN</td>\n",
       "      <td>NaN</td>\n",
       "      <td>NaN</td>\n",
       "      <td>NaN</td>\n",
       "      <td>NaN</td>\n",
       "      <td>NaN</td>\n",
       "      <td>7.05056</td>\n",
       "      <td>46.46260</td>\n",
       "      <td>NaN</td>\n",
       "    </tr>\n",
       "    <tr>\n",
       "      <th>50%</th>\n",
       "      <td>NaN</td>\n",
       "      <td>10.00000</td>\n",
       "      <td>NaN</td>\n",
       "      <td>4950.00000</td>\n",
       "      <td>NaN</td>\n",
       "      <td>NaN</td>\n",
       "      <td>NaN</td>\n",
       "      <td>NaN</td>\n",
       "      <td>NaN</td>\n",
       "      <td>NaN</td>\n",
       "      <td>NaN</td>\n",
       "      <td>NaN</td>\n",
       "      <td>NaN</td>\n",
       "      <td>NaN</td>\n",
       "      <td>NaN</td>\n",
       "      <td>7.95761</td>\n",
       "      <td>46.83534</td>\n",
       "      <td>NaN</td>\n",
       "    </tr>\n",
       "    <tr>\n",
       "      <th>75%</th>\n",
       "      <td>NaN</td>\n",
       "      <td>20.00000</td>\n",
       "      <td>NaN</td>\n",
       "      <td>6987.00000</td>\n",
       "      <td>NaN</td>\n",
       "      <td>NaN</td>\n",
       "      <td>NaN</td>\n",
       "      <td>NaN</td>\n",
       "      <td>NaN</td>\n",
       "      <td>NaN</td>\n",
       "      <td>NaN</td>\n",
       "      <td>NaN</td>\n",
       "      <td>NaN</td>\n",
       "      <td>NaN</td>\n",
       "      <td>NaN</td>\n",
       "      <td>8.65123</td>\n",
       "      <td>47.26299</td>\n",
       "      <td>NaN</td>\n",
       "    </tr>\n",
       "    <tr>\n",
       "      <th>max</th>\n",
       "      <td>NaN</td>\n",
       "      <td>20.00000</td>\n",
       "      <td>NaN</td>\n",
       "      <td>8967.00000</td>\n",
       "      <td>NaN</td>\n",
       "      <td>NaN</td>\n",
       "      <td>NaN</td>\n",
       "      <td>NaN</td>\n",
       "      <td>NaN</td>\n",
       "      <td>NaN</td>\n",
       "      <td>NaN</td>\n",
       "      <td>NaN</td>\n",
       "      <td>NaN</td>\n",
       "      <td>NaN</td>\n",
       "      <td>NaN</td>\n",
       "      <td>1078.51760</td>\n",
       "      <td>47.69496</td>\n",
       "      <td>NaN</td>\n",
       "    </tr>\n",
       "  </tbody>\n",
       "</table>\n",
       "</div>"
      ],
      "text/plain": [
       "            ID     DealType  Canton      ZipCode    City PublishedDate  \\\n",
       "count   582669 582669.00000  582669 582668.00000  582669        582669   \n",
       "unique  582669          NaN       7          NaN    2148          2135   \n",
       "top         A1          NaN      ZH          NaN  Zürich    2021-08-13   \n",
       "freq         1          NaN  144098          NaN   83549         10281   \n",
       "mean       NaN     12.78479     NaN   4782.51585     NaN           NaN   \n",
       "std        NaN      4.48251     NaN   2821.55953     NaN           NaN   \n",
       "min        NaN     10.00000     NaN   1000.00000     NaN           NaN   \n",
       "25%        NaN     10.00000     NaN   1800.00000     NaN           NaN   \n",
       "50%        NaN     10.00000     NaN   4950.00000     NaN           NaN   \n",
       "75%        NaN     20.00000     NaN   6987.00000     NaN           NaN   \n",
       "max        NaN     20.00000     NaN   8967.00000     NaN           NaN   \n",
       "\n",
       "            AvailableDate   PriceText Description LangDetected NumRooms  \\\n",
       "count              582669      582669      582646       582669   582669   \n",
       "unique                700        9147      441161            4      100   \n",
       "top     nach Vereinbarung  On request        None           de     None   \n",
       "freq               234256       27155       15619       295370   109048   \n",
       "mean                  NaN         NaN         NaN          NaN      NaN   \n",
       "std                   NaN         NaN         NaN          NaN      NaN   \n",
       "min                   NaN         NaN         NaN          NaN      NaN   \n",
       "25%                   NaN         NaN         NaN          NaN      NaN   \n",
       "50%                   NaN         NaN         NaN          NaN      NaN   \n",
       "75%                   NaN         NaN         NaN          NaN      NaN   \n",
       "max                   NaN         NaN         NaN          NaN      NaN   \n",
       "\n",
       "                Floor YearOfConstruction         Floor1    LivingSpace  \\\n",
       "count          582669             582669         582669         582669   \n",
       "unique             56                520             56           1363   \n",
       "top     not available      not available  not available  not available   \n",
       "freq           273739             369297         273739         201091   \n",
       "mean              NaN                NaN            NaN            NaN   \n",
       "std               NaN                NaN            NaN            NaN   \n",
       "min               NaN                NaN            NaN            NaN   \n",
       "25%               NaN                NaN            NaN            NaN   \n",
       "50%               NaN                NaN            NaN            NaN   \n",
       "75%               NaN                NaN            NaN            NaN   \n",
       "max               NaN                NaN            NaN            NaN   \n",
       "\n",
       "             CoordE       CoordN Deal_Type  \n",
       "count  582669.00000 582669.00000    582669  \n",
       "unique          NaN          NaN         2  \n",
       "top             NaN          NaN    rental  \n",
       "freq            NaN          NaN    420408  \n",
       "mean        7.84939     46.80437       NaN  \n",
       "std         2.58816      0.67508       NaN  \n",
       "min         0.00000   -141.54182       NaN  \n",
       "25%         7.05056     46.46260       NaN  \n",
       "50%         7.95761     46.83534       NaN  \n",
       "75%         8.65123     47.26299       NaN  \n",
       "max      1078.51760     47.69496       NaN  "
      ]
     },
     "execution_count": 60,
     "metadata": {},
     "output_type": "execute_result"
    }
   ],
   "source": [
    "data.describe(include = 'all')"
   ]
  },
  {
   "cell_type": "code",
   "execution_count": 61,
   "id": "f00f60da",
   "metadata": {
    "execution": {
     "iopub.execute_input": "2022-04-11T20:29:07.132944Z",
     "iopub.status.busy": "2022-04-11T20:29:07.132247Z",
     "iopub.status.idle": "2022-04-11T20:29:07.136425Z",
     "shell.execute_reply": "2022-04-11T20:29:07.135857Z",
     "shell.execute_reply.started": "2022-04-11T19:31:57.071159Z"
    },
    "papermill": {
     "duration": 0.313142,
     "end_time": "2022-04-11T20:29:07.136609",
     "exception": false,
     "start_time": "2022-04-11T20:29:06.823467",
     "status": "completed"
    },
    "tags": []
   },
   "outputs": [],
   "source": [
    "#sns.scatterplot(x = data['City'], y = data['PriceText'])\n",
    "#plt.show()"
   ]
  },
  {
   "cell_type": "markdown",
   "id": "f7dcb4d2",
   "metadata": {
    "papermill": {
     "duration": 0.313532,
     "end_time": "2022-04-11T20:29:07.758185",
     "exception": false,
     "start_time": "2022-04-11T20:29:07.444653",
     "status": "completed"
    },
    "tags": []
   },
   "source": [
    "## Exploring the target Column"
   ]
  },
  {
   "cell_type": "markdown",
   "id": "3b2912d0",
   "metadata": {
    "papermill": {
     "duration": 0.315061,
     "end_time": "2022-04-11T20:29:08.386782",
     "exception": false,
     "start_time": "2022-04-11T20:29:08.071721",
     "status": "completed"
    },
    "tags": []
   },
   "source": [
    "### PriceText"
   ]
  },
  {
   "cell_type": "code",
   "execution_count": 62,
   "id": "79aa4d88",
   "metadata": {
    "execution": {
     "iopub.execute_input": "2022-04-11T20:29:09.025345Z",
     "iopub.status.busy": "2022-04-11T20:29:09.024652Z",
     "iopub.status.idle": "2022-04-11T20:29:09.044089Z",
     "shell.execute_reply": "2022-04-11T20:29:09.044673Z",
     "shell.execute_reply.started": "2022-04-11T19:31:57.077224Z"
    },
    "papermill": {
     "duration": 0.343351,
     "end_time": "2022-04-11T20:29:09.044861",
     "exception": false,
     "start_time": "2022-04-11T20:29:08.701510",
     "status": "completed"
    },
    "tags": []
   },
   "outputs": [
    {
     "data": {
      "text/html": [
       "<div>\n",
       "<style scoped>\n",
       "    .dataframe tbody tr th:only-of-type {\n",
       "        vertical-align: middle;\n",
       "    }\n",
       "\n",
       "    .dataframe tbody tr th {\n",
       "        vertical-align: top;\n",
       "    }\n",
       "\n",
       "    .dataframe thead th {\n",
       "        text-align: right;\n",
       "    }\n",
       "</style>\n",
       "<table border=\"1\" class=\"dataframe\">\n",
       "  <thead>\n",
       "    <tr style=\"text-align: right;\">\n",
       "      <th></th>\n",
       "      <th>PriceText</th>\n",
       "    </tr>\n",
       "  </thead>\n",
       "  <tbody>\n",
       "    <tr>\n",
       "      <th>0</th>\n",
       "      <td>CHF 1,050</td>\n",
       "    </tr>\n",
       "    <tr>\n",
       "      <th>1</th>\n",
       "      <td>CHF 4,048</td>\n",
       "    </tr>\n",
       "    <tr>\n",
       "      <th>2</th>\n",
       "      <td>CHF 1,061</td>\n",
       "    </tr>\n",
       "    <tr>\n",
       "      <th>3</th>\n",
       "      <td>CHF 2,250</td>\n",
       "    </tr>\n",
       "    <tr>\n",
       "      <th>4</th>\n",
       "      <td>CHF 2,150,000</td>\n",
       "    </tr>\n",
       "  </tbody>\n",
       "</table>\n",
       "</div>"
      ],
      "text/plain": [
       "       PriceText\n",
       "0      CHF 1,050\n",
       "1      CHF 4,048\n",
       "2      CHF 1,061\n",
       "3      CHF 2,250\n",
       "4  CHF 2,150,000"
      ]
     },
     "execution_count": 62,
     "metadata": {},
     "output_type": "execute_result"
    }
   ],
   "source": [
    "PriceText = data['PriceText'].copy()\n",
    "PriceText = pd.DataFrame(data = PriceText)\n",
    "PriceText.head()"
   ]
  },
  {
   "cell_type": "code",
   "execution_count": 63,
   "id": "20e94e0c",
   "metadata": {
    "execution": {
     "iopub.execute_input": "2022-04-11T20:29:09.677819Z",
     "iopub.status.busy": "2022-04-11T20:29:09.677055Z",
     "iopub.status.idle": "2022-04-11T20:29:09.680109Z",
     "shell.execute_reply": "2022-04-11T20:29:09.680630Z",
     "shell.execute_reply.started": "2022-04-11T19:31:57.102357Z"
    },
    "papermill": {
     "duration": 0.324613,
     "end_time": "2022-04-11T20:29:09.680809",
     "exception": false,
     "start_time": "2022-04-11T20:29:09.356196",
     "status": "completed"
    },
    "tags": []
   },
   "outputs": [
    {
     "data": {
      "text/plain": [
       "0        CHF 1,050\n",
       "1        CHF 4,048\n",
       "2        CHF 1,061\n",
       "3        CHF 2,250\n",
       "4    CHF 2,150,000\n",
       "Name: PriceText, dtype: object"
      ]
     },
     "execution_count": 63,
     "metadata": {},
     "output_type": "execute_result"
    }
   ],
   "source": [
    "data['PriceText'].head()"
   ]
  },
  {
   "cell_type": "code",
   "execution_count": 64,
   "id": "94902c41",
   "metadata": {
    "execution": {
     "iopub.execute_input": "2022-04-11T20:29:10.307503Z",
     "iopub.status.busy": "2022-04-11T20:29:10.306800Z",
     "iopub.status.idle": "2022-04-11T20:29:11.425877Z",
     "shell.execute_reply": "2022-04-11T20:29:11.425273Z",
     "shell.execute_reply.started": "2022-04-11T19:31:57.110029Z"
    },
    "papermill": {
     "duration": 1.431362,
     "end_time": "2022-04-11T20:29:11.426047",
     "exception": false,
     "start_time": "2022-04-11T20:29:09.994685",
     "status": "completed"
    },
    "tags": []
   },
   "outputs": [
    {
     "data": {
      "text/plain": [
       "0       CHF 1050\n",
       "1       CHF 4048\n",
       "2       CHF 1061\n",
       "3       CHF 2250\n",
       "4    CHF 2150000\n",
       "Name: PriceText, dtype: object"
      ]
     },
     "execution_count": 64,
     "metadata": {},
     "output_type": "execute_result"
    }
   ],
   "source": [
    "data['PriceText'] = data['PriceText'].replace(',','', regex = True)\n",
    "data['PriceText'].head()"
   ]
  },
  {
   "cell_type": "code",
   "execution_count": 65,
   "id": "78fc7afd",
   "metadata": {
    "execution": {
     "iopub.execute_input": "2022-04-11T20:29:12.055718Z",
     "iopub.status.busy": "2022-04-11T20:29:12.054991Z",
     "iopub.status.idle": "2022-04-11T20:29:13.175952Z",
     "shell.execute_reply": "2022-04-11T20:29:13.175256Z",
     "shell.execute_reply.started": "2022-04-11T19:31:57.903150Z"
    },
    "papermill": {
     "duration": 1.438001,
     "end_time": "2022-04-11T20:29:13.176116",
     "exception": false,
     "start_time": "2022-04-11T20:29:11.738115",
     "status": "completed"
    },
    "tags": []
   },
   "outputs": [
    {
     "data": {
      "text/plain": [
       "0        1050\n",
       "1        4048\n",
       "2        1061\n",
       "3        2250\n",
       "4     2150000\n",
       "Name: PriceText, dtype: object"
      ]
     },
     "execution_count": 65,
     "metadata": {},
     "output_type": "execute_result"
    }
   ],
   "source": [
    "data['PriceText'] = data['PriceText'].replace('CHF','', regex = True)\n",
    "data['PriceText'].head()"
   ]
  },
  {
   "cell_type": "code",
   "execution_count": 66,
   "id": "7535abe2",
   "metadata": {
    "execution": {
     "iopub.execute_input": "2022-04-11T20:29:13.924228Z",
     "iopub.status.busy": "2022-04-11T20:29:13.923525Z",
     "iopub.status.idle": "2022-04-11T20:29:14.004069Z",
     "shell.execute_reply": "2022-04-11T20:29:14.003457Z",
     "shell.execute_reply.started": "2022-04-11T19:31:58.688170Z"
    },
    "papermill": {
     "duration": 0.522098,
     "end_time": "2022-04-11T20:29:14.004214",
     "exception": false,
     "start_time": "2022-04-11T20:29:13.482116",
     "status": "completed"
    },
    "tags": []
   },
   "outputs": [
    {
     "data": {
      "text/plain": [
       "count         582669\n",
       "unique          9147\n",
       "top       On request\n",
       "freq           27155\n",
       "Name: PriceText, dtype: object"
      ]
     },
     "execution_count": 66,
     "metadata": {},
     "output_type": "execute_result"
    }
   ],
   "source": [
    "data['PriceText'].describe()"
   ]
  },
  {
   "cell_type": "code",
   "execution_count": 67,
   "id": "e5fd1606",
   "metadata": {
    "execution": {
     "iopub.execute_input": "2022-04-11T20:29:14.710210Z",
     "iopub.status.busy": "2022-04-11T20:29:14.709490Z",
     "iopub.status.idle": "2022-04-11T20:29:14.715742Z",
     "shell.execute_reply": "2022-04-11T20:29:14.715077Z",
     "shell.execute_reply.started": "2022-04-11T19:31:58.799418Z"
    },
    "papermill": {
     "duration": 0.394034,
     "end_time": "2022-04-11T20:29:14.715887",
     "exception": false,
     "start_time": "2022-04-11T20:29:14.321853",
     "status": "completed"
    },
    "tags": []
   },
   "outputs": [
    {
     "data": {
      "text/plain": [
       "0"
      ]
     },
     "execution_count": 67,
     "metadata": {},
     "output_type": "execute_result"
    }
   ],
   "source": [
    "data['PriceText'].isnull().sum()"
   ]
  },
  {
   "cell_type": "code",
   "execution_count": 68,
   "id": "4cf7d328",
   "metadata": {
    "execution": {
     "iopub.execute_input": "2022-04-11T20:29:15.452852Z",
     "iopub.status.busy": "2022-04-11T20:29:15.452155Z",
     "iopub.status.idle": "2022-04-11T20:29:15.461112Z",
     "shell.execute_reply": "2022-04-11T20:29:15.460557Z",
     "shell.execute_reply.started": "2022-04-11T19:31:58.838621Z"
    },
    "papermill": {
     "duration": 0.432355,
     "end_time": "2022-04-11T20:29:15.461254",
     "exception": false,
     "start_time": "2022-04-11T20:29:15.028899",
     "status": "completed"
    },
    "tags": []
   },
   "outputs": [
    {
     "data": {
      "text/plain": [
       "On request    27155\n",
       " 1500          5943\n",
       " 1200          5004\n",
       " 1400          4784\n",
       " 1300          4633\n",
       "              ...  \n",
       "EUR 867761        1\n",
       " 11797            1\n",
       " 4217             1\n",
       " 7916             1\n",
       " 6655             1\n",
       "Name: PriceText, Length: 9147, dtype: int64"
      ]
     },
     "execution_count": 68,
     "metadata": {},
     "output_type": "execute_result"
    }
   ],
   "source": [
    "data['PriceText'].value_counts()"
   ]
  },
  {
   "cell_type": "code",
   "execution_count": 69,
   "id": "8a8cebde",
   "metadata": {
    "execution": {
     "iopub.execute_input": "2022-04-11T20:29:16.084780Z",
     "iopub.status.busy": "2022-04-11T20:29:16.084046Z",
     "iopub.status.idle": "2022-04-11T20:29:16.249920Z",
     "shell.execute_reply": "2022-04-11T20:29:16.250465Z",
     "shell.execute_reply.started": "2022-04-11T19:31:58.911295Z"
    },
    "papermill": {
     "duration": 0.480247,
     "end_time": "2022-04-11T20:29:16.250646",
     "exception": false,
     "start_time": "2022-04-11T20:29:15.770399",
     "status": "completed"
    },
    "tags": []
   },
   "outputs": [
    {
     "data": {
      "text/plain": [
       " 1500     5943\n",
       " 1200     5004\n",
       " 1400     4784\n",
       " 1300     4633\n",
       " 1600     4617\n",
       "          ... \n",
       " 6717        1\n",
       " 11575       1\n",
       " 8895        1\n",
       " 4785        1\n",
       " 6655        1\n",
       "Name: PriceText, Length: 9146, dtype: int64"
      ]
     },
     "execution_count": 69,
     "metadata": {},
     "output_type": "execute_result"
    }
   ],
   "source": [
    "data['PriceText'] = data['PriceText'].replace('On request',np.nan)\n",
    "data['PriceText'].value_counts()"
   ]
  },
  {
   "cell_type": "code",
   "execution_count": 70,
   "id": "679c9735",
   "metadata": {
    "execution": {
     "iopub.execute_input": "2022-04-11T20:29:16.881458Z",
     "iopub.status.busy": "2022-04-11T20:29:16.880784Z",
     "iopub.status.idle": "2022-04-11T20:29:16.950880Z",
     "shell.execute_reply": "2022-04-11T20:29:16.951380Z",
     "shell.execute_reply.started": "2022-04-11T19:31:59.020450Z"
    },
    "papermill": {
     "duration": 0.389296,
     "end_time": "2022-04-11T20:29:16.951625",
     "exception": false,
     "start_time": "2022-04-11T20:29:16.562329",
     "status": "completed"
    },
    "tags": []
   },
   "outputs": [
    {
     "data": {
      "text/plain": [
       "27155"
      ]
     },
     "execution_count": 70,
     "metadata": {},
     "output_type": "execute_result"
    }
   ],
   "source": [
    "data['PriceText'].isnull().sum()"
   ]
  },
  {
   "cell_type": "code",
   "execution_count": 71,
   "id": "b60da03d",
   "metadata": {
    "execution": {
     "iopub.execute_input": "2022-04-11T20:29:17.576925Z",
     "iopub.status.busy": "2022-04-11T20:29:17.576253Z",
     "iopub.status.idle": "2022-04-11T20:29:18.944718Z",
     "shell.execute_reply": "2022-04-11T20:29:18.943861Z",
     "shell.execute_reply.started": "2022-04-11T19:31:59.056598Z"
    },
    "papermill": {
     "duration": 1.681238,
     "end_time": "2022-04-11T20:29:18.944885",
     "exception": false,
     "start_time": "2022-04-11T20:29:17.263647",
     "status": "completed"
    },
    "tags": []
   },
   "outputs": [
    {
     "data": {
      "image/png": "[encoded data removed]",
      "text/plain": [
       "<Figure size 648x720 with 1 Axes>"
      ]
     },
     "metadata": {},
     "output_type": "display_data"
    }
   ],
   "source": [
    "ax = data.isna().sum().sort_values().plot(kind = 'barh', figsize = (9, 10))\n",
    "plt.title('Percentage of Missing Values Per Column Dataset', fontdict={'size':15})\n",
    "for p in ax.patches:\n",
    "    percentage ='{:,.0f}%'.format((p.get_width()/data.shape[0])*100)\n",
    "    width, height =p.get_width(),p.get_height()\n",
    "    x=p.get_x()+width+0.02\n",
    "    y=p.get_y()+height/2\n",
    "    ax.annotate(percentage,(x,y))"
   ]
  },
  {
   "cell_type": "code",
   "execution_count": 72,
   "id": "5d698760",
   "metadata": {
    "execution": {
     "iopub.execute_input": "2022-04-11T20:29:19.579572Z",
     "iopub.status.busy": "2022-04-11T20:29:19.578862Z",
     "iopub.status.idle": "2022-04-11T20:29:20.553430Z",
     "shell.execute_reply": "2022-04-11T20:29:20.552880Z",
     "shell.execute_reply.started": "2022-04-11T19:31:59.885487Z"
    },
    "papermill": {
     "duration": 1.293949,
     "end_time": "2022-04-11T20:29:20.553613",
     "exception": false,
     "start_time": "2022-04-11T20:29:19.259664",
     "status": "completed"
    },
    "tags": []
   },
   "outputs": [
    {
     "data": {
      "text/plain": [
       "0        1050\n",
       "1        4048\n",
       "2        1061\n",
       "3        2250\n",
       "4     2150000\n",
       "Name: PriceText, dtype: object"
      ]
     },
     "execution_count": 72,
     "metadata": {},
     "output_type": "execute_result"
    }
   ],
   "source": [
    "data['PriceText'] = data['PriceText'].replace('CHF','', regex = True)\n",
    "data['PriceText'].head()"
   ]
  },
  {
   "cell_type": "code",
   "execution_count": 73,
   "id": "4124fd8f",
   "metadata": {
    "execution": {
     "iopub.execute_input": "2022-04-11T20:29:21.287191Z",
     "iopub.status.busy": "2022-04-11T20:29:21.180079Z",
     "iopub.status.idle": "2022-04-11T20:29:21.296979Z",
     "shell.execute_reply": "2022-04-11T20:29:21.296452Z",
     "shell.execute_reply.started": "2022-04-11T19:32:00.588427Z"
    },
    "papermill": {
     "duration": 0.43357,
     "end_time": "2022-04-11T20:29:21.297135",
     "exception": false,
     "start_time": "2022-04-11T20:29:20.863565",
     "status": "completed"
    },
    "tags": []
   },
   "outputs": [
    {
     "data": {
      "text/plain": [
       " 1500     5943\n",
       " 1200     5004\n",
       " 1400     4784\n",
       " 1300     4633\n",
       " 1600     4617\n",
       "          ... \n",
       " 6717        1\n",
       " 11575       1\n",
       " 8895        1\n",
       " 4785        1\n",
       " 6655        1\n",
       "Name: PriceText, Length: 9146, dtype: int64"
      ]
     },
     "execution_count": 73,
     "metadata": {},
     "output_type": "execute_result"
    }
   ],
   "source": [
    "data['PriceText'].value_counts()"
   ]
  },
  {
   "cell_type": "code",
   "execution_count": 74,
   "id": "1e6989ec",
   "metadata": {
    "execution": {
     "iopub.execute_input": "2022-04-11T20:29:21.960255Z",
     "iopub.status.busy": "2022-04-11T20:29:21.955179Z",
     "iopub.status.idle": "2022-04-11T20:29:23.005484Z",
     "shell.execute_reply": "2022-04-11T20:29:23.004640Z",
     "shell.execute_reply.started": "2022-04-11T19:32:00.658572Z"
    },
    "papermill": {
     "duration": 1.370897,
     "end_time": "2022-04-11T20:29:23.005707",
     "exception": false,
     "start_time": "2022-04-11T20:29:21.634810",
     "status": "completed"
    },
    "tags": []
   },
   "outputs": [
    {
     "data": {
      "text/plain": [
       "0        1050\n",
       "1        4048\n",
       "2        1061\n",
       "3        2250\n",
       "4     2150000\n",
       "Name: PriceText, dtype: object"
      ]
     },
     "execution_count": 74,
     "metadata": {},
     "output_type": "execute_result"
    }
   ],
   "source": [
    "data['PriceText'] = data['PriceText'].replace('EUR','', regex = True)\n",
    "data['PriceText'].head()"
   ]
  },
  {
   "cell_type": "code",
   "execution_count": 75,
   "id": "10ab5562",
   "metadata": {
    "execution": {
     "iopub.execute_input": "2022-04-11T20:29:23.694841Z",
     "iopub.status.busy": "2022-04-11T20:29:23.694044Z",
     "iopub.status.idle": "2022-04-11T20:29:23.697042Z",
     "shell.execute_reply": "2022-04-11T20:29:23.697615Z",
     "shell.execute_reply.started": "2022-04-11T19:32:01.376631Z"
    },
    "papermill": {
     "duration": 0.345123,
     "end_time": "2022-04-11T20:29:23.697790",
     "exception": false,
     "start_time": "2022-04-11T20:29:23.352667",
     "status": "completed"
    },
    "tags": []
   },
   "outputs": [
    {
     "data": {
      "text/plain": [
       "dtype('O')"
      ]
     },
     "execution_count": 75,
     "metadata": {},
     "output_type": "execute_result"
    }
   ],
   "source": [
    "data['PriceText'].dtype"
   ]
  },
  {
   "cell_type": "code",
   "execution_count": 76,
   "id": "619c976d",
   "metadata": {
    "execution": {
     "iopub.execute_input": "2022-04-11T20:29:24.479374Z",
     "iopub.status.busy": "2022-04-11T20:29:24.478644Z",
     "iopub.status.idle": "2022-04-11T20:29:24.487845Z",
     "shell.execute_reply": "2022-04-11T20:29:24.487139Z",
     "shell.execute_reply.started": "2022-04-11T19:32:01.384226Z"
    },
    "papermill": {
     "duration": 0.450779,
     "end_time": "2022-04-11T20:29:24.487996",
     "exception": false,
     "start_time": "2022-04-11T20:29:24.037217",
     "status": "completed"
    },
    "tags": []
   },
   "outputs": [
    {
     "data": {
      "text/plain": [
       " 1500     5944\n",
       " 1200     5005\n",
       " 1400     4785\n",
       " 1300     4633\n",
       " 1600     4617\n",
       "          ... \n",
       " 17762       1\n",
       " 88042       1\n",
       " 15605       1\n",
       " 8964        1\n",
       " 6655        1\n",
       "Name: PriceText, Length: 9025, dtype: int64"
      ]
     },
     "execution_count": 76,
     "metadata": {},
     "output_type": "execute_result"
    }
   ],
   "source": [
    "data['PriceText'].value_counts()"
   ]
  },
  {
   "cell_type": "code",
   "execution_count": 77,
   "id": "88313d5b",
   "metadata": {
    "execution": {
     "iopub.execute_input": "2022-04-11T20:29:25.137209Z",
     "iopub.status.busy": "2022-04-11T20:29:25.132054Z",
     "iopub.status.idle": "2022-04-11T20:29:38.796245Z",
     "shell.execute_reply": "2022-04-11T20:29:38.795491Z",
     "shell.execute_reply.started": "2022-04-11T19:32:01.453269Z"
    },
    "papermill": {
     "duration": 13.988482,
     "end_time": "2022-04-11T20:29:38.796405",
     "exception": false,
     "start_time": "2022-04-11T20:29:24.807923",
     "status": "completed"
    },
    "tags": []
   },
   "outputs": [],
   "source": [
    "data['PriceText'] = data['PriceText'].apply(pd.to_numeric)"
   ]
  },
  {
   "cell_type": "code",
   "execution_count": 78,
   "id": "cce8880b",
   "metadata": {
    "execution": {
     "iopub.execute_input": "2022-04-11T20:29:39.426986Z",
     "iopub.status.busy": "2022-04-11T20:29:39.426291Z",
     "iopub.status.idle": "2022-04-11T20:29:39.430025Z",
     "shell.execute_reply": "2022-04-11T20:29:39.429366Z",
     "shell.execute_reply.started": "2022-04-11T19:32:09.609761Z"
    },
    "papermill": {
     "duration": 0.319772,
     "end_time": "2022-04-11T20:29:39.430176",
     "exception": false,
     "start_time": "2022-04-11T20:29:39.110404",
     "status": "completed"
    },
    "tags": []
   },
   "outputs": [
    {
     "data": {
      "text/plain": [
       "dtype('float64')"
      ]
     },
     "execution_count": 78,
     "metadata": {},
     "output_type": "execute_result"
    }
   ],
   "source": [
    "data['PriceText'].dtype"
   ]
  },
  {
   "cell_type": "code",
   "execution_count": 79,
   "id": "416076e0",
   "metadata": {
    "execution": {
     "iopub.execute_input": "2022-04-11T20:29:40.072116Z",
     "iopub.status.busy": "2022-04-11T20:29:40.071058Z",
     "iopub.status.idle": "2022-04-11T20:29:40.100721Z",
     "shell.execute_reply": "2022-04-11T20:29:40.101280Z",
     "shell.execute_reply.started": "2022-04-11T19:32:09.616537Z"
    },
    "papermill": {
     "duration": 0.355277,
     "end_time": "2022-04-11T20:29:40.101481",
     "exception": false,
     "start_time": "2022-04-11T20:29:39.746204",
     "status": "completed"
    },
    "tags": []
   },
   "outputs": [
    {
     "data": {
      "text/plain": [
       "count       555514.00000\n",
       "mean        351492.21821\n",
       "std        4209334.86779\n",
       "min              1.00000\n",
       "25%           1200.00000\n",
       "50%           1800.00000\n",
       "75%         310000.00000\n",
       "max     1500000000.00000\n",
       "Name: PriceText, dtype: float64"
      ]
     },
     "execution_count": 79,
     "metadata": {},
     "output_type": "execute_result"
    }
   ],
   "source": [
    "data['PriceText'].describe()"
   ]
  },
  {
   "cell_type": "code",
   "execution_count": 80,
   "id": "d1d2c0ab",
   "metadata": {
    "execution": {
     "iopub.execute_input": "2022-04-11T20:29:40.747891Z",
     "iopub.status.busy": "2022-04-11T20:29:40.736193Z",
     "iopub.status.idle": "2022-04-11T20:29:42.972413Z",
     "shell.execute_reply": "2022-04-11T20:29:42.971866Z",
     "shell.execute_reply.started": "2022-04-11T19:32:09.658372Z"
    },
    "papermill": {
     "duration": 2.555823,
     "end_time": "2022-04-11T20:29:42.972648",
     "exception": false,
     "start_time": "2022-04-11T20:29:40.416825",
     "status": "completed"
    },
    "tags": []
   },
   "outputs": [
    {
     "data": {
      "text/plain": [
       "<AxesSubplot:xlabel='PriceText', ylabel='Density'>"
      ]
     },
     "execution_count": 80,
     "metadata": {},
     "output_type": "execute_result"
    },
    {
     "data": {
      "image/png": "[encoded data removed]",
      "text/plain": [
       "<Figure size 432x288 with 1 Axes>"
      ]
     },
     "metadata": {},
     "output_type": "display_data"
    }
   ],
   "source": [
    "sns.distplot(data['PriceText'])"
   ]
  },
  {
   "cell_type": "code",
   "execution_count": 81,
   "id": "199eaf01",
   "metadata": {
    "execution": {
     "iopub.execute_input": "2022-04-11T20:29:43.636105Z",
     "iopub.status.busy": "2022-04-11T20:29:43.635393Z",
     "iopub.status.idle": "2022-04-11T20:29:44.223126Z",
     "shell.execute_reply": "2022-04-11T20:29:44.223642Z",
     "shell.execute_reply.started": "2022-04-11T19:32:11.993520Z"
    },
    "papermill": {
     "duration": 0.930373,
     "end_time": "2022-04-11T20:29:44.223829",
     "exception": false,
     "start_time": "2022-04-11T20:29:43.293456",
     "status": "completed"
    },
    "tags": []
   },
   "outputs": [
    {
     "data": {
      "text/plain": [
       "<AxesSubplot:xlabel='PriceText'>"
      ]
     },
     "execution_count": 81,
     "metadata": {},
     "output_type": "execute_result"
    },
    {
     "data": {
      "image/png": "[encoded data removed]",
      "text/plain": [
       "<Figure size 432x288 with 1 Axes>"
      ]
     },
     "metadata": {},
     "output_type": "display_data"
    }
   ],
   "source": [
    "sns.boxplot(data['PriceText'])"
   ]
  },
  {
   "cell_type": "code",
   "execution_count": 82,
   "id": "9e0f4ed5",
   "metadata": {
    "execution": {
     "iopub.execute_input": "2022-04-11T20:29:44.877428Z",
     "iopub.status.busy": "2022-04-11T20:29:44.876677Z",
     "iopub.status.idle": "2022-04-11T20:29:44.881473Z",
     "shell.execute_reply": "2022-04-11T20:29:44.881976Z",
     "shell.execute_reply.started": "2022-04-11T19:32:12.567101Z"
    },
    "papermill": {
     "duration": 0.332178,
     "end_time": "2022-04-11T20:29:44.882159",
     "exception": false,
     "start_time": "2022-04-11T20:29:44.549981",
     "status": "completed"
    },
    "tags": []
   },
   "outputs": [],
   "source": [
    "outliers = []\n",
    "def detect_outliers_zscore(data):\n",
    "    thres = 3\n",
    "    mean = np.mean(data)\n",
    "    std = np.std(data)\n",
    "    # print(mean, std)\n",
    "    for i in data:\n",
    "        z_score = (i-mean)/std\n",
    "        if (np.abs(z_score) > thres):\n",
    "            outliers.append(i)\n",
    "    return outliers# Driver code"
   ]
  },
  {
   "cell_type": "code",
   "execution_count": 83,
   "id": "029a9c18",
   "metadata": {
    "execution": {
     "iopub.execute_input": "2022-04-11T20:29:45.525308Z",
     "iopub.status.busy": "2022-04-11T20:29:45.524639Z",
     "iopub.status.idle": "2022-04-11T20:29:46.631419Z",
     "shell.execute_reply": "2022-04-11T20:29:46.632000Z",
     "shell.execute_reply.started": "2022-04-11T19:32:12.573665Z"
    },
    "papermill": {
     "duration": 1.427064,
     "end_time": "2022-04-11T20:29:46.632198",
     "exception": false,
     "start_time": "2022-04-11T20:29:45.205134",
     "status": "completed"
    },
    "tags": []
   },
   "outputs": [
    {
     "name": "stdout",
     "output_type": "stream",
     "text": [
      "Outliers from Z-scores method:  [14500000.0, 16950000.0, 25000000.0, 13000000.0, 24500000.0, 14000000.0, 16000000.0, 14000000.0, 15000000.0, 49000000.0, 14900000.0, 15900000.0, 49500000.0, 26109661.0, 13237000.0, 23185825.0, 13900000.0, 22200000.0, 18000000.0, 14000000.0, 15000000.0, 49500000.0, 25000000.0, 13500000.0, 14000000.0, 30000000.0, 13500000.0, 49500000.0, 26000000.0, 16950000.0, 25000000.0, 15000000.0, 13500000.0, 19950000.0, 14000000.0, 17500000.0, 16950000.0, 16200000.0, 20000000.0, 25000000.0, 14900000.0, 15250000.0, 15000000.0, 14000000.0, 26500000.0, 49500000.0, 20000000.0, 14000000.0, 14000000.0, 49500000.0, 16900000.0, 22000000.0, 49500000.0, 22090000.0, 16950000.0, 32500000.0, 16950000.0, 16900000.0, 14450000.0, 25215000.0, 34000000.0, 32500000.0, 22000000.0, 49500000.0, 39000000.0, 17000000.0, 20000000.0, 40000000.0, 90000000.0, 37000000.0, 45000000.0, 62000000.0, 20000000.0, 75000000.0, 17000000.0, 13500000.0, 60000000.0, 19000000.0, 22000000.0, 13000000.0, 20000000.0, 26000000.0, 123456789.0, 13500000.0, 16000000.0, 49000000.0, 24000000.0, 15000000.0, 22500000.0, 34000000.0, 22500000.0, 13500000.0, 28000000.0, 14055000.0, 22500000.0, 13500000.0, 23185825.0, 22000000.0, 32500000.0, 22500000.0, 27500000.0, 13000000.0, 13500000.0, 14055000.0, 14000000.0, 16900000.0, 14900000.0, 16200000.0, 22000000.0, 14000000.0, 25000000.0, 22000000.0, 13000000.0, 34000000.0, 33000000.0, 30000000.0, 22000000.0, 19500000.0, 13000000.0, 14450000.0, 13500000.0, 13000000.0, 22000000.0, 100000000.0, 13000000.0, 13500000.0, 25000000.0, 13000000.0, 22000000.0, 13000000.0, 34001000.0, 19500000.0, 19500000.0, 19500000.0, 22000000.0, 49000000.0, 12980000.0, 20300000.0, 14200000.0, 14900000.0, 17000000.0, 20000000.0, 16950000.0, 19000000.0, 22000000.0, 973000000.0, 15000000.0, 14000000.0, 973000000.0, 26000000.0, 49000000.0, 25000000.0, 26000000.0, 23000000.0, 34001000.0, 14800000.0, 16000000.0, 30000000.0, 34001000.0, 34001000.0, 34001000.0, 973000000.0, 123456789.0, 23000000.0, 16100000.0, 16000000.0, 30000000.0, 14750000.0, 13500000.0, 15000000.0, 123456789.0, 40000000.0, 13200000.0, 14000000.0, 22000000.0, 13000000.0, 22000000.0, 13000000.0, 22000000.0, 22000000.0, 13000000.0, 22000000.0, 14000000.0, 20000000.0, 16000000.0, 15000000.0, 22000000.0, 14700000.0, 15000000.0, 28000000.0, 25000000.0, 973000000.0, 13000000.0, 14000000.0, 22000000.0, 22000000.0, 18000000.0, 22000000.0, 13500000.0, 22000000.0, 16000000.0, 16200000.0, 16000000.0, 70000000.0, 16000000.0, 22000000.0, 17902450.0, 22000000.0, 18000000.0, 973000000.0, 14200000.0, 22090000.0, 22000000.0, 100000000.0, 16000000.0, 22000000.0, 16200000.0, 22000000.0, 15000000.0, 35000000.0, 16200000.0, 22000000.0, 17000000.0, 25000000.0, 16000000.0, 15210000.0, 20000000.0, 16000000.0, 13500000.0, 22000000.0, 22000000.0, 20000000.0, 19950000.0, 15805500.0, 16200000.0, 14500000.0, 26000000.0, 13000000.0, 13500000.0, 49000000.0, 22000000.0, 17500000.0, 16200000.0, 22000000.0, 16000000.0, 16200000.0, 14500000.0, 22000000.0, 28000000.0, 28500000.0, 22000000.0, 80000000.0, 29900000.0, 14000000.0, 28500000.0, 13900000.0, 22000000.0, 28500000.0, 14900000.0, 30000000.0, 22500000.0, 35000000.0, 22000000.0, 17500000.0, 22000000.0, 16200000.0, 22000000.0, 22000000.0, 25000000.0, 16000000.0, 19950000.0, 14000000.0, 1500000000.0, 22500000.0, 1500000000.0, 20300000.0, 26000000.0, 13500000.0, 19000000.0, 19950000.0, 23000000.0, 14500000.0, 13500000.0, 25000000.0, 23000000.0, 22000000.0, 22000000.0, 49000000.0, 15900000.0, 13500000.0, 15000000.0, 20000000.0, 15000000.0, 38300000.0, 16200000.0, 15000000.0, 13000000.0, 13000000.0, 16000000.0, 26000000.0, 14300000.0, 13000000.0, 22000000.0, 19950000.0, 15900000.0]\n"
     ]
    }
   ],
   "source": [
    "sample_outliers = detect_outliers_zscore(data['PriceText'])\n",
    "print(\"Outliers from Z-scores method: \", sample_outliers)"
   ]
  },
  {
   "cell_type": "markdown",
   "id": "44aa3080",
   "metadata": {
    "papermill": {
     "duration": 0.320818,
     "end_time": "2022-04-11T20:29:47.273197",
     "exception": false,
     "start_time": "2022-04-11T20:29:46.952379",
     "status": "completed"
    },
    "tags": []
   },
   "source": [
    "Since, PriceText contains outliers, drop the rows"
   ]
  },
  {
   "cell_type": "code",
   "execution_count": 84,
   "id": "4c7310ca",
   "metadata": {
    "execution": {
     "iopub.execute_input": "2022-04-11T20:29:47.912163Z",
     "iopub.status.busy": "2022-04-11T20:29:47.911478Z",
     "iopub.status.idle": "2022-04-11T20:29:48.204726Z",
     "shell.execute_reply": "2022-04-11T20:29:48.204104Z",
     "shell.execute_reply.started": "2022-04-11T19:32:13.196011Z"
    },
    "papermill": {
     "duration": 0.614648,
     "end_time": "2022-04-11T20:29:48.204904",
     "exception": false,
     "start_time": "2022-04-11T20:29:47.590256",
     "status": "completed"
    },
    "tags": []
   },
   "outputs": [],
   "source": [
    "data = data[data[\"PriceText\"]<min(sample_outliers)].reset_index(drop = True)"
   ]
  },
  {
   "cell_type": "code",
   "execution_count": 85,
   "id": "0de053f2",
   "metadata": {
    "execution": {
     "iopub.execute_input": "2022-04-11T20:29:48.845839Z",
     "iopub.status.busy": "2022-04-11T20:29:48.845160Z",
     "iopub.status.idle": "2022-04-11T20:29:48.872765Z",
     "shell.execute_reply": "2022-04-11T20:29:48.873307Z",
     "shell.execute_reply.started": "2022-04-11T19:32:13.479248Z"
    },
    "papermill": {
     "duration": 0.350759,
     "end_time": "2022-04-11T20:29:48.873494",
     "exception": false,
     "start_time": "2022-04-11T20:29:48.522735",
     "status": "completed"
    },
    "tags": []
   },
   "outputs": [
    {
     "data": {
      "text/plain": [
       "count     555209.00000\n",
       "mean      324747.62023\n",
       "std       816841.63997\n",
       "min            1.00000\n",
       "25%         1200.00000\n",
       "50%         1800.00000\n",
       "75%       300000.00000\n",
       "max     12923475.00000\n",
       "Name: PriceText, dtype: float64"
      ]
     },
     "execution_count": 85,
     "metadata": {},
     "output_type": "execute_result"
    }
   ],
   "source": [
    "data['PriceText'].describe()"
   ]
  },
  {
   "cell_type": "code",
   "execution_count": 86,
   "id": "e17088eb",
   "metadata": {
    "execution": {
     "iopub.execute_input": "2022-04-11T20:29:49.512092Z",
     "iopub.status.busy": "2022-04-11T20:29:49.511258Z",
     "iopub.status.idle": "2022-04-11T20:29:51.835784Z",
     "shell.execute_reply": "2022-04-11T20:29:51.836306Z",
     "shell.execute_reply.started": "2022-04-11T19:32:13.508309Z"
    },
    "papermill": {
     "duration": 2.643864,
     "end_time": "2022-04-11T20:29:51.836566",
     "exception": false,
     "start_time": "2022-04-11T20:29:49.192702",
     "status": "completed"
    },
    "tags": []
   },
   "outputs": [
    {
     "data": {
      "text/plain": [
       "<AxesSubplot:xlabel='PriceText', ylabel='Density'>"
      ]
     },
     "execution_count": 86,
     "metadata": {},
     "output_type": "execute_result"
    },
    {
     "data": {
      "image/png": "[encoded data removed]",
      "text/plain": [
       "<Figure size 432x288 with 1 Axes>"
      ]
     },
     "metadata": {},
     "output_type": "display_data"
    }
   ],
   "source": [
    "sns.distplot(data['PriceText'])"
   ]
  },
  {
   "cell_type": "code",
   "execution_count": 87,
   "id": "34f10b14",
   "metadata": {
    "execution": {
     "iopub.execute_input": "2022-04-11T20:29:52.480297Z",
     "iopub.status.busy": "2022-04-11T20:29:52.479605Z",
     "iopub.status.idle": "2022-04-11T20:29:53.533446Z",
     "shell.execute_reply": "2022-04-11T20:29:53.532736Z",
     "shell.execute_reply.started": "2022-04-11T19:32:15.788783Z"
    },
    "papermill": {
     "duration": 1.372559,
     "end_time": "2022-04-11T20:29:53.533591",
     "exception": false,
     "start_time": "2022-04-11T20:29:52.161032",
     "status": "completed"
    },
    "tags": []
   },
   "outputs": [],
   "source": [
    "sample_outliers = detect_outliers_zscore(data['PriceText'])\n",
    "#print(\"Outliers from Z-scores method: \", sample_outliers)"
   ]
  },
  {
   "cell_type": "code",
   "execution_count": 88,
   "id": "de8cdd76",
   "metadata": {
    "execution": {
     "iopub.execute_input": "2022-04-11T20:29:54.192300Z",
     "iopub.status.busy": "2022-04-11T20:29:54.191586Z",
     "iopub.status.idle": "2022-04-11T20:29:54.465763Z",
     "shell.execute_reply": "2022-04-11T20:29:54.464845Z",
     "shell.execute_reply.started": "2022-04-11T19:32:16.372675Z"
    },
    "papermill": {
     "duration": 0.608528,
     "end_time": "2022-04-11T20:29:54.465992",
     "exception": false,
     "start_time": "2022-04-11T20:29:53.857464",
     "status": "completed"
    },
    "tags": []
   },
   "outputs": [],
   "source": [
    "data = data[data[\"PriceText\"]<min(sample_outliers)].reset_index(drop = True)"
   ]
  },
  {
   "cell_type": "code",
   "execution_count": 89,
   "id": "679c6b83",
   "metadata": {
    "execution": {
     "iopub.execute_input": "2022-04-11T20:29:55.143279Z",
     "iopub.status.busy": "2022-04-11T20:29:55.142607Z",
     "iopub.status.idle": "2022-04-11T20:29:55.171298Z",
     "shell.execute_reply": "2022-04-11T20:29:55.171860Z",
     "shell.execute_reply.started": "2022-04-11T19:32:16.637477Z"
    },
    "papermill": {
     "duration": 0.360182,
     "end_time": "2022-04-11T20:29:55.172033",
     "exception": false,
     "start_time": "2022-04-11T20:29:54.811851",
     "status": "completed"
    },
    "tags": []
   },
   "outputs": [
    {
     "data": {
      "text/plain": [
       "count    543999.00000\n",
       "mean     238603.72275\n",
       "std      494815.31277\n",
       "min           1.00000\n",
       "25%        1200.00000\n",
       "50%        1780.00000\n",
       "75%       79000.00000\n",
       "max     2775000.00000\n",
       "Name: PriceText, dtype: float64"
      ]
     },
     "execution_count": 89,
     "metadata": {},
     "output_type": "execute_result"
    }
   ],
   "source": [
    "data[\"PriceText\"].describe()"
   ]
  },
  {
   "cell_type": "code",
   "execution_count": 90,
   "id": "2f8bf4dc",
   "metadata": {
    "execution": {
     "iopub.execute_input": "2022-04-11T20:29:55.861148Z",
     "iopub.status.busy": "2022-04-11T20:29:55.860303Z",
     "iopub.status.idle": "2022-04-11T20:29:56.608197Z",
     "shell.execute_reply": "2022-04-11T20:29:56.607547Z",
     "shell.execute_reply.started": "2022-04-11T19:32:16.667034Z"
    },
    "papermill": {
     "duration": 1.098605,
     "end_time": "2022-04-11T20:29:56.608385",
     "exception": false,
     "start_time": "2022-04-11T20:29:55.509780",
     "status": "completed"
    },
    "tags": []
   },
   "outputs": [
    {
     "data": {
      "text/plain": [
       "<AxesSubplot:xlabel='PriceText'>"
      ]
     },
     "execution_count": 90,
     "metadata": {},
     "output_type": "execute_result"
    },
    {
     "data": {
      "image/png": "[encoded data removed]",
      "text/plain": [
       "<Figure size 432x288 with 1 Axes>"
      ]
     },
     "metadata": {},
     "output_type": "display_data"
    }
   ],
   "source": [
    "sns.boxplot(data['PriceText'])"
   ]
  },
  {
   "cell_type": "code",
   "execution_count": 91,
   "id": "c35584e7",
   "metadata": {
    "execution": {
     "iopub.execute_input": "2022-04-11T20:29:57.260053Z",
     "iopub.status.busy": "2022-04-11T20:29:57.259252Z",
     "iopub.status.idle": "2022-04-11T20:29:57.703500Z",
     "shell.execute_reply": "2022-04-11T20:29:57.702758Z",
     "shell.execute_reply.started": "2022-04-11T19:32:17.337728Z"
    },
    "papermill": {
     "duration": 0.76755,
     "end_time": "2022-04-11T20:29:57.703658",
     "exception": false,
     "start_time": "2022-04-11T20:29:56.936108",
     "status": "completed"
    },
    "tags": []
   },
   "outputs": [
    {
     "data": {
      "text/plain": [
       "Text(0.5, 0, 'Sample')"
      ]
     },
     "execution_count": 91,
     "metadata": {},
     "output_type": "execute_result"
    },
    {
     "data": {
      "image/png": "[encoded data removed]",
      "text/plain": [
       "<Figure size 432x288 with 1 Axes>"
      ]
     },
     "metadata": {},
     "output_type": "display_data"
    }
   ],
   "source": [
    "plt.boxplot(data[\"PriceText\"])\n",
    "plt.title(\"Detecting outliers using Boxplot\")\n",
    "plt.xlabel('Sample')"
   ]
  },
  {
   "cell_type": "code",
   "execution_count": 92,
   "id": "2531ca39",
   "metadata": {
    "execution": {
     "iopub.execute_input": "2022-04-11T20:29:58.355750Z",
     "iopub.status.busy": "2022-04-11T20:29:58.355047Z",
     "iopub.status.idle": "2022-04-11T20:30:00.871925Z",
     "shell.execute_reply": "2022-04-11T20:30:00.871351Z",
     "shell.execute_reply.started": "2022-04-11T19:32:17.719720Z"
    },
    "papermill": {
     "duration": 2.841052,
     "end_time": "2022-04-11T20:30:00.872073",
     "exception": false,
     "start_time": "2022-04-11T20:29:58.031021",
     "status": "completed"
    },
    "tags": []
   },
   "outputs": [
    {
     "data": {
      "text/plain": [
       "<AxesSubplot:xlabel='PriceText', ylabel='Density'>"
      ]
     },
     "execution_count": 92,
     "metadata": {},
     "output_type": "execute_result"
    },
    {
     "data": {
      "image/png": "[encoded data removed]",
      "text/plain": [
       "<Figure size 432x288 with 1 Axes>"
      ]
     },
     "metadata": {},
     "output_type": "display_data"
    }
   ],
   "source": [
    "sns.distplot(data['PriceText'])"
   ]
  },
  {
   "cell_type": "markdown",
   "id": "939fb9ff",
   "metadata": {
    "papermill": {
     "duration": 0.324102,
     "end_time": "2022-04-11T20:30:01.522151",
     "exception": false,
     "start_time": "2022-04-11T20:30:01.198049",
     "status": "completed"
    },
    "tags": []
   },
   "source": [
    "**Encoding the categorical column [''City''] with the target column**"
   ]
  },
  {
   "cell_type": "code",
   "execution_count": 93,
   "id": "19bcf227",
   "metadata": {
    "execution": {
     "iopub.execute_input": "2022-04-11T20:30:02.239688Z",
     "iopub.status.busy": "2022-04-11T20:30:02.238782Z",
     "iopub.status.idle": "2022-04-11T20:30:02.243038Z",
     "shell.execute_reply": "2022-04-11T20:30:02.242463Z",
     "shell.execute_reply.started": "2022-04-11T19:32:20.146241Z"
    },
    "papermill": {
     "duration": 0.393678,
     "end_time": "2022-04-11T20:30:02.243179",
     "exception": false,
     "start_time": "2022-04-11T20:30:01.849501",
     "status": "completed"
    },
    "tags": []
   },
   "outputs": [
    {
     "data": {
      "text/plain": [
       "((582669, 1), (543999,), (543999,))"
      ]
     },
     "execution_count": 93,
     "metadata": {},
     "output_type": "execute_result"
    }
   ],
   "source": [
    "City.shape, data['PriceText'].shape, data['City'].shape"
   ]
  },
  {
   "cell_type": "code",
   "execution_count": 94,
   "id": "b033846d",
   "metadata": {
    "execution": {
     "iopub.execute_input": "2022-04-11T20:30:02.922898Z",
     "iopub.status.busy": "2022-04-11T20:30:02.920284Z",
     "iopub.status.idle": "2022-04-11T20:30:02.925738Z",
     "shell.execute_reply": "2022-04-11T20:30:02.926226Z",
     "shell.execute_reply.started": "2022-04-11T19:32:20.155332Z"
    },
    "papermill": {
     "duration": 0.346685,
     "end_time": "2022-04-11T20:30:02.926414",
     "exception": false,
     "start_time": "2022-04-11T20:30:02.579729",
     "status": "completed"
    },
    "tags": []
   },
   "outputs": [],
   "source": [
    "City = data['City'].copy()"
   ]
  },
  {
   "cell_type": "code",
   "execution_count": 95,
   "id": "734da97c",
   "metadata": {
    "execution": {
     "iopub.execute_input": "2022-04-11T20:30:03.608952Z",
     "iopub.status.busy": "2022-04-11T20:30:03.607906Z",
     "iopub.status.idle": "2022-04-11T20:30:03.615518Z",
     "shell.execute_reply": "2022-04-11T20:30:03.614840Z",
     "shell.execute_reply.started": "2022-04-11T19:32:20.168809Z"
    },
    "papermill": {
     "duration": 0.34792,
     "end_time": "2022-04-11T20:30:03.615668",
     "exception": false,
     "start_time": "2022-04-11T20:30:03.267748",
     "status": "completed"
    },
    "tags": []
   },
   "outputs": [
    {
     "data": {
      "text/plain": [
       "((543999,), (543999,), (543999,))"
      ]
     },
     "execution_count": 95,
     "metadata": {},
     "output_type": "execute_result"
    }
   ],
   "source": [
    "City.shape, data['PriceText'].shape, data['City'].shape"
   ]
  },
  {
   "cell_type": "code",
   "execution_count": 96,
   "id": "83c7bcd5",
   "metadata": {
    "execution": {
     "iopub.execute_input": "2022-04-11T20:30:04.293330Z",
     "iopub.status.busy": "2022-04-11T20:30:04.292155Z",
     "iopub.status.idle": "2022-04-11T20:30:05.123390Z",
     "shell.execute_reply": "2022-04-11T20:30:05.122728Z",
     "shell.execute_reply.started": "2022-04-11T19:32:20.180544Z"
    },
    "papermill": {
     "duration": 1.16746,
     "end_time": "2022-04-11T20:30:05.123555",
     "exception": false,
     "start_time": "2022-04-11T20:30:03.956095",
     "status": "completed"
    },
    "tags": []
   },
   "outputs": [],
   "source": [
    "#Fit and Transform Train Data\n",
    "City = encoder.fit_transform(City,data['PriceText'])"
   ]
  },
  {
   "cell_type": "code",
   "execution_count": 97,
   "id": "9667c67d",
   "metadata": {
    "execution": {
     "iopub.execute_input": "2022-04-11T20:30:05.806693Z",
     "iopub.status.busy": "2022-04-11T20:30:05.805950Z",
     "iopub.status.idle": "2022-04-11T20:30:05.808831Z",
     "shell.execute_reply": "2022-04-11T20:30:05.809310Z",
     "shell.execute_reply.started": "2022-04-11T19:32:20.740224Z"
    },
    "papermill": {
     "duration": 0.363212,
     "end_time": "2022-04-11T20:30:05.809508",
     "exception": false,
     "start_time": "2022-04-11T20:30:05.446296",
     "status": "completed"
    },
    "tags": []
   },
   "outputs": [
    {
     "data": {
      "text/html": [
       "<div>\n",
       "<style scoped>\n",
       "    .dataframe tbody tr th:only-of-type {\n",
       "        vertical-align: middle;\n",
       "    }\n",
       "\n",
       "    .dataframe tbody tr th {\n",
       "        vertical-align: top;\n",
       "    }\n",
       "\n",
       "    .dataframe thead th {\n",
       "        text-align: right;\n",
       "    }\n",
       "</style>\n",
       "<table border=\"1\" class=\"dataframe\">\n",
       "  <thead>\n",
       "    <tr style=\"text-align: right;\">\n",
       "      <th></th>\n",
       "      <th>City</th>\n",
       "    </tr>\n",
       "  </thead>\n",
       "  <tbody>\n",
       "    <tr>\n",
       "      <th>0</th>\n",
       "      <td>357957.89474</td>\n",
       "    </tr>\n",
       "    <tr>\n",
       "      <th>1</th>\n",
       "      <td>84965.45703</td>\n",
       "    </tr>\n",
       "    <tr>\n",
       "      <th>2</th>\n",
       "      <td>57866.50332</td>\n",
       "    </tr>\n",
       "    <tr>\n",
       "      <th>3</th>\n",
       "      <td>176773.61957</td>\n",
       "    </tr>\n",
       "    <tr>\n",
       "      <th>4</th>\n",
       "      <td>738950.66667</td>\n",
       "    </tr>\n",
       "  </tbody>\n",
       "</table>\n",
       "</div>"
      ],
      "text/plain": [
       "          City\n",
       "0 357957.89474\n",
       "1  84965.45703\n",
       "2  57866.50332\n",
       "3 176773.61957\n",
       "4 738950.66667"
      ]
     },
     "execution_count": 97,
     "metadata": {},
     "output_type": "execute_result"
    }
   ],
   "source": [
    "City.head()"
   ]
  },
  {
   "cell_type": "code",
   "execution_count": 98,
   "id": "b5a669d0",
   "metadata": {
    "execution": {
     "iopub.execute_input": "2022-04-11T20:30:06.475634Z",
     "iopub.status.busy": "2022-04-11T20:30:06.474556Z",
     "iopub.status.idle": "2022-04-11T20:30:06.481045Z",
     "shell.execute_reply": "2022-04-11T20:30:06.481643Z",
     "shell.execute_reply.started": "2022-04-11T19:32:20.749717Z"
    },
    "papermill": {
     "duration": 0.340987,
     "end_time": "2022-04-11T20:30:06.481845",
     "exception": false,
     "start_time": "2022-04-11T20:30:06.140858",
     "status": "completed"
    },
    "tags": []
   },
   "outputs": [],
   "source": [
    "City = City.apply(pd.to_numeric)"
   ]
  },
  {
   "cell_type": "code",
   "execution_count": 99,
   "id": "2098262e",
   "metadata": {
    "execution": {
     "iopub.execute_input": "2022-04-11T20:30:07.145233Z",
     "iopub.status.busy": "2022-04-11T20:30:07.144229Z",
     "iopub.status.idle": "2022-04-11T20:30:09.490577Z",
     "shell.execute_reply": "2022-04-11T20:30:09.489751Z",
     "shell.execute_reply.started": "2022-04-11T19:32:20.761120Z"
    },
    "papermill": {
     "duration": 2.679937,
     "end_time": "2022-04-11T20:30:09.490723",
     "exception": false,
     "start_time": "2022-04-11T20:30:06.810786",
     "status": "completed"
    },
    "tags": []
   },
   "outputs": [
    {
     "data": {
      "image/png": "[encoded data removed]",
      "text/plain": [
       "<Figure size 432x288 with 1 Axes>"
      ]
     },
     "metadata": {},
     "output_type": "display_data"
    }
   ],
   "source": [
    "sns.distplot(City)\n",
    "plt.show()"
   ]
  },
  {
   "cell_type": "code",
   "execution_count": 100,
   "id": "8f9b5c1c",
   "metadata": {
    "execution": {
     "iopub.execute_input": "2022-04-11T20:30:10.169924Z",
     "iopub.status.busy": "2022-04-11T20:30:10.168883Z",
     "iopub.status.idle": "2022-04-11T20:30:10.171895Z",
     "shell.execute_reply": "2022-04-11T20:30:10.171218Z",
     "shell.execute_reply.started": "2022-04-11T19:32:23.258256Z"
    },
    "papermill": {
     "duration": 0.33883,
     "end_time": "2022-04-11T20:30:10.172052",
     "exception": false,
     "start_time": "2022-04-11T20:30:09.833222",
     "status": "completed"
    },
    "tags": []
   },
   "outputs": [],
   "source": [
    "#City.skew()"
   ]
  },
  {
   "cell_type": "code",
   "execution_count": 101,
   "id": "a26ddd3c",
   "metadata": {
    "execution": {
     "iopub.execute_input": "2022-04-11T20:30:10.839646Z",
     "iopub.status.busy": "2022-04-11T20:30:10.838619Z",
     "iopub.status.idle": "2022-04-11T20:30:10.841310Z",
     "shell.execute_reply": "2022-04-11T20:30:10.840792Z",
     "shell.execute_reply.started": "2022-04-11T19:32:23.264024Z"
    },
    "papermill": {
     "duration": 0.335623,
     "end_time": "2022-04-11T20:30:10.841492",
     "exception": false,
     "start_time": "2022-04-11T20:30:10.505869",
     "status": "completed"
    },
    "tags": []
   },
   "outputs": [],
   "source": [
    "#City.dtype"
   ]
  },
  {
   "cell_type": "code",
   "execution_count": 102,
   "id": "5349233e",
   "metadata": {
    "execution": {
     "iopub.execute_input": "2022-04-11T20:30:11.513108Z",
     "iopub.status.busy": "2022-04-11T20:30:11.512381Z",
     "iopub.status.idle": "2022-04-11T20:30:11.716984Z",
     "shell.execute_reply": "2022-04-11T20:30:11.716309Z",
     "shell.execute_reply.started": "2022-04-11T19:32:23.275473Z"
    },
    "papermill": {
     "duration": 0.541759,
     "end_time": "2022-04-11T20:30:11.717131",
     "exception": false,
     "start_time": "2022-04-11T20:30:11.175372",
     "status": "completed"
    },
    "tags": []
   },
   "outputs": [
    {
     "data": {
      "image/png": "[encoded data removed]",
      "text/plain": [
       "<Figure size 432x288 with 1 Axes>"
      ]
     },
     "metadata": {},
     "output_type": "display_data"
    }
   ],
   "source": [
    "plt.boxplot(City)\n",
    "plt.show()"
   ]
  },
  {
   "cell_type": "code",
   "execution_count": 103,
   "id": "9b147f72",
   "metadata": {
    "execution": {
     "iopub.execute_input": "2022-04-11T20:30:12.406959Z",
     "iopub.status.busy": "2022-04-11T20:30:12.406264Z",
     "iopub.status.idle": "2022-04-11T20:30:12.540841Z",
     "shell.execute_reply": "2022-04-11T20:30:12.540108Z",
     "shell.execute_reply.started": "2022-04-11T19:32:23.433181Z"
    },
    "papermill": {
     "duration": 0.478398,
     "end_time": "2022-04-11T20:30:12.540993",
     "exception": false,
     "start_time": "2022-04-11T20:30:12.062595",
     "status": "completed"
    },
    "tags": []
   },
   "outputs": [],
   "source": [
    "data['City'] = City.copy()"
   ]
  },
  {
   "cell_type": "code",
   "execution_count": 104,
   "id": "450570b0",
   "metadata": {
    "execution": {
     "iopub.execute_input": "2022-04-11T20:30:13.214213Z",
     "iopub.status.busy": "2022-04-11T20:30:13.213508Z",
     "iopub.status.idle": "2022-04-11T20:30:13.981547Z",
     "shell.execute_reply": "2022-04-11T20:30:13.980972Z",
     "shell.execute_reply.started": "2022-04-11T19:32:23.574650Z"
    },
    "papermill": {
     "duration": 1.107584,
     "end_time": "2022-04-11T20:30:13.981699",
     "exception": false,
     "start_time": "2022-04-11T20:30:12.874115",
     "status": "completed"
    },
    "tags": []
   },
   "outputs": [
    {
     "data": {
      "text/plain": [
       "ID                     0\n",
       "DealType               0\n",
       "Canton                 0\n",
       "ZipCode                0\n",
       "City                   0\n",
       "PublishedDate          0\n",
       "AvailableDate          0\n",
       "PriceText              0\n",
       "Description           22\n",
       "LangDetected           0\n",
       "NumRooms               0\n",
       "Floor                  0\n",
       "YearOfConstruction     0\n",
       "Floor1                 0\n",
       "LivingSpace            0\n",
       "CoordE                 0\n",
       "CoordN                 0\n",
       "Deal_Type              0\n",
       "dtype: int64"
      ]
     },
     "execution_count": 104,
     "metadata": {},
     "output_type": "execute_result"
    }
   ],
   "source": [
    "data.isnull().sum()"
   ]
  },
  {
   "cell_type": "markdown",
   "id": "8ff078d3",
   "metadata": {
    "papermill": {
     "duration": 0.346016,
     "end_time": "2022-04-11T20:30:14.662305",
     "exception": false,
     "start_time": "2022-04-11T20:30:14.316289",
     "status": "completed"
    },
    "tags": []
   },
   "source": [
    "Dropping the description for now, Will work on it later"
   ]
  },
  {
   "cell_type": "code",
   "execution_count": 105,
   "id": "b63dcc1e",
   "metadata": {
    "execution": {
     "iopub.execute_input": "2022-04-11T20:30:15.339566Z",
     "iopub.status.busy": "2022-04-11T20:30:15.338476Z",
     "iopub.status.idle": "2022-04-11T20:30:15.355145Z",
     "shell.execute_reply": "2022-04-11T20:30:15.354467Z",
     "shell.execute_reply.started": "2022-04-11T19:32:23.937839Z"
    },
    "papermill": {
     "duration": 0.352755,
     "end_time": "2022-04-11T20:30:15.355289",
     "exception": false,
     "start_time": "2022-04-11T20:30:15.002534",
     "status": "completed"
    },
    "tags": []
   },
   "outputs": [],
   "source": [
    "Description = data['Description'].copy()"
   ]
  },
  {
   "cell_type": "code",
   "execution_count": 106,
   "id": "1dec9702",
   "metadata": {
    "execution": {
     "iopub.execute_input": "2022-04-11T20:30:16.024363Z",
     "iopub.status.busy": "2022-04-11T20:30:16.023017Z",
     "iopub.status.idle": "2022-04-11T20:30:16.126351Z",
     "shell.execute_reply": "2022-04-11T20:30:16.125726Z",
     "shell.execute_reply.started": "2022-04-11T19:32:23.955971Z"
    },
    "papermill": {
     "duration": 0.437405,
     "end_time": "2022-04-11T20:30:16.126520",
     "exception": false,
     "start_time": "2022-04-11T20:30:15.689115",
     "status": "completed"
    },
    "tags": []
   },
   "outputs": [],
   "source": [
    "data = data.drop('Description', axis = 1)"
   ]
  },
  {
   "cell_type": "code",
   "execution_count": 107,
   "id": "9039c69a",
   "metadata": {
    "execution": {
     "iopub.execute_input": "2022-04-11T20:30:16.823579Z",
     "iopub.status.busy": "2022-04-11T20:30:16.822492Z",
     "iopub.status.idle": "2022-04-11T20:30:16.964942Z",
     "shell.execute_reply": "2022-04-11T20:30:16.964332Z",
     "shell.execute_reply.started": "2022-04-11T19:32:24.059742Z"
    },
    "papermill": {
     "duration": 0.513306,
     "end_time": "2022-04-11T20:30:16.965093",
     "exception": false,
     "start_time": "2022-04-11T20:30:16.451787",
     "status": "completed"
    },
    "tags": []
   },
   "outputs": [
    {
     "data": {
      "text/html": [
       "<div>\n",
       "<style scoped>\n",
       "    .dataframe tbody tr th:only-of-type {\n",
       "        vertical-align: middle;\n",
       "    }\n",
       "\n",
       "    .dataframe tbody tr th {\n",
       "        vertical-align: top;\n",
       "    }\n",
       "\n",
       "    .dataframe thead th {\n",
       "        text-align: right;\n",
       "    }\n",
       "</style>\n",
       "<table border=\"1\" class=\"dataframe\">\n",
       "  <thead>\n",
       "    <tr style=\"text-align: right;\">\n",
       "      <th></th>\n",
       "      <th>DealType</th>\n",
       "      <th>ZipCode</th>\n",
       "      <th>City</th>\n",
       "      <th>PriceText</th>\n",
       "      <th>CoordE</th>\n",
       "      <th>CoordN</th>\n",
       "    </tr>\n",
       "  </thead>\n",
       "  <tbody>\n",
       "    <tr>\n",
       "      <th>count</th>\n",
       "      <td>543999.00000</td>\n",
       "      <td>543999.00000</td>\n",
       "      <td>543999.00000</td>\n",
       "      <td>543999.00000</td>\n",
       "      <td>543999.00000</td>\n",
       "      <td>543999.00000</td>\n",
       "    </tr>\n",
       "    <tr>\n",
       "      <th>mean</th>\n",
       "      <td>12.54065</td>\n",
       "      <td>4803.23127</td>\n",
       "      <td>238597.69406</td>\n",
       "      <td>238603.72275</td>\n",
       "      <td>7.85618</td>\n",
       "      <td>46.81179</td>\n",
       "    </tr>\n",
       "    <tr>\n",
       "      <th>std</th>\n",
       "      <td>4.35335</td>\n",
       "      <td>2819.25695</td>\n",
       "      <td>227033.15003</td>\n",
       "      <td>494815.31277</td>\n",
       "      <td>2.66621</td>\n",
       "      <td>0.68566</td>\n",
       "    </tr>\n",
       "    <tr>\n",
       "      <th>min</th>\n",
       "      <td>10.00000</td>\n",
       "      <td>1000.00000</td>\n",
       "      <td>796.44212</td>\n",
       "      <td>1.00000</td>\n",
       "      <td>0.00000</td>\n",
       "      <td>-141.54182</td>\n",
       "    </tr>\n",
       "    <tr>\n",
       "      <th>25%</th>\n",
       "      <td>10.00000</td>\n",
       "      <td>1802.00000</td>\n",
       "      <td>84965.45703</td>\n",
       "      <td>1200.00000</td>\n",
       "      <td>7.05704</td>\n",
       "      <td>46.46967</td>\n",
       "    </tr>\n",
       "    <tr>\n",
       "      <th>50%</th>\n",
       "      <td>10.00000</td>\n",
       "      <td>6003.00000</td>\n",
       "      <td>144109.25966</td>\n",
       "      <td>1780.00000</td>\n",
       "      <td>7.98149</td>\n",
       "      <td>46.86528</td>\n",
       "    </tr>\n",
       "    <tr>\n",
       "      <th>75%</th>\n",
       "      <td>20.00000</td>\n",
       "      <td>6992.00000</td>\n",
       "      <td>352091.48736</td>\n",
       "      <td>79000.00000</td>\n",
       "      <td>8.64974</td>\n",
       "      <td>47.26765</td>\n",
       "    </tr>\n",
       "    <tr>\n",
       "      <th>max</th>\n",
       "      <td>20.00000</td>\n",
       "      <td>8967.00000</td>\n",
       "      <td>2299116.37496</td>\n",
       "      <td>2775000.00000</td>\n",
       "      <td>1078.51760</td>\n",
       "      <td>47.69496</td>\n",
       "    </tr>\n",
       "  </tbody>\n",
       "</table>\n",
       "</div>"
      ],
      "text/plain": [
       "          DealType      ZipCode          City     PriceText       CoordE  \\\n",
       "count 543999.00000 543999.00000  543999.00000  543999.00000 543999.00000   \n",
       "mean      12.54065   4803.23127  238597.69406  238603.72275      7.85618   \n",
       "std        4.35335   2819.25695  227033.15003  494815.31277      2.66621   \n",
       "min       10.00000   1000.00000     796.44212       1.00000      0.00000   \n",
       "25%       10.00000   1802.00000   84965.45703    1200.00000      7.05704   \n",
       "50%       10.00000   6003.00000  144109.25966    1780.00000      7.98149   \n",
       "75%       20.00000   6992.00000  352091.48736   79000.00000      8.64974   \n",
       "max       20.00000   8967.00000 2299116.37496 2775000.00000   1078.51760   \n",
       "\n",
       "            CoordN  \n",
       "count 543999.00000  \n",
       "mean      46.81179  \n",
       "std        0.68566  \n",
       "min     -141.54182  \n",
       "25%       46.46967  \n",
       "50%       46.86528  \n",
       "75%       47.26765  \n",
       "max       47.69496  "
      ]
     },
     "execution_count": 107,
     "metadata": {},
     "output_type": "execute_result"
    }
   ],
   "source": [
    "data.describe()"
   ]
  },
  {
   "cell_type": "code",
   "execution_count": 108,
   "id": "76bd5f20",
   "metadata": {
    "execution": {
     "iopub.execute_input": "2022-04-11T20:30:18.279081Z",
     "iopub.status.busy": "2022-04-11T20:30:18.277785Z",
     "iopub.status.idle": "2022-04-11T20:30:18.305195Z",
     "shell.execute_reply": "2022-04-11T20:30:18.305774Z",
     "shell.execute_reply.started": "2022-04-11T19:32:24.207056Z"
    },
    "papermill": {
     "duration": 0.998332,
     "end_time": "2022-04-11T20:30:18.305978",
     "exception": false,
     "start_time": "2022-04-11T20:30:17.307646",
     "status": "completed"
    },
    "tags": []
   },
   "outputs": [
    {
     "name": "stdout",
     "output_type": "stream",
     "text": [
      "<class 'pandas.core.frame.DataFrame'>\n",
      "RangeIndex: 543999 entries, 0 to 543998\n",
      "Data columns (total 17 columns):\n",
      " #   Column              Non-Null Count   Dtype  \n",
      "---  ------              --------------   -----  \n",
      " 0   ID                  543999 non-null  object \n",
      " 1   DealType            543999 non-null  int64  \n",
      " 2   Canton              543999 non-null  object \n",
      " 3   ZipCode             543999 non-null  float64\n",
      " 4   City                543999 non-null  float64\n",
      " 5   PublishedDate       543999 non-null  object \n",
      " 6   AvailableDate       543999 non-null  object \n",
      " 7   PriceText           543999 non-null  float64\n",
      " 8   LangDetected        543999 non-null  object \n",
      " 9   NumRooms            543999 non-null  object \n",
      " 10  Floor               543999 non-null  object \n",
      " 11  YearOfConstruction  543999 non-null  object \n",
      " 12  Floor1              543999 non-null  object \n",
      " 13  LivingSpace         543999 non-null  object \n",
      " 14  CoordE              543999 non-null  float64\n",
      " 15  CoordN              543999 non-null  float64\n",
      " 16  Deal_Type           543999 non-null  object \n",
      "dtypes: float64(5), int64(1), object(11)\n",
      "memory usage: 70.6+ MB\n"
     ]
    }
   ],
   "source": [
    "data.info()"
   ]
  },
  {
   "cell_type": "code",
   "execution_count": 109,
   "id": "5cd26c16",
   "metadata": {
    "execution": {
     "iopub.execute_input": "2022-04-11T20:30:18.977344Z",
     "iopub.status.busy": "2022-04-11T20:30:18.976419Z",
     "iopub.status.idle": "2022-04-11T20:30:18.979876Z",
     "shell.execute_reply": "2022-04-11T20:30:18.980370Z",
     "shell.execute_reply.started": "2022-04-11T19:32:24.500282Z"
    },
    "papermill": {
     "duration": 0.338461,
     "end_time": "2022-04-11T20:30:18.980558",
     "exception": false,
     "start_time": "2022-04-11T20:30:18.642097",
     "status": "completed"
    },
    "tags": []
   },
   "outputs": [
    {
     "data": {
      "text/plain": [
       "Index(['ID', 'DealType', 'Canton', 'ZipCode', 'City', 'PublishedDate',\n",
       "       'AvailableDate', 'PriceText', 'LangDetected', 'NumRooms', 'Floor',\n",
       "       'YearOfConstruction', 'Floor1', 'LivingSpace', 'CoordE', 'CoordN',\n",
       "       'Deal_Type'],\n",
       "      dtype='object')"
      ]
     },
     "execution_count": 109,
     "metadata": {},
     "output_type": "execute_result"
    }
   ],
   "source": [
    "data.columns"
   ]
  },
  {
   "cell_type": "code",
   "execution_count": 110,
   "id": "76002fda",
   "metadata": {
    "_kg_hide-input": false,
    "execution": {
     "iopub.execute_input": "2022-04-11T20:30:19.706814Z",
     "iopub.status.busy": "2022-04-11T20:30:19.705817Z",
     "iopub.status.idle": "2022-04-11T20:30:19.709936Z",
     "shell.execute_reply": "2022-04-11T20:30:19.709257Z",
     "shell.execute_reply.started": "2022-04-11T19:32:24.508109Z"
    },
    "papermill": {
     "duration": 0.395058,
     "end_time": "2022-04-11T20:30:19.710080",
     "exception": false,
     "start_time": "2022-04-11T20:30:19.315022",
     "status": "completed"
    },
    "tags": []
   },
   "outputs": [
    {
     "data": {
      "text/plain": [
       "(543999, 17)"
      ]
     },
     "execution_count": 110,
     "metadata": {},
     "output_type": "execute_result"
    }
   ],
   "source": [
    "data.shape"
   ]
  },
  {
   "cell_type": "code",
   "execution_count": 111,
   "id": "92c682e0",
   "metadata": {
    "execution": {
     "iopub.execute_input": "2022-04-11T20:30:20.384585Z",
     "iopub.status.busy": "2022-04-11T20:30:20.383865Z",
     "iopub.status.idle": "2022-04-11T20:30:20.387534Z",
     "shell.execute_reply": "2022-04-11T20:30:20.386871Z",
     "shell.execute_reply.started": "2022-04-11T19:32:24.518748Z"
    },
    "papermill": {
     "duration": 0.346208,
     "end_time": "2022-04-11T20:30:20.387690",
     "exception": false,
     "start_time": "2022-04-11T20:30:20.041482",
     "status": "completed"
    },
    "tags": []
   },
   "outputs": [
    {
     "data": {
      "text/plain": [
       "Index(['ID', 'DealType', 'Canton', 'ZipCode', 'City', 'PublishedDate',\n",
       "       'AvailableDate', 'PriceText', 'LangDetected', 'NumRooms', 'Floor',\n",
       "       'YearOfConstruction', 'Floor1', 'LivingSpace', 'CoordE', 'CoordN',\n",
       "       'Deal_Type'],\n",
       "      dtype='object')"
      ]
     },
     "execution_count": 111,
     "metadata": {},
     "output_type": "execute_result"
    }
   ],
   "source": [
    "data.columns"
   ]
  },
  {
   "cell_type": "markdown",
   "id": "fbdb5160",
   "metadata": {
    "papermill": {
     "duration": 0.331305,
     "end_time": "2022-04-11T20:30:21.052389",
     "exception": false,
     "start_time": "2022-04-11T20:30:20.721084",
     "status": "completed"
    },
    "tags": []
   },
   "source": [
    "### LangDetected"
   ]
  },
  {
   "cell_type": "code",
   "execution_count": 112,
   "id": "6501865a",
   "metadata": {
    "execution": {
     "iopub.execute_input": "2022-04-11T20:30:21.785125Z",
     "iopub.status.busy": "2022-04-11T20:30:21.784018Z",
     "iopub.status.idle": "2022-04-11T20:30:21.788633Z",
     "shell.execute_reply": "2022-04-11T20:30:21.787986Z",
     "shell.execute_reply.started": "2022-04-11T19:32:24.531705Z"
    },
    "papermill": {
     "duration": 0.407105,
     "end_time": "2022-04-11T20:30:21.788776",
     "exception": false,
     "start_time": "2022-04-11T20:30:21.381671",
     "status": "completed"
    },
    "tags": []
   },
   "outputs": [
    {
     "data": {
      "text/plain": [
       "de    278430\n",
       "fr    167628\n",
       "it     86831\n",
       "en     11110\n",
       "Name: LangDetected, dtype: int64"
      ]
     },
     "execution_count": 112,
     "metadata": {},
     "output_type": "execute_result"
    }
   ],
   "source": [
    "data['LangDetected'].value_counts()"
   ]
  },
  {
   "cell_type": "code",
   "execution_count": 113,
   "id": "51488d6d",
   "metadata": {
    "execution": {
     "iopub.execute_input": "2022-04-11T20:30:22.467057Z",
     "iopub.status.busy": "2022-04-11T20:30:22.466338Z",
     "iopub.status.idle": "2022-04-11T20:30:22.469169Z",
     "shell.execute_reply": "2022-04-11T20:30:22.468679Z",
     "shell.execute_reply.started": "2022-04-11T19:32:24.569328Z"
    },
    "papermill": {
     "duration": 0.340996,
     "end_time": "2022-04-11T20:30:22.469314",
     "exception": false,
     "start_time": "2022-04-11T20:30:22.128318",
     "status": "completed"
    },
    "tags": []
   },
   "outputs": [],
   "source": [
    "obj_col = []"
   ]
  },
  {
   "cell_type": "code",
   "execution_count": 114,
   "id": "4bfe7888",
   "metadata": {
    "execution": {
     "iopub.execute_input": "2022-04-11T20:30:23.164930Z",
     "iopub.status.busy": "2022-04-11T20:30:23.164210Z",
     "iopub.status.idle": "2022-04-11T20:30:23.167116Z",
     "shell.execute_reply": "2022-04-11T20:30:23.166581Z",
     "shell.execute_reply.started": "2022-04-11T19:32:24.583713Z"
    },
    "papermill": {
     "duration": 0.353011,
     "end_time": "2022-04-11T20:30:23.167255",
     "exception": false,
     "start_time": "2022-04-11T20:30:22.814244",
     "status": "completed"
    },
    "tags": []
   },
   "outputs": [],
   "source": [
    "obj_col.append('LangDetected')"
   ]
  },
  {
   "cell_type": "markdown",
   "id": "815de112",
   "metadata": {
    "papermill": {
     "duration": 0.341815,
     "end_time": "2022-04-11T20:30:23.851332",
     "exception": false,
     "start_time": "2022-04-11T20:30:23.509517",
     "status": "completed"
    },
    "tags": []
   },
   "source": [
    "### Canton"
   ]
  },
  {
   "cell_type": "code",
   "execution_count": 115,
   "id": "c4cfcf25",
   "metadata": {
    "execution": {
     "iopub.execute_input": "2022-04-11T20:30:24.797867Z",
     "iopub.status.busy": "2022-04-11T20:30:24.796799Z",
     "iopub.status.idle": "2022-04-11T20:30:24.802505Z",
     "shell.execute_reply": "2022-04-11T20:30:24.801782Z",
     "shell.execute_reply.started": "2022-04-11T19:32:24.598257Z"
    },
    "papermill": {
     "duration": 0.604479,
     "end_time": "2022-04-11T20:30:24.802655",
     "exception": false,
     "start_time": "2022-04-11T20:30:24.198176",
     "status": "completed"
    },
    "tags": []
   },
   "outputs": [
    {
     "data": {
      "text/plain": [
       "0    JU\n",
       "1    ZH\n",
       "2    ZH\n",
       "3    TI\n",
       "4    TI\n",
       "Name: Canton, dtype: object"
      ]
     },
     "execution_count": 115,
     "metadata": {},
     "output_type": "execute_result"
    }
   ],
   "source": [
    "data['Canton'].head()"
   ]
  },
  {
   "cell_type": "code",
   "execution_count": 116,
   "id": "b8565dad",
   "metadata": {
    "execution": {
     "iopub.execute_input": "2022-04-11T20:30:25.573225Z",
     "iopub.status.busy": "2022-04-11T20:30:25.572137Z",
     "iopub.status.idle": "2022-04-11T20:30:25.577128Z",
     "shell.execute_reply": "2022-04-11T20:30:25.576423Z",
     "shell.execute_reply.started": "2022-04-11T19:32:24.615144Z"
    },
    "papermill": {
     "duration": 0.414894,
     "end_time": "2022-04-11T20:30:25.577279",
     "exception": false,
     "start_time": "2022-04-11T20:30:25.162385",
     "status": "completed"
    },
    "tags": []
   },
   "outputs": [
    {
     "data": {
      "text/plain": [
       "ZH    136333\n",
       "VD    121857\n",
       "BE     96826\n",
       "TI     96795\n",
       "FR     42471\n",
       "LU     39679\n",
       "JU     10038\n",
       "Name: Canton, dtype: int64"
      ]
     },
     "execution_count": 116,
     "metadata": {},
     "output_type": "execute_result"
    }
   ],
   "source": [
    "data['Canton'].value_counts()"
   ]
  },
  {
   "cell_type": "markdown",
   "id": "7931a3bb",
   "metadata": {
    "papermill": {
     "duration": 0.34022,
     "end_time": "2022-04-11T20:30:26.260884",
     "exception": false,
     "start_time": "2022-04-11T20:30:25.920664",
     "status": "completed"
    },
    "tags": []
   },
   "source": [
    "Run it at the later end because it will add to the number of columns and there is still plenty of work to do"
   ]
  },
  {
   "cell_type": "code",
   "execution_count": 117,
   "id": "66f42272",
   "metadata": {
    "execution": {
     "iopub.execute_input": "2022-04-11T20:30:26.958036Z",
     "iopub.status.busy": "2022-04-11T20:30:26.957003Z",
     "iopub.status.idle": "2022-04-11T20:30:26.960097Z",
     "shell.execute_reply": "2022-04-11T20:30:26.959512Z",
     "shell.execute_reply.started": "2022-04-11T19:32:24.653459Z"
    },
    "papermill": {
     "duration": 0.346269,
     "end_time": "2022-04-11T20:30:26.960238",
     "exception": false,
     "start_time": "2022-04-11T20:30:26.613969",
     "status": "completed"
    },
    "tags": []
   },
   "outputs": [],
   "source": [
    "#data = pd.get_dummies(data = data['Canton'], drop_first = True)"
   ]
  },
  {
   "cell_type": "code",
   "execution_count": 118,
   "id": "07012ac2",
   "metadata": {
    "execution": {
     "iopub.execute_input": "2022-04-11T20:30:27.673595Z",
     "iopub.status.busy": "2022-04-11T20:30:27.672576Z",
     "iopub.status.idle": "2022-04-11T20:30:27.675501Z",
     "shell.execute_reply": "2022-04-11T20:30:27.674982Z",
     "shell.execute_reply.started": "2022-04-11T19:32:24.666203Z"
    },
    "papermill": {
     "duration": 0.374491,
     "end_time": "2022-04-11T20:30:27.675648",
     "exception": false,
     "start_time": "2022-04-11T20:30:27.301157",
     "status": "completed"
    },
    "tags": []
   },
   "outputs": [],
   "source": [
    "obj_col.append('Canton')"
   ]
  },
  {
   "cell_type": "markdown",
   "id": "7c6ef463",
   "metadata": {
    "papermill": {
     "duration": 0.340479,
     "end_time": "2022-04-11T20:30:28.352879",
     "exception": false,
     "start_time": "2022-04-11T20:30:28.012400",
     "status": "completed"
    },
    "tags": []
   },
   "source": [
    "### ZipCode"
   ]
  },
  {
   "cell_type": "code",
   "execution_count": 119,
   "id": "fe9c5ff9",
   "metadata": {
    "execution": {
     "iopub.execute_input": "2022-04-11T20:30:29.137591Z",
     "iopub.status.busy": "2022-04-11T20:30:29.136717Z",
     "iopub.status.idle": "2022-04-11T20:30:29.140349Z",
     "shell.execute_reply": "2022-04-11T20:30:29.140978Z",
     "shell.execute_reply.started": "2022-04-11T19:32:24.681555Z"
    },
    "papermill": {
     "duration": 0.413307,
     "end_time": "2022-04-11T20:30:29.141173",
     "exception": false,
     "start_time": "2022-04-11T20:30:28.727866",
     "status": "completed"
    },
    "tags": []
   },
   "outputs": [
    {
     "data": {
      "text/plain": [
       "0   2954.00000\n",
       "1   8053.00000\n",
       "2   8902.00000\n",
       "3   6830.00000\n",
       "4   6818.00000\n",
       "Name: ZipCode, dtype: float64"
      ]
     },
     "execution_count": 119,
     "metadata": {},
     "output_type": "execute_result"
    }
   ],
   "source": [
    "data.ZipCode.head()"
   ]
  },
  {
   "cell_type": "code",
   "execution_count": 120,
   "id": "4394e0cd",
   "metadata": {
    "execution": {
     "iopub.execute_input": "2022-04-11T20:30:29.898853Z",
     "iopub.status.busy": "2022-04-11T20:30:29.897823Z",
     "iopub.status.idle": "2022-04-11T20:30:29.904583Z",
     "shell.execute_reply": "2022-04-11T20:30:29.905143Z",
     "shell.execute_reply.started": "2022-04-11T19:32:24.699536Z"
    },
    "papermill": {
     "duration": 0.388636,
     "end_time": "2022-04-11T20:30:29.905324",
     "exception": false,
     "start_time": "2022-04-11T20:30:29.516688",
     "status": "completed"
    },
    "tags": []
   },
   "outputs": [
    {
     "data": {
      "text/plain": [
       "6900.00000    19108\n",
       "1700.00000     7260\n",
       "8400.00000     4989\n",
       "1630.00000     4375\n",
       "1004.00000     4244\n",
       "              ...  \n",
       "6904.00000        1\n",
       "3003.00000        1\n",
       "4543.00000        1\n",
       "8522.00000        1\n",
       "1313.00000        1\n",
       "Name: ZipCode, Length: 1721, dtype: int64"
      ]
     },
     "execution_count": 120,
     "metadata": {},
     "output_type": "execute_result"
    }
   ],
   "source": [
    "data.ZipCode.value_counts()"
   ]
  },
  {
   "cell_type": "markdown",
   "id": "169b91f4",
   "metadata": {
    "papermill": {
     "duration": 0.360842,
     "end_time": "2022-04-11T20:30:30.630653",
     "exception": false,
     "start_time": "2022-04-11T20:30:30.269811",
     "status": "completed"
    },
    "tags": []
   },
   "source": [
    "Is this column really relevant to the model????"
   ]
  },
  {
   "cell_type": "code",
   "execution_count": 121,
   "id": "8e47c4c0",
   "metadata": {
    "execution": {
     "iopub.execute_input": "2022-04-11T20:30:31.364866Z",
     "iopub.status.busy": "2022-04-11T20:30:31.363674Z",
     "iopub.status.idle": "2022-04-11T20:30:31.370126Z",
     "shell.execute_reply": "2022-04-11T20:30:31.370758Z",
     "shell.execute_reply.started": "2022-04-11T19:32:24.723813Z"
    },
    "papermill": {
     "duration": 0.371729,
     "end_time": "2022-04-11T20:30:31.370945",
     "exception": false,
     "start_time": "2022-04-11T20:30:30.999216",
     "status": "completed"
    },
    "tags": []
   },
   "outputs": [
    {
     "data": {
      "text/plain": [
       "Index(['ID', 'DealType', 'Canton', 'ZipCode', 'City', 'PublishedDate',\n",
       "       'AvailableDate', 'PriceText', 'LangDetected', 'NumRooms', 'Floor',\n",
       "       'YearOfConstruction', 'Floor1', 'LivingSpace', 'CoordE', 'CoordN',\n",
       "       'Deal_Type'],\n",
       "      dtype='object')"
      ]
     },
     "execution_count": 121,
     "metadata": {},
     "output_type": "execute_result"
    }
   ],
   "source": [
    "data.columns"
   ]
  },
  {
   "cell_type": "markdown",
   "id": "c425ed11",
   "metadata": {
    "papermill": {
     "duration": 0.356358,
     "end_time": "2022-04-11T20:30:32.083152",
     "exception": false,
     "start_time": "2022-04-11T20:30:31.726794",
     "status": "completed"
    },
    "tags": []
   },
   "source": [
    "## Date_Columns"
   ]
  },
  {
   "cell_type": "code",
   "execution_count": 122,
   "id": "7f3e374b",
   "metadata": {
    "execution": {
     "iopub.execute_input": "2022-04-11T20:30:32.805027Z",
     "iopub.status.busy": "2022-04-11T20:30:32.803008Z",
     "iopub.status.idle": "2022-04-11T20:30:32.806884Z",
     "shell.execute_reply": "2022-04-11T20:30:32.807628Z",
     "shell.execute_reply.started": "2022-04-11T19:32:24.735637Z"
    },
    "papermill": {
     "duration": 0.379862,
     "end_time": "2022-04-11T20:30:32.807909",
     "exception": false,
     "start_time": "2022-04-11T20:30:32.428047",
     "status": "completed"
    },
    "tags": []
   },
   "outputs": [],
   "source": [
    "date_col = ['PublishedDate', 'AvailableDate']"
   ]
  },
  {
   "cell_type": "code",
   "execution_count": 123,
   "id": "e006898d",
   "metadata": {
    "execution": {
     "iopub.execute_input": "2022-04-11T20:30:33.517328Z",
     "iopub.status.busy": "2022-04-11T20:30:33.516637Z",
     "iopub.status.idle": "2022-04-11T20:30:33.530473Z",
     "shell.execute_reply": "2022-04-11T20:30:33.531033Z",
     "shell.execute_reply.started": "2022-04-11T19:32:24.747953Z"
    },
    "papermill": {
     "duration": 0.377154,
     "end_time": "2022-04-11T20:30:33.531230",
     "exception": false,
     "start_time": "2022-04-11T20:30:33.154076",
     "status": "completed"
    },
    "tags": []
   },
   "outputs": [
    {
     "data": {
      "text/html": [
       "<div>\n",
       "<style scoped>\n",
       "    .dataframe tbody tr th:only-of-type {\n",
       "        vertical-align: middle;\n",
       "    }\n",
       "\n",
       "    .dataframe tbody tr th {\n",
       "        vertical-align: top;\n",
       "    }\n",
       "\n",
       "    .dataframe thead th {\n",
       "        text-align: right;\n",
       "    }\n",
       "</style>\n",
       "<table border=\"1\" class=\"dataframe\">\n",
       "  <thead>\n",
       "    <tr style=\"text-align: right;\">\n",
       "      <th></th>\n",
       "      <th>PublishedDate</th>\n",
       "      <th>AvailableDate</th>\n",
       "    </tr>\n",
       "  </thead>\n",
       "  <tbody>\n",
       "    <tr>\n",
       "      <th>0</th>\n",
       "      <td>2020-12-16</td>\n",
       "      <td>not available</td>\n",
       "    </tr>\n",
       "    <tr>\n",
       "      <th>1</th>\n",
       "      <td>2020-11-19</td>\n",
       "      <td>nach Vereinbarung</td>\n",
       "    </tr>\n",
       "    <tr>\n",
       "      <th>2</th>\n",
       "      <td>2021-01-20</td>\n",
       "      <td>sofort</td>\n",
       "    </tr>\n",
       "    <tr>\n",
       "      <th>3</th>\n",
       "      <td>2020-10-16</td>\n",
       "      <td>sofort</td>\n",
       "    </tr>\n",
       "    <tr>\n",
       "      <th>4</th>\n",
       "      <td>2020-07-17</td>\n",
       "      <td>sofort</td>\n",
       "    </tr>\n",
       "  </tbody>\n",
       "</table>\n",
       "</div>"
      ],
      "text/plain": [
       "  PublishedDate      AvailableDate\n",
       "0    2020-12-16      not available\n",
       "1    2020-11-19  nach Vereinbarung\n",
       "2    2021-01-20             sofort\n",
       "3    2020-10-16             sofort\n",
       "4    2020-07-17             sofort"
      ]
     },
     "execution_count": 123,
     "metadata": {},
     "output_type": "execute_result"
    }
   ],
   "source": [
    "data[date_col].head()"
   ]
  },
  {
   "cell_type": "code",
   "execution_count": 124,
   "id": "be3c3206",
   "metadata": {
    "execution": {
     "iopub.execute_input": "2022-04-11T20:30:34.239838Z",
     "iopub.status.busy": "2022-04-11T20:30:34.239110Z",
     "iopub.status.idle": "2022-04-11T20:30:34.309845Z",
     "shell.execute_reply": "2022-04-11T20:30:34.310393Z",
     "shell.execute_reply.started": "2022-04-11T19:32:24.774014Z"
    },
    "papermill": {
     "duration": 0.427773,
     "end_time": "2022-04-11T20:30:34.310597",
     "exception": false,
     "start_time": "2022-04-11T20:30:33.882824",
     "status": "completed"
    },
    "tags": []
   },
   "outputs": [
    {
     "data": {
      "text/plain": [
       "nach Vereinbarung    215027\n",
       "sofort                83407\n",
       "By arrangement        57508\n",
       "Immediately           18634\n",
       "not available         17195\n",
       "                      ...  \n",
       "01.06.2026                1\n",
       "01.11.2026                1\n",
       "14.06.2022                1\n",
       "01.05.2045                1\n",
       "23.04.2022                1\n",
       "Name: AvailableDate, Length: 692, dtype: int64"
      ]
     },
     "execution_count": 124,
     "metadata": {},
     "output_type": "execute_result"
    }
   ],
   "source": [
    "data['AvailableDate'].value_counts()"
   ]
  },
  {
   "cell_type": "code",
   "execution_count": 125,
   "id": "4619bc14",
   "metadata": {
    "execution": {
     "iopub.execute_input": "2022-04-11T20:30:35.005046Z",
     "iopub.status.busy": "2022-04-11T20:30:35.004178Z",
     "iopub.status.idle": "2022-04-11T20:30:35.010411Z",
     "shell.execute_reply": "2022-04-11T20:30:35.010983Z",
     "shell.execute_reply.started": "2022-04-11T19:32:24.809636Z"
    },
    "papermill": {
     "duration": 0.355874,
     "end_time": "2022-04-11T20:30:35.011165",
     "exception": false,
     "start_time": "2022-04-11T20:30:34.655291",
     "status": "completed"
    },
    "tags": []
   },
   "outputs": [
    {
     "data": {
      "text/plain": [
       "0        not available\n",
       "1    nach Vereinbarung\n",
       "2               sofort\n",
       "3               sofort\n",
       "4               sofort\n",
       "Name: AvailableDate, dtype: object"
      ]
     },
     "execution_count": 125,
     "metadata": {},
     "output_type": "execute_result"
    }
   ],
   "source": [
    "data['AvailableDate'].head()"
   ]
  },
  {
   "cell_type": "code",
   "execution_count": 126,
   "id": "7ac10b15",
   "metadata": {
    "execution": {
     "iopub.execute_input": "2022-04-11T20:30:35.696390Z",
     "iopub.status.busy": "2022-04-11T20:30:35.695599Z",
     "iopub.status.idle": "2022-04-11T20:30:35.698235Z",
     "shell.execute_reply": "2022-04-11T20:30:35.698701Z",
     "shell.execute_reply.started": "2022-04-11T19:32:24.821427Z"
    },
    "papermill": {
     "duration": 0.346874,
     "end_time": "2022-04-11T20:30:35.698884",
     "exception": false,
     "start_time": "2022-04-11T20:30:35.352010",
     "status": "completed"
    },
    "tags": []
   },
   "outputs": [],
   "source": [
    "#sofort = 'right away'\n",
    "#nach Vereinbarung = by arrangement"
   ]
  },
  {
   "cell_type": "code",
   "execution_count": 127,
   "id": "3ee689af",
   "metadata": {
    "execution": {
     "iopub.execute_input": "2022-04-11T20:30:36.391948Z",
     "iopub.status.busy": "2022-04-11T20:30:36.391216Z",
     "iopub.status.idle": "2022-04-11T20:30:36.393957Z",
     "shell.execute_reply": "2022-04-11T20:30:36.394469Z",
     "shell.execute_reply.started": "2022-04-11T19:32:24.836269Z"
    },
    "papermill": {
     "duration": 0.352706,
     "end_time": "2022-04-11T20:30:36.394643",
     "exception": false,
     "start_time": "2022-04-11T20:30:36.041937",
     "status": "completed"
    },
    "tags": []
   },
   "outputs": [
    {
     "data": {
      "text/plain": [
       "0    2020-12-16\n",
       "1    2020-11-19\n",
       "2    2021-01-20\n",
       "3    2020-10-16\n",
       "4    2020-07-17\n",
       "Name: PublishedDate, dtype: object"
      ]
     },
     "execution_count": 127,
     "metadata": {},
     "output_type": "execute_result"
    }
   ],
   "source": [
    "data['PublishedDate'].head()"
   ]
  },
  {
   "cell_type": "code",
   "execution_count": 128,
   "id": "38aa0aa3",
   "metadata": {
    "execution": {
     "iopub.execute_input": "2022-04-11T20:30:37.105176Z",
     "iopub.status.busy": "2022-04-11T20:30:37.101956Z",
     "iopub.status.idle": "2022-04-11T20:30:37.108600Z",
     "shell.execute_reply": "2022-04-11T20:30:37.109077Z",
     "shell.execute_reply.started": "2022-04-11T19:32:24.852086Z"
    },
    "papermill": {
     "duration": 0.367295,
     "end_time": "2022-04-11T20:30:37.109263",
     "exception": false,
     "start_time": "2022-04-11T20:30:36.741968",
     "status": "completed"
    },
    "tags": []
   },
   "outputs": [
    {
     "data": {
      "text/plain": [
       "Index(['ID', 'DealType', 'Canton', 'ZipCode', 'City', 'PublishedDate',\n",
       "       'AvailableDate', 'PriceText', 'LangDetected', 'NumRooms', 'Floor',\n",
       "       'YearOfConstruction', 'Floor1', 'LivingSpace', 'CoordE', 'CoordN',\n",
       "       'Deal_Type'],\n",
       "      dtype='object')"
      ]
     },
     "execution_count": 128,
     "metadata": {},
     "output_type": "execute_result"
    }
   ],
   "source": [
    "data.columns"
   ]
  },
  {
   "cell_type": "code",
   "execution_count": 129,
   "id": "7205e3ea",
   "metadata": {
    "execution": {
     "iopub.execute_input": "2022-04-11T20:30:37.790062Z",
     "iopub.status.busy": "2022-04-11T20:30:37.788734Z",
     "iopub.status.idle": "2022-04-11T20:30:37.825347Z",
     "shell.execute_reply": "2022-04-11T20:30:37.825846Z",
     "shell.execute_reply.started": "2022-04-11T19:32:24.866355Z"
    },
    "papermill": {
     "duration": 0.378164,
     "end_time": "2022-04-11T20:30:37.826043",
     "exception": false,
     "start_time": "2022-04-11T20:30:37.447879",
     "status": "completed"
    },
    "tags": []
   },
   "outputs": [],
   "source": [
    "data['Description'] = Description.copy()"
   ]
  },
  {
   "cell_type": "code",
   "execution_count": 130,
   "id": "2bc3a0a5",
   "metadata": {
    "execution": {
     "iopub.execute_input": "2022-04-11T20:30:38.534130Z",
     "iopub.status.busy": "2022-04-11T20:30:38.533126Z",
     "iopub.status.idle": "2022-04-11T20:30:38.801826Z",
     "shell.execute_reply": "2022-04-11T20:30:38.802352Z",
     "shell.execute_reply.started": "2022-04-11T19:32:24.911919Z"
    },
    "papermill": {
     "duration": 0.631439,
     "end_time": "2022-04-11T20:30:38.802561",
     "exception": false,
     "start_time": "2022-04-11T20:30:38.171122",
     "status": "completed"
    },
    "tags": []
   },
   "outputs": [
    {
     "data": {
      "text/html": [
       "<div>\n",
       "<style scoped>\n",
       "    .dataframe tbody tr th:only-of-type {\n",
       "        vertical-align: middle;\n",
       "    }\n",
       "\n",
       "    .dataframe tbody tr th {\n",
       "        vertical-align: top;\n",
       "    }\n",
       "\n",
       "    .dataframe thead th {\n",
       "        text-align: right;\n",
       "    }\n",
       "</style>\n",
       "<table border=\"1\" class=\"dataframe\">\n",
       "  <thead>\n",
       "    <tr style=\"text-align: right;\">\n",
       "      <th></th>\n",
       "      <th>PublishedDate</th>\n",
       "      <th>AvailableDate</th>\n",
       "      <th>DealType</th>\n",
       "      <th>PriceText</th>\n",
       "      <th>Description</th>\n",
       "    </tr>\n",
       "  </thead>\n",
       "  <tbody>\n",
       "    <tr>\n",
       "      <th>0</th>\n",
       "      <td>2020-12-16</td>\n",
       "      <td>not available</td>\n",
       "      <td>10</td>\n",
       "      <td>1050.00000</td>\n",
       "      <td>Appartement avec beaucoup de charme à louer à ...</td>\n",
       "    </tr>\n",
       "    <tr>\n",
       "      <th>1</th>\n",
       "      <td>2020-11-19</td>\n",
       "      <td>nach Vereinbarung</td>\n",
       "      <td>10</td>\n",
       "      <td>4048.00000</td>\n",
       "      <td>Die Highlights:&lt;br /&gt;» Gut geschnittener Büror...</td>\n",
       "    </tr>\n",
       "    <tr>\n",
       "      <th>2</th>\n",
       "      <td>2021-01-20</td>\n",
       "      <td>sofort</td>\n",
       "      <td>10</td>\n",
       "      <td>1061.00000</td>\n",
       "      <td>Für diese Wohnung suchen wir ein nettes Paar (...</td>\n",
       "    </tr>\n",
       "    <tr>\n",
       "      <th>3</th>\n",
       "      <td>2020-10-16</td>\n",
       "      <td>sofort</td>\n",
       "      <td>10</td>\n",
       "      <td>2250.00000</td>\n",
       "      <td>&lt;h3&gt;Chiasso&lt;/h3&gt;&lt;p&gt;&lt;p&gt;Si affitta in pieno a ce...</td>\n",
       "    </tr>\n",
       "    <tr>\n",
       "      <th>4</th>\n",
       "      <td>2020-07-17</td>\n",
       "      <td>sofort</td>\n",
       "      <td>20</td>\n",
       "      <td>2150000.00000</td>\n",
       "      <td>Attico mansardato, posto in elegante palazzina...</td>\n",
       "    </tr>\n",
       "  </tbody>\n",
       "</table>\n",
       "</div>"
      ],
      "text/plain": [
       "  PublishedDate      AvailableDate  DealType     PriceText  \\\n",
       "0    2020-12-16      not available        10    1050.00000   \n",
       "1    2020-11-19  nach Vereinbarung        10    4048.00000   \n",
       "2    2021-01-20             sofort        10    1061.00000   \n",
       "3    2020-10-16             sofort        10    2250.00000   \n",
       "4    2020-07-17             sofort        20 2150000.00000   \n",
       "\n",
       "                                         Description  \n",
       "0  Appartement avec beaucoup de charme à louer à ...  \n",
       "1  Die Highlights:<br />» Gut geschnittener Büror...  \n",
       "2  Für diese Wohnung suchen wir ein nettes Paar (...  \n",
       "3  <h3>Chiasso</h3><p><p>Si affitta in pieno a ce...  \n",
       "4  Attico mansardato, posto in elegante palazzina...  "
      ]
     },
     "execution_count": 130,
     "metadata": {},
     "output_type": "execute_result"
    }
   ],
   "source": [
    "data[['PublishedDate', 'AvailableDate', 'DealType', 'PriceText', 'Description']].head()"
   ]
  },
  {
   "cell_type": "code",
   "execution_count": 131,
   "id": "8126989a",
   "metadata": {
    "execution": {
     "iopub.execute_input": "2022-04-11T20:30:39.489122Z",
     "iopub.status.busy": "2022-04-11T20:30:39.488344Z",
     "iopub.status.idle": "2022-04-11T20:30:39.491302Z",
     "shell.execute_reply": "2022-04-11T20:30:39.491829Z",
     "shell.execute_reply.started": "2022-04-11T19:32:25.178595Z"
    },
    "papermill": {
     "duration": 0.347212,
     "end_time": "2022-04-11T20:30:39.492006",
     "exception": false,
     "start_time": "2022-04-11T20:30:39.144794",
     "status": "completed"
    },
    "tags": []
   },
   "outputs": [
    {
     "data": {
      "text/plain": [
       "0    2020-12-16\n",
       "1    2020-11-19\n",
       "2    2021-01-20\n",
       "3    2020-10-16\n",
       "4    2020-07-17\n",
       "Name: PublishedDate, dtype: object"
      ]
     },
     "execution_count": 131,
     "metadata": {},
     "output_type": "execute_result"
    }
   ],
   "source": [
    "data['PublishedDate'].head()"
   ]
  },
  {
   "cell_type": "code",
   "execution_count": 132,
   "id": "7058b77b",
   "metadata": {
    "execution": {
     "iopub.execute_input": "2022-04-11T20:30:40.236565Z",
     "iopub.status.busy": "2022-04-11T20:30:40.235854Z",
     "iopub.status.idle": "2022-04-11T20:30:40.244188Z",
     "shell.execute_reply": "2022-04-11T20:30:40.244704Z",
     "shell.execute_reply.started": "2022-04-11T19:32:25.188037Z"
    },
    "papermill": {
     "duration": 0.351808,
     "end_time": "2022-04-11T20:30:40.244936",
     "exception": false,
     "start_time": "2022-04-11T20:30:39.893128",
     "status": "completed"
    },
    "tags": []
   },
   "outputs": [],
   "source": [
    "AvlDate = data['AvailableDate'].copy()\n",
    "PubDate = data['PublishedDate'].copy()"
   ]
  },
  {
   "cell_type": "code",
   "execution_count": 133,
   "id": "603ae517",
   "metadata": {
    "execution": {
     "iopub.execute_input": "2022-04-11T20:30:40.943638Z",
     "iopub.status.busy": "2022-04-11T20:30:40.942896Z",
     "iopub.status.idle": "2022-04-11T20:30:40.945681Z",
     "shell.execute_reply": "2022-04-11T20:30:40.946198Z",
     "shell.execute_reply.started": "2022-04-11T19:32:25.205281Z"
    },
    "papermill": {
     "duration": 0.358478,
     "end_time": "2022-04-11T20:30:40.946380",
     "exception": false,
     "start_time": "2022-04-11T20:30:40.587902",
     "status": "completed"
    },
    "tags": []
   },
   "outputs": [
    {
     "data": {
      "text/plain": [
       "0             not available\n",
       "1         nach Vereinbarung\n",
       "2                    sofort\n",
       "3                    sofort\n",
       "4                    sofort\n",
       "                ...        \n",
       "543994          Immediately\n",
       "543995       By arrangement\n",
       "543996       By arrangement\n",
       "543997       By arrangement\n",
       "543998           01.04.2022\n",
       "Name: AvailableDate, Length: 543999, dtype: object"
      ]
     },
     "execution_count": 133,
     "metadata": {},
     "output_type": "execute_result"
    }
   ],
   "source": [
    "#AvlDate = pd.to_datetime(AvlDate)\n",
    "AvlDate"
   ]
  },
  {
   "cell_type": "code",
   "execution_count": 134,
   "id": "74e5d682",
   "metadata": {
    "execution": {
     "iopub.execute_input": "2022-04-11T20:30:41.635988Z",
     "iopub.status.busy": "2022-04-11T20:30:41.635192Z",
     "iopub.status.idle": "2022-04-11T20:30:41.706376Z",
     "shell.execute_reply": "2022-04-11T20:30:41.706965Z",
     "shell.execute_reply.started": "2022-04-11T19:32:25.216383Z"
    },
    "papermill": {
     "duration": 0.415801,
     "end_time": "2022-04-11T20:30:41.707146",
     "exception": false,
     "start_time": "2022-04-11T20:30:41.291345",
     "status": "completed"
    },
    "tags": []
   },
   "outputs": [
    {
     "data": {
      "text/plain": [
       "nach Vereinbarung    215027\n",
       "sofort                83407\n",
       "By arrangement        57508\n",
       "Immediately           18634\n",
       "not available         17195\n",
       "                      ...  \n",
       "01.06.2026                1\n",
       "01.11.2026                1\n",
       "14.06.2022                1\n",
       "01.05.2045                1\n",
       "23.04.2022                1\n",
       "Name: AvailableDate, Length: 692, dtype: int64"
      ]
     },
     "execution_count": 134,
     "metadata": {},
     "output_type": "execute_result"
    }
   ],
   "source": [
    "AvlDate.value_counts()"
   ]
  },
  {
   "cell_type": "code",
   "execution_count": 135,
   "id": "1a123c80",
   "metadata": {
    "execution": {
     "iopub.execute_input": "2022-04-11T20:30:42.402608Z",
     "iopub.status.busy": "2022-04-11T20:30:42.401842Z",
     "iopub.status.idle": "2022-04-11T20:30:42.602033Z",
     "shell.execute_reply": "2022-04-11T20:30:42.601466Z",
     "shell.execute_reply.started": "2022-04-11T19:32:25.256074Z"
    },
    "papermill": {
     "duration": 0.544275,
     "end_time": "2022-04-11T20:30:42.602183",
     "exception": false,
     "start_time": "2022-04-11T20:30:42.057908",
     "status": "completed"
    },
    "tags": []
   },
   "outputs": [],
   "source": [
    "replacement_mapping_dict = {\n",
    "    \"nach Vereinbarung\": np.nan,\n",
    "    \"sofort\": np.nan,\n",
    "    \"By arrangement\": np.nan,\n",
    "    \"Immediately\": np.nan,\n",
    "    \"not available\": np.nan\n",
    "}\n",
    "AvlDate = AvlDate.replace(replacement_mapping_dict)"
   ]
  },
  {
   "cell_type": "code",
   "execution_count": 136,
   "id": "518a5f44",
   "metadata": {
    "execution": {
     "iopub.execute_input": "2022-04-11T20:30:43.334284Z",
     "iopub.status.busy": "2022-04-11T20:30:43.330158Z",
     "iopub.status.idle": "2022-04-11T20:30:43.337882Z",
     "shell.execute_reply": "2022-04-11T20:30:43.337243Z",
     "shell.execute_reply.started": "2022-04-11T19:32:25.368066Z"
    },
    "papermill": {
     "duration": 0.385488,
     "end_time": "2022-04-11T20:30:43.338033",
     "exception": false,
     "start_time": "2022-04-11T20:30:42.952545",
     "status": "completed"
    },
    "tags": []
   },
   "outputs": [
    {
     "data": {
      "text/plain": [
       "01.04.2021    12869\n",
       "01.07.2021    12218\n",
       "01.10.2021    11516\n",
       "01.05.2021     8766\n",
       "01.08.2021     8735\n",
       "              ...  \n",
       "18.07.2022        1\n",
       "17.07.5392        1\n",
       "01.01.2034        1\n",
       "01.06.2026        1\n",
       "23.04.2022        1\n",
       "Name: AvailableDate, Length: 687, dtype: int64"
      ]
     },
     "execution_count": 136,
     "metadata": {},
     "output_type": "execute_result"
    }
   ],
   "source": [
    "AvlDate.value_counts()"
   ]
  },
  {
   "cell_type": "code",
   "execution_count": 137,
   "id": "588ee4c5",
   "metadata": {
    "execution": {
     "iopub.execute_input": "2022-04-11T20:30:44.031865Z",
     "iopub.status.busy": "2022-04-11T20:30:44.031166Z",
     "iopub.status.idle": "2022-04-11T20:30:44.036319Z",
     "shell.execute_reply": "2022-04-11T20:30:44.036918Z",
     "shell.execute_reply.started": "2022-04-11T19:32:25.397130Z"
    },
    "papermill": {
     "duration": 0.357401,
     "end_time": "2022-04-11T20:30:44.037105",
     "exception": false,
     "start_time": "2022-04-11T20:30:43.679704",
     "status": "completed"
    },
    "tags": []
   },
   "outputs": [
    {
     "data": {
      "text/plain": [
       "543999"
      ]
     },
     "execution_count": 137,
     "metadata": {},
     "output_type": "execute_result"
    }
   ],
   "source": [
    "len(data)"
   ]
  },
  {
   "cell_type": "code",
   "execution_count": 138,
   "id": "f292bd36",
   "metadata": {
    "execution": {
     "iopub.execute_input": "2022-04-11T20:30:44.739549Z",
     "iopub.status.busy": "2022-04-11T20:30:44.738849Z",
     "iopub.status.idle": "2022-04-11T20:30:44.779551Z",
     "shell.execute_reply": "2022-04-11T20:30:44.780185Z",
     "shell.execute_reply.started": "2022-04-11T19:32:25.404530Z"
    },
    "papermill": {
     "duration": 0.394014,
     "end_time": "2022-04-11T20:30:44.780389",
     "exception": false,
     "start_time": "2022-04-11T20:30:44.386375",
     "status": "completed"
    },
    "tags": []
   },
   "outputs": [
    {
     "data": {
      "text/plain": [
       "72.01686032511088"
      ]
     },
     "execution_count": 138,
     "metadata": {},
     "output_type": "execute_result"
    }
   ],
   "source": [
    "(AvlDate.isnull().sum()/len(data))*100"
   ]
  },
  {
   "cell_type": "code",
   "execution_count": 139,
   "id": "eabfec2d",
   "metadata": {
    "execution": {
     "iopub.execute_input": "2022-04-11T20:30:45.473719Z",
     "iopub.status.busy": "2022-04-11T20:30:45.473018Z",
     "iopub.status.idle": "2022-04-11T20:30:45.476147Z",
     "shell.execute_reply": "2022-04-11T20:30:45.476711Z",
     "shell.execute_reply.started": "2022-04-11T19:32:25.439599Z"
    },
    "papermill": {
     "duration": 0.347396,
     "end_time": "2022-04-11T20:30:45.476894",
     "exception": false,
     "start_time": "2022-04-11T20:30:45.129498",
     "status": "completed"
    },
    "tags": []
   },
   "outputs": [],
   "source": [
    "#AvlDate.fillna(\"Others\", inplace = True)"
   ]
  },
  {
   "cell_type": "code",
   "execution_count": 140,
   "id": "2709a29d",
   "metadata": {
    "execution": {
     "iopub.execute_input": "2022-04-11T20:30:46.170573Z",
     "iopub.status.busy": "2022-04-11T20:30:46.169819Z",
     "iopub.status.idle": "2022-04-11T20:30:46.210659Z",
     "shell.execute_reply": "2022-04-11T20:30:46.211205Z",
     "shell.execute_reply.started": "2022-04-11T19:32:25.451657Z"
    },
    "papermill": {
     "duration": 0.394101,
     "end_time": "2022-04-11T20:30:46.211384",
     "exception": false,
     "start_time": "2022-04-11T20:30:45.817283",
     "status": "completed"
    },
    "tags": []
   },
   "outputs": [
    {
     "data": {
      "text/plain": [
       "391771"
      ]
     },
     "execution_count": 140,
     "metadata": {},
     "output_type": "execute_result"
    }
   ],
   "source": [
    "AvlDate.isnull().sum()"
   ]
  },
  {
   "cell_type": "code",
   "execution_count": 141,
   "id": "44bc8e65",
   "metadata": {
    "execution": {
     "iopub.execute_input": "2022-04-11T20:30:46.900356Z",
     "iopub.status.busy": "2022-04-11T20:30:46.899422Z",
     "iopub.status.idle": "2022-04-11T20:30:46.903250Z",
     "shell.execute_reply": "2022-04-11T20:30:46.903840Z",
     "shell.execute_reply.started": "2022-04-11T19:32:25.487663Z"
    },
    "papermill": {
     "duration": 0.350493,
     "end_time": "2022-04-11T20:30:46.904022",
     "exception": false,
     "start_time": "2022-04-11T20:30:46.553529",
     "status": "completed"
    },
    "tags": []
   },
   "outputs": [],
   "source": [
    "#AvlDate = pd.to_datetime(AvlDate)"
   ]
  },
  {
   "cell_type": "code",
   "execution_count": 142,
   "id": "73010741",
   "metadata": {
    "execution": {
     "iopub.execute_input": "2022-04-11T20:30:47.588411Z",
     "iopub.status.busy": "2022-04-11T20:30:47.587743Z",
     "iopub.status.idle": "2022-04-11T20:30:47.661480Z",
     "shell.execute_reply": "2022-04-11T20:30:47.660781Z",
     "shell.execute_reply.started": "2022-04-11T19:32:25.496392Z"
    },
    "papermill": {
     "duration": 0.417072,
     "end_time": "2022-04-11T20:30:47.661621",
     "exception": false,
     "start_time": "2022-04-11T20:30:47.244549",
     "status": "completed"
    },
    "tags": []
   },
   "outputs": [
    {
     "data": {
      "text/plain": [
       "count         152228\n",
       "unique           687\n",
       "top       01.04.2021\n",
       "freq           12869\n",
       "Name: AvailableDate, dtype: object"
      ]
     },
     "execution_count": 142,
     "metadata": {},
     "output_type": "execute_result"
    }
   ],
   "source": [
    "AvlDate.describe()"
   ]
  },
  {
   "cell_type": "code",
   "execution_count": 143,
   "id": "60383ce3",
   "metadata": {
    "execution": {
     "iopub.execute_input": "2022-04-11T20:30:48.349269Z",
     "iopub.status.busy": "2022-04-11T20:30:48.348613Z",
     "iopub.status.idle": "2022-04-11T20:30:48.387749Z",
     "shell.execute_reply": "2022-04-11T20:30:48.388224Z",
     "shell.execute_reply.started": "2022-04-11T19:32:25.551788Z"
    },
    "papermill": {
     "duration": 0.383363,
     "end_time": "2022-04-11T20:30:48.388406",
     "exception": false,
     "start_time": "2022-04-11T20:30:48.005043",
     "status": "completed"
    },
    "tags": []
   },
   "outputs": [
    {
     "data": {
      "text/plain": [
       "72.01686032511088"
      ]
     },
     "execution_count": 143,
     "metadata": {},
     "output_type": "execute_result"
    }
   ],
   "source": [
    "percentage_missing(AvlDate)"
   ]
  },
  {
   "cell_type": "code",
   "execution_count": 144,
   "id": "893390a1",
   "metadata": {
    "execution": {
     "iopub.execute_input": "2022-04-11T20:30:49.074541Z",
     "iopub.status.busy": "2022-04-11T20:30:49.073848Z",
     "iopub.status.idle": "2022-04-11T20:30:49.081458Z",
     "shell.execute_reply": "2022-04-11T20:30:49.082011Z",
     "shell.execute_reply.started": "2022-04-11T19:32:25.582519Z"
    },
    "papermill": {
     "duration": 0.349385,
     "end_time": "2022-04-11T20:30:49.082198",
     "exception": false,
     "start_time": "2022-04-11T20:30:48.732813",
     "status": "completed"
    },
    "tags": []
   },
   "outputs": [],
   "source": [
    "AvlDate = pd.DataFrame(AvlDate)"
   ]
  },
  {
   "cell_type": "code",
   "execution_count": 145,
   "id": "52235801",
   "metadata": {
    "execution": {
     "iopub.execute_input": "2022-04-11T20:30:49.829157Z",
     "iopub.status.busy": "2022-04-11T20:30:49.790421Z",
     "iopub.status.idle": "2022-04-11T20:30:50.113032Z",
     "shell.execute_reply": "2022-04-11T20:30:50.112360Z",
     "shell.execute_reply.started": "2022-04-11T19:32:25.596011Z"
    },
    "papermill": {
     "duration": 0.690402,
     "end_time": "2022-04-11T20:30:50.113187",
     "exception": false,
     "start_time": "2022-04-11T20:30:49.422785",
     "status": "completed"
    },
    "tags": []
   },
   "outputs": [
    {
     "data": {
      "image/png": "[encoded data removed]",
      "text/plain": [
       "<Figure size 648x720 with 1 Axes>"
      ]
     },
     "metadata": {},
     "output_type": "display_data"
    }
   ],
   "source": [
    "ax = AvlDate.isna().sum().sort_values().plot(kind = 'barh', figsize = (9, 10))\n",
    "plt.title('Percentage of Missing Values Per Column Dataset', fontdict={'size':15})\n",
    "for p in ax.patches:\n",
    "    percentage ='{:,.0f}%'.format((p.get_width()/data.shape[0])*100)\n",
    "    width, height =p.get_width(),p.get_height()\n",
    "    x=p.get_x()+width+0.02\n",
    "    y=p.get_y()+height/2\n",
    "    ax.annotate(percentage,(x,y))"
   ]
  },
  {
   "cell_type": "markdown",
   "id": "bfd43c18",
   "metadata": {
    "papermill": {
     "duration": 0.341631,
     "end_time": "2022-04-11T20:30:50.803286",
     "exception": false,
     "start_time": "2022-04-11T20:30:50.461655",
     "status": "completed"
    },
    "tags": []
   },
   "source": [
    "Maybe I will need to drop the avilable dates for now because of too much null value"
   ]
  },
  {
   "cell_type": "markdown",
   "id": "b057e2de",
   "metadata": {
    "papermill": {
     "duration": 0.347176,
     "end_time": "2022-04-11T20:30:51.501246",
     "exception": false,
     "start_time": "2022-04-11T20:30:51.154070",
     "status": "completed"
    },
    "tags": []
   },
   "source": [
    "### Pend Pend Pend Pend"
   ]
  },
  {
   "cell_type": "markdown",
   "id": "462d5bc3",
   "metadata": {
    "papermill": {
     "duration": 0.347121,
     "end_time": "2022-04-11T20:30:52.193114",
     "exception": false,
     "start_time": "2022-04-11T20:30:51.845993",
     "status": "completed"
    },
    "tags": []
   },
   "source": [
    "### PublishedDate"
   ]
  },
  {
   "cell_type": "code",
   "execution_count": 146,
   "id": "f852fd90",
   "metadata": {
    "execution": {
     "iopub.execute_input": "2022-04-11T20:30:52.891644Z",
     "iopub.status.busy": "2022-04-11T20:30:52.890891Z",
     "iopub.status.idle": "2022-04-11T20:30:52.897670Z",
     "shell.execute_reply": "2022-04-11T20:30:52.898202Z",
     "shell.execute_reply.started": "2022-04-11T19:32:25.848112Z"
    },
    "papermill": {
     "duration": 0.359812,
     "end_time": "2022-04-11T20:30:52.898379",
     "exception": false,
     "start_time": "2022-04-11T20:30:52.538567",
     "status": "completed"
    },
    "tags": []
   },
   "outputs": [
    {
     "data": {
      "text/plain": [
       "0    2020-12-16\n",
       "1    2020-11-19\n",
       "2    2021-01-20\n",
       "3    2020-10-16\n",
       "4    2020-07-17\n",
       "Name: PublishedDate, dtype: object"
      ]
     },
     "execution_count": 146,
     "metadata": {},
     "output_type": "execute_result"
    }
   ],
   "source": [
    "data['PublishedDate'].head()"
   ]
  },
  {
   "cell_type": "code",
   "execution_count": 147,
   "id": "80a12c17",
   "metadata": {
    "execution": {
     "iopub.execute_input": "2022-04-11T20:30:53.612524Z",
     "iopub.status.busy": "2022-04-11T20:30:53.611286Z",
     "iopub.status.idle": "2022-04-11T20:30:53.798453Z",
     "shell.execute_reply": "2022-04-11T20:30:53.798975Z",
     "shell.execute_reply.started": "2022-04-11T19:32:25.857398Z"
    },
    "papermill": {
     "duration": 0.54599,
     "end_time": "2022-04-11T20:30:53.799167",
     "exception": false,
     "start_time": "2022-04-11T20:30:53.253177",
     "status": "completed"
    },
    "tags": []
   },
   "outputs": [],
   "source": [
    "data['PublishedDate'] = pd.to_datetime(data['PublishedDate'])"
   ]
  },
  {
   "cell_type": "code",
   "execution_count": 148,
   "id": "492b3367",
   "metadata": {
    "execution": {
     "iopub.execute_input": "2022-04-11T20:30:54.509686Z",
     "iopub.status.busy": "2022-04-11T20:30:54.508969Z",
     "iopub.status.idle": "2022-04-11T20:30:54.515694Z",
     "shell.execute_reply": "2022-04-11T20:30:54.516325Z",
     "shell.execute_reply.started": "2022-04-11T19:32:26.029343Z"
    },
    "papermill": {
     "duration": 0.36065,
     "end_time": "2022-04-11T20:30:54.516523",
     "exception": false,
     "start_time": "2022-04-11T20:30:54.155873",
     "status": "completed"
    },
    "tags": []
   },
   "outputs": [
    {
     "data": {
      "text/plain": [
       "0   2020-12-16\n",
       "1   2020-11-19\n",
       "2   2021-01-20\n",
       "3   2020-10-16\n",
       "4   2020-07-17\n",
       "Name: PublishedDate, dtype: datetime64[ns]"
      ]
     },
     "execution_count": 148,
     "metadata": {},
     "output_type": "execute_result"
    }
   ],
   "source": [
    "data['PublishedDate'].head()"
   ]
  },
  {
   "cell_type": "code",
   "execution_count": 149,
   "id": "661b626c",
   "metadata": {
    "execution": {
     "iopub.execute_input": "2022-04-11T20:30:55.219895Z",
     "iopub.status.busy": "2022-04-11T20:30:55.219211Z",
     "iopub.status.idle": "2022-04-11T20:30:55.399054Z",
     "shell.execute_reply": "2022-04-11T20:30:55.398427Z",
     "shell.execute_reply.started": "2022-04-11T19:32:26.039062Z"
    },
    "papermill": {
     "duration": 0.533182,
     "end_time": "2022-04-11T20:30:55.399195",
     "exception": false,
     "start_time": "2022-04-11T20:30:54.866013",
     "status": "completed"
    },
    "tags": []
   },
   "outputs": [],
   "source": [
    "#Extracting the year, month & day from the published datetime column\n",
    "\n",
    "# Year\n",
    "data['PublishedYear'] = data['PublishedDate'].dt.year\n",
    "\n",
    "# Month\n",
    "data['PublishedMonth'] = data['PublishedDate'].dt.month\n",
    "\n",
    "# Day\n",
    "data['PublishedDay'] = data['PublishedDate'].dt.day"
   ]
  },
  {
   "cell_type": "markdown",
   "id": "3599e675",
   "metadata": {
    "papermill": {
     "duration": 0.353644,
     "end_time": "2022-04-11T20:30:56.095466",
     "exception": false,
     "start_time": "2022-04-11T20:30:55.741822",
     "status": "completed"
    },
    "tags": []
   },
   "source": [
    "## We Move to other columns again******"
   ]
  },
  {
   "cell_type": "code",
   "execution_count": 150,
   "id": "5bb52c29",
   "metadata": {
    "execution": {
     "iopub.execute_input": "2022-04-11T20:30:56.786149Z",
     "iopub.status.busy": "2022-04-11T20:30:56.785427Z",
     "iopub.status.idle": "2022-04-11T20:30:56.790521Z",
     "shell.execute_reply": "2022-04-11T20:30:56.791096Z",
     "shell.execute_reply.started": "2022-04-11T19:32:26.219057Z"
    },
    "papermill": {
     "duration": 0.354527,
     "end_time": "2022-04-11T20:30:56.791269",
     "exception": false,
     "start_time": "2022-04-11T20:30:56.436742",
     "status": "completed"
    },
    "tags": []
   },
   "outputs": [
    {
     "data": {
      "text/plain": [
       "Index(['ID', 'DealType', 'Canton', 'ZipCode', 'City', 'PublishedDate',\n",
       "       'AvailableDate', 'PriceText', 'LangDetected', 'NumRooms', 'Floor',\n",
       "       'YearOfConstruction', 'Floor1', 'LivingSpace', 'CoordE', 'CoordN',\n",
       "       'Deal_Type', 'Description', 'PublishedYear', 'PublishedMonth',\n",
       "       'PublishedDay'],\n",
       "      dtype='object')"
      ]
     },
     "execution_count": 150,
     "metadata": {},
     "output_type": "execute_result"
    }
   ],
   "source": [
    "data.columns"
   ]
  },
  {
   "cell_type": "code",
   "execution_count": 151,
   "id": "a4a2b9e0",
   "metadata": {
    "execution": {
     "iopub.execute_input": "2022-04-11T20:30:57.535602Z",
     "iopub.status.busy": "2022-04-11T20:30:57.534849Z",
     "iopub.status.idle": "2022-04-11T20:30:57.542050Z",
     "shell.execute_reply": "2022-04-11T20:30:57.542634Z",
     "shell.execute_reply.started": "2022-04-11T19:32:26.226879Z"
    },
    "papermill": {
     "duration": 0.405674,
     "end_time": "2022-04-11T20:30:57.542838",
     "exception": false,
     "start_time": "2022-04-11T20:30:57.137164",
     "status": "completed"
    },
    "tags": []
   },
   "outputs": [],
   "source": [
    "NumRooms = data['NumRooms'].copy()"
   ]
  },
  {
   "cell_type": "code",
   "execution_count": 152,
   "id": "e70bb66e",
   "metadata": {
    "execution": {
     "iopub.execute_input": "2022-04-11T20:30:58.232495Z",
     "iopub.status.busy": "2022-04-11T20:30:58.231787Z",
     "iopub.status.idle": "2022-04-11T20:30:58.234548Z",
     "shell.execute_reply": "2022-04-11T20:30:58.235123Z",
     "shell.execute_reply.started": "2022-04-11T19:32:26.238587Z"
    },
    "papermill": {
     "duration": 0.353156,
     "end_time": "2022-04-11T20:30:58.235311",
     "exception": false,
     "start_time": "2022-04-11T20:30:57.882155",
     "status": "completed"
    },
    "tags": []
   },
   "outputs": [
    {
     "data": {
      "text/plain": [
       "0     3.5\n",
       "1    None\n",
       "2       3\n",
       "3      10\n",
       "4     5.5\n",
       "Name: NumRooms, dtype: object"
      ]
     },
     "execution_count": 152,
     "metadata": {},
     "output_type": "execute_result"
    }
   ],
   "source": [
    "data['NumRooms'].head()"
   ]
  },
  {
   "cell_type": "code",
   "execution_count": null,
   "id": "3866ae48",
   "metadata": {
    "papermill": {
     "duration": 0.349672,
     "end_time": "2022-04-11T20:30:58.929271",
     "exception": false,
     "start_time": "2022-04-11T20:30:58.579599",
     "status": "completed"
    },
    "tags": []
   },
   "outputs": [],
   "source": []
  },
  {
   "cell_type": "code",
   "execution_count": 153,
   "id": "8f5ee408",
   "metadata": {
    "execution": {
     "iopub.execute_input": "2022-04-11T20:30:59.683726Z",
     "iopub.status.busy": "2022-04-11T20:30:59.682932Z",
     "iopub.status.idle": "2022-04-11T20:30:59.689354Z",
     "shell.execute_reply": "2022-04-11T20:30:59.688817Z",
     "shell.execute_reply.started": "2022-04-11T19:32:26.250967Z"
    },
    "papermill": {
     "duration": 0.414779,
     "end_time": "2022-04-11T20:30:59.689517",
     "exception": false,
     "start_time": "2022-04-11T20:30:59.274738",
     "status": "completed"
    },
    "tags": []
   },
   "outputs": [
    {
     "data": {
      "text/plain": [
       "0.0"
      ]
     },
     "execution_count": 153,
     "metadata": {},
     "output_type": "execute_result"
    }
   ],
   "source": [
    "(data.NumRooms.isnull().sum()/len(data))*100"
   ]
  },
  {
   "cell_type": "code",
   "execution_count": 154,
   "id": "b2c0c192",
   "metadata": {
    "execution": {
     "iopub.execute_input": "2022-04-11T20:31:00.452776Z",
     "iopub.status.busy": "2022-04-11T20:31:00.452028Z",
     "iopub.status.idle": "2022-04-11T20:31:00.456674Z",
     "shell.execute_reply": "2022-04-11T20:31:00.456031Z",
     "shell.execute_reply.started": "2022-04-11T19:32:26.283298Z"
    },
    "papermill": {
     "duration": 0.419937,
     "end_time": "2022-04-11T20:31:00.456873",
     "exception": false,
     "start_time": "2022-04-11T20:31:00.036936",
     "status": "completed"
    },
    "tags": []
   },
   "outputs": [
    {
     "data": {
      "text/plain": [
       "3.5     107356\n",
       "None     92016\n",
       "4.5      85927\n",
       "2.5      64267\n",
       "1        39604\n",
       "         ...  \n",
       "59           1\n",
       "34.5         1\n",
       "2.2          1\n",
       "85           1\n",
       "40           1\n",
       "Name: NumRooms, Length: 75, dtype: int64"
      ]
     },
     "execution_count": 154,
     "metadata": {},
     "output_type": "execute_result"
    }
   ],
   "source": [
    "data['NumRooms'].value_counts()"
   ]
  },
  {
   "cell_type": "code",
   "execution_count": 155,
   "id": "9bc76c39",
   "metadata": {
    "execution": {
     "iopub.execute_input": "2022-04-11T20:31:01.169133Z",
     "iopub.status.busy": "2022-04-11T20:31:01.168465Z",
     "iopub.status.idle": "2022-04-11T20:31:01.207873Z",
     "shell.execute_reply": "2022-04-11T20:31:01.208412Z",
     "shell.execute_reply.started": "2022-04-11T19:32:26.321784Z"
    },
    "papermill": {
     "duration": 0.389626,
     "end_time": "2022-04-11T20:31:01.208601",
     "exception": false,
     "start_time": "2022-04-11T20:31:00.818975",
     "status": "completed"
    },
    "tags": []
   },
   "outputs": [
    {
     "data": {
      "text/plain": [
       "0    3.5\n",
       "1    NaN\n",
       "2      3\n",
       "3     10\n",
       "4    5.5\n",
       "Name: NumRooms, dtype: object"
      ]
     },
     "execution_count": 155,
     "metadata": {},
     "output_type": "execute_result"
    }
   ],
   "source": [
    "data['NumRooms'] = data['NumRooms'].replace('None', np.nan)\n",
    "data['NumRooms'].head()"
   ]
  },
  {
   "cell_type": "code",
   "execution_count": 156,
   "id": "0d8b0ea9",
   "metadata": {
    "execution": {
     "iopub.execute_input": "2022-04-11T20:31:01.922761Z",
     "iopub.status.busy": "2022-04-11T20:31:01.921669Z",
     "iopub.status.idle": "2022-04-11T20:31:12.918351Z",
     "shell.execute_reply": "2022-04-11T20:31:12.917706Z",
     "shell.execute_reply.started": "2022-04-11T19:32:26.354734Z"
    },
    "papermill": {
     "duration": 11.366327,
     "end_time": "2022-04-11T20:31:12.918536",
     "exception": false,
     "start_time": "2022-04-11T20:31:01.552209",
     "status": "completed"
    },
    "tags": []
   },
   "outputs": [],
   "source": [
    "data['NumRooms'] = data['NumRooms'].apply(pd.to_numeric)"
   ]
  },
  {
   "cell_type": "code",
   "execution_count": 157,
   "id": "63466b0c",
   "metadata": {
    "execution": {
     "iopub.execute_input": "2022-04-11T20:31:13.623928Z",
     "iopub.status.busy": "2022-04-11T20:31:13.623235Z",
     "iopub.status.idle": "2022-04-11T20:31:13.628583Z",
     "shell.execute_reply": "2022-04-11T20:31:13.629113Z",
     "shell.execute_reply.started": "2022-04-11T19:32:33.296672Z"
    },
    "papermill": {
     "duration": 0.361818,
     "end_time": "2022-04-11T20:31:13.629287",
     "exception": false,
     "start_time": "2022-04-11T20:31:13.267469",
     "status": "completed"
    },
    "tags": []
   },
   "outputs": [
    {
     "data": {
      "text/plain": [
       "92016"
      ]
     },
     "execution_count": 157,
     "metadata": {},
     "output_type": "execute_result"
    }
   ],
   "source": [
    "data['NumRooms'].isnull().sum()"
   ]
  },
  {
   "cell_type": "code",
   "execution_count": 158,
   "id": "c8e54309",
   "metadata": {
    "execution": {
     "iopub.execute_input": "2022-04-11T20:31:14.340621Z",
     "iopub.status.busy": "2022-04-11T20:31:14.339890Z",
     "iopub.status.idle": "2022-04-11T20:31:14.346850Z",
     "shell.execute_reply": "2022-04-11T20:31:14.346281Z",
     "shell.execute_reply.started": "2022-04-11T19:32:33.305331Z"
    },
    "papermill": {
     "duration": 0.367426,
     "end_time": "2022-04-11T20:31:14.347018",
     "exception": false,
     "start_time": "2022-04-11T20:31:13.979592",
     "status": "completed"
    },
    "tags": []
   },
   "outputs": [
    {
     "data": {
      "text/plain": [
       "16.91473697561944"
      ]
     },
     "execution_count": 158,
     "metadata": {},
     "output_type": "execute_result"
    }
   ],
   "source": [
    "percentage_missing(data['NumRooms'])"
   ]
  },
  {
   "cell_type": "code",
   "execution_count": 159,
   "id": "d2bbf706",
   "metadata": {
    "execution": {
     "iopub.execute_input": "2022-04-11T20:31:15.072769Z",
     "iopub.status.busy": "2022-04-11T20:31:15.072019Z",
     "iopub.status.idle": "2022-04-11T20:31:15.074725Z",
     "shell.execute_reply": "2022-04-11T20:31:15.075206Z",
     "shell.execute_reply.started": "2022-04-11T19:32:33.319655Z"
    },
    "papermill": {
     "duration": 0.372658,
     "end_time": "2022-04-11T20:31:15.075385",
     "exception": false,
     "start_time": "2022-04-11T20:31:14.702727",
     "status": "completed"
    },
    "tags": []
   },
   "outputs": [
    {
     "data": {
      "text/plain": [
       "3.50000     107356\n",
       "4.50000      85927\n",
       "2.50000      64267\n",
       "1.00000      39604\n",
       "3.00000      32410\n",
       "             ...  \n",
       "59.00000         1\n",
       "34.50000         1\n",
       "85.00000         1\n",
       "2.20000          1\n",
       "40.00000         1\n",
       "Name: NumRooms, Length: 74, dtype: int64"
      ]
     },
     "execution_count": 159,
     "metadata": {},
     "output_type": "execute_result"
    }
   ],
   "source": [
    "data['NumRooms'].value_counts()"
   ]
  },
  {
   "cell_type": "code",
   "execution_count": 160,
   "id": "a7be5336",
   "metadata": {
    "execution": {
     "iopub.execute_input": "2022-04-11T20:31:15.773648Z",
     "iopub.status.busy": "2022-04-11T20:31:15.772781Z",
     "iopub.status.idle": "2022-04-11T20:31:15.777671Z",
     "shell.execute_reply": "2022-04-11T20:31:15.778220Z",
     "shell.execute_reply.started": "2022-04-11T19:32:33.338931Z"
    },
    "papermill": {
     "duration": 0.358105,
     "end_time": "2022-04-11T20:31:15.778394",
     "exception": false,
     "start_time": "2022-04-11T20:31:15.420289",
     "status": "completed"
    },
    "tags": []
   },
   "outputs": [
    {
     "data": {
      "text/plain": [
       "dtype('float64')"
      ]
     },
     "execution_count": 160,
     "metadata": {},
     "output_type": "execute_result"
    }
   ],
   "source": [
    "data['NumRooms'].dtype"
   ]
  },
  {
   "cell_type": "code",
   "execution_count": 161,
   "id": "a048a7ce",
   "metadata": {
    "execution": {
     "iopub.execute_input": "2022-04-11T20:31:16.481333Z",
     "iopub.status.busy": "2022-04-11T20:31:16.480707Z",
     "iopub.status.idle": "2022-04-11T20:31:16.772101Z",
     "shell.execute_reply": "2022-04-11T20:31:16.772720Z",
     "shell.execute_reply.started": "2022-04-11T19:32:33.349536Z"
    },
    "papermill": {
     "duration": 0.643324,
     "end_time": "2022-04-11T20:31:16.772897",
     "exception": false,
     "start_time": "2022-04-11T20:31:16.129573",
     "status": "completed"
    },
    "tags": []
   },
   "outputs": [
    {
     "data": {
      "text/plain": [
       "<AxesSubplot:xlabel='NumRooms'>"
      ]
     },
     "execution_count": 161,
     "metadata": {},
     "output_type": "execute_result"
    },
    {
     "data": {
      "image/png": "[encoded data removed]",
      "text/plain": [
       "<Figure size 432x288 with 1 Axes>"
      ]
     },
     "metadata": {},
     "output_type": "display_data"
    }
   ],
   "source": [
    "sns.boxplot(data['NumRooms'])"
   ]
  },
  {
   "cell_type": "code",
   "execution_count": 162,
   "id": "f4dc5dd6",
   "metadata": {
    "execution": {
     "iopub.execute_input": "2022-04-11T20:31:17.483647Z",
     "iopub.status.busy": "2022-04-11T20:31:17.482917Z",
     "iopub.status.idle": "2022-04-11T20:31:17.513971Z",
     "shell.execute_reply": "2022-04-11T20:31:17.514587Z",
     "shell.execute_reply.started": "2022-04-11T19:32:33.579911Z"
    },
    "papermill": {
     "duration": 0.386969,
     "end_time": "2022-04-11T20:31:17.514780",
     "exception": false,
     "start_time": "2022-04-11T20:31:17.127811",
     "status": "completed"
    },
    "tags": []
   },
   "outputs": [
    {
     "data": {
      "text/plain": [
       "count   451983.00000\n",
       "mean         3.57586\n",
       "std         10.53693\n",
       "min          0.00000\n",
       "25%          2.50000\n",
       "50%          3.50000\n",
       "75%          4.50000\n",
       "max       6987.00000\n",
       "Name: NumRooms, dtype: float64"
      ]
     },
     "execution_count": 162,
     "metadata": {},
     "output_type": "execute_result"
    }
   ],
   "source": [
    "data['NumRooms'].describe()"
   ]
  },
  {
   "cell_type": "code",
   "execution_count": 163,
   "id": "a4d3c1e8",
   "metadata": {
    "execution": {
     "iopub.execute_input": "2022-04-11T20:31:18.225259Z",
     "iopub.status.busy": "2022-04-11T20:31:18.224550Z",
     "iopub.status.idle": "2022-04-11T20:31:18.229491Z",
     "shell.execute_reply": "2022-04-11T20:31:18.230101Z",
     "shell.execute_reply.started": "2022-04-11T19:32:33.614058Z"
    },
    "papermill": {
     "duration": 0.361115,
     "end_time": "2022-04-11T20:31:18.230276",
     "exception": false,
     "start_time": "2022-04-11T20:31:17.869161",
     "status": "completed"
    },
    "tags": []
   },
   "outputs": [],
   "source": [
    "def detect_outliers_zscore(data):\n",
    "    thres = 3\n",
    "    mean = np.mean(data)\n",
    "    std = np.std(data)\n",
    "    # print(mean, std)\n",
    "    for i in data:\n",
    "        z_score = (i-mean)/std\n",
    "        if (np.abs(z_score) > thres):\n",
    "            outliers.append(i)\n",
    "    return outliers# Driver code"
   ]
  },
  {
   "cell_type": "code",
   "execution_count": 164,
   "id": "7eda9b2f",
   "metadata": {
    "execution": {
     "iopub.execute_input": "2022-04-11T20:31:18.934235Z",
     "iopub.status.busy": "2022-04-11T20:31:18.933509Z",
     "iopub.status.idle": "2022-04-11T20:31:19.973053Z",
     "shell.execute_reply": "2022-04-11T20:31:19.973608Z",
     "shell.execute_reply.started": "2022-04-11T19:32:33.621031Z"
    },
    "papermill": {
     "duration": 1.395879,
     "end_time": "2022-04-11T20:31:19.973792",
     "exception": false,
     "start_time": "2022-04-11T20:31:18.577913",
     "status": "completed"
    },
    "tags": []
   },
   "outputs": [],
   "source": [
    "sample_outliers = detect_outliers_zscore(data['NumRooms'])\n",
    "#print(\"Outliers from Z-scores method: \", sample_outliers)"
   ]
  },
  {
   "cell_type": "code",
   "execution_count": 165,
   "id": "53c66909",
   "metadata": {
    "execution": {
     "iopub.execute_input": "2022-04-11T20:31:20.679539Z",
     "iopub.status.busy": "2022-04-11T20:31:20.678498Z",
     "iopub.status.idle": "2022-04-11T20:31:20.937618Z",
     "shell.execute_reply": "2022-04-11T20:31:20.936938Z",
     "shell.execute_reply.started": "2022-04-11T19:32:34.246404Z"
    },
    "papermill": {
     "duration": 0.613247,
     "end_time": "2022-04-11T20:31:20.937780",
     "exception": false,
     "start_time": "2022-04-11T20:31:20.324533",
     "status": "completed"
    },
    "tags": []
   },
   "outputs": [],
   "source": [
    "data = data[data[\"NumRooms\"]<min(sample_outliers)].reset_index(drop = True)"
   ]
  },
  {
   "cell_type": "code",
   "execution_count": 166,
   "id": "89afd70f",
   "metadata": {
    "execution": {
     "iopub.execute_input": "2022-04-11T20:31:21.641378Z",
     "iopub.status.busy": "2022-04-11T20:31:21.640698Z",
     "iopub.status.idle": "2022-04-11T20:31:21.956221Z",
     "shell.execute_reply": "2022-04-11T20:31:21.955700Z",
     "shell.execute_reply.started": "2022-04-11T19:32:34.496421Z"
    },
    "papermill": {
     "duration": 0.668649,
     "end_time": "2022-04-11T20:31:21.956368",
     "exception": false,
     "start_time": "2022-04-11T20:31:21.287719",
     "status": "completed"
    },
    "tags": []
   },
   "outputs": [
    {
     "data": {
      "text/plain": [
       "Text(0.5, 0, 'Sample')"
      ]
     },
     "execution_count": 166,
     "metadata": {},
     "output_type": "execute_result"
    },
    {
     "data": {
      "image/png": "[encoded data removed]",
      "text/plain": [
       "<Figure size 432x288 with 1 Axes>"
      ]
     },
     "metadata": {},
     "output_type": "display_data"
    }
   ],
   "source": [
    "sns.boxplot(data['NumRooms'])\n",
    "plt.title(\"Detecting outliers using Boxplot\")\n",
    "plt.xlabel('Sample')"
   ]
  },
  {
   "cell_type": "code",
   "execution_count": 167,
   "id": "1fb861d9",
   "metadata": {
    "execution": {
     "iopub.execute_input": "2022-04-11T20:31:22.695083Z",
     "iopub.status.busy": "2022-04-11T20:31:22.694128Z",
     "iopub.status.idle": "2022-04-11T20:31:22.713406Z",
     "shell.execute_reply": "2022-04-11T20:31:22.714098Z",
     "shell.execute_reply.started": "2022-04-11T19:32:34.725822Z"
    },
    "papermill": {
     "duration": 0.408781,
     "end_time": "2022-04-11T20:31:22.714272",
     "exception": false,
     "start_time": "2022-04-11T20:31:22.305491",
     "status": "completed"
    },
    "tags": []
   },
   "outputs": [
    {
     "data": {
      "text/plain": [
       "count   451956.00000\n",
       "mean         3.55758\n",
       "std          1.72748\n",
       "min          0.00000\n",
       "25%          2.50000\n",
       "50%          3.50000\n",
       "75%          4.50000\n",
       "max         35.00000\n",
       "Name: NumRooms, dtype: float64"
      ]
     },
     "execution_count": 167,
     "metadata": {},
     "output_type": "execute_result"
    }
   ],
   "source": [
    "data['NumRooms'].describe()"
   ]
  },
  {
   "cell_type": "code",
   "execution_count": 168,
   "id": "c7f3e924",
   "metadata": {
    "execution": {
     "iopub.execute_input": "2022-04-11T20:31:23.430613Z",
     "iopub.status.busy": "2022-04-11T20:31:23.429918Z",
     "iopub.status.idle": "2022-04-11T20:31:25.459097Z",
     "shell.execute_reply": "2022-04-11T20:31:25.458350Z",
     "shell.execute_reply.started": "2022-04-11T19:32:34.751575Z"
    },
    "papermill": {
     "duration": 2.384664,
     "end_time": "2022-04-11T20:31:25.459243",
     "exception": false,
     "start_time": "2022-04-11T20:31:23.074579",
     "status": "completed"
    },
    "tags": []
   },
   "outputs": [
    {
     "data": {
      "text/plain": [
       "<AxesSubplot:xlabel='NumRooms', ylabel='Density'>"
      ]
     },
     "execution_count": 168,
     "metadata": {},
     "output_type": "execute_result"
    },
    {
     "data": {
      "image/png": "[encoded data removed]",
      "text/plain": [
       "<Figure size 432x288 with 1 Axes>"
      ]
     },
     "metadata": {},
     "output_type": "display_data"
    }
   ],
   "source": [
    "sns.distplot(data['NumRooms'])"
   ]
  },
  {
   "cell_type": "code",
   "execution_count": 169,
   "id": "cd51542f",
   "metadata": {
    "execution": {
     "iopub.execute_input": "2022-04-11T20:31:26.179681Z",
     "iopub.status.busy": "2022-04-11T20:31:26.178942Z",
     "iopub.status.idle": "2022-04-11T20:31:26.185061Z",
     "shell.execute_reply": "2022-04-11T20:31:26.185529Z",
     "shell.execute_reply.started": "2022-04-11T19:32:36.643329Z"
    },
    "papermill": {
     "duration": 0.37089,
     "end_time": "2022-04-11T20:31:26.185704",
     "exception": false,
     "start_time": "2022-04-11T20:31:25.814814",
     "status": "completed"
    },
    "tags": []
   },
   "outputs": [
    {
     "data": {
      "text/plain": [
       "0"
      ]
     },
     "execution_count": 169,
     "metadata": {},
     "output_type": "execute_result"
    }
   ],
   "source": [
    "data['NumRooms'].isnull().sum()"
   ]
  },
  {
   "cell_type": "code",
   "execution_count": 170,
   "id": "b0edacfc",
   "metadata": {
    "execution": {
     "iopub.execute_input": "2022-04-11T20:31:26.899422Z",
     "iopub.status.busy": "2022-04-11T20:31:26.898765Z",
     "iopub.status.idle": "2022-04-11T20:31:26.900242Z",
     "shell.execute_reply": "2022-04-11T20:31:26.900794Z",
     "shell.execute_reply.started": "2022-04-11T19:32:36.651044Z"
    },
    "papermill": {
     "duration": 0.360087,
     "end_time": "2022-04-11T20:31:26.900974",
     "exception": false,
     "start_time": "2022-04-11T20:31:26.540887",
     "status": "completed"
    },
    "tags": []
   },
   "outputs": [],
   "source": [
    "#data['NumRooms'].groupby()"
   ]
  },
  {
   "cell_type": "code",
   "execution_count": 171,
   "id": "6c7bbcad",
   "metadata": {
    "execution": {
     "iopub.execute_input": "2022-04-11T20:31:27.621878Z",
     "iopub.status.busy": "2022-04-11T20:31:27.620020Z",
     "iopub.status.idle": "2022-04-11T20:31:27.627630Z",
     "shell.execute_reply": "2022-04-11T20:31:27.628230Z",
     "shell.execute_reply.started": "2022-04-11T19:32:36.663108Z"
    },
    "papermill": {
     "duration": 0.371643,
     "end_time": "2022-04-11T20:31:27.628402",
     "exception": false,
     "start_time": "2022-04-11T20:31:27.256759",
     "status": "completed"
    },
    "tags": []
   },
   "outputs": [
    {
     "data": {
      "text/plain": [
       "0.0"
      ]
     },
     "execution_count": 171,
     "metadata": {},
     "output_type": "execute_result"
    }
   ],
   "source": [
    "percentage_missing(data['NumRooms'])"
   ]
  },
  {
   "cell_type": "code",
   "execution_count": 172,
   "id": "1419c702",
   "metadata": {
    "execution": {
     "iopub.execute_input": "2022-04-11T20:31:28.338463Z",
     "iopub.status.busy": "2022-04-11T20:31:28.337604Z",
     "iopub.status.idle": "2022-04-11T20:31:28.341525Z",
     "shell.execute_reply": "2022-04-11T20:31:28.340967Z",
     "shell.execute_reply.started": "2022-04-11T19:32:36.675564Z"
    },
    "papermill": {
     "duration": 0.359399,
     "end_time": "2022-04-11T20:31:28.341676",
     "exception": false,
     "start_time": "2022-04-11T20:31:27.982277",
     "status": "completed"
    },
    "tags": []
   },
   "outputs": [
    {
     "data": {
      "text/plain": [
       "Index(['ID', 'DealType', 'Canton', 'ZipCode', 'City', 'PublishedDate',\n",
       "       'AvailableDate', 'PriceText', 'LangDetected', 'NumRooms', 'Floor',\n",
       "       'YearOfConstruction', 'Floor1', 'LivingSpace', 'CoordE', 'CoordN',\n",
       "       'Deal_Type', 'Description', 'PublishedYear', 'PublishedMonth',\n",
       "       'PublishedDay'],\n",
       "      dtype='object')"
      ]
     },
     "execution_count": 172,
     "metadata": {},
     "output_type": "execute_result"
    }
   ],
   "source": [
    "data.columns"
   ]
  },
  {
   "cell_type": "markdown",
   "id": "6cb46a9c",
   "metadata": {
    "papermill": {
     "duration": 0.414421,
     "end_time": "2022-04-11T20:31:29.107597",
     "exception": false,
     "start_time": "2022-04-11T20:31:28.693176",
     "status": "completed"
    },
    "tags": []
   },
   "source": [
    "### Floor Column"
   ]
  },
  {
   "cell_type": "code",
   "execution_count": 173,
   "id": "333f436c",
   "metadata": {
    "execution": {
     "iopub.execute_input": "2022-04-11T20:31:29.825249Z",
     "iopub.status.busy": "2022-04-11T20:31:29.824560Z",
     "iopub.status.idle": "2022-04-11T20:31:29.839033Z",
     "shell.execute_reply": "2022-04-11T20:31:29.838319Z",
     "shell.execute_reply.started": "2022-04-11T19:32:36.686230Z"
    },
    "papermill": {
     "duration": 0.377658,
     "end_time": "2022-04-11T20:31:29.839176",
     "exception": false,
     "start_time": "2022-04-11T20:31:29.461518",
     "status": "completed"
    },
    "tags": []
   },
   "outputs": [
    {
     "data": {
      "text/html": [
       "<div>\n",
       "<style scoped>\n",
       "    .dataframe tbody tr th:only-of-type {\n",
       "        vertical-align: middle;\n",
       "    }\n",
       "\n",
       "    .dataframe tbody tr th {\n",
       "        vertical-align: top;\n",
       "    }\n",
       "\n",
       "    .dataframe thead th {\n",
       "        text-align: right;\n",
       "    }\n",
       "</style>\n",
       "<table border=\"1\" class=\"dataframe\">\n",
       "  <thead>\n",
       "    <tr style=\"text-align: right;\">\n",
       "      <th></th>\n",
       "      <th>Floor</th>\n",
       "      <th>Floor1</th>\n",
       "    </tr>\n",
       "  </thead>\n",
       "  <tbody>\n",
       "    <tr>\n",
       "      <th>0</th>\n",
       "      <td>not available</td>\n",
       "      <td>not available</td>\n",
       "    </tr>\n",
       "    <tr>\n",
       "      <th>1</th>\n",
       "      <td>3. Stock</td>\n",
       "      <td>3. Stock</td>\n",
       "    </tr>\n",
       "    <tr>\n",
       "      <th>2</th>\n",
       "      <td>2. Stock</td>\n",
       "      <td>2. Stock</td>\n",
       "    </tr>\n",
       "    <tr>\n",
       "      <th>3</th>\n",
       "      <td>3. Stock</td>\n",
       "      <td>3. Stock</td>\n",
       "    </tr>\n",
       "    <tr>\n",
       "      <th>4</th>\n",
       "      <td>1. Stock</td>\n",
       "      <td>1. Stock</td>\n",
       "    </tr>\n",
       "  </tbody>\n",
       "</table>\n",
       "</div>"
      ],
      "text/plain": [
       "           Floor         Floor1\n",
       "0  not available  not available\n",
       "1       3. Stock       3. Stock\n",
       "2       2. Stock       2. Stock\n",
       "3       3. Stock       3. Stock\n",
       "4       1. Stock       1. Stock"
      ]
     },
     "execution_count": 173,
     "metadata": {},
     "output_type": "execute_result"
    }
   ],
   "source": [
    "data[['Floor', 'Floor1']].head()"
   ]
  },
  {
   "cell_type": "code",
   "execution_count": 174,
   "id": "a3239db6",
   "metadata": {
    "execution": {
     "iopub.execute_input": "2022-04-11T20:31:30.564559Z",
     "iopub.status.busy": "2022-04-11T20:31:30.562645Z",
     "iopub.status.idle": "2022-04-11T20:31:30.636187Z",
     "shell.execute_reply": "2022-04-11T20:31:30.635603Z",
     "shell.execute_reply.started": "2022-04-11T19:32:36.705786Z"
    },
    "papermill": {
     "duration": 0.43744,
     "end_time": "2022-04-11T20:31:30.636329",
     "exception": false,
     "start_time": "2022-04-11T20:31:30.198889",
     "status": "completed"
    },
    "tags": []
   },
   "outputs": [],
   "source": [
    "data = data.drop('Floor1', axis = 1)"
   ]
  },
  {
   "cell_type": "code",
   "execution_count": 175,
   "id": "d19de48e",
   "metadata": {
    "execution": {
     "iopub.execute_input": "2022-04-11T20:31:31.358649Z",
     "iopub.status.busy": "2022-04-11T20:31:31.356973Z",
     "iopub.status.idle": "2022-04-11T20:31:31.361751Z",
     "shell.execute_reply": "2022-04-11T20:31:31.361112Z",
     "shell.execute_reply.started": "2022-04-11T19:32:36.778276Z"
    },
    "papermill": {
     "duration": 0.363479,
     "end_time": "2022-04-11T20:31:31.361898",
     "exception": false,
     "start_time": "2022-04-11T20:31:30.998419",
     "status": "completed"
    },
    "tags": []
   },
   "outputs": [],
   "source": [
    "Floor = data['Floor'].copy()"
   ]
  },
  {
   "cell_type": "code",
   "execution_count": 176,
   "id": "28963c0e",
   "metadata": {
    "execution": {
     "iopub.execute_input": "2022-04-11T20:31:32.140159Z",
     "iopub.status.busy": "2022-04-11T20:31:32.139268Z",
     "iopub.status.idle": "2022-04-11T20:31:32.143631Z",
     "shell.execute_reply": "2022-04-11T20:31:32.142955Z",
     "shell.execute_reply.started": "2022-04-11T19:32:36.784865Z"
    },
    "papermill": {
     "duration": 0.422226,
     "end_time": "2022-04-11T20:31:32.143776",
     "exception": false,
     "start_time": "2022-04-11T20:31:31.721550",
     "status": "completed"
    },
    "tags": []
   },
   "outputs": [
    {
     "data": {
      "text/plain": [
       "not available           183951\n",
       "1. Stock                 70828\n",
       "2. Stock                 62016\n",
       "EG                       48024\n",
       "3. Stock                 37271\n",
       "4. Stock                 16910\n",
       "5. Stock                  7852\n",
       "1. floor                  5548\n",
       "2. floor                  4834\n",
       "6. Stock                  3596\n",
       "3. floor                  2899\n",
       "Untergeschoss             1775\n",
       "7. Stock                  1450\n",
       "4. floor                  1318\n",
       "8. Stock                   728\n",
       "5. floor                   651\n",
       "9. Stock                   384\n",
       "6. floor                   322\n",
       "10. Stock                  314\n",
       "11. Stock                  208\n",
       "12. Stock                  186\n",
       "13. Stock                  138\n",
       "7. floor                   130\n",
       "8. floor                    86\n",
       "14. Stock                   74\n",
       "15. Stock                   50\n",
       "16. Stock                   44\n",
       "17. Stock                   40\n",
       "18. Stock                   39\n",
       "9. floor                    35\n",
       "10. floor                   32\n",
       "30. Stock oder höher        31\n",
       "19. Stock                   30\n",
       "23. Stock                   26\n",
       "21. Stock                   21\n",
       "12. floor                   18\n",
       "20. Stock                   16\n",
       "14. floor                   12\n",
       "22. Stock                   12\n",
       "24. Stock                   12\n",
       "11. floor                   10\n",
       "15. floor                    8\n",
       "13. floor                    7\n",
       "25. Stock                    4\n",
       "26. Stock                    3\n",
       "21. floor                    2\n",
       "16. floor                    2\n",
       "17. floor                    1\n",
       "23. floor                    1\n",
       "22. floor                    1\n",
       "28. Stock                    1\n",
       "27. floor                    1\n",
       "27. Stock                    1\n",
       "25. floor                    1\n",
       "19. floor                    1\n",
       "18. floor                    1\n",
       "Name: Floor, dtype: int64"
      ]
     },
     "execution_count": 176,
     "metadata": {},
     "output_type": "execute_result"
    }
   ],
   "source": [
    "data['Floor'].value_counts()"
   ]
  },
  {
   "cell_type": "code",
   "execution_count": 177,
   "id": "cc8531cb",
   "metadata": {
    "execution": {
     "iopub.execute_input": "2022-04-11T20:31:32.875939Z",
     "iopub.status.busy": "2022-04-11T20:31:32.874502Z",
     "iopub.status.idle": "2022-04-11T20:31:33.946297Z",
     "shell.execute_reply": "2022-04-11T20:31:33.945601Z",
     "shell.execute_reply.started": "2022-04-11T19:32:36.821097Z"
    },
    "papermill": {
     "duration": 1.441102,
     "end_time": "2022-04-11T20:31:33.946469",
     "exception": false,
     "start_time": "2022-04-11T20:31:32.505367",
     "status": "completed"
    },
    "tags": []
   },
   "outputs": [],
   "source": [
    "#To remove the digits from the floor column\n",
    "data['Floor'] = data['Floor'].replace('\\d+', '', regex = True)"
   ]
  },
  {
   "cell_type": "code",
   "execution_count": 178,
   "id": "176873ad",
   "metadata": {
    "execution": {
     "iopub.execute_input": "2022-04-11T20:31:34.755515Z",
     "iopub.status.busy": "2022-04-11T20:31:34.754605Z",
     "iopub.status.idle": "2022-04-11T20:31:34.758820Z",
     "shell.execute_reply": "2022-04-11T20:31:34.758211Z",
     "shell.execute_reply.started": "2022-04-11T19:32:37.534922Z"
    },
    "papermill": {
     "duration": 0.449319,
     "end_time": "2022-04-11T20:31:34.758970",
     "exception": false,
     "start_time": "2022-04-11T20:31:34.309651",
     "status": "completed"
    },
    "tags": []
   },
   "outputs": [
    {
     "data": {
      "text/plain": [
       ". Stock               202254\n",
       "not available         183951\n",
       "EG                     48024\n",
       ". floor                15921\n",
       "Untergeschoss           1775\n",
       ". Stock oder höher        31\n",
       "Name: Floor, dtype: int64"
      ]
     },
     "execution_count": 178,
     "metadata": {},
     "output_type": "execute_result"
    }
   ],
   "source": [
    "data['Floor'].value_counts()"
   ]
  },
  {
   "cell_type": "markdown",
   "id": "41e88f37",
   "metadata": {
    "papermill": {
     "duration": 0.392044,
     "end_time": "2022-04-11T20:31:35.575834",
     "exception": false,
     "start_time": "2022-04-11T20:31:35.183790",
     "status": "completed"
    },
    "tags": []
   },
   "source": [
    "* untergeschoss = basement \n",
    "* Stock oder höher = floor or higher\n",
    "\n",
    "* This is the equivalent of this words in English"
   ]
  },
  {
   "cell_type": "code",
   "execution_count": 179,
   "id": "2fb10eac",
   "metadata": {
    "execution": {
     "iopub.execute_input": "2022-04-11T20:31:36.361908Z",
     "iopub.status.busy": "2022-04-11T20:31:36.361136Z",
     "iopub.status.idle": "2022-04-11T20:31:36.518555Z",
     "shell.execute_reply": "2022-04-11T20:31:36.519054Z",
     "shell.execute_reply.started": "2022-04-11T19:32:37.573446Z"
    },
    "papermill": {
     "duration": 0.579184,
     "end_time": "2022-04-11T20:31:36.519240",
     "exception": false,
     "start_time": "2022-04-11T20:31:35.940056",
     "status": "completed"
    },
    "tags": []
   },
   "outputs": [],
   "source": [
    "# The replace fucntion to replace the words in german in the english format and correct the format of the incorrect value\n",
    "replacement_mapping_dict = {\n",
    "    \". Stock\": 'Stock',\n",
    "    \". floor \": 'Floor',\n",
    "    \"Untergeschoss\": 'basement',\n",
    "    \". Stock oder höher\": 'floor or higher',\n",
    "    \"EG\": 'ground floor'\n",
    "}\n",
    "data['Floor'] = data['Floor'].replace(replacement_mapping_dict)"
   ]
  },
  {
   "cell_type": "code",
   "execution_count": 180,
   "id": "c1bc851e",
   "metadata": {
    "execution": {
     "iopub.execute_input": "2022-04-11T20:31:37.246111Z",
     "iopub.status.busy": "2022-04-11T20:31:37.245468Z",
     "iopub.status.idle": "2022-04-11T20:31:37.304049Z",
     "shell.execute_reply": "2022-04-11T20:31:37.304555Z",
     "shell.execute_reply.started": "2022-04-11T19:32:37.689338Z"
    },
    "papermill": {
     "duration": 0.423346,
     "end_time": "2022-04-11T20:31:37.304735",
     "exception": false,
     "start_time": "2022-04-11T20:31:36.881389",
     "status": "completed"
    },
    "tags": []
   },
   "outputs": [
    {
     "data": {
      "text/plain": [
       "Stock              202254\n",
       "not available      183951\n",
       "ground floor        48024\n",
       "Floor               15921\n",
       "basement             1775\n",
       "floor or higher        31\n",
       "Name: Floor, dtype: int64"
      ]
     },
     "execution_count": 180,
     "metadata": {},
     "output_type": "execute_result"
    }
   ],
   "source": [
    "data['Floor'].value_counts()"
   ]
  },
  {
   "cell_type": "code",
   "execution_count": 181,
   "id": "3df44622",
   "metadata": {
    "execution": {
     "iopub.execute_input": "2022-04-11T20:31:38.029097Z",
     "iopub.status.busy": "2022-04-11T20:31:38.028107Z",
     "iopub.status.idle": "2022-04-11T20:31:38.031249Z",
     "shell.execute_reply": "2022-04-11T20:31:38.030703Z",
     "shell.execute_reply.started": "2022-04-11T19:32:37.718245Z"
    },
    "papermill": {
     "duration": 0.370593,
     "end_time": "2022-04-11T20:31:38.031395",
     "exception": false,
     "start_time": "2022-04-11T20:31:37.660802",
     "status": "completed"
    },
    "tags": []
   },
   "outputs": [],
   "source": [
    "obj_col.append('Floor')"
   ]
  },
  {
   "cell_type": "code",
   "execution_count": 182,
   "id": "a4e4048a",
   "metadata": {
    "execution": {
     "iopub.execute_input": "2022-04-11T20:31:38.770822Z",
     "iopub.status.busy": "2022-04-11T20:31:38.770007Z",
     "iopub.status.idle": "2022-04-11T20:31:38.785758Z",
     "shell.execute_reply": "2022-04-11T20:31:38.786276Z",
     "shell.execute_reply.started": "2022-04-11T19:32:37.726959Z"
    },
    "papermill": {
     "duration": 0.39281,
     "end_time": "2022-04-11T20:31:38.786511",
     "exception": false,
     "start_time": "2022-04-11T20:31:38.393701",
     "status": "completed"
    },
    "tags": []
   },
   "outputs": [
    {
     "data": {
      "text/html": [
       "<div>\n",
       "<style scoped>\n",
       "    .dataframe tbody tr th:only-of-type {\n",
       "        vertical-align: middle;\n",
       "    }\n",
       "\n",
       "    .dataframe tbody tr th {\n",
       "        vertical-align: top;\n",
       "    }\n",
       "\n",
       "    .dataframe thead th {\n",
       "        text-align: right;\n",
       "    }\n",
       "</style>\n",
       "<table border=\"1\" class=\"dataframe\">\n",
       "  <thead>\n",
       "    <tr style=\"text-align: right;\">\n",
       "      <th></th>\n",
       "      <th>Floor</th>\n",
       "      <th>NumRooms</th>\n",
       "    </tr>\n",
       "  </thead>\n",
       "  <tbody>\n",
       "    <tr>\n",
       "      <th>0</th>\n",
       "      <td>not available</td>\n",
       "      <td>3.50000</td>\n",
       "    </tr>\n",
       "    <tr>\n",
       "      <th>1</th>\n",
       "      <td>Stock</td>\n",
       "      <td>3.00000</td>\n",
       "    </tr>\n",
       "    <tr>\n",
       "      <th>2</th>\n",
       "      <td>Stock</td>\n",
       "      <td>10.00000</td>\n",
       "    </tr>\n",
       "    <tr>\n",
       "      <th>3</th>\n",
       "      <td>Stock</td>\n",
       "      <td>5.50000</td>\n",
       "    </tr>\n",
       "    <tr>\n",
       "      <th>4</th>\n",
       "      <td>Stock</td>\n",
       "      <td>2.50000</td>\n",
       "    </tr>\n",
       "  </tbody>\n",
       "</table>\n",
       "</div>"
      ],
      "text/plain": [
       "           Floor  NumRooms\n",
       "0  not available   3.50000\n",
       "1          Stock   3.00000\n",
       "2          Stock  10.00000\n",
       "3          Stock   5.50000\n",
       "4          Stock   2.50000"
      ]
     },
     "execution_count": 182,
     "metadata": {},
     "output_type": "execute_result"
    }
   ],
   "source": [
    "data[['Floor', 'NumRooms']].head()"
   ]
  },
  {
   "cell_type": "code",
   "execution_count": 183,
   "id": "ec14f71b",
   "metadata": {
    "execution": {
     "iopub.execute_input": "2022-04-11T20:31:39.519631Z",
     "iopub.status.busy": "2022-04-11T20:31:39.518894Z",
     "iopub.status.idle": "2022-04-11T20:31:39.523697Z",
     "shell.execute_reply": "2022-04-11T20:31:39.524198Z",
     "shell.execute_reply.started": "2022-04-11T19:32:37.747912Z"
    },
    "papermill": {
     "duration": 0.366184,
     "end_time": "2022-04-11T20:31:39.524368",
     "exception": false,
     "start_time": "2022-04-11T20:31:39.158184",
     "status": "completed"
    },
    "tags": []
   },
   "outputs": [
    {
     "data": {
      "text/plain": [
       "Index(['ID', 'DealType', 'Canton', 'ZipCode', 'City', 'PublishedDate',\n",
       "       'AvailableDate', 'PriceText', 'LangDetected', 'NumRooms', 'Floor',\n",
       "       'YearOfConstruction', 'LivingSpace', 'CoordE', 'CoordN', 'Deal_Type',\n",
       "       'Description', 'PublishedYear', 'PublishedMonth', 'PublishedDay'],\n",
       "      dtype='object')"
      ]
     },
     "execution_count": 183,
     "metadata": {},
     "output_type": "execute_result"
    }
   ],
   "source": [
    "data.columns"
   ]
  },
  {
   "cell_type": "markdown",
   "id": "1aba9ec2",
   "metadata": {
    "papermill": {
     "duration": 0.367009,
     "end_time": "2022-04-11T20:31:40.257639",
     "exception": false,
     "start_time": "2022-04-11T20:31:39.890630",
     "status": "completed"
    },
    "tags": []
   },
   "source": [
    "## Things to try out\n",
    "\n",
    "* **data = data.sort_values(by=['adPublishedDate']).reset_index(drop=True)**\n",
    "* Trying to sort the data by dates... 'adPublishedDate', 'adAvailableDate'\n",
    "* How many days is between the published date and available date\n",
    "* Extract days and month from the date columns\n",
    "* Get the number of years between the year of construction and the Available Year of the house & Year of Publishing the year for an ad"
   ]
  },
  {
   "cell_type": "markdown",
   "id": "f2a88269",
   "metadata": {
    "papermill": {
     "duration": 0.370669,
     "end_time": "2022-04-11T20:31:40.981362",
     "exception": false,
     "start_time": "2022-04-11T20:31:40.610693",
     "status": "completed"
    },
    "tags": []
   },
   "source": [
    "### Year of Construction"
   ]
  },
  {
   "cell_type": "code",
   "execution_count": 184,
   "id": "dbf63dd5",
   "metadata": {
    "execution": {
     "iopub.execute_input": "2022-04-11T20:31:41.713056Z",
     "iopub.status.busy": "2022-04-11T20:31:41.712368Z",
     "iopub.status.idle": "2022-04-11T20:31:41.717839Z",
     "shell.execute_reply": "2022-04-11T20:31:41.718360Z",
     "shell.execute_reply.started": "2022-04-11T19:32:37.756083Z"
    },
    "papermill": {
     "duration": 0.374465,
     "end_time": "2022-04-11T20:31:41.718568",
     "exception": false,
     "start_time": "2022-04-11T20:31:41.344103",
     "status": "completed"
    },
    "tags": []
   },
   "outputs": [],
   "source": [
    "Year = data['YearOfConstruction'].copy()"
   ]
  },
  {
   "cell_type": "code",
   "execution_count": 185,
   "id": "2fc41a22",
   "metadata": {
    "execution": {
     "iopub.execute_input": "2022-04-11T20:31:42.447873Z",
     "iopub.status.busy": "2022-04-11T20:31:42.446944Z",
     "iopub.status.idle": "2022-04-11T20:31:42.452750Z",
     "shell.execute_reply": "2022-04-11T20:31:42.453272Z",
     "shell.execute_reply.started": "2022-04-11T19:32:37.768256Z"
    },
    "papermill": {
     "duration": 0.371351,
     "end_time": "2022-04-11T20:31:42.453466",
     "exception": false,
     "start_time": "2022-04-11T20:31:42.082115",
     "status": "completed"
    },
    "tags": []
   },
   "outputs": [
    {
     "data": {
      "text/plain": [
       "0    not available\n",
       "1    not available\n",
       "2    not available\n",
       "3             2012\n",
       "4             1991\n",
       "Name: YearOfConstruction, dtype: object"
      ]
     },
     "execution_count": 185,
     "metadata": {},
     "output_type": "execute_result"
    }
   ],
   "source": [
    "data['YearOfConstruction'].head()"
   ]
  },
  {
   "cell_type": "code",
   "execution_count": 186,
   "id": "7035f496",
   "metadata": {
    "execution": {
     "iopub.execute_input": "2022-04-11T20:31:43.180643Z",
     "iopub.status.busy": "2022-04-11T20:31:43.179932Z",
     "iopub.status.idle": "2022-04-11T20:31:43.240246Z",
     "shell.execute_reply": "2022-04-11T20:31:43.239587Z",
     "shell.execute_reply.started": "2022-04-11T19:32:37.778844Z"
    },
    "papermill": {
     "duration": 0.424512,
     "end_time": "2022-04-11T20:31:43.240390",
     "exception": false,
     "start_time": "2022-04-11T20:31:42.815878",
     "status": "completed"
    },
    "tags": []
   },
   "outputs": [
    {
     "data": {
      "text/plain": [
       "not available    274563\n",
       "2021              16651\n",
       "2020              11708\n",
       "2022               7657\n",
       "2019               7155\n",
       "                  ...  \n",
       "1761                  1\n",
       "1718                  1\n",
       "1612                  1\n",
       "4                     1\n",
       "1574                  1\n",
       "Name: YearOfConstruction, Length: 483, dtype: int64"
      ]
     },
     "execution_count": 186,
     "metadata": {},
     "output_type": "execute_result"
    }
   ],
   "source": [
    "data['YearOfConstruction'].value_counts()"
   ]
  },
  {
   "cell_type": "code",
   "execution_count": 187,
   "id": "448a6467",
   "metadata": {
    "execution": {
     "iopub.execute_input": "2022-04-11T20:31:43.997063Z",
     "iopub.status.busy": "2022-04-11T20:31:43.974686Z",
     "iopub.status.idle": "2022-04-11T20:31:44.011899Z",
     "shell.execute_reply": "2022-04-11T20:31:44.011318Z",
     "shell.execute_reply.started": "2022-04-11T19:32:37.812922Z"
    },
    "papermill": {
     "duration": 0.406722,
     "end_time": "2022-04-11T20:31:44.012062",
     "exception": false,
     "start_time": "2022-04-11T20:31:43.605340",
     "status": "completed"
    },
    "tags": []
   },
   "outputs": [],
   "source": [
    "data['YearOfConstruction'] = data['YearOfConstruction'].replace('not available', 0)"
   ]
  },
  {
   "cell_type": "code",
   "execution_count": 188,
   "id": "1f8fd6e5",
   "metadata": {
    "execution": {
     "iopub.execute_input": "2022-04-11T20:31:44.771212Z",
     "iopub.status.busy": "2022-04-11T20:31:44.770580Z",
     "iopub.status.idle": "2022-04-11T20:31:49.962391Z",
     "shell.execute_reply": "2022-04-11T20:31:49.961755Z",
     "shell.execute_reply.started": "2022-04-11T19:32:37.843348Z"
    },
    "papermill": {
     "duration": 5.58913,
     "end_time": "2022-04-11T20:31:49.962583",
     "exception": false,
     "start_time": "2022-04-11T20:31:44.373453",
     "status": "completed"
    },
    "tags": []
   },
   "outputs": [],
   "source": [
    "data['YearOfConstruction'] = data['YearOfConstruction'].apply(pd.to_numeric)"
   ]
  },
  {
   "cell_type": "code",
   "execution_count": 189,
   "id": "20436e82",
   "metadata": {
    "execution": {
     "iopub.execute_input": "2022-04-11T20:31:50.690337Z",
     "iopub.status.busy": "2022-04-11T20:31:50.689639Z",
     "iopub.status.idle": "2022-04-11T20:31:50.692961Z",
     "shell.execute_reply": "2022-04-11T20:31:50.693418Z",
     "shell.execute_reply.started": "2022-04-11T19:32:40.973613Z"
    },
    "papermill": {
     "duration": 0.365047,
     "end_time": "2022-04-11T20:31:50.693615",
     "exception": false,
     "start_time": "2022-04-11T20:31:50.328568",
     "status": "completed"
    },
    "tags": []
   },
   "outputs": [
    {
     "data": {
      "text/plain": [
       "0       274563\n",
       "2021     16651\n",
       "2020     11708\n",
       "2022      7657\n",
       "2019      7155\n",
       "         ...  \n",
       "1761         1\n",
       "1718         1\n",
       "1612         1\n",
       "4            1\n",
       "1574         1\n",
       "Name: YearOfConstruction, Length: 483, dtype: int64"
      ]
     },
     "execution_count": 189,
     "metadata": {},
     "output_type": "execute_result"
    }
   ],
   "source": [
    "data['YearOfConstruction'].value_counts()"
   ]
  },
  {
   "cell_type": "code",
   "execution_count": 190,
   "id": "6aa3f81e",
   "metadata": {
    "execution": {
     "iopub.execute_input": "2022-04-11T20:31:51.409963Z",
     "iopub.status.busy": "2022-04-11T20:31:51.409291Z",
     "iopub.status.idle": "2022-04-11T20:31:53.435726Z",
     "shell.execute_reply": "2022-04-11T20:31:53.436247Z",
     "shell.execute_reply.started": "2022-04-11T19:32:40.985773Z"
    },
    "papermill": {
     "duration": 2.384516,
     "end_time": "2022-04-11T20:31:53.436424",
     "exception": false,
     "start_time": "2022-04-11T20:31:51.051908",
     "status": "completed"
    },
    "tags": []
   },
   "outputs": [
    {
     "data": {
      "text/plain": [
       "<AxesSubplot:xlabel='YearOfConstruction', ylabel='Density'>"
      ]
     },
     "execution_count": 190,
     "metadata": {},
     "output_type": "execute_result"
    },
    {
     "data": {
      "image/png": "[encoded data removed]",
      "text/plain": [
       "<Figure size 432x288 with 1 Axes>"
      ]
     },
     "metadata": {},
     "output_type": "display_data"
    }
   ],
   "source": [
    "sns.distplot(data['YearOfConstruction'])"
   ]
  },
  {
   "cell_type": "code",
   "execution_count": 191,
   "id": "f24032fc",
   "metadata": {
    "execution": {
     "iopub.execute_input": "2022-04-11T20:31:54.172976Z",
     "iopub.status.busy": "2022-04-11T20:31:54.172230Z",
     "iopub.status.idle": "2022-04-11T20:31:54.421614Z",
     "shell.execute_reply": "2022-04-11T20:31:54.421082Z",
     "shell.execute_reply.started": "2022-04-11T19:32:42.922662Z"
    },
    "papermill": {
     "duration": 0.621868,
     "end_time": "2022-04-11T20:31:54.421759",
     "exception": false,
     "start_time": "2022-04-11T20:31:53.799891",
     "status": "completed"
    },
    "tags": []
   },
   "outputs": [
    {
     "data": {
      "image/png": "[encoded data removed]",
      "text/plain": [
       "<Figure size 432x288 with 1 Axes>"
      ]
     },
     "metadata": {},
     "output_type": "display_data"
    }
   ],
   "source": [
    "sns.boxplot(data['YearOfConstruction'])\n",
    "plt.show()"
   ]
  },
  {
   "cell_type": "code",
   "execution_count": 192,
   "id": "ac522727",
   "metadata": {
    "execution": {
     "iopub.execute_input": "2022-04-11T20:31:55.234839Z",
     "iopub.status.busy": "2022-04-11T20:31:55.234096Z",
     "iopub.status.idle": "2022-04-11T20:31:55.253295Z",
     "shell.execute_reply": "2022-04-11T20:31:55.252736Z",
     "shell.execute_reply.started": "2022-04-11T19:32:43.089282Z"
    },
    "papermill": {
     "duration": 0.449535,
     "end_time": "2022-04-11T20:31:55.253454",
     "exception": false,
     "start_time": "2022-04-11T20:31:54.803919",
     "status": "completed"
    },
    "tags": []
   },
   "outputs": [
    {
     "data": {
      "text/plain": [
       "count   451956.00000\n",
       "mean       780.08231\n",
       "std        971.60094\n",
       "min          0.00000\n",
       "25%          0.00000\n",
       "50%          0.00000\n",
       "75%       1987.00000\n",
       "max      20004.00000\n",
       "Name: YearOfConstruction, dtype: float64"
      ]
     },
     "execution_count": 192,
     "metadata": {},
     "output_type": "execute_result"
    }
   ],
   "source": [
    "data['YearOfConstruction'].describe()"
   ]
  },
  {
   "cell_type": "code",
   "execution_count": 193,
   "id": "fa4cad65",
   "metadata": {
    "execution": {
     "iopub.execute_input": "2022-04-11T20:31:56.012377Z",
     "iopub.status.busy": "2022-04-11T20:31:56.011722Z",
     "iopub.status.idle": "2022-04-11T20:31:56.016263Z",
     "shell.execute_reply": "2022-04-11T20:31:56.015735Z",
     "shell.execute_reply.started": "2022-04-11T19:32:43.111465Z"
    },
    "papermill": {
     "duration": 0.372356,
     "end_time": "2022-04-11T20:31:56.016398",
     "exception": false,
     "start_time": "2022-04-11T20:31:55.644042",
     "status": "completed"
    },
    "tags": []
   },
   "outputs": [
    {
     "data": {
      "text/plain": [
       "Index(['ID', 'DealType', 'Canton', 'ZipCode', 'City', 'PublishedDate',\n",
       "       'AvailableDate', 'PriceText', 'LangDetected', 'NumRooms', 'Floor',\n",
       "       'YearOfConstruction', 'LivingSpace', 'CoordE', 'CoordN', 'Deal_Type',\n",
       "       'Description', 'PublishedYear', 'PublishedMonth', 'PublishedDay'],\n",
       "      dtype='object')"
      ]
     },
     "execution_count": 193,
     "metadata": {},
     "output_type": "execute_result"
    }
   ],
   "source": [
    "data.columns"
   ]
  },
  {
   "cell_type": "code",
   "execution_count": 194,
   "id": "f0ba2059",
   "metadata": {
    "execution": {
     "iopub.execute_input": "2022-04-11T20:31:56.748939Z",
     "iopub.status.busy": "2022-04-11T20:31:56.748234Z",
     "iopub.status.idle": "2022-04-11T20:31:56.771091Z",
     "shell.execute_reply": "2022-04-11T20:31:56.770258Z",
     "shell.execute_reply.started": "2022-04-11T19:32:43.118519Z"
    },
    "papermill": {
     "duration": 0.394767,
     "end_time": "2022-04-11T20:31:56.771267",
     "exception": false,
     "start_time": "2022-04-11T20:31:56.376500",
     "status": "completed"
    },
    "tags": []
   },
   "outputs": [
    {
     "data": {
      "text/plain": [
       "count   451956.00000\n",
       "mean       780.08231\n",
       "std        971.60094\n",
       "min          0.00000\n",
       "25%          0.00000\n",
       "50%          0.00000\n",
       "75%       1987.00000\n",
       "max      20004.00000\n",
       "Name: YearOfConstruction, dtype: float64"
      ]
     },
     "execution_count": 194,
     "metadata": {},
     "output_type": "execute_result"
    }
   ],
   "source": [
    "data['YearOfConstruction'].describe()"
   ]
  },
  {
   "cell_type": "code",
   "execution_count": 195,
   "id": "20ca8b62",
   "metadata": {
    "execution": {
     "iopub.execute_input": "2022-04-11T20:31:57.506431Z",
     "iopub.status.busy": "2022-04-11T20:31:57.505787Z",
     "iopub.status.idle": "2022-04-11T20:31:58.384359Z",
     "shell.execute_reply": "2022-04-11T20:31:58.383794Z",
     "shell.execute_reply.started": "2022-04-11T19:32:43.146312Z"
    },
    "papermill": {
     "duration": 1.243828,
     "end_time": "2022-04-11T20:31:58.384562",
     "exception": false,
     "start_time": "2022-04-11T20:31:57.140734",
     "status": "completed"
    },
    "tags": []
   },
   "outputs": [],
   "source": [
    "sample_outliers = detect_outliers_zscore(data['YearOfConstruction'])"
   ]
  },
  {
   "cell_type": "code",
   "execution_count": 196,
   "id": "503d9e17",
   "metadata": {
    "execution": {
     "iopub.execute_input": "2022-04-11T20:31:59.117944Z",
     "iopub.status.busy": "2022-04-11T20:31:59.117234Z",
     "iopub.status.idle": "2022-04-11T20:31:59.253248Z",
     "shell.execute_reply": "2022-04-11T20:31:59.252540Z",
     "shell.execute_reply.started": "2022-04-11T19:32:43.638422Z"
    },
    "papermill": {
     "duration": 0.507827,
     "end_time": "2022-04-11T20:31:59.253402",
     "exception": false,
     "start_time": "2022-04-11T20:31:58.745575",
     "status": "completed"
    },
    "tags": []
   },
   "outputs": [],
   "source": [
    "data = data[data[\"YearOfConstruction\"]<min(sample_outliers)].reset_index(drop = True)"
   ]
  },
  {
   "cell_type": "markdown",
   "id": "1a6e294f",
   "metadata": {
    "papermill": {
     "duration": 0.36768,
     "end_time": "2022-04-11T20:31:59.983201",
     "exception": false,
     "start_time": "2022-04-11T20:31:59.615521",
     "status": "completed"
    },
    "tags": []
   },
   "source": [
    "### Living Space"
   ]
  },
  {
   "cell_type": "code",
   "execution_count": 197,
   "id": "6fd8da5a",
   "metadata": {
    "execution": {
     "iopub.execute_input": "2022-04-11T20:32:00.715007Z",
     "iopub.status.busy": "2022-04-11T20:32:00.714116Z",
     "iopub.status.idle": "2022-04-11T20:32:00.716306Z",
     "shell.execute_reply": "2022-04-11T20:32:00.715729Z",
     "shell.execute_reply.started": "2022-04-11T19:32:43.779391Z"
    },
    "papermill": {
     "duration": 0.37323,
     "end_time": "2022-04-11T20:32:00.716477",
     "exception": false,
     "start_time": "2022-04-11T20:32:00.343247",
     "status": "completed"
    },
    "tags": []
   },
   "outputs": [],
   "source": [
    "LivingSpace = data['LivingSpace'].copy()"
   ]
  },
  {
   "cell_type": "code",
   "execution_count": 198,
   "id": "4b3eb33b",
   "metadata": {
    "execution": {
     "iopub.execute_input": "2022-04-11T20:32:01.461414Z",
     "iopub.status.busy": "2022-04-11T20:32:01.460682Z",
     "iopub.status.idle": "2022-04-11T20:32:01.463994Z",
     "shell.execute_reply": "2022-04-11T20:32:01.463349Z",
     "shell.execute_reply.started": "2022-04-11T19:32:43.785784Z"
    },
    "papermill": {
     "duration": 0.379635,
     "end_time": "2022-04-11T20:32:01.464131",
     "exception": false,
     "start_time": "2022-04-11T20:32:01.084496",
     "status": "completed"
    },
    "tags": []
   },
   "outputs": [
    {
     "data": {
      "text/plain": [
       "0               80\n",
       "1               57\n",
       "2              190\n",
       "3    not available\n",
       "4               60\n",
       "Name: LivingSpace, dtype: object"
      ]
     },
     "execution_count": 198,
     "metadata": {},
     "output_type": "execute_result"
    }
   ],
   "source": [
    "data['LivingSpace'].head()"
   ]
  },
  {
   "cell_type": "code",
   "execution_count": 199,
   "id": "1f90d34f",
   "metadata": {
    "execution": {
     "iopub.execute_input": "2022-04-11T20:32:02.219001Z",
     "iopub.status.busy": "2022-04-11T20:32:02.218295Z",
     "iopub.status.idle": "2022-04-11T20:32:02.222752Z",
     "shell.execute_reply": "2022-04-11T20:32:02.222095Z",
     "shell.execute_reply.started": "2022-04-11T19:32:43.801984Z"
    },
    "papermill": {
     "duration": 0.391716,
     "end_time": "2022-04-11T20:32:02.222893",
     "exception": false,
     "start_time": "2022-04-11T20:32:01.831177",
     "status": "completed"
    },
    "tags": []
   },
   "outputs": [
    {
     "data": {
      "text/plain": [
       "dtype('O')"
      ]
     },
     "execution_count": 199,
     "metadata": {},
     "output_type": "execute_result"
    }
   ],
   "source": [
    "data['LivingSpace'].dtype"
   ]
  },
  {
   "cell_type": "code",
   "execution_count": 200,
   "id": "67946b58",
   "metadata": {
    "execution": {
     "iopub.execute_input": "2022-04-11T20:32:03.033723Z",
     "iopub.status.busy": "2022-04-11T20:32:03.003718Z",
     "iopub.status.idle": "2022-04-11T20:32:03.041244Z",
     "shell.execute_reply": "2022-04-11T20:32:03.040604Z",
     "shell.execute_reply.started": "2022-04-11T19:32:43.816092Z"
    },
    "papermill": {
     "duration": 0.44254,
     "end_time": "2022-04-11T20:32:03.041386",
     "exception": false,
     "start_time": "2022-04-11T20:32:02.598846",
     "status": "completed"
    },
    "tags": []
   },
   "outputs": [
    {
     "data": {
      "text/plain": [
       "count            274574\n",
       "unique              617\n",
       "top       not available\n",
       "freq              83698\n",
       "Name: LivingSpace, dtype: object"
      ]
     },
     "execution_count": 200,
     "metadata": {},
     "output_type": "execute_result"
    }
   ],
   "source": [
    "data['LivingSpace'].describe()"
   ]
  },
  {
   "cell_type": "code",
   "execution_count": 201,
   "id": "0a5b5d27",
   "metadata": {
    "execution": {
     "iopub.execute_input": "2022-04-11T20:32:03.801109Z",
     "iopub.status.busy": "2022-04-11T20:32:03.800410Z",
     "iopub.status.idle": "2022-04-11T20:32:03.807163Z",
     "shell.execute_reply": "2022-04-11T20:32:03.807795Z",
     "shell.execute_reply.started": "2022-04-11T19:32:43.855096Z"
    },
    "papermill": {
     "duration": 0.40112,
     "end_time": "2022-04-11T20:32:03.807981",
     "exception": false,
     "start_time": "2022-04-11T20:32:03.406861",
     "status": "completed"
    },
    "tags": []
   },
   "outputs": [
    {
     "data": {
      "text/plain": [
       "not available    83698\n",
       "80                6977\n",
       "100               6454\n",
       "70                6307\n",
       "60                5787\n",
       "                 ...  \n",
       "338                  1\n",
       "1,800                1\n",
       "12,000               1\n",
       "858                  1\n",
       "802                  1\n",
       "Name: LivingSpace, Length: 617, dtype: int64"
      ]
     },
     "execution_count": 201,
     "metadata": {},
     "output_type": "execute_result"
    }
   ],
   "source": [
    "data['LivingSpace'].value_counts()"
   ]
  },
  {
   "cell_type": "code",
   "execution_count": 202,
   "id": "2ca9ff96",
   "metadata": {
    "execution": {
     "iopub.execute_input": "2022-04-11T20:32:04.545626Z",
     "iopub.status.busy": "2022-04-11T20:32:04.544810Z",
     "iopub.status.idle": "2022-04-11T20:32:04.605809Z",
     "shell.execute_reply": "2022-04-11T20:32:04.604941Z",
     "shell.execute_reply.started": "2022-04-11T19:32:43.878521Z"
    },
    "papermill": {
     "duration": 0.430305,
     "end_time": "2022-04-11T20:32:04.606020",
     "exception": false,
     "start_time": "2022-04-11T20:32:04.175715",
     "status": "completed"
    },
    "tags": []
   },
   "outputs": [
    {
     "data": {
      "text/plain": [
       "0         83698\n",
       "80         6977\n",
       "100        6454\n",
       "70         6307\n",
       "60         5787\n",
       "          ...  \n",
       "338           1\n",
       "1,800         1\n",
       "12,000        1\n",
       "858           1\n",
       "802           1\n",
       "Name: LivingSpace, Length: 617, dtype: int64"
      ]
     },
     "execution_count": 202,
     "metadata": {},
     "output_type": "execute_result"
    }
   ],
   "source": [
    "data['LivingSpace'] = data['LivingSpace'].replace('not available', 0)\n",
    "data['LivingSpace'].value_counts()"
   ]
  },
  {
   "cell_type": "code",
   "execution_count": 203,
   "id": "4515034a",
   "metadata": {
    "execution": {
     "iopub.execute_input": "2022-04-11T20:32:05.355192Z",
     "iopub.status.busy": "2022-04-11T20:32:05.354431Z",
     "iopub.status.idle": "2022-04-11T20:32:05.819745Z",
     "shell.execute_reply": "2022-04-11T20:32:05.819107Z",
     "shell.execute_reply.started": "2022-04-11T19:32:43.915978Z"
    },
    "papermill": {
     "duration": 0.842847,
     "end_time": "2022-04-11T20:32:05.819917",
     "exception": false,
     "start_time": "2022-04-11T20:32:04.977070",
     "status": "completed"
    },
    "tags": []
   },
   "outputs": [
    {
     "data": {
      "text/plain": [
       "0        83698\n",
       "80        6977\n",
       "100       6454\n",
       "70        6307\n",
       "60        5787\n",
       "         ...  \n",
       "338          1\n",
       "1800         1\n",
       "12000        1\n",
       "858          1\n",
       "802          1\n",
       "Name: LivingSpace, Length: 617, dtype: int64"
      ]
     },
     "execution_count": 203,
     "metadata": {},
     "output_type": "execute_result"
    }
   ],
   "source": [
    "data['LivingSpace'] = data['LivingSpace'].replace(',', '', regex=True)\n",
    "data['LivingSpace'].value_counts()"
   ]
  },
  {
   "cell_type": "code",
   "execution_count": 204,
   "id": "2e3019d7",
   "metadata": {
    "execution": {
     "iopub.execute_input": "2022-04-11T20:32:06.597867Z",
     "iopub.status.busy": "2022-04-11T20:32:06.597124Z",
     "iopub.status.idle": "2022-04-11T20:32:08.048454Z",
     "shell.execute_reply": "2022-04-11T20:32:08.047788Z",
     "shell.execute_reply.started": "2022-04-11T19:32:44.236346Z"
    },
    "papermill": {
     "duration": 1.852223,
     "end_time": "2022-04-11T20:32:08.048614",
     "exception": false,
     "start_time": "2022-04-11T20:32:06.196391",
     "status": "completed"
    },
    "tags": []
   },
   "outputs": [
    {
     "data": {
      "text/plain": [
       "<AxesSubplot:xlabel='LivingSpace', ylabel='Density'>"
      ]
     },
     "execution_count": 204,
     "metadata": {},
     "output_type": "execute_result"
    },
    {
     "data": {
      "image/png": "[encoded data removed]",
      "text/plain": [
       "<Figure size 432x288 with 1 Axes>"
      ]
     },
     "metadata": {},
     "output_type": "display_data"
    }
   ],
   "source": [
    "sns.distplot(data['LivingSpace'])"
   ]
  },
  {
   "cell_type": "code",
   "execution_count": 205,
   "id": "7f8524aa",
   "metadata": {
    "execution": {
     "iopub.execute_input": "2022-04-11T20:32:08.795740Z",
     "iopub.status.busy": "2022-04-11T20:32:08.794984Z",
     "iopub.status.idle": "2022-04-11T20:32:13.781048Z",
     "shell.execute_reply": "2022-04-11T20:32:13.781587Z",
     "shell.execute_reply.started": "2022-04-11T19:32:45.560656Z"
    },
    "papermill": {
     "duration": 5.366928,
     "end_time": "2022-04-11T20:32:13.781792",
     "exception": false,
     "start_time": "2022-04-11T20:32:08.414864",
     "status": "completed"
    },
    "tags": []
   },
   "outputs": [],
   "source": [
    "data['LivingSpace'] = data['LivingSpace'].apply(pd.to_numeric)"
   ]
  },
  {
   "cell_type": "code",
   "execution_count": 206,
   "id": "cd31f351",
   "metadata": {
    "execution": {
     "iopub.execute_input": "2022-04-11T20:32:14.550984Z",
     "iopub.status.busy": "2022-04-11T20:32:14.550165Z",
     "iopub.status.idle": "2022-04-11T20:32:14.771268Z",
     "shell.execute_reply": "2022-04-11T20:32:14.770602Z",
     "shell.execute_reply.started": "2022-04-11T19:32:48.572049Z"
    },
    "papermill": {
     "duration": 0.605694,
     "end_time": "2022-04-11T20:32:14.771408",
     "exception": false,
     "start_time": "2022-04-11T20:32:14.165714",
     "status": "completed"
    },
    "tags": []
   },
   "outputs": [
    {
     "data": {
      "image/png": "[encoded data removed]",
      "text/plain": [
       "<Figure size 432x288 with 1 Axes>"
      ]
     },
     "metadata": {},
     "output_type": "display_data"
    }
   ],
   "source": [
    "sns.boxplot(data['LivingSpace'])\n",
    "plt.show()"
   ]
  },
  {
   "cell_type": "code",
   "execution_count": 207,
   "id": "410e8ab6",
   "metadata": {
    "execution": {
     "iopub.execute_input": "2022-04-11T20:32:15.525059Z",
     "iopub.status.busy": "2022-04-11T20:32:15.523991Z",
     "iopub.status.idle": "2022-04-11T20:32:15.539226Z",
     "shell.execute_reply": "2022-04-11T20:32:15.539779Z",
     "shell.execute_reply.started": "2022-04-11T19:32:48.741746Z"
    },
    "papermill": {
     "duration": 0.390263,
     "end_time": "2022-04-11T20:32:15.539960",
     "exception": false,
     "start_time": "2022-04-11T20:32:15.149697",
     "status": "completed"
    },
    "tags": []
   },
   "outputs": [
    {
     "data": {
      "text/plain": [
       "count   274574.00000\n",
       "mean        63.80738\n",
       "std        158.61258\n",
       "min          0.00000\n",
       "25%          0.00000\n",
       "50%         60.00000\n",
       "75%         92.00000\n",
       "max      46000.00000\n",
       "Name: LivingSpace, dtype: float64"
      ]
     },
     "execution_count": 207,
     "metadata": {},
     "output_type": "execute_result"
    }
   ],
   "source": [
    "data['LivingSpace'].describe()"
   ]
  },
  {
   "cell_type": "code",
   "execution_count": 208,
   "id": "65ecc258",
   "metadata": {
    "execution": {
     "iopub.execute_input": "2022-04-11T20:32:16.281616Z",
     "iopub.status.busy": "2022-04-11T20:32:16.280839Z",
     "iopub.status.idle": "2022-04-11T20:32:16.822707Z",
     "shell.execute_reply": "2022-04-11T20:32:16.822049Z",
     "shell.execute_reply.started": "2022-04-11T19:32:48.761156Z"
    },
    "papermill": {
     "duration": 0.916693,
     "end_time": "2022-04-11T20:32:16.822862",
     "exception": false,
     "start_time": "2022-04-11T20:32:15.906169",
     "status": "completed"
    },
    "tags": []
   },
   "outputs": [],
   "source": [
    "sample_outliers = detect_outliers_zscore(data['LivingSpace'])"
   ]
  },
  {
   "cell_type": "code",
   "execution_count": 209,
   "id": "8533a53e",
   "metadata": {
    "execution": {
     "iopub.execute_input": "2022-04-11T20:32:17.587710Z",
     "iopub.status.busy": "2022-04-11T20:32:17.586978Z",
     "iopub.status.idle": "2022-04-11T20:32:17.589706Z",
     "shell.execute_reply": "2022-04-11T20:32:17.589174Z",
     "shell.execute_reply.started": "2022-04-11T19:32:49.058994Z"
    },
    "papermill": {
     "duration": 0.395775,
     "end_time": "2022-04-11T20:32:17.589852",
     "exception": false,
     "start_time": "2022-04-11T20:32:17.194077",
     "status": "completed"
    },
    "tags": []
   },
   "outputs": [],
   "source": [
    "#print(sample_outliers)"
   ]
  },
  {
   "cell_type": "code",
   "execution_count": 210,
   "id": "9469393d",
   "metadata": {
    "execution": {
     "iopub.execute_input": "2022-04-11T20:32:18.343703Z",
     "iopub.status.busy": "2022-04-11T20:32:18.342676Z",
     "iopub.status.idle": "2022-04-11T20:32:18.396525Z",
     "shell.execute_reply": "2022-04-11T20:32:18.395788Z",
     "shell.execute_reply.started": "2022-04-11T19:32:49.064332Z"
    },
    "papermill": {
     "duration": 0.433592,
     "end_time": "2022-04-11T20:32:18.396677",
     "exception": false,
     "start_time": "2022-04-11T20:32:17.963085",
     "status": "completed"
    },
    "tags": []
   },
   "outputs": [],
   "source": [
    "data = data[data[\"LivingSpace\"]<min(sample_outliers)].reset_index(drop = True)"
   ]
  },
  {
   "cell_type": "code",
   "execution_count": 211,
   "id": "b94e9e8d",
   "metadata": {
    "execution": {
     "iopub.execute_input": "2022-04-11T20:32:19.134397Z",
     "iopub.status.busy": "2022-04-11T20:32:19.133714Z",
     "iopub.status.idle": "2022-04-11T20:32:19.145980Z",
     "shell.execute_reply": "2022-04-11T20:32:19.145266Z",
     "shell.execute_reply.started": "2022-04-11T19:32:49.128185Z"
    },
    "papermill": {
     "duration": 0.384824,
     "end_time": "2022-04-11T20:32:19.146129",
     "exception": false,
     "start_time": "2022-04-11T20:32:18.761305",
     "status": "completed"
    },
    "tags": []
   },
   "outputs": [
    {
     "data": {
      "text/plain": [
       "count   105447.00000\n",
       "mean         5.20951\n",
       "std         10.89247\n",
       "min          0.00000\n",
       "25%          0.00000\n",
       "50%          0.00000\n",
       "75%          0.00000\n",
       "max         39.00000\n",
       "Name: LivingSpace, dtype: float64"
      ]
     },
     "execution_count": 211,
     "metadata": {},
     "output_type": "execute_result"
    }
   ],
   "source": [
    "data['LivingSpace'].describe()"
   ]
  },
  {
   "cell_type": "code",
   "execution_count": 212,
   "id": "424f0138",
   "metadata": {
    "execution": {
     "iopub.execute_input": "2022-04-11T20:32:19.892082Z",
     "iopub.status.busy": "2022-04-11T20:32:19.891323Z",
     "iopub.status.idle": "2022-04-11T20:32:19.894596Z",
     "shell.execute_reply": "2022-04-11T20:32:19.893975Z",
     "shell.execute_reply.started": "2022-04-11T19:32:49.140916Z"
    },
    "papermill": {
     "duration": 0.378676,
     "end_time": "2022-04-11T20:32:19.894750",
     "exception": false,
     "start_time": "2022-04-11T20:32:19.516074",
     "status": "completed"
    },
    "tags": []
   },
   "outputs": [],
   "source": [
    "#sample_outliers = detect_outliers_zscore(data['LivingSpace'])\n",
    "#print(sample_outliers)"
   ]
  },
  {
   "cell_type": "code",
   "execution_count": 213,
   "id": "119c272a",
   "metadata": {
    "execution": {
     "iopub.execute_input": "2022-04-11T20:32:20.633710Z",
     "iopub.status.busy": "2022-04-11T20:32:20.632966Z",
     "iopub.status.idle": "2022-04-11T20:32:20.969089Z",
     "shell.execute_reply": "2022-04-11T20:32:20.969633Z",
     "shell.execute_reply.started": "2022-04-11T19:32:49.148999Z"
    },
    "papermill": {
     "duration": 0.705829,
     "end_time": "2022-04-11T20:32:20.969810",
     "exception": false,
     "start_time": "2022-04-11T20:32:20.263981",
     "status": "completed"
    },
    "tags": []
   },
   "outputs": [
    {
     "data": {
      "text/plain": [
       "<AxesSubplot:xlabel='LivingSpace'>"
      ]
     },
     "execution_count": 213,
     "metadata": {},
     "output_type": "execute_result"
    },
    {
     "data": {
      "image/png": "[encoded data removed]",
      "text/plain": [
       "<Figure size 432x288 with 1 Axes>"
      ]
     },
     "metadata": {},
     "output_type": "display_data"
    }
   ],
   "source": [
    "sns.boxplot(data['LivingSpace'])"
   ]
  },
  {
   "cell_type": "code",
   "execution_count": 214,
   "id": "ff01dec2",
   "metadata": {
    "execution": {
     "iopub.execute_input": "2022-04-11T20:32:21.779186Z",
     "iopub.status.busy": "2022-04-11T20:32:21.775640Z",
     "iopub.status.idle": "2022-04-11T20:32:22.594524Z",
     "shell.execute_reply": "2022-04-11T20:32:22.593948Z",
     "shell.execute_reply.started": "2022-04-11T19:32:49.463154Z"
    },
    "papermill": {
     "duration": 1.24835,
     "end_time": "2022-04-11T20:32:22.594685",
     "exception": false,
     "start_time": "2022-04-11T20:32:21.346335",
     "status": "completed"
    },
    "tags": []
   },
   "outputs": [
    {
     "data": {
      "text/plain": [
       "<AxesSubplot:xlabel='LivingSpace', ylabel='Density'>"
      ]
     },
     "execution_count": 214,
     "metadata": {},
     "output_type": "execute_result"
    },
    {
     "data": {
      "image/png": "[encoded data removed]",
      "text/plain": [
       "<Figure size 432x288 with 1 Axes>"
      ]
     },
     "metadata": {},
     "output_type": "display_data"
    }
   ],
   "source": [
    "sns.distplot(data['LivingSpace'])"
   ]
  },
  {
   "cell_type": "code",
   "execution_count": 215,
   "id": "c3e50b7b",
   "metadata": {
    "execution": {
     "iopub.execute_input": "2022-04-11T20:32:23.358365Z",
     "iopub.status.busy": "2022-04-11T20:32:23.357707Z",
     "iopub.status.idle": "2022-04-11T20:32:23.368152Z",
     "shell.execute_reply": "2022-04-11T20:32:23.368666Z",
     "shell.execute_reply.started": "2022-04-11T19:32:50.252623Z"
    },
    "papermill": {
     "duration": 0.39421,
     "end_time": "2022-04-11T20:32:23.368840",
     "exception": false,
     "start_time": "2022-04-11T20:32:22.974630",
     "status": "completed"
    },
    "tags": []
   },
   "outputs": [
    {
     "data": {
      "text/plain": [
       "count   105447.00000\n",
       "mean         5.20951\n",
       "std         10.89247\n",
       "min          0.00000\n",
       "25%          0.00000\n",
       "50%          0.00000\n",
       "75%          0.00000\n",
       "max         39.00000\n",
       "Name: LivingSpace, dtype: float64"
      ]
     },
     "execution_count": 215,
     "metadata": {},
     "output_type": "execute_result"
    }
   ],
   "source": [
    "data['LivingSpace'].describe()"
   ]
  },
  {
   "cell_type": "code",
   "execution_count": 216,
   "id": "ae448c3d",
   "metadata": {
    "execution": {
     "iopub.execute_input": "2022-04-11T20:32:24.126636Z",
     "iopub.status.busy": "2022-04-11T20:32:24.125928Z",
     "iopub.status.idle": "2022-04-11T20:32:24.128414Z",
     "shell.execute_reply": "2022-04-11T20:32:24.129073Z",
     "shell.execute_reply.started": "2022-04-11T19:32:50.265363Z"
    },
    "papermill": {
     "duration": 0.387723,
     "end_time": "2022-04-11T20:32:24.129268",
     "exception": false,
     "start_time": "2022-04-11T20:32:23.741545",
     "status": "completed"
    },
    "tags": []
   },
   "outputs": [],
   "source": [
    "Livingspace = data['LivingSpace'].copy()"
   ]
  },
  {
   "cell_type": "code",
   "execution_count": 217,
   "id": "5a62092a",
   "metadata": {
    "execution": {
     "iopub.execute_input": "2022-04-11T20:32:24.884490Z",
     "iopub.status.busy": "2022-04-11T20:32:24.883664Z",
     "iopub.status.idle": "2022-04-11T20:32:25.217199Z",
     "shell.execute_reply": "2022-04-11T20:32:25.216639Z",
     "shell.execute_reply.started": "2022-04-11T19:32:50.271911Z"
    },
    "papermill": {
     "duration": 0.714813,
     "end_time": "2022-04-11T20:32:25.217339",
     "exception": false,
     "start_time": "2022-04-11T20:32:24.502526",
     "status": "completed"
    },
    "tags": []
   },
   "outputs": [
    {
     "data": {
      "text/html": [
       "<div>\n",
       "<style scoped>\n",
       "    .dataframe tbody tr th:only-of-type {\n",
       "        vertical-align: middle;\n",
       "    }\n",
       "\n",
       "    .dataframe tbody tr th {\n",
       "        vertical-align: top;\n",
       "    }\n",
       "\n",
       "    .dataframe thead th {\n",
       "        text-align: right;\n",
       "    }\n",
       "</style>\n",
       "<table border=\"1\" class=\"dataframe\">\n",
       "  <thead>\n",
       "    <tr style=\"text-align: right;\">\n",
       "      <th></th>\n",
       "      <th>LivingSpace</th>\n",
       "    </tr>\n",
       "  </thead>\n",
       "  <tbody>\n",
       "    <tr>\n",
       "      <th>0</th>\n",
       "      <td>0</td>\n",
       "    </tr>\n",
       "    <tr>\n",
       "      <th>1</th>\n",
       "      <td>0</td>\n",
       "    </tr>\n",
       "    <tr>\n",
       "      <th>2</th>\n",
       "      <td>0</td>\n",
       "    </tr>\n",
       "    <tr>\n",
       "      <th>3</th>\n",
       "      <td>0</td>\n",
       "    </tr>\n",
       "    <tr>\n",
       "      <th>4</th>\n",
       "      <td>0</td>\n",
       "    </tr>\n",
       "  </tbody>\n",
       "</table>\n",
       "</div>"
      ],
      "text/plain": [
       "   LivingSpace\n",
       "0            0\n",
       "1            0\n",
       "2            0\n",
       "3            0\n",
       "4            0"
      ]
     },
     "execution_count": 217,
     "metadata": {},
     "output_type": "execute_result"
    }
   ],
   "source": [
    "Livingspace = Livingspace.apply(pd.to_numeric)\n",
    "Livingspace = pd.DataFrame(Livingspace)\n",
    "Livingspace.head()"
   ]
  },
  {
   "cell_type": "code",
   "execution_count": 218,
   "id": "ffbfcfe9",
   "metadata": {
    "execution": {
     "iopub.execute_input": "2022-04-11T20:32:25.962674Z",
     "iopub.status.busy": "2022-04-11T20:32:25.961975Z",
     "iopub.status.idle": "2022-04-11T20:32:25.968237Z",
     "shell.execute_reply": "2022-04-11T20:32:25.968807Z",
     "shell.execute_reply.started": "2022-04-11T19:32:50.494718Z"
    },
    "papermill": {
     "duration": 0.38217,
     "end_time": "2022-04-11T20:32:25.968991",
     "exception": false,
     "start_time": "2022-04-11T20:32:25.586821",
     "status": "completed"
    },
    "tags": []
   },
   "outputs": [
    {
     "data": {
      "text/plain": [
       "0    0\n",
       "1    0\n",
       "2    0\n",
       "3    0\n",
       "4    0\n",
       "Name: LivingSpace, dtype: int64"
      ]
     },
     "execution_count": 218,
     "metadata": {},
     "output_type": "execute_result"
    }
   ],
   "source": [
    "Livingspace['LivingSpace'].head()"
   ]
  },
  {
   "cell_type": "code",
   "execution_count": 219,
   "id": "343e104f",
   "metadata": {
    "execution": {
     "iopub.execute_input": "2022-04-11T20:32:26.729660Z",
     "iopub.status.busy": "2022-04-11T20:32:26.728990Z",
     "iopub.status.idle": "2022-04-11T20:32:26.735094Z",
     "shell.execute_reply": "2022-04-11T20:32:26.734589Z",
     "shell.execute_reply.started": "2022-04-11T19:32:50.501687Z"
    },
    "papermill": {
     "duration": 0.393042,
     "end_time": "2022-04-11T20:32:26.735233",
     "exception": false,
     "start_time": "2022-04-11T20:32:26.342191",
     "status": "completed"
    },
    "tags": []
   },
   "outputs": [
    {
     "data": {
      "text/plain": [
       "(105447, 1)"
      ]
     },
     "execution_count": 219,
     "metadata": {},
     "output_type": "execute_result"
    }
   ],
   "source": [
    "Livingspace.shape"
   ]
  },
  {
   "cell_type": "code",
   "execution_count": 220,
   "id": "3a4803d2",
   "metadata": {
    "execution": {
     "iopub.execute_input": "2022-04-11T20:32:27.483317Z",
     "iopub.status.busy": "2022-04-11T20:32:27.482667Z",
     "iopub.status.idle": "2022-04-11T20:32:27.690800Z",
     "shell.execute_reply": "2022-04-11T20:32:27.690169Z",
     "shell.execute_reply.started": "2022-04-11T19:32:50.514127Z"
    },
    "papermill": {
     "duration": 0.581247,
     "end_time": "2022-04-11T20:32:27.690945",
     "exception": false,
     "start_time": "2022-04-11T20:32:27.109698",
     "status": "completed"
    },
    "tags": []
   },
   "outputs": [],
   "source": [
    "sample_outliers = detect_outliers_zscore(Livingspace['LivingSpace'])\n",
    "#print(sample_outliers)"
   ]
  },
  {
   "cell_type": "code",
   "execution_count": 221,
   "id": "1fc13ee2",
   "metadata": {
    "execution": {
     "iopub.execute_input": "2022-04-11T20:32:28.432721Z",
     "iopub.status.busy": "2022-04-11T20:32:28.432073Z",
     "iopub.status.idle": "2022-04-11T20:32:28.437349Z",
     "shell.execute_reply": "2022-04-11T20:32:28.437901Z",
     "shell.execute_reply.started": "2022-04-11T19:32:50.638652Z"
    },
    "papermill": {
     "duration": 0.375615,
     "end_time": "2022-04-11T20:32:28.438079",
     "exception": false,
     "start_time": "2022-04-11T20:32:28.062464",
     "status": "completed"
    },
    "tags": []
   },
   "outputs": [],
   "source": [
    "#data = data[data[\"LivingSpace\"]<min(sample_outliers)].reset_index(drop = True)\n",
    "Livingspace = Livingspace[Livingspace[\"LivingSpace\"]<min(sample_outliers)].reset_index(drop = True)"
   ]
  },
  {
   "cell_type": "code",
   "execution_count": 222,
   "id": "683b8f98",
   "metadata": {
    "execution": {
     "iopub.execute_input": "2022-04-11T20:32:29.205153Z",
     "iopub.status.busy": "2022-04-11T20:32:29.204354Z",
     "iopub.status.idle": "2022-04-11T20:32:29.208541Z",
     "shell.execute_reply": "2022-04-11T20:32:29.208000Z",
     "shell.execute_reply.started": "2022-04-11T19:32:50.647778Z"
    },
    "papermill": {
     "duration": 0.379847,
     "end_time": "2022-04-11T20:32:29.208695",
     "exception": false,
     "start_time": "2022-04-11T20:32:28.828848",
     "status": "completed"
    },
    "tags": []
   },
   "outputs": [
    {
     "data": {
      "text/plain": [
       "(104353, 1)"
      ]
     },
     "execution_count": 222,
     "metadata": {},
     "output_type": "execute_result"
    }
   ],
   "source": [
    "Livingspace.shape"
   ]
  },
  {
   "cell_type": "code",
   "execution_count": 223,
   "id": "f96940af",
   "metadata": {
    "execution": {
     "iopub.execute_input": "2022-04-11T20:32:29.972153Z",
     "iopub.status.busy": "2022-04-11T20:32:29.971430Z",
     "iopub.status.idle": "2022-04-11T20:32:29.976161Z",
     "shell.execute_reply": "2022-04-11T20:32:29.976966Z",
     "shell.execute_reply.started": "2022-04-11T19:32:50.658120Z"
    },
    "papermill": {
     "duration": 0.388244,
     "end_time": "2022-04-11T20:32:29.977177",
     "exception": false,
     "start_time": "2022-04-11T20:32:29.588933",
     "status": "completed"
    },
    "tags": []
   },
   "outputs": [
    {
     "data": {
      "text/plain": [
       "(274574,)"
      ]
     },
     "execution_count": 223,
     "metadata": {},
     "output_type": "execute_result"
    }
   ],
   "source": [
    "LivingSpace.shape"
   ]
  },
  {
   "cell_type": "markdown",
   "id": "80ec7a66",
   "metadata": {
    "papermill": {
     "duration": 0.370724,
     "end_time": "2022-04-11T20:32:30.726886",
     "exception": false,
     "start_time": "2022-04-11T20:32:30.356162",
     "status": "completed"
    },
    "tags": []
   },
   "source": [
    "Should you fix the outliers or leave it in this scenerio???"
   ]
  },
  {
   "cell_type": "code",
   "execution_count": 224,
   "id": "bfff19d7",
   "metadata": {
    "execution": {
     "iopub.execute_input": "2022-04-11T20:32:31.475993Z",
     "iopub.status.busy": "2022-04-11T20:32:31.475171Z",
     "iopub.status.idle": "2022-04-11T20:32:31.481248Z",
     "shell.execute_reply": "2022-04-11T20:32:31.480747Z",
     "shell.execute_reply.started": "2022-04-11T19:32:50.670445Z"
    },
    "papermill": {
     "duration": 0.38082,
     "end_time": "2022-04-11T20:32:31.481389",
     "exception": false,
     "start_time": "2022-04-11T20:32:31.100569",
     "status": "completed"
    },
    "tags": []
   },
   "outputs": [
    {
     "data": {
      "text/plain": [
       "Index(['ID', 'DealType', 'Canton', 'ZipCode', 'City', 'PublishedDate',\n",
       "       'AvailableDate', 'PriceText', 'LangDetected', 'NumRooms', 'Floor',\n",
       "       'YearOfConstruction', 'LivingSpace', 'CoordE', 'CoordN', 'Deal_Type',\n",
       "       'Description', 'PublishedYear', 'PublishedMonth', 'PublishedDay'],\n",
       "      dtype='object')"
      ]
     },
     "execution_count": 224,
     "metadata": {},
     "output_type": "execute_result"
    }
   ],
   "source": [
    "data.columns"
   ]
  },
  {
   "cell_type": "markdown",
   "id": "a0c5cb1a",
   "metadata": {
    "papermill": {
     "duration": 0.374462,
     "end_time": "2022-04-11T20:32:32.239084",
     "exception": false,
     "start_time": "2022-04-11T20:32:31.864622",
     "status": "completed"
    },
    "tags": []
   },
   "source": [
    "#### Some Columns with outliers that you can work on maybe it would improve the model\n",
    "* YearOfObservation\n",
    "* LivingSpace"
   ]
  },
  {
   "cell_type": "markdown",
   "id": "af9e7ba4",
   "metadata": {
    "papermill": {
     "duration": 0.378034,
     "end_time": "2022-04-11T20:32:32.994877",
     "exception": false,
     "start_time": "2022-04-11T20:32:32.616843",
     "status": "completed"
    },
    "tags": []
   },
   "source": [
    "### Coordinates"
   ]
  },
  {
   "cell_type": "code",
   "execution_count": 225,
   "id": "c6eefb2b",
   "metadata": {
    "execution": {
     "iopub.execute_input": "2022-04-11T20:32:33.747398Z",
     "iopub.status.busy": "2022-04-11T20:32:33.746579Z",
     "iopub.status.idle": "2022-04-11T20:32:33.749402Z",
     "shell.execute_reply": "2022-04-11T20:32:33.749943Z",
     "shell.execute_reply.started": "2022-04-11T19:32:50.684091Z"
    },
    "papermill": {
     "duration": 0.381656,
     "end_time": "2022-04-11T20:32:33.750112",
     "exception": false,
     "start_time": "2022-04-11T20:32:33.368456",
     "status": "completed"
    },
    "tags": []
   },
   "outputs": [
    {
     "data": {
      "text/html": [
       "<div>\n",
       "<style scoped>\n",
       "    .dataframe tbody tr th:only-of-type {\n",
       "        vertical-align: middle;\n",
       "    }\n",
       "\n",
       "    .dataframe tbody tr th {\n",
       "        vertical-align: top;\n",
       "    }\n",
       "\n",
       "    .dataframe thead th {\n",
       "        text-align: right;\n",
       "    }\n",
       "</style>\n",
       "<table border=\"1\" class=\"dataframe\">\n",
       "  <thead>\n",
       "    <tr style=\"text-align: right;\">\n",
       "      <th></th>\n",
       "      <th>CoordN</th>\n",
       "      <th>CoordE</th>\n",
       "    </tr>\n",
       "  </thead>\n",
       "  <tbody>\n",
       "    <tr>\n",
       "      <th>0</th>\n",
       "      <td>46.58997</td>\n",
       "      <td>6.64002</td>\n",
       "    </tr>\n",
       "    <tr>\n",
       "      <th>1</th>\n",
       "      <td>47.50012</td>\n",
       "      <td>8.45490</td>\n",
       "    </tr>\n",
       "    <tr>\n",
       "      <th>2</th>\n",
       "      <td>46.61502</td>\n",
       "      <td>6.66426</td>\n",
       "    </tr>\n",
       "    <tr>\n",
       "      <th>3</th>\n",
       "      <td>47.36868</td>\n",
       "      <td>8.54439</td>\n",
       "    </tr>\n",
       "    <tr>\n",
       "      <th>4</th>\n",
       "      <td>47.19046</td>\n",
       "      <td>7.10679</td>\n",
       "    </tr>\n",
       "  </tbody>\n",
       "</table>\n",
       "</div>"
      ],
      "text/plain": [
       "    CoordN  CoordE\n",
       "0 46.58997 6.64002\n",
       "1 47.50012 8.45490\n",
       "2 46.61502 6.66426\n",
       "3 47.36868 8.54439\n",
       "4 47.19046 7.10679"
      ]
     },
     "execution_count": 225,
     "metadata": {},
     "output_type": "execute_result"
    }
   ],
   "source": [
    "data[['CoordN', 'CoordE']].head()"
   ]
  },
  {
   "cell_type": "code",
   "execution_count": 226,
   "id": "2ee9bd8c",
   "metadata": {
    "execution": {
     "iopub.execute_input": "2022-04-11T20:32:34.504639Z",
     "iopub.status.busy": "2022-04-11T20:32:34.503837Z",
     "iopub.status.idle": "2022-04-11T20:32:35.009813Z",
     "shell.execute_reply": "2022-04-11T20:32:35.010322Z",
     "shell.execute_reply.started": "2022-04-11T19:32:50.700172Z"
    },
    "papermill": {
     "duration": 0.888022,
     "end_time": "2022-04-11T20:32:35.010517",
     "exception": false,
     "start_time": "2022-04-11T20:32:34.122495",
     "status": "completed"
    },
    "tags": []
   },
   "outputs": [
    {
     "data": {
      "image/png": "[encoded data removed]",
      "text/plain": [
       "<Figure size 1152x576 with 1 Axes>"
      ]
     },
     "metadata": {},
     "output_type": "display_data"
    }
   ],
   "source": [
    "fig, ax = plt.subplots(figsize=(16,8))\n",
    "ax.scatter(data['CoordE'], data['CoordN'])\n",
    "ax.set_xlabel('Eastern Coordinates')\n",
    "ax.set_ylabel('Northern Coordinates')\n",
    "plt.show()"
   ]
  },
  {
   "cell_type": "code",
   "execution_count": 227,
   "id": "e7f89a74",
   "metadata": {
    "execution": {
     "iopub.execute_input": "2022-04-11T20:32:35.759011Z",
     "iopub.status.busy": "2022-04-11T20:32:35.758298Z",
     "iopub.status.idle": "2022-04-11T20:32:35.807400Z",
     "shell.execute_reply": "2022-04-11T20:32:35.806699Z",
     "shell.execute_reply.started": "2022-04-11T19:32:51.197885Z"
    },
    "papermill": {
     "duration": 0.424762,
     "end_time": "2022-04-11T20:32:35.807568",
     "exception": false,
     "start_time": "2022-04-11T20:32:35.382806",
     "status": "completed"
    },
    "tags": []
   },
   "outputs": [
    {
     "data": {
      "text/plain": [
       "CoordN    CoordE \n",
       "47.38076  8.51729    979\n",
       "46.00937  8.95078    777\n",
       "46.93632  7.43613    707\n",
       "47.48568  8.72929    646\n",
       "47.37220  8.51625    625\n",
       "                    ... \n",
       "46.85314  7.19863      1\n",
       "46.85310  7.19844      1\n",
       "46.85297  7.19539      1\n",
       "46.85286  7.25224      1\n",
       "47.69464  8.61792      1\n",
       "Length: 36298, dtype: int64"
      ]
     },
     "execution_count": 227,
     "metadata": {},
     "output_type": "execute_result"
    }
   ],
   "source": [
    "data[['CoordN', 'CoordE']].value_counts()"
   ]
  },
  {
   "cell_type": "code",
   "execution_count": 228,
   "id": "4fb94aba",
   "metadata": {
    "execution": {
     "iopub.execute_input": "2022-04-11T20:32:36.572559Z",
     "iopub.status.busy": "2022-04-11T20:32:36.571475Z",
     "iopub.status.idle": "2022-04-11T20:32:36.577319Z",
     "shell.execute_reply": "2022-04-11T20:32:36.577796Z",
     "shell.execute_reply.started": "2022-04-11T19:32:51.247028Z"
    },
    "papermill": {
     "duration": 0.393885,
     "end_time": "2022-04-11T20:32:36.577987",
     "exception": false,
     "start_time": "2022-04-11T20:32:36.184102",
     "status": "completed"
    },
    "tags": []
   },
   "outputs": [
    {
     "data": {
      "text/plain": [
       "dtype('float64')"
      ]
     },
     "execution_count": 228,
     "metadata": {},
     "output_type": "execute_result"
    }
   ],
   "source": [
    "data['CoordN'].dtype"
   ]
  },
  {
   "cell_type": "markdown",
   "id": "916d16e3",
   "metadata": {
    "papermill": {
     "duration": 0.3785,
     "end_time": "2022-04-11T20:32:37.352696",
     "exception": false,
     "start_time": "2022-04-11T20:32:36.974196",
     "status": "completed"
    },
    "tags": []
   },
   "source": [
    "## Final Preparation for Modelling"
   ]
  },
  {
   "cell_type": "code",
   "execution_count": 229,
   "id": "001e467b",
   "metadata": {
    "execution": {
     "iopub.execute_input": "2022-04-11T20:32:38.117402Z",
     "iopub.status.busy": "2022-04-11T20:32:38.116717Z",
     "iopub.status.idle": "2022-04-11T20:32:38.119469Z",
     "shell.execute_reply": "2022-04-11T20:32:38.119952Z",
     "shell.execute_reply.started": "2022-04-11T19:32:51.254174Z"
    },
    "papermill": {
     "duration": 0.386595,
     "end_time": "2022-04-11T20:32:38.120116",
     "exception": false,
     "start_time": "2022-04-11T20:32:37.733521",
     "status": "completed"
    },
    "tags": []
   },
   "outputs": [
    {
     "data": {
      "text/plain": [
       "Index(['ID', 'DealType', 'Canton', 'ZipCode', 'City', 'PublishedDate',\n",
       "       'AvailableDate', 'PriceText', 'LangDetected', 'NumRooms', 'Floor',\n",
       "       'YearOfConstruction', 'LivingSpace', 'CoordE', 'CoordN', 'Deal_Type',\n",
       "       'Description', 'PublishedYear', 'PublishedMonth', 'PublishedDay'],\n",
       "      dtype='object')"
      ]
     },
     "execution_count": 229,
     "metadata": {},
     "output_type": "execute_result"
    }
   ],
   "source": [
    "data.columns"
   ]
  },
  {
   "cell_type": "code",
   "execution_count": 230,
   "id": "a5b2e2e0",
   "metadata": {
    "execution": {
     "iopub.execute_input": "2022-04-11T20:32:38.909170Z",
     "iopub.status.busy": "2022-04-11T20:32:38.908462Z",
     "iopub.status.idle": "2022-04-11T20:32:38.917670Z",
     "shell.execute_reply": "2022-04-11T20:32:38.918290Z",
     "shell.execute_reply.started": "2022-04-11T19:32:51.267793Z"
    },
    "papermill": {
     "duration": 0.409904,
     "end_time": "2022-04-11T20:32:38.918505",
     "exception": false,
     "start_time": "2022-04-11T20:32:38.508601",
     "status": "completed"
    },
    "tags": []
   },
   "outputs": [
    {
     "data": {
      "text/html": [
       "<div>\n",
       "<style scoped>\n",
       "    .dataframe tbody tr th:only-of-type {\n",
       "        vertical-align: middle;\n",
       "    }\n",
       "\n",
       "    .dataframe tbody tr th {\n",
       "        vertical-align: top;\n",
       "    }\n",
       "\n",
       "    .dataframe thead th {\n",
       "        text-align: right;\n",
       "    }\n",
       "</style>\n",
       "<table border=\"1\" class=\"dataframe\">\n",
       "  <thead>\n",
       "    <tr style=\"text-align: right;\">\n",
       "      <th></th>\n",
       "      <th>DealType</th>\n",
       "      <th>Deal_Type</th>\n",
       "    </tr>\n",
       "  </thead>\n",
       "  <tbody>\n",
       "    <tr>\n",
       "      <th>0</th>\n",
       "      <td>10</td>\n",
       "      <td>rental</td>\n",
       "    </tr>\n",
       "    <tr>\n",
       "      <th>1</th>\n",
       "      <td>10</td>\n",
       "      <td>rental</td>\n",
       "    </tr>\n",
       "    <tr>\n",
       "      <th>2</th>\n",
       "      <td>10</td>\n",
       "      <td>rental</td>\n",
       "    </tr>\n",
       "    <tr>\n",
       "      <th>3</th>\n",
       "      <td>10</td>\n",
       "      <td>rental</td>\n",
       "    </tr>\n",
       "    <tr>\n",
       "      <th>4</th>\n",
       "      <td>10</td>\n",
       "      <td>rental</td>\n",
       "    </tr>\n",
       "  </tbody>\n",
       "</table>\n",
       "</div>"
      ],
      "text/plain": [
       "   DealType Deal_Type\n",
       "0        10    rental\n",
       "1        10    rental\n",
       "2        10    rental\n",
       "3        10    rental\n",
       "4        10    rental"
      ]
     },
     "execution_count": 230,
     "metadata": {},
     "output_type": "execute_result"
    }
   ],
   "source": [
    "data[['DealType', 'Deal_Type']].head()"
   ]
  },
  {
   "cell_type": "code",
   "execution_count": 231,
   "id": "a89ca7a3",
   "metadata": {
    "execution": {
     "iopub.execute_input": "2022-04-11T20:32:39.769234Z",
     "iopub.status.busy": "2022-04-11T20:32:39.768304Z",
     "iopub.status.idle": "2022-04-11T20:32:39.770981Z",
     "shell.execute_reply": "2022-04-11T20:32:39.771516Z",
     "shell.execute_reply.started": "2022-04-11T19:32:51.285880Z"
    },
    "papermill": {
     "duration": 0.467788,
     "end_time": "2022-04-11T20:32:39.771693",
     "exception": false,
     "start_time": "2022-04-11T20:32:39.303905",
     "status": "completed"
    },
    "tags": []
   },
   "outputs": [],
   "source": [
    "target_map = {\n",
    "    10: 0,\n",
    "    20: 1}"
   ]
  },
  {
   "cell_type": "code",
   "execution_count": 232,
   "id": "1131ccdb",
   "metadata": {
    "execution": {
     "iopub.execute_input": "2022-04-11T20:32:40.608937Z",
     "iopub.status.busy": "2022-04-11T20:32:40.607237Z",
     "iopub.status.idle": "2022-04-11T20:32:40.617239Z",
     "shell.execute_reply": "2022-04-11T20:32:40.618012Z",
     "shell.execute_reply.started": "2022-04-11T19:32:51.291320Z"
    },
    "papermill": {
     "duration": 0.446356,
     "end_time": "2022-04-11T20:32:40.618312",
     "exception": false,
     "start_time": "2022-04-11T20:32:40.171956",
     "status": "completed"
    },
    "tags": []
   },
   "outputs": [
    {
     "data": {
      "text/plain": [
       "0    0\n",
       "1    0\n",
       "2    0\n",
       "3    0\n",
       "4    0\n",
       "Name: DealType, dtype: int64"
      ]
     },
     "execution_count": 232,
     "metadata": {},
     "output_type": "execute_result"
    }
   ],
   "source": [
    "data['DealType'].replace(target_map, inplace = True)\n",
    "data['DealType'].head()"
   ]
  },
  {
   "cell_type": "code",
   "execution_count": 233,
   "id": "ccf129ec",
   "metadata": {
    "execution": {
     "iopub.execute_input": "2022-04-11T20:32:41.460723Z",
     "iopub.status.busy": "2022-04-11T20:32:41.459796Z",
     "iopub.status.idle": "2022-04-11T20:32:41.479321Z",
     "shell.execute_reply": "2022-04-11T20:32:41.478679Z",
     "shell.execute_reply.started": "2022-04-11T19:32:51.307461Z"
    },
    "papermill": {
     "duration": 0.439753,
     "end_time": "2022-04-11T20:32:41.479550",
     "exception": false,
     "start_time": "2022-04-11T20:32:41.039797",
     "status": "completed"
    },
    "tags": []
   },
   "outputs": [],
   "source": [
    "data = data.drop('Deal_Type', axis = 1)"
   ]
  },
  {
   "cell_type": "code",
   "execution_count": 234,
   "id": "7e9775cf",
   "metadata": {
    "execution": {
     "iopub.execute_input": "2022-04-11T20:32:42.248285Z",
     "iopub.status.busy": "2022-04-11T20:32:42.247615Z",
     "iopub.status.idle": "2022-04-11T20:32:42.252847Z",
     "shell.execute_reply": "2022-04-11T20:32:42.253381Z",
     "shell.execute_reply.started": "2022-04-11T19:32:51.333653Z"
    },
    "papermill": {
     "duration": 0.388327,
     "end_time": "2022-04-11T20:32:42.253575",
     "exception": false,
     "start_time": "2022-04-11T20:32:41.865248",
     "status": "completed"
    },
    "tags": []
   },
   "outputs": [
    {
     "data": {
      "text/plain": [
       "Index(['ID', 'DealType', 'Canton', 'ZipCode', 'City', 'PublishedDate',\n",
       "       'AvailableDate', 'PriceText', 'LangDetected', 'NumRooms', 'Floor',\n",
       "       'YearOfConstruction', 'LivingSpace', 'CoordE', 'CoordN', 'Description',\n",
       "       'PublishedYear', 'PublishedMonth', 'PublishedDay'],\n",
       "      dtype='object')"
      ]
     },
     "execution_count": 234,
     "metadata": {},
     "output_type": "execute_result"
    }
   ],
   "source": [
    "data.columns"
   ]
  },
  {
   "cell_type": "code",
   "execution_count": 235,
   "id": "d98f5227",
   "metadata": {
    "execution": {
     "iopub.execute_input": "2022-04-11T20:32:43.023710Z",
     "iopub.status.busy": "2022-04-11T20:32:43.022927Z",
     "iopub.status.idle": "2022-04-11T20:32:43.027644Z",
     "shell.execute_reply": "2022-04-11T20:32:43.028198Z",
     "shell.execute_reply.started": "2022-04-11T19:32:51.339823Z"
    },
    "papermill": {
     "duration": 0.391518,
     "end_time": "2022-04-11T20:32:43.028516",
     "exception": false,
     "start_time": "2022-04-11T20:32:42.636998",
     "status": "completed"
    },
    "tags": []
   },
   "outputs": [
    {
     "data": {
      "text/plain": [
       "(105447, 19)"
      ]
     },
     "execution_count": 235,
     "metadata": {},
     "output_type": "execute_result"
    }
   ],
   "source": [
    "data.shape"
   ]
  },
  {
   "cell_type": "code",
   "execution_count": 236,
   "id": "30e0c35f",
   "metadata": {
    "execution": {
     "iopub.execute_input": "2022-04-11T20:32:43.787751Z",
     "iopub.status.busy": "2022-04-11T20:32:43.786974Z",
     "iopub.status.idle": "2022-04-11T20:32:43.791900Z",
     "shell.execute_reply": "2022-04-11T20:32:43.792472Z",
     "shell.execute_reply.started": "2022-04-11T19:32:51.357099Z"
    },
    "papermill": {
     "duration": 0.378604,
     "end_time": "2022-04-11T20:32:43.792658",
     "exception": false,
     "start_time": "2022-04-11T20:32:43.414054",
     "status": "completed"
    },
    "tags": []
   },
   "outputs": [
    {
     "data": {
      "text/plain": [
       "['LangDetected', 'Canton', 'Floor']"
      ]
     },
     "execution_count": 236,
     "metadata": {},
     "output_type": "execute_result"
    }
   ],
   "source": [
    "obj_col"
   ]
  },
  {
   "cell_type": "code",
   "execution_count": 237,
   "id": "1809b0f6",
   "metadata": {
    "execution": {
     "iopub.execute_input": "2022-04-11T20:32:44.566372Z",
     "iopub.status.busy": "2022-04-11T20:32:44.565713Z",
     "iopub.status.idle": "2022-04-11T20:32:44.570909Z",
     "shell.execute_reply": "2022-04-11T20:32:44.571409Z",
     "shell.execute_reply.started": "2022-04-11T19:32:51.371861Z"
    },
    "papermill": {
     "duration": 0.389286,
     "end_time": "2022-04-11T20:32:44.571605",
     "exception": false,
     "start_time": "2022-04-11T20:32:44.182319",
     "status": "completed"
    },
    "tags": []
   },
   "outputs": [
    {
     "data": {
      "text/plain": [
       "Index(['ID', 'DealType', 'Canton', 'ZipCode', 'City', 'PublishedDate',\n",
       "       'AvailableDate', 'PriceText', 'LangDetected', 'NumRooms', 'Floor',\n",
       "       'YearOfConstruction', 'LivingSpace', 'CoordE', 'CoordN', 'Description',\n",
       "       'PublishedYear', 'PublishedMonth', 'PublishedDay'],\n",
       "      dtype='object')"
      ]
     },
     "execution_count": 237,
     "metadata": {},
     "output_type": "execute_result"
    }
   ],
   "source": [
    "data.columns"
   ]
  },
  {
   "cell_type": "code",
   "execution_count": 238,
   "id": "548b5c04",
   "metadata": {
    "execution": {
     "iopub.execute_input": "2022-04-11T20:32:45.327868Z",
     "iopub.status.busy": "2022-04-11T20:32:45.327175Z",
     "iopub.status.idle": "2022-04-11T20:32:45.331049Z",
     "shell.execute_reply": "2022-04-11T20:32:45.331610Z",
     "shell.execute_reply.started": "2022-04-11T19:32:51.384367Z"
    },
    "papermill": {
     "duration": 0.385267,
     "end_time": "2022-04-11T20:32:45.331785",
     "exception": false,
     "start_time": "2022-04-11T20:32:44.946518",
     "status": "completed"
    },
    "tags": []
   },
   "outputs": [],
   "source": [
    "drop_cols = ['ID','AvailableDate', 'Description', 'PublishedDate']"
   ]
  },
  {
   "cell_type": "code",
   "execution_count": 239,
   "id": "e628df83",
   "metadata": {
    "execution": {
     "iopub.execute_input": "2022-04-11T20:32:46.108531Z",
     "iopub.status.busy": "2022-04-11T20:32:46.107430Z",
     "iopub.status.idle": "2022-04-11T20:32:46.125565Z",
     "shell.execute_reply": "2022-04-11T20:32:46.124919Z",
     "shell.execute_reply.started": "2022-04-11T19:32:51.395098Z"
    },
    "papermill": {
     "duration": 0.409879,
     "end_time": "2022-04-11T20:32:46.125715",
     "exception": false,
     "start_time": "2022-04-11T20:32:45.715836",
     "status": "completed"
    },
    "tags": []
   },
   "outputs": [
    {
     "data": {
      "text/html": [
       "<div>\n",
       "<style scoped>\n",
       "    .dataframe tbody tr th:only-of-type {\n",
       "        vertical-align: middle;\n",
       "    }\n",
       "\n",
       "    .dataframe tbody tr th {\n",
       "        vertical-align: top;\n",
       "    }\n",
       "\n",
       "    .dataframe thead th {\n",
       "        text-align: right;\n",
       "    }\n",
       "</style>\n",
       "<table border=\"1\" class=\"dataframe\">\n",
       "  <thead>\n",
       "    <tr style=\"text-align: right;\">\n",
       "      <th></th>\n",
       "      <th>ID</th>\n",
       "      <th>DealType</th>\n",
       "      <th>Canton</th>\n",
       "      <th>ZipCode</th>\n",
       "      <th>City</th>\n",
       "      <th>PublishedDate</th>\n",
       "      <th>AvailableDate</th>\n",
       "      <th>PriceText</th>\n",
       "      <th>LangDetected</th>\n",
       "      <th>NumRooms</th>\n",
       "      <th>Floor</th>\n",
       "      <th>YearOfConstruction</th>\n",
       "      <th>LivingSpace</th>\n",
       "      <th>CoordE</th>\n",
       "      <th>CoordN</th>\n",
       "      <th>Description</th>\n",
       "      <th>PublishedYear</th>\n",
       "      <th>PublishedMonth</th>\n",
       "      <th>PublishedDay</th>\n",
       "    </tr>\n",
       "  </thead>\n",
       "  <tbody>\n",
       "    <tr>\n",
       "      <th>0</th>\n",
       "      <td>A100005</td>\n",
       "      <td>0</td>\n",
       "      <td>VD</td>\n",
       "      <td>1053.00000</td>\n",
       "      <td>316209.83619</td>\n",
       "      <td>2021-01-20</td>\n",
       "      <td>sofort</td>\n",
       "      <td>800.00000</td>\n",
       "      <td>fr</td>\n",
       "      <td>1.00000</td>\n",
       "      <td>not available</td>\n",
       "      <td>0</td>\n",
       "      <td>0</td>\n",
       "      <td>6.64002</td>\n",
       "      <td>46.58997</td>\n",
       "      <td>A louer local plein pied de 100m2 facile d'acc...</td>\n",
       "      <td>2021</td>\n",
       "      <td>1</td>\n",
       "      <td>20</td>\n",
       "    </tr>\n",
       "    <tr>\n",
       "      <th>1</th>\n",
       "      <td>A100024</td>\n",
       "      <td>0</td>\n",
       "      <td>ZH</td>\n",
       "      <td>8162.00000</td>\n",
       "      <td>211742.72396</td>\n",
       "      <td>2020-10-04</td>\n",
       "      <td>sofort</td>\n",
       "      <td>850.00000</td>\n",
       "      <td>de</td>\n",
       "      <td>1.00000</td>\n",
       "      <td>Stock</td>\n",
       "      <td>0</td>\n",
       "      <td>0</td>\n",
       "      <td>8.45490</td>\n",
       "      <td>47.50012</td>\n",
       "      <td>in Steinmaur vermieten wir verschiedene möblie...</td>\n",
       "      <td>2020</td>\n",
       "      <td>10</td>\n",
       "      <td>4</td>\n",
       "    </tr>\n",
       "    <tr>\n",
       "      <th>2</th>\n",
       "      <td>A10003</td>\n",
       "      <td>0</td>\n",
       "      <td>VD</td>\n",
       "      <td>1041.00000</td>\n",
       "      <td>133013.46512</td>\n",
       "      <td>2020-12-11</td>\n",
       "      <td>not available</td>\n",
       "      <td>1595.00000</td>\n",
       "      <td>fr</td>\n",
       "      <td>3.00000</td>\n",
       "      <td>Stock</td>\n",
       "      <td>0</td>\n",
       "      <td>0</td>\n",
       "      <td>6.66426</td>\n",
       "      <td>46.61502</td>\n",
       "      <td>Situé au 1er étage dans un immeuble de la camp...</td>\n",
       "      <td>2020</td>\n",
       "      <td>12</td>\n",
       "      <td>11</td>\n",
       "    </tr>\n",
       "    <tr>\n",
       "      <th>3</th>\n",
       "      <td>A100031</td>\n",
       "      <td>0</td>\n",
       "      <td>ZH</td>\n",
       "      <td>8001.00000</td>\n",
       "      <td>84965.45703</td>\n",
       "      <td>2020-11-19</td>\n",
       "      <td>not available</td>\n",
       "      <td>1525.00000</td>\n",
       "      <td>de</td>\n",
       "      <td>1.00000</td>\n",
       "      <td>Stock</td>\n",
       "      <td>0</td>\n",
       "      <td>0</td>\n",
       "      <td>8.54439</td>\n",
       "      <td>47.36868</td>\n",
       "      <td>Suchen Sie einen neuen Arbeitsort an renommier...</td>\n",
       "      <td>2020</td>\n",
       "      <td>11</td>\n",
       "      <td>19</td>\n",
       "    </tr>\n",
       "    <tr>\n",
       "      <th>4</th>\n",
       "      <td>A100033</td>\n",
       "      <td>0</td>\n",
       "      <td>BE</td>\n",
       "      <td>2607.00000</td>\n",
       "      <td>376576.00000</td>\n",
       "      <td>2020-12-14</td>\n",
       "      <td>nach Vereinbarung</td>\n",
       "      <td>1250.00000</td>\n",
       "      <td>fr</td>\n",
       "      <td>3.50000</td>\n",
       "      <td>not available</td>\n",
       "      <td>0</td>\n",
       "      <td>0</td>\n",
       "      <td>7.10679</td>\n",
       "      <td>47.19046</td>\n",
       "      <td>Magnifique appart. de 3.5 pièces - cuisine age...</td>\n",
       "      <td>2020</td>\n",
       "      <td>12</td>\n",
       "      <td>14</td>\n",
       "    </tr>\n",
       "  </tbody>\n",
       "</table>\n",
       "</div>"
      ],
      "text/plain": [
       "        ID  DealType Canton    ZipCode         City PublishedDate  \\\n",
       "0  A100005         0     VD 1053.00000 316209.83619    2021-01-20   \n",
       "1  A100024         0     ZH 8162.00000 211742.72396    2020-10-04   \n",
       "2   A10003         0     VD 1041.00000 133013.46512    2020-12-11   \n",
       "3  A100031         0     ZH 8001.00000  84965.45703    2020-11-19   \n",
       "4  A100033         0     BE 2607.00000 376576.00000    2020-12-14   \n",
       "\n",
       "       AvailableDate  PriceText LangDetected  NumRooms          Floor  \\\n",
       "0             sofort  800.00000           fr   1.00000  not available   \n",
       "1             sofort  850.00000           de   1.00000          Stock   \n",
       "2      not available 1595.00000           fr   3.00000          Stock   \n",
       "3      not available 1525.00000           de   1.00000          Stock   \n",
       "4  nach Vereinbarung 1250.00000           fr   3.50000  not available   \n",
       "\n",
       "   YearOfConstruction  LivingSpace  CoordE   CoordN  \\\n",
       "0                   0            0 6.64002 46.58997   \n",
       "1                   0            0 8.45490 47.50012   \n",
       "2                   0            0 6.66426 46.61502   \n",
       "3                   0            0 8.54439 47.36868   \n",
       "4                   0            0 7.10679 47.19046   \n",
       "\n",
       "                                         Description  PublishedYear  \\\n",
       "0  A louer local plein pied de 100m2 facile d'acc...           2021   \n",
       "1  in Steinmaur vermieten wir verschiedene möblie...           2020   \n",
       "2  Situé au 1er étage dans un immeuble de la camp...           2020   \n",
       "3  Suchen Sie einen neuen Arbeitsort an renommier...           2020   \n",
       "4  Magnifique appart. de 3.5 pièces - cuisine age...           2020   \n",
       "\n",
       "   PublishedMonth  PublishedDay  \n",
       "0               1            20  \n",
       "1              10             4  \n",
       "2              12            11  \n",
       "3              11            19  \n",
       "4              12            14  "
      ]
     },
     "execution_count": 239,
     "metadata": {},
     "output_type": "execute_result"
    }
   ],
   "source": [
    "data.head()"
   ]
  },
  {
   "cell_type": "code",
   "execution_count": 240,
   "id": "8389852b",
   "metadata": {
    "execution": {
     "iopub.execute_input": "2022-04-11T20:32:46.900109Z",
     "iopub.status.busy": "2022-04-11T20:32:46.899461Z",
     "iopub.status.idle": "2022-04-11T20:32:46.911333Z",
     "shell.execute_reply": "2022-04-11T20:32:46.911882Z",
     "shell.execute_reply.started": "2022-04-11T19:32:51.426112Z"
    },
    "papermill": {
     "duration": 0.402064,
     "end_time": "2022-04-11T20:32:46.912058",
     "exception": false,
     "start_time": "2022-04-11T20:32:46.509994",
     "status": "completed"
    },
    "tags": []
   },
   "outputs": [],
   "source": [
    "d = data.copy()"
   ]
  },
  {
   "cell_type": "code",
   "execution_count": 241,
   "id": "cebd4cda",
   "metadata": {
    "execution": {
     "iopub.execute_input": "2022-04-11T20:32:47.686621Z",
     "iopub.status.busy": "2022-04-11T20:32:47.685870Z",
     "iopub.status.idle": "2022-04-11T20:32:47.758572Z",
     "shell.execute_reply": "2022-04-11T20:32:47.759123Z",
     "shell.execute_reply.started": "2022-04-11T19:32:51.447489Z"
    },
    "papermill": {
     "duration": 0.460847,
     "end_time": "2022-04-11T20:32:47.759316",
     "exception": false,
     "start_time": "2022-04-11T20:32:47.298469",
     "status": "completed"
    },
    "tags": []
   },
   "outputs": [],
   "source": [
    "data = pd.get_dummies(data = data,columns = obj_col, drop_first = True)"
   ]
  },
  {
   "cell_type": "code",
   "execution_count": 242,
   "id": "64a182ae",
   "metadata": {
    "execution": {
     "iopub.execute_input": "2022-04-11T20:32:48.531698Z",
     "iopub.status.busy": "2022-04-11T20:32:48.530802Z",
     "iopub.status.idle": "2022-04-11T20:32:48.552862Z",
     "shell.execute_reply": "2022-04-11T20:32:48.553351Z",
     "shell.execute_reply.started": "2022-04-11T19:32:51.515459Z"
    },
    "papermill": {
     "duration": 0.406791,
     "end_time": "2022-04-11T20:32:48.553552",
     "exception": false,
     "start_time": "2022-04-11T20:32:48.146761",
     "status": "completed"
    },
    "tags": []
   },
   "outputs": [
    {
     "data": {
      "text/html": [
       "<div>\n",
       "<style scoped>\n",
       "    .dataframe tbody tr th:only-of-type {\n",
       "        vertical-align: middle;\n",
       "    }\n",
       "\n",
       "    .dataframe tbody tr th {\n",
       "        vertical-align: top;\n",
       "    }\n",
       "\n",
       "    .dataframe thead th {\n",
       "        text-align: right;\n",
       "    }\n",
       "</style>\n",
       "<table border=\"1\" class=\"dataframe\">\n",
       "  <thead>\n",
       "    <tr style=\"text-align: right;\">\n",
       "      <th></th>\n",
       "      <th>ID</th>\n",
       "      <th>DealType</th>\n",
       "      <th>ZipCode</th>\n",
       "      <th>City</th>\n",
       "      <th>PublishedDate</th>\n",
       "      <th>AvailableDate</th>\n",
       "      <th>PriceText</th>\n",
       "      <th>NumRooms</th>\n",
       "      <th>YearOfConstruction</th>\n",
       "      <th>LivingSpace</th>\n",
       "      <th>CoordE</th>\n",
       "      <th>CoordN</th>\n",
       "      <th>Description</th>\n",
       "      <th>PublishedYear</th>\n",
       "      <th>PublishedMonth</th>\n",
       "      <th>PublishedDay</th>\n",
       "      <th>LangDetected_en</th>\n",
       "      <th>LangDetected_fr</th>\n",
       "      <th>LangDetected_it</th>\n",
       "      <th>Canton_FR</th>\n",
       "      <th>Canton_JU</th>\n",
       "      <th>Canton_LU</th>\n",
       "      <th>Canton_TI</th>\n",
       "      <th>Canton_VD</th>\n",
       "      <th>Canton_ZH</th>\n",
       "      <th>Floor_Stock</th>\n",
       "      <th>Floor_basement</th>\n",
       "      <th>Floor_floor or higher</th>\n",
       "      <th>Floor_ground floor</th>\n",
       "      <th>Floor_not available</th>\n",
       "    </tr>\n",
       "  </thead>\n",
       "  <tbody>\n",
       "    <tr>\n",
       "      <th>0</th>\n",
       "      <td>A100005</td>\n",
       "      <td>0</td>\n",
       "      <td>1053.00000</td>\n",
       "      <td>316209.83619</td>\n",
       "      <td>2021-01-20</td>\n",
       "      <td>sofort</td>\n",
       "      <td>800.00000</td>\n",
       "      <td>1.00000</td>\n",
       "      <td>0</td>\n",
       "      <td>0</td>\n",
       "      <td>6.64002</td>\n",
       "      <td>46.58997</td>\n",
       "      <td>A louer local plein pied de 100m2 facile d'acc...</td>\n",
       "      <td>2021</td>\n",
       "      <td>1</td>\n",
       "      <td>20</td>\n",
       "      <td>0</td>\n",
       "      <td>1</td>\n",
       "      <td>0</td>\n",
       "      <td>0</td>\n",
       "      <td>0</td>\n",
       "      <td>0</td>\n",
       "      <td>0</td>\n",
       "      <td>1</td>\n",
       "      <td>0</td>\n",
       "      <td>0</td>\n",
       "      <td>0</td>\n",
       "      <td>0</td>\n",
       "      <td>0</td>\n",
       "      <td>1</td>\n",
       "    </tr>\n",
       "    <tr>\n",
       "      <th>1</th>\n",
       "      <td>A100024</td>\n",
       "      <td>0</td>\n",
       "      <td>8162.00000</td>\n",
       "      <td>211742.72396</td>\n",
       "      <td>2020-10-04</td>\n",
       "      <td>sofort</td>\n",
       "      <td>850.00000</td>\n",
       "      <td>1.00000</td>\n",
       "      <td>0</td>\n",
       "      <td>0</td>\n",
       "      <td>8.45490</td>\n",
       "      <td>47.50012</td>\n",
       "      <td>in Steinmaur vermieten wir verschiedene möblie...</td>\n",
       "      <td>2020</td>\n",
       "      <td>10</td>\n",
       "      <td>4</td>\n",
       "      <td>0</td>\n",
       "      <td>0</td>\n",
       "      <td>0</td>\n",
       "      <td>0</td>\n",
       "      <td>0</td>\n",
       "      <td>0</td>\n",
       "      <td>0</td>\n",
       "      <td>0</td>\n",
       "      <td>1</td>\n",
       "      <td>1</td>\n",
       "      <td>0</td>\n",
       "      <td>0</td>\n",
       "      <td>0</td>\n",
       "      <td>0</td>\n",
       "    </tr>\n",
       "    <tr>\n",
       "      <th>2</th>\n",
       "      <td>A10003</td>\n",
       "      <td>0</td>\n",
       "      <td>1041.00000</td>\n",
       "      <td>133013.46512</td>\n",
       "      <td>2020-12-11</td>\n",
       "      <td>not available</td>\n",
       "      <td>1595.00000</td>\n",
       "      <td>3.00000</td>\n",
       "      <td>0</td>\n",
       "      <td>0</td>\n",
       "      <td>6.66426</td>\n",
       "      <td>46.61502</td>\n",
       "      <td>Situé au 1er étage dans un immeuble de la camp...</td>\n",
       "      <td>2020</td>\n",
       "      <td>12</td>\n",
       "      <td>11</td>\n",
       "      <td>0</td>\n",
       "      <td>1</td>\n",
       "      <td>0</td>\n",
       "      <td>0</td>\n",
       "      <td>0</td>\n",
       "      <td>0</td>\n",
       "      <td>0</td>\n",
       "      <td>1</td>\n",
       "      <td>0</td>\n",
       "      <td>1</td>\n",
       "      <td>0</td>\n",
       "      <td>0</td>\n",
       "      <td>0</td>\n",
       "      <td>0</td>\n",
       "    </tr>\n",
       "    <tr>\n",
       "      <th>3</th>\n",
       "      <td>A100031</td>\n",
       "      <td>0</td>\n",
       "      <td>8001.00000</td>\n",
       "      <td>84965.45703</td>\n",
       "      <td>2020-11-19</td>\n",
       "      <td>not available</td>\n",
       "      <td>1525.00000</td>\n",
       "      <td>1.00000</td>\n",
       "      <td>0</td>\n",
       "      <td>0</td>\n",
       "      <td>8.54439</td>\n",
       "      <td>47.36868</td>\n",
       "      <td>Suchen Sie einen neuen Arbeitsort an renommier...</td>\n",
       "      <td>2020</td>\n",
       "      <td>11</td>\n",
       "      <td>19</td>\n",
       "      <td>0</td>\n",
       "      <td>0</td>\n",
       "      <td>0</td>\n",
       "      <td>0</td>\n",
       "      <td>0</td>\n",
       "      <td>0</td>\n",
       "      <td>0</td>\n",
       "      <td>0</td>\n",
       "      <td>1</td>\n",
       "      <td>1</td>\n",
       "      <td>0</td>\n",
       "      <td>0</td>\n",
       "      <td>0</td>\n",
       "      <td>0</td>\n",
       "    </tr>\n",
       "    <tr>\n",
       "      <th>4</th>\n",
       "      <td>A100033</td>\n",
       "      <td>0</td>\n",
       "      <td>2607.00000</td>\n",
       "      <td>376576.00000</td>\n",
       "      <td>2020-12-14</td>\n",
       "      <td>nach Vereinbarung</td>\n",
       "      <td>1250.00000</td>\n",
       "      <td>3.50000</td>\n",
       "      <td>0</td>\n",
       "      <td>0</td>\n",
       "      <td>7.10679</td>\n",
       "      <td>47.19046</td>\n",
       "      <td>Magnifique appart. de 3.5 pièces - cuisine age...</td>\n",
       "      <td>2020</td>\n",
       "      <td>12</td>\n",
       "      <td>14</td>\n",
       "      <td>0</td>\n",
       "      <td>1</td>\n",
       "      <td>0</td>\n",
       "      <td>0</td>\n",
       "      <td>0</td>\n",
       "      <td>0</td>\n",
       "      <td>0</td>\n",
       "      <td>0</td>\n",
       "      <td>0</td>\n",
       "      <td>0</td>\n",
       "      <td>0</td>\n",
       "      <td>0</td>\n",
       "      <td>0</td>\n",
       "      <td>1</td>\n",
       "    </tr>\n",
       "  </tbody>\n",
       "</table>\n",
       "</div>"
      ],
      "text/plain": [
       "        ID  DealType    ZipCode         City PublishedDate      AvailableDate  \\\n",
       "0  A100005         0 1053.00000 316209.83619    2021-01-20             sofort   \n",
       "1  A100024         0 8162.00000 211742.72396    2020-10-04             sofort   \n",
       "2   A10003         0 1041.00000 133013.46512    2020-12-11      not available   \n",
       "3  A100031         0 8001.00000  84965.45703    2020-11-19      not available   \n",
       "4  A100033         0 2607.00000 376576.00000    2020-12-14  nach Vereinbarung   \n",
       "\n",
       "   PriceText  NumRooms  YearOfConstruction  LivingSpace  CoordE   CoordN  \\\n",
       "0  800.00000   1.00000                   0            0 6.64002 46.58997   \n",
       "1  850.00000   1.00000                   0            0 8.45490 47.50012   \n",
       "2 1595.00000   3.00000                   0            0 6.66426 46.61502   \n",
       "3 1525.00000   1.00000                   0            0 8.54439 47.36868   \n",
       "4 1250.00000   3.50000                   0            0 7.10679 47.19046   \n",
       "\n",
       "                                         Description  PublishedYear  \\\n",
       "0  A louer local plein pied de 100m2 facile d'acc...           2021   \n",
       "1  in Steinmaur vermieten wir verschiedene möblie...           2020   \n",
       "2  Situé au 1er étage dans un immeuble de la camp...           2020   \n",
       "3  Suchen Sie einen neuen Arbeitsort an renommier...           2020   \n",
       "4  Magnifique appart. de 3.5 pièces - cuisine age...           2020   \n",
       "\n",
       "   PublishedMonth  PublishedDay  LangDetected_en  LangDetected_fr  \\\n",
       "0               1            20                0                1   \n",
       "1              10             4                0                0   \n",
       "2              12            11                0                1   \n",
       "3              11            19                0                0   \n",
       "4              12            14                0                1   \n",
       "\n",
       "   LangDetected_it  Canton_FR  Canton_JU  Canton_LU  Canton_TI  Canton_VD  \\\n",
       "0                0          0          0          0          0          1   \n",
       "1                0          0          0          0          0          0   \n",
       "2                0          0          0          0          0          1   \n",
       "3                0          0          0          0          0          0   \n",
       "4                0          0          0          0          0          0   \n",
       "\n",
       "   Canton_ZH  Floor_Stock  Floor_basement  Floor_floor or higher  \\\n",
       "0          0            0               0                      0   \n",
       "1          1            1               0                      0   \n",
       "2          0            1               0                      0   \n",
       "3          1            1               0                      0   \n",
       "4          0            0               0                      0   \n",
       "\n",
       "   Floor_ground floor  Floor_not available  \n",
       "0                   0                    1  \n",
       "1                   0                    0  \n",
       "2                   0                    0  \n",
       "3                   0                    0  \n",
       "4                   0                    1  "
      ]
     },
     "execution_count": 242,
     "metadata": {},
     "output_type": "execute_result"
    }
   ],
   "source": [
    "data.head()"
   ]
  },
  {
   "cell_type": "code",
   "execution_count": 243,
   "id": "a46999cd",
   "metadata": {
    "execution": {
     "iopub.execute_input": "2022-04-11T20:32:49.327741Z",
     "iopub.status.busy": "2022-04-11T20:32:49.326994Z",
     "iopub.status.idle": "2022-04-11T20:32:49.329614Z",
     "shell.execute_reply": "2022-04-11T20:32:49.330076Z",
     "shell.execute_reply.started": "2022-04-11T19:32:51.536955Z"
    },
    "papermill": {
     "duration": 0.391846,
     "end_time": "2022-04-11T20:32:49.330253",
     "exception": false,
     "start_time": "2022-04-11T20:32:48.938407",
     "status": "completed"
    },
    "tags": []
   },
   "outputs": [],
   "source": [
    "#Remember this for some visualization\n",
    "#count_plot = sns.catplot(x=\"adNumApartments.1\", kind=\"count\" ,data=data, hue=\"DealType\")\n",
    "#plt.hist(data['adNumApartments.1'])\n",
    "#plt.show()"
   ]
  },
  {
   "cell_type": "code",
   "execution_count": 244,
   "id": "1aaafa6c",
   "metadata": {
    "execution": {
     "iopub.execute_input": "2022-04-11T20:32:50.110307Z",
     "iopub.status.busy": "2022-04-11T20:32:50.109578Z",
     "iopub.status.idle": "2022-04-11T20:32:50.169786Z",
     "shell.execute_reply": "2022-04-11T20:32:50.170293Z",
     "shell.execute_reply.started": "2022-04-11T19:32:51.561836Z"
    },
    "papermill": {
     "duration": 0.452487,
     "end_time": "2022-04-11T20:32:50.170485",
     "exception": false,
     "start_time": "2022-04-11T20:32:49.717998",
     "status": "completed"
    },
    "tags": []
   },
   "outputs": [
    {
     "data": {
      "text/plain": [
       "ID                       0\n",
       "DealType                 0\n",
       "ZipCode                  0\n",
       "City                     0\n",
       "PublishedDate            0\n",
       "AvailableDate            0\n",
       "PriceText                0\n",
       "NumRooms                 0\n",
       "YearOfConstruction       0\n",
       "LivingSpace              0\n",
       "CoordE                   0\n",
       "CoordN                   0\n",
       "Description              1\n",
       "PublishedYear            0\n",
       "PublishedMonth           0\n",
       "PublishedDay             0\n",
       "LangDetected_en          0\n",
       "LangDetected_fr          0\n",
       "LangDetected_it          0\n",
       "Canton_FR                0\n",
       "Canton_JU                0\n",
       "Canton_LU                0\n",
       "Canton_TI                0\n",
       "Canton_VD                0\n",
       "Canton_ZH                0\n",
       "Floor_Stock              0\n",
       "Floor_basement           0\n",
       "Floor_floor or higher    0\n",
       "Floor_ground floor       0\n",
       "Floor_not available      0\n",
       "dtype: int64"
      ]
     },
     "execution_count": 244,
     "metadata": {},
     "output_type": "execute_result"
    }
   ],
   "source": [
    "data.isnull().sum()"
   ]
  },
  {
   "cell_type": "code",
   "execution_count": 245,
   "id": "45968615",
   "metadata": {
    "execution": {
     "iopub.execute_input": "2022-04-11T20:32:50.963791Z",
     "iopub.status.busy": "2022-04-11T20:32:50.961984Z",
     "iopub.status.idle": "2022-04-11T20:32:50.992944Z",
     "shell.execute_reply": "2022-04-11T20:32:50.992217Z",
     "shell.execute_reply.started": "2022-04-11T19:32:51.609153Z"
    },
    "papermill": {
     "duration": 0.419058,
     "end_time": "2022-04-11T20:32:50.993090",
     "exception": false,
     "start_time": "2022-04-11T20:32:50.574032",
     "status": "completed"
    },
    "tags": []
   },
   "outputs": [],
   "source": [
    "data = data.drop(columns = drop_cols, axis = 1)"
   ]
  },
  {
   "cell_type": "code",
   "execution_count": 246,
   "id": "383b50a0",
   "metadata": {
    "execution": {
     "iopub.execute_input": "2022-04-11T20:32:51.763190Z",
     "iopub.status.busy": "2022-04-11T20:32:51.762227Z",
     "iopub.status.idle": "2022-04-11T20:32:51.765610Z",
     "shell.execute_reply": "2022-04-11T20:32:51.766097Z",
     "shell.execute_reply.started": "2022-04-11T19:32:51.643151Z"
    },
    "papermill": {
     "duration": 0.392559,
     "end_time": "2022-04-11T20:32:51.766265",
     "exception": false,
     "start_time": "2022-04-11T20:32:51.373706",
     "status": "completed"
    },
    "tags": []
   },
   "outputs": [
    {
     "data": {
      "text/plain": [
       "(105447, 26)"
      ]
     },
     "execution_count": 246,
     "metadata": {},
     "output_type": "execute_result"
    }
   ],
   "source": [
    "data.shape"
   ]
  },
  {
   "cell_type": "code",
   "execution_count": 247,
   "id": "4e198835",
   "metadata": {
    "execution": {
     "iopub.execute_input": "2022-04-11T20:32:52.533786Z",
     "iopub.status.busy": "2022-04-11T20:32:52.533113Z",
     "iopub.status.idle": "2022-04-11T20:32:52.551973Z",
     "shell.execute_reply": "2022-04-11T20:32:52.551366Z",
     "shell.execute_reply.started": "2022-04-11T19:32:51.651607Z"
    },
    "papermill": {
     "duration": 0.405078,
     "end_time": "2022-04-11T20:32:52.552120",
     "exception": false,
     "start_time": "2022-04-11T20:32:52.147042",
     "status": "completed"
    },
    "tags": []
   },
   "outputs": [
    {
     "name": "stdout",
     "output_type": "stream",
     "text": [
      "<class 'pandas.core.frame.DataFrame'>\n",
      "RangeIndex: 105447 entries, 0 to 105446\n",
      "Data columns (total 26 columns):\n",
      " #   Column                 Non-Null Count   Dtype  \n",
      "---  ------                 --------------   -----  \n",
      " 0   DealType               105447 non-null  int64  \n",
      " 1   ZipCode                105447 non-null  float64\n",
      " 2   City                   105447 non-null  float64\n",
      " 3   PriceText              105447 non-null  float64\n",
      " 4   NumRooms               105447 non-null  float64\n",
      " 5   YearOfConstruction     105447 non-null  int64  \n",
      " 6   LivingSpace            105447 non-null  int64  \n",
      " 7   CoordE                 105447 non-null  float64\n",
      " 8   CoordN                 105447 non-null  float64\n",
      " 9   PublishedYear          105447 non-null  int64  \n",
      " 10  PublishedMonth         105447 non-null  int64  \n",
      " 11  PublishedDay           105447 non-null  int64  \n",
      " 12  LangDetected_en        105447 non-null  uint8  \n",
      " 13  LangDetected_fr        105447 non-null  uint8  \n",
      " 14  LangDetected_it        105447 non-null  uint8  \n",
      " 15  Canton_FR              105447 non-null  uint8  \n",
      " 16  Canton_JU              105447 non-null  uint8  \n",
      " 17  Canton_LU              105447 non-null  uint8  \n",
      " 18  Canton_TI              105447 non-null  uint8  \n",
      " 19  Canton_VD              105447 non-null  uint8  \n",
      " 20  Canton_ZH              105447 non-null  uint8  \n",
      " 21  Floor_Stock            105447 non-null  uint8  \n",
      " 22  Floor_basement         105447 non-null  uint8  \n",
      " 23  Floor_floor or higher  105447 non-null  uint8  \n",
      " 24  Floor_ground floor     105447 non-null  uint8  \n",
      " 25  Floor_not available    105447 non-null  uint8  \n",
      "dtypes: float64(6), int64(6), uint8(14)\n",
      "memory usage: 11.1 MB\n"
     ]
    }
   ],
   "source": [
    "data.info()"
   ]
  },
  {
   "cell_type": "code",
   "execution_count": 248,
   "id": "ec55871a",
   "metadata": {
    "execution": {
     "iopub.execute_input": "2022-04-11T20:32:53.332828Z",
     "iopub.status.busy": "2022-04-11T20:32:53.332157Z",
     "iopub.status.idle": "2022-04-11T20:32:53.468379Z",
     "shell.execute_reply": "2022-04-11T20:32:53.468919Z",
     "shell.execute_reply.started": "2022-04-11T19:32:51.679557Z"
    },
    "papermill": {
     "duration": 0.529617,
     "end_time": "2022-04-11T20:32:53.469096",
     "exception": false,
     "start_time": "2022-04-11T20:32:52.939479",
     "status": "completed"
    },
    "tags": []
   },
   "outputs": [
    {
     "data": {
      "text/html": [
       "<div>\n",
       "<style scoped>\n",
       "    .dataframe tbody tr th:only-of-type {\n",
       "        vertical-align: middle;\n",
       "    }\n",
       "\n",
       "    .dataframe tbody tr th {\n",
       "        vertical-align: top;\n",
       "    }\n",
       "\n",
       "    .dataframe thead th {\n",
       "        text-align: right;\n",
       "    }\n",
       "</style>\n",
       "<table border=\"1\" class=\"dataframe\">\n",
       "  <thead>\n",
       "    <tr style=\"text-align: right;\">\n",
       "      <th></th>\n",
       "      <th>DealType</th>\n",
       "      <th>ZipCode</th>\n",
       "      <th>City</th>\n",
       "      <th>PriceText</th>\n",
       "      <th>NumRooms</th>\n",
       "      <th>YearOfConstruction</th>\n",
       "      <th>LivingSpace</th>\n",
       "      <th>CoordE</th>\n",
       "      <th>CoordN</th>\n",
       "      <th>PublishedYear</th>\n",
       "      <th>PublishedMonth</th>\n",
       "      <th>PublishedDay</th>\n",
       "      <th>LangDetected_en</th>\n",
       "      <th>LangDetected_fr</th>\n",
       "      <th>LangDetected_it</th>\n",
       "      <th>Canton_FR</th>\n",
       "      <th>Canton_JU</th>\n",
       "      <th>Canton_LU</th>\n",
       "      <th>Canton_TI</th>\n",
       "      <th>Canton_VD</th>\n",
       "      <th>Canton_ZH</th>\n",
       "      <th>Floor_Stock</th>\n",
       "      <th>Floor_basement</th>\n",
       "      <th>Floor_floor or higher</th>\n",
       "      <th>Floor_ground floor</th>\n",
       "      <th>Floor_not available</th>\n",
       "    </tr>\n",
       "  </thead>\n",
       "  <tbody>\n",
       "    <tr>\n",
       "      <th>count</th>\n",
       "      <td>105447.00000</td>\n",
       "      <td>105447.00000</td>\n",
       "      <td>105447.00000</td>\n",
       "      <td>105447.00000</td>\n",
       "      <td>105447.00000</td>\n",
       "      <td>105447.00000</td>\n",
       "      <td>105447.00000</td>\n",
       "      <td>105447.00000</td>\n",
       "      <td>105447.00000</td>\n",
       "      <td>105447.00000</td>\n",
       "      <td>105447.00000</td>\n",
       "      <td>105447.00000</td>\n",
       "      <td>105447.00000</td>\n",
       "      <td>105447.00000</td>\n",
       "      <td>105447.00000</td>\n",
       "      <td>105447.00000</td>\n",
       "      <td>105447.00000</td>\n",
       "      <td>105447.00000</td>\n",
       "      <td>105447.00000</td>\n",
       "      <td>105447.00000</td>\n",
       "      <td>105447.00000</td>\n",
       "      <td>105447.00000</td>\n",
       "      <td>105447.00000</td>\n",
       "      <td>105447.00000</td>\n",
       "      <td>105447.00000</td>\n",
       "      <td>105447.00000</td>\n",
       "    </tr>\n",
       "    <tr>\n",
       "      <th>mean</th>\n",
       "      <td>0.07151</td>\n",
       "      <td>4647.04966</td>\n",
       "      <td>185659.11921</td>\n",
       "      <td>56852.09120</td>\n",
       "      <td>2.68539</td>\n",
       "      <td>0.00028</td>\n",
       "      <td>5.20951</td>\n",
       "      <td>7.78242</td>\n",
       "      <td>46.89388</td>\n",
       "      <td>2020.87409</td>\n",
       "      <td>6.28410</td>\n",
       "      <td>15.26500</td>\n",
       "      <td>0.03827</td>\n",
       "      <td>0.29728</td>\n",
       "      <td>0.10764</td>\n",
       "      <td>0.07468</td>\n",
       "      <td>0.03054</td>\n",
       "      <td>0.07296</td>\n",
       "      <td>0.11594</td>\n",
       "      <td>0.20763</td>\n",
       "      <td>0.26521</td>\n",
       "      <td>0.37347</td>\n",
       "      <td>0.00595</td>\n",
       "      <td>0.00003</td>\n",
       "      <td>0.09226</td>\n",
       "      <td>0.50291</td>\n",
       "    </tr>\n",
       "    <tr>\n",
       "      <th>std</th>\n",
       "      <td>0.25768</td>\n",
       "      <td>2784.64885</td>\n",
       "      <td>182290.73503</td>\n",
       "      <td>255328.46903</td>\n",
       "      <td>1.71559</td>\n",
       "      <td>0.05431</td>\n",
       "      <td>10.89247</td>\n",
       "      <td>0.83746</td>\n",
       "      <td>0.45451</td>\n",
       "      <td>0.57046</td>\n",
       "      <td>3.58594</td>\n",
       "      <td>8.64283</td>\n",
       "      <td>0.19184</td>\n",
       "      <td>0.45706</td>\n",
       "      <td>0.30992</td>\n",
       "      <td>0.26288</td>\n",
       "      <td>0.17206</td>\n",
       "      <td>0.26007</td>\n",
       "      <td>0.32015</td>\n",
       "      <td>0.40561</td>\n",
       "      <td>0.44145</td>\n",
       "      <td>0.48373</td>\n",
       "      <td>0.07688</td>\n",
       "      <td>0.00533</td>\n",
       "      <td>0.28940</td>\n",
       "      <td>0.49999</td>\n",
       "    </tr>\n",
       "    <tr>\n",
       "      <th>min</th>\n",
       "      <td>0.00000</td>\n",
       "      <td>1000.00000</td>\n",
       "      <td>796.44212</td>\n",
       "      <td>1.00000</td>\n",
       "      <td>0.00000</td>\n",
       "      <td>0.00000</td>\n",
       "      <td>0.00000</td>\n",
       "      <td>6.07510</td>\n",
       "      <td>45.82494</td>\n",
       "      <td>2011.00000</td>\n",
       "      <td>1.00000</td>\n",
       "      <td>1.00000</td>\n",
       "      <td>0.00000</td>\n",
       "      <td>0.00000</td>\n",
       "      <td>0.00000</td>\n",
       "      <td>0.00000</td>\n",
       "      <td>0.00000</td>\n",
       "      <td>0.00000</td>\n",
       "      <td>0.00000</td>\n",
       "      <td>0.00000</td>\n",
       "      <td>0.00000</td>\n",
       "      <td>0.00000</td>\n",
       "      <td>0.00000</td>\n",
       "      <td>0.00000</td>\n",
       "      <td>0.00000</td>\n",
       "      <td>0.00000</td>\n",
       "    </tr>\n",
       "    <tr>\n",
       "      <th>25%</th>\n",
       "      <td>0.00000</td>\n",
       "      <td>1816.00000</td>\n",
       "      <td>83826.96041</td>\n",
       "      <td>900.00000</td>\n",
       "      <td>1.00000</td>\n",
       "      <td>0.00000</td>\n",
       "      <td>0.00000</td>\n",
       "      <td>7.07657</td>\n",
       "      <td>46.53170</td>\n",
       "      <td>2021.00000</td>\n",
       "      <td>3.00000</td>\n",
       "      <td>8.00000</td>\n",
       "      <td>0.00000</td>\n",
       "      <td>0.00000</td>\n",
       "      <td>0.00000</td>\n",
       "      <td>0.00000</td>\n",
       "      <td>0.00000</td>\n",
       "      <td>0.00000</td>\n",
       "      <td>0.00000</td>\n",
       "      <td>0.00000</td>\n",
       "      <td>0.00000</td>\n",
       "      <td>0.00000</td>\n",
       "      <td>0.00000</td>\n",
       "      <td>0.00000</td>\n",
       "      <td>0.00000</td>\n",
       "      <td>0.00000</td>\n",
       "    </tr>\n",
       "    <tr>\n",
       "      <th>50%</th>\n",
       "      <td>0.00000</td>\n",
       "      <td>3512.00000</td>\n",
       "      <td>86273.12012</td>\n",
       "      <td>1300.00000</td>\n",
       "      <td>2.50000</td>\n",
       "      <td>0.00000</td>\n",
       "      <td>0.00000</td>\n",
       "      <td>7.62212</td>\n",
       "      <td>46.95390</td>\n",
       "      <td>2021.00000</td>\n",
       "      <td>6.00000</td>\n",
       "      <td>15.00000</td>\n",
       "      <td>0.00000</td>\n",
       "      <td>0.00000</td>\n",
       "      <td>0.00000</td>\n",
       "      <td>0.00000</td>\n",
       "      <td>0.00000</td>\n",
       "      <td>0.00000</td>\n",
       "      <td>0.00000</td>\n",
       "      <td>0.00000</td>\n",
       "      <td>0.00000</td>\n",
       "      <td>0.00000</td>\n",
       "      <td>0.00000</td>\n",
       "      <td>0.00000</td>\n",
       "      <td>0.00000</td>\n",
       "      <td>1.00000</td>\n",
       "    </tr>\n",
       "    <tr>\n",
       "      <th>75%</th>\n",
       "      <td>0.00000</td>\n",
       "      <td>8003.00000</td>\n",
       "      <td>247475.31181</td>\n",
       "      <td>1760.00000</td>\n",
       "      <td>3.50000</td>\n",
       "      <td>0.00000</td>\n",
       "      <td>0.00000</td>\n",
       "      <td>8.54690</td>\n",
       "      <td>47.34041</td>\n",
       "      <td>2021.00000</td>\n",
       "      <td>9.00000</td>\n",
       "      <td>23.00000</td>\n",
       "      <td>0.00000</td>\n",
       "      <td>1.00000</td>\n",
       "      <td>0.00000</td>\n",
       "      <td>0.00000</td>\n",
       "      <td>0.00000</td>\n",
       "      <td>0.00000</td>\n",
       "      <td>0.00000</td>\n",
       "      <td>0.00000</td>\n",
       "      <td>1.00000</td>\n",
       "      <td>1.00000</td>\n",
       "      <td>0.00000</td>\n",
       "      <td>0.00000</td>\n",
       "      <td>0.00000</td>\n",
       "      <td>1.00000</td>\n",
       "    </tr>\n",
       "    <tr>\n",
       "      <th>max</th>\n",
       "      <td>1.00000</td>\n",
       "      <td>8955.00000</td>\n",
       "      <td>1672326.08656</td>\n",
       "      <td>2760000.00000</td>\n",
       "      <td>31.00000</td>\n",
       "      <td>16.00000</td>\n",
       "      <td>39.00000</td>\n",
       "      <td>9.08670</td>\n",
       "      <td>47.69464</td>\n",
       "      <td>2022.00000</td>\n",
       "      <td>12.00000</td>\n",
       "      <td>31.00000</td>\n",
       "      <td>1.00000</td>\n",
       "      <td>1.00000</td>\n",
       "      <td>1.00000</td>\n",
       "      <td>1.00000</td>\n",
       "      <td>1.00000</td>\n",
       "      <td>1.00000</td>\n",
       "      <td>1.00000</td>\n",
       "      <td>1.00000</td>\n",
       "      <td>1.00000</td>\n",
       "      <td>1.00000</td>\n",
       "      <td>1.00000</td>\n",
       "      <td>1.00000</td>\n",
       "      <td>1.00000</td>\n",
       "      <td>1.00000</td>\n",
       "    </tr>\n",
       "  </tbody>\n",
       "</table>\n",
       "</div>"
      ],
      "text/plain": [
       "          DealType      ZipCode          City     PriceText     NumRooms  \\\n",
       "count 105447.00000 105447.00000  105447.00000  105447.00000 105447.00000   \n",
       "mean       0.07151   4647.04966  185659.11921   56852.09120      2.68539   \n",
       "std        0.25768   2784.64885  182290.73503  255328.46903      1.71559   \n",
       "min        0.00000   1000.00000     796.44212       1.00000      0.00000   \n",
       "25%        0.00000   1816.00000   83826.96041     900.00000      1.00000   \n",
       "50%        0.00000   3512.00000   86273.12012    1300.00000      2.50000   \n",
       "75%        0.00000   8003.00000  247475.31181    1760.00000      3.50000   \n",
       "max        1.00000   8955.00000 1672326.08656 2760000.00000     31.00000   \n",
       "\n",
       "       YearOfConstruction  LivingSpace       CoordE       CoordN  \\\n",
       "count        105447.00000 105447.00000 105447.00000 105447.00000   \n",
       "mean              0.00028      5.20951      7.78242     46.89388   \n",
       "std               0.05431     10.89247      0.83746      0.45451   \n",
       "min               0.00000      0.00000      6.07510     45.82494   \n",
       "25%               0.00000      0.00000      7.07657     46.53170   \n",
       "50%               0.00000      0.00000      7.62212     46.95390   \n",
       "75%               0.00000      0.00000      8.54690     47.34041   \n",
       "max              16.00000     39.00000      9.08670     47.69464   \n",
       "\n",
       "       PublishedYear  PublishedMonth  PublishedDay  LangDetected_en  \\\n",
       "count   105447.00000    105447.00000  105447.00000     105447.00000   \n",
       "mean      2020.87409         6.28410      15.26500          0.03827   \n",
       "std          0.57046         3.58594       8.64283          0.19184   \n",
       "min       2011.00000         1.00000       1.00000          0.00000   \n",
       "25%       2021.00000         3.00000       8.00000          0.00000   \n",
       "50%       2021.00000         6.00000      15.00000          0.00000   \n",
       "75%       2021.00000         9.00000      23.00000          0.00000   \n",
       "max       2022.00000        12.00000      31.00000          1.00000   \n",
       "\n",
       "       LangDetected_fr  LangDetected_it    Canton_FR    Canton_JU  \\\n",
       "count     105447.00000     105447.00000 105447.00000 105447.00000   \n",
       "mean           0.29728          0.10764      0.07468      0.03054   \n",
       "std            0.45706          0.30992      0.26288      0.17206   \n",
       "min            0.00000          0.00000      0.00000      0.00000   \n",
       "25%            0.00000          0.00000      0.00000      0.00000   \n",
       "50%            0.00000          0.00000      0.00000      0.00000   \n",
       "75%            1.00000          0.00000      0.00000      0.00000   \n",
       "max            1.00000          1.00000      1.00000      1.00000   \n",
       "\n",
       "         Canton_LU    Canton_TI    Canton_VD    Canton_ZH  Floor_Stock  \\\n",
       "count 105447.00000 105447.00000 105447.00000 105447.00000 105447.00000   \n",
       "mean       0.07296      0.11594      0.20763      0.26521      0.37347   \n",
       "std        0.26007      0.32015      0.40561      0.44145      0.48373   \n",
       "min        0.00000      0.00000      0.00000      0.00000      0.00000   \n",
       "25%        0.00000      0.00000      0.00000      0.00000      0.00000   \n",
       "50%        0.00000      0.00000      0.00000      0.00000      0.00000   \n",
       "75%        0.00000      0.00000      0.00000      1.00000      1.00000   \n",
       "max        1.00000      1.00000      1.00000      1.00000      1.00000   \n",
       "\n",
       "       Floor_basement  Floor_floor or higher  Floor_ground floor  \\\n",
       "count    105447.00000           105447.00000        105447.00000   \n",
       "mean          0.00595                0.00003             0.09226   \n",
       "std           0.07688                0.00533             0.28940   \n",
       "min           0.00000                0.00000             0.00000   \n",
       "25%           0.00000                0.00000             0.00000   \n",
       "50%           0.00000                0.00000             0.00000   \n",
       "75%           0.00000                0.00000             0.00000   \n",
       "max           1.00000                1.00000             1.00000   \n",
       "\n",
       "       Floor_not available  \n",
       "count         105447.00000  \n",
       "mean               0.50291  \n",
       "std                0.49999  \n",
       "min                0.00000  \n",
       "25%                0.00000  \n",
       "50%                1.00000  \n",
       "75%                1.00000  \n",
       "max                1.00000  "
      ]
     },
     "execution_count": 248,
     "metadata": {},
     "output_type": "execute_result"
    }
   ],
   "source": [
    "data.describe()"
   ]
  },
  {
   "cell_type": "markdown",
   "id": "39f5d99a",
   "metadata": {
    "papermill": {
     "duration": 0.389012,
     "end_time": "2022-04-11T20:32:54.241410",
     "exception": false,
     "start_time": "2022-04-11T20:32:53.852398",
     "status": "completed"
    },
    "tags": []
   },
   "source": [
    "# Modelling"
   ]
  },
  {
   "cell_type": "code",
   "execution_count": 249,
   "id": "2f41ab5f",
   "metadata": {
    "execution": {
     "iopub.execute_input": "2022-04-11T20:32:55.019727Z",
     "iopub.status.busy": "2022-04-11T20:32:55.018940Z",
     "iopub.status.idle": "2022-04-11T20:32:55.026600Z",
     "shell.execute_reply": "2022-04-11T20:32:55.027092Z",
     "shell.execute_reply.started": "2022-04-11T19:32:51.813306Z"
    },
    "papermill": {
     "duration": 0.393232,
     "end_time": "2022-04-11T20:32:55.027292",
     "exception": false,
     "start_time": "2022-04-11T20:32:54.634060",
     "status": "completed"
    },
    "tags": []
   },
   "outputs": [],
   "source": [
    "y = data['PriceText']\n",
    "X = data.drop(['PriceText'], axis = 1)"
   ]
  },
  {
   "cell_type": "code",
   "execution_count": 250,
   "id": "c960030a",
   "metadata": {
    "execution": {
     "iopub.execute_input": "2022-04-11T20:32:55.800271Z",
     "iopub.status.busy": "2022-04-11T20:32:55.799591Z",
     "iopub.status.idle": "2022-04-11T20:32:55.905771Z",
     "shell.execute_reply": "2022-04-11T20:32:55.906251Z",
     "shell.execute_reply.started": "2022-04-11T19:32:51.822674Z"
    },
    "papermill": {
     "duration": 0.495705,
     "end_time": "2022-04-11T20:32:55.906468",
     "exception": false,
     "start_time": "2022-04-11T20:32:55.410763",
     "status": "completed"
    },
    "tags": []
   },
   "outputs": [
    {
     "data": {
      "text/plain": [
       "((84357, 25), (84357,), (21090, 25), (21090,))"
      ]
     },
     "execution_count": 250,
     "metadata": {},
     "output_type": "execute_result"
    }
   ],
   "source": [
    "from sklearn.model_selection import train_test_split\n",
    "x_train, x_test, y_train, y_test = train_test_split(X,y, test_size=0.2, random_state=42)\n",
    "x_train.shape, y_train.shape, x_test.shape, y_test.shape"
   ]
  },
  {
   "cell_type": "code",
   "execution_count": 251,
   "id": "aa914330",
   "metadata": {
    "execution": {
     "iopub.execute_input": "2022-04-11T20:32:56.747850Z",
     "iopub.status.busy": "2022-04-11T20:32:56.747144Z",
     "iopub.status.idle": "2022-04-11T20:32:58.353764Z",
     "shell.execute_reply": "2022-04-11T20:32:58.353141Z",
     "shell.execute_reply.started": "2022-04-11T19:32:51.937076Z"
    },
    "papermill": {
     "duration": 2.060277,
     "end_time": "2022-04-11T20:32:58.353923",
     "exception": false,
     "start_time": "2022-04-11T20:32:56.293646",
     "status": "completed"
    },
    "tags": []
   },
   "outputs": [
    {
     "data": {
      "text/html": [
       "<style type='text/css'>\n",
       ".datatable table.frame { margin-bottom: 0; }\n",
       ".datatable table.frame thead { border-bottom: none; }\n",
       ".datatable table.frame tr.coltypes td {  color: #FFFFFF;  line-height: 6px;  padding: 0 0.5em;}\n",
       ".datatable .bool    { background: #DDDD99; }\n",
       ".datatable .object  { background: #565656; }\n",
       ".datatable .int     { background: #5D9E5D; }\n",
       ".datatable .float   { background: #4040CC; }\n",
       ".datatable .str     { background: #CC4040; }\n",
       ".datatable .time    { background: #40CC40; }\n",
       ".datatable .row_index {  background: var(--jp-border-color3);  border-right: 1px solid var(--jp-border-color0);  color: var(--jp-ui-font-color3);  font-size: 9px;}\n",
       ".datatable .frame tbody td { text-align: left; }\n",
       ".datatable .frame tr.coltypes .row_index {  background: var(--jp-border-color0);}\n",
       ".datatable th:nth-child(2) { padding-left: 12px; }\n",
       ".datatable .hellipsis {  color: var(--jp-cell-editor-border-color);}\n",
       ".datatable .vellipsis {  background: var(--jp-layout-color0);  color: var(--jp-cell-editor-border-color);}\n",
       ".datatable .na {  color: var(--jp-cell-editor-border-color);  font-size: 80%;}\n",
       ".datatable .sp {  opacity: 0.25;}\n",
       ".datatable .footer { font-size: 9px; }\n",
       ".datatable .frame_dimensions {  background: var(--jp-border-color3);  border-top: 1px solid var(--jp-border-color0);  color: var(--jp-ui-font-color3);  display: inline-block;  opacity: 0.6;  padding: 1px 10px 1px 5px;}\n",
       "</style>\n"
      ],
      "text/plain": [
       "<IPython.core.display.HTML object>"
      ]
     },
     "metadata": {},
     "output_type": "display_data"
    }
   ],
   "source": [
    "from sklearn.model_selection import KFold, cross_val_score, StratifiedKFold, train_test_split\n",
    "from sklearn.metrics import mean_squared_error, make_scorer\n",
    "from sklearn.linear_model import LinearRegression\n",
    "from sklearn.ensemble import GradientBoostingRegressor, RandomForestRegressor\n",
    "from xgboost import XGBRegressor\n",
    "from lightgbm import LGBMRegressor\n",
    "from catboost import CatBoostRegressor"
   ]
  },
  {
   "cell_type": "code",
   "execution_count": 252,
   "id": "cc6ea4bb",
   "metadata": {
    "execution": {
     "iopub.execute_input": "2022-04-11T20:32:59.154487Z",
     "iopub.status.busy": "2022-04-11T20:32:59.153760Z",
     "iopub.status.idle": "2022-04-11T20:32:59.155954Z",
     "shell.execute_reply": "2022-04-11T20:32:59.156686Z",
     "shell.execute_reply.started": "2022-04-11T19:32:53.467250Z"
    },
    "papermill": {
     "duration": 0.406069,
     "end_time": "2022-04-11T20:32:59.156884",
     "exception": false,
     "start_time": "2022-04-11T20:32:58.750815",
     "status": "completed"
    },
    "tags": []
   },
   "outputs": [],
   "source": [
    "#Initialize the model\n",
    "lr = LinearRegression()\n",
    "gbr = GradientBoostingRegressor()\n",
    "rfr = RandomForestRegressor()\n",
    "xgb = XGBRegressor()\n",
    "ctb = CatBoostRegressor(silent=True)\n",
    "lgb = LGBMRegressor(n_estimators=4000, learning_rate=0.1, subsample=0.3, max_depth=-1, min_child_samples=30, colsample_bytree=1.0)"
   ]
  },
  {
   "cell_type": "code",
   "execution_count": 253,
   "id": "4f43a536",
   "metadata": {
    "execution": {
     "iopub.execute_input": "2022-04-11T20:32:59.945978Z",
     "iopub.status.busy": "2022-04-11T20:32:59.945224Z",
     "iopub.status.idle": "2022-04-11T20:34:44.585392Z",
     "shell.execute_reply": "2022-04-11T20:34:44.586051Z",
     "shell.execute_reply.started": "2022-04-11T19:32:53.478869Z"
    },
    "papermill": {
     "duration": 105.035028,
     "end_time": "2022-04-11T20:34:44.586271",
     "exception": false,
     "start_time": "2022-04-11T20:32:59.551243",
     "status": "completed"
    },
    "tags": []
   },
   "outputs": [
    {
     "data": {
      "text/plain": [
       "LGBMRegressor(min_child_samples=30, n_estimators=4000, subsample=0.3)"
      ]
     },
     "execution_count": 253,
     "metadata": {},
     "output_type": "execute_result"
    }
   ],
   "source": [
    "#train the model\n",
    "lr.fit(x_train, y_train)\n",
    "gbr.fit(x_train, y_train)\n",
    "rfr.fit(x_train, y_train)\n",
    "\n",
    "xgb.fit(x_train, y_train)\n",
    "ctb.fit(x_train, y_train)\n",
    "lgb.fit(x_train, y_train)"
   ]
  },
  {
   "cell_type": "code",
   "execution_count": 254,
   "id": "42c206fa",
   "metadata": {
    "execution": {
     "iopub.execute_input": "2022-04-11T20:34:45.371061Z",
     "iopub.status.busy": "2022-04-11T20:34:45.370281Z",
     "iopub.status.idle": "2022-04-11T20:34:49.244142Z",
     "shell.execute_reply": "2022-04-11T20:34:49.243541Z",
     "shell.execute_reply.started": "2022-04-11T19:34:36.996275Z"
    },
    "papermill": {
     "duration": 4.268692,
     "end_time": "2022-04-11T20:34:49.244289",
     "exception": false,
     "start_time": "2022-04-11T20:34:44.975597",
     "status": "completed"
    },
    "tags": []
   },
   "outputs": [],
   "source": [
    "lr_pred = lr.predict(x_test)\n",
    "gbr_pred = gbr.predict(x_test)\n",
    "rfr_pred = rfr.predict(x_test)\n",
    "xgb_pred = xgb.predict(x_test)\n",
    "ctb_pred = ctb.predict(x_test)\n",
    "lgb_pred = lgb.predict(x_test)"
   ]
  },
  {
   "cell_type": "code",
   "execution_count": 255,
   "id": "03f736f2",
   "metadata": {
    "execution": {
     "iopub.execute_input": "2022-04-11T20:34:50.031566Z",
     "iopub.status.busy": "2022-04-11T20:34:50.030291Z",
     "iopub.status.idle": "2022-04-11T20:34:50.038386Z",
     "shell.execute_reply": "2022-04-11T20:34:50.037554Z",
     "shell.execute_reply.started": "2022-04-11T19:34:41.083521Z"
    },
    "papermill": {
     "duration": 0.404601,
     "end_time": "2022-04-11T20:34:50.038654",
     "exception": false,
     "start_time": "2022-04-11T20:34:49.634053",
     "status": "completed"
    },
    "tags": []
   },
   "outputs": [],
   "source": [
    "lr_rms = np.sqrt(mean_squared_error(y_test, lr_pred))\n",
    "gbr_rms = np.sqrt(mean_squared_error(y_test, gbr_pred))\n",
    "rfr_rms = np.sqrt(mean_squared_error(y_test, rfr_pred))\n",
    "xgb_rms = np.sqrt(mean_squared_error(y_test, xgb_pred))\n",
    "ctb_rms = np.sqrt(mean_squared_error(y_test, ctb_pred))\n",
    "lgb_rms = np.sqrt(mean_squared_error(y_test, lgb_pred))"
   ]
  },
  {
   "cell_type": "code",
   "execution_count": 256,
   "id": "6dd06fda",
   "metadata": {
    "execution": {
     "iopub.execute_input": "2022-04-11T20:34:50.921276Z",
     "iopub.status.busy": "2022-04-11T20:34:50.920536Z",
     "iopub.status.idle": "2022-04-11T20:35:05.931803Z",
     "shell.execute_reply": "2022-04-11T20:35:05.932615Z",
     "shell.execute_reply.started": "2022-04-11T19:34:41.093022Z"
    },
    "papermill": {
     "duration": 15.480217,
     "end_time": "2022-04-11T20:35:05.932826",
     "exception": false,
     "start_time": "2022-04-11T20:34:50.452609",
     "status": "completed"
    },
    "tags": []
   },
   "outputs": [],
   "source": [
    "lr_tr_score = lr.score(x_train, y_train)\n",
    "gbr_tr_score = gbr.score(x_train, y_train)\n",
    "rfr_tr_score = rfr.score(x_train, y_train)\n",
    "xgb_tr_score = xgb.score(x_train, y_train)\n",
    "ctb_tr_score = ctb.score(x_train, y_train)\n",
    "lgb_tr_score = lgb.score(x_train, y_train)"
   ]
  },
  {
   "cell_type": "code",
   "execution_count": 257,
   "id": "3f6e3c1f",
   "metadata": {
    "execution": {
     "iopub.execute_input": "2022-04-11T20:35:06.713922Z",
     "iopub.status.busy": "2022-04-11T20:35:06.713227Z",
     "iopub.status.idle": "2022-04-11T20:35:10.560651Z",
     "shell.execute_reply": "2022-04-11T20:35:10.561213Z",
     "shell.execute_reply.started": "2022-04-11T19:34:56.566134Z"
    },
    "papermill": {
     "duration": 4.24476,
     "end_time": "2022-04-11T20:35:10.561551",
     "exception": false,
     "start_time": "2022-04-11T20:35:06.316791",
     "status": "completed"
    },
    "tags": []
   },
   "outputs": [],
   "source": [
    "lr_te_score = lr.score(x_test, y_test)\n",
    "gbr_te_score = gbr.score(x_test, y_test)\n",
    "rfr_te_score = rfr.score(x_test, y_test)\n",
    "xgb_te_score = xgb.score(x_test, y_test)\n",
    "ctb_te_score = ctb.score(x_test, y_test)\n",
    "lgb_te_score = lgb.score(x_test, y_test)"
   ]
  },
  {
   "cell_type": "code",
   "execution_count": 258,
   "id": "b205dccb",
   "metadata": {
    "execution": {
     "iopub.execute_input": "2022-04-11T20:35:11.346038Z",
     "iopub.status.busy": "2022-04-11T20:35:11.345330Z",
     "iopub.status.idle": "2022-04-11T20:35:11.347956Z",
     "shell.execute_reply": "2022-04-11T20:35:11.347242Z",
     "shell.execute_reply.started": "2022-04-11T19:35:00.476437Z"
    },
    "papermill": {
     "duration": 0.39809,
     "end_time": "2022-04-11T20:35:11.348118",
     "exception": false,
     "start_time": "2022-04-11T20:35:10.950028",
     "status": "completed"
    },
    "tags": []
   },
   "outputs": [],
   "source": [
    "# 'Train Score': [lr_tr_score, gbr_tr_score, rfr_tr_score, xgb_tr_score, ctb_tr_score, lgb_tr_score],\n",
    "# 'Test Score': [lr_te_score, gbr_te_score, rfr_te_score, xgb_te_score, ctb_te_score, lgb_te_score]"
   ]
  },
  {
   "cell_type": "code",
   "execution_count": 259,
   "id": "5d05c2bc",
   "metadata": {
    "execution": {
     "iopub.execute_input": "2022-04-11T20:35:12.133182Z",
     "iopub.status.busy": "2022-04-11T20:35:12.132472Z",
     "iopub.status.idle": "2022-04-11T20:35:12.180839Z",
     "shell.execute_reply": "2022-04-11T20:35:12.181357Z",
     "shell.execute_reply.started": "2022-04-11T19:35:00.482458Z"
    },
    "papermill": {
     "duration": 0.445855,
     "end_time": "2022-04-11T20:35:12.181561",
     "exception": false,
     "start_time": "2022-04-11T20:35:11.735706",
     "status": "completed"
    },
    "tags": []
   },
   "outputs": [
    {
     "data": {
      "text/html": [
       "<div>\n",
       "<style scoped>\n",
       "    .dataframe tbody tr th:only-of-type {\n",
       "        vertical-align: middle;\n",
       "    }\n",
       "\n",
       "    .dataframe tbody tr th {\n",
       "        vertical-align: top;\n",
       "    }\n",
       "\n",
       "    .dataframe thead th {\n",
       "        text-align: right;\n",
       "    }\n",
       "</style>\n",
       "<table border=\"1\" class=\"dataframe\">\n",
       "  <thead>\n",
       "    <tr style=\"text-align: right;\">\n",
       "      <th></th>\n",
       "      <th>Algorithm</th>\n",
       "      <th>RMSE_Score</th>\n",
       "    </tr>\n",
       "  </thead>\n",
       "  <tbody>\n",
       "    <tr>\n",
       "      <th>0</th>\n",
       "      <td>LinearRegression</td>\n",
       "      <td>153821.59620</td>\n",
       "    </tr>\n",
       "    <tr>\n",
       "      <th>1</th>\n",
       "      <td>GradientBoostingRegressor</td>\n",
       "      <td>106661.88941</td>\n",
       "    </tr>\n",
       "    <tr>\n",
       "      <th>2</th>\n",
       "      <td>RandomForestRegressor</td>\n",
       "      <td>73171.15358</td>\n",
       "    </tr>\n",
       "    <tr>\n",
       "      <th>3</th>\n",
       "      <td>XGBoost</td>\n",
       "      <td>78170.74237</td>\n",
       "    </tr>\n",
       "    <tr>\n",
       "      <th>4</th>\n",
       "      <td>CatBoost</td>\n",
       "      <td>78042.94480</td>\n",
       "    </tr>\n",
       "    <tr>\n",
       "      <th>5</th>\n",
       "      <td>LightGBM</td>\n",
       "      <td>72192.92333</td>\n",
       "    </tr>\n",
       "  </tbody>\n",
       "</table>\n",
       "</div>"
      ],
      "text/plain": [
       "                   Algorithm   RMSE_Score\n",
       "0           LinearRegression 153821.59620\n",
       "1  GradientBoostingRegressor 106661.88941\n",
       "2      RandomForestRegressor  73171.15358\n",
       "3                    XGBoost  78170.74237\n",
       "4                   CatBoost  78042.94480\n",
       "5                   LightGBM  72192.92333"
      ]
     },
     "execution_count": 259,
     "metadata": {},
     "output_type": "execute_result"
    }
   ],
   "source": [
    "dict_ = {'Algorithm':['LinearRegression', 'GradientBoostingRegressor', 'RandomForestRegressor', 'XGBoost', 'CatBoost', 'LightGBM'], \n",
    "         'RMSE_Score':[lr_rms, gbr_rms, rfr_rms, xgb_rms, ctb_rms, lgb_rms]}\n",
    "\n",
    "df = pd.DataFrame(dict_, index=[0,1,2,3,4,5])\n",
    "df"
   ]
  },
  {
   "cell_type": "code",
   "execution_count": 260,
   "id": "3fabda82",
   "metadata": {
    "execution": {
     "iopub.execute_input": "2022-04-11T20:35:12.984143Z",
     "iopub.status.busy": "2022-04-11T20:35:12.983499Z",
     "iopub.status.idle": "2022-04-11T20:35:12.986086Z",
     "shell.execute_reply": "2022-04-11T20:35:12.986641Z",
     "shell.execute_reply.started": "2022-04-11T19:35:00.537139Z"
    },
    "papermill": {
     "duration": 0.414002,
     "end_time": "2022-04-11T20:35:12.986819",
     "exception": false,
     "start_time": "2022-04-11T20:35:12.572817",
     "status": "completed"
    },
    "tags": []
   },
   "outputs": [
    {
     "data": {
      "text/html": [
       "<div>\n",
       "<style scoped>\n",
       "    .dataframe tbody tr th:only-of-type {\n",
       "        vertical-align: middle;\n",
       "    }\n",
       "\n",
       "    .dataframe tbody tr th {\n",
       "        vertical-align: top;\n",
       "    }\n",
       "\n",
       "    .dataframe thead th {\n",
       "        text-align: right;\n",
       "    }\n",
       "</style>\n",
       "<table border=\"1\" class=\"dataframe\">\n",
       "  <thead>\n",
       "    <tr style=\"text-align: right;\">\n",
       "      <th></th>\n",
       "      <th>Algorithm</th>\n",
       "      <th>RMSE_Score</th>\n",
       "      <th>Train Score</th>\n",
       "      <th>Test Score</th>\n",
       "    </tr>\n",
       "  </thead>\n",
       "  <tbody>\n",
       "    <tr>\n",
       "      <th>0</th>\n",
       "      <td>LinearRegression</td>\n",
       "      <td>153821.59620</td>\n",
       "      <td>0.64042</td>\n",
       "      <td>0.63311</td>\n",
       "    </tr>\n",
       "    <tr>\n",
       "      <th>1</th>\n",
       "      <td>GradientBoostingRegressor</td>\n",
       "      <td>106661.88941</td>\n",
       "      <td>0.82862</td>\n",
       "      <td>0.82359</td>\n",
       "    </tr>\n",
       "    <tr>\n",
       "      <th>2</th>\n",
       "      <td>RandomForestRegressor</td>\n",
       "      <td>73171.15358</td>\n",
       "      <td>0.98695</td>\n",
       "      <td>0.91698</td>\n",
       "    </tr>\n",
       "    <tr>\n",
       "      <th>3</th>\n",
       "      <td>XGBoost</td>\n",
       "      <td>78170.74237</td>\n",
       "      <td>0.95531</td>\n",
       "      <td>0.90525</td>\n",
       "    </tr>\n",
       "    <tr>\n",
       "      <th>4</th>\n",
       "      <td>CatBoost</td>\n",
       "      <td>78042.94480</td>\n",
       "      <td>0.94385</td>\n",
       "      <td>0.90556</td>\n",
       "    </tr>\n",
       "    <tr>\n",
       "      <th>5</th>\n",
       "      <td>LightGBM</td>\n",
       "      <td>72192.92333</td>\n",
       "      <td>0.99403</td>\n",
       "      <td>0.91918</td>\n",
       "    </tr>\n",
       "  </tbody>\n",
       "</table>\n",
       "</div>"
      ],
      "text/plain": [
       "                   Algorithm   RMSE_Score  Train Score  Test Score\n",
       "0           LinearRegression 153821.59620      0.64042     0.63311\n",
       "1  GradientBoostingRegressor 106661.88941      0.82862     0.82359\n",
       "2      RandomForestRegressor  73171.15358      0.98695     0.91698\n",
       "3                    XGBoost  78170.74237      0.95531     0.90525\n",
       "4                   CatBoost  78042.94480      0.94385     0.90556\n",
       "5                   LightGBM  72192.92333      0.99403     0.91918"
      ]
     },
     "execution_count": 260,
     "metadata": {},
     "output_type": "execute_result"
    }
   ],
   "source": [
    "dict1 = {'Algorithm':['LinearRegression', 'GradientBoostingRegressor', 'RandomForestRegressor', 'XGBoost', 'CatBoost', 'LightGBM'], \n",
    "         'RMSE_Score':[lr_rms, gbr_rms, rfr_rms, xgb_rms, ctb_rms, lgb_rms],\n",
    "        'Train Score': [lr_tr_score, gbr_tr_score, rfr_tr_score, xgb_tr_score, ctb_tr_score, lgb_tr_score],\n",
    "        'Test Score': [lr_te_score, gbr_te_score, rfr_te_score, xgb_te_score, ctb_te_score, lgb_te_score]}\n",
    "\n",
    "df = pd.DataFrame(dict1, index=[0,1,2,3,4,5])\n",
    "df"
   ]
  },
  {
   "cell_type": "code",
   "execution_count": 261,
   "id": "ca873c70",
   "metadata": {
    "execution": {
     "iopub.execute_input": "2022-04-11T20:35:13.786165Z",
     "iopub.status.busy": "2022-04-11T20:35:13.783586Z",
     "iopub.status.idle": "2022-04-11T20:37:03.434236Z",
     "shell.execute_reply": "2022-04-11T20:37:03.433703Z",
     "shell.execute_reply.started": "2022-04-11T19:35:30.746658Z"
    },
    "papermill": {
     "duration": 110.064054,
     "end_time": "2022-04-11T20:37:03.434389",
     "exception": false,
     "start_time": "2022-04-11T20:35:13.370335",
     "status": "completed"
    },
    "tags": []
   },
   "outputs": [
    {
     "name": "stderr",
     "output_type": "stream",
     "text": [
      "Warning: Overfitting detector is active, thus evaluation metric is calculated on every iteration. 'metric_period' is ignored for evaluation metric.\n"
     ]
    },
    {
     "name": "stdout",
     "output_type": "stream",
     "text": [
      "0:\tlearn: 217838.3416864\ttest: 217838.3416864\ttest1: 219889.1495138\tbest: 219889.1495138 (0)\ttotal: 14.5ms\tremaining: 14.5s\n",
      "100:\tlearn: 69381.4971651\ttest: 69381.4971651\ttest1: 88282.9072658\tbest: 88282.9072658 (100)\ttotal: 1.09s\tremaining: 9.7s\n",
      "200:\tlearn: 55838.1837719\ttest: 55838.1837719\ttest1: 81507.0234489\tbest: 81507.0234489 (200)\ttotal: 2.14s\tremaining: 8.49s\n",
      "300:\tlearn: 47759.1784152\ttest: 47759.1784152\ttest1: 79153.3924104\tbest: 79141.0401950 (299)\ttotal: 3.19s\tremaining: 7.42s\n",
      "400:\tlearn: 42518.7817510\ttest: 42518.7817510\ttest1: 77904.9537156\tbest: 77860.0787931 (397)\ttotal: 4.27s\tremaining: 6.38s\n",
      "500:\tlearn: 38222.5076603\ttest: 38222.5076603\ttest1: 77230.5282258\tbest: 77230.5282258 (500)\ttotal: 5.34s\tremaining: 5.32s\n",
      "600:\tlearn: 34728.6928036\ttest: 34728.6928036\ttest1: 76982.8148655\tbest: 76913.0386875 (594)\ttotal: 6.42s\tremaining: 4.26s\n",
      "700:\tlearn: 31970.2840725\ttest: 31970.2840725\ttest1: 76575.3740773\tbest: 76483.7827783 (693)\ttotal: 7.52s\tremaining: 3.21s\n",
      "800:\tlearn: 29467.0726483\ttest: 29467.0726483\ttest1: 76391.2192532\tbest: 76391.2192532 (800)\ttotal: 8.85s\tremaining: 2.2s\n",
      "900:\tlearn: 27629.0335540\ttest: 27629.0335540\ttest1: 76424.7197036\tbest: 76391.2192532 (800)\ttotal: 9.99s\tremaining: 1.1s\n",
      "999:\tlearn: 26037.9868335\ttest: 26037.9868335\ttest1: 76451.3147377\tbest: 76313.4156064 (948)\ttotal: 11.1s\tremaining: 0us\n",
      "\n",
      "bestTest = 76313.41561\n",
      "bestIteration = 948\n",
      "\n",
      "Shrink model to first 949 iterations.\n",
      "RMSE:  76313.41560642098\n"
     ]
    },
    {
     "name": "stderr",
     "output_type": "stream",
     "text": [
      "Warning: Overfitting detector is active, thus evaluation metric is calculated on every iteration. 'metric_period' is ignored for evaluation metric.\n"
     ]
    },
    {
     "name": "stdout",
     "output_type": "stream",
     "text": [
      "0:\tlearn: 217877.9789393\ttest: 217877.9789393\ttest1: 218371.3229592\tbest: 218371.3229592 (0)\ttotal: 14.1ms\tremaining: 14.1s\n",
      "100:\tlearn: 70300.9170455\ttest: 70300.9170455\ttest1: 81772.6074729\tbest: 81621.7581996 (99)\ttotal: 1.1s\tremaining: 9.78s\n",
      "200:\tlearn: 57098.4939657\ttest: 57098.4939657\ttest1: 76271.3212247\tbest: 76271.3212247 (200)\ttotal: 2.16s\tremaining: 8.61s\n",
      "300:\tlearn: 48438.3821583\ttest: 48438.3821583\ttest1: 73997.4660034\tbest: 73997.4660034 (300)\ttotal: 3.24s\tremaining: 7.51s\n",
      "400:\tlearn: 42964.4757412\ttest: 42964.4757412\ttest1: 73466.6047511\tbest: 73157.1463398 (385)\ttotal: 4.33s\tremaining: 6.47s\n",
      "500:\tlearn: 38606.5914809\ttest: 38606.5914809\ttest1: 72840.6841472\tbest: 72820.0141719 (471)\ttotal: 5.44s\tremaining: 5.42s\n",
      "600:\tlearn: 34824.9386192\ttest: 34824.9386192\ttest1: 72738.9022734\tbest: 72573.6262235 (550)\ttotal: 6.55s\tremaining: 4.35s\n",
      "700:\tlearn: 31872.8791015\ttest: 31872.8791015\ttest1: 72293.8662168\tbest: 72188.0895372 (686)\ttotal: 7.65s\tremaining: 3.26s\n",
      "800:\tlearn: 29275.0711765\ttest: 29275.0711765\ttest1: 72291.6678194\tbest: 72166.0367086 (783)\ttotal: 8.78s\tremaining: 2.18s\n",
      "900:\tlearn: 27121.0184832\ttest: 27121.0184832\ttest1: 72715.0785999\tbest: 72166.0367086 (783)\ttotal: 9.94s\tremaining: 1.09s\n",
      "Stopped by overfitting detector  (200 iterations wait)\n",
      "\n",
      "bestTest = 72166.03671\n",
      "bestIteration = 783\n",
      "\n",
      "Shrink model to first 784 iterations.\n",
      "RMSE:  72166.03670862422\n"
     ]
    },
    {
     "name": "stderr",
     "output_type": "stream",
     "text": [
      "Warning: Overfitting detector is active, thus evaluation metric is calculated on every iteration. 'metric_period' is ignored for evaluation metric.\n"
     ]
    },
    {
     "name": "stdout",
     "output_type": "stream",
     "text": [
      "0:\tlearn: 217838.8501787\ttest: 217838.8501787\ttest1: 209420.8865387\tbest: 209420.8865387 (0)\ttotal: 14.6ms\tremaining: 14.6s\n",
      "100:\tlearn: 70664.5791466\ttest: 70664.5791466\ttest1: 76072.3378743\tbest: 75987.2029366 (99)\ttotal: 1.06s\tremaining: 9.46s\n",
      "200:\tlearn: 57503.3976623\ttest: 57503.3976623\ttest1: 70617.5339388\tbest: 70598.3377374 (198)\ttotal: 2.17s\tremaining: 8.61s\n",
      "300:\tlearn: 49129.8843342\ttest: 49129.8843342\ttest1: 68361.8983576\tbest: 68359.3194148 (297)\ttotal: 3.31s\tremaining: 7.68s\n",
      "400:\tlearn: 43416.7325384\ttest: 43416.7325384\ttest1: 67019.9390978\tbest: 66967.9320775 (387)\ttotal: 4.4s\tremaining: 6.57s\n",
      "500:\tlearn: 38571.4803516\ttest: 38571.4803516\ttest1: 66938.3526177\tbest: 66814.9778348 (444)\ttotal: 5.48s\tremaining: 5.46s\n",
      "600:\tlearn: 35218.2631424\ttest: 35218.2631424\ttest1: 66680.5374456\tbest: 66617.3787723 (587)\ttotal: 6.54s\tremaining: 4.34s\n",
      "700:\tlearn: 32060.0586286\ttest: 32060.0586286\ttest1: 66318.2940916\tbest: 66302.7301825 (670)\ttotal: 7.63s\tremaining: 3.25s\n",
      "800:\tlearn: 29631.0247627\ttest: 29631.0247627\ttest1: 66333.7030161\tbest: 66147.8350341 (764)\ttotal: 8.86s\tremaining: 2.2s\n",
      "900:\tlearn: 27441.1358439\ttest: 27441.1358439\ttest1: 66316.7508450\tbest: 66147.8350341 (764)\ttotal: 10s\tremaining: 1.1s\n",
      "999:\tlearn: 25633.0634018\ttest: 25633.0634018\ttest1: 66132.3628787\tbest: 66027.1035927 (942)\ttotal: 11.1s\tremaining: 0us\n",
      "\n",
      "bestTest = 66027.10359\n",
      "bestIteration = 942\n",
      "\n",
      "Shrink model to first 943 iterations.\n",
      "RMSE:  66027.10359270625\n"
     ]
    },
    {
     "name": "stderr",
     "output_type": "stream",
     "text": [
      "Warning: Overfitting detector is active, thus evaluation metric is calculated on every iteration. 'metric_period' is ignored for evaluation metric.\n"
     ]
    },
    {
     "name": "stdout",
     "output_type": "stream",
     "text": [
      "0:\tlearn: 217631.3029871\ttest: 217631.3029871\ttest1: 217410.1294365\tbest: 217410.1294365 (0)\ttotal: 13.1ms\tremaining: 13s\n",
      "100:\tlearn: 70253.3922239\ttest: 70253.3922239\ttest1: 83836.4461369\tbest: 83836.4461369 (100)\ttotal: 1.08s\tremaining: 9.59s\n",
      "200:\tlearn: 56803.5644701\ttest: 56803.5644701\ttest1: 79322.2365111\tbest: 79322.2365111 (200)\ttotal: 2.15s\tremaining: 8.56s\n",
      "300:\tlearn: 48638.6935268\ttest: 48638.6935268\ttest1: 77509.0669039\tbest: 77377.9094941 (290)\ttotal: 3.22s\tremaining: 7.48s\n",
      "400:\tlearn: 42964.9893205\ttest: 42964.9893205\ttest1: 76802.0524445\tbest: 76736.3957693 (393)\ttotal: 4.28s\tremaining: 6.39s\n",
      "500:\tlearn: 38673.3114931\ttest: 38673.3114931\ttest1: 76365.4555931\tbest: 76335.6142372 (499)\ttotal: 5.37s\tremaining: 5.35s\n",
      "600:\tlearn: 34943.2939457\ttest: 34943.2939457\ttest1: 75794.0080082\tbest: 75794.0080082 (600)\ttotal: 6.47s\tremaining: 4.3s\n",
      "700:\tlearn: 32197.3013431\ttest: 32197.3013431\ttest1: 75646.1787577\tbest: 75636.0434906 (693)\ttotal: 7.54s\tremaining: 3.22s\n",
      "800:\tlearn: 29717.4660439\ttest: 29717.4660439\ttest1: 75819.5376330\tbest: 75636.0434906 (693)\ttotal: 8.69s\tremaining: 2.16s\n",
      "Stopped by overfitting detector  (200 iterations wait)\n",
      "\n",
      "bestTest = 75636.04349\n",
      "bestIteration = 693\n",
      "\n",
      "Shrink model to first 694 iterations.\n",
      "RMSE:  75636.04349056314\n",
      "0:\tlearn: 218495.2272124\ttest: 218495.2272124\ttest1: 213492.3876200\tbest: 213492.3876200 (0)\ttotal: 13ms\tremaining: 13s\n"
     ]
    },
    {
     "name": "stderr",
     "output_type": "stream",
     "text": [
      "Warning: Overfitting detector is active, thus evaluation metric is calculated on every iteration. 'metric_period' is ignored for evaluation metric.\n"
     ]
    },
    {
     "name": "stdout",
     "output_type": "stream",
     "text": [
      "100:\tlearn: 69897.1800027\ttest: 69897.1800027\ttest1: 77421.3490406\tbest: 77421.3490406 (100)\ttotal: 1.18s\tremaining: 10.5s\n",
      "200:\tlearn: 57281.5389708\ttest: 57281.5389708\ttest1: 72950.7744131\tbest: 72950.7744131 (200)\ttotal: 2.34s\tremaining: 9.31s\n",
      "300:\tlearn: 49580.7520444\ttest: 49580.7520444\ttest1: 70419.0852835\tbest: 70408.6046903 (299)\ttotal: 3.5s\tremaining: 8.14s\n",
      "400:\tlearn: 43651.2151431\ttest: 43651.2151431\ttest1: 68903.8008256\tbest: 68766.2388033 (379)\ttotal: 4.69s\tremaining: 7s\n",
      "500:\tlearn: 39262.7475251\ttest: 39262.7475251\ttest1: 68315.6627308\tbest: 68315.6627308 (500)\ttotal: 5.78s\tremaining: 5.75s\n",
      "600:\tlearn: 35890.2953406\ttest: 35890.2953406\ttest1: 67580.3859094\tbest: 67386.5994799 (592)\ttotal: 6.86s\tremaining: 4.55s\n",
      "700:\tlearn: 32883.4241125\ttest: 32883.4241125\ttest1: 67328.7479236\tbest: 67277.0532502 (688)\ttotal: 7.95s\tremaining: 3.39s\n",
      "800:\tlearn: 30271.3832549\ttest: 30271.3832549\ttest1: 67277.3986117\tbest: 67146.4307474 (747)\ttotal: 9.05s\tremaining: 2.25s\n",
      "900:\tlearn: 28222.8519865\ttest: 28222.8519865\ttest1: 67112.8217969\tbest: 67034.5841197 (887)\ttotal: 10.2s\tremaining: 1.12s\n",
      "999:\tlearn: 26599.6398359\ttest: 26599.6398359\ttest1: 67269.2435758\tbest: 66977.4704851 (916)\ttotal: 11.3s\tremaining: 0us\n",
      "\n",
      "bestTest = 66977.47049\n",
      "bestIteration = 916\n",
      "\n",
      "Shrink model to first 917 iterations.\n",
      "RMSE:  66977.47048508307\n"
     ]
    },
    {
     "name": "stderr",
     "output_type": "stream",
     "text": [
      "Warning: Overfitting detector is active, thus evaluation metric is calculated on every iteration. 'metric_period' is ignored for evaluation metric.\n"
     ]
    },
    {
     "name": "stdout",
     "output_type": "stream",
     "text": [
      "0:\tlearn: 217119.9227845\ttest: 217119.9227845\ttest1: 225502.0020211\tbest: 225502.0020211 (0)\ttotal: 13.4ms\tremaining: 13.4s\n",
      "100:\tlearn: 68647.8252585\ttest: 68647.8252585\ttest1: 91191.4544212\tbest: 91191.4544212 (100)\ttotal: 1.13s\tremaining: 10s\n",
      "200:\tlearn: 56707.0749254\ttest: 56707.0749254\ttest1: 88278.7261942\tbest: 88261.3891980 (199)\ttotal: 2.21s\tremaining: 8.79s\n",
      "300:\tlearn: 48620.1573749\ttest: 48620.1573749\ttest1: 85519.6274109\tbest: 85519.6274109 (300)\ttotal: 3.31s\tremaining: 7.69s\n",
      "400:\tlearn: 43447.5793109\ttest: 43447.5793109\ttest1: 84466.7675631\tbest: 84466.7675631 (400)\ttotal: 4.41s\tremaining: 6.58s\n",
      "500:\tlearn: 38804.5166445\ttest: 38804.5166445\ttest1: 83236.6066834\tbest: 83210.8304128 (497)\ttotal: 5.51s\tremaining: 5.49s\n",
      "600:\tlearn: 35246.6510555\ttest: 35246.6510555\ttest1: 82627.7738693\tbest: 82541.2105526 (586)\ttotal: 6.73s\tremaining: 4.47s\n",
      "700:\tlearn: 32215.1116026\ttest: 32215.1116026\ttest1: 82212.5484462\tbest: 82174.5440992 (696)\ttotal: 7.81s\tremaining: 3.33s\n",
      "800:\tlearn: 29900.4351418\ttest: 29900.4351418\ttest1: 81859.2129384\tbest: 81859.2129384 (800)\ttotal: 8.89s\tremaining: 2.21s\n",
      "900:\tlearn: 28031.6899622\ttest: 28031.6899622\ttest1: 81821.3629402\tbest: 81696.4746102 (862)\ttotal: 10s\tremaining: 1.1s\n",
      "999:\tlearn: 26406.3201666\ttest: 26406.3201666\ttest1: 81720.2990554\tbest: 81690.1669225 (995)\ttotal: 11.1s\tremaining: 0us\n",
      "\n",
      "bestTest = 81690.16692\n",
      "bestIteration = 995\n",
      "\n",
      "Shrink model to first 996 iterations.\n",
      "RMSE:  81690.16692250468\n"
     ]
    },
    {
     "name": "stderr",
     "output_type": "stream",
     "text": [
      "Warning: Overfitting detector is active, thus evaluation metric is calculated on every iteration. 'metric_period' is ignored for evaluation metric.\n"
     ]
    },
    {
     "name": "stdout",
     "output_type": "stream",
     "text": [
      "0:\tlearn: 217672.8241409\ttest: 217672.8241409\ttest1: 220357.3783795\tbest: 220357.3783795 (0)\ttotal: 13.4ms\tremaining: 13.4s\n",
      "100:\tlearn: 69246.7979194\ttest: 69246.7979194\ttest1: 81725.3665798\tbest: 81725.3665798 (100)\ttotal: 1.08s\tremaining: 9.66s\n",
      "200:\tlearn: 56715.0392391\ttest: 56715.0392391\ttest1: 76271.6974224\tbest: 76271.6974224 (200)\ttotal: 2.17s\tremaining: 8.63s\n",
      "300:\tlearn: 49135.4223726\ttest: 49135.4223726\ttest1: 74349.5115777\tbest: 74345.4434196 (299)\ttotal: 3.28s\tremaining: 7.61s\n",
      "400:\tlearn: 43450.7737231\ttest: 43450.7737231\ttest1: 72702.7972978\tbest: 72702.7972978 (400)\ttotal: 4.37s\tremaining: 6.53s\n",
      "500:\tlearn: 39104.6033738\ttest: 39104.6033738\ttest1: 71587.0929263\tbest: 71587.0929263 (500)\ttotal: 5.47s\tremaining: 5.45s\n",
      "600:\tlearn: 35524.2179764\ttest: 35524.2179764\ttest1: 70963.5952483\tbest: 70957.0573324 (595)\ttotal: 6.54s\tremaining: 4.34s\n",
      "700:\tlearn: 32633.0872979\ttest: 32633.0872979\ttest1: 70409.2519290\tbest: 70384.0665494 (683)\ttotal: 7.63s\tremaining: 3.25s\n",
      "800:\tlearn: 30279.3379928\ttest: 30279.3379928\ttest1: 70210.9459606\tbest: 70210.9459606 (800)\ttotal: 8.74s\tremaining: 2.17s\n",
      "900:\tlearn: 28380.3115122\ttest: 28380.3115122\ttest1: 70054.6757626\tbest: 69938.8183743 (877)\ttotal: 10.1s\tremaining: 1.11s\n",
      "999:\tlearn: 26768.6730283\ttest: 26768.6730283\ttest1: 69795.8541620\tbest: 69787.7800467 (996)\ttotal: 11.3s\tremaining: 0us\n",
      "\n",
      "bestTest = 69787.78005\n",
      "bestIteration = 996\n",
      "\n",
      "Shrink model to first 997 iterations.\n",
      "RMSE:  69787.78004665037\n"
     ]
    },
    {
     "name": "stderr",
     "output_type": "stream",
     "text": [
      "Warning: Overfitting detector is active, thus evaluation metric is calculated on every iteration. 'metric_period' is ignored for evaluation metric.\n"
     ]
    },
    {
     "name": "stdout",
     "output_type": "stream",
     "text": [
      "0:\tlearn: 216495.7189513\ttest: 216495.7189513\ttest1: 220498.8161297\tbest: 220498.8161297 (0)\ttotal: 11.7ms\tremaining: 11.7s\n",
      "100:\tlearn: 70675.6321197\ttest: 70675.6321197\ttest1: 82241.4634336\tbest: 82241.4634336 (100)\ttotal: 1.08s\tremaining: 9.58s\n",
      "200:\tlearn: 57644.2697626\ttest: 57644.2697626\ttest1: 76269.5654033\tbest: 76188.7996940 (198)\ttotal: 2.15s\tremaining: 8.56s\n",
      "300:\tlearn: 49829.5783462\ttest: 49829.5783462\ttest1: 72752.3795662\tbest: 72752.3795662 (300)\ttotal: 3.22s\tremaining: 7.48s\n",
      "400:\tlearn: 44212.1432100\ttest: 44212.1432100\ttest1: 71680.7320633\tbest: 71533.2183042 (386)\ttotal: 4.3s\tremaining: 6.42s\n",
      "500:\tlearn: 39601.7164969\ttest: 39601.7164969\ttest1: 70358.4348337\tbest: 70358.4348337 (500)\ttotal: 5.41s\tremaining: 5.38s\n",
      "600:\tlearn: 35776.5664361\ttest: 35776.5664361\ttest1: 69531.4909127\tbest: 69501.0431204 (588)\ttotal: 6.5s\tremaining: 4.32s\n",
      "700:\tlearn: 32745.5544534\ttest: 32745.5544534\ttest1: 69333.9213764\tbest: 69227.1581610 (691)\ttotal: 7.6s\tremaining: 3.24s\n",
      "800:\tlearn: 30290.6583965\ttest: 30290.6583965\ttest1: 69548.5463583\tbest: 69227.1581610 (691)\ttotal: 8.75s\tremaining: 2.17s\n",
      "Stopped by overfitting detector  (200 iterations wait)\n",
      "\n",
      "bestTest = 69227.15816\n",
      "bestIteration = 691\n",
      "\n",
      "Shrink model to first 692 iterations.\n",
      "RMSE:  69227.15816095792\n",
      "0:\tlearn: 217804.4208502\ttest: 217804.4208502\ttest1: 216880.2432840\tbest: 216880.2432840 (0)\ttotal: 11.8ms\tremaining: 11.8s\n"
     ]
    },
    {
     "name": "stderr",
     "output_type": "stream",
     "text": [
      "Warning: Overfitting detector is active, thus evaluation metric is calculated on every iteration. 'metric_period' is ignored for evaluation metric.\n"
     ]
    },
    {
     "name": "stdout",
     "output_type": "stream",
     "text": [
      "100:\tlearn: 68924.4658124\ttest: 68924.4658124\ttest1: 87572.5850876\tbest: 87562.0750504 (99)\ttotal: 1.11s\tremaining: 9.93s\n",
      "200:\tlearn: 55667.3664138\ttest: 55667.3664138\ttest1: 82163.3113325\tbest: 82160.2009056 (197)\ttotal: 2.19s\tremaining: 8.71s\n",
      "300:\tlearn: 48018.5295424\ttest: 48018.5295424\ttest1: 80324.2840571\tbest: 80324.2840571 (300)\ttotal: 3.26s\tremaining: 7.58s\n",
      "400:\tlearn: 42530.4683376\ttest: 42530.4683376\ttest1: 79087.3561532\tbest: 79087.3561532 (400)\ttotal: 4.47s\tremaining: 6.68s\n",
      "500:\tlearn: 38411.7325297\ttest: 38411.7325297\ttest1: 78141.4523261\tbest: 78106.8342423 (497)\ttotal: 5.55s\tremaining: 5.53s\n",
      "600:\tlearn: 34881.9266825\ttest: 34881.9266825\ttest1: 77780.3347520\tbest: 77780.3347520 (600)\ttotal: 6.62s\tremaining: 4.39s\n",
      "700:\tlearn: 32140.1943503\ttest: 32140.1943503\ttest1: 77389.1903630\tbest: 77345.4443536 (659)\ttotal: 7.7s\tremaining: 3.28s\n",
      "800:\tlearn: 29983.2280863\ttest: 29983.2280863\ttest1: 77343.6411848\tbest: 77186.6538750 (752)\ttotal: 8.78s\tremaining: 2.18s\n",
      "900:\tlearn: 28023.0215429\ttest: 28023.0215429\ttest1: 77159.4116489\tbest: 77097.9505404 (893)\ttotal: 9.89s\tremaining: 1.09s\n",
      "999:\tlearn: 26328.1083653\ttest: 26328.1083653\ttest1: 77255.0272645\tbest: 77086.5152310 (931)\ttotal: 11s\tremaining: 0us\n",
      "\n",
      "bestTest = 77086.51523\n",
      "bestIteration = 931\n",
      "\n",
      "Shrink model to first 932 iterations.\n",
      "RMSE:  77086.5152310198\n",
      "0:\tlearn: 218175.3972946\ttest: 218175.3972946\ttest1: 213798.6611420\tbest: 213798.6611420 (0)\ttotal: 12.5ms\tremaining: 12.5s\n"
     ]
    },
    {
     "name": "stderr",
     "output_type": "stream",
     "text": [
      "Warning: Overfitting detector is active, thus evaluation metric is calculated on every iteration. 'metric_period' is ignored for evaluation metric.\n"
     ]
    },
    {
     "name": "stdout",
     "output_type": "stream",
     "text": [
      "100:\tlearn: 69451.4930393\ttest: 69451.4930393\ttest1: 88662.6219553\tbest: 88661.8780846 (99)\ttotal: 1.09s\tremaining: 9.69s\n",
      "200:\tlearn: 56839.8097062\ttest: 56839.8097062\ttest1: 86000.5904523\tbest: 85968.6429651 (199)\ttotal: 2.17s\tremaining: 8.65s\n",
      "300:\tlearn: 48528.7094413\ttest: 48528.7094413\ttest1: 84440.4182474\tbest: 84440.4182474 (300)\ttotal: 3.27s\tremaining: 7.59s\n",
      "400:\tlearn: 42678.4553832\ttest: 42678.4553832\ttest1: 84248.2501043\tbest: 84172.8684457 (396)\ttotal: 4.37s\tremaining: 6.53s\n",
      "500:\tlearn: 38559.9571892\ttest: 38559.9571892\ttest1: 84197.2743153\tbest: 84160.6719300 (492)\ttotal: 5.46s\tremaining: 5.44s\n",
      "600:\tlearn: 35018.3378518\ttest: 35018.3378518\ttest1: 83526.7038229\tbest: 83523.8567251 (599)\ttotal: 6.54s\tremaining: 4.34s\n",
      "700:\tlearn: 32166.0068302\ttest: 32166.0068302\ttest1: 83558.0258555\tbest: 83452.2494492 (612)\ttotal: 7.63s\tremaining: 3.25s\n",
      "800:\tlearn: 29902.6193386\ttest: 29902.6193386\ttest1: 83677.1658596\tbest: 83452.2494492 (612)\ttotal: 8.74s\tremaining: 2.17s\n",
      "Stopped by overfitting detector  (200 iterations wait)\n",
      "\n",
      "bestTest = 83452.24945\n",
      "bestIteration = 612\n",
      "\n",
      "Shrink model to first 613 iterations.\n",
      "RMSE:  83452.24944920142\n"
     ]
    },
    {
     "data": {
      "text/plain": [
       "73836.39396937318"
      ]
     },
     "execution_count": 261,
     "metadata": {},
     "output_type": "execute_result"
    }
   ],
   "source": [
    "errcb2=[]\n",
    "y_pred_totcb2=[]\n",
    "fold=StratifiedKFold(n_splits = 10)\n",
    "i=1\n",
    "for train_index, test_index in fold.split(X,y):\n",
    "    X_train, X_test = X.iloc[train_index], X.iloc[test_index]\n",
    "    y_train, y_test = y.iloc[train_index], y.iloc[test_index]\n",
    "    m2  = CatBoostRegressor(n_estimators = 1000, eval_metric = 'RMSE', od_wait = 200, learning_rate = 0.2,\n",
    "                              bootstrap_type = 'Bernoulli' ,metric_period = 100, max_depth = 8,\n",
    "                             use_best_model = True)\n",
    "    m2.fit(X_train,y_train,eval_set=[(X_train,y_train),(X_test, y_test)], early_stopping_rounds = 200, verbose = 100,)\n",
    "    preds=m2.predict(X_test)\n",
    "    print(\"RMSE: \", np.sqrt(mean_squared_error(y_test,preds)))\n",
    "    errcb2.append((np.sqrt(mean_squared_error(y_test,preds))))\n",
    "    #np.sqrt(mean_squared_error(y_test, lr_pred)\n",
    "    #p2 = m2.predict(df_test)\n",
    "    #y_pred_totcb2.append(p2)\n",
    "np.mean(errcb2)"
   ]
  },
  {
   "cell_type": "code",
   "execution_count": 262,
   "id": "9fb18a33",
   "metadata": {
    "execution": {
     "iopub.execute_input": "2022-04-11T20:37:04.403576Z",
     "iopub.status.busy": "2022-04-11T20:37:04.402545Z",
     "iopub.status.idle": "2022-04-11T20:40:28.941924Z",
     "shell.execute_reply": "2022-04-11T20:40:28.942557Z",
     "shell.execute_reply.started": "2022-04-11T19:38:13.406991Z"
    },
    "papermill": {
     "duration": 205.045846,
     "end_time": "2022-04-11T20:40:28.942745",
     "exception": false,
     "start_time": "2022-04-11T20:37:03.896899",
     "status": "completed"
    },
    "tags": []
   },
   "outputs": [
    {
     "name": "stderr",
     "output_type": "stream",
     "text": [
      "Warning: Overfitting detector is active, thus evaluation metric is calculated on every iteration. 'metric_period' is ignored for evaluation metric.\n"
     ]
    },
    {
     "name": "stdout",
     "output_type": "stream",
     "text": [
      "0:\tlearn: 236196.9822151\ttest: 236196.9822151\ttest1: 238199.4988561\tbest: 238199.4988561 (0)\ttotal: 14.3ms\tremaining: 57.2s\n",
      "100:\tlearn: 81336.3784484\ttest: 81336.3784484\ttest1: 93980.1650453\tbest: 93925.6655579 (99)\ttotal: 1.08s\tremaining: 41.8s\n",
      "200:\tlearn: 69335.0836563\ttest: 69335.0836563\ttest1: 87434.5821623\tbest: 87434.5821623 (200)\ttotal: 2.12s\tremaining: 40s\n",
      "300:\tlearn: 61749.9917599\ttest: 61749.9917599\ttest1: 84010.8041674\tbest: 84010.8041674 (300)\ttotal: 3.17s\tremaining: 39s\n",
      "400:\tlearn: 56262.6343564\ttest: 56262.6343564\ttest1: 81716.8292432\tbest: 81716.8292432 (400)\ttotal: 4.25s\tremaining: 38.1s\n",
      "500:\tlearn: 51532.2512965\ttest: 51532.2512965\ttest1: 80199.8853716\tbest: 80199.8853716 (500)\ttotal: 5.33s\tremaining: 37.2s\n",
      "600:\tlearn: 47927.7991226\ttest: 47927.7991226\ttest1: 79042.9433207\tbest: 79042.1240464 (599)\ttotal: 6.4s\tremaining: 36.2s\n",
      "700:\tlearn: 44911.2144556\ttest: 44911.2144556\ttest1: 78098.7683555\tbest: 78066.0574938 (698)\ttotal: 7.46s\tremaining: 35.1s\n",
      "800:\tlearn: 42381.1009498\ttest: 42381.1009498\ttest1: 77507.2811116\tbest: 77507.2811116 (800)\ttotal: 8.56s\tremaining: 34.2s\n",
      "900:\tlearn: 39955.8149443\ttest: 39955.8149443\ttest1: 77251.0597171\tbest: 77212.0647219 (875)\ttotal: 9.75s\tremaining: 33.5s\n",
      "1000:\tlearn: 37899.1712927\ttest: 37899.1712927\ttest1: 77098.9338819\tbest: 77093.9302668 (996)\ttotal: 10.9s\tremaining: 32.5s\n",
      "1100:\tlearn: 36102.9397334\ttest: 36102.9397334\ttest1: 76871.4965619\tbest: 76805.3539674 (1093)\ttotal: 12s\tremaining: 31.5s\n",
      "1200:\tlearn: 34501.8290592\ttest: 34501.8290592\ttest1: 76803.7449293\tbest: 76795.1390818 (1158)\ttotal: 13.1s\tremaining: 30.5s\n",
      "1300:\tlearn: 33151.1025090\ttest: 33151.1025090\ttest1: 76737.0356904\tbest: 76737.0356904 (1300)\ttotal: 14.2s\tremaining: 29.4s\n",
      "1400:\tlearn: 31814.8510204\ttest: 31814.8510204\ttest1: 76649.1572332\tbest: 76629.2387374 (1398)\ttotal: 15.2s\tremaining: 28.3s\n",
      "1500:\tlearn: 30633.6445966\ttest: 30633.6445966\ttest1: 76570.7798345\tbest: 76518.7935537 (1464)\ttotal: 16.3s\tremaining: 27.2s\n",
      "1600:\tlearn: 29540.6383767\ttest: 29540.6383767\ttest1: 76647.0053286\tbest: 76518.7935537 (1464)\ttotal: 17.4s\tremaining: 26.1s\n",
      "Stopped by overfitting detector  (200 iterations wait)\n",
      "\n",
      "bestTest = 76518.79355\n",
      "bestIteration = 1464\n",
      "\n",
      "Shrink model to first 1465 iterations.\n",
      "RMSE:  76518.79355370549\n"
     ]
    },
    {
     "name": "stderr",
     "output_type": "stream",
     "text": [
      "Warning: Overfitting detector is active, thus evaluation metric is calculated on every iteration. 'metric_period' is ignored for evaluation metric.\n"
     ]
    },
    {
     "name": "stdout",
     "output_type": "stream",
     "text": [
      "0:\tlearn: 236265.6589937\ttest: 236265.6589937\ttest1: 237010.7551514\tbest: 237010.7551514 (0)\ttotal: 14.2ms\tremaining: 56.6s\n",
      "100:\tlearn: 81195.8184321\ttest: 81195.8184321\ttest1: 86453.8224937\tbest: 86453.8224937 (100)\ttotal: 1.13s\tremaining: 43.5s\n",
      "200:\tlearn: 69005.2266508\ttest: 69005.2266508\ttest1: 80041.0613989\tbest: 80041.0613989 (200)\ttotal: 2.27s\tremaining: 43s\n",
      "300:\tlearn: 61039.0724075\ttest: 61039.0724075\ttest1: 77321.1294995\tbest: 77321.1294995 (300)\ttotal: 3.37s\tremaining: 41.5s\n",
      "400:\tlearn: 55513.0971452\ttest: 55513.0971452\ttest1: 74927.1198190\tbest: 74913.9202748 (399)\ttotal: 4.48s\tremaining: 40.2s\n",
      "500:\tlearn: 51227.2435638\ttest: 51227.2435638\ttest1: 73663.5445736\tbest: 73663.5445736 (500)\ttotal: 5.58s\tremaining: 39s\n",
      "600:\tlearn: 47712.5211127\ttest: 47712.5211127\ttest1: 73301.3429547\tbest: 73301.0184008 (599)\ttotal: 6.72s\tremaining: 38s\n",
      "700:\tlearn: 44752.7175579\ttest: 44752.7175579\ttest1: 72640.1973484\tbest: 72640.1973484 (700)\ttotal: 7.83s\tremaining: 36.9s\n",
      "800:\tlearn: 42042.6759406\ttest: 42042.6759406\ttest1: 72424.7298916\tbest: 72424.7298916 (800)\ttotal: 8.98s\tremaining: 35.9s\n",
      "900:\tlearn: 39550.2040817\ttest: 39550.2040817\ttest1: 71772.5141374\tbest: 71753.9271309 (898)\ttotal: 10.1s\tremaining: 34.7s\n",
      "1000:\tlearn: 37480.4834364\ttest: 37480.4834364\ttest1: 71228.8007997\tbest: 71205.2910695 (993)\ttotal: 11.2s\tremaining: 33.6s\n",
      "1100:\tlearn: 35543.8193401\ttest: 35543.8193401\ttest1: 71130.9203521\tbest: 71095.4420483 (1097)\ttotal: 12.5s\tremaining: 32.8s\n",
      "1200:\tlearn: 33880.1252352\ttest: 33880.1252352\ttest1: 71061.3966453\tbest: 70955.5514990 (1189)\ttotal: 13.9s\tremaining: 32.5s\n",
      "1300:\tlearn: 32302.2781265\ttest: 32302.2781265\ttest1: 70912.1550568\tbest: 70890.3165862 (1252)\ttotal: 15.2s\tremaining: 31.5s\n",
      "1400:\tlearn: 30959.5069085\ttest: 30959.5069085\ttest1: 71053.9380353\tbest: 70880.8809484 (1312)\ttotal: 16.4s\tremaining: 30.4s\n",
      "1500:\tlearn: 29701.8340845\ttest: 29701.8340845\ttest1: 70859.4631729\tbest: 70795.4940217 (1491)\ttotal: 17.6s\tremaining: 29.3s\n",
      "1600:\tlearn: 28642.7399983\ttest: 28642.7399983\ttest1: 70982.4281335\tbest: 70764.8252457 (1526)\ttotal: 18.8s\tremaining: 28.2s\n",
      "1700:\tlearn: 27603.8561921\ttest: 27603.8561921\ttest1: 70985.3469978\tbest: 70764.8252457 (1526)\ttotal: 19.9s\tremaining: 26.9s\n",
      "Stopped by overfitting detector  (200 iterations wait)\n",
      "\n",
      "bestTest = 70764.82525\n",
      "bestIteration = 1526\n",
      "\n",
      "Shrink model to first 1527 iterations.\n",
      "RMSE:  70764.82524571233\n"
     ]
    },
    {
     "name": "stderr",
     "output_type": "stream",
     "text": [
      "Warning: Overfitting detector is active, thus evaluation metric is calculated on every iteration. 'metric_period' is ignored for evaluation metric.\n"
     ]
    },
    {
     "name": "stdout",
     "output_type": "stream",
     "text": [
      "0:\tlearn: 236647.5011206\ttest: 236647.5011206\ttest1: 229052.6973245\tbest: 229052.6973245 (0)\ttotal: 12.3ms\tremaining: 49.1s\n",
      "100:\tlearn: 82826.9412490\ttest: 82826.9412490\ttest1: 82106.4943679\tbest: 82106.4943679 (100)\ttotal: 1.1s\tremaining: 42.3s\n",
      "200:\tlearn: 70512.8309358\ttest: 70512.8309358\ttest1: 75396.1422353\tbest: 75396.1422353 (200)\ttotal: 2.13s\tremaining: 40.3s\n",
      "300:\tlearn: 62651.3720398\ttest: 62651.3720398\ttest1: 71492.6042944\tbest: 71468.5201311 (299)\ttotal: 3.19s\tremaining: 39.2s\n",
      "400:\tlearn: 56798.6442166\ttest: 56798.6442166\ttest1: 69529.7743654\tbest: 69529.7743654 (400)\ttotal: 4.29s\tremaining: 38.5s\n",
      "500:\tlearn: 51990.0352925\ttest: 51990.0352925\ttest1: 68466.5063056\tbest: 68466.5063056 (500)\ttotal: 5.34s\tremaining: 37.3s\n",
      "600:\tlearn: 48243.9541054\ttest: 48243.9541054\ttest1: 67803.2572305\tbest: 67793.2640541 (597)\ttotal: 6.4s\tremaining: 36.2s\n",
      "700:\tlearn: 45096.2686678\ttest: 45096.2686678\ttest1: 67201.3243839\tbest: 67201.3243839 (700)\ttotal: 7.47s\tremaining: 35.1s\n",
      "800:\tlearn: 42399.0233226\ttest: 42399.0233226\ttest1: 67105.8864965\tbest: 67089.7067708 (723)\ttotal: 8.53s\tremaining: 34s\n",
      "900:\tlearn: 39853.5901066\ttest: 39853.5901066\ttest1: 66643.0667775\tbest: 66625.6382907 (897)\ttotal: 9.6s\tremaining: 33s\n",
      "1000:\tlearn: 37771.2834706\ttest: 37771.2834706\ttest1: 66539.5071346\tbest: 66419.5813262 (937)\ttotal: 10.7s\tremaining: 32s\n",
      "1100:\tlearn: 36031.7367098\ttest: 36031.7367098\ttest1: 66434.5368300\tbest: 66396.7768194 (1088)\ttotal: 11.7s\tremaining: 30.9s\n",
      "1200:\tlearn: 34272.5718741\ttest: 34272.5718741\ttest1: 66196.4013090\tbest: 66196.4013090 (1200)\ttotal: 12.8s\tremaining: 29.9s\n",
      "1300:\tlearn: 32816.2849032\ttest: 32816.2849032\ttest1: 66035.5088273\tbest: 66034.8969091 (1299)\ttotal: 13.9s\tremaining: 28.8s\n",
      "1400:\tlearn: 31435.8968849\ttest: 31435.8968849\ttest1: 65895.7540670\tbest: 65843.3556638 (1392)\ttotal: 15s\tremaining: 27.8s\n",
      "1500:\tlearn: 30040.2695760\ttest: 30040.2695760\ttest1: 66038.9761768\tbest: 65843.3556638 (1392)\ttotal: 16.1s\tremaining: 26.8s\n",
      "Stopped by overfitting detector  (200 iterations wait)\n",
      "\n",
      "bestTest = 65843.35566\n",
      "bestIteration = 1392\n",
      "\n",
      "Shrink model to first 1393 iterations.\n",
      "RMSE:  65843.35566375653\n"
     ]
    },
    {
     "name": "stderr",
     "output_type": "stream",
     "text": [
      "Warning: Overfitting detector is active, thus evaluation metric is calculated on every iteration. 'metric_period' is ignored for evaluation metric.\n"
     ]
    },
    {
     "name": "stdout",
     "output_type": "stream",
     "text": [
      "0:\tlearn: 236141.9403690\ttest: 236141.9403690\ttest1: 236592.2363756\tbest: 236592.2363756 (0)\ttotal: 12.7ms\tremaining: 50.9s\n",
      "100:\tlearn: 81917.9386612\ttest: 81917.9386612\ttest1: 88678.5374421\tbest: 88678.5374421 (100)\ttotal: 1.07s\tremaining: 41.5s\n",
      "200:\tlearn: 69416.5091961\ttest: 69416.5091961\ttest1: 82736.2558396\tbest: 82728.7485846 (199)\ttotal: 2.12s\tremaining: 40.1s\n",
      "300:\tlearn: 61454.7813759\ttest: 61454.7813759\ttest1: 79466.7035163\tbest: 79466.7035163 (300)\ttotal: 3.18s\tremaining: 39s\n",
      "400:\tlearn: 56207.0202440\ttest: 56207.0202440\ttest1: 77278.0453519\tbest: 77278.0453519 (400)\ttotal: 4.21s\tremaining: 37.8s\n",
      "500:\tlearn: 52054.8179374\ttest: 52054.8179374\ttest1: 76228.1270461\tbest: 76228.1270461 (500)\ttotal: 5.43s\tremaining: 37.9s\n",
      "600:\tlearn: 48462.8113320\ttest: 48462.8113320\ttest1: 75430.4000101\tbest: 75430.4000101 (600)\ttotal: 6.5s\tremaining: 36.7s\n",
      "700:\tlearn: 45199.0544375\ttest: 45199.0544375\ttest1: 74637.7706807\tbest: 74605.5507683 (698)\ttotal: 7.78s\tremaining: 36.6s\n",
      "800:\tlearn: 42526.1760492\ttest: 42526.1760492\ttest1: 74346.2603611\tbest: 74339.8274542 (789)\ttotal: 9s\tremaining: 36s\n",
      "900:\tlearn: 40138.5252019\ttest: 40138.5252019\ttest1: 73980.5781012\tbest: 73975.9725492 (897)\ttotal: 10.1s\tremaining: 34.6s\n",
      "1000:\tlearn: 38099.3047120\ttest: 38099.3047120\ttest1: 73902.5050903\tbest: 73874.3131406 (997)\ttotal: 11.2s\tremaining: 33.4s\n",
      "1100:\tlearn: 36246.1744537\ttest: 36246.1744537\ttest1: 73547.8742370\tbest: 73547.8742370 (1100)\ttotal: 12.2s\tremaining: 32.2s\n",
      "1200:\tlearn: 34573.6502242\ttest: 34573.6502242\ttest1: 73374.2819299\tbest: 73366.5445198 (1187)\ttotal: 13.3s\tremaining: 31.1s\n",
      "1300:\tlearn: 33098.6208536\ttest: 33098.6208536\ttest1: 73157.6870922\tbest: 73150.3001711 (1292)\ttotal: 14.4s\tremaining: 29.9s\n",
      "1400:\tlearn: 31844.0237908\ttest: 31844.0237908\ttest1: 72914.8219912\tbest: 72906.7822433 (1395)\ttotal: 15.5s\tremaining: 28.7s\n",
      "1500:\tlearn: 30568.7480073\ttest: 30568.7480073\ttest1: 72800.2680288\tbest: 72757.0192359 (1483)\ttotal: 16.6s\tremaining: 27.6s\n",
      "1600:\tlearn: 29464.5072533\ttest: 29464.5072533\ttest1: 72879.7919623\tbest: 72757.0192359 (1483)\ttotal: 17.6s\tremaining: 26.4s\n",
      "Stopped by overfitting detector  (200 iterations wait)\n",
      "\n",
      "bestTest = 72757.01924\n",
      "bestIteration = 1483\n",
      "\n",
      "Shrink model to first 1484 iterations.\n",
      "RMSE:  72757.01923589743\n"
     ]
    },
    {
     "name": "stderr",
     "output_type": "stream",
     "text": [
      "Warning: Overfitting detector is active, thus evaluation metric is calculated on every iteration. 'metric_period' is ignored for evaluation metric.\n"
     ]
    },
    {
     "name": "stdout",
     "output_type": "stream",
     "text": [
      "0:\tlearn: 236865.7633956\ttest: 236865.7633956\ttest1: 231905.6179145\tbest: 231905.6179145 (0)\ttotal: 11.8ms\tremaining: 47s\n",
      "100:\tlearn: 81888.6520393\ttest: 81888.6520393\ttest1: 81767.2285158\tbest: 81767.2285158 (100)\ttotal: 1.11s\tremaining: 43s\n",
      "200:\tlearn: 69958.4525964\ttest: 69958.4525964\ttest1: 75761.3693525\tbest: 75761.3693525 (200)\ttotal: 2.16s\tremaining: 40.8s\n",
      "300:\tlearn: 62430.3692975\ttest: 62430.3692975\ttest1: 72792.2415152\tbest: 72792.2415152 (300)\ttotal: 3.22s\tremaining: 39.6s\n",
      "400:\tlearn: 56569.6758576\ttest: 56569.6758576\ttest1: 70672.9472932\tbest: 70672.9472932 (400)\ttotal: 4.28s\tremaining: 38.4s\n",
      "500:\tlearn: 52337.7258603\ttest: 52337.7258603\ttest1: 69470.2066041\tbest: 69430.0151424 (498)\ttotal: 5.33s\tremaining: 37.3s\n",
      "600:\tlearn: 48477.5143817\ttest: 48477.5143817\ttest1: 68289.3550901\tbest: 68289.3550901 (600)\ttotal: 6.4s\tremaining: 36.2s\n",
      "700:\tlearn: 45419.6012362\ttest: 45419.6012362\ttest1: 67682.0110981\tbest: 67682.0110981 (700)\ttotal: 7.45s\tremaining: 35.1s\n",
      "800:\tlearn: 42643.3850643\ttest: 42643.3850643\ttest1: 67057.4324840\tbest: 67057.4324840 (800)\ttotal: 8.51s\tremaining: 34s\n",
      "900:\tlearn: 40302.5148187\ttest: 40302.5148187\ttest1: 66925.5285819\tbest: 66802.8970656 (867)\ttotal: 9.59s\tremaining: 33s\n",
      "1000:\tlearn: 38284.1462325\ttest: 38284.1462325\ttest1: 66858.9670337\tbest: 66756.8579940 (967)\ttotal: 10.7s\tremaining: 32s\n",
      "1100:\tlearn: 36498.5640369\ttest: 36498.5640369\ttest1: 66903.9474876\tbest: 66756.8579940 (967)\ttotal: 11.8s\tremaining: 31.1s\n",
      "Stopped by overfitting detector  (200 iterations wait)\n",
      "\n",
      "bestTest = 66756.85799\n",
      "bestIteration = 967\n",
      "\n",
      "Shrink model to first 968 iterations.\n",
      "RMSE:  66756.85799401772\n"
     ]
    },
    {
     "name": "stderr",
     "output_type": "stream",
     "text": [
      "Warning: Overfitting detector is active, thus evaluation metric is calculated on every iteration. 'metric_period' is ignored for evaluation metric.\n"
     ]
    },
    {
     "name": "stdout",
     "output_type": "stream",
     "text": [
      "0:\tlearn: 235551.4542062\ttest: 235551.4542062\ttest1: 243750.8265281\tbest: 243750.8265281 (0)\ttotal: 14.8ms\tremaining: 59.1s\n",
      "100:\tlearn: 81078.2168432\ttest: 81078.2168432\ttest1: 95239.0778354\tbest: 95239.0778354 (100)\ttotal: 1.05s\tremaining: 40.4s\n",
      "200:\tlearn: 68456.5407272\ttest: 68456.5407272\ttest1: 90020.0497455\tbest: 90020.0497455 (200)\ttotal: 2.09s\tremaining: 39.5s\n",
      "300:\tlearn: 60496.8081187\ttest: 60496.8081187\ttest1: 87282.4172065\tbest: 87282.4172065 (300)\ttotal: 3.14s\tremaining: 38.6s\n",
      "400:\tlearn: 54975.2053093\ttest: 54975.2053093\ttest1: 85649.4132126\tbest: 85649.4132126 (400)\ttotal: 4.19s\tremaining: 37.6s\n",
      "500:\tlearn: 50503.7287223\ttest: 50503.7287223\ttest1: 84444.7065844\tbest: 84444.7065844 (500)\ttotal: 5.42s\tremaining: 37.9s\n",
      "600:\tlearn: 46865.7405856\ttest: 46865.7405856\ttest1: 83793.3766871\tbest: 83793.3766871 (600)\ttotal: 6.49s\tremaining: 36.7s\n",
      "700:\tlearn: 43850.7035861\ttest: 43850.7035861\ttest1: 82931.2871263\tbest: 82931.2871263 (700)\ttotal: 7.55s\tremaining: 35.5s\n",
      "800:\tlearn: 41438.0224265\ttest: 41438.0224265\ttest1: 82489.9181807\tbest: 82476.4994532 (791)\ttotal: 8.81s\tremaining: 35.2s\n",
      "900:\tlearn: 39194.3673802\ttest: 39194.3673802\ttest1: 81898.4101604\tbest: 81865.4143322 (892)\ttotal: 10.1s\tremaining: 34.6s\n",
      "1000:\tlearn: 37327.5015956\ttest: 37327.5015956\ttest1: 81477.4345769\tbest: 81477.4345769 (1000)\ttotal: 11.1s\tremaining: 33.4s\n",
      "1100:\tlearn: 35518.1840080\ttest: 35518.1840080\ttest1: 81305.1665241\tbest: 81305.1665241 (1100)\ttotal: 12.2s\tremaining: 32.2s\n",
      "1200:\tlearn: 33904.1506243\ttest: 33904.1506243\ttest1: 81144.8522573\tbest: 81108.8448976 (1177)\ttotal: 13.3s\tremaining: 31s\n",
      "1300:\tlearn: 32569.4028165\ttest: 32569.4028165\ttest1: 81005.6229678\tbest: 81002.6986406 (1297)\ttotal: 14.4s\tremaining: 29.9s\n",
      "1400:\tlearn: 31148.7852582\ttest: 31148.7852582\ttest1: 80872.5056878\tbest: 80870.7208776 (1396)\ttotal: 15.5s\tremaining: 28.7s\n",
      "1500:\tlearn: 29946.0780243\ttest: 29946.0780243\ttest1: 80808.1906467\tbest: 80808.1906467 (1500)\ttotal: 16.6s\tremaining: 27.6s\n",
      "1600:\tlearn: 28991.1197614\ttest: 28991.1197614\ttest1: 80704.8334901\tbest: 80696.1948484 (1594)\ttotal: 17.6s\tremaining: 26.4s\n",
      "1700:\tlearn: 28096.0327355\ttest: 28096.0327355\ttest1: 80651.2920148\tbest: 80647.5983390 (1637)\ttotal: 18.7s\tremaining: 25.3s\n",
      "1800:\tlearn: 27164.4442351\ttest: 27164.4442351\ttest1: 80588.7340101\tbest: 80588.7340101 (1800)\ttotal: 19.8s\tremaining: 24.1s\n",
      "1900:\tlearn: 26370.8160433\ttest: 26370.8160433\ttest1: 80617.8499361\tbest: 80552.2448700 (1839)\ttotal: 20.9s\tremaining: 23.1s\n",
      "2000:\tlearn: 25640.0985489\ttest: 25640.0985489\ttest1: 80643.7355469\tbest: 80552.2448700 (1839)\ttotal: 22s\tremaining: 22s\n",
      "Stopped by overfitting detector  (200 iterations wait)\n",
      "\n",
      "bestTest = 80552.24487\n",
      "bestIteration = 1839\n",
      "\n",
      "Shrink model to first 1840 iterations.\n",
      "RMSE:  80552.24486998579\n"
     ]
    },
    {
     "name": "stderr",
     "output_type": "stream",
     "text": [
      "Warning: Overfitting detector is active, thus evaluation metric is calculated on every iteration. 'metric_period' is ignored for evaluation metric.\n"
     ]
    },
    {
     "name": "stdout",
     "output_type": "stream",
     "text": [
      "0:\tlearn: 236105.1223542\ttest: 236105.1223542\ttest1: 238564.5198497\tbest: 238564.5198497 (0)\ttotal: 11.8ms\tremaining: 47.3s\n",
      "100:\tlearn: 81722.3870182\ttest: 81722.3870182\ttest1: 89406.5841323\tbest: 89406.5841323 (100)\ttotal: 1.07s\tremaining: 41.5s\n",
      "200:\tlearn: 70013.6154091\ttest: 70013.6154091\ttest1: 82401.1647666\tbest: 82401.1647666 (200)\ttotal: 2.12s\tremaining: 40s\n",
      "300:\tlearn: 62441.2783900\ttest: 62441.2783900\ttest1: 79189.9138633\tbest: 79160.7214286 (299)\ttotal: 3.19s\tremaining: 39.2s\n",
      "400:\tlearn: 56863.6660462\ttest: 56863.6660462\ttest1: 77204.5976663\tbest: 77204.5976663 (400)\ttotal: 4.27s\tremaining: 38.3s\n",
      "500:\tlearn: 52129.7067158\ttest: 52129.7067158\ttest1: 75802.3505545\tbest: 75778.4036260 (497)\ttotal: 5.37s\tremaining: 37.5s\n",
      "600:\tlearn: 48572.5404094\ttest: 48572.5404094\ttest1: 74599.5851764\tbest: 74599.5851764 (600)\ttotal: 6.46s\tremaining: 36.6s\n",
      "700:\tlearn: 45612.0646393\ttest: 45612.0646393\ttest1: 73987.0242724\tbest: 73976.5231701 (699)\ttotal: 7.56s\tremaining: 35.6s\n",
      "800:\tlearn: 43185.2857696\ttest: 43185.2857696\ttest1: 73750.0831691\tbest: 73738.3934252 (754)\ttotal: 8.68s\tremaining: 34.7s\n",
      "900:\tlearn: 40850.2849058\ttest: 40850.2849058\ttest1: 72889.8199518\tbest: 72889.8199518 (900)\ttotal: 9.76s\tremaining: 33.6s\n",
      "1000:\tlearn: 38877.1635169\ttest: 38877.1635169\ttest1: 72500.3409702\tbest: 72491.4575883 (998)\ttotal: 10.8s\tremaining: 32.5s\n",
      "1100:\tlearn: 37156.0703252\ttest: 37156.0703252\ttest1: 72151.4105242\tbest: 72151.4105242 (1100)\ttotal: 11.9s\tremaining: 31.4s\n",
      "1200:\tlearn: 35587.6006831\ttest: 35587.6006831\ttest1: 71867.3281470\tbest: 71867.3281470 (1200)\ttotal: 13s\tremaining: 30.3s\n",
      "1300:\tlearn: 34008.8528487\ttest: 34008.8528487\ttest1: 71717.3923262\tbest: 71703.6374279 (1297)\ttotal: 14.3s\tremaining: 29.6s\n",
      "1400:\tlearn: 32715.8739814\ttest: 32715.8739814\ttest1: 71587.1378523\tbest: 71578.9614692 (1369)\ttotal: 15.3s\tremaining: 28.4s\n",
      "1500:\tlearn: 31374.3515620\ttest: 31374.3515620\ttest1: 71565.4268108\tbest: 71471.8726348 (1443)\ttotal: 16.4s\tremaining: 27.3s\n",
      "1600:\tlearn: 30182.8318528\ttest: 30182.8318528\ttest1: 71357.7459466\tbest: 71336.2406472 (1592)\ttotal: 17.5s\tremaining: 26.2s\n",
      "1700:\tlearn: 29128.8934111\ttest: 29128.8934111\ttest1: 71180.4531272\tbest: 71180.4531272 (1700)\ttotal: 18.8s\tremaining: 25.4s\n",
      "1800:\tlearn: 28165.7625816\ttest: 28165.7625816\ttest1: 71110.3760452\tbest: 71071.9067463 (1749)\ttotal: 20.1s\tremaining: 24.6s\n",
      "1900:\tlearn: 27309.9525718\ttest: 27309.9525718\ttest1: 71053.1917508\tbest: 71044.2294860 (1882)\ttotal: 21.3s\tremaining: 23.6s\n",
      "2000:\tlearn: 26594.2757107\ttest: 26594.2757107\ttest1: 70983.7183857\tbest: 70981.7793891 (1999)\ttotal: 22.5s\tremaining: 22.5s\n",
      "2100:\tlearn: 25898.6214279\ttest: 25898.6214279\ttest1: 70956.4090395\tbest: 70951.4358776 (2027)\ttotal: 23.7s\tremaining: 21.4s\n",
      "2200:\tlearn: 25238.1015928\ttest: 25238.1015928\ttest1: 70836.3467393\tbest: 70836.3467393 (2200)\ttotal: 24.8s\tremaining: 20.3s\n",
      "2300:\tlearn: 24654.5832467\ttest: 24654.5832467\ttest1: 70762.5341260\tbest: 70729.7633403 (2275)\ttotal: 26s\tremaining: 19.2s\n",
      "2400:\tlearn: 24102.8981646\ttest: 24102.8981646\ttest1: 70771.8678422\tbest: 70729.7633403 (2275)\ttotal: 27.1s\tremaining: 18s\n",
      "2500:\tlearn: 23619.3294147\ttest: 23619.3294147\ttest1: 70739.6419804\tbest: 70721.4897281 (2453)\ttotal: 28.1s\tremaining: 16.9s\n",
      "2600:\tlearn: 23067.1327228\ttest: 23067.1327228\ttest1: 70735.5021908\tbest: 70671.9200442 (2571)\ttotal: 29.2s\tremaining: 15.7s\n",
      "2700:\tlearn: 22595.2033627\ttest: 22595.2033627\ttest1: 70714.2043331\tbest: 70671.9200442 (2571)\ttotal: 30.4s\tremaining: 14.6s\n",
      "2800:\tlearn: 22190.4977775\ttest: 22190.4977775\ttest1: 70672.3901384\tbest: 70645.4507396 (2733)\ttotal: 31.4s\tremaining: 13.5s\n",
      "2900:\tlearn: 21842.2658060\ttest: 21842.2658060\ttest1: 70653.4807476\tbest: 70645.4507396 (2733)\ttotal: 32.5s\tremaining: 12.3s\n",
      "3000:\tlearn: 21511.4837927\ttest: 21511.4837927\ttest1: 70618.4517075\tbest: 70614.9392119 (2985)\ttotal: 33.5s\tremaining: 11.2s\n",
      "3100:\tlearn: 21165.4238963\ttest: 21165.4238963\ttest1: 70629.3141839\tbest: 70592.6264236 (3072)\ttotal: 34.6s\tremaining: 10s\n",
      "3200:\tlearn: 20853.7660100\ttest: 20853.7660100\ttest1: 70638.1465099\tbest: 70592.6264236 (3072)\ttotal: 35.7s\tremaining: 8.9s\n",
      "Stopped by overfitting detector  (200 iterations wait)\n",
      "\n",
      "bestTest = 70592.62642\n",
      "bestIteration = 3072\n",
      "\n",
      "Shrink model to first 3073 iterations.\n",
      "RMSE:  70592.62642363018\n"
     ]
    },
    {
     "name": "stderr",
     "output_type": "stream",
     "text": [
      "Warning: Overfitting detector is active, thus evaluation metric is calculated on every iteration. 'metric_period' is ignored for evaluation metric.\n"
     ]
    },
    {
     "name": "stdout",
     "output_type": "stream",
     "text": [
      "0:\tlearn: 235472.3169653\ttest: 235472.3169653\ttest1: 239219.5894382\tbest: 239219.5894382 (0)\ttotal: 11.5ms\tremaining: 46s\n",
      "100:\tlearn: 81978.6608700\ttest: 81978.6608700\ttest1: 89855.1350014\tbest: 89855.1350014 (100)\ttotal: 1.06s\tremaining: 41s\n",
      "200:\tlearn: 70021.9540204\ttest: 70021.9540204\ttest1: 82194.4795022\tbest: 82194.4795022 (200)\ttotal: 2.12s\tremaining: 40s\n",
      "300:\tlearn: 62055.9124514\ttest: 62055.9124514\ttest1: 77626.4277576\tbest: 77626.4277576 (300)\ttotal: 3.18s\tremaining: 39.1s\n",
      "400:\tlearn: 56349.1499083\ttest: 56349.1499083\ttest1: 75326.8170398\tbest: 75326.8170398 (400)\ttotal: 4.25s\tremaining: 38.2s\n",
      "500:\tlearn: 52018.1487471\ttest: 52018.1487471\ttest1: 73228.3623283\tbest: 73206.5674433 (495)\ttotal: 5.37s\tremaining: 37.5s\n",
      "600:\tlearn: 48590.7210462\ttest: 48590.7210462\ttest1: 72224.6163246\tbest: 72224.6163246 (600)\ttotal: 6.44s\tremaining: 36.4s\n",
      "700:\tlearn: 45655.4566522\ttest: 45655.4566522\ttest1: 71404.1927563\tbest: 71404.1927563 (700)\ttotal: 7.49s\tremaining: 35.2s\n",
      "800:\tlearn: 43012.8289045\ttest: 43012.8289045\ttest1: 70765.5595986\tbest: 70762.5040810 (799)\ttotal: 8.71s\tremaining: 34.8s\n",
      "900:\tlearn: 40615.0316057\ttest: 40615.0316057\ttest1: 70286.2831106\tbest: 70236.7801650 (892)\ttotal: 9.79s\tremaining: 33.7s\n",
      "1000:\tlearn: 38482.2024656\ttest: 38482.2024656\ttest1: 69678.3642027\tbest: 69678.3642027 (1000)\ttotal: 10.9s\tremaining: 32.6s\n",
      "1100:\tlearn: 36588.9361870\ttest: 36588.9361870\ttest1: 69486.3608227\tbest: 69486.3608227 (1100)\ttotal: 11.9s\tremaining: 31.4s\n",
      "1200:\tlearn: 35037.7216534\ttest: 35037.7216534\ttest1: 69112.4646587\tbest: 69108.9985927 (1194)\ttotal: 13s\tremaining: 30.3s\n",
      "1300:\tlearn: 33494.2064879\ttest: 33494.2064879\ttest1: 68749.5104447\tbest: 68743.6696459 (1297)\ttotal: 14.1s\tremaining: 29.2s\n",
      "1400:\tlearn: 32262.0008376\ttest: 32262.0008376\ttest1: 68652.4859320\tbest: 68497.8537046 (1375)\ttotal: 15.4s\tremaining: 28.6s\n",
      "1500:\tlearn: 31034.0769596\ttest: 31034.0769596\ttest1: 68550.5270620\tbest: 68497.8537046 (1375)\ttotal: 16.6s\tremaining: 27.6s\n",
      "Stopped by overfitting detector  (200 iterations wait)\n",
      "\n",
      "bestTest = 68497.8537\n",
      "bestIteration = 1375\n",
      "\n",
      "Shrink model to first 1376 iterations.\n",
      "RMSE:  68497.85370461519\n"
     ]
    },
    {
     "name": "stderr",
     "output_type": "stream",
     "text": [
      "Warning: Overfitting detector is active, thus evaluation metric is calculated on every iteration. 'metric_period' is ignored for evaluation metric.\n"
     ]
    },
    {
     "name": "stdout",
     "output_type": "stream",
     "text": [
      "0:\tlearn: 236375.8114720\ttest: 236375.8114720\ttest1: 235017.6484730\tbest: 235017.6484730 (0)\ttotal: 13ms\tremaining: 52s\n",
      "100:\tlearn: 81337.0819726\ttest: 81337.0819726\ttest1: 93818.7750337\tbest: 93818.7750337 (100)\ttotal: 1.05s\tremaining: 40.7s\n",
      "200:\tlearn: 69551.7520878\ttest: 69551.7520878\ttest1: 87338.3463548\tbest: 87338.3463548 (200)\ttotal: 2.09s\tremaining: 39.5s\n",
      "300:\tlearn: 61588.1702716\ttest: 61588.1702716\ttest1: 83207.9655147\tbest: 83207.9655147 (300)\ttotal: 3.15s\tremaining: 38.7s\n",
      "400:\tlearn: 56017.1250966\ttest: 56017.1250966\ttest1: 80992.0351242\tbest: 80992.0351242 (400)\ttotal: 4.23s\tremaining: 37.9s\n",
      "500:\tlearn: 51577.7787451\ttest: 51577.7787451\ttest1: 80145.3836293\tbest: 80144.2763882 (499)\ttotal: 5.28s\tremaining: 36.9s\n",
      "600:\tlearn: 48024.0510162\ttest: 48024.0510162\ttest1: 79463.6303716\tbest: 79463.6303716 (600)\ttotal: 6.34s\tremaining: 35.9s\n",
      "700:\tlearn: 44887.8498109\ttest: 44887.8498109\ttest1: 78871.6622863\tbest: 78824.7618870 (698)\ttotal: 7.41s\tremaining: 34.9s\n",
      "800:\tlearn: 42332.9352249\ttest: 42332.9352249\ttest1: 78380.1408026\tbest: 78380.1408026 (800)\ttotal: 8.5s\tremaining: 33.9s\n",
      "900:\tlearn: 40070.9765158\ttest: 40070.9765158\ttest1: 77884.1128898\tbest: 77876.3260884 (881)\ttotal: 9.61s\tremaining: 33.1s\n",
      "1000:\tlearn: 37951.2287773\ttest: 37951.2287773\ttest1: 77616.8828057\tbest: 77616.8828057 (1000)\ttotal: 10.7s\tremaining: 32s\n",
      "1100:\tlearn: 36202.7812971\ttest: 36202.7812971\ttest1: 77328.3535407\tbest: 77239.2878816 (1078)\ttotal: 11.8s\tremaining: 31s\n",
      "1200:\tlearn: 34401.2682573\ttest: 34401.2682573\ttest1: 76993.4570853\tbest: 76993.4570853 (1200)\ttotal: 12.8s\tremaining: 29.9s\n",
      "1300:\tlearn: 32936.6378567\ttest: 32936.6378567\ttest1: 76641.6620949\tbest: 76634.9736143 (1298)\ttotal: 13.9s\tremaining: 28.9s\n",
      "1400:\tlearn: 31580.6233533\ttest: 31580.6233533\ttest1: 76575.5683400\tbest: 76517.5355914 (1368)\ttotal: 15s\tremaining: 27.8s\n",
      "1500:\tlearn: 30354.5005808\ttest: 30354.5005808\ttest1: 76600.0091501\tbest: 76517.5355914 (1368)\ttotal: 16.1s\tremaining: 26.8s\n",
      "Stopped by overfitting detector  (200 iterations wait)\n",
      "\n",
      "bestTest = 76517.53559\n",
      "bestIteration = 1368\n",
      "\n",
      "Shrink model to first 1369 iterations.\n",
      "RMSE:  76517.53559138592\n"
     ]
    },
    {
     "name": "stderr",
     "output_type": "stream",
     "text": [
      "Warning: Overfitting detector is active, thus evaluation metric is calculated on every iteration. 'metric_period' is ignored for evaluation metric.\n"
     ]
    },
    {
     "name": "stdout",
     "output_type": "stream",
     "text": [
      "0:\tlearn: 236709.7980411\ttest: 236709.7980411\ttest1: 232169.6788499\tbest: 232169.6788499 (0)\ttotal: 12.8ms\tremaining: 51.2s\n",
      "100:\tlearn: 81491.1791923\ttest: 81491.1791923\ttest1: 92826.2622583\tbest: 92808.4759473 (99)\ttotal: 1.09s\tremaining: 42.2s\n",
      "200:\tlearn: 69271.0538452\ttest: 69271.0538452\ttest1: 88330.3990722\tbest: 88309.3743663 (197)\ttotal: 2.18s\tremaining: 41.2s\n",
      "300:\tlearn: 61356.5286880\ttest: 61356.5286880\ttest1: 86547.2105655\tbest: 86547.2105655 (300)\ttotal: 3.4s\tremaining: 41.7s\n",
      "400:\tlearn: 55843.5985570\ttest: 55843.5985570\ttest1: 85046.3848050\tbest: 85046.3848050 (400)\ttotal: 4.79s\tremaining: 43s\n",
      "500:\tlearn: 51381.0885076\ttest: 51381.0885076\ttest1: 84315.3807716\tbest: 84296.9326651 (496)\ttotal: 5.99s\tremaining: 41.8s\n",
      "600:\tlearn: 47804.2101354\ttest: 47804.2101354\ttest1: 84006.0636354\tbest: 83986.7682463 (598)\ttotal: 7.08s\tremaining: 40.1s\n",
      "700:\tlearn: 44800.5723412\ttest: 44800.5723412\ttest1: 83218.5623412\tbest: 83185.4261520 (697)\ttotal: 8.15s\tremaining: 38.4s\n",
      "800:\tlearn: 42262.8873069\ttest: 42262.8873069\ttest1: 82896.6163301\tbest: 82896.6163301 (800)\ttotal: 9.25s\tremaining: 36.9s\n",
      "900:\tlearn: 39822.1186098\ttest: 39822.1186098\ttest1: 82398.0816492\tbest: 82398.0816492 (900)\ttotal: 10.3s\tremaining: 35.6s\n",
      "1000:\tlearn: 37869.1128075\ttest: 37869.1128075\ttest1: 82214.6252880\tbest: 82149.6808281 (973)\ttotal: 11.4s\tremaining: 34.3s\n",
      "1100:\tlearn: 35911.4055405\ttest: 35911.4055405\ttest1: 81932.3969470\tbest: 81932.3969470 (1100)\ttotal: 12.5s\tremaining: 33s\n",
      "1200:\tlearn: 34260.7932489\ttest: 34260.7932489\ttest1: 81813.7778273\tbest: 81810.8592515 (1199)\ttotal: 13.7s\tremaining: 32s\n",
      "1300:\tlearn: 32786.7316010\ttest: 32786.7316010\ttest1: 81656.2006868\tbest: 81632.9926042 (1283)\ttotal: 15s\tremaining: 31.2s\n",
      "1400:\tlearn: 31545.6223880\ttest: 31545.6223880\ttest1: 81634.0633044\tbest: 81617.3480094 (1388)\ttotal: 16.1s\tremaining: 29.9s\n",
      "1500:\tlearn: 30290.2469587\ttest: 30290.2469587\ttest1: 81659.9877599\tbest: 81604.8122385 (1409)\ttotal: 17.2s\tremaining: 28.7s\n",
      "1600:\tlearn: 29056.0687665\ttest: 29056.0687665\ttest1: 81632.7176054\tbest: 81603.5176323 (1583)\ttotal: 18.3s\tremaining: 27.5s\n",
      "1700:\tlearn: 28108.7084296\ttest: 28108.7084296\ttest1: 81742.5128707\tbest: 81595.4853310 (1610)\ttotal: 19.4s\tremaining: 26.2s\n",
      "1800:\tlearn: 27155.8813574\ttest: 27155.8813574\ttest1: 81764.7329902\tbest: 81595.4853310 (1610)\ttotal: 20.5s\tremaining: 25s\n",
      "Stopped by overfitting detector  (200 iterations wait)\n",
      "\n",
      "bestTest = 81595.48533\n",
      "bestIteration = 1610\n",
      "\n",
      "Shrink model to first 1611 iterations.\n",
      "RMSE:  81595.48533095705\n"
     ]
    },
    {
     "data": {
      "text/plain": [
       "73039.65976136636"
      ]
     },
     "execution_count": 262,
     "metadata": {},
     "output_type": "execute_result"
    }
   ],
   "source": [
    "errcb2=[]\n",
    "y_pred_totcb2=[]\n",
    "fold=StratifiedKFold(n_splits = 10)\n",
    "i=1\n",
    "for train_index, test_index in fold.split(X,y):\n",
    "    X_train, X_test = X.iloc[train_index], X.iloc[test_index]\n",
    "    y_train, y_test = y.iloc[train_index], y.iloc[test_index]\n",
    "    m2  = CatBoostRegressor(n_estimators = 4000, eval_metric = 'RMSE', od_wait = 200, learning_rate = 0.1,\n",
    "                              bootstrap_type = 'Bernoulli' ,metric_period = 100, max_depth = 8,\n",
    "                             use_best_model = True)\n",
    "    m2.fit(X_train,y_train,eval_set=[(X_train,y_train),(X_test, y_test)], early_stopping_rounds = 200, verbose = 100,)\n",
    "    preds=m2.predict(X_test)\n",
    "    print(\"RMSE: \", np.sqrt(mean_squared_error(y_test,preds)))\n",
    "    errcb2.append((np.sqrt(mean_squared_error(y_test,preds))))\n",
    "    #np.sqrt(mean_squared_error(y_test, lr_pred)\n",
    "    #p2 = m2.predict(df_test)\n",
    "    #y_pred_totcb2.append(p2)\n",
    "np.mean(errcb2)"
   ]
  },
  {
   "cell_type": "code",
   "execution_count": 263,
   "id": "1691030f",
   "metadata": {
    "execution": {
     "iopub.execute_input": "2022-04-11T20:40:30.008204Z",
     "iopub.status.busy": "2022-04-11T20:40:30.005808Z",
     "iopub.status.idle": "2022-04-11T20:40:30.495137Z",
     "shell.execute_reply": "2022-04-11T20:40:30.495649Z",
     "shell.execute_reply.started": "2022-04-11T19:51:59.356312Z"
    },
    "papermill": {
     "duration": 1.051514,
     "end_time": "2022-04-11T20:40:30.495836",
     "exception": false,
     "start_time": "2022-04-11T20:40:29.444322",
     "status": "completed"
    },
    "tags": []
   },
   "outputs": [
    {
     "data": {
      "image/png": "[encoded data removed]",
      "text/plain": [
       "<Figure size 1440x864 with 1 Axes>"
      ]
     },
     "metadata": {},
     "output_type": "display_data"
    }
   ],
   "source": [
    "feature_importance_df = pd.DataFrame(m2.feature_importances_, columns=['importance'])\n",
    "feature_importance_df['feature'] = X_train.columns\n",
    "\n",
    "plt.figure(figsize=(20, 12));\n",
    "sns.barplot(x=\"importance\", y=\"feature\", data=feature_importance_df.sort_values(by = ['importance'], ascending = False))\n",
    "plt.title('CatboostRegressor Features Importance');\n",
    "#plt.savefig('FeatureImportance.png')"
   ]
  },
  {
   "cell_type": "code",
   "execution_count": 264,
   "id": "37e703e6",
   "metadata": {
    "execution": {
     "iopub.execute_input": "2022-04-11T20:40:31.532723Z",
     "iopub.status.busy": "2022-04-11T20:40:31.531904Z",
     "iopub.status.idle": "2022-04-11T20:40:31.534859Z",
     "shell.execute_reply": "2022-04-11T20:40:31.534303Z",
     "shell.execute_reply.started": "2022-04-11T19:52:19.060746Z"
    },
    "papermill": {
     "duration": 0.519783,
     "end_time": "2022-04-11T20:40:31.535009",
     "exception": false,
     "start_time": "2022-04-11T20:40:31.015226",
     "status": "completed"
    },
    "tags": []
   },
   "outputs": [],
   "source": [
    "metric = make_scorer(mean_squared_error, greater_is_better = True)"
   ]
  },
  {
   "cell_type": "code",
   "execution_count": 265,
   "id": "5dfebba0",
   "metadata": {
    "execution": {
     "iopub.execute_input": "2022-04-11T20:40:32.602165Z",
     "iopub.status.busy": "2022-04-11T20:40:32.599833Z",
     "iopub.status.idle": "2022-04-11T20:49:28.826987Z",
     "shell.execute_reply": "2022-04-11T20:49:28.827904Z",
     "shell.execute_reply.started": "2022-04-11T19:52:21.365973Z"
    },
    "papermill": {
     "duration": 536.780737,
     "end_time": "2022-04-11T20:49:28.828449",
     "exception": false,
     "start_time": "2022-04-11T20:40:32.047712",
     "status": "completed"
    },
    "tags": []
   },
   "outputs": [],
   "source": [
    "gbr_cv = cross_val_score(gbr, X, y, scoring = metric, cv = 5)\n",
    "gbr_cv = [np.around(i, decimals=3) for i in gbr_cv]\n",
    "\n",
    "rfr_cv = cross_val_score(rfr, X, y, scoring = metric, cv = 5)\n",
    "rfr_cv = [np.around(i, decimals=3) for i in rfr_cv]\n",
    "\n",
    "lr_cv = cross_val_score(lr, X, y, scoring = metric, cv = 5)\n",
    "lr_cv = [np.around(i, decimals=3) for i in lr_cv]\n",
    "\n",
    "ctb_cv = cross_val_score(ctb, X, y, scoring = metric, cv = 5)\n",
    "ctb_cv = [np.around(i, decimals=3) for i in ctb_cv]\n",
    "\n",
    "\n",
    "xgb_cv = cross_val_score(xgb, X, y, scoring = metric, cv = 5)\n",
    "xgb_cv = [np.around(i, decimals=3) for i in xgb_cv]\n",
    "\n",
    "lgb_cv = cross_val_score(lgb, X, y, scoring = metric, cv = 5)\n",
    "lgb_cv = [np.around(i, decimals=3) for i in lgb_cv]"
   ]
  },
  {
   "cell_type": "code",
   "execution_count": 266,
   "id": "a65038b5",
   "metadata": {
    "execution": {
     "iopub.execute_input": "2022-04-11T20:49:29.872991Z",
     "iopub.status.busy": "2022-04-11T20:49:29.872222Z",
     "iopub.status.idle": "2022-04-11T20:49:29.874161Z",
     "shell.execute_reply": "2022-04-11T20:49:29.874950Z",
     "shell.execute_reply.started": "2022-04-11T20:00:56.473204Z"
    },
    "papermill": {
     "duration": 0.523218,
     "end_time": "2022-04-11T20:49:29.875171",
     "exception": false,
     "start_time": "2022-04-11T20:49:29.351953",
     "status": "completed"
    },
    "tags": []
   },
   "outputs": [],
   "source": [
    "gbr_cv1 = np.sqrt(gbr_cv)\n",
    "rfr_cv1 = np.sqrt(rfr_cv)\n",
    "lr_cv1 = np.sqrt(lr_cv)\n",
    "xgb_cv1 = np.sqrt(xgb_cv)\n",
    "ctb_cv1 = np.sqrt(ctb_cv)\n",
    "lgb_cv1 = np.sqrt(lgb_cv)"
   ]
  },
  {
   "cell_type": "code",
   "execution_count": 267,
   "id": "37437d3e",
   "metadata": {
    "execution": {
     "iopub.execute_input": "2022-04-11T20:49:30.911256Z",
     "iopub.status.busy": "2022-04-11T20:49:30.910331Z",
     "iopub.status.idle": "2022-04-11T20:49:30.917321Z",
     "shell.execute_reply": "2022-04-11T20:49:30.917912Z",
     "shell.execute_reply.started": "2022-04-11T20:00:56.479614Z"
    },
    "papermill": {
     "duration": 0.526054,
     "end_time": "2022-04-11T20:49:30.918101",
     "exception": false,
     "start_time": "2022-04-11T20:49:30.392047",
     "status": "completed"
    },
    "tags": []
   },
   "outputs": [],
   "source": [
    "gbr_cv1 = [np.around(i, decimals=3) for i in gbr_cv1]\n",
    "rfr_cv1 = [np.around(i, decimals=3) for i in rfr_cv1]\n",
    "lr_cv1 = [np.around(i, decimals=3) for i in lr_cv1]\n",
    "xgb_cv1 = [np.around(i, decimals=3) for i in xgb_cv1]\n",
    "ctb_cv1 = [np.around(i, decimals=3) for i in ctb_cv1]\n",
    "lgb_cv1 = [np.around(i, decimals=3) for i in lgb_cv1]"
   ]
  },
  {
   "cell_type": "code",
   "execution_count": 268,
   "id": "0af94f30",
   "metadata": {
    "execution": {
     "iopub.execute_input": "2022-04-11T20:49:31.966258Z",
     "iopub.status.busy": "2022-04-11T20:49:31.965598Z",
     "iopub.status.idle": "2022-04-11T20:49:31.985382Z",
     "shell.execute_reply": "2022-04-11T20:49:31.986069Z",
     "shell.execute_reply.started": "2022-04-11T20:03:00.089342Z"
    },
    "papermill": {
     "duration": 0.557387,
     "end_time": "2022-04-11T20:49:31.986254",
     "exception": false,
     "start_time": "2022-04-11T20:49:31.428867",
     "status": "completed"
    },
    "tags": []
   },
   "outputs": [
    {
     "data": {
      "text/html": [
       "<div>\n",
       "<style scoped>\n",
       "    .dataframe tbody tr th:only-of-type {\n",
       "        vertical-align: middle;\n",
       "    }\n",
       "\n",
       "    .dataframe tbody tr th {\n",
       "        vertical-align: top;\n",
       "    }\n",
       "\n",
       "    .dataframe thead th {\n",
       "        text-align: right;\n",
       "    }\n",
       "</style>\n",
       "<table border=\"1\" class=\"dataframe\">\n",
       "  <thead>\n",
       "    <tr style=\"text-align: right;\">\n",
       "      <th></th>\n",
       "      <th>Algorithm</th>\n",
       "      <th>cv_score</th>\n",
       "      <th>cv_mean</th>\n",
       "      <th>cv_std</th>\n",
       "    </tr>\n",
       "  </thead>\n",
       "  <tbody>\n",
       "    <tr>\n",
       "      <th>0</th>\n",
       "      <td>GradientBoostingRegressor</td>\n",
       "      <td>[111912.626, 101113.564, 104664.318, 109069.06...</td>\n",
       "      <td>110001.85660</td>\n",
       "      <td>7583.11011</td>\n",
       "    </tr>\n",
       "    <tr>\n",
       "      <th>1</th>\n",
       "      <td>RandomForestRegressor</td>\n",
       "      <td>[86268.141, 63476.738, 76305.314, 71763.756, 1...</td>\n",
       "      <td>79844.84560</td>\n",
       "      <td>13054.30106</td>\n",
       "    </tr>\n",
       "    <tr>\n",
       "      <th>2</th>\n",
       "      <td>LogisticRegression</td>\n",
       "      <td>[151458.123, 147237.12, 149342.213, 151162.891...</td>\n",
       "      <td>153660.73960</td>\n",
       "      <td>7867.37027</td>\n",
       "    </tr>\n",
       "    <tr>\n",
       "      <th>3</th>\n",
       "      <td>XGBoost</td>\n",
       "      <td>[90529.03, 68974.05, 83280.902, 77331.841, 101...</td>\n",
       "      <td>84250.61940</td>\n",
       "      <td>11015.99712</td>\n",
       "    </tr>\n",
       "    <tr>\n",
       "      <th>4</th>\n",
       "      <td>CatBoost</td>\n",
       "      <td>[90118.303, 68887.301, 80007.394, 78210.095, 1...</td>\n",
       "      <td>83700.80940</td>\n",
       "      <td>11076.77752</td>\n",
       "    </tr>\n",
       "    <tr>\n",
       "      <th>5</th>\n",
       "      <td>LightGBM</td>\n",
       "      <td>[86373.607, 65052.718, 77875.155, 74546.064, 1...</td>\n",
       "      <td>81426.41520</td>\n",
       "      <td>12886.43177</td>\n",
       "    </tr>\n",
       "  </tbody>\n",
       "</table>\n",
       "</div>"
      ],
      "text/plain": [
       "                   Algorithm  \\\n",
       "0  GradientBoostingRegressor   \n",
       "1      RandomForestRegressor   \n",
       "2         LogisticRegression   \n",
       "3                    XGBoost   \n",
       "4                   CatBoost   \n",
       "5                   LightGBM   \n",
       "\n",
       "                                            cv_score      cv_mean      cv_std  \n",
       "0  [111912.626, 101113.564, 104664.318, 109069.06... 110001.85660  7583.11011  \n",
       "1  [86268.141, 63476.738, 76305.314, 71763.756, 1...  79844.84560 13054.30106  \n",
       "2  [151458.123, 147237.12, 149342.213, 151162.891... 153660.73960  7867.37027  \n",
       "3  [90529.03, 68974.05, 83280.902, 77331.841, 101...  84250.61940 11015.99712  \n",
       "4  [90118.303, 68887.301, 80007.394, 78210.095, 1...  83700.80940 11076.77752  \n",
       "5  [86373.607, 65052.718, 77875.155, 74546.064, 1...  81426.41520 12886.43177  "
      ]
     },
     "execution_count": 268,
     "metadata": {},
     "output_type": "execute_result"
    }
   ],
   "source": [
    "dict_ = {'Algorithm': ['GradientBoostingRegressor', 'RandomForestRegressor', 'LogisticRegression', 'XGBoost', 'CatBoost', 'LightGBM'], \n",
    "         'cv_score':[gbr_cv1, rfr_cv1, lr_cv1, xgb_cv1, ctb_cv1, lgb_cv1], \n",
    "         'cv_mean':[np.mean(gbr_cv1), np.mean(rfr_cv1), np.mean(lr_cv1), np.mean(xgb_cv1), np.mean(ctb_cv1), np.mean(lgb_cv1)], \n",
    "         'cv_std':[np.std(gbr_cv1), np.std(rfr_cv1), np.std(lr_cv1), np.std(xgb_cv1), np.std(ctb_cv1), np.std(lgb_cv1)]\n",
    "        }\n",
    "df = pd.DataFrame(dict_, index = [0,1,2,3,4,5])\n",
    "df"
   ]
  },
  {
   "cell_type": "markdown",
   "id": "452ab034",
   "metadata": {
    "papermill": {
     "duration": 0.60321,
     "end_time": "2022-04-11T20:49:33.093387",
     "exception": false,
     "start_time": "2022-04-11T20:49:32.490177",
     "status": "completed"
    },
    "tags": []
   },
   "source": [
    "## Pickling the Model"
   ]
  },
  {
   "cell_type": "code",
   "execution_count": 269,
   "id": "9bf83fdb",
   "metadata": {
    "execution": {
     "iopub.execute_input": "2022-04-11T20:49:34.275224Z",
     "iopub.status.busy": "2022-04-11T20:49:34.099171Z",
     "iopub.status.idle": "2022-04-11T20:49:35.286110Z",
     "shell.execute_reply": "2022-04-11T20:49:35.286708Z",
     "shell.execute_reply.started": "2022-04-11T20:07:12.427623Z"
    },
    "papermill": {
     "duration": 1.692187,
     "end_time": "2022-04-11T20:49:35.286915",
     "exception": false,
     "start_time": "2022-04-11T20:49:33.594728",
     "status": "completed"
    },
    "tags": []
   },
   "outputs": [],
   "source": [
    "import pickle\n",
    "\n",
    "# Save the trained model as a pickle string.\n",
    "saved_model = pickle.dumps(rfr)"
   ]
  },
  {
   "cell_type": "code",
   "execution_count": 270,
   "id": "50ff83bf",
   "metadata": {
    "execution": {
     "iopub.execute_input": "2022-04-11T20:49:36.302616Z",
     "iopub.status.busy": "2022-04-11T20:49:36.295611Z",
     "iopub.status.idle": "2022-04-11T20:49:37.733159Z",
     "shell.execute_reply": "2022-04-11T20:49:37.733657Z",
     "shell.execute_reply.started": "2022-04-11T20:08:04.346782Z"
    },
    "papermill": {
     "duration": 1.94477,
     "end_time": "2022-04-11T20:49:37.733838",
     "exception": false,
     "start_time": "2022-04-11T20:49:35.789068",
     "status": "completed"
    },
    "tags": []
   },
   "outputs": [
    {
     "data": {
      "text/plain": [
       "array([251930.        ,   4044.63      ,   3662.675     , ...,\n",
       "          872.87428571,   1797.        ,  90000.        ])"
      ]
     },
     "execution_count": 270,
     "metadata": {},
     "output_type": "execute_result"
    }
   ],
   "source": [
    "# Load the pickled model\n",
    "rfr_from_pickle = pickle.loads(saved_model)\n",
    "\n",
    "# Use the loaded pickled model to make predictions\n",
    "rfr_from_pickle.predict(X_test)"
   ]
  }
 ],
 "metadata": {
  "kernelspec": {
   "display_name": "Python 3",
   "language": "python",
   "name": "python3"
  },
  "language_info": {
   "codemirror_mode": {
    "name": "ipython",
    "version": 3
   },
   "file_extension": ".py",
   "mimetype": "text/x-python",
   "name": "python",
   "nbconvert_exporter": "python",
   "pygments_lexer": "ipython3",
   "version": "3.7.12"
  },
  "papermill": {
   "default_parameters": {},
   "duration": 1592.035974,
   "end_time": "2022-04-11T20:49:40.082066",
   "environment_variables": {},
   "exception": null,
   "input_path": "__notebook__.ipynb",
   "output_path": "__notebook__.ipynb",
   "parameters": {},
   "start_time": "2022-04-11T20:23:08.046092",
   "version": "2.3.3"
  }
 },
 "nbformat": 4,
 "nbformat_minor": 5
}
